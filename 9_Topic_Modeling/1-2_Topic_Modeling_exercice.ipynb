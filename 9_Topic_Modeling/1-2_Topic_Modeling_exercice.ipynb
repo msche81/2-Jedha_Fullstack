{
 "cells": [
  {
   "cell_type": "code",
   "execution_count": 1,
   "metadata": {},
   "outputs": [],
   "source": [
    "# import libraries\n",
    "import numpy as np\n",
    "import pandas as pd\n",
    "from sklearn.feature_extraction.text import TfidfVectorizer\n",
    "\n",
    "# TruncatedSVD from sklearn\n",
    "from sklearn.decomposition import TruncatedSVD\n",
    "import seaborn as sns"
   ]
  },
  {
   "cell_type": "code",
   "execution_count": 2,
   "metadata": {},
   "outputs": [
    {
     "data": {
      "text/html": [
       "<div>\n",
       "<style scoped>\n",
       "    .dataframe tbody tr th:only-of-type {\n",
       "        vertical-align: middle;\n",
       "    }\n",
       "\n",
       "    .dataframe tbody tr th {\n",
       "        vertical-align: top;\n",
       "    }\n",
       "\n",
       "    .dataframe thead th {\n",
       "        text-align: right;\n",
       "    }\n",
       "</style>\n",
       "<table border=\"1\" class=\"dataframe\">\n",
       "  <thead>\n",
       "    <tr style=\"text-align: right;\">\n",
       "      <th></th>\n",
       "      <th>documents</th>\n",
       "    </tr>\n",
       "  </thead>\n",
       "  <tbody>\n",
       "    <tr>\n",
       "      <th>0</th>\n",
       "      <td>He is a good dog</td>\n",
       "    </tr>\n",
       "    <tr>\n",
       "      <th>1</th>\n",
       "      <td>The dog is too lazy</td>\n",
       "    </tr>\n",
       "    <tr>\n",
       "      <th>2</th>\n",
       "      <td>That is a brown cat</td>\n",
       "    </tr>\n",
       "    <tr>\n",
       "      <th>3</th>\n",
       "      <td>Cats are very active</td>\n",
       "    </tr>\n",
       "    <tr>\n",
       "      <th>4</th>\n",
       "      <td>I have brown cat and dog</td>\n",
       "    </tr>\n",
       "  </tbody>\n",
       "</table>\n",
       "</div>"
      ],
      "text/plain": [
       "                  documents\n",
       "0          He is a good dog\n",
       "1       The dog is too lazy\n",
       "2       That is a brown cat\n",
       "3      Cats are very active\n",
       "4  I have brown cat and dog"
      ]
     },
     "execution_count": 2,
     "metadata": {},
     "output_type": "execute_result"
    }
   ],
   "source": [
    "# list of documents\n",
    "a1 = \"He is a good dog\"\n",
    "a2 = \"The dog is too lazy\"\n",
    "a3 = \"That is a brown cat\"\n",
    "a4 = \"Cats are very active\"\n",
    "a5 = \"I have brown cat and dog\"\n",
    "\n",
    "df = pd.DataFrame()\n",
    "df[\"documents\"] = [a1,a2,a3,a4,a5]\n",
    "df"
   ]
  },
  {
   "cell_type": "code",
   "execution_count": 3,
   "metadata": {},
   "outputs": [],
   "source": [
    "# import english\n",
    "import en_core_web_sm\n",
    "nlp = en_core_web_sm.load()"
   ]
  },
  {
   "cell_type": "code",
   "execution_count": 4,
   "metadata": {},
   "outputs": [
    {
     "data": {
      "text/html": [
       "<div>\n",
       "<style scoped>\n",
       "    .dataframe tbody tr th:only-of-type {\n",
       "        vertical-align: middle;\n",
       "    }\n",
       "\n",
       "    .dataframe tbody tr th {\n",
       "        vertical-align: top;\n",
       "    }\n",
       "\n",
       "    .dataframe thead th {\n",
       "        text-align: right;\n",
       "    }\n",
       "</style>\n",
       "<table border=\"1\" class=\"dataframe\">\n",
       "  <thead>\n",
       "    <tr style=\"text-align: right;\">\n",
       "      <th></th>\n",
       "      <th>documents</th>\n",
       "      <th>clean_documents</th>\n",
       "    </tr>\n",
       "  </thead>\n",
       "  <tbody>\n",
       "    <tr>\n",
       "      <th>0</th>\n",
       "      <td>He is a good dog</td>\n",
       "      <td>he is a good dog</td>\n",
       "    </tr>\n",
       "    <tr>\n",
       "      <th>1</th>\n",
       "      <td>The dog is too lazy</td>\n",
       "      <td>the dog is too lazy</td>\n",
       "    </tr>\n",
       "    <tr>\n",
       "      <th>2</th>\n",
       "      <td>That is a brown cat</td>\n",
       "      <td>that is a brown cat</td>\n",
       "    </tr>\n",
       "    <tr>\n",
       "      <th>3</th>\n",
       "      <td>Cats are very active</td>\n",
       "      <td>cats are very active</td>\n",
       "    </tr>\n",
       "    <tr>\n",
       "      <th>4</th>\n",
       "      <td>I have brown cat and dog</td>\n",
       "      <td>i have brown cat and dog</td>\n",
       "    </tr>\n",
       "  </tbody>\n",
       "</table>\n",
       "</div>"
      ],
      "text/plain": [
       "                  documents           clean_documents\n",
       "0          He is a good dog          he is a good dog\n",
       "1       The dog is too lazy       the dog is too lazy\n",
       "2       That is a brown cat       that is a brown cat\n",
       "3      Cats are very active      cats are very active\n",
       "4  I have brown cat and dog  i have brown cat and dog"
      ]
     },
     "execution_count": 4,
     "metadata": {},
     "output_type": "execute_result"
    }
   ],
   "source": [
    "# nettoyer la base de données\n",
    "# enlever la ponctuation\n",
    "df[\"clean_documents\"] = df[\"documents\"].str.replace(r\"[^A-Za-z0-9]+\",\" \")\n",
    "# passer en lower case\n",
    "df[\"clean_documents\"] = df[\"clean_documents\"].fillna('').apply(lambda x: x.lower())\n",
    "df"
   ]
  },
  {
   "cell_type": "code",
   "execution_count": 5,
   "metadata": {},
   "outputs": [],
   "source": [
    "# tokeniser chaque document: décomposer un texte brut en unités plus petites appelées tokens. Ces tokens peuvent être des mots, des phrases, ou même des caractères, selon les besoins de l’analyse.\n",
    "    # Préparer les données pour le traitement\n",
    "    # Isoler les unités significatives\n",
    "    # Réduction de la complexité\n",
    "    # Étape préalable à d’autres traitements\n",
    "        # Lemmatisation (réduction des mots à leur forme de base)\n",
    "        # Suppression des mots vides (stop words)\n",
    "        # Analyse de la fréquence des mots\n",
    "        # Création de représentations vectorielles (TF-IDF, Word2Vec, etc.)"
   ]
  },
  {
   "cell_type": "code",
   "execution_count": 6,
   "metadata": {},
   "outputs": [],
   "source": [
    "# tokenisation\n",
    "tokenized_doc = df[\"clean_documents\"].fillna('').apply(lambda x: nlp(x))"
   ]
  },
  {
   "cell_type": "code",
   "execution_count": 7,
   "metadata": {},
   "outputs": [
    {
     "data": {
      "text/plain": [
       "0          [good, dog]\n",
       "1          [dog, lazy]\n",
       "2         [brown, cat]\n",
       "3        [cat, active]\n",
       "4    [brown, cat, dog]\n",
       "Name: clean_documents, dtype: object"
      ]
     },
     "execution_count": 7,
     "metadata": {},
     "output_type": "execute_result"
    }
   ],
   "source": [
    "# lemmatisation\n",
    "from spacy.lang.en.stop_words import STOP_WORDS\n",
    "\n",
    "# remove stop-words\n",
    "tokenized_doc = tokenized_doc.apply(lambda x: [token.lemma_ for token in x if token.text not in STOP_WORDS])\n",
    "tokenized_doc"
   ]
  },
  {
   "cell_type": "code",
   "execution_count": 8,
   "metadata": {},
   "outputs": [
    {
     "data": {
      "text/plain": [
       "'cat dog'"
      ]
     },
     "execution_count": 8,
     "metadata": {},
     "output_type": "execute_result"
    }
   ],
   "source": [
    "# scikitlearn: n'attend pas des listes de token pour pouvoir travailler\n",
    "# il attend pour chaque ligne une chaine de caractères qui contient le tout => il faut detokeniser\n",
    "\n",
    "# faire appel à la méthode join\n",
    "# exemple:\n",
    "\n",
    "l = [\"cat\",\"dog\"]\n",
    "' '.join(l)"
   ]
  },
  {
   "cell_type": "code",
   "execution_count": 9,
   "metadata": {},
   "outputs": [
    {
     "data": {
      "text/html": [
       "<div>\n",
       "<style scoped>\n",
       "    .dataframe tbody tr th:only-of-type {\n",
       "        vertical-align: middle;\n",
       "    }\n",
       "\n",
       "    .dataframe tbody tr th {\n",
       "        vertical-align: top;\n",
       "    }\n",
       "\n",
       "    .dataframe thead th {\n",
       "        text-align: right;\n",
       "    }\n",
       "</style>\n",
       "<table border=\"1\" class=\"dataframe\">\n",
       "  <thead>\n",
       "    <tr style=\"text-align: right;\">\n",
       "      <th></th>\n",
       "      <th>documents</th>\n",
       "      <th>clean_documents</th>\n",
       "    </tr>\n",
       "  </thead>\n",
       "  <tbody>\n",
       "    <tr>\n",
       "      <th>0</th>\n",
       "      <td>He is a good dog</td>\n",
       "      <td>good dog</td>\n",
       "    </tr>\n",
       "    <tr>\n",
       "      <th>1</th>\n",
       "      <td>The dog is too lazy</td>\n",
       "      <td>dog lazy</td>\n",
       "    </tr>\n",
       "    <tr>\n",
       "      <th>2</th>\n",
       "      <td>That is a brown cat</td>\n",
       "      <td>brown cat</td>\n",
       "    </tr>\n",
       "    <tr>\n",
       "      <th>3</th>\n",
       "      <td>Cats are very active</td>\n",
       "      <td>cat active</td>\n",
       "    </tr>\n",
       "    <tr>\n",
       "      <th>4</th>\n",
       "      <td>I have brown cat and dog</td>\n",
       "      <td>brown cat dog</td>\n",
       "    </tr>\n",
       "  </tbody>\n",
       "</table>\n",
       "</div>"
      ],
      "text/plain": [
       "                  documents clean_documents\n",
       "0          He is a good dog        good dog\n",
       "1       The dog is too lazy        dog lazy\n",
       "2       That is a brown cat       brown cat\n",
       "3      Cats are very active      cat active\n",
       "4  I have brown cat and dog   brown cat dog"
      ]
     },
     "execution_count": 9,
     "metadata": {},
     "output_type": "execute_result"
    }
   ],
   "source": [
    "df[\"clean_documents\"] = tokenized_doc.apply(lambda x: ' '.join(x))\n",
    "df"
   ]
  },
  {
   "cell_type": "code",
   "execution_count": 10,
   "metadata": {},
   "outputs": [
    {
     "data": {
      "text/plain": [
       "array([[0.        , 0.        , 0.        , 0.55645052, 0.83088075,\n",
       "        0.        ],\n",
       "       [0.        , 0.        , 0.        , 0.55645052, 0.        ,\n",
       "        0.83088075],\n",
       "       [0.        , 0.76944707, 0.63871058, 0.        , 0.        ,\n",
       "        0.        ],\n",
       "       [0.83088075, 0.        , 0.55645052, 0.        , 0.        ,\n",
       "        0.        ],\n",
       "       [0.        , 0.64846263, 0.53828256, 0.53828256, 0.        ,\n",
       "        0.        ]])"
      ]
     },
     "execution_count": 10,
     "metadata": {},
     "output_type": "execute_result"
    }
   ],
   "source": [
    "# Désormais on a une chaine de caractères avec tous les mots\n",
    "# la colonne clean_documents est prête pour lancer un TFIDF\n",
    "\n",
    "# Création de représentations vectorielles TF-IDF\n",
    "\n",
    "# Déclarer une instance de la classe TF-IDF\n",
    "vectorizer = TfidfVectorizer(stop_words='english')\n",
    "# application de la représentation vectorielle\n",
    "X = vectorizer.fit_transform(df[\"clean_documents\"])\n",
    "# supprimer la densité de la matrice\n",
    "dense = X.toarray()\n",
    "dense"
   ]
  },
  {
   "cell_type": "code",
   "execution_count": 11,
   "metadata": {},
   "outputs": [
    {
     "data": {
      "text/plain": [
       "{'good': 4, 'dog': 3, 'lazy': 5, 'brown': 1, 'cat': 2, 'active': 0}"
      ]
     },
     "execution_count": 11,
     "metadata": {},
     "output_type": "execute_result"
    }
   ],
   "source": [
    "# 6 colonnes = le document contient 6 mots\n",
    "# savoir quel est le vocabulaire utilisé\n",
    "vectorizer.vocabulary_"
   ]
  },
  {
   "cell_type": "code",
   "execution_count": 12,
   "metadata": {},
   "outputs": [
    {
     "data": {
      "text/plain": [
       "array(['active', 'brown', 'cat', 'dog', 'good', 'lazy'], dtype=object)"
      ]
     },
     "execution_count": 12,
     "metadata": {},
     "output_type": "execute_result"
    }
   ],
   "source": [
    "# les chiffres sont les emplacements de la colonne\n",
    "\n",
    "# autre méthode = get.feature.name\n",
    "vectorizer.get_feature_names_out()\n",
    "# noms sont cette fois ci dans l'ordre des colonnes"
   ]
  },
  {
   "cell_type": "code",
   "execution_count": 13,
   "metadata": {},
   "outputs": [
    {
     "data": {
      "text/plain": [
       "array([[ 0.34138342,  0.71997811],\n",
       "       [ 0.34138342,  0.71997811],\n",
       "       [ 0.86094909, -0.36598366],\n",
       "       [ 0.5166659 , -0.38500462],\n",
       "       [ 0.94941174,  0.02363029]])"
      ]
     },
     "execution_count": 13,
     "metadata": {},
     "output_type": "execute_result"
    }
   ],
   "source": [
    "# on va pouvoir appliquer un algo trunkedSVD\n",
    "# n_components = nb de topics que l'on souhaite dégager\n",
    "\n",
    "# déclarer une instance de la classe SVD\n",
    "svd_model = TruncatedSVD(n_components=2, n_iter=100, random_state=0)\n",
    "# fit_transform sur la matrice x\n",
    "lsa = svd_model.fit_transform(X)\n",
    "lsa\n",
    "\n",
    "# 5 lignes 2 colonnes => matrice U = autant de lignes que de doc, autant de colonnes que de topics\n",
    "# 2ème ligne = représente le deuxieme document et 0.71997811 explique que ce document est plus lié au deuxième topic qu'au premier"
   ]
  },
  {
   "cell_type": "code",
   "execution_count": 14,
   "metadata": {},
   "outputs": [
    {
     "data": {
      "text/html": [
       "<div>\n",
       "<style scoped>\n",
       "    .dataframe tbody tr th:only-of-type {\n",
       "        vertical-align: middle;\n",
       "    }\n",
       "\n",
       "    .dataframe tbody tr th {\n",
       "        vertical-align: top;\n",
       "    }\n",
       "\n",
       "    .dataframe thead th {\n",
       "        text-align: right;\n",
       "    }\n",
       "</style>\n",
       "<table border=\"1\" class=\"dataframe\">\n",
       "  <thead>\n",
       "    <tr style=\"text-align: right;\">\n",
       "      <th></th>\n",
       "      <th>topic_1</th>\n",
       "      <th>topic_2</th>\n",
       "      <th>documents</th>\n",
       "    </tr>\n",
       "  </thead>\n",
       "  <tbody>\n",
       "    <tr>\n",
       "      <th>0</th>\n",
       "      <td>0.341383</td>\n",
       "      <td>0.719978</td>\n",
       "      <td>good dog</td>\n",
       "    </tr>\n",
       "    <tr>\n",
       "      <th>1</th>\n",
       "      <td>0.341383</td>\n",
       "      <td>0.719978</td>\n",
       "      <td>dog lazy</td>\n",
       "    </tr>\n",
       "    <tr>\n",
       "      <th>2</th>\n",
       "      <td>0.860949</td>\n",
       "      <td>-0.365984</td>\n",
       "      <td>brown cat</td>\n",
       "    </tr>\n",
       "    <tr>\n",
       "      <th>3</th>\n",
       "      <td>0.516666</td>\n",
       "      <td>-0.385005</td>\n",
       "      <td>cat active</td>\n",
       "    </tr>\n",
       "    <tr>\n",
       "      <th>4</th>\n",
       "      <td>0.949412</td>\n",
       "      <td>0.023630</td>\n",
       "      <td>brown cat dog</td>\n",
       "    </tr>\n",
       "  </tbody>\n",
       "</table>\n",
       "</div>"
      ],
      "text/plain": [
       "    topic_1   topic_2      documents\n",
       "0  0.341383  0.719978       good dog\n",
       "1  0.341383  0.719978       dog lazy\n",
       "2  0.860949 -0.365984      brown cat\n",
       "3  0.516666 -0.385005     cat active\n",
       "4  0.949412  0.023630  brown cat dog"
      ]
     },
     "execution_count": 14,
     "metadata": {},
     "output_type": "execute_result"
    }
   ],
   "source": [
    "# visualiser un point pour chaque docuement, x = valeur premier topic, y = valeur deuxieme topic\n",
    "\n",
    "# mettre dans un DF pour commencer\n",
    "topic_encoded_df = pd.DataFrame(lsa, columns= [\"topic_1\", \"topic_2\"])\n",
    "topic_encoded_df['documents'] = df['clean_documents']\n",
    "topic_encoded_df\n"
   ]
  },
  {
   "cell_type": "code",
   "execution_count": 15,
   "metadata": {},
   "outputs": [
    {
     "data": {
      "text/plain": [
       "<Axes: xlabel='topic_1', ylabel='topic_2'>"
      ]
     },
     "execution_count": 15,
     "metadata": {},
     "output_type": "execute_result"
    },
    {
     "data": {
      "image/png": "[encoded data removed]",
      "text/plain": [
       "<Figure size 640x480 with 1 Axes>"
      ]
     },
     "metadata": {},
     "output_type": "display_data"
    }
   ],
   "source": [
    "# faire un scatterplot\n",
    "sns.scatterplot(x='topic_1', y='topic_2', data=topic_encoded_df, hue='documents')"
   ]
  },
  {
   "cell_type": "code",
   "execution_count": 16,
   "metadata": {},
   "outputs": [],
   "source": [
    "# plus le point est proche des axes, plus le document est proche du topic\n",
    "# utiliser la distance cosinus pour vérifier l'espace entre l'axe et le point = permet de vérifier la proximité du point avec le topic\n",
    "# ici le topic 1 a l'air de pencher vers le mot chat"
   ]
  },
  {
   "cell_type": "code",
   "execution_count": null,
   "metadata": {},
   "outputs": [
    {
     "data": {
      "text/html": [
       "<div>\n",
       "<style scoped>\n",
       "    .dataframe tbody tr th:only-of-type {\n",
       "        vertical-align: middle;\n",
       "    }\n",
       "\n",
       "    .dataframe tbody tr th {\n",
       "        vertical-align: top;\n",
       "    }\n",
       "\n",
       "    .dataframe thead th {\n",
       "        text-align: right;\n",
       "    }\n",
       "</style>\n",
       "<table border=\"1\" class=\"dataframe\">\n",
       "  <thead>\n",
       "    <tr style=\"text-align: right;\">\n",
       "      <th></th>\n",
       "      <th>active</th>\n",
       "      <th>brown</th>\n",
       "      <th>cat</th>\n",
       "      <th>dog</th>\n",
       "      <th>good</th>\n",
       "      <th>lazy</th>\n",
       "    </tr>\n",
       "  </thead>\n",
       "  <tbody>\n",
       "    <tr>\n",
       "      <th>topic_1</th>\n",
       "      <td>0.200354</td>\n",
       "      <td>0.596512</td>\n",
       "      <td>0.629338</td>\n",
       "      <td>0.415831</td>\n",
       "      <td>0.132383</td>\n",
       "      <td>0.132383</td>\n",
       "    </tr>\n",
       "    <tr>\n",
       "      <th>topic_2</th>\n",
       "      <td>-0.242441</td>\n",
       "      <td>-0.201810</td>\n",
       "      <td>-0.329886</td>\n",
       "      <td>0.616903</td>\n",
       "      <td>0.453377</td>\n",
       "      <td>0.453377</td>\n",
       "    </tr>\n",
       "  </tbody>\n",
       "</table>\n",
       "</div>"
      ],
      "text/plain": [
       "           active     brown       cat       dog      good      lazy\n",
       "topic_1  0.200354  0.596512  0.629338  0.415831  0.132383  0.132383\n",
       "topic_2 -0.242441 -0.201810 -0.329886  0.616903  0.453377  0.453377"
      ]
     },
     "execution_count": 21,
     "metadata": {},
     "output_type": "execute_result"
    }
   ],
   "source": [
    "# identifier les coordonnées de chaque mot vs topic:\n",
    "topic = pd.DataFrame(svd_model.components_, index = ['topic_1', 'topic_2'], columns= vectorizer.get_feature_names_out())\n",
    "topic"
   ]
  },
  {
   "cell_type": "code",
   "execution_count": 22,
   "metadata": {},
   "outputs": [
    {
     "data": {
      "text/html": [
       "<div>\n",
       "<style scoped>\n",
       "    .dataframe tbody tr th:only-of-type {\n",
       "        vertical-align: middle;\n",
       "    }\n",
       "\n",
       "    .dataframe tbody tr th {\n",
       "        vertical-align: top;\n",
       "    }\n",
       "\n",
       "    .dataframe thead th {\n",
       "        text-align: right;\n",
       "    }\n",
       "</style>\n",
       "<table border=\"1\" class=\"dataframe\">\n",
       "  <thead>\n",
       "    <tr style=\"text-align: right;\">\n",
       "      <th></th>\n",
       "      <th>topic_1</th>\n",
       "      <th>topic_2</th>\n",
       "    </tr>\n",
       "  </thead>\n",
       "  <tbody>\n",
       "    <tr>\n",
       "      <th>active</th>\n",
       "      <td>0.200354</td>\n",
       "      <td>-0.242441</td>\n",
       "    </tr>\n",
       "    <tr>\n",
       "      <th>brown</th>\n",
       "      <td>0.596512</td>\n",
       "      <td>-0.201810</td>\n",
       "    </tr>\n",
       "    <tr>\n",
       "      <th>cat</th>\n",
       "      <td>0.629338</td>\n",
       "      <td>-0.329886</td>\n",
       "    </tr>\n",
       "    <tr>\n",
       "      <th>dog</th>\n",
       "      <td>0.415831</td>\n",
       "      <td>0.616903</td>\n",
       "    </tr>\n",
       "    <tr>\n",
       "      <th>good</th>\n",
       "      <td>0.132383</td>\n",
       "      <td>0.453377</td>\n",
       "    </tr>\n",
       "    <tr>\n",
       "      <th>lazy</th>\n",
       "      <td>0.132383</td>\n",
       "      <td>0.453377</td>\n",
       "    </tr>\n",
       "  </tbody>\n",
       "</table>\n",
       "</div>"
      ],
      "text/plain": [
       "         topic_1   topic_2\n",
       "active  0.200354 -0.242441\n",
       "brown   0.596512 -0.201810\n",
       "cat     0.629338 -0.329886\n",
       "dog     0.415831  0.616903\n",
       "good    0.132383  0.453377\n",
       "lazy    0.132383  0.453377"
      ]
     },
     "execution_count": 22,
     "metadata": {},
     "output_type": "execute_result"
    }
   ],
   "source": [
    "# pour faure le graph avec seaborn, il vaut mieux travailler avec la transposé de la matrice:\n",
    "topic_t = topic.transpose()\n",
    "topic_t"
   ]
  },
  {
   "cell_type": "code",
   "execution_count": 23,
   "metadata": {},
   "outputs": [
    {
     "data": {
      "text/html": [
       "<div>\n",
       "<style scoped>\n",
       "    .dataframe tbody tr th:only-of-type {\n",
       "        vertical-align: middle;\n",
       "    }\n",
       "\n",
       "    .dataframe tbody tr th {\n",
       "        vertical-align: top;\n",
       "    }\n",
       "\n",
       "    .dataframe thead th {\n",
       "        text-align: right;\n",
       "    }\n",
       "</style>\n",
       "<table border=\"1\" class=\"dataframe\">\n",
       "  <thead>\n",
       "    <tr style=\"text-align: right;\">\n",
       "      <th></th>\n",
       "      <th>index</th>\n",
       "      <th>topic_1</th>\n",
       "      <th>topic_2</th>\n",
       "    </tr>\n",
       "  </thead>\n",
       "  <tbody>\n",
       "    <tr>\n",
       "      <th>0</th>\n",
       "      <td>active</td>\n",
       "      <td>0.200354</td>\n",
       "      <td>-0.242441</td>\n",
       "    </tr>\n",
       "    <tr>\n",
       "      <th>1</th>\n",
       "      <td>brown</td>\n",
       "      <td>0.596512</td>\n",
       "      <td>-0.201810</td>\n",
       "    </tr>\n",
       "    <tr>\n",
       "      <th>2</th>\n",
       "      <td>cat</td>\n",
       "      <td>0.629338</td>\n",
       "      <td>-0.329886</td>\n",
       "    </tr>\n",
       "    <tr>\n",
       "      <th>3</th>\n",
       "      <td>dog</td>\n",
       "      <td>0.415831</td>\n",
       "      <td>0.616903</td>\n",
       "    </tr>\n",
       "    <tr>\n",
       "      <th>4</th>\n",
       "      <td>good</td>\n",
       "      <td>0.132383</td>\n",
       "      <td>0.453377</td>\n",
       "    </tr>\n",
       "    <tr>\n",
       "      <th>5</th>\n",
       "      <td>lazy</td>\n",
       "      <td>0.132383</td>\n",
       "      <td>0.453377</td>\n",
       "    </tr>\n",
       "  </tbody>\n",
       "</table>\n",
       "</div>"
      ],
      "text/plain": [
       "    index   topic_1   topic_2\n",
       "0  active  0.200354 -0.242441\n",
       "1   brown  0.596512 -0.201810\n",
       "2     cat  0.629338 -0.329886\n",
       "3     dog  0.415831  0.616903\n",
       "4    good  0.132383  0.453377\n",
       "5    lazy  0.132383  0.453377"
      ]
     },
     "execution_count": 23,
     "metadata": {},
     "output_type": "execute_result"
    }
   ],
   "source": [
    "# pour mettre les mots dans une colonne, on peut utiliser resent.index\n",
    "topic_t = topic_t.reset_index()\n",
    "topic_t"
   ]
  },
  {
   "cell_type": "code",
   "execution_count": 25,
   "metadata": {},
   "outputs": [
    {
     "data": {
      "text/html": [
       "<div>\n",
       "<style scoped>\n",
       "    .dataframe tbody tr th:only-of-type {\n",
       "        vertical-align: middle;\n",
       "    }\n",
       "\n",
       "    .dataframe tbody tr th {\n",
       "        vertical-align: top;\n",
       "    }\n",
       "\n",
       "    .dataframe thead th {\n",
       "        text-align: right;\n",
       "    }\n",
       "</style>\n",
       "<table border=\"1\" class=\"dataframe\">\n",
       "  <thead>\n",
       "    <tr style=\"text-align: right;\">\n",
       "      <th></th>\n",
       "      <th>word</th>\n",
       "      <th>topic_1</th>\n",
       "      <th>topic_2</th>\n",
       "    </tr>\n",
       "  </thead>\n",
       "  <tbody>\n",
       "    <tr>\n",
       "      <th>0</th>\n",
       "      <td>active</td>\n",
       "      <td>0.200354</td>\n",
       "      <td>-0.242441</td>\n",
       "    </tr>\n",
       "    <tr>\n",
       "      <th>1</th>\n",
       "      <td>brown</td>\n",
       "      <td>0.596512</td>\n",
       "      <td>-0.201810</td>\n",
       "    </tr>\n",
       "    <tr>\n",
       "      <th>2</th>\n",
       "      <td>cat</td>\n",
       "      <td>0.629338</td>\n",
       "      <td>-0.329886</td>\n",
       "    </tr>\n",
       "    <tr>\n",
       "      <th>3</th>\n",
       "      <td>dog</td>\n",
       "      <td>0.415831</td>\n",
       "      <td>0.616903</td>\n",
       "    </tr>\n",
       "    <tr>\n",
       "      <th>4</th>\n",
       "      <td>good</td>\n",
       "      <td>0.132383</td>\n",
       "      <td>0.453377</td>\n",
       "    </tr>\n",
       "    <tr>\n",
       "      <th>5</th>\n",
       "      <td>lazy</td>\n",
       "      <td>0.132383</td>\n",
       "      <td>0.453377</td>\n",
       "    </tr>\n",
       "  </tbody>\n",
       "</table>\n",
       "</div>"
      ],
      "text/plain": [
       "     word   topic_1   topic_2\n",
       "0  active  0.200354 -0.242441\n",
       "1   brown  0.596512 -0.201810\n",
       "2     cat  0.629338 -0.329886\n",
       "3     dog  0.415831  0.616903\n",
       "4    good  0.132383  0.453377\n",
       "5    lazy  0.132383  0.453377"
      ]
     },
     "execution_count": 25,
     "metadata": {},
     "output_type": "execute_result"
    }
   ],
   "source": [
    "# changer le nom de la colonne\n",
    "topic_t = topic_t.rename({'index':'word'}, axis = 1)\n",
    "topic_t"
   ]
  },
  {
   "cell_type": "code",
   "execution_count": 28,
   "metadata": {},
   "outputs": [
    {
     "data": {
      "text/plain": [
       "<Axes: xlabel='topic_1', ylabel='topic_2'>"
      ]
     },
     "execution_count": 28,
     "metadata": {},
     "output_type": "execute_result"
    },
    {
     "data": {
      "image/png": "[encoded data removed]",
      "text/plain": [
       "<Figure size 640x480 with 1 Axes>"
      ]
     },
     "metadata": {},
     "output_type": "display_data"
    }
   ],
   "source": [
    "sns.scatterplot(x='topic_1', y='topic_2', data = topic_t, hue = 'word')"
   ]
  },
  {
   "cell_type": "code",
   "execution_count": null,
   "metadata": {},
   "outputs": [],
   "source": []
  }
 ],
 "metadata": {
  "kernelspec": {
   "display_name": ".venv",
   "language": "python",
   "name": "python3"
  },
  "language_info": {
   "codemirror_mode": {
    "name": "ipython",
    "version": 3
   },
   "file_extension": ".py",
   "mimetype": "text/x-python",
   "name": "python",
   "nbconvert_exporter": "python",
   "pygments_lexer": "ipython3",
   "version": "3.12.7"
  }
 },
 "nbformat": 4,
 "nbformat_minor": 2
}
