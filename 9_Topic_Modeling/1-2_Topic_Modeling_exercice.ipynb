{
 "cells": [
  {
   "cell_type": "markdown",
   "metadata": {},
   "source": [
    "# Solution\n",
    "\n",
    "The purpose of this exercise is to use LSA in order to run unsupervised topic extraction on texts and compare the results to the target variable. We are not going to use the target variable to train a model but only to assess if the topics found by LSA are similar to the classes that would have been used for supervised classification.\n",
    "\n",
    "Let's begin and import the libraries we will be using"
   ]
  },
  {
   "cell_type": "code",
   "execution_count": 22,
   "metadata": {},
   "outputs": [],
   "source": [
    "import pandas as pd\n",
    "import numpy as np\n",
    "import en_core_web_sm\n",
    "import spacy\n",
    "\n",
    "import plotly.express as px\n",
    "import plotly.graph_objects as go\n",
    "import plotly.io as pio\n",
    "import plotly.figure_factory as ff\n",
    "\n",
    "from sklearn.datasets import fetch_20newsgroups\n",
    "from sklearn.feature_extraction.text import TfidfVectorizer\n",
    "from sklearn.decomposition import TruncatedSVD\n",
    "from sklearn.metrics import confusion_matrix\n",
    "from sklearn.cluster import KMeans\n",
    "from spacy.lang.en.stop_words import STOP_WORDS"
   ]
  },
  {
   "cell_type": "code",
   "execution_count": 3,
   "metadata": {},
   "outputs": [],
   "source": [
    "news = fetch_20newsgroups()"
   ]
  },
  {
   "cell_type": "code",
   "execution_count": 4,
   "metadata": {},
   "outputs": [
    {
     "name": "stdout",
     "output_type": "stream",
     "text": [
      ".. _20newsgroups_dataset:\n",
      "\n",
      "The 20 newsgroups text dataset\n",
      "------------------------------\n",
      "\n",
      "The 20 newsgroups dataset comprises around 18000 newsgroups posts on\n",
      "20 topics split in two subsets: one for training (or development)\n",
      "and the other one for testing (or for performance evaluation). The split\n",
      "between the train and test set is based upon a messages posted before\n",
      "and after a specific date.\n",
      "\n",
      "This module contains two loaders. The first one,\n",
      ":func:`sklearn.datasets.fetch_20newsgroups`,\n",
      "returns a list of the raw texts that can be fed to text feature\n",
      "extractors such as :class:`~sklearn.feature_extraction.text.CountVectorizer`\n",
      "with custom parameters so as to extract feature vectors.\n",
      "The second one, :func:`sklearn.datasets.fetch_20newsgroups_vectorized`,\n",
      "returns ready-to-use features, i.e., it is not necessary to use a feature\n",
      "extractor.\n",
      "\n",
      "**Data Set Characteristics:**\n",
      "\n",
      "=================   ==========\n",
      "Classes                     20\n",
      "Samples total            18846\n",
      "Dimensionality               1\n",
      "Features                  text\n",
      "=================   ==========\n",
      "\n",
      ".. dropdown:: Usage\n",
      "\n",
      "  The :func:`sklearn.datasets.fetch_20newsgroups` function is a data\n",
      "  fetching / caching functions that downloads the data archive from\n",
      "  the original `20 newsgroups website <http://people.csail.mit.edu/jrennie/20Newsgroups/>`__,\n",
      "  extracts the archive contents\n",
      "  in the ``~/scikit_learn_data/20news_home`` folder and calls the\n",
      "  :func:`sklearn.datasets.load_files` on either the training or\n",
      "  testing set folder, or both of them::\n",
      "\n",
      "    >>> from sklearn.datasets import fetch_20newsgroups\n",
      "    >>> newsgroups_train = fetch_20newsgroups(subset='train')\n",
      "\n",
      "    >>> from pprint import pprint\n",
      "    >>> pprint(list(newsgroups_train.target_names))\n",
      "    ['alt.atheism',\n",
      "     'comp.graphics',\n",
      "     'comp.os.ms-windows.misc',\n",
      "     'comp.sys.ibm.pc.hardware',\n",
      "     'comp.sys.mac.hardware',\n",
      "     'comp.windows.x',\n",
      "     'misc.forsale',\n",
      "     'rec.autos',\n",
      "     'rec.motorcycles',\n",
      "     'rec.sport.baseball',\n",
      "     'rec.sport.hockey',\n",
      "     'sci.crypt',\n",
      "     'sci.electronics',\n",
      "     'sci.med',\n",
      "     'sci.space',\n",
      "     'soc.religion.christian',\n",
      "     'talk.politics.guns',\n",
      "     'talk.politics.mideast',\n",
      "     'talk.politics.misc',\n",
      "     'talk.religion.misc']\n",
      "\n",
      "  The real data lies in the ``filenames`` and ``target`` attributes. The target\n",
      "  attribute is the integer index of the category::\n",
      "\n",
      "    >>> newsgroups_train.filenames.shape\n",
      "    (11314,)\n",
      "    >>> newsgroups_train.target.shape\n",
      "    (11314,)\n",
      "    >>> newsgroups_train.target[:10]\n",
      "    array([ 7,  4,  4,  1, 14, 16, 13,  3,  2,  4])\n",
      "\n",
      "  It is possible to load only a sub-selection of the categories by passing the\n",
      "  list of the categories to load to the\n",
      "  :func:`sklearn.datasets.fetch_20newsgroups` function::\n",
      "\n",
      "    >>> cats = ['alt.atheism', 'sci.space']\n",
      "    >>> newsgroups_train = fetch_20newsgroups(subset='train', categories=cats)\n",
      "\n",
      "    >>> list(newsgroups_train.target_names)\n",
      "    ['alt.atheism', 'sci.space']\n",
      "    >>> newsgroups_train.filenames.shape\n",
      "    (1073,)\n",
      "    >>> newsgroups_train.target.shape\n",
      "    (1073,)\n",
      "    >>> newsgroups_train.target[:10]\n",
      "    array([0, 1, 1, 1, 0, 1, 1, 0, 0, 0])\n",
      "\n",
      ".. dropdown:: Converting text to vectors\n",
      "\n",
      "  In order to feed predictive or clustering models with the text data,\n",
      "  one first need to turn the text into vectors of numerical values suitable\n",
      "  for statistical analysis. This can be achieved with the utilities of the\n",
      "  ``sklearn.feature_extraction.text`` as demonstrated in the following\n",
      "  example that extract `TF-IDF <https://en.wikipedia.org/wiki/Tf-idf>`__ vectors\n",
      "  of unigram tokens from a subset of 20news::\n",
      "\n",
      "    >>> from sklearn.feature_extraction.text import TfidfVectorizer\n",
      "    >>> categories = ['alt.atheism', 'talk.religion.misc',\n",
      "    ...               'comp.graphics', 'sci.space']\n",
      "    >>> newsgroups_train = fetch_20newsgroups(subset='train',\n",
      "    ...                                       categories=categories)\n",
      "    >>> vectorizer = TfidfVectorizer()\n",
      "    >>> vectors = vectorizer.fit_transform(newsgroups_train.data)\n",
      "    >>> vectors.shape\n",
      "    (2034, 34118)\n",
      "\n",
      "  The extracted TF-IDF vectors are very sparse, with an average of 159 non-zero\n",
      "  components by sample in a more than 30000-dimensional space\n",
      "  (less than .5% non-zero features)::\n",
      "\n",
      "    >>> vectors.nnz / float(vectors.shape[0])\n",
      "    159.01327...\n",
      "\n",
      "  :func:`sklearn.datasets.fetch_20newsgroups_vectorized` is a function which\n",
      "  returns ready-to-use token counts features instead of file names.\n",
      "\n",
      ".. dropdown:: Filtering text for more realistic training\n",
      "\n",
      "  It is easy for a classifier to overfit on particular things that appear in the\n",
      "  20 Newsgroups data, such as newsgroup headers. Many classifiers achieve very\n",
      "  high F-scores, but their results would not generalize to other documents that\n",
      "  aren't from this window of time.\n",
      "\n",
      "  For example, let's look at the results of a multinomial Naive Bayes classifier,\n",
      "  which is fast to train and achieves a decent F-score::\n",
      "\n",
      "    >>> from sklearn.naive_bayes import MultinomialNB\n",
      "    >>> from sklearn import metrics\n",
      "    >>> newsgroups_test = fetch_20newsgroups(subset='test',\n",
      "    ...                                      categories=categories)\n",
      "    >>> vectors_test = vectorizer.transform(newsgroups_test.data)\n",
      "    >>> clf = MultinomialNB(alpha=.01)\n",
      "    >>> clf.fit(vectors, newsgroups_train.target)\n",
      "    MultinomialNB(alpha=0.01, class_prior=None, fit_prior=True)\n",
      "\n",
      "    >>> pred = clf.predict(vectors_test)\n",
      "    >>> metrics.f1_score(newsgroups_test.target, pred, average='macro')\n",
      "    0.88213...\n",
      "\n",
      "  (The example :ref:`sphx_glr_auto_examples_text_plot_document_classification_20newsgroups.py` shuffles\n",
      "  the training and test data, instead of segmenting by time, and in that case\n",
      "  multinomial Naive Bayes gets a much higher F-score of 0.88. Are you suspicious\n",
      "  yet of what's going on inside this classifier?)\n",
      "\n",
      "  Let's take a look at what the most informative features are:\n",
      "\n",
      "    >>> import numpy as np\n",
      "    >>> def show_top10(classifier, vectorizer, categories):\n",
      "    ...     feature_names = vectorizer.get_feature_names_out()\n",
      "    ...     for i, category in enumerate(categories):\n",
      "    ...         top10 = np.argsort(classifier.coef_[i])[-10:]\n",
      "    ...         print(\"%s: %s\" % (category, \" \".join(feature_names[top10])))\n",
      "    ...\n",
      "    >>> show_top10(clf, vectorizer, newsgroups_train.target_names)\n",
      "    alt.atheism: edu it and in you that is of to the\n",
      "    comp.graphics: edu in graphics it is for and of to the\n",
      "    sci.space: edu it that is in and space to of the\n",
      "    talk.religion.misc: not it you in is that and to of the\n",
      "\n",
      "\n",
      "  You can now see many things that these features have overfit to:\n",
      "\n",
      "  - Almost every group is distinguished by whether headers such as\n",
      "    ``NNTP-Posting-Host:`` and ``Distribution:`` appear more or less often.\n",
      "  - Another significant feature involves whether the sender is affiliated with\n",
      "    a university, as indicated either by their headers or their signature.\n",
      "  - The word \"article\" is a significant feature, based on how often people quote\n",
      "    previous posts like this: \"In article [article ID], [name] <[e-mail address]>\n",
      "    wrote:\"\n",
      "  - Other features match the names and e-mail addresses of particular people who\n",
      "    were posting at the time.\n",
      "\n",
      "  With such an abundance of clues that distinguish newsgroups, the classifiers\n",
      "  barely have to identify topics from text at all, and they all perform at the\n",
      "  same high level.\n",
      "\n",
      "  For this reason, the functions that load 20 Newsgroups data provide a\n",
      "  parameter called **remove**, telling it what kinds of information to strip out\n",
      "  of each file. **remove** should be a tuple containing any subset of\n",
      "  ``('headers', 'footers', 'quotes')``, telling it to remove headers, signature\n",
      "  blocks, and quotation blocks respectively.\n",
      "\n",
      "    >>> newsgroups_test = fetch_20newsgroups(subset='test',\n",
      "    ...                                      remove=('headers', 'footers', 'quotes'),\n",
      "    ...                                      categories=categories)\n",
      "    >>> vectors_test = vectorizer.transform(newsgroups_test.data)\n",
      "    >>> pred = clf.predict(vectors_test)\n",
      "    >>> metrics.f1_score(pred, newsgroups_test.target, average='macro')\n",
      "    0.77310...\n",
      "\n",
      "  This classifier lost over a lot of its F-score, just because we removed\n",
      "  metadata that has little to do with topic classification.\n",
      "  It loses even more if we also strip this metadata from the training data:\n",
      "\n",
      "    >>> newsgroups_train = fetch_20newsgroups(subset='train',\n",
      "    ...                                       remove=('headers', 'footers', 'quotes'),\n",
      "    ...                                       categories=categories)\n",
      "    >>> vectors = vectorizer.fit_transform(newsgroups_train.data)\n",
      "    >>> clf = MultinomialNB(alpha=.01)\n",
      "    >>> clf.fit(vectors, newsgroups_train.target)\n",
      "    MultinomialNB(alpha=0.01, class_prior=None, fit_prior=True)\n",
      "\n",
      "    >>> vectors_test = vectorizer.transform(newsgroups_test.data)\n",
      "    >>> pred = clf.predict(vectors_test)\n",
      "    >>> metrics.f1_score(newsgroups_test.target, pred, average='macro')\n",
      "    0.76995...\n",
      "\n",
      "  Some other classifiers cope better with this harder version of the task. Try the\n",
      "  :ref:`sphx_glr_auto_examples_model_selection_plot_grid_search_text_feature_extraction.py`\n",
      "  example with and without the `remove` option to compare the results.\n",
      "\n",
      ".. topic:: Data Considerations\n",
      "\n",
      "  The Cleveland Indians is a major league baseball team based in Cleveland,\n",
      "  Ohio, USA. In December 2020, it was reported that \"After several months of\n",
      "  discussion sparked by the death of George Floyd and a national reckoning over\n",
      "  race and colonialism, the Cleveland Indians have decided to change their\n",
      "  name.\" Team owner Paul Dolan \"did make it clear that the team will not make\n",
      "  its informal nickname -- the Tribe -- its new team name.\" \"It's not going to\n",
      "  be a half-step away from the Indians,\" Dolan said.\"We will not have a Native\n",
      "  American-themed name.\"\n",
      "\n",
      "  https://www.mlb.com/news/cleveland-indians-team-name-change\n",
      "\n",
      ".. topic:: Recommendation\n",
      "\n",
      "  - When evaluating text classifiers on the 20 Newsgroups data, you\n",
      "    should strip newsgroup-related metadata. In scikit-learn, you can do this\n",
      "    by setting ``remove=('headers', 'footers', 'quotes')``. The F-score will be\n",
      "    lower because it is more realistic.\n",
      "  - This text dataset contains data which may be inappropriate for certain NLP\n",
      "    applications. An example is listed in the \"Data Considerations\" section\n",
      "    above. The challenge with using current text datasets in NLP for tasks such\n",
      "    as sentence completion, clustering, and other applications is that text\n",
      "    that is culturally biased and inflammatory will propagate biases. This\n",
      "    should be taken into consideration when using the dataset, reviewing the\n",
      "    output, and the bias should be documented.\n",
      "\n",
      ".. rubric:: Examples\n",
      "\n",
      "* :ref:`sphx_glr_auto_examples_model_selection_plot_grid_search_text_feature_extraction.py`\n",
      "* :ref:`sphx_glr_auto_examples_text_plot_document_classification_20newsgroups.py`\n",
      "* :ref:`sphx_glr_auto_examples_text_plot_hashing_vs_dict_vectorizer.py`\n",
      "* :ref:`sphx_glr_auto_examples_text_plot_document_clustering.py`\n",
      "\n"
     ]
    }
   ],
   "source": [
    "print(news.DESCR)"
   ]
  },
  {
   "cell_type": "markdown",
   "metadata": {},
   "source": [
    "Store the object news.data in a DataFrame and call the column text. Extract a sample of 5000 rows to begin with. Add the target variable to this dataframe in order to run analysis later."
   ]
  },
  {
   "cell_type": "code",
   "execution_count": 7,
   "metadata": {},
   "outputs": [
    {
     "data": {
      "text/html": [
       "<div>\n",
       "<style scoped>\n",
       "    .dataframe tbody tr th:only-of-type {\n",
       "        vertical-align: middle;\n",
       "    }\n",
       "\n",
       "    .dataframe tbody tr th {\n",
       "        vertical-align: top;\n",
       "    }\n",
       "\n",
       "    .dataframe thead th {\n",
       "        text-align: right;\n",
       "    }\n",
       "</style>\n",
       "<table border=\"1\" class=\"dataframe\">\n",
       "  <thead>\n",
       "    <tr style=\"text-align: right;\">\n",
       "      <th></th>\n",
       "      <th>text</th>\n",
       "      <th>target</th>\n",
       "    </tr>\n",
       "  </thead>\n",
       "  <tbody>\n",
       "    <tr>\n",
       "      <th>7492</th>\n",
       "      <td>From: rrn@po.CWRU.Edu (Robert R. Novitskey)\\nS...</td>\n",
       "      <td>4</td>\n",
       "    </tr>\n",
       "    <tr>\n",
       "      <th>3546</th>\n",
       "      <td>From: ardie@ux1.cso.uiuc.edu (Ardie Mack)\\nSub...</td>\n",
       "      <td>2</td>\n",
       "    </tr>\n",
       "    <tr>\n",
       "      <th>5582</th>\n",
       "      <td>From: tsa@cellar.org (The Silent Assassin)\\nSu...</td>\n",
       "      <td>6</td>\n",
       "    </tr>\n",
       "    <tr>\n",
       "      <th>4793</th>\n",
       "      <td>From: guy@idacom.hp.com (Guy M. Trotter)\\nSubj...</td>\n",
       "      <td>16</td>\n",
       "    </tr>\n",
       "    <tr>\n",
       "      <th>3813</th>\n",
       "      <td>From: jwodzia@fadel.uucp (john wodziak)\\nSubje...</td>\n",
       "      <td>10</td>\n",
       "    </tr>\n",
       "  </tbody>\n",
       "</table>\n",
       "</div>"
      ],
      "text/plain": [
       "                                                   text  target\n",
       "7492  From: rrn@po.CWRU.Edu (Robert R. Novitskey)\\nS...       4\n",
       "3546  From: ardie@ux1.cso.uiuc.edu (Ardie Mack)\\nSub...       2\n",
       "5582  From: tsa@cellar.org (The Silent Assassin)\\nSu...       6\n",
       "4793  From: guy@idacom.hp.com (Guy M. Trotter)\\nSubj...      16\n",
       "3813  From: jwodzia@fadel.uucp (john wodziak)\\nSubje...      10"
      ]
     },
     "execution_count": 7,
     "metadata": {},
     "output_type": "execute_result"
    }
   ],
   "source": [
    "data = pd.DataFrame(news.data, columns =[\"text\"])\n",
    "data = data.sample(5000, random_state=42)\n",
    "data[\"target\"] = news.target[data.index]\n",
    "data.head()"
   ]
  },
  {
   "cell_type": "markdown",
   "metadata": {},
   "source": [
    "Create a column text_clean containing only alphanumerical characters and change all characters to lowercase. Also only keep the tex that is after the string \"Subject:\""
   ]
  },
  {
   "cell_type": "code",
   "execution_count": 8,
   "metadata": {},
   "outputs": [
    {
     "data": {
      "text/html": [
       "<div>\n",
       "<style scoped>\n",
       "    .dataframe tbody tr th:only-of-type {\n",
       "        vertical-align: middle;\n",
       "    }\n",
       "\n",
       "    .dataframe tbody tr th {\n",
       "        vertical-align: top;\n",
       "    }\n",
       "\n",
       "    .dataframe thead th {\n",
       "        text-align: right;\n",
       "    }\n",
       "</style>\n",
       "<table border=\"1\" class=\"dataframe\">\n",
       "  <thead>\n",
       "    <tr style=\"text-align: right;\">\n",
       "      <th></th>\n",
       "      <th>text</th>\n",
       "      <th>target</th>\n",
       "      <th>text_clean</th>\n",
       "    </tr>\n",
       "  </thead>\n",
       "  <tbody>\n",
       "    <tr>\n",
       "      <th>7492</th>\n",
       "      <td>From: rrn@po.CWRU.Edu (Robert R. Novitskey)\\nS...</td>\n",
       "      <td>4</td>\n",
       "      <td>cyclone and tempestarticleid usenet1pskavqtur...</td>\n",
       "    </tr>\n",
       "    <tr>\n",
       "      <th>3546</th>\n",
       "      <td>From: ardie@ux1.cso.uiuc.edu (Ardie Mack)\\nSub...</td>\n",
       "      <td>2</td>\n",
       "      <td>re does dos6 defragmentarticleid ux1ardie2727...</td>\n",
       "    </tr>\n",
       "    <tr>\n",
       "      <th>5582</th>\n",
       "      <td>From: tsa@cellar.org (The Silent Assassin)\\nSu...</td>\n",
       "      <td>6</td>\n",
       "      <td>for sale  misc ibm stufforganization the cell...</td>\n",
       "    </tr>\n",
       "    <tr>\n",
       "      <th>4793</th>\n",
       "      <td>From: guy@idacom.hp.com (Guy M. Trotter)\\nSubj...</td>\n",
       "      <td>16</td>\n",
       "      <td>re guns in backcountry no thanksorganization ...</td>\n",
       "    </tr>\n",
       "    <tr>\n",
       "      <th>3813</th>\n",
       "      <td>From: jwodzia@fadel.uucp (john wodziak)\\nSubje...</td>\n",
       "      <td>10</td>\n",
       "      <td>re goalie masksreplyto jwodziafadeluucp john ...</td>\n",
       "    </tr>\n",
       "  </tbody>\n",
       "</table>\n",
       "</div>"
      ],
      "text/plain": [
       "                                                   text  target  \\\n",
       "7492  From: rrn@po.CWRU.Edu (Robert R. Novitskey)\\nS...       4   \n",
       "3546  From: ardie@ux1.cso.uiuc.edu (Ardie Mack)\\nSub...       2   \n",
       "5582  From: tsa@cellar.org (The Silent Assassin)\\nSu...       6   \n",
       "4793  From: guy@idacom.hp.com (Guy M. Trotter)\\nSubj...      16   \n",
       "3813  From: jwodzia@fadel.uucp (john wodziak)\\nSubje...      10   \n",
       "\n",
       "                                             text_clean  \n",
       "7492   cyclone and tempestarticleid usenet1pskavqtur...  \n",
       "3546   re does dos6 defragmentarticleid ux1ardie2727...  \n",
       "5582   for sale  misc ibm stufforganization the cell...  \n",
       "4793   re guns in backcountry no thanksorganization ...  \n",
       "3813   re goalie masksreplyto jwodziafadeluucp john ...  "
      ]
     },
     "execution_count": 8,
     "metadata": {},
     "output_type": "execute_result"
    }
   ],
   "source": [
    "data['text_clean'] = data['text'].apply(lambda x: x.split(\"Subject:\")[1])\n",
    "data['text_clean'] = data['text_clean'].apply(lambda x: ''.join(ch for ch in x if ch.isalnum() or ch==\" \"))\n",
    "data['text_clean'] = data['text_clean'].fillna('').apply(lambda x: x.lower())\n",
    "data.head()"
   ]
  },
  {
   "cell_type": "markdown",
   "metadata": {},
   "source": [
    "Create an object nlp with en_core_web_sm.load"
   ]
  },
  {
   "cell_type": "code",
   "execution_count": 9,
   "metadata": {},
   "outputs": [],
   "source": [
    "nlp = en_core_web_sm.load()"
   ]
  },
  {
   "cell_type": "markdown",
   "metadata": {},
   "source": [
    "Tokenize the cleaned sentences and remove english stopwords"
   ]
  },
  {
   "cell_type": "code",
   "execution_count": 15,
   "metadata": {},
   "outputs": [
    {
     "data": {
      "text/html": [
       "<div>\n",
       "<style scoped>\n",
       "    .dataframe tbody tr th:only-of-type {\n",
       "        vertical-align: middle;\n",
       "    }\n",
       "\n",
       "    .dataframe tbody tr th {\n",
       "        vertical-align: top;\n",
       "    }\n",
       "\n",
       "    .dataframe thead th {\n",
       "        text-align: right;\n",
       "    }\n",
       "</style>\n",
       "<table border=\"1\" class=\"dataframe\">\n",
       "  <thead>\n",
       "    <tr style=\"text-align: right;\">\n",
       "      <th></th>\n",
       "      <th>text</th>\n",
       "      <th>target</th>\n",
       "      <th>text_clean</th>\n",
       "      <th>text_tokenized</th>\n",
       "    </tr>\n",
       "  </thead>\n",
       "  <tbody>\n",
       "    <tr>\n",
       "      <th>7492</th>\n",
       "      <td>From: rrn@po.CWRU.Edu (Robert R. Novitskey)\\nS...</td>\n",
       "      <td>4</td>\n",
       "      <td>cyclone and tempestarticleid usenet1pskavqtur...</td>\n",
       "      <td>[ , cyclone, tempestarticleid, usenet1pskavqtu...</td>\n",
       "    </tr>\n",
       "    <tr>\n",
       "      <th>3546</th>\n",
       "      <td>From: ardie@ux1.cso.uiuc.edu (Ardie Mack)\\nSub...</td>\n",
       "      <td>2</td>\n",
       "      <td>re does dos6 defragmentarticleid ux1ardie2727...</td>\n",
       "      <td>[ , dos6, defragmentarticleid, ux1ardie2727340...</td>\n",
       "    </tr>\n",
       "    <tr>\n",
       "      <th>5582</th>\n",
       "      <td>From: tsa@cellar.org (The Silent Assassin)\\nSu...</td>\n",
       "      <td>6</td>\n",
       "      <td>for sale  misc ibm stufforganization the cell...</td>\n",
       "      <td>[ , sale,  , misc, ibm, stufforganization, cel...</td>\n",
       "    </tr>\n",
       "    <tr>\n",
       "      <th>4793</th>\n",
       "      <td>From: guy@idacom.hp.com (Guy M. Trotter)\\nSubj...</td>\n",
       "      <td>16</td>\n",
       "      <td>re guns in backcountry no thanksorganization ...</td>\n",
       "      <td>[ , gun, backcountry, thanksorganization, idac...</td>\n",
       "    </tr>\n",
       "    <tr>\n",
       "      <th>3813</th>\n",
       "      <td>From: jwodzia@fadel.uucp (john wodziak)\\nSubje...</td>\n",
       "      <td>10</td>\n",
       "      <td>re goalie masksreplyto jwodziafadeluucp john ...</td>\n",
       "      <td>[ , goalie, masksreplyto, jwodziafadeluucp, jo...</td>\n",
       "    </tr>\n",
       "  </tbody>\n",
       "</table>\n",
       "</div>"
      ],
      "text/plain": [
       "                                                   text  target  \\\n",
       "7492  From: rrn@po.CWRU.Edu (Robert R. Novitskey)\\nS...       4   \n",
       "3546  From: ardie@ux1.cso.uiuc.edu (Ardie Mack)\\nSub...       2   \n",
       "5582  From: tsa@cellar.org (The Silent Assassin)\\nSu...       6   \n",
       "4793  From: guy@idacom.hp.com (Guy M. Trotter)\\nSubj...      16   \n",
       "3813  From: jwodzia@fadel.uucp (john wodziak)\\nSubje...      10   \n",
       "\n",
       "                                             text_clean  \\\n",
       "7492   cyclone and tempestarticleid usenet1pskavqtur...   \n",
       "3546   re does dos6 defragmentarticleid ux1ardie2727...   \n",
       "5582   for sale  misc ibm stufforganization the cell...   \n",
       "4793   re guns in backcountry no thanksorganization ...   \n",
       "3813   re goalie masksreplyto jwodziafadeluucp john ...   \n",
       "\n",
       "                                         text_tokenized  \n",
       "7492  [ , cyclone, tempestarticleid, usenet1pskavqtu...  \n",
       "3546  [ , dos6, defragmentarticleid, ux1ardie2727340...  \n",
       "5582  [ , sale,  , misc, ibm, stufforganization, cel...  \n",
       "4793  [ , gun, backcountry, thanksorganization, idac...  \n",
       "3813  [ , goalie, masksreplyto, jwodziafadeluucp, jo...  "
      ]
     },
     "execution_count": 15,
     "metadata": {},
     "output_type": "execute_result"
    }
   ],
   "source": [
    "# tokenisation\n",
    "data[\"text_tokenized\"] = data[\"text_clean\"].apply(lambda x: [token.lemma_ for token in nlp(x) if token.text not in STOP_WORDS])\n",
    "data.head()"
   ]
  },
  {
   "cell_type": "markdown",
   "metadata": {},
   "source": [
    "Detokenize the tokenized sentences and store them in an nlp_ready column"
   ]
  },
  {
   "cell_type": "code",
   "execution_count": 17,
   "metadata": {},
   "outputs": [
    {
     "data": {
      "text/html": [
       "<div>\n",
       "<style scoped>\n",
       "    .dataframe tbody tr th:only-of-type {\n",
       "        vertical-align: middle;\n",
       "    }\n",
       "\n",
       "    .dataframe tbody tr th {\n",
       "        vertical-align: top;\n",
       "    }\n",
       "\n",
       "    .dataframe thead th {\n",
       "        text-align: right;\n",
       "    }\n",
       "</style>\n",
       "<table border=\"1\" class=\"dataframe\">\n",
       "  <thead>\n",
       "    <tr style=\"text-align: right;\">\n",
       "      <th></th>\n",
       "      <th>text</th>\n",
       "      <th>target</th>\n",
       "      <th>text_clean</th>\n",
       "      <th>text_tokenized</th>\n",
       "      <th>nlp_ready</th>\n",
       "    </tr>\n",
       "  </thead>\n",
       "  <tbody>\n",
       "    <tr>\n",
       "      <th>7492</th>\n",
       "      <td>From: rrn@po.CWRU.Edu (Robert R. Novitskey)\\nS...</td>\n",
       "      <td>4</td>\n",
       "      <td>cyclone and tempestarticleid usenet1pskavqtur...</td>\n",
       "      <td>[ , cyclone, tempestarticleid, usenet1pskavqtu...</td>\n",
       "      <td>cyclone tempestarticleid usenet1pskavqturepl...</td>\n",
       "    </tr>\n",
       "    <tr>\n",
       "      <th>3546</th>\n",
       "      <td>From: ardie@ux1.cso.uiuc.edu (Ardie Mack)\\nSub...</td>\n",
       "      <td>2</td>\n",
       "      <td>re does dos6 defragmentarticleid ux1ardie2727...</td>\n",
       "      <td>[ , dos6, defragmentarticleid, ux1ardie2727340...</td>\n",
       "      <td>dos6 defragmentarticleid ux1ardie27273409793...</td>\n",
       "    </tr>\n",
       "    <tr>\n",
       "      <th>5582</th>\n",
       "      <td>From: tsa@cellar.org (The Silent Assassin)\\nSu...</td>\n",
       "      <td>6</td>\n",
       "      <td>for sale  misc ibm stufforganization the cell...</td>\n",
       "      <td>[ , sale,  , misc, ibm, stufforganization, cel...</td>\n",
       "      <td>sale   misc ibm stufforganization cellar bbs...</td>\n",
       "    </tr>\n",
       "    <tr>\n",
       "      <th>4793</th>\n",
       "      <td>From: guy@idacom.hp.com (Guy M. Trotter)\\nSubj...</td>\n",
       "      <td>16</td>\n",
       "      <td>re guns in backcountry no thanksorganization ...</td>\n",
       "      <td>[ , gun, backcountry, thanksorganization, idac...</td>\n",
       "      <td>gun backcountry thanksorganization idacom di...</td>\n",
       "    </tr>\n",
       "    <tr>\n",
       "      <th>3813</th>\n",
       "      <td>From: jwodzia@fadel.uucp (john wodziak)\\nSubje...</td>\n",
       "      <td>10</td>\n",
       "      <td>re goalie masksreplyto jwodziafadeluucp john ...</td>\n",
       "      <td>[ , goalie, masksreplyto, jwodziafadeluucp, jo...</td>\n",
       "      <td>goalie masksreplyto jwodziafadeluucp john wo...</td>\n",
       "    </tr>\n",
       "  </tbody>\n",
       "</table>\n",
       "</div>"
      ],
      "text/plain": [
       "                                                   text  target  \\\n",
       "7492  From: rrn@po.CWRU.Edu (Robert R. Novitskey)\\nS...       4   \n",
       "3546  From: ardie@ux1.cso.uiuc.edu (Ardie Mack)\\nSub...       2   \n",
       "5582  From: tsa@cellar.org (The Silent Assassin)\\nSu...       6   \n",
       "4793  From: guy@idacom.hp.com (Guy M. Trotter)\\nSubj...      16   \n",
       "3813  From: jwodzia@fadel.uucp (john wodziak)\\nSubje...      10   \n",
       "\n",
       "                                             text_clean  \\\n",
       "7492   cyclone and tempestarticleid usenet1pskavqtur...   \n",
       "3546   re does dos6 defragmentarticleid ux1ardie2727...   \n",
       "5582   for sale  misc ibm stufforganization the cell...   \n",
       "4793   re guns in backcountry no thanksorganization ...   \n",
       "3813   re goalie masksreplyto jwodziafadeluucp john ...   \n",
       "\n",
       "                                         text_tokenized  \\\n",
       "7492  [ , cyclone, tempestarticleid, usenet1pskavqtu...   \n",
       "3546  [ , dos6, defragmentarticleid, ux1ardie2727340...   \n",
       "5582  [ , sale,  , misc, ibm, stufforganization, cel...   \n",
       "4793  [ , gun, backcountry, thanksorganization, idac...   \n",
       "3813  [ , goalie, masksreplyto, jwodziafadeluucp, jo...   \n",
       "\n",
       "                                              nlp_ready  \n",
       "7492    cyclone tempestarticleid usenet1pskavqturepl...  \n",
       "3546    dos6 defragmentarticleid ux1ardie27273409793...  \n",
       "5582    sale   misc ibm stufforganization cellar bbs...  \n",
       "4793    gun backcountry thanksorganization idacom di...  \n",
       "3813    goalie masksreplyto jwodziafadeluucp john wo...  "
      ]
     },
     "execution_count": 17,
     "metadata": {},
     "output_type": "execute_result"
    }
   ],
   "source": [
    "# detokenisation\n",
    "# data[\"nlp_ready\"] = data[\"text_tokenized\"].apply(lambda x: ' '.join(x))\n",
    "# data.head()\n",
    "\n",
    "# Détokeniser en utilisant Pandas\n",
    "data['nlp_ready'] = data['text_tokenized'].apply(' '.join)\n",
    "data.head()"
   ]
  },
  {
   "cell_type": "markdown",
   "metadata": {},
   "source": [
    "Use sklearn to calculate the tf-idf"
   ]
  },
  {
   "cell_type": "code",
   "execution_count": 18,
   "metadata": {},
   "outputs": [
    {
     "data": {
      "text/plain": [
       "<Compressed Sparse Row sparse matrix of dtype 'float64'\n",
       "\twith 456197 stored elements and shape (5000, 116452)>"
      ]
     },
     "execution_count": 18,
     "metadata": {},
     "output_type": "execute_result"
    }
   ],
   "source": [
    "vectorizer = TfidfVectorizer(stop_words='english', smooth_idf=True)\n",
    "X = vectorizer.fit_transform(data['nlp_ready'])\n",
    "X"
   ]
  },
  {
   "cell_type": "markdown",
   "metadata": {},
   "source": [
    "Use the truncatedSVD model in order to create a topic model with 20 different topics"
   ]
  },
  {
   "cell_type": "code",
   "execution_count": 19,
   "metadata": {},
   "outputs": [
    {
     "data": {
      "text/html": [
       "<div>\n",
       "<style scoped>\n",
       "    .dataframe tbody tr th:only-of-type {\n",
       "        vertical-align: middle;\n",
       "    }\n",
       "\n",
       "    .dataframe tbody tr th {\n",
       "        vertical-align: top;\n",
       "    }\n",
       "\n",
       "    .dataframe thead th {\n",
       "        text-align: right;\n",
       "    }\n",
       "</style>\n",
       "<table border=\"1\" class=\"dataframe\">\n",
       "  <thead>\n",
       "    <tr style=\"text-align: right;\">\n",
       "      <th></th>\n",
       "      <th>topic_1</th>\n",
       "      <th>topic_2</th>\n",
       "      <th>topic_3</th>\n",
       "      <th>topic_4</th>\n",
       "      <th>topic_5</th>\n",
       "      <th>topic_6</th>\n",
       "      <th>topic_7</th>\n",
       "      <th>topic_8</th>\n",
       "      <th>topic_9</th>\n",
       "      <th>topic_10</th>\n",
       "      <th>...</th>\n",
       "      <th>topic_12</th>\n",
       "      <th>topic_13</th>\n",
       "      <th>topic_14</th>\n",
       "      <th>topic_15</th>\n",
       "      <th>topic_16</th>\n",
       "      <th>topic_17</th>\n",
       "      <th>topic_18</th>\n",
       "      <th>topic_19</th>\n",
       "      <th>topic_20</th>\n",
       "      <th>text</th>\n",
       "    </tr>\n",
       "  </thead>\n",
       "  <tbody>\n",
       "    <tr>\n",
       "      <th>7492</th>\n",
       "      <td>0.051849</td>\n",
       "      <td>-0.010821</td>\n",
       "      <td>-0.009423</td>\n",
       "      <td>-0.014433</td>\n",
       "      <td>-0.008042</td>\n",
       "      <td>0.002312</td>\n",
       "      <td>0.011048</td>\n",
       "      <td>-0.019142</td>\n",
       "      <td>-0.003941</td>\n",
       "      <td>-0.050777</td>\n",
       "      <td>...</td>\n",
       "      <td>0.020446</td>\n",
       "      <td>-0.040042</td>\n",
       "      <td>-0.040190</td>\n",
       "      <td>-0.054096</td>\n",
       "      <td>0.021121</td>\n",
       "      <td>-0.028638</td>\n",
       "      <td>-0.009876</td>\n",
       "      <td>-0.048188</td>\n",
       "      <td>-0.033620</td>\n",
       "      <td>cyclone tempestarticleid usenet1pskavqturepl...</td>\n",
       "    </tr>\n",
       "    <tr>\n",
       "      <th>3546</th>\n",
       "      <td>0.018149</td>\n",
       "      <td>-0.003031</td>\n",
       "      <td>0.000131</td>\n",
       "      <td>-0.007123</td>\n",
       "      <td>0.004234</td>\n",
       "      <td>0.003212</td>\n",
       "      <td>0.005269</td>\n",
       "      <td>-0.010027</td>\n",
       "      <td>-0.002491</td>\n",
       "      <td>-0.007888</td>\n",
       "      <td>...</td>\n",
       "      <td>0.009107</td>\n",
       "      <td>0.004405</td>\n",
       "      <td>0.003686</td>\n",
       "      <td>-0.003512</td>\n",
       "      <td>0.016173</td>\n",
       "      <td>0.012867</td>\n",
       "      <td>0.000324</td>\n",
       "      <td>-0.002977</td>\n",
       "      <td>-0.008221</td>\n",
       "      <td>dos6 defragmentarticleid ux1ardie27273409793...</td>\n",
       "    </tr>\n",
       "    <tr>\n",
       "      <th>5582</th>\n",
       "      <td>0.050858</td>\n",
       "      <td>-0.054776</td>\n",
       "      <td>-0.013459</td>\n",
       "      <td>0.036190</td>\n",
       "      <td>-0.039906</td>\n",
       "      <td>-0.031323</td>\n",
       "      <td>-0.025280</td>\n",
       "      <td>-0.004076</td>\n",
       "      <td>-0.011453</td>\n",
       "      <td>-0.019108</td>\n",
       "      <td>...</td>\n",
       "      <td>-0.011651</td>\n",
       "      <td>-0.026889</td>\n",
       "      <td>-0.013882</td>\n",
       "      <td>0.002497</td>\n",
       "      <td>-0.025401</td>\n",
       "      <td>-0.034682</td>\n",
       "      <td>-0.009145</td>\n",
       "      <td>0.015117</td>\n",
       "      <td>0.015439</td>\n",
       "      <td>sale   misc ibm stufforganization cellar bbs...</td>\n",
       "    </tr>\n",
       "    <tr>\n",
       "      <th>4793</th>\n",
       "      <td>0.090677</td>\n",
       "      <td>0.028150</td>\n",
       "      <td>0.033529</td>\n",
       "      <td>-0.014257</td>\n",
       "      <td>-0.012785</td>\n",
       "      <td>0.043759</td>\n",
       "      <td>0.017277</td>\n",
       "      <td>-0.008308</td>\n",
       "      <td>0.111087</td>\n",
       "      <td>-0.003930</td>\n",
       "      <td>...</td>\n",
       "      <td>-0.068336</td>\n",
       "      <td>-0.074656</td>\n",
       "      <td>0.015900</td>\n",
       "      <td>-0.006194</td>\n",
       "      <td>0.043516</td>\n",
       "      <td>-0.008742</td>\n",
       "      <td>0.078084</td>\n",
       "      <td>0.098187</td>\n",
       "      <td>0.046375</td>\n",
       "      <td>gun backcountry thanksorganization idacom di...</td>\n",
       "    </tr>\n",
       "    <tr>\n",
       "      <th>3813</th>\n",
       "      <td>0.081170</td>\n",
       "      <td>0.006570</td>\n",
       "      <td>-0.003259</td>\n",
       "      <td>-0.041566</td>\n",
       "      <td>0.019661</td>\n",
       "      <td>-0.018651</td>\n",
       "      <td>0.002282</td>\n",
       "      <td>-0.004774</td>\n",
       "      <td>-0.010225</td>\n",
       "      <td>-0.007944</td>\n",
       "      <td>...</td>\n",
       "      <td>-0.000242</td>\n",
       "      <td>-0.002872</td>\n",
       "      <td>-0.011874</td>\n",
       "      <td>-0.004732</td>\n",
       "      <td>0.008600</td>\n",
       "      <td>-0.016942</td>\n",
       "      <td>0.004866</td>\n",
       "      <td>-0.019257</td>\n",
       "      <td>-0.023645</td>\n",
       "      <td>goalie masksreplyto jwodziafadeluucp john wo...</td>\n",
       "    </tr>\n",
       "  </tbody>\n",
       "</table>\n",
       "<p>5 rows × 21 columns</p>\n",
       "</div>"
      ],
      "text/plain": [
       "       topic_1   topic_2   topic_3   topic_4   topic_5   topic_6   topic_7  \\\n",
       "7492  0.051849 -0.010821 -0.009423 -0.014433 -0.008042  0.002312  0.011048   \n",
       "3546  0.018149 -0.003031  0.000131 -0.007123  0.004234  0.003212  0.005269   \n",
       "5582  0.050858 -0.054776 -0.013459  0.036190 -0.039906 -0.031323 -0.025280   \n",
       "4793  0.090677  0.028150  0.033529 -0.014257 -0.012785  0.043759  0.017277   \n",
       "3813  0.081170  0.006570 -0.003259 -0.041566  0.019661 -0.018651  0.002282   \n",
       "\n",
       "       topic_8   topic_9  topic_10  ...  topic_12  topic_13  topic_14  \\\n",
       "7492 -0.019142 -0.003941 -0.050777  ...  0.020446 -0.040042 -0.040190   \n",
       "3546 -0.010027 -0.002491 -0.007888  ...  0.009107  0.004405  0.003686   \n",
       "5582 -0.004076 -0.011453 -0.019108  ... -0.011651 -0.026889 -0.013882   \n",
       "4793 -0.008308  0.111087 -0.003930  ... -0.068336 -0.074656  0.015900   \n",
       "3813 -0.004774 -0.010225 -0.007944  ... -0.000242 -0.002872 -0.011874   \n",
       "\n",
       "      topic_15  topic_16  topic_17  topic_18  topic_19  topic_20  \\\n",
       "7492 -0.054096  0.021121 -0.028638 -0.009876 -0.048188 -0.033620   \n",
       "3546 -0.003512  0.016173  0.012867  0.000324 -0.002977 -0.008221   \n",
       "5582  0.002497 -0.025401 -0.034682 -0.009145  0.015117  0.015439   \n",
       "4793 -0.006194  0.043516 -0.008742  0.078084  0.098187  0.046375   \n",
       "3813 -0.004732  0.008600 -0.016942  0.004866 -0.019257 -0.023645   \n",
       "\n",
       "                                                   text  \n",
       "7492    cyclone tempestarticleid usenet1pskavqturepl...  \n",
       "3546    dos6 defragmentarticleid ux1ardie27273409793...  \n",
       "5582    sale   misc ibm stufforganization cellar bbs...  \n",
       "4793    gun backcountry thanksorganization idacom di...  \n",
       "3813    goalie masksreplyto jwodziafadeluucp john wo...  \n",
       "\n",
       "[5 rows x 21 columns]"
      ]
     },
     "execution_count": 19,
     "metadata": {},
     "output_type": "execute_result"
    }
   ],
   "source": [
    "# Initialiser le modèle Truncated SVD\n",
    "svd_model = TruncatedSVD(n_components=20, algorithm='randomized', n_iter=100, random_state=42)\n",
    "\n",
    "# Appliquer le SVD pour réduire les dimensions\n",
    "lsa = svd_model.fit_transform(X)\n",
    "\n",
    "# Créer un DataFrame avec les topics encodés\n",
    "topic_encoded_df = pd.DataFrame(\n",
    "    lsa,\n",
    "    columns=[f\"topic_{i+1}\" for i in range(lsa.shape[1])],  # Génère les colonnes automatiquement\n",
    "    index=data.index  # Conserve l'alignement des index avec `data`\n",
    ")\n",
    "\n",
    "# Ajouter le texte d'origine (nettoyé) au DataFrame\n",
    "topic_encoded_df[\"text\"] = data[\"nlp_ready\"]\n",
    "\n",
    "# Afficher le DataFrame résultant\n",
    "topic_encoded_df.head()"
   ]
  },
  {
   "cell_type": "markdown",
   "metadata": {},
   "source": [
    "Assign each document to the topic it is the most linked to"
   ]
  },
  {
   "cell_type": "code",
   "execution_count": 20,
   "metadata": {},
   "outputs": [
    {
     "name": "stdout",
     "output_type": "stream",
     "text": [
      "class_pred\n",
      "0     3705\n",
      "4      192\n",
      "2      159\n",
      "10     135\n",
      "13     120\n",
      "14     105\n",
      "11      86\n",
      "1       78\n",
      "6       78\n",
      "15      74\n",
      "5       56\n",
      "16      52\n",
      "9       43\n",
      "18      36\n",
      "12      34\n",
      "8       25\n",
      "19      14\n",
      "7        5\n",
      "17       2\n",
      "3        1\n",
      "Name: count, dtype: int64\n"
     ]
    }
   ],
   "source": [
    "# Ajouter la colonne class_pred\n",
    "topic_encoded_df[\"class_pred\"] = np.argmax(lsa, axis=1)\n",
    "\n",
    "# Compter les classes\n",
    "topic_counts = topic_encoded_df[\"class_pred\"].value_counts()\n",
    "\n",
    "# Afficher les résultats\n",
    "print(topic_counts)"
   ]
  },
  {
   "cell_type": "markdown",
   "metadata": {},
   "source": [
    "Add the target variable to thetopic model dataframe and print the confusion matrix for the topic against the target variable :"
   ]
  },
  {
   "cell_type": "code",
   "execution_count": 21,
   "metadata": {},
   "outputs": [
    {
     "data": {
      "text/html": [
       "<div>\n",
       "<style scoped>\n",
       "    .dataframe tbody tr th:only-of-type {\n",
       "        vertical-align: middle;\n",
       "    }\n",
       "\n",
       "    .dataframe tbody tr th {\n",
       "        vertical-align: top;\n",
       "    }\n",
       "\n",
       "    .dataframe thead th {\n",
       "        text-align: right;\n",
       "    }\n",
       "</style>\n",
       "<table border=\"1\" class=\"dataframe\">\n",
       "  <thead>\n",
       "    <tr style=\"text-align: right;\">\n",
       "      <th></th>\n",
       "      <th>topic_1</th>\n",
       "      <th>topic_2</th>\n",
       "      <th>topic_3</th>\n",
       "      <th>topic_4</th>\n",
       "      <th>topic_5</th>\n",
       "      <th>topic_6</th>\n",
       "      <th>topic_7</th>\n",
       "      <th>topic_8</th>\n",
       "      <th>topic_9</th>\n",
       "      <th>topic_10</th>\n",
       "      <th>...</th>\n",
       "      <th>topic_14</th>\n",
       "      <th>topic_15</th>\n",
       "      <th>topic_16</th>\n",
       "      <th>topic_17</th>\n",
       "      <th>topic_18</th>\n",
       "      <th>topic_19</th>\n",
       "      <th>topic_20</th>\n",
       "      <th>text</th>\n",
       "      <th>class_pred</th>\n",
       "      <th>target</th>\n",
       "    </tr>\n",
       "  </thead>\n",
       "  <tbody>\n",
       "    <tr>\n",
       "      <th>7492</th>\n",
       "      <td>0.051849</td>\n",
       "      <td>-0.010821</td>\n",
       "      <td>-0.009423</td>\n",
       "      <td>-0.014433</td>\n",
       "      <td>-0.008042</td>\n",
       "      <td>0.002312</td>\n",
       "      <td>0.011048</td>\n",
       "      <td>-0.019142</td>\n",
       "      <td>-0.003941</td>\n",
       "      <td>-0.050777</td>\n",
       "      <td>...</td>\n",
       "      <td>-0.040190</td>\n",
       "      <td>-0.054096</td>\n",
       "      <td>0.021121</td>\n",
       "      <td>-0.028638</td>\n",
       "      <td>-0.009876</td>\n",
       "      <td>-0.048188</td>\n",
       "      <td>-0.033620</td>\n",
       "      <td>cyclone tempestarticleid usenet1pskavqturepl...</td>\n",
       "      <td>0</td>\n",
       "      <td>4</td>\n",
       "    </tr>\n",
       "    <tr>\n",
       "      <th>3546</th>\n",
       "      <td>0.018149</td>\n",
       "      <td>-0.003031</td>\n",
       "      <td>0.000131</td>\n",
       "      <td>-0.007123</td>\n",
       "      <td>0.004234</td>\n",
       "      <td>0.003212</td>\n",
       "      <td>0.005269</td>\n",
       "      <td>-0.010027</td>\n",
       "      <td>-0.002491</td>\n",
       "      <td>-0.007888</td>\n",
       "      <td>...</td>\n",
       "      <td>0.003686</td>\n",
       "      <td>-0.003512</td>\n",
       "      <td>0.016173</td>\n",
       "      <td>0.012867</td>\n",
       "      <td>0.000324</td>\n",
       "      <td>-0.002977</td>\n",
       "      <td>-0.008221</td>\n",
       "      <td>dos6 defragmentarticleid ux1ardie27273409793...</td>\n",
       "      <td>0</td>\n",
       "      <td>2</td>\n",
       "    </tr>\n",
       "    <tr>\n",
       "      <th>5582</th>\n",
       "      <td>0.050858</td>\n",
       "      <td>-0.054776</td>\n",
       "      <td>-0.013459</td>\n",
       "      <td>0.036190</td>\n",
       "      <td>-0.039906</td>\n",
       "      <td>-0.031323</td>\n",
       "      <td>-0.025280</td>\n",
       "      <td>-0.004076</td>\n",
       "      <td>-0.011453</td>\n",
       "      <td>-0.019108</td>\n",
       "      <td>...</td>\n",
       "      <td>-0.013882</td>\n",
       "      <td>0.002497</td>\n",
       "      <td>-0.025401</td>\n",
       "      <td>-0.034682</td>\n",
       "      <td>-0.009145</td>\n",
       "      <td>0.015117</td>\n",
       "      <td>0.015439</td>\n",
       "      <td>sale   misc ibm stufforganization cellar bbs...</td>\n",
       "      <td>0</td>\n",
       "      <td>6</td>\n",
       "    </tr>\n",
       "    <tr>\n",
       "      <th>4793</th>\n",
       "      <td>0.090677</td>\n",
       "      <td>0.028150</td>\n",
       "      <td>0.033529</td>\n",
       "      <td>-0.014257</td>\n",
       "      <td>-0.012785</td>\n",
       "      <td>0.043759</td>\n",
       "      <td>0.017277</td>\n",
       "      <td>-0.008308</td>\n",
       "      <td>0.111087</td>\n",
       "      <td>-0.003930</td>\n",
       "      <td>...</td>\n",
       "      <td>0.015900</td>\n",
       "      <td>-0.006194</td>\n",
       "      <td>0.043516</td>\n",
       "      <td>-0.008742</td>\n",
       "      <td>0.078084</td>\n",
       "      <td>0.098187</td>\n",
       "      <td>0.046375</td>\n",
       "      <td>gun backcountry thanksorganization idacom di...</td>\n",
       "      <td>8</td>\n",
       "      <td>16</td>\n",
       "    </tr>\n",
       "    <tr>\n",
       "      <th>3813</th>\n",
       "      <td>0.081170</td>\n",
       "      <td>0.006570</td>\n",
       "      <td>-0.003259</td>\n",
       "      <td>-0.041566</td>\n",
       "      <td>0.019661</td>\n",
       "      <td>-0.018651</td>\n",
       "      <td>0.002282</td>\n",
       "      <td>-0.004774</td>\n",
       "      <td>-0.010225</td>\n",
       "      <td>-0.007944</td>\n",
       "      <td>...</td>\n",
       "      <td>-0.011874</td>\n",
       "      <td>-0.004732</td>\n",
       "      <td>0.008600</td>\n",
       "      <td>-0.016942</td>\n",
       "      <td>0.004866</td>\n",
       "      <td>-0.019257</td>\n",
       "      <td>-0.023645</td>\n",
       "      <td>goalie masksreplyto jwodziafadeluucp john wo...</td>\n",
       "      <td>0</td>\n",
       "      <td>10</td>\n",
       "    </tr>\n",
       "  </tbody>\n",
       "</table>\n",
       "<p>5 rows × 23 columns</p>\n",
       "</div>"
      ],
      "text/plain": [
       "       topic_1   topic_2   topic_3   topic_4   topic_5   topic_6   topic_7  \\\n",
       "7492  0.051849 -0.010821 -0.009423 -0.014433 -0.008042  0.002312  0.011048   \n",
       "3546  0.018149 -0.003031  0.000131 -0.007123  0.004234  0.003212  0.005269   \n",
       "5582  0.050858 -0.054776 -0.013459  0.036190 -0.039906 -0.031323 -0.025280   \n",
       "4793  0.090677  0.028150  0.033529 -0.014257 -0.012785  0.043759  0.017277   \n",
       "3813  0.081170  0.006570 -0.003259 -0.041566  0.019661 -0.018651  0.002282   \n",
       "\n",
       "       topic_8   topic_9  topic_10  ...  topic_14  topic_15  topic_16  \\\n",
       "7492 -0.019142 -0.003941 -0.050777  ... -0.040190 -0.054096  0.021121   \n",
       "3546 -0.010027 -0.002491 -0.007888  ...  0.003686 -0.003512  0.016173   \n",
       "5582 -0.004076 -0.011453 -0.019108  ... -0.013882  0.002497 -0.025401   \n",
       "4793 -0.008308  0.111087 -0.003930  ...  0.015900 -0.006194  0.043516   \n",
       "3813 -0.004774 -0.010225 -0.007944  ... -0.011874 -0.004732  0.008600   \n",
       "\n",
       "      topic_17  topic_18  topic_19  topic_20  \\\n",
       "7492 -0.028638 -0.009876 -0.048188 -0.033620   \n",
       "3546  0.012867  0.000324 -0.002977 -0.008221   \n",
       "5582 -0.034682 -0.009145  0.015117  0.015439   \n",
       "4793 -0.008742  0.078084  0.098187  0.046375   \n",
       "3813 -0.016942  0.004866 -0.019257 -0.023645   \n",
       "\n",
       "                                                   text  class_pred  target  \n",
       "7492    cyclone tempestarticleid usenet1pskavqturepl...           0       4  \n",
       "3546    dos6 defragmentarticleid ux1ardie27273409793...           0       2  \n",
       "5582    sale   misc ibm stufforganization cellar bbs...           0       6  \n",
       "4793    gun backcountry thanksorganization idacom di...           8      16  \n",
       "3813    goalie masksreplyto jwodziafadeluucp john wo...           0      10  \n",
       "\n",
       "[5 rows x 23 columns]"
      ]
     },
     "execution_count": 21,
     "metadata": {},
     "output_type": "execute_result"
    }
   ],
   "source": [
    "topic_encoded_df[\"target\"] = news.target[data.index]\n",
    "topic_encoded_df.head()"
   ]
  },
  {
   "cell_type": "code",
   "execution_count": 23,
   "metadata": {},
   "outputs": [
    {
     "data": {
      "application/vnd.plotly.v1+json": {
       "config": {
        "plotlyServerURL": "https://plot.ly"
       },
       "data": [
        {
         "colorscale": [
          [
           0,
           "#440154"
          ],
          [
           0.1111111111111111,
           "#482878"
          ],
          [
           0.2222222222222222,
           "#3e4989"
          ],
          [
           0.3333333333333333,
           "#31688e"
          ],
          [
           0.4444444444444444,
           "#26828e"
          ],
          [
           0.5555555555555556,
           "#1f9e89"
          ],
          [
           0.6666666666666666,
           "#35b779"
          ],
          [
           0.7777777777777778,
           "#6ece58"
          ],
          [
           0.8888888888888888,
           "#b5de2b"
          ],
          [
           1,
           "#fde725"
          ]
         ],
         "reversescale": false,
         "showscale": true,
         "type": "heatmap",
         "x": [
          "Topic 0",
          "Topic 1",
          "Topic 2",
          "Topic 3",
          "Topic 4",
          "Topic 5",
          "Topic 6",
          "Topic 7",
          "Topic 8",
          "Topic 9",
          "Topic 10",
          "Topic 11",
          "Topic 12",
          "Topic 13",
          "Topic 14",
          "Topic 15",
          "Topic 16",
          "Topic 17",
          "Topic 18",
          "Topic 19"
         ],
         "y": [
          "Topic 0",
          "Topic 1",
          "Topic 2",
          "Topic 3",
          "Topic 4",
          "Topic 5",
          "Topic 6",
          "Topic 7",
          "Topic 8",
          "Topic 9",
          "Topic 10",
          "Topic 11",
          "Topic 12",
          "Topic 13",
          "Topic 14",
          "Topic 15",
          "Topic 16",
          "Topic 17",
          "Topic 18",
          "Topic 19"
         ],
         "z": [
          [
           0.91,
           0.07,
           0,
           0,
           0,
           0,
           0,
           0,
           0,
           0,
           0,
           0,
           0,
           0,
           0,
           0,
           0.01,
           0,
           0,
           0
          ],
          [
           0.8,
           0,
           0,
           0,
           0.02,
           0,
           0,
           0,
           0,
           0,
           0.08,
           0,
           0,
           0,
           0,
           0.02,
           0.07,
           0,
           0.02,
           0
          ],
          [
           0.65,
           0,
           0,
           0,
           0.2,
           0,
           0,
           0,
           0,
           0,
           0.08,
           0,
           0,
           0,
           0,
           0.02,
           0.03,
           0,
           0,
           0
          ],
          [
           0.81,
           0,
           0.01,
           0,
           0,
           0,
           0,
           0,
           0,
           0,
           0.15,
           0,
           0,
           0,
           0,
           0.01,
           0.01,
           0,
           0,
           0
          ],
          [
           0.83,
           0,
           0,
           0,
           0,
           0,
           0,
           0,
           0,
           0,
           0.12,
           0,
           0,
           0,
           0,
           0,
           0,
           0,
           0.05,
           0
          ],
          [
           0.75,
           0,
           0,
           0,
           0.19,
           0,
           0,
           0,
           0,
           0,
           0,
           0,
           0,
           0,
           0,
           0,
           0.02,
           0,
           0.02,
           0
          ],
          [
           0.87,
           0,
           0,
           0,
           0.02,
           0,
           0.04,
           0,
           0,
           0,
           0.05,
           0,
           0,
           0,
           0.01,
           0,
           0,
           0,
           0,
           0
          ],
          [
           0.74,
           0,
           0,
           0,
           0,
           0,
           0.22,
           0.02,
           0,
           0,
           0,
           0,
           0,
           0,
           0,
           0,
           0.01,
           0,
           0,
           0
          ],
          [
           0.59,
           0,
           0,
           0,
           0,
           0,
           0.01,
           0,
           0,
           0,
           0,
           0,
           0,
           0,
           0.36,
           0.03,
           0,
           0,
           0,
           0
          ],
          [
           0.88,
           0,
           0,
           0,
           0.09,
           0,
           0,
           0,
           0,
           0,
           0,
           0,
           0,
           0,
           0,
           0,
           0.01,
           0,
           0,
           0
          ],
          [
           0.74,
           0,
           0,
           0,
           0.23,
           0,
           0,
           0,
           0,
           0,
           0,
           0,
           0,
           0,
           0,
           0.02,
           0,
           0,
           0,
           0
          ],
          [
           0.46,
           0,
           0.54,
           0,
           0,
           0,
           0,
           0,
           0,
           0,
           0,
           0,
           0,
           0,
           0,
           0,
           0,
           0,
           0,
           0
          ],
          [
           0.88,
           0,
           0.01,
           0,
           0,
           0,
           0.01,
           0,
           0,
           0,
           0.02,
           0,
           0,
           0,
           0,
           0.03,
           0,
           0,
           0.03,
           0.01
          ],
          [
           0.71,
           0,
           0,
           0,
           0,
           0,
           0,
           0,
           0,
           0.16,
           0,
           0,
           0.12,
           0,
           0,
           0.01,
           0,
           0,
           0,
           0
          ],
          [
           0.54,
           0,
           0,
           0,
           0,
           0,
           0,
           0,
           0,
           0,
           0,
           0,
           0.01,
           0.44,
           0,
           0,
           0,
           0,
           0,
           0
          ],
          [
           0.75,
           0.19,
           0,
           0,
           0,
           0,
           0,
           0,
           0,
           0,
           0,
           0,
           0,
           0,
           0,
           0.03,
           0,
           0,
           0,
           0.02
          ],
          [
           0.82,
           0,
           0,
           0,
           0,
           0,
           0,
           0,
           0.09,
           0,
           0,
           0,
           0,
           0,
           0,
           0.03,
           0.03,
           0,
           0.02,
           0
          ],
          [
           0.37,
           0,
           0,
           0,
           0,
           0.22,
           0,
           0,
           0,
           0,
           0.01,
           0.34,
           0,
           0,
           0,
           0.05,
           0,
           0,
           0,
           0.01
          ],
          [
           1,
           0,
           0,
           0,
           0,
           0,
           0,
           0,
           0,
           0,
           0,
           0,
           0,
           0,
           0,
           0,
           0,
           0,
           0,
           0
          ],
          [
           0.9,
           0.07,
           0,
           0.01,
           0,
           0,
           0,
           0,
           0.01,
           0,
           0,
           0,
           0.01,
           0,
           0,
           0,
           0.01,
           0,
           0,
           0.01
          ]
         ]
        }
       ],
       "layout": {
        "annotations": [
         {
          "font": {
           "color": "#000000"
          },
          "showarrow": false,
          "text": "0.91",
          "x": "Topic 0",
          "xref": "x",
          "y": "Topic 0",
          "yref": "y"
         },
         {
          "font": {
           "color": "#FFFFFF"
          },
          "showarrow": false,
          "text": "0.07",
          "x": "Topic 1",
          "xref": "x",
          "y": "Topic 0",
          "yref": "y"
         },
         {
          "font": {
           "color": "#FFFFFF"
          },
          "showarrow": false,
          "text": "0.0",
          "x": "Topic 2",
          "xref": "x",
          "y": "Topic 0",
          "yref": "y"
         },
         {
          "font": {
           "color": "#FFFFFF"
          },
          "showarrow": false,
          "text": "0.0",
          "x": "Topic 3",
          "xref": "x",
          "y": "Topic 0",
          "yref": "y"
         },
         {
          "font": {
           "color": "#FFFFFF"
          },
          "showarrow": false,
          "text": "0.0",
          "x": "Topic 4",
          "xref": "x",
          "y": "Topic 0",
          "yref": "y"
         },
         {
          "font": {
           "color": "#FFFFFF"
          },
          "showarrow": false,
          "text": "0.0",
          "x": "Topic 5",
          "xref": "x",
          "y": "Topic 0",
          "yref": "y"
         },
         {
          "font": {
           "color": "#FFFFFF"
          },
          "showarrow": false,
          "text": "0.0",
          "x": "Topic 6",
          "xref": "x",
          "y": "Topic 0",
          "yref": "y"
         },
         {
          "font": {
           "color": "#FFFFFF"
          },
          "showarrow": false,
          "text": "0.0",
          "x": "Topic 7",
          "xref": "x",
          "y": "Topic 0",
          "yref": "y"
         },
         {
          "font": {
           "color": "#FFFFFF"
          },
          "showarrow": false,
          "text": "0.0",
          "x": "Topic 8",
          "xref": "x",
          "y": "Topic 0",
          "yref": "y"
         },
         {
          "font": {
           "color": "#FFFFFF"
          },
          "showarrow": false,
          "text": "0.0",
          "x": "Topic 9",
          "xref": "x",
          "y": "Topic 0",
          "yref": "y"
         },
         {
          "font": {
           "color": "#FFFFFF"
          },
          "showarrow": false,
          "text": "0.0",
          "x": "Topic 10",
          "xref": "x",
          "y": "Topic 0",
          "yref": "y"
         },
         {
          "font": {
           "color": "#FFFFFF"
          },
          "showarrow": false,
          "text": "0.0",
          "x": "Topic 11",
          "xref": "x",
          "y": "Topic 0",
          "yref": "y"
         },
         {
          "font": {
           "color": "#FFFFFF"
          },
          "showarrow": false,
          "text": "0.0",
          "x": "Topic 12",
          "xref": "x",
          "y": "Topic 0",
          "yref": "y"
         },
         {
          "font": {
           "color": "#FFFFFF"
          },
          "showarrow": false,
          "text": "0.0",
          "x": "Topic 13",
          "xref": "x",
          "y": "Topic 0",
          "yref": "y"
         },
         {
          "font": {
           "color": "#FFFFFF"
          },
          "showarrow": false,
          "text": "0.0",
          "x": "Topic 14",
          "xref": "x",
          "y": "Topic 0",
          "yref": "y"
         },
         {
          "font": {
           "color": "#FFFFFF"
          },
          "showarrow": false,
          "text": "0.0",
          "x": "Topic 15",
          "xref": "x",
          "y": "Topic 0",
          "yref": "y"
         },
         {
          "font": {
           "color": "#FFFFFF"
          },
          "showarrow": false,
          "text": "0.01",
          "x": "Topic 16",
          "xref": "x",
          "y": "Topic 0",
          "yref": "y"
         },
         {
          "font": {
           "color": "#FFFFFF"
          },
          "showarrow": false,
          "text": "0.0",
          "x": "Topic 17",
          "xref": "x",
          "y": "Topic 0",
          "yref": "y"
         },
         {
          "font": {
           "color": "#FFFFFF"
          },
          "showarrow": false,
          "text": "0.0",
          "x": "Topic 18",
          "xref": "x",
          "y": "Topic 0",
          "yref": "y"
         },
         {
          "font": {
           "color": "#FFFFFF"
          },
          "showarrow": false,
          "text": "0.0",
          "x": "Topic 19",
          "xref": "x",
          "y": "Topic 0",
          "yref": "y"
         },
         {
          "font": {
           "color": "#000000"
          },
          "showarrow": false,
          "text": "0.8",
          "x": "Topic 0",
          "xref": "x",
          "y": "Topic 1",
          "yref": "y"
         },
         {
          "font": {
           "color": "#FFFFFF"
          },
          "showarrow": false,
          "text": "0.0",
          "x": "Topic 1",
          "xref": "x",
          "y": "Topic 1",
          "yref": "y"
         },
         {
          "font": {
           "color": "#FFFFFF"
          },
          "showarrow": false,
          "text": "0.0",
          "x": "Topic 2",
          "xref": "x",
          "y": "Topic 1",
          "yref": "y"
         },
         {
          "font": {
           "color": "#FFFFFF"
          },
          "showarrow": false,
          "text": "0.0",
          "x": "Topic 3",
          "xref": "x",
          "y": "Topic 1",
          "yref": "y"
         },
         {
          "font": {
           "color": "#FFFFFF"
          },
          "showarrow": false,
          "text": "0.02",
          "x": "Topic 4",
          "xref": "x",
          "y": "Topic 1",
          "yref": "y"
         },
         {
          "font": {
           "color": "#FFFFFF"
          },
          "showarrow": false,
          "text": "0.0",
          "x": "Topic 5",
          "xref": "x",
          "y": "Topic 1",
          "yref": "y"
         },
         {
          "font": {
           "color": "#FFFFFF"
          },
          "showarrow": false,
          "text": "0.0",
          "x": "Topic 6",
          "xref": "x",
          "y": "Topic 1",
          "yref": "y"
         },
         {
          "font": {
           "color": "#FFFFFF"
          },
          "showarrow": false,
          "text": "0.0",
          "x": "Topic 7",
          "xref": "x",
          "y": "Topic 1",
          "yref": "y"
         },
         {
          "font": {
           "color": "#FFFFFF"
          },
          "showarrow": false,
          "text": "0.0",
          "x": "Topic 8",
          "xref": "x",
          "y": "Topic 1",
          "yref": "y"
         },
         {
          "font": {
           "color": "#FFFFFF"
          },
          "showarrow": false,
          "text": "0.0",
          "x": "Topic 9",
          "xref": "x",
          "y": "Topic 1",
          "yref": "y"
         },
         {
          "font": {
           "color": "#FFFFFF"
          },
          "showarrow": false,
          "text": "0.08",
          "x": "Topic 10",
          "xref": "x",
          "y": "Topic 1",
          "yref": "y"
         },
         {
          "font": {
           "color": "#FFFFFF"
          },
          "showarrow": false,
          "text": "0.0",
          "x": "Topic 11",
          "xref": "x",
          "y": "Topic 1",
          "yref": "y"
         },
         {
          "font": {
           "color": "#FFFFFF"
          },
          "showarrow": false,
          "text": "0.0",
          "x": "Topic 12",
          "xref": "x",
          "y": "Topic 1",
          "yref": "y"
         },
         {
          "font": {
           "color": "#FFFFFF"
          },
          "showarrow": false,
          "text": "0.0",
          "x": "Topic 13",
          "xref": "x",
          "y": "Topic 1",
          "yref": "y"
         },
         {
          "font": {
           "color": "#FFFFFF"
          },
          "showarrow": false,
          "text": "0.0",
          "x": "Topic 14",
          "xref": "x",
          "y": "Topic 1",
          "yref": "y"
         },
         {
          "font": {
           "color": "#FFFFFF"
          },
          "showarrow": false,
          "text": "0.02",
          "x": "Topic 15",
          "xref": "x",
          "y": "Topic 1",
          "yref": "y"
         },
         {
          "font": {
           "color": "#FFFFFF"
          },
          "showarrow": false,
          "text": "0.07",
          "x": "Topic 16",
          "xref": "x",
          "y": "Topic 1",
          "yref": "y"
         },
         {
          "font": {
           "color": "#FFFFFF"
          },
          "showarrow": false,
          "text": "0.0",
          "x": "Topic 17",
          "xref": "x",
          "y": "Topic 1",
          "yref": "y"
         },
         {
          "font": {
           "color": "#FFFFFF"
          },
          "showarrow": false,
          "text": "0.02",
          "x": "Topic 18",
          "xref": "x",
          "y": "Topic 1",
          "yref": "y"
         },
         {
          "font": {
           "color": "#FFFFFF"
          },
          "showarrow": false,
          "text": "0.0",
          "x": "Topic 19",
          "xref": "x",
          "y": "Topic 1",
          "yref": "y"
         },
         {
          "font": {
           "color": "#000000"
          },
          "showarrow": false,
          "text": "0.65",
          "x": "Topic 0",
          "xref": "x",
          "y": "Topic 2",
          "yref": "y"
         },
         {
          "font": {
           "color": "#FFFFFF"
          },
          "showarrow": false,
          "text": "0.0",
          "x": "Topic 1",
          "xref": "x",
          "y": "Topic 2",
          "yref": "y"
         },
         {
          "font": {
           "color": "#FFFFFF"
          },
          "showarrow": false,
          "text": "0.0",
          "x": "Topic 2",
          "xref": "x",
          "y": "Topic 2",
          "yref": "y"
         },
         {
          "font": {
           "color": "#FFFFFF"
          },
          "showarrow": false,
          "text": "0.0",
          "x": "Topic 3",
          "xref": "x",
          "y": "Topic 2",
          "yref": "y"
         },
         {
          "font": {
           "color": "#FFFFFF"
          },
          "showarrow": false,
          "text": "0.2",
          "x": "Topic 4",
          "xref": "x",
          "y": "Topic 2",
          "yref": "y"
         },
         {
          "font": {
           "color": "#FFFFFF"
          },
          "showarrow": false,
          "text": "0.0",
          "x": "Topic 5",
          "xref": "x",
          "y": "Topic 2",
          "yref": "y"
         },
         {
          "font": {
           "color": "#FFFFFF"
          },
          "showarrow": false,
          "text": "0.0",
          "x": "Topic 6",
          "xref": "x",
          "y": "Topic 2",
          "yref": "y"
         },
         {
          "font": {
           "color": "#FFFFFF"
          },
          "showarrow": false,
          "text": "0.0",
          "x": "Topic 7",
          "xref": "x",
          "y": "Topic 2",
          "yref": "y"
         },
         {
          "font": {
           "color": "#FFFFFF"
          },
          "showarrow": false,
          "text": "0.0",
          "x": "Topic 8",
          "xref": "x",
          "y": "Topic 2",
          "yref": "y"
         },
         {
          "font": {
           "color": "#FFFFFF"
          },
          "showarrow": false,
          "text": "0.0",
          "x": "Topic 9",
          "xref": "x",
          "y": "Topic 2",
          "yref": "y"
         },
         {
          "font": {
           "color": "#FFFFFF"
          },
          "showarrow": false,
          "text": "0.08",
          "x": "Topic 10",
          "xref": "x",
          "y": "Topic 2",
          "yref": "y"
         },
         {
          "font": {
           "color": "#FFFFFF"
          },
          "showarrow": false,
          "text": "0.0",
          "x": "Topic 11",
          "xref": "x",
          "y": "Topic 2",
          "yref": "y"
         },
         {
          "font": {
           "color": "#FFFFFF"
          },
          "showarrow": false,
          "text": "0.0",
          "x": "Topic 12",
          "xref": "x",
          "y": "Topic 2",
          "yref": "y"
         },
         {
          "font": {
           "color": "#FFFFFF"
          },
          "showarrow": false,
          "text": "0.0",
          "x": "Topic 13",
          "xref": "x",
          "y": "Topic 2",
          "yref": "y"
         },
         {
          "font": {
           "color": "#FFFFFF"
          },
          "showarrow": false,
          "text": "0.0",
          "x": "Topic 14",
          "xref": "x",
          "y": "Topic 2",
          "yref": "y"
         },
         {
          "font": {
           "color": "#FFFFFF"
          },
          "showarrow": false,
          "text": "0.02",
          "x": "Topic 15",
          "xref": "x",
          "y": "Topic 2",
          "yref": "y"
         },
         {
          "font": {
           "color": "#FFFFFF"
          },
          "showarrow": false,
          "text": "0.03",
          "x": "Topic 16",
          "xref": "x",
          "y": "Topic 2",
          "yref": "y"
         },
         {
          "font": {
           "color": "#FFFFFF"
          },
          "showarrow": false,
          "text": "0.0",
          "x": "Topic 17",
          "xref": "x",
          "y": "Topic 2",
          "yref": "y"
         },
         {
          "font": {
           "color": "#FFFFFF"
          },
          "showarrow": false,
          "text": "0.0",
          "x": "Topic 18",
          "xref": "x",
          "y": "Topic 2",
          "yref": "y"
         },
         {
          "font": {
           "color": "#FFFFFF"
          },
          "showarrow": false,
          "text": "0.0",
          "x": "Topic 19",
          "xref": "x",
          "y": "Topic 2",
          "yref": "y"
         },
         {
          "font": {
           "color": "#000000"
          },
          "showarrow": false,
          "text": "0.81",
          "x": "Topic 0",
          "xref": "x",
          "y": "Topic 3",
          "yref": "y"
         },
         {
          "font": {
           "color": "#FFFFFF"
          },
          "showarrow": false,
          "text": "0.0",
          "x": "Topic 1",
          "xref": "x",
          "y": "Topic 3",
          "yref": "y"
         },
         {
          "font": {
           "color": "#FFFFFF"
          },
          "showarrow": false,
          "text": "0.01",
          "x": "Topic 2",
          "xref": "x",
          "y": "Topic 3",
          "yref": "y"
         },
         {
          "font": {
           "color": "#FFFFFF"
          },
          "showarrow": false,
          "text": "0.0",
          "x": "Topic 3",
          "xref": "x",
          "y": "Topic 3",
          "yref": "y"
         },
         {
          "font": {
           "color": "#FFFFFF"
          },
          "showarrow": false,
          "text": "0.0",
          "x": "Topic 4",
          "xref": "x",
          "y": "Topic 3",
          "yref": "y"
         },
         {
          "font": {
           "color": "#FFFFFF"
          },
          "showarrow": false,
          "text": "0.0",
          "x": "Topic 5",
          "xref": "x",
          "y": "Topic 3",
          "yref": "y"
         },
         {
          "font": {
           "color": "#FFFFFF"
          },
          "showarrow": false,
          "text": "0.0",
          "x": "Topic 6",
          "xref": "x",
          "y": "Topic 3",
          "yref": "y"
         },
         {
          "font": {
           "color": "#FFFFFF"
          },
          "showarrow": false,
          "text": "0.0",
          "x": "Topic 7",
          "xref": "x",
          "y": "Topic 3",
          "yref": "y"
         },
         {
          "font": {
           "color": "#FFFFFF"
          },
          "showarrow": false,
          "text": "0.0",
          "x": "Topic 8",
          "xref": "x",
          "y": "Topic 3",
          "yref": "y"
         },
         {
          "font": {
           "color": "#FFFFFF"
          },
          "showarrow": false,
          "text": "0.0",
          "x": "Topic 9",
          "xref": "x",
          "y": "Topic 3",
          "yref": "y"
         },
         {
          "font": {
           "color": "#FFFFFF"
          },
          "showarrow": false,
          "text": "0.15",
          "x": "Topic 10",
          "xref": "x",
          "y": "Topic 3",
          "yref": "y"
         },
         {
          "font": {
           "color": "#FFFFFF"
          },
          "showarrow": false,
          "text": "0.0",
          "x": "Topic 11",
          "xref": "x",
          "y": "Topic 3",
          "yref": "y"
         },
         {
          "font": {
           "color": "#FFFFFF"
          },
          "showarrow": false,
          "text": "0.0",
          "x": "Topic 12",
          "xref": "x",
          "y": "Topic 3",
          "yref": "y"
         },
         {
          "font": {
           "color": "#FFFFFF"
          },
          "showarrow": false,
          "text": "0.0",
          "x": "Topic 13",
          "xref": "x",
          "y": "Topic 3",
          "yref": "y"
         },
         {
          "font": {
           "color": "#FFFFFF"
          },
          "showarrow": false,
          "text": "0.0",
          "x": "Topic 14",
          "xref": "x",
          "y": "Topic 3",
          "yref": "y"
         },
         {
          "font": {
           "color": "#FFFFFF"
          },
          "showarrow": false,
          "text": "0.01",
          "x": "Topic 15",
          "xref": "x",
          "y": "Topic 3",
          "yref": "y"
         },
         {
          "font": {
           "color": "#FFFFFF"
          },
          "showarrow": false,
          "text": "0.01",
          "x": "Topic 16",
          "xref": "x",
          "y": "Topic 3",
          "yref": "y"
         },
         {
          "font": {
           "color": "#FFFFFF"
          },
          "showarrow": false,
          "text": "0.0",
          "x": "Topic 17",
          "xref": "x",
          "y": "Topic 3",
          "yref": "y"
         },
         {
          "font": {
           "color": "#FFFFFF"
          },
          "showarrow": false,
          "text": "0.0",
          "x": "Topic 18",
          "xref": "x",
          "y": "Topic 3",
          "yref": "y"
         },
         {
          "font": {
           "color": "#FFFFFF"
          },
          "showarrow": false,
          "text": "0.0",
          "x": "Topic 19",
          "xref": "x",
          "y": "Topic 3",
          "yref": "y"
         },
         {
          "font": {
           "color": "#000000"
          },
          "showarrow": false,
          "text": "0.83",
          "x": "Topic 0",
          "xref": "x",
          "y": "Topic 4",
          "yref": "y"
         },
         {
          "font": {
           "color": "#FFFFFF"
          },
          "showarrow": false,
          "text": "0.0",
          "x": "Topic 1",
          "xref": "x",
          "y": "Topic 4",
          "yref": "y"
         },
         {
          "font": {
           "color": "#FFFFFF"
          },
          "showarrow": false,
          "text": "0.0",
          "x": "Topic 2",
          "xref": "x",
          "y": "Topic 4",
          "yref": "y"
         },
         {
          "font": {
           "color": "#FFFFFF"
          },
          "showarrow": false,
          "text": "0.0",
          "x": "Topic 3",
          "xref": "x",
          "y": "Topic 4",
          "yref": "y"
         },
         {
          "font": {
           "color": "#FFFFFF"
          },
          "showarrow": false,
          "text": "0.0",
          "x": "Topic 4",
          "xref": "x",
          "y": "Topic 4",
          "yref": "y"
         },
         {
          "font": {
           "color": "#FFFFFF"
          },
          "showarrow": false,
          "text": "0.0",
          "x": "Topic 5",
          "xref": "x",
          "y": "Topic 4",
          "yref": "y"
         },
         {
          "font": {
           "color": "#FFFFFF"
          },
          "showarrow": false,
          "text": "0.0",
          "x": "Topic 6",
          "xref": "x",
          "y": "Topic 4",
          "yref": "y"
         },
         {
          "font": {
           "color": "#FFFFFF"
          },
          "showarrow": false,
          "text": "0.0",
          "x": "Topic 7",
          "xref": "x",
          "y": "Topic 4",
          "yref": "y"
         },
         {
          "font": {
           "color": "#FFFFFF"
          },
          "showarrow": false,
          "text": "0.0",
          "x": "Topic 8",
          "xref": "x",
          "y": "Topic 4",
          "yref": "y"
         },
         {
          "font": {
           "color": "#FFFFFF"
          },
          "showarrow": false,
          "text": "0.0",
          "x": "Topic 9",
          "xref": "x",
          "y": "Topic 4",
          "yref": "y"
         },
         {
          "font": {
           "color": "#FFFFFF"
          },
          "showarrow": false,
          "text": "0.12",
          "x": "Topic 10",
          "xref": "x",
          "y": "Topic 4",
          "yref": "y"
         },
         {
          "font": {
           "color": "#FFFFFF"
          },
          "showarrow": false,
          "text": "0.0",
          "x": "Topic 11",
          "xref": "x",
          "y": "Topic 4",
          "yref": "y"
         },
         {
          "font": {
           "color": "#FFFFFF"
          },
          "showarrow": false,
          "text": "0.0",
          "x": "Topic 12",
          "xref": "x",
          "y": "Topic 4",
          "yref": "y"
         },
         {
          "font": {
           "color": "#FFFFFF"
          },
          "showarrow": false,
          "text": "0.0",
          "x": "Topic 13",
          "xref": "x",
          "y": "Topic 4",
          "yref": "y"
         },
         {
          "font": {
           "color": "#FFFFFF"
          },
          "showarrow": false,
          "text": "0.0",
          "x": "Topic 14",
          "xref": "x",
          "y": "Topic 4",
          "yref": "y"
         },
         {
          "font": {
           "color": "#FFFFFF"
          },
          "showarrow": false,
          "text": "0.0",
          "x": "Topic 15",
          "xref": "x",
          "y": "Topic 4",
          "yref": "y"
         },
         {
          "font": {
           "color": "#FFFFFF"
          },
          "showarrow": false,
          "text": "0.0",
          "x": "Topic 16",
          "xref": "x",
          "y": "Topic 4",
          "yref": "y"
         },
         {
          "font": {
           "color": "#FFFFFF"
          },
          "showarrow": false,
          "text": "0.0",
          "x": "Topic 17",
          "xref": "x",
          "y": "Topic 4",
          "yref": "y"
         },
         {
          "font": {
           "color": "#FFFFFF"
          },
          "showarrow": false,
          "text": "0.05",
          "x": "Topic 18",
          "xref": "x",
          "y": "Topic 4",
          "yref": "y"
         },
         {
          "font": {
           "color": "#FFFFFF"
          },
          "showarrow": false,
          "text": "0.0",
          "x": "Topic 19",
          "xref": "x",
          "y": "Topic 4",
          "yref": "y"
         },
         {
          "font": {
           "color": "#000000"
          },
          "showarrow": false,
          "text": "0.75",
          "x": "Topic 0",
          "xref": "x",
          "y": "Topic 5",
          "yref": "y"
         },
         {
          "font": {
           "color": "#FFFFFF"
          },
          "showarrow": false,
          "text": "0.0",
          "x": "Topic 1",
          "xref": "x",
          "y": "Topic 5",
          "yref": "y"
         },
         {
          "font": {
           "color": "#FFFFFF"
          },
          "showarrow": false,
          "text": "0.0",
          "x": "Topic 2",
          "xref": "x",
          "y": "Topic 5",
          "yref": "y"
         },
         {
          "font": {
           "color": "#FFFFFF"
          },
          "showarrow": false,
          "text": "0.0",
          "x": "Topic 3",
          "xref": "x",
          "y": "Topic 5",
          "yref": "y"
         },
         {
          "font": {
           "color": "#FFFFFF"
          },
          "showarrow": false,
          "text": "0.19",
          "x": "Topic 4",
          "xref": "x",
          "y": "Topic 5",
          "yref": "y"
         },
         {
          "font": {
           "color": "#FFFFFF"
          },
          "showarrow": false,
          "text": "0.0",
          "x": "Topic 5",
          "xref": "x",
          "y": "Topic 5",
          "yref": "y"
         },
         {
          "font": {
           "color": "#FFFFFF"
          },
          "showarrow": false,
          "text": "0.0",
          "x": "Topic 6",
          "xref": "x",
          "y": "Topic 5",
          "yref": "y"
         },
         {
          "font": {
           "color": "#FFFFFF"
          },
          "showarrow": false,
          "text": "0.0",
          "x": "Topic 7",
          "xref": "x",
          "y": "Topic 5",
          "yref": "y"
         },
         {
          "font": {
           "color": "#FFFFFF"
          },
          "showarrow": false,
          "text": "0.0",
          "x": "Topic 8",
          "xref": "x",
          "y": "Topic 5",
          "yref": "y"
         },
         {
          "font": {
           "color": "#FFFFFF"
          },
          "showarrow": false,
          "text": "0.0",
          "x": "Topic 9",
          "xref": "x",
          "y": "Topic 5",
          "yref": "y"
         },
         {
          "font": {
           "color": "#FFFFFF"
          },
          "showarrow": false,
          "text": "0.0",
          "x": "Topic 10",
          "xref": "x",
          "y": "Topic 5",
          "yref": "y"
         },
         {
          "font": {
           "color": "#FFFFFF"
          },
          "showarrow": false,
          "text": "0.0",
          "x": "Topic 11",
          "xref": "x",
          "y": "Topic 5",
          "yref": "y"
         },
         {
          "font": {
           "color": "#FFFFFF"
          },
          "showarrow": false,
          "text": "0.0",
          "x": "Topic 12",
          "xref": "x",
          "y": "Topic 5",
          "yref": "y"
         },
         {
          "font": {
           "color": "#FFFFFF"
          },
          "showarrow": false,
          "text": "0.0",
          "x": "Topic 13",
          "xref": "x",
          "y": "Topic 5",
          "yref": "y"
         },
         {
          "font": {
           "color": "#FFFFFF"
          },
          "showarrow": false,
          "text": "0.0",
          "x": "Topic 14",
          "xref": "x",
          "y": "Topic 5",
          "yref": "y"
         },
         {
          "font": {
           "color": "#FFFFFF"
          },
          "showarrow": false,
          "text": "0.0",
          "x": "Topic 15",
          "xref": "x",
          "y": "Topic 5",
          "yref": "y"
         },
         {
          "font": {
           "color": "#FFFFFF"
          },
          "showarrow": false,
          "text": "0.02",
          "x": "Topic 16",
          "xref": "x",
          "y": "Topic 5",
          "yref": "y"
         },
         {
          "font": {
           "color": "#FFFFFF"
          },
          "showarrow": false,
          "text": "0.0",
          "x": "Topic 17",
          "xref": "x",
          "y": "Topic 5",
          "yref": "y"
         },
         {
          "font": {
           "color": "#FFFFFF"
          },
          "showarrow": false,
          "text": "0.02",
          "x": "Topic 18",
          "xref": "x",
          "y": "Topic 5",
          "yref": "y"
         },
         {
          "font": {
           "color": "#FFFFFF"
          },
          "showarrow": false,
          "text": "0.0",
          "x": "Topic 19",
          "xref": "x",
          "y": "Topic 5",
          "yref": "y"
         },
         {
          "font": {
           "color": "#000000"
          },
          "showarrow": false,
          "text": "0.87",
          "x": "Topic 0",
          "xref": "x",
          "y": "Topic 6",
          "yref": "y"
         },
         {
          "font": {
           "color": "#FFFFFF"
          },
          "showarrow": false,
          "text": "0.0",
          "x": "Topic 1",
          "xref": "x",
          "y": "Topic 6",
          "yref": "y"
         },
         {
          "font": {
           "color": "#FFFFFF"
          },
          "showarrow": false,
          "text": "0.0",
          "x": "Topic 2",
          "xref": "x",
          "y": "Topic 6",
          "yref": "y"
         },
         {
          "font": {
           "color": "#FFFFFF"
          },
          "showarrow": false,
          "text": "0.0",
          "x": "Topic 3",
          "xref": "x",
          "y": "Topic 6",
          "yref": "y"
         },
         {
          "font": {
           "color": "#FFFFFF"
          },
          "showarrow": false,
          "text": "0.02",
          "x": "Topic 4",
          "xref": "x",
          "y": "Topic 6",
          "yref": "y"
         },
         {
          "font": {
           "color": "#FFFFFF"
          },
          "showarrow": false,
          "text": "0.0",
          "x": "Topic 5",
          "xref": "x",
          "y": "Topic 6",
          "yref": "y"
         },
         {
          "font": {
           "color": "#FFFFFF"
          },
          "showarrow": false,
          "text": "0.04",
          "x": "Topic 6",
          "xref": "x",
          "y": "Topic 6",
          "yref": "y"
         },
         {
          "font": {
           "color": "#FFFFFF"
          },
          "showarrow": false,
          "text": "0.0",
          "x": "Topic 7",
          "xref": "x",
          "y": "Topic 6",
          "yref": "y"
         },
         {
          "font": {
           "color": "#FFFFFF"
          },
          "showarrow": false,
          "text": "0.0",
          "x": "Topic 8",
          "xref": "x",
          "y": "Topic 6",
          "yref": "y"
         },
         {
          "font": {
           "color": "#FFFFFF"
          },
          "showarrow": false,
          "text": "0.0",
          "x": "Topic 9",
          "xref": "x",
          "y": "Topic 6",
          "yref": "y"
         },
         {
          "font": {
           "color": "#FFFFFF"
          },
          "showarrow": false,
          "text": "0.05",
          "x": "Topic 10",
          "xref": "x",
          "y": "Topic 6",
          "yref": "y"
         },
         {
          "font": {
           "color": "#FFFFFF"
          },
          "showarrow": false,
          "text": "0.0",
          "x": "Topic 11",
          "xref": "x",
          "y": "Topic 6",
          "yref": "y"
         },
         {
          "font": {
           "color": "#FFFFFF"
          },
          "showarrow": false,
          "text": "0.0",
          "x": "Topic 12",
          "xref": "x",
          "y": "Topic 6",
          "yref": "y"
         },
         {
          "font": {
           "color": "#FFFFFF"
          },
          "showarrow": false,
          "text": "0.0",
          "x": "Topic 13",
          "xref": "x",
          "y": "Topic 6",
          "yref": "y"
         },
         {
          "font": {
           "color": "#FFFFFF"
          },
          "showarrow": false,
          "text": "0.01",
          "x": "Topic 14",
          "xref": "x",
          "y": "Topic 6",
          "yref": "y"
         },
         {
          "font": {
           "color": "#FFFFFF"
          },
          "showarrow": false,
          "text": "0.0",
          "x": "Topic 15",
          "xref": "x",
          "y": "Topic 6",
          "yref": "y"
         },
         {
          "font": {
           "color": "#FFFFFF"
          },
          "showarrow": false,
          "text": "0.0",
          "x": "Topic 16",
          "xref": "x",
          "y": "Topic 6",
          "yref": "y"
         },
         {
          "font": {
           "color": "#FFFFFF"
          },
          "showarrow": false,
          "text": "0.0",
          "x": "Topic 17",
          "xref": "x",
          "y": "Topic 6",
          "yref": "y"
         },
         {
          "font": {
           "color": "#FFFFFF"
          },
          "showarrow": false,
          "text": "0.0",
          "x": "Topic 18",
          "xref": "x",
          "y": "Topic 6",
          "yref": "y"
         },
         {
          "font": {
           "color": "#FFFFFF"
          },
          "showarrow": false,
          "text": "0.0",
          "x": "Topic 19",
          "xref": "x",
          "y": "Topic 6",
          "yref": "y"
         },
         {
          "font": {
           "color": "#000000"
          },
          "showarrow": false,
          "text": "0.74",
          "x": "Topic 0",
          "xref": "x",
          "y": "Topic 7",
          "yref": "y"
         },
         {
          "font": {
           "color": "#FFFFFF"
          },
          "showarrow": false,
          "text": "0.0",
          "x": "Topic 1",
          "xref": "x",
          "y": "Topic 7",
          "yref": "y"
         },
         {
          "font": {
           "color": "#FFFFFF"
          },
          "showarrow": false,
          "text": "0.0",
          "x": "Topic 2",
          "xref": "x",
          "y": "Topic 7",
          "yref": "y"
         },
         {
          "font": {
           "color": "#FFFFFF"
          },
          "showarrow": false,
          "text": "0.0",
          "x": "Topic 3",
          "xref": "x",
          "y": "Topic 7",
          "yref": "y"
         },
         {
          "font": {
           "color": "#FFFFFF"
          },
          "showarrow": false,
          "text": "0.0",
          "x": "Topic 4",
          "xref": "x",
          "y": "Topic 7",
          "yref": "y"
         },
         {
          "font": {
           "color": "#FFFFFF"
          },
          "showarrow": false,
          "text": "0.0",
          "x": "Topic 5",
          "xref": "x",
          "y": "Topic 7",
          "yref": "y"
         },
         {
          "font": {
           "color": "#FFFFFF"
          },
          "showarrow": false,
          "text": "0.22",
          "x": "Topic 6",
          "xref": "x",
          "y": "Topic 7",
          "yref": "y"
         },
         {
          "font": {
           "color": "#FFFFFF"
          },
          "showarrow": false,
          "text": "0.02",
          "x": "Topic 7",
          "xref": "x",
          "y": "Topic 7",
          "yref": "y"
         },
         {
          "font": {
           "color": "#FFFFFF"
          },
          "showarrow": false,
          "text": "0.0",
          "x": "Topic 8",
          "xref": "x",
          "y": "Topic 7",
          "yref": "y"
         },
         {
          "font": {
           "color": "#FFFFFF"
          },
          "showarrow": false,
          "text": "0.0",
          "x": "Topic 9",
          "xref": "x",
          "y": "Topic 7",
          "yref": "y"
         },
         {
          "font": {
           "color": "#FFFFFF"
          },
          "showarrow": false,
          "text": "0.0",
          "x": "Topic 10",
          "xref": "x",
          "y": "Topic 7",
          "yref": "y"
         },
         {
          "font": {
           "color": "#FFFFFF"
          },
          "showarrow": false,
          "text": "0.0",
          "x": "Topic 11",
          "xref": "x",
          "y": "Topic 7",
          "yref": "y"
         },
         {
          "font": {
           "color": "#FFFFFF"
          },
          "showarrow": false,
          "text": "0.0",
          "x": "Topic 12",
          "xref": "x",
          "y": "Topic 7",
          "yref": "y"
         },
         {
          "font": {
           "color": "#FFFFFF"
          },
          "showarrow": false,
          "text": "0.0",
          "x": "Topic 13",
          "xref": "x",
          "y": "Topic 7",
          "yref": "y"
         },
         {
          "font": {
           "color": "#FFFFFF"
          },
          "showarrow": false,
          "text": "0.0",
          "x": "Topic 14",
          "xref": "x",
          "y": "Topic 7",
          "yref": "y"
         },
         {
          "font": {
           "color": "#FFFFFF"
          },
          "showarrow": false,
          "text": "0.0",
          "x": "Topic 15",
          "xref": "x",
          "y": "Topic 7",
          "yref": "y"
         },
         {
          "font": {
           "color": "#FFFFFF"
          },
          "showarrow": false,
          "text": "0.01",
          "x": "Topic 16",
          "xref": "x",
          "y": "Topic 7",
          "yref": "y"
         },
         {
          "font": {
           "color": "#FFFFFF"
          },
          "showarrow": false,
          "text": "0.0",
          "x": "Topic 17",
          "xref": "x",
          "y": "Topic 7",
          "yref": "y"
         },
         {
          "font": {
           "color": "#FFFFFF"
          },
          "showarrow": false,
          "text": "0.0",
          "x": "Topic 18",
          "xref": "x",
          "y": "Topic 7",
          "yref": "y"
         },
         {
          "font": {
           "color": "#FFFFFF"
          },
          "showarrow": false,
          "text": "0.0",
          "x": "Topic 19",
          "xref": "x",
          "y": "Topic 7",
          "yref": "y"
         },
         {
          "font": {
           "color": "#000000"
          },
          "showarrow": false,
          "text": "0.59",
          "x": "Topic 0",
          "xref": "x",
          "y": "Topic 8",
          "yref": "y"
         },
         {
          "font": {
           "color": "#FFFFFF"
          },
          "showarrow": false,
          "text": "0.0",
          "x": "Topic 1",
          "xref": "x",
          "y": "Topic 8",
          "yref": "y"
         },
         {
          "font": {
           "color": "#FFFFFF"
          },
          "showarrow": false,
          "text": "0.0",
          "x": "Topic 2",
          "xref": "x",
          "y": "Topic 8",
          "yref": "y"
         },
         {
          "font": {
           "color": "#FFFFFF"
          },
          "showarrow": false,
          "text": "0.0",
          "x": "Topic 3",
          "xref": "x",
          "y": "Topic 8",
          "yref": "y"
         },
         {
          "font": {
           "color": "#FFFFFF"
          },
          "showarrow": false,
          "text": "0.0",
          "x": "Topic 4",
          "xref": "x",
          "y": "Topic 8",
          "yref": "y"
         },
         {
          "font": {
           "color": "#FFFFFF"
          },
          "showarrow": false,
          "text": "0.0",
          "x": "Topic 5",
          "xref": "x",
          "y": "Topic 8",
          "yref": "y"
         },
         {
          "font": {
           "color": "#FFFFFF"
          },
          "showarrow": false,
          "text": "0.01",
          "x": "Topic 6",
          "xref": "x",
          "y": "Topic 8",
          "yref": "y"
         },
         {
          "font": {
           "color": "#FFFFFF"
          },
          "showarrow": false,
          "text": "0.0",
          "x": "Topic 7",
          "xref": "x",
          "y": "Topic 8",
          "yref": "y"
         },
         {
          "font": {
           "color": "#FFFFFF"
          },
          "showarrow": false,
          "text": "0.0",
          "x": "Topic 8",
          "xref": "x",
          "y": "Topic 8",
          "yref": "y"
         },
         {
          "font": {
           "color": "#FFFFFF"
          },
          "showarrow": false,
          "text": "0.0",
          "x": "Topic 9",
          "xref": "x",
          "y": "Topic 8",
          "yref": "y"
         },
         {
          "font": {
           "color": "#FFFFFF"
          },
          "showarrow": false,
          "text": "0.0",
          "x": "Topic 10",
          "xref": "x",
          "y": "Topic 8",
          "yref": "y"
         },
         {
          "font": {
           "color": "#FFFFFF"
          },
          "showarrow": false,
          "text": "0.0",
          "x": "Topic 11",
          "xref": "x",
          "y": "Topic 8",
          "yref": "y"
         },
         {
          "font": {
           "color": "#FFFFFF"
          },
          "showarrow": false,
          "text": "0.0",
          "x": "Topic 12",
          "xref": "x",
          "y": "Topic 8",
          "yref": "y"
         },
         {
          "font": {
           "color": "#FFFFFF"
          },
          "showarrow": false,
          "text": "0.0",
          "x": "Topic 13",
          "xref": "x",
          "y": "Topic 8",
          "yref": "y"
         },
         {
          "font": {
           "color": "#FFFFFF"
          },
          "showarrow": false,
          "text": "0.36",
          "x": "Topic 14",
          "xref": "x",
          "y": "Topic 8",
          "yref": "y"
         },
         {
          "font": {
           "color": "#FFFFFF"
          },
          "showarrow": false,
          "text": "0.03",
          "x": "Topic 15",
          "xref": "x",
          "y": "Topic 8",
          "yref": "y"
         },
         {
          "font": {
           "color": "#FFFFFF"
          },
          "showarrow": false,
          "text": "0.0",
          "x": "Topic 16",
          "xref": "x",
          "y": "Topic 8",
          "yref": "y"
         },
         {
          "font": {
           "color": "#FFFFFF"
          },
          "showarrow": false,
          "text": "0.0",
          "x": "Topic 17",
          "xref": "x",
          "y": "Topic 8",
          "yref": "y"
         },
         {
          "font": {
           "color": "#FFFFFF"
          },
          "showarrow": false,
          "text": "0.0",
          "x": "Topic 18",
          "xref": "x",
          "y": "Topic 8",
          "yref": "y"
         },
         {
          "font": {
           "color": "#FFFFFF"
          },
          "showarrow": false,
          "text": "0.0",
          "x": "Topic 19",
          "xref": "x",
          "y": "Topic 8",
          "yref": "y"
         },
         {
          "font": {
           "color": "#000000"
          },
          "showarrow": false,
          "text": "0.88",
          "x": "Topic 0",
          "xref": "x",
          "y": "Topic 9",
          "yref": "y"
         },
         {
          "font": {
           "color": "#FFFFFF"
          },
          "showarrow": false,
          "text": "0.0",
          "x": "Topic 1",
          "xref": "x",
          "y": "Topic 9",
          "yref": "y"
         },
         {
          "font": {
           "color": "#FFFFFF"
          },
          "showarrow": false,
          "text": "0.0",
          "x": "Topic 2",
          "xref": "x",
          "y": "Topic 9",
          "yref": "y"
         },
         {
          "font": {
           "color": "#FFFFFF"
          },
          "showarrow": false,
          "text": "0.0",
          "x": "Topic 3",
          "xref": "x",
          "y": "Topic 9",
          "yref": "y"
         },
         {
          "font": {
           "color": "#FFFFFF"
          },
          "showarrow": false,
          "text": "0.09",
          "x": "Topic 4",
          "xref": "x",
          "y": "Topic 9",
          "yref": "y"
         },
         {
          "font": {
           "color": "#FFFFFF"
          },
          "showarrow": false,
          "text": "0.0",
          "x": "Topic 5",
          "xref": "x",
          "y": "Topic 9",
          "yref": "y"
         },
         {
          "font": {
           "color": "#FFFFFF"
          },
          "showarrow": false,
          "text": "0.0",
          "x": "Topic 6",
          "xref": "x",
          "y": "Topic 9",
          "yref": "y"
         },
         {
          "font": {
           "color": "#FFFFFF"
          },
          "showarrow": false,
          "text": "0.0",
          "x": "Topic 7",
          "xref": "x",
          "y": "Topic 9",
          "yref": "y"
         },
         {
          "font": {
           "color": "#FFFFFF"
          },
          "showarrow": false,
          "text": "0.0",
          "x": "Topic 8",
          "xref": "x",
          "y": "Topic 9",
          "yref": "y"
         },
         {
          "font": {
           "color": "#FFFFFF"
          },
          "showarrow": false,
          "text": "0.0",
          "x": "Topic 9",
          "xref": "x",
          "y": "Topic 9",
          "yref": "y"
         },
         {
          "font": {
           "color": "#FFFFFF"
          },
          "showarrow": false,
          "text": "0.0",
          "x": "Topic 10",
          "xref": "x",
          "y": "Topic 9",
          "yref": "y"
         },
         {
          "font": {
           "color": "#FFFFFF"
          },
          "showarrow": false,
          "text": "0.0",
          "x": "Topic 11",
          "xref": "x",
          "y": "Topic 9",
          "yref": "y"
         },
         {
          "font": {
           "color": "#FFFFFF"
          },
          "showarrow": false,
          "text": "0.0",
          "x": "Topic 12",
          "xref": "x",
          "y": "Topic 9",
          "yref": "y"
         },
         {
          "font": {
           "color": "#FFFFFF"
          },
          "showarrow": false,
          "text": "0.0",
          "x": "Topic 13",
          "xref": "x",
          "y": "Topic 9",
          "yref": "y"
         },
         {
          "font": {
           "color": "#FFFFFF"
          },
          "showarrow": false,
          "text": "0.0",
          "x": "Topic 14",
          "xref": "x",
          "y": "Topic 9",
          "yref": "y"
         },
         {
          "font": {
           "color": "#FFFFFF"
          },
          "showarrow": false,
          "text": "0.0",
          "x": "Topic 15",
          "xref": "x",
          "y": "Topic 9",
          "yref": "y"
         },
         {
          "font": {
           "color": "#FFFFFF"
          },
          "showarrow": false,
          "text": "0.01",
          "x": "Topic 16",
          "xref": "x",
          "y": "Topic 9",
          "yref": "y"
         },
         {
          "font": {
           "color": "#FFFFFF"
          },
          "showarrow": false,
          "text": "0.0",
          "x": "Topic 17",
          "xref": "x",
          "y": "Topic 9",
          "yref": "y"
         },
         {
          "font": {
           "color": "#FFFFFF"
          },
          "showarrow": false,
          "text": "0.0",
          "x": "Topic 18",
          "xref": "x",
          "y": "Topic 9",
          "yref": "y"
         },
         {
          "font": {
           "color": "#FFFFFF"
          },
          "showarrow": false,
          "text": "0.0",
          "x": "Topic 19",
          "xref": "x",
          "y": "Topic 9",
          "yref": "y"
         },
         {
          "font": {
           "color": "#000000"
          },
          "showarrow": false,
          "text": "0.74",
          "x": "Topic 0",
          "xref": "x",
          "y": "Topic 10",
          "yref": "y"
         },
         {
          "font": {
           "color": "#FFFFFF"
          },
          "showarrow": false,
          "text": "0.0",
          "x": "Topic 1",
          "xref": "x",
          "y": "Topic 10",
          "yref": "y"
         },
         {
          "font": {
           "color": "#FFFFFF"
          },
          "showarrow": false,
          "text": "0.0",
          "x": "Topic 2",
          "xref": "x",
          "y": "Topic 10",
          "yref": "y"
         },
         {
          "font": {
           "color": "#FFFFFF"
          },
          "showarrow": false,
          "text": "0.0",
          "x": "Topic 3",
          "xref": "x",
          "y": "Topic 10",
          "yref": "y"
         },
         {
          "font": {
           "color": "#FFFFFF"
          },
          "showarrow": false,
          "text": "0.23",
          "x": "Topic 4",
          "xref": "x",
          "y": "Topic 10",
          "yref": "y"
         },
         {
          "font": {
           "color": "#FFFFFF"
          },
          "showarrow": false,
          "text": "0.0",
          "x": "Topic 5",
          "xref": "x",
          "y": "Topic 10",
          "yref": "y"
         },
         {
          "font": {
           "color": "#FFFFFF"
          },
          "showarrow": false,
          "text": "0.0",
          "x": "Topic 6",
          "xref": "x",
          "y": "Topic 10",
          "yref": "y"
         },
         {
          "font": {
           "color": "#FFFFFF"
          },
          "showarrow": false,
          "text": "0.0",
          "x": "Topic 7",
          "xref": "x",
          "y": "Topic 10",
          "yref": "y"
         },
         {
          "font": {
           "color": "#FFFFFF"
          },
          "showarrow": false,
          "text": "0.0",
          "x": "Topic 8",
          "xref": "x",
          "y": "Topic 10",
          "yref": "y"
         },
         {
          "font": {
           "color": "#FFFFFF"
          },
          "showarrow": false,
          "text": "0.0",
          "x": "Topic 9",
          "xref": "x",
          "y": "Topic 10",
          "yref": "y"
         },
         {
          "font": {
           "color": "#FFFFFF"
          },
          "showarrow": false,
          "text": "0.0",
          "x": "Topic 10",
          "xref": "x",
          "y": "Topic 10",
          "yref": "y"
         },
         {
          "font": {
           "color": "#FFFFFF"
          },
          "showarrow": false,
          "text": "0.0",
          "x": "Topic 11",
          "xref": "x",
          "y": "Topic 10",
          "yref": "y"
         },
         {
          "font": {
           "color": "#FFFFFF"
          },
          "showarrow": false,
          "text": "0.0",
          "x": "Topic 12",
          "xref": "x",
          "y": "Topic 10",
          "yref": "y"
         },
         {
          "font": {
           "color": "#FFFFFF"
          },
          "showarrow": false,
          "text": "0.0",
          "x": "Topic 13",
          "xref": "x",
          "y": "Topic 10",
          "yref": "y"
         },
         {
          "font": {
           "color": "#FFFFFF"
          },
          "showarrow": false,
          "text": "0.0",
          "x": "Topic 14",
          "xref": "x",
          "y": "Topic 10",
          "yref": "y"
         },
         {
          "font": {
           "color": "#FFFFFF"
          },
          "showarrow": false,
          "text": "0.02",
          "x": "Topic 15",
          "xref": "x",
          "y": "Topic 10",
          "yref": "y"
         },
         {
          "font": {
           "color": "#FFFFFF"
          },
          "showarrow": false,
          "text": "0.0",
          "x": "Topic 16",
          "xref": "x",
          "y": "Topic 10",
          "yref": "y"
         },
         {
          "font": {
           "color": "#FFFFFF"
          },
          "showarrow": false,
          "text": "0.0",
          "x": "Topic 17",
          "xref": "x",
          "y": "Topic 10",
          "yref": "y"
         },
         {
          "font": {
           "color": "#FFFFFF"
          },
          "showarrow": false,
          "text": "0.0",
          "x": "Topic 18",
          "xref": "x",
          "y": "Topic 10",
          "yref": "y"
         },
         {
          "font": {
           "color": "#FFFFFF"
          },
          "showarrow": false,
          "text": "0.0",
          "x": "Topic 19",
          "xref": "x",
          "y": "Topic 10",
          "yref": "y"
         },
         {
          "font": {
           "color": "#FFFFFF"
          },
          "showarrow": false,
          "text": "0.46",
          "x": "Topic 0",
          "xref": "x",
          "y": "Topic 11",
          "yref": "y"
         },
         {
          "font": {
           "color": "#FFFFFF"
          },
          "showarrow": false,
          "text": "0.0",
          "x": "Topic 1",
          "xref": "x",
          "y": "Topic 11",
          "yref": "y"
         },
         {
          "font": {
           "color": "#000000"
          },
          "showarrow": false,
          "text": "0.54",
          "x": "Topic 2",
          "xref": "x",
          "y": "Topic 11",
          "yref": "y"
         },
         {
          "font": {
           "color": "#FFFFFF"
          },
          "showarrow": false,
          "text": "0.0",
          "x": "Topic 3",
          "xref": "x",
          "y": "Topic 11",
          "yref": "y"
         },
         {
          "font": {
           "color": "#FFFFFF"
          },
          "showarrow": false,
          "text": "0.0",
          "x": "Topic 4",
          "xref": "x",
          "y": "Topic 11",
          "yref": "y"
         },
         {
          "font": {
           "color": "#FFFFFF"
          },
          "showarrow": false,
          "text": "0.0",
          "x": "Topic 5",
          "xref": "x",
          "y": "Topic 11",
          "yref": "y"
         },
         {
          "font": {
           "color": "#FFFFFF"
          },
          "showarrow": false,
          "text": "0.0",
          "x": "Topic 6",
          "xref": "x",
          "y": "Topic 11",
          "yref": "y"
         },
         {
          "font": {
           "color": "#FFFFFF"
          },
          "showarrow": false,
          "text": "0.0",
          "x": "Topic 7",
          "xref": "x",
          "y": "Topic 11",
          "yref": "y"
         },
         {
          "font": {
           "color": "#FFFFFF"
          },
          "showarrow": false,
          "text": "0.0",
          "x": "Topic 8",
          "xref": "x",
          "y": "Topic 11",
          "yref": "y"
         },
         {
          "font": {
           "color": "#FFFFFF"
          },
          "showarrow": false,
          "text": "0.0",
          "x": "Topic 9",
          "xref": "x",
          "y": "Topic 11",
          "yref": "y"
         },
         {
          "font": {
           "color": "#FFFFFF"
          },
          "showarrow": false,
          "text": "0.0",
          "x": "Topic 10",
          "xref": "x",
          "y": "Topic 11",
          "yref": "y"
         },
         {
          "font": {
           "color": "#FFFFFF"
          },
          "showarrow": false,
          "text": "0.0",
          "x": "Topic 11",
          "xref": "x",
          "y": "Topic 11",
          "yref": "y"
         },
         {
          "font": {
           "color": "#FFFFFF"
          },
          "showarrow": false,
          "text": "0.0",
          "x": "Topic 12",
          "xref": "x",
          "y": "Topic 11",
          "yref": "y"
         },
         {
          "font": {
           "color": "#FFFFFF"
          },
          "showarrow": false,
          "text": "0.0",
          "x": "Topic 13",
          "xref": "x",
          "y": "Topic 11",
          "yref": "y"
         },
         {
          "font": {
           "color": "#FFFFFF"
          },
          "showarrow": false,
          "text": "0.0",
          "x": "Topic 14",
          "xref": "x",
          "y": "Topic 11",
          "yref": "y"
         },
         {
          "font": {
           "color": "#FFFFFF"
          },
          "showarrow": false,
          "text": "0.0",
          "x": "Topic 15",
          "xref": "x",
          "y": "Topic 11",
          "yref": "y"
         },
         {
          "font": {
           "color": "#FFFFFF"
          },
          "showarrow": false,
          "text": "0.0",
          "x": "Topic 16",
          "xref": "x",
          "y": "Topic 11",
          "yref": "y"
         },
         {
          "font": {
           "color": "#FFFFFF"
          },
          "showarrow": false,
          "text": "0.0",
          "x": "Topic 17",
          "xref": "x",
          "y": "Topic 11",
          "yref": "y"
         },
         {
          "font": {
           "color": "#FFFFFF"
          },
          "showarrow": false,
          "text": "0.0",
          "x": "Topic 18",
          "xref": "x",
          "y": "Topic 11",
          "yref": "y"
         },
         {
          "font": {
           "color": "#FFFFFF"
          },
          "showarrow": false,
          "text": "0.0",
          "x": "Topic 19",
          "xref": "x",
          "y": "Topic 11",
          "yref": "y"
         },
         {
          "font": {
           "color": "#000000"
          },
          "showarrow": false,
          "text": "0.88",
          "x": "Topic 0",
          "xref": "x",
          "y": "Topic 12",
          "yref": "y"
         },
         {
          "font": {
           "color": "#FFFFFF"
          },
          "showarrow": false,
          "text": "0.0",
          "x": "Topic 1",
          "xref": "x",
          "y": "Topic 12",
          "yref": "y"
         },
         {
          "font": {
           "color": "#FFFFFF"
          },
          "showarrow": false,
          "text": "0.01",
          "x": "Topic 2",
          "xref": "x",
          "y": "Topic 12",
          "yref": "y"
         },
         {
          "font": {
           "color": "#FFFFFF"
          },
          "showarrow": false,
          "text": "0.0",
          "x": "Topic 3",
          "xref": "x",
          "y": "Topic 12",
          "yref": "y"
         },
         {
          "font": {
           "color": "#FFFFFF"
          },
          "showarrow": false,
          "text": "0.0",
          "x": "Topic 4",
          "xref": "x",
          "y": "Topic 12",
          "yref": "y"
         },
         {
          "font": {
           "color": "#FFFFFF"
          },
          "showarrow": false,
          "text": "0.0",
          "x": "Topic 5",
          "xref": "x",
          "y": "Topic 12",
          "yref": "y"
         },
         {
          "font": {
           "color": "#FFFFFF"
          },
          "showarrow": false,
          "text": "0.01",
          "x": "Topic 6",
          "xref": "x",
          "y": "Topic 12",
          "yref": "y"
         },
         {
          "font": {
           "color": "#FFFFFF"
          },
          "showarrow": false,
          "text": "0.0",
          "x": "Topic 7",
          "xref": "x",
          "y": "Topic 12",
          "yref": "y"
         },
         {
          "font": {
           "color": "#FFFFFF"
          },
          "showarrow": false,
          "text": "0.0",
          "x": "Topic 8",
          "xref": "x",
          "y": "Topic 12",
          "yref": "y"
         },
         {
          "font": {
           "color": "#FFFFFF"
          },
          "showarrow": false,
          "text": "0.0",
          "x": "Topic 9",
          "xref": "x",
          "y": "Topic 12",
          "yref": "y"
         },
         {
          "font": {
           "color": "#FFFFFF"
          },
          "showarrow": false,
          "text": "0.02",
          "x": "Topic 10",
          "xref": "x",
          "y": "Topic 12",
          "yref": "y"
         },
         {
          "font": {
           "color": "#FFFFFF"
          },
          "showarrow": false,
          "text": "0.0",
          "x": "Topic 11",
          "xref": "x",
          "y": "Topic 12",
          "yref": "y"
         },
         {
          "font": {
           "color": "#FFFFFF"
          },
          "showarrow": false,
          "text": "0.0",
          "x": "Topic 12",
          "xref": "x",
          "y": "Topic 12",
          "yref": "y"
         },
         {
          "font": {
           "color": "#FFFFFF"
          },
          "showarrow": false,
          "text": "0.0",
          "x": "Topic 13",
          "xref": "x",
          "y": "Topic 12",
          "yref": "y"
         },
         {
          "font": {
           "color": "#FFFFFF"
          },
          "showarrow": false,
          "text": "0.0",
          "x": "Topic 14",
          "xref": "x",
          "y": "Topic 12",
          "yref": "y"
         },
         {
          "font": {
           "color": "#FFFFFF"
          },
          "showarrow": false,
          "text": "0.03",
          "x": "Topic 15",
          "xref": "x",
          "y": "Topic 12",
          "yref": "y"
         },
         {
          "font": {
           "color": "#FFFFFF"
          },
          "showarrow": false,
          "text": "0.0",
          "x": "Topic 16",
          "xref": "x",
          "y": "Topic 12",
          "yref": "y"
         },
         {
          "font": {
           "color": "#FFFFFF"
          },
          "showarrow": false,
          "text": "0.0",
          "x": "Topic 17",
          "xref": "x",
          "y": "Topic 12",
          "yref": "y"
         },
         {
          "font": {
           "color": "#FFFFFF"
          },
          "showarrow": false,
          "text": "0.03",
          "x": "Topic 18",
          "xref": "x",
          "y": "Topic 12",
          "yref": "y"
         },
         {
          "font": {
           "color": "#FFFFFF"
          },
          "showarrow": false,
          "text": "0.01",
          "x": "Topic 19",
          "xref": "x",
          "y": "Topic 12",
          "yref": "y"
         },
         {
          "font": {
           "color": "#000000"
          },
          "showarrow": false,
          "text": "0.71",
          "x": "Topic 0",
          "xref": "x",
          "y": "Topic 13",
          "yref": "y"
         },
         {
          "font": {
           "color": "#FFFFFF"
          },
          "showarrow": false,
          "text": "0.0",
          "x": "Topic 1",
          "xref": "x",
          "y": "Topic 13",
          "yref": "y"
         },
         {
          "font": {
           "color": "#FFFFFF"
          },
          "showarrow": false,
          "text": "0.0",
          "x": "Topic 2",
          "xref": "x",
          "y": "Topic 13",
          "yref": "y"
         },
         {
          "font": {
           "color": "#FFFFFF"
          },
          "showarrow": false,
          "text": "0.0",
          "x": "Topic 3",
          "xref": "x",
          "y": "Topic 13",
          "yref": "y"
         },
         {
          "font": {
           "color": "#FFFFFF"
          },
          "showarrow": false,
          "text": "0.0",
          "x": "Topic 4",
          "xref": "x",
          "y": "Topic 13",
          "yref": "y"
         },
         {
          "font": {
           "color": "#FFFFFF"
          },
          "showarrow": false,
          "text": "0.0",
          "x": "Topic 5",
          "xref": "x",
          "y": "Topic 13",
          "yref": "y"
         },
         {
          "font": {
           "color": "#FFFFFF"
          },
          "showarrow": false,
          "text": "0.0",
          "x": "Topic 6",
          "xref": "x",
          "y": "Topic 13",
          "yref": "y"
         },
         {
          "font": {
           "color": "#FFFFFF"
          },
          "showarrow": false,
          "text": "0.0",
          "x": "Topic 7",
          "xref": "x",
          "y": "Topic 13",
          "yref": "y"
         },
         {
          "font": {
           "color": "#FFFFFF"
          },
          "showarrow": false,
          "text": "0.0",
          "x": "Topic 8",
          "xref": "x",
          "y": "Topic 13",
          "yref": "y"
         },
         {
          "font": {
           "color": "#FFFFFF"
          },
          "showarrow": false,
          "text": "0.16",
          "x": "Topic 9",
          "xref": "x",
          "y": "Topic 13",
          "yref": "y"
         },
         {
          "font": {
           "color": "#FFFFFF"
          },
          "showarrow": false,
          "text": "0.0",
          "x": "Topic 10",
          "xref": "x",
          "y": "Topic 13",
          "yref": "y"
         },
         {
          "font": {
           "color": "#FFFFFF"
          },
          "showarrow": false,
          "text": "0.0",
          "x": "Topic 11",
          "xref": "x",
          "y": "Topic 13",
          "yref": "y"
         },
         {
          "font": {
           "color": "#FFFFFF"
          },
          "showarrow": false,
          "text": "0.12",
          "x": "Topic 12",
          "xref": "x",
          "y": "Topic 13",
          "yref": "y"
         },
         {
          "font": {
           "color": "#FFFFFF"
          },
          "showarrow": false,
          "text": "0.0",
          "x": "Topic 13",
          "xref": "x",
          "y": "Topic 13",
          "yref": "y"
         },
         {
          "font": {
           "color": "#FFFFFF"
          },
          "showarrow": false,
          "text": "0.0",
          "x": "Topic 14",
          "xref": "x",
          "y": "Topic 13",
          "yref": "y"
         },
         {
          "font": {
           "color": "#FFFFFF"
          },
          "showarrow": false,
          "text": "0.01",
          "x": "Topic 15",
          "xref": "x",
          "y": "Topic 13",
          "yref": "y"
         },
         {
          "font": {
           "color": "#FFFFFF"
          },
          "showarrow": false,
          "text": "0.0",
          "x": "Topic 16",
          "xref": "x",
          "y": "Topic 13",
          "yref": "y"
         },
         {
          "font": {
           "color": "#FFFFFF"
          },
          "showarrow": false,
          "text": "0.0",
          "x": "Topic 17",
          "xref": "x",
          "y": "Topic 13",
          "yref": "y"
         },
         {
          "font": {
           "color": "#FFFFFF"
          },
          "showarrow": false,
          "text": "0.0",
          "x": "Topic 18",
          "xref": "x",
          "y": "Topic 13",
          "yref": "y"
         },
         {
          "font": {
           "color": "#FFFFFF"
          },
          "showarrow": false,
          "text": "0.0",
          "x": "Topic 19",
          "xref": "x",
          "y": "Topic 13",
          "yref": "y"
         },
         {
          "font": {
           "color": "#000000"
          },
          "showarrow": false,
          "text": "0.54",
          "x": "Topic 0",
          "xref": "x",
          "y": "Topic 14",
          "yref": "y"
         },
         {
          "font": {
           "color": "#FFFFFF"
          },
          "showarrow": false,
          "text": "0.0",
          "x": "Topic 1",
          "xref": "x",
          "y": "Topic 14",
          "yref": "y"
         },
         {
          "font": {
           "color": "#FFFFFF"
          },
          "showarrow": false,
          "text": "0.0",
          "x": "Topic 2",
          "xref": "x",
          "y": "Topic 14",
          "yref": "y"
         },
         {
          "font": {
           "color": "#FFFFFF"
          },
          "showarrow": false,
          "text": "0.0",
          "x": "Topic 3",
          "xref": "x",
          "y": "Topic 14",
          "yref": "y"
         },
         {
          "font": {
           "color": "#FFFFFF"
          },
          "showarrow": false,
          "text": "0.0",
          "x": "Topic 4",
          "xref": "x",
          "y": "Topic 14",
          "yref": "y"
         },
         {
          "font": {
           "color": "#FFFFFF"
          },
          "showarrow": false,
          "text": "0.0",
          "x": "Topic 5",
          "xref": "x",
          "y": "Topic 14",
          "yref": "y"
         },
         {
          "font": {
           "color": "#FFFFFF"
          },
          "showarrow": false,
          "text": "0.0",
          "x": "Topic 6",
          "xref": "x",
          "y": "Topic 14",
          "yref": "y"
         },
         {
          "font": {
           "color": "#FFFFFF"
          },
          "showarrow": false,
          "text": "0.0",
          "x": "Topic 7",
          "xref": "x",
          "y": "Topic 14",
          "yref": "y"
         },
         {
          "font": {
           "color": "#FFFFFF"
          },
          "showarrow": false,
          "text": "0.0",
          "x": "Topic 8",
          "xref": "x",
          "y": "Topic 14",
          "yref": "y"
         },
         {
          "font": {
           "color": "#FFFFFF"
          },
          "showarrow": false,
          "text": "0.0",
          "x": "Topic 9",
          "xref": "x",
          "y": "Topic 14",
          "yref": "y"
         },
         {
          "font": {
           "color": "#FFFFFF"
          },
          "showarrow": false,
          "text": "0.0",
          "x": "Topic 10",
          "xref": "x",
          "y": "Topic 14",
          "yref": "y"
         },
         {
          "font": {
           "color": "#FFFFFF"
          },
          "showarrow": false,
          "text": "0.0",
          "x": "Topic 11",
          "xref": "x",
          "y": "Topic 14",
          "yref": "y"
         },
         {
          "font": {
           "color": "#FFFFFF"
          },
          "showarrow": false,
          "text": "0.01",
          "x": "Topic 12",
          "xref": "x",
          "y": "Topic 14",
          "yref": "y"
         },
         {
          "font": {
           "color": "#FFFFFF"
          },
          "showarrow": false,
          "text": "0.44",
          "x": "Topic 13",
          "xref": "x",
          "y": "Topic 14",
          "yref": "y"
         },
         {
          "font": {
           "color": "#FFFFFF"
          },
          "showarrow": false,
          "text": "0.0",
          "x": "Topic 14",
          "xref": "x",
          "y": "Topic 14",
          "yref": "y"
         },
         {
          "font": {
           "color": "#FFFFFF"
          },
          "showarrow": false,
          "text": "0.0",
          "x": "Topic 15",
          "xref": "x",
          "y": "Topic 14",
          "yref": "y"
         },
         {
          "font": {
           "color": "#FFFFFF"
          },
          "showarrow": false,
          "text": "0.0",
          "x": "Topic 16",
          "xref": "x",
          "y": "Topic 14",
          "yref": "y"
         },
         {
          "font": {
           "color": "#FFFFFF"
          },
          "showarrow": false,
          "text": "0.0",
          "x": "Topic 17",
          "xref": "x",
          "y": "Topic 14",
          "yref": "y"
         },
         {
          "font": {
           "color": "#FFFFFF"
          },
          "showarrow": false,
          "text": "0.0",
          "x": "Topic 18",
          "xref": "x",
          "y": "Topic 14",
          "yref": "y"
         },
         {
          "font": {
           "color": "#FFFFFF"
          },
          "showarrow": false,
          "text": "0.0",
          "x": "Topic 19",
          "xref": "x",
          "y": "Topic 14",
          "yref": "y"
         },
         {
          "font": {
           "color": "#000000"
          },
          "showarrow": false,
          "text": "0.75",
          "x": "Topic 0",
          "xref": "x",
          "y": "Topic 15",
          "yref": "y"
         },
         {
          "font": {
           "color": "#FFFFFF"
          },
          "showarrow": false,
          "text": "0.19",
          "x": "Topic 1",
          "xref": "x",
          "y": "Topic 15",
          "yref": "y"
         },
         {
          "font": {
           "color": "#FFFFFF"
          },
          "showarrow": false,
          "text": "0.0",
          "x": "Topic 2",
          "xref": "x",
          "y": "Topic 15",
          "yref": "y"
         },
         {
          "font": {
           "color": "#FFFFFF"
          },
          "showarrow": false,
          "text": "0.0",
          "x": "Topic 3",
          "xref": "x",
          "y": "Topic 15",
          "yref": "y"
         },
         {
          "font": {
           "color": "#FFFFFF"
          },
          "showarrow": false,
          "text": "0.0",
          "x": "Topic 4",
          "xref": "x",
          "y": "Topic 15",
          "yref": "y"
         },
         {
          "font": {
           "color": "#FFFFFF"
          },
          "showarrow": false,
          "text": "0.0",
          "x": "Topic 5",
          "xref": "x",
          "y": "Topic 15",
          "yref": "y"
         },
         {
          "font": {
           "color": "#FFFFFF"
          },
          "showarrow": false,
          "text": "0.0",
          "x": "Topic 6",
          "xref": "x",
          "y": "Topic 15",
          "yref": "y"
         },
         {
          "font": {
           "color": "#FFFFFF"
          },
          "showarrow": false,
          "text": "0.0",
          "x": "Topic 7",
          "xref": "x",
          "y": "Topic 15",
          "yref": "y"
         },
         {
          "font": {
           "color": "#FFFFFF"
          },
          "showarrow": false,
          "text": "0.0",
          "x": "Topic 8",
          "xref": "x",
          "y": "Topic 15",
          "yref": "y"
         },
         {
          "font": {
           "color": "#FFFFFF"
          },
          "showarrow": false,
          "text": "0.0",
          "x": "Topic 9",
          "xref": "x",
          "y": "Topic 15",
          "yref": "y"
         },
         {
          "font": {
           "color": "#FFFFFF"
          },
          "showarrow": false,
          "text": "0.0",
          "x": "Topic 10",
          "xref": "x",
          "y": "Topic 15",
          "yref": "y"
         },
         {
          "font": {
           "color": "#FFFFFF"
          },
          "showarrow": false,
          "text": "0.0",
          "x": "Topic 11",
          "xref": "x",
          "y": "Topic 15",
          "yref": "y"
         },
         {
          "font": {
           "color": "#FFFFFF"
          },
          "showarrow": false,
          "text": "0.0",
          "x": "Topic 12",
          "xref": "x",
          "y": "Topic 15",
          "yref": "y"
         },
         {
          "font": {
           "color": "#FFFFFF"
          },
          "showarrow": false,
          "text": "0.0",
          "x": "Topic 13",
          "xref": "x",
          "y": "Topic 15",
          "yref": "y"
         },
         {
          "font": {
           "color": "#FFFFFF"
          },
          "showarrow": false,
          "text": "0.0",
          "x": "Topic 14",
          "xref": "x",
          "y": "Topic 15",
          "yref": "y"
         },
         {
          "font": {
           "color": "#FFFFFF"
          },
          "showarrow": false,
          "text": "0.03",
          "x": "Topic 15",
          "xref": "x",
          "y": "Topic 15",
          "yref": "y"
         },
         {
          "font": {
           "color": "#FFFFFF"
          },
          "showarrow": false,
          "text": "0.0",
          "x": "Topic 16",
          "xref": "x",
          "y": "Topic 15",
          "yref": "y"
         },
         {
          "font": {
           "color": "#FFFFFF"
          },
          "showarrow": false,
          "text": "0.0",
          "x": "Topic 17",
          "xref": "x",
          "y": "Topic 15",
          "yref": "y"
         },
         {
          "font": {
           "color": "#FFFFFF"
          },
          "showarrow": false,
          "text": "0.0",
          "x": "Topic 18",
          "xref": "x",
          "y": "Topic 15",
          "yref": "y"
         },
         {
          "font": {
           "color": "#FFFFFF"
          },
          "showarrow": false,
          "text": "0.02",
          "x": "Topic 19",
          "xref": "x",
          "y": "Topic 15",
          "yref": "y"
         },
         {
          "font": {
           "color": "#000000"
          },
          "showarrow": false,
          "text": "0.82",
          "x": "Topic 0",
          "xref": "x",
          "y": "Topic 16",
          "yref": "y"
         },
         {
          "font": {
           "color": "#FFFFFF"
          },
          "showarrow": false,
          "text": "0.0",
          "x": "Topic 1",
          "xref": "x",
          "y": "Topic 16",
          "yref": "y"
         },
         {
          "font": {
           "color": "#FFFFFF"
          },
          "showarrow": false,
          "text": "0.0",
          "x": "Topic 2",
          "xref": "x",
          "y": "Topic 16",
          "yref": "y"
         },
         {
          "font": {
           "color": "#FFFFFF"
          },
          "showarrow": false,
          "text": "0.0",
          "x": "Topic 3",
          "xref": "x",
          "y": "Topic 16",
          "yref": "y"
         },
         {
          "font": {
           "color": "#FFFFFF"
          },
          "showarrow": false,
          "text": "0.0",
          "x": "Topic 4",
          "xref": "x",
          "y": "Topic 16",
          "yref": "y"
         },
         {
          "font": {
           "color": "#FFFFFF"
          },
          "showarrow": false,
          "text": "0.0",
          "x": "Topic 5",
          "xref": "x",
          "y": "Topic 16",
          "yref": "y"
         },
         {
          "font": {
           "color": "#FFFFFF"
          },
          "showarrow": false,
          "text": "0.0",
          "x": "Topic 6",
          "xref": "x",
          "y": "Topic 16",
          "yref": "y"
         },
         {
          "font": {
           "color": "#FFFFFF"
          },
          "showarrow": false,
          "text": "0.0",
          "x": "Topic 7",
          "xref": "x",
          "y": "Topic 16",
          "yref": "y"
         },
         {
          "font": {
           "color": "#FFFFFF"
          },
          "showarrow": false,
          "text": "0.09",
          "x": "Topic 8",
          "xref": "x",
          "y": "Topic 16",
          "yref": "y"
         },
         {
          "font": {
           "color": "#FFFFFF"
          },
          "showarrow": false,
          "text": "0.0",
          "x": "Topic 9",
          "xref": "x",
          "y": "Topic 16",
          "yref": "y"
         },
         {
          "font": {
           "color": "#FFFFFF"
          },
          "showarrow": false,
          "text": "0.0",
          "x": "Topic 10",
          "xref": "x",
          "y": "Topic 16",
          "yref": "y"
         },
         {
          "font": {
           "color": "#FFFFFF"
          },
          "showarrow": false,
          "text": "0.0",
          "x": "Topic 11",
          "xref": "x",
          "y": "Topic 16",
          "yref": "y"
         },
         {
          "font": {
           "color": "#FFFFFF"
          },
          "showarrow": false,
          "text": "0.0",
          "x": "Topic 12",
          "xref": "x",
          "y": "Topic 16",
          "yref": "y"
         },
         {
          "font": {
           "color": "#FFFFFF"
          },
          "showarrow": false,
          "text": "0.0",
          "x": "Topic 13",
          "xref": "x",
          "y": "Topic 16",
          "yref": "y"
         },
         {
          "font": {
           "color": "#FFFFFF"
          },
          "showarrow": false,
          "text": "0.0",
          "x": "Topic 14",
          "xref": "x",
          "y": "Topic 16",
          "yref": "y"
         },
         {
          "font": {
           "color": "#FFFFFF"
          },
          "showarrow": false,
          "text": "0.03",
          "x": "Topic 15",
          "xref": "x",
          "y": "Topic 16",
          "yref": "y"
         },
         {
          "font": {
           "color": "#FFFFFF"
          },
          "showarrow": false,
          "text": "0.03",
          "x": "Topic 16",
          "xref": "x",
          "y": "Topic 16",
          "yref": "y"
         },
         {
          "font": {
           "color": "#FFFFFF"
          },
          "showarrow": false,
          "text": "0.0",
          "x": "Topic 17",
          "xref": "x",
          "y": "Topic 16",
          "yref": "y"
         },
         {
          "font": {
           "color": "#FFFFFF"
          },
          "showarrow": false,
          "text": "0.02",
          "x": "Topic 18",
          "xref": "x",
          "y": "Topic 16",
          "yref": "y"
         },
         {
          "font": {
           "color": "#FFFFFF"
          },
          "showarrow": false,
          "text": "0.0",
          "x": "Topic 19",
          "xref": "x",
          "y": "Topic 16",
          "yref": "y"
         },
         {
          "font": {
           "color": "#FFFFFF"
          },
          "showarrow": false,
          "text": "0.37",
          "x": "Topic 0",
          "xref": "x",
          "y": "Topic 17",
          "yref": "y"
         },
         {
          "font": {
           "color": "#FFFFFF"
          },
          "showarrow": false,
          "text": "0.0",
          "x": "Topic 1",
          "xref": "x",
          "y": "Topic 17",
          "yref": "y"
         },
         {
          "font": {
           "color": "#FFFFFF"
          },
          "showarrow": false,
          "text": "0.0",
          "x": "Topic 2",
          "xref": "x",
          "y": "Topic 17",
          "yref": "y"
         },
         {
          "font": {
           "color": "#FFFFFF"
          },
          "showarrow": false,
          "text": "0.0",
          "x": "Topic 3",
          "xref": "x",
          "y": "Topic 17",
          "yref": "y"
         },
         {
          "font": {
           "color": "#FFFFFF"
          },
          "showarrow": false,
          "text": "0.0",
          "x": "Topic 4",
          "xref": "x",
          "y": "Topic 17",
          "yref": "y"
         },
         {
          "font": {
           "color": "#FFFFFF"
          },
          "showarrow": false,
          "text": "0.22",
          "x": "Topic 5",
          "xref": "x",
          "y": "Topic 17",
          "yref": "y"
         },
         {
          "font": {
           "color": "#FFFFFF"
          },
          "showarrow": false,
          "text": "0.0",
          "x": "Topic 6",
          "xref": "x",
          "y": "Topic 17",
          "yref": "y"
         },
         {
          "font": {
           "color": "#FFFFFF"
          },
          "showarrow": false,
          "text": "0.0",
          "x": "Topic 7",
          "xref": "x",
          "y": "Topic 17",
          "yref": "y"
         },
         {
          "font": {
           "color": "#FFFFFF"
          },
          "showarrow": false,
          "text": "0.0",
          "x": "Topic 8",
          "xref": "x",
          "y": "Topic 17",
          "yref": "y"
         },
         {
          "font": {
           "color": "#FFFFFF"
          },
          "showarrow": false,
          "text": "0.0",
          "x": "Topic 9",
          "xref": "x",
          "y": "Topic 17",
          "yref": "y"
         },
         {
          "font": {
           "color": "#FFFFFF"
          },
          "showarrow": false,
          "text": "0.01",
          "x": "Topic 10",
          "xref": "x",
          "y": "Topic 17",
          "yref": "y"
         },
         {
          "font": {
           "color": "#FFFFFF"
          },
          "showarrow": false,
          "text": "0.34",
          "x": "Topic 11",
          "xref": "x",
          "y": "Topic 17",
          "yref": "y"
         },
         {
          "font": {
           "color": "#FFFFFF"
          },
          "showarrow": false,
          "text": "0.0",
          "x": "Topic 12",
          "xref": "x",
          "y": "Topic 17",
          "yref": "y"
         },
         {
          "font": {
           "color": "#FFFFFF"
          },
          "showarrow": false,
          "text": "0.0",
          "x": "Topic 13",
          "xref": "x",
          "y": "Topic 17",
          "yref": "y"
         },
         {
          "font": {
           "color": "#FFFFFF"
          },
          "showarrow": false,
          "text": "0.0",
          "x": "Topic 14",
          "xref": "x",
          "y": "Topic 17",
          "yref": "y"
         },
         {
          "font": {
           "color": "#FFFFFF"
          },
          "showarrow": false,
          "text": "0.05",
          "x": "Topic 15",
          "xref": "x",
          "y": "Topic 17",
          "yref": "y"
         },
         {
          "font": {
           "color": "#FFFFFF"
          },
          "showarrow": false,
          "text": "0.0",
          "x": "Topic 16",
          "xref": "x",
          "y": "Topic 17",
          "yref": "y"
         },
         {
          "font": {
           "color": "#FFFFFF"
          },
          "showarrow": false,
          "text": "0.0",
          "x": "Topic 17",
          "xref": "x",
          "y": "Topic 17",
          "yref": "y"
         },
         {
          "font": {
           "color": "#FFFFFF"
          },
          "showarrow": false,
          "text": "0.0",
          "x": "Topic 18",
          "xref": "x",
          "y": "Topic 17",
          "yref": "y"
         },
         {
          "font": {
           "color": "#FFFFFF"
          },
          "showarrow": false,
          "text": "0.01",
          "x": "Topic 19",
          "xref": "x",
          "y": "Topic 17",
          "yref": "y"
         },
         {
          "font": {
           "color": "#000000"
          },
          "showarrow": false,
          "text": "1.0",
          "x": "Topic 0",
          "xref": "x",
          "y": "Topic 18",
          "yref": "y"
         },
         {
          "font": {
           "color": "#FFFFFF"
          },
          "showarrow": false,
          "text": "0.0",
          "x": "Topic 1",
          "xref": "x",
          "y": "Topic 18",
          "yref": "y"
         },
         {
          "font": {
           "color": "#FFFFFF"
          },
          "showarrow": false,
          "text": "0.0",
          "x": "Topic 2",
          "xref": "x",
          "y": "Topic 18",
          "yref": "y"
         },
         {
          "font": {
           "color": "#FFFFFF"
          },
          "showarrow": false,
          "text": "0.0",
          "x": "Topic 3",
          "xref": "x",
          "y": "Topic 18",
          "yref": "y"
         },
         {
          "font": {
           "color": "#FFFFFF"
          },
          "showarrow": false,
          "text": "0.0",
          "x": "Topic 4",
          "xref": "x",
          "y": "Topic 18",
          "yref": "y"
         },
         {
          "font": {
           "color": "#FFFFFF"
          },
          "showarrow": false,
          "text": "0.0",
          "x": "Topic 5",
          "xref": "x",
          "y": "Topic 18",
          "yref": "y"
         },
         {
          "font": {
           "color": "#FFFFFF"
          },
          "showarrow": false,
          "text": "0.0",
          "x": "Topic 6",
          "xref": "x",
          "y": "Topic 18",
          "yref": "y"
         },
         {
          "font": {
           "color": "#FFFFFF"
          },
          "showarrow": false,
          "text": "0.0",
          "x": "Topic 7",
          "xref": "x",
          "y": "Topic 18",
          "yref": "y"
         },
         {
          "font": {
           "color": "#FFFFFF"
          },
          "showarrow": false,
          "text": "0.0",
          "x": "Topic 8",
          "xref": "x",
          "y": "Topic 18",
          "yref": "y"
         },
         {
          "font": {
           "color": "#FFFFFF"
          },
          "showarrow": false,
          "text": "0.0",
          "x": "Topic 9",
          "xref": "x",
          "y": "Topic 18",
          "yref": "y"
         },
         {
          "font": {
           "color": "#FFFFFF"
          },
          "showarrow": false,
          "text": "0.0",
          "x": "Topic 10",
          "xref": "x",
          "y": "Topic 18",
          "yref": "y"
         },
         {
          "font": {
           "color": "#FFFFFF"
          },
          "showarrow": false,
          "text": "0.0",
          "x": "Topic 11",
          "xref": "x",
          "y": "Topic 18",
          "yref": "y"
         },
         {
          "font": {
           "color": "#FFFFFF"
          },
          "showarrow": false,
          "text": "0.0",
          "x": "Topic 12",
          "xref": "x",
          "y": "Topic 18",
          "yref": "y"
         },
         {
          "font": {
           "color": "#FFFFFF"
          },
          "showarrow": false,
          "text": "0.0",
          "x": "Topic 13",
          "xref": "x",
          "y": "Topic 18",
          "yref": "y"
         },
         {
          "font": {
           "color": "#FFFFFF"
          },
          "showarrow": false,
          "text": "0.0",
          "x": "Topic 14",
          "xref": "x",
          "y": "Topic 18",
          "yref": "y"
         },
         {
          "font": {
           "color": "#FFFFFF"
          },
          "showarrow": false,
          "text": "0.0",
          "x": "Topic 15",
          "xref": "x",
          "y": "Topic 18",
          "yref": "y"
         },
         {
          "font": {
           "color": "#FFFFFF"
          },
          "showarrow": false,
          "text": "0.0",
          "x": "Topic 16",
          "xref": "x",
          "y": "Topic 18",
          "yref": "y"
         },
         {
          "font": {
           "color": "#FFFFFF"
          },
          "showarrow": false,
          "text": "0.0",
          "x": "Topic 17",
          "xref": "x",
          "y": "Topic 18",
          "yref": "y"
         },
         {
          "font": {
           "color": "#FFFFFF"
          },
          "showarrow": false,
          "text": "0.0",
          "x": "Topic 18",
          "xref": "x",
          "y": "Topic 18",
          "yref": "y"
         },
         {
          "font": {
           "color": "#FFFFFF"
          },
          "showarrow": false,
          "text": "0.0",
          "x": "Topic 19",
          "xref": "x",
          "y": "Topic 18",
          "yref": "y"
         },
         {
          "font": {
           "color": "#000000"
          },
          "showarrow": false,
          "text": "0.9",
          "x": "Topic 0",
          "xref": "x",
          "y": "Topic 19",
          "yref": "y"
         },
         {
          "font": {
           "color": "#FFFFFF"
          },
          "showarrow": false,
          "text": "0.07",
          "x": "Topic 1",
          "xref": "x",
          "y": "Topic 19",
          "yref": "y"
         },
         {
          "font": {
           "color": "#FFFFFF"
          },
          "showarrow": false,
          "text": "0.0",
          "x": "Topic 2",
          "xref": "x",
          "y": "Topic 19",
          "yref": "y"
         },
         {
          "font": {
           "color": "#FFFFFF"
          },
          "showarrow": false,
          "text": "0.01",
          "x": "Topic 3",
          "xref": "x",
          "y": "Topic 19",
          "yref": "y"
         },
         {
          "font": {
           "color": "#FFFFFF"
          },
          "showarrow": false,
          "text": "0.0",
          "x": "Topic 4",
          "xref": "x",
          "y": "Topic 19",
          "yref": "y"
         },
         {
          "font": {
           "color": "#FFFFFF"
          },
          "showarrow": false,
          "text": "0.0",
          "x": "Topic 5",
          "xref": "x",
          "y": "Topic 19",
          "yref": "y"
         },
         {
          "font": {
           "color": "#FFFFFF"
          },
          "showarrow": false,
          "text": "0.0",
          "x": "Topic 6",
          "xref": "x",
          "y": "Topic 19",
          "yref": "y"
         },
         {
          "font": {
           "color": "#FFFFFF"
          },
          "showarrow": false,
          "text": "0.0",
          "x": "Topic 7",
          "xref": "x",
          "y": "Topic 19",
          "yref": "y"
         },
         {
          "font": {
           "color": "#FFFFFF"
          },
          "showarrow": false,
          "text": "0.01",
          "x": "Topic 8",
          "xref": "x",
          "y": "Topic 19",
          "yref": "y"
         },
         {
          "font": {
           "color": "#FFFFFF"
          },
          "showarrow": false,
          "text": "0.0",
          "x": "Topic 9",
          "xref": "x",
          "y": "Topic 19",
          "yref": "y"
         },
         {
          "font": {
           "color": "#FFFFFF"
          },
          "showarrow": false,
          "text": "0.0",
          "x": "Topic 10",
          "xref": "x",
          "y": "Topic 19",
          "yref": "y"
         },
         {
          "font": {
           "color": "#FFFFFF"
          },
          "showarrow": false,
          "text": "0.0",
          "x": "Topic 11",
          "xref": "x",
          "y": "Topic 19",
          "yref": "y"
         },
         {
          "font": {
           "color": "#FFFFFF"
          },
          "showarrow": false,
          "text": "0.01",
          "x": "Topic 12",
          "xref": "x",
          "y": "Topic 19",
          "yref": "y"
         },
         {
          "font": {
           "color": "#FFFFFF"
          },
          "showarrow": false,
          "text": "0.0",
          "x": "Topic 13",
          "xref": "x",
          "y": "Topic 19",
          "yref": "y"
         },
         {
          "font": {
           "color": "#FFFFFF"
          },
          "showarrow": false,
          "text": "0.0",
          "x": "Topic 14",
          "xref": "x",
          "y": "Topic 19",
          "yref": "y"
         },
         {
          "font": {
           "color": "#FFFFFF"
          },
          "showarrow": false,
          "text": "0.0",
          "x": "Topic 15",
          "xref": "x",
          "y": "Topic 19",
          "yref": "y"
         },
         {
          "font": {
           "color": "#FFFFFF"
          },
          "showarrow": false,
          "text": "0.01",
          "x": "Topic 16",
          "xref": "x",
          "y": "Topic 19",
          "yref": "y"
         },
         {
          "font": {
           "color": "#FFFFFF"
          },
          "showarrow": false,
          "text": "0.0",
          "x": "Topic 17",
          "xref": "x",
          "y": "Topic 19",
          "yref": "y"
         },
         {
          "font": {
           "color": "#FFFFFF"
          },
          "showarrow": false,
          "text": "0.0",
          "x": "Topic 18",
          "xref": "x",
          "y": "Topic 19",
          "yref": "y"
         },
         {
          "font": {
           "color": "#FFFFFF"
          },
          "showarrow": false,
          "text": "0.01",
          "x": "Topic 19",
          "xref": "x",
          "y": "Topic 19",
          "yref": "y"
         }
        ],
        "font": {
         "size": 12
        },
        "height": 1000,
        "template": {
         "data": {
          "bar": [
           {
            "error_x": {
             "color": "#2a3f5f"
            },
            "error_y": {
             "color": "#2a3f5f"
            },
            "marker": {
             "line": {
              "color": "#E5ECF6",
              "width": 0.5
             },
             "pattern": {
              "fillmode": "overlay",
              "size": 10,
              "solidity": 0.2
             }
            },
            "type": "bar"
           }
          ],
          "barpolar": [
           {
            "marker": {
             "line": {
              "color": "#E5ECF6",
              "width": 0.5
             },
             "pattern": {
              "fillmode": "overlay",
              "size": 10,
              "solidity": 0.2
             }
            },
            "type": "barpolar"
           }
          ],
          "carpet": [
           {
            "aaxis": {
             "endlinecolor": "#2a3f5f",
             "gridcolor": "white",
             "linecolor": "white",
             "minorgridcolor": "white",
             "startlinecolor": "#2a3f5f"
            },
            "baxis": {
             "endlinecolor": "#2a3f5f",
             "gridcolor": "white",
             "linecolor": "white",
             "minorgridcolor": "white",
             "startlinecolor": "#2a3f5f"
            },
            "type": "carpet"
           }
          ],
          "choropleth": [
           {
            "colorbar": {
             "outlinewidth": 0,
             "ticks": ""
            },
            "type": "choropleth"
           }
          ],
          "contour": [
           {
            "colorbar": {
             "outlinewidth": 0,
             "ticks": ""
            },
            "colorscale": [
             [
              0,
              "#0d0887"
             ],
             [
              0.1111111111111111,
              "#46039f"
             ],
             [
              0.2222222222222222,
              "#7201a8"
             ],
             [
              0.3333333333333333,
              "#9c179e"
             ],
             [
              0.4444444444444444,
              "#bd3786"
             ],
             [
              0.5555555555555556,
              "#d8576b"
             ],
             [
              0.6666666666666666,
              "#ed7953"
             ],
             [
              0.7777777777777778,
              "#fb9f3a"
             ],
             [
              0.8888888888888888,
              "#fdca26"
             ],
             [
              1,
              "#f0f921"
             ]
            ],
            "type": "contour"
           }
          ],
          "contourcarpet": [
           {
            "colorbar": {
             "outlinewidth": 0,
             "ticks": ""
            },
            "type": "contourcarpet"
           }
          ],
          "heatmap": [
           {
            "colorbar": {
             "outlinewidth": 0,
             "ticks": ""
            },
            "colorscale": [
             [
              0,
              "#0d0887"
             ],
             [
              0.1111111111111111,
              "#46039f"
             ],
             [
              0.2222222222222222,
              "#7201a8"
             ],
             [
              0.3333333333333333,
              "#9c179e"
             ],
             [
              0.4444444444444444,
              "#bd3786"
             ],
             [
              0.5555555555555556,
              "#d8576b"
             ],
             [
              0.6666666666666666,
              "#ed7953"
             ],
             [
              0.7777777777777778,
              "#fb9f3a"
             ],
             [
              0.8888888888888888,
              "#fdca26"
             ],
             [
              1,
              "#f0f921"
             ]
            ],
            "type": "heatmap"
           }
          ],
          "heatmapgl": [
           {
            "colorbar": {
             "outlinewidth": 0,
             "ticks": ""
            },
            "colorscale": [
             [
              0,
              "#0d0887"
             ],
             [
              0.1111111111111111,
              "#46039f"
             ],
             [
              0.2222222222222222,
              "#7201a8"
             ],
             [
              0.3333333333333333,
              "#9c179e"
             ],
             [
              0.4444444444444444,
              "#bd3786"
             ],
             [
              0.5555555555555556,
              "#d8576b"
             ],
             [
              0.6666666666666666,
              "#ed7953"
             ],
             [
              0.7777777777777778,
              "#fb9f3a"
             ],
             [
              0.8888888888888888,
              "#fdca26"
             ],
             [
              1,
              "#f0f921"
             ]
            ],
            "type": "heatmapgl"
           }
          ],
          "histogram": [
           {
            "marker": {
             "pattern": {
              "fillmode": "overlay",
              "size": 10,
              "solidity": 0.2
             }
            },
            "type": "histogram"
           }
          ],
          "histogram2d": [
           {
            "colorbar": {
             "outlinewidth": 0,
             "ticks": ""
            },
            "colorscale": [
             [
              0,
              "#0d0887"
             ],
             [
              0.1111111111111111,
              "#46039f"
             ],
             [
              0.2222222222222222,
              "#7201a8"
             ],
             [
              0.3333333333333333,
              "#9c179e"
             ],
             [
              0.4444444444444444,
              "#bd3786"
             ],
             [
              0.5555555555555556,
              "#d8576b"
             ],
             [
              0.6666666666666666,
              "#ed7953"
             ],
             [
              0.7777777777777778,
              "#fb9f3a"
             ],
             [
              0.8888888888888888,
              "#fdca26"
             ],
             [
              1,
              "#f0f921"
             ]
            ],
            "type": "histogram2d"
           }
          ],
          "histogram2dcontour": [
           {
            "colorbar": {
             "outlinewidth": 0,
             "ticks": ""
            },
            "colorscale": [
             [
              0,
              "#0d0887"
             ],
             [
              0.1111111111111111,
              "#46039f"
             ],
             [
              0.2222222222222222,
              "#7201a8"
             ],
             [
              0.3333333333333333,
              "#9c179e"
             ],
             [
              0.4444444444444444,
              "#bd3786"
             ],
             [
              0.5555555555555556,
              "#d8576b"
             ],
             [
              0.6666666666666666,
              "#ed7953"
             ],
             [
              0.7777777777777778,
              "#fb9f3a"
             ],
             [
              0.8888888888888888,
              "#fdca26"
             ],
             [
              1,
              "#f0f921"
             ]
            ],
            "type": "histogram2dcontour"
           }
          ],
          "mesh3d": [
           {
            "colorbar": {
             "outlinewidth": 0,
             "ticks": ""
            },
            "type": "mesh3d"
           }
          ],
          "parcoords": [
           {
            "line": {
             "colorbar": {
              "outlinewidth": 0,
              "ticks": ""
             }
            },
            "type": "parcoords"
           }
          ],
          "pie": [
           {
            "automargin": true,
            "type": "pie"
           }
          ],
          "scatter": [
           {
            "fillpattern": {
             "fillmode": "overlay",
             "size": 10,
             "solidity": 0.2
            },
            "type": "scatter"
           }
          ],
          "scatter3d": [
           {
            "line": {
             "colorbar": {
              "outlinewidth": 0,
              "ticks": ""
             }
            },
            "marker": {
             "colorbar": {
              "outlinewidth": 0,
              "ticks": ""
             }
            },
            "type": "scatter3d"
           }
          ],
          "scattercarpet": [
           {
            "marker": {
             "colorbar": {
              "outlinewidth": 0,
              "ticks": ""
             }
            },
            "type": "scattercarpet"
           }
          ],
          "scattergeo": [
           {
            "marker": {
             "colorbar": {
              "outlinewidth": 0,
              "ticks": ""
             }
            },
            "type": "scattergeo"
           }
          ],
          "scattergl": [
           {
            "marker": {
             "colorbar": {
              "outlinewidth": 0,
              "ticks": ""
             }
            },
            "type": "scattergl"
           }
          ],
          "scattermapbox": [
           {
            "marker": {
             "colorbar": {
              "outlinewidth": 0,
              "ticks": ""
             }
            },
            "type": "scattermapbox"
           }
          ],
          "scatterpolar": [
           {
            "marker": {
             "colorbar": {
              "outlinewidth": 0,
              "ticks": ""
             }
            },
            "type": "scatterpolar"
           }
          ],
          "scatterpolargl": [
           {
            "marker": {
             "colorbar": {
              "outlinewidth": 0,
              "ticks": ""
             }
            },
            "type": "scatterpolargl"
           }
          ],
          "scatterternary": [
           {
            "marker": {
             "colorbar": {
              "outlinewidth": 0,
              "ticks": ""
             }
            },
            "type": "scatterternary"
           }
          ],
          "surface": [
           {
            "colorbar": {
             "outlinewidth": 0,
             "ticks": ""
            },
            "colorscale": [
             [
              0,
              "#0d0887"
             ],
             [
              0.1111111111111111,
              "#46039f"
             ],
             [
              0.2222222222222222,
              "#7201a8"
             ],
             [
              0.3333333333333333,
              "#9c179e"
             ],
             [
              0.4444444444444444,
              "#bd3786"
             ],
             [
              0.5555555555555556,
              "#d8576b"
             ],
             [
              0.6666666666666666,
              "#ed7953"
             ],
             [
              0.7777777777777778,
              "#fb9f3a"
             ],
             [
              0.8888888888888888,
              "#fdca26"
             ],
             [
              1,
              "#f0f921"
             ]
            ],
            "type": "surface"
           }
          ],
          "table": [
           {
            "cells": {
             "fill": {
              "color": "#EBF0F8"
             },
             "line": {
              "color": "white"
             }
            },
            "header": {
             "fill": {
              "color": "#C8D4E3"
             },
             "line": {
              "color": "white"
             }
            },
            "type": "table"
           }
          ]
         },
         "layout": {
          "annotationdefaults": {
           "arrowcolor": "#2a3f5f",
           "arrowhead": 0,
           "arrowwidth": 1
          },
          "autotypenumbers": "strict",
          "coloraxis": {
           "colorbar": {
            "outlinewidth": 0,
            "ticks": ""
           }
          },
          "colorscale": {
           "diverging": [
            [
             0,
             "#8e0152"
            ],
            [
             0.1,
             "#c51b7d"
            ],
            [
             0.2,
             "#de77ae"
            ],
            [
             0.3,
             "#f1b6da"
            ],
            [
             0.4,
             "#fde0ef"
            ],
            [
             0.5,
             "#f7f7f7"
            ],
            [
             0.6,
             "#e6f5d0"
            ],
            [
             0.7,
             "#b8e186"
            ],
            [
             0.8,
             "#7fbc41"
            ],
            [
             0.9,
             "#4d9221"
            ],
            [
             1,
             "#276419"
            ]
           ],
           "sequential": [
            [
             0,
             "#0d0887"
            ],
            [
             0.1111111111111111,
             "#46039f"
            ],
            [
             0.2222222222222222,
             "#7201a8"
            ],
            [
             0.3333333333333333,
             "#9c179e"
            ],
            [
             0.4444444444444444,
             "#bd3786"
            ],
            [
             0.5555555555555556,
             "#d8576b"
            ],
            [
             0.6666666666666666,
             "#ed7953"
            ],
            [
             0.7777777777777778,
             "#fb9f3a"
            ],
            [
             0.8888888888888888,
             "#fdca26"
            ],
            [
             1,
             "#f0f921"
            ]
           ],
           "sequentialminus": [
            [
             0,
             "#0d0887"
            ],
            [
             0.1111111111111111,
             "#46039f"
            ],
            [
             0.2222222222222222,
             "#7201a8"
            ],
            [
             0.3333333333333333,
             "#9c179e"
            ],
            [
             0.4444444444444444,
             "#bd3786"
            ],
            [
             0.5555555555555556,
             "#d8576b"
            ],
            [
             0.6666666666666666,
             "#ed7953"
            ],
            [
             0.7777777777777778,
             "#fb9f3a"
            ],
            [
             0.8888888888888888,
             "#fdca26"
            ],
            [
             1,
             "#f0f921"
            ]
           ]
          },
          "colorway": [
           "#636efa",
           "#EF553B",
           "#00cc96",
           "#ab63fa",
           "#FFA15A",
           "#19d3f3",
           "#FF6692",
           "#B6E880",
           "#FF97FF",
           "#FECB52"
          ],
          "font": {
           "color": "#2a3f5f"
          },
          "geo": {
           "bgcolor": "white",
           "lakecolor": "white",
           "landcolor": "#E5ECF6",
           "showlakes": true,
           "showland": true,
           "subunitcolor": "white"
          },
          "hoverlabel": {
           "align": "left"
          },
          "hovermode": "closest",
          "mapbox": {
           "style": "light"
          },
          "paper_bgcolor": "white",
          "plot_bgcolor": "#E5ECF6",
          "polar": {
           "angularaxis": {
            "gridcolor": "white",
            "linecolor": "white",
            "ticks": ""
           },
           "bgcolor": "#E5ECF6",
           "radialaxis": {
            "gridcolor": "white",
            "linecolor": "white",
            "ticks": ""
           }
          },
          "scene": {
           "xaxis": {
            "backgroundcolor": "#E5ECF6",
            "gridcolor": "white",
            "gridwidth": 2,
            "linecolor": "white",
            "showbackground": true,
            "ticks": "",
            "zerolinecolor": "white"
           },
           "yaxis": {
            "backgroundcolor": "#E5ECF6",
            "gridcolor": "white",
            "gridwidth": 2,
            "linecolor": "white",
            "showbackground": true,
            "ticks": "",
            "zerolinecolor": "white"
           },
           "zaxis": {
            "backgroundcolor": "#E5ECF6",
            "gridcolor": "white",
            "gridwidth": 2,
            "linecolor": "white",
            "showbackground": true,
            "ticks": "",
            "zerolinecolor": "white"
           }
          },
          "shapedefaults": {
           "line": {
            "color": "#2a3f5f"
           }
          },
          "ternary": {
           "aaxis": {
            "gridcolor": "white",
            "linecolor": "white",
            "ticks": ""
           },
           "baxis": {
            "gridcolor": "white",
            "linecolor": "white",
            "ticks": ""
           },
           "bgcolor": "#E5ECF6",
           "caxis": {
            "gridcolor": "white",
            "linecolor": "white",
            "ticks": ""
           }
          },
          "title": {
           "x": 0.05
          },
          "xaxis": {
           "automargin": true,
           "gridcolor": "white",
           "linecolor": "white",
           "ticks": "",
           "title": {
            "standoff": 15
           },
           "zerolinecolor": "white",
           "zerolinewidth": 2
          },
          "yaxis": {
           "automargin": true,
           "gridcolor": "white",
           "linecolor": "white",
           "ticks": "",
           "title": {
            "standoff": 15
           },
           "zerolinecolor": "white",
           "zerolinewidth": 2
          }
         }
        },
        "title": {
         "text": "Confusion Matrix Heatmap"
        },
        "width": 1000,
        "xaxis": {
         "dtick": 1,
         "gridcolor": "rgb(0, 0, 0)",
         "side": "top",
         "ticks": "",
         "title": {
          "text": "Predicted Topics"
         }
        },
        "yaxis": {
         "dtick": 1,
         "ticks": "",
         "ticksuffix": "  ",
         "title": {
          "text": "True Topics"
         }
        }
       }
      }
     },
     "metadata": {},
     "output_type": "display_data"
    }
   ],
   "source": [
    "\n",
    "# Calculer la matrice de confusion et normaliser par le nombre total de documents\n",
    "cm = confusion_matrix(y_true=topic_encoded_df[\"target\"], y_pred=topic_encoded_df[\"class_pred\"])\n",
    "cm_normalized = cm / cm.sum(axis=1, keepdims=True)  # Normalisation par ligne\n",
    "\n",
    "# Créer une heatmap avec des annotations\n",
    "fig = ff.create_annotated_heatmap(\n",
    "    z=cm_normalized.round(2),  # Matrice normalisée et arrondie à 2 décimales\n",
    "    x=[f\"Topic {i}\" for i in range(cm.shape[1])],  # Axes des colonnes\n",
    "    y=[f\"Topic {i}\" for i in range(cm.shape[0])],  # Axes des lignes\n",
    "    colorscale=\"Viridis\",  # Palette de couleurs moderne\n",
    "    showscale=True  # Afficher l'échelle des couleurs\n",
    ")\n",
    "\n",
    "# Personnaliser la mise en page\n",
    "fig.update_layout(\n",
    "    title=\"Confusion Matrix Heatmap\",\n",
    "    xaxis=dict(title=\"Predicted Topics\"),\n",
    "    yaxis=dict(title=\"True Topics\"),\n",
    "    width=1000,  # Largeur de la figure\n",
    "    height=1000,  # Hauteur de la figure\n",
    "    font=dict(size=12)  # Taille des polices\n",
    ")\n",
    "\n",
    "# Afficher la heatmap\n",
    "fig.show()"
   ]
  },
  {
   "cell_type": "markdown",
   "metadata": {},
   "source": [
    "Conclusion : the topics found by LSA are very different from the target ! Here we can see that topic 0 is very frequent among the documents and spans accross lots of the target categories. LSA is very convenient to find some structure among a text corpus, but it usually creates topics that are quite different from the categories that would have been determined by a human.\n",
    "\n",
    "Reminder : contrary to supervised classification and unsupervised clustering, LSA is based on the hypothesis that a given document can be related to several topics. This makes the interpretation of the model's output more complicated, but allows to create topic models that are more realistic (because in real life, a document is often related to different topics !)"
   ]
  }
 ],
 "metadata": {
  "kernelspec": {
   "display_name": ".venv",
   "language": "python",
   "name": "python3"
  },
  "language_info": {
   "codemirror_mode": {
    "name": "ipython",
    "version": 3
   },
   "file_extension": ".py",
   "mimetype": "text/x-python",
   "name": "python",
   "nbconvert_exporter": "python",
   "pygments_lexer": "ipython3",
   "version": "3.12.7"
  }
 },
 "nbformat": 4,
 "nbformat_minor": 2
}
