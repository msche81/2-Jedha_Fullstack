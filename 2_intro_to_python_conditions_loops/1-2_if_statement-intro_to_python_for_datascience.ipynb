{
 "cells": [
  {
   "cell_type": "code",
   "execution_count": 1,
   "metadata": {},
   "outputs": [],
   "source": [
    "a = 10\n",
    "b = 5"
   ]
  },
  {
   "cell_type": "code",
   "execution_count": 2,
   "metadata": {},
   "outputs": [
    {
     "name": "stdout",
     "output_type": "stream",
     "text": [
      "a is greater than b\n"
     ]
    }
   ],
   "source": [
    "if a == b:\n",
    "    print(\"a is equal to b\")\n",
    "elif a > b:\n",
    "    print(\"a is greater than b\")\n",
    "else:\n",
    "    print(\"a is neither equal nor greater than b\")"
   ]
  },
  {
   "cell_type": "code",
   "execution_count": 3,
   "metadata": {},
   "outputs": [
    {
     "name": "stdout",
     "output_type": "stream",
     "text": [
      "You entered more friends than amounts!\n"
     ]
    }
   ],
   "source": [
    "friends = input(\"What are the names of your friends? Separate their names by a comma\")\n",
    "amounts = input(\"How much each of your friends spent? Keep the same order as above and separate by a comma\")\n",
    "\n",
    "list_of_friends = friends.split(\",\")\n",
    "list_of_amounts = amounts.split(\",\")\n",
    "\n",
    "if len(list_of_friends) == len(list_of_amounts):\n",
    "    \n",
    "    friends = [\n",
    "        (list_of_friends[0], list_of_amounts[0]),\n",
    "        (list_of_friends[1], list_of_amounts[1]),\n",
    "        (list_of_friends[2], list_of_amounts[2]),\n",
    "        (list_of_friends[3], list_of_amounts[3])\n",
    "    ]\n",
    "\n",
    "    print(friends)\n",
    "\n",
    "elif len(list_of_friends) > len(list_of_amounts):\n",
    "    print(\"You entered more friends than amounts!\")\n",
    "\n",
    "else:\n",
    "    print(\"You entered more amounts than friends!\")"
   ]
  },
  {
   "cell_type": "code",
   "execution_count": null,
   "metadata": {},
   "outputs": [],
   "source": []
  }
 ],
 "metadata": {
  "kernelspec": {
   "display_name": "Python 3",
   "language": "python",
   "name": "python3"
  },
  "language_info": {
   "codemirror_mode": {
    "name": "ipython",
    "version": 3
   },
   "file_extension": ".py",
   "mimetype": "text/x-python",
   "name": "python",
   "nbconvert_exporter": "python",
   "pygments_lexer": "ipython3",
   "version": "3.12.4"
  }
 },
 "nbformat": 4,
 "nbformat_minor": 2
}
