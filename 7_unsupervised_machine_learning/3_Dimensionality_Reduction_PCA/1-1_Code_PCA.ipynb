{
 "cells": [
  {
   "cell_type": "code",
   "execution_count": 1,
   "metadata": {},
   "outputs": [],
   "source": [
    "import plotly.express as px\n",
    "import plotly.graph_objects as go\n",
    "import plotly.io as pio"
   ]
  },
  {
   "cell_type": "markdown",
   "metadata": {},
   "source": [
    "# Dataset 🔥🔥\n",
    "\n",
    "Let's use Iris from Scikit Learn to illustrate PCA."
   ]
  },
  {
   "cell_type": "code",
   "execution_count": 2,
   "metadata": {},
   "outputs": [
    {
     "data": {
      "text/html": [
       "<div>\n",
       "<style scoped>\n",
       "    .dataframe tbody tr th:only-of-type {\n",
       "        vertical-align: middle;\n",
       "    }\n",
       "\n",
       "    .dataframe tbody tr th {\n",
       "        vertical-align: top;\n",
       "    }\n",
       "\n",
       "    .dataframe thead th {\n",
       "        text-align: right;\n",
       "    }\n",
       "</style>\n",
       "<table border=\"1\" class=\"dataframe\">\n",
       "  <thead>\n",
       "    <tr style=\"text-align: right;\">\n",
       "      <th></th>\n",
       "      <th>sepal length (cm)</th>\n",
       "      <th>sepal width (cm)</th>\n",
       "      <th>petal length (cm)</th>\n",
       "      <th>petal width (cm)</th>\n",
       "    </tr>\n",
       "  </thead>\n",
       "  <tbody>\n",
       "    <tr>\n",
       "      <th>0</th>\n",
       "      <td>5.1</td>\n",
       "      <td>3.5</td>\n",
       "      <td>1.4</td>\n",
       "      <td>0.2</td>\n",
       "    </tr>\n",
       "    <tr>\n",
       "      <th>1</th>\n",
       "      <td>4.9</td>\n",
       "      <td>3.0</td>\n",
       "      <td>1.4</td>\n",
       "      <td>0.2</td>\n",
       "    </tr>\n",
       "    <tr>\n",
       "      <th>2</th>\n",
       "      <td>4.7</td>\n",
       "      <td>3.2</td>\n",
       "      <td>1.3</td>\n",
       "      <td>0.2</td>\n",
       "    </tr>\n",
       "    <tr>\n",
       "      <th>3</th>\n",
       "      <td>4.6</td>\n",
       "      <td>3.1</td>\n",
       "      <td>1.5</td>\n",
       "      <td>0.2</td>\n",
       "    </tr>\n",
       "    <tr>\n",
       "      <th>4</th>\n",
       "      <td>5.0</td>\n",
       "      <td>3.6</td>\n",
       "      <td>1.4</td>\n",
       "      <td>0.2</td>\n",
       "    </tr>\n",
       "  </tbody>\n",
       "</table>\n",
       "</div>"
      ],
      "text/plain": [
       "   sepal length (cm)  sepal width (cm)  petal length (cm)  petal width (cm)\n",
       "0                5.1               3.5                1.4               0.2\n",
       "1                4.9               3.0                1.4               0.2\n",
       "2                4.7               3.2                1.3               0.2\n",
       "3                4.6               3.1                1.5               0.2\n",
       "4                5.0               3.6                1.4               0.2"
      ]
     },
     "execution_count": 2,
     "metadata": {},
     "output_type": "execute_result"
    }
   ],
   "source": [
    "from sklearn.datasets import load_iris\n",
    "\n",
    "X, _ = load_iris(return_X_y=True, as_frame=True)\n",
    "X.head()"
   ]
  },
  {
   "cell_type": "markdown",
   "metadata": {},
   "source": [
    "As stated in the theory part of the course, we need to follow a few steps to get our PCA. Here they are:"
   ]
  },
  {
   "cell_type": "markdown",
   "metadata": {},
   "source": [
    "# Normalize dataset 📏📏\n",
    "\n",
    "Let's normalize our dataset before going anywhere:"
   ]
  },
  {
   "cell_type": "code",
   "execution_count": 3,
   "metadata": {},
   "outputs": [
    {
     "data": {
      "text/plain": [
       "array([[-0.90068117,  1.01900435, -1.34022653, -1.3154443 ],\n",
       "       [-1.14301691, -0.13197948, -1.34022653, -1.3154443 ],\n",
       "       [-1.38535265,  0.32841405, -1.39706395, -1.3154443 ],\n",
       "       [-1.50652052,  0.09821729, -1.2833891 , -1.3154443 ],\n",
       "       [-1.02184904,  1.24920112, -1.34022653, -1.3154443 ]])"
      ]
     },
     "execution_count": 3,
     "metadata": {},
     "output_type": "execute_result"
    }
   ],
   "source": [
    "from sklearn.preprocessing import StandardScaler\n",
    "\n",
    "sc = StandardScaler()\n",
    "X = sc.fit_transform(X)\n",
    "\n",
    "X[:5]"
   ]
  },
  {
   "cell_type": "markdown",
   "metadata": {},
   "source": [
    "# Apply PCA 🚀🚀\n",
    "\n",
    "Now, if we want to be fast, we can already apply PCA on our dataset using from Scikit Learn."
   ]
  },
  {
   "cell_type": "code",
   "execution_count": 4,
   "metadata": {},
   "outputs": [
    {
     "data": {
      "text/plain": [
       "array([[-2.26470281,  0.4800266 ],\n",
       "       [-2.08096115, -0.67413356],\n",
       "       [-2.36422905, -0.34190802],\n",
       "       [-2.29938422, -0.59739451],\n",
       "       [-2.38984217,  0.64683538]])"
      ]
     },
     "execution_count": 4,
     "metadata": {},
     "output_type": "execute_result"
    }
   ],
   "source": [
    "from sklearn.decomposition import PCA\n",
    "\n",
    "pca = PCA(n_components=2)\n",
    "\n",
    "PC = pca.fit_transform(X)\n",
    "\n",
    "PC[:5]"
   ]
  },
  {
   "cell_type": "markdown",
   "metadata": {},
   "source": [
    "What is this PC dataset? It is our dataset of Principal Components. Let's actually find our eigen-vectors using .components_ property."
   ]
  },
  {
   "cell_type": "code",
   "execution_count": 5,
   "metadata": {},
   "outputs": [
    {
     "data": {
      "text/plain": [
       "array([[ 0.52106591, -0.26934744,  0.5804131 ,  0.56485654],\n",
       "       [ 0.37741762,  0.92329566,  0.02449161,  0.06694199]])"
      ]
     },
     "execution_count": 5,
     "metadata": {},
     "output_type": "execute_result"
    }
   ],
   "source": [
    "pca.components_"
   ]
  },
  {
   "cell_type": "markdown",
   "metadata": {},
   "source": [
    "This is also our U matrix of Eigen−vectors that we can find using SVD. To verify, we can multiply this matrix by our initial dataset, we get our PC matrix back."
   ]
  },
  {
   "cell_type": "code",
   "execution_count": 6,
   "metadata": {},
   "outputs": [
    {
     "data": {
      "text/plain": [
       "array([[-2.26470281,  0.4800266 ],\n",
       "       [-2.08096115, -0.67413356],\n",
       "       [-2.36422905, -0.34190802],\n",
       "       [-2.29938422, -0.59739451],\n",
       "       [-2.38984217,  0.64683538]])"
      ]
     },
     "execution_count": 6,
     "metadata": {},
     "output_type": "execute_result"
    }
   ],
   "source": [
    "# Let's multiply (use dot product) X by pca.components_ transpose\n",
    "X.dot(pca.components_.T)[:5]"
   ]
  },
  {
   "cell_type": "markdown",
   "metadata": {},
   "source": [
    "pca.components_ gives us an idea of how PC is built. For example:"
   ]
  },
  {
   "cell_type": "code",
   "execution_count": 7,
   "metadata": {},
   "outputs": [
    {
     "data": {
      "text/plain": [
       "array([-2.26470281, -2.08096115, -2.36422905, -2.29938422, -2.38984217])"
      ]
     },
     "execution_count": 7,
     "metadata": {},
     "output_type": "execute_result"
    }
   ],
   "source": [
    "# Get first principal component\n",
    "PC1 = PC[:, 0]\n",
    "\n",
    "# Visualize PC1\n",
    "PC1[:5]"
   ]
  },
  {
   "cell_type": "code",
   "execution_count": 8,
   "metadata": {},
   "outputs": [
    {
     "data": {
      "text/plain": [
       "array([ 0.52106591, -0.26934744,  0.5804131 ,  0.56485654])"
      ]
     },
     "execution_count": 8,
     "metadata": {},
     "output_type": "execute_result"
    }
   ],
   "source": [
    "# Here is the associated eigen vector\n",
    "eig_vec_1 = pca.components_[0, :]\n",
    "eig_vec_1"
   ]
  },
  {
   "cell_type": "markdown",
   "metadata": {},
   "source": [
    "What it means is that PC1 is a linear combination of:\n",
    "\n",
    "0.52*Sepal Length + (-0.27)*sepal width + 0.58*petal length + 0.56*petal width\n",
    "\n",
    "This is how we can interpret what PC1 actually means! 💪"
   ]
  },
  {
   "cell_type": "markdown",
   "metadata": {},
   "source": [
    "# Visualization 📊📊\n",
    "\n",
    "Let's now visualize our new dataset!"
   ]
  },
  {
   "cell_type": "code",
   "execution_count": 9,
   "metadata": {},
   "outputs": [
    {
     "data": {
      "text/html": [
       "<div>\n",
       "<style scoped>\n",
       "    .dataframe tbody tr th:only-of-type {\n",
       "        vertical-align: middle;\n",
       "    }\n",
       "\n",
       "    .dataframe tbody tr th {\n",
       "        vertical-align: top;\n",
       "    }\n",
       "\n",
       "    .dataframe thead th {\n",
       "        text-align: right;\n",
       "    }\n",
       "</style>\n",
       "<table border=\"1\" class=\"dataframe\">\n",
       "  <thead>\n",
       "    <tr style=\"text-align: right;\">\n",
       "      <th></th>\n",
       "      <th>PC1</th>\n",
       "      <th>PC2</th>\n",
       "    </tr>\n",
       "  </thead>\n",
       "  <tbody>\n",
       "    <tr>\n",
       "      <th>0</th>\n",
       "      <td>-2.264703</td>\n",
       "      <td>0.480027</td>\n",
       "    </tr>\n",
       "    <tr>\n",
       "      <th>1</th>\n",
       "      <td>-2.080961</td>\n",
       "      <td>-0.674134</td>\n",
       "    </tr>\n",
       "    <tr>\n",
       "      <th>2</th>\n",
       "      <td>-2.364229</td>\n",
       "      <td>-0.341908</td>\n",
       "    </tr>\n",
       "    <tr>\n",
       "      <th>3</th>\n",
       "      <td>-2.299384</td>\n",
       "      <td>-0.597395</td>\n",
       "    </tr>\n",
       "    <tr>\n",
       "      <th>4</th>\n",
       "      <td>-2.389842</td>\n",
       "      <td>0.646835</td>\n",
       "    </tr>\n",
       "  </tbody>\n",
       "</table>\n",
       "</div>"
      ],
      "text/plain": [
       "        PC1       PC2\n",
       "0 -2.264703  0.480027\n",
       "1 -2.080961 -0.674134\n",
       "2 -2.364229 -0.341908\n",
       "3 -2.299384 -0.597395\n",
       "4 -2.389842  0.646835"
      ]
     },
     "execution_count": 9,
     "metadata": {},
     "output_type": "execute_result"
    }
   ],
   "source": [
    "# Import pandas\n",
    "import pandas as pd\n",
    "\n",
    "# Convert PC into a DataFrame\n",
    "PC = pd.DataFrame(data=PC, columns=[\"PC1\", \"PC2\"])\n",
    "\n",
    "# PC Head\n",
    "PC.head()"
   ]
  },
  {
   "cell_type": "code",
   "execution_count": 10,
   "metadata": {},
   "outputs": [
    {
     "data": {
      "application/vnd.plotly.v1+json": {
       "config": {
        "plotlyServerURL": "https://plot.ly"
       },
       "data": [
        {
         "hovertemplate": "PC1=%{x}<br>PC2=%{y}<extra></extra>",
         "legendgroup": "",
         "marker": {
          "color": "#636efa",
          "symbol": "circle"
         },
         "mode": "markers",
         "name": "",
         "orientation": "v",
         "showlegend": false,
         "type": "scatter",
         "x": [
          -2.264702808807589,
          -2.080961151965768,
          -2.364229053890301,
          -2.299384217042708,
          -2.389842166313845,
          -2.0756309481765127,
          -2.444028835134153,
          -2.232847158872015,
          -2.3346404779076213,
          -2.1843281749339423,
          -2.166310100701323,
          -2.326130866442699,
          -2.2184508988224096,
          -2.6331006957652283,
          -2.1987406032666907,
          -2.2622145316010225,
          -2.207587695824593,
          -2.1903495091922993,
          -1.8985719958028426,
          -2.3433690530749933,
          -1.9143229960825683,
          -2.207012843194799,
          -2.7743447029273325,
          -1.8186695286958496,
          -2.2271633057066387,
          -1.9518463309003762,
          -2.0511513727294157,
          -2.168577174654217,
          -2.1395634513013317,
          -2.2652614931542407,
          -2.1401221356479847,
          -1.8315947706760287,
          -2.614947935858935,
          -2.4461773916965157,
          -2.1099748753186525,
          -2.207808899078266,
          -2.0451462067542017,
          -2.5273319131704866,
          -2.429632575084546,
          -2.169710711630664,
          -2.2864751433456703,
          -1.858122456373571,
          -2.553638395614356,
          -1.9644476837637408,
          -2.1370590058116234,
          -2.06974429959183,
          -2.3847331657782633,
          -2.394376314219633,
          -2.229446547942675,
          -2.2038334355191305,
          1.1017811830529476,
          0.7313374253960875,
          1.240979319515831,
          0.4074830588173856,
          1.0754747006090783,
          0.3886873365356653,
          0.7465297413291607,
          -0.48732274212563914,
          0.9279016383549453,
          0.011426188736980711,
          -0.11019628000062821,
          0.44069344898307855,
          0.5621083064431793,
          0.7195618886754968,
          -0.033354703178772045,
          0.8754071908577377,
          0.35025166799508306,
          0.15881004754797157,
          1.225093633562432,
          0.1649178993863277,
          0.7376826487712584,
          0.47628719094097155,
          1.2341780976571495,
          0.632858199709822,
          0.7026611831361823,
          0.8742736538812904,
          1.2565091165418834,
          1.358405121440632,
          0.664800367225395,
          -0.04025861090059523,
          0.13079517549786102,
          0.023452688970551208,
          0.24153827295451114,
          1.0610946088426145,
          0.2239787735123801,
          0.42913911551616074,
          1.0487280512090875,
          1.0445313843962793,
          0.06958832111642314,
          0.2834772382875759,
          0.27907777605546136,
          0.6245697914985716,
          0.3365303701314361,
          -0.3621833846193827,
          0.2885862388231577,
          0.09136065565450548,
          0.22771686553470025,
          0.5763882886534788,
          -0.44766701902861133,
          0.256730588887585,
          1.8445688677230294,
          1.1578816132057803,
          2.2052667910753785,
          1.4401506638275399,
          1.867812220330538,
          2.7518733356662772,
          0.3670176878607253,
          2.3024394446251972,
          2.0066864676766065,
          2.2597773490125004,
          1.364175492186008,
          1.602678670477931,
          1.8839007017032428,
          1.2601150991975085,
          1.4676452010173247,
          1.590077317614566,
          1.4714314611333186,
          2.4263289873157006,
          3.310695583933888,
          1.2637666736398288,
          2.0377163014694046,
          0.9779807342494222,
          2.8976514907341695,
          1.3332321759732093,
          1.7007338974912172,
          1.9543267058530711,
          1.175103631554933,
          1.0209505506957912,
          1.7883499201796662,
          1.863647553328261,
          2.4359537279227035,
          2.3049277218317643,
          1.8627032197949562,
          1.114147740686475,
          1.202473301678391,
          2.798770447578108,
          1.5762559101947544,
          1.346292103627062,
          0.9248249165424197,
          1.85204505176767,
          2.014810429954876,
          1.9017840902621894,
          1.1578816132057803,
          2.040558228052093,
          1.9981470959523766,
          1.870503292956411,
          1.5645804830303287,
          1.5211704996278381,
          1.3727877895140732,
          0.9606560300371284
         ],
         "xaxis": "x",
         "y": [
          0.48002659652098895,
          -0.674133556605353,
          -0.3419080238846764,
          -0.5973945076746757,
          0.6468353829020265,
          1.4891775233211664,
          0.04764419763001389,
          0.22314807268959144,
          -1.1153276754616661,
          -0.4690135614023758,
          1.0436906530538594,
          0.13307833523923132,
          -0.7286761653165709,
          -0.9615067291701631,
          1.8600571132939305,
          2.686284485110591,
          1.483609363155572,
          0.48883831648632736,
          1.4050187944665489,
          1.1278493819084756,
          0.4088557077559059,
          0.9241214267468979,
          0.4583436677529151,
          0.0855585262873659,
          0.13725445536342698,
          -0.6256185877766767,
          0.24216355266166673,
          0.5271495253082671,
          0.3132178101399516,
          -0.33773190376048073,
          -0.5045406901415185,
          0.4236950676037856,
          1.7935758561044282,
          2.1507278773929235,
          -0.46020184143703746,
          -0.20610739768843703,
          0.6615581114631078,
          0.592292774190809,
          -0.904180040376148,
          0.2688789614354705,
          0.4417153876990497,
          -2.3374151575533477,
          -0.4791006901223142,
          0.47232666771926046,
          1.142229262039408,
          -0.7110527253858941,
          1.1204297019845357,
          -0.3862468725891573,
          0.99795976430798,
          0.009216357521276019,
          0.8629724182621589,
          0.5946147256694243,
          0.6162976544374983,
          -1.75440398932341,
          -0.20842104605096543,
          -0.5932836359900753,
          0.7730193120985963,
          -1.852429086857574,
          0.0322260778911539,
          -1.0340182751294404,
          -2.6540728185365636,
          -0.06329518843800147,
          -1.7647243806169446,
          -0.1862246058315057,
          -0.4390032099816247,
          0.5090639567734085,
          -0.19631173455144407,
          -0.7920957424327212,
          -1.6222438030915012,
          -1.3026092302957724,
          0.3965715619602387,
          -0.41732028121355086,
          -0.9333257287992782,
          -0.4163877208890993,
          -0.06341181972480008,
          0.2507933929006121,
          -0.07725601969586883,
          0.3313116817908981,
          -0.22592785469484358,
          -1.0587185465539086,
          -1.5622718342099673,
          -1.5724755942167041,
          -0.7772563825848415,
          -0.6338432447349468,
          -0.2877735120432024,
          0.8455822409050782,
          0.5220517968629426,
          -1.3829887191907815,
          -0.21950333464771504,
          -1.3293246390695763,
          -1.1200285237424037,
          0.02492302925401262,
          -0.9884040176703599,
          -2.0192378732386116,
          -0.8557303199870663,
          -0.18119212582577532,
          -0.3849200809873538,
          -0.15487359721655874,
          -1.543792034397756,
          -0.5988517961556694,
          0.8704213123248228,
          -0.6988698623306904,
          0.5620104770083555,
          -0.046987588105806576,
          0.2950448244570196,
          0.8004092010275418,
          -1.561502891476506,
          0.42006557964277635,
          -0.7114386535471587,
          1.9210103764598858,
          0.6927564544903866,
          -0.4217004497726172,
          0.4192496506051235,
          -1.1622604214064636,
          -0.4422715873770826,
          0.6762448057233197,
          0.25562182447147047,
          2.5566612507954916,
          0.017780949320627282,
          -1.7067453803762673,
          0.9104674096183104,
          -0.5717643248129919,
          0.41364105959564784,
          -0.4818112186494293,
          1.0139218673227912,
          1.007777596153452,
          -0.316394472309791,
          0.06434602923956179,
          -0.18736121459082883,
          0.5622907258861446,
          0.25928443314428035,
          2.626323468232378,
          -0.17854949462549047,
          -0.2929226233357313,
          -0.8113152708396684,
          0.8568033294971054,
          1.0685811073208071,
          0.42243061085250816,
          0.017223100452284087,
          0.6761281744365212,
          0.6138856369235749,
          0.6895754942430022,
          -0.6988698623306904,
          0.8675206009552281,
          1.0491687471841447,
          0.38696608166572544,
          -0.8966868088965262,
          0.26906914427795153,
          1.0112544185267924,
          -0.024331668169399388
         ],
         "yaxis": "y"
        }
       ],
       "layout": {
        "legend": {
         "tracegroupgap": 0
        },
        "margin": {
         "t": 60
        },
        "template": {
         "data": {
          "bar": [
           {
            "error_x": {
             "color": "#2a3f5f"
            },
            "error_y": {
             "color": "#2a3f5f"
            },
            "marker": {
             "line": {
              "color": "#E5ECF6",
              "width": 0.5
             },
             "pattern": {
              "fillmode": "overlay",
              "size": 10,
              "solidity": 0.2
             }
            },
            "type": "bar"
           }
          ],
          "barpolar": [
           {
            "marker": {
             "line": {
              "color": "#E5ECF6",
              "width": 0.5
             },
             "pattern": {
              "fillmode": "overlay",
              "size": 10,
              "solidity": 0.2
             }
            },
            "type": "barpolar"
           }
          ],
          "carpet": [
           {
            "aaxis": {
             "endlinecolor": "#2a3f5f",
             "gridcolor": "white",
             "linecolor": "white",
             "minorgridcolor": "white",
             "startlinecolor": "#2a3f5f"
            },
            "baxis": {
             "endlinecolor": "#2a3f5f",
             "gridcolor": "white",
             "linecolor": "white",
             "minorgridcolor": "white",
             "startlinecolor": "#2a3f5f"
            },
            "type": "carpet"
           }
          ],
          "choropleth": [
           {
            "colorbar": {
             "outlinewidth": 0,
             "ticks": ""
            },
            "type": "choropleth"
           }
          ],
          "contour": [
           {
            "colorbar": {
             "outlinewidth": 0,
             "ticks": ""
            },
            "colorscale": [
             [
              0,
              "#0d0887"
             ],
             [
              0.1111111111111111,
              "#46039f"
             ],
             [
              0.2222222222222222,
              "#7201a8"
             ],
             [
              0.3333333333333333,
              "#9c179e"
             ],
             [
              0.4444444444444444,
              "#bd3786"
             ],
             [
              0.5555555555555556,
              "#d8576b"
             ],
             [
              0.6666666666666666,
              "#ed7953"
             ],
             [
              0.7777777777777778,
              "#fb9f3a"
             ],
             [
              0.8888888888888888,
              "#fdca26"
             ],
             [
              1,
              "#f0f921"
             ]
            ],
            "type": "contour"
           }
          ],
          "contourcarpet": [
           {
            "colorbar": {
             "outlinewidth": 0,
             "ticks": ""
            },
            "type": "contourcarpet"
           }
          ],
          "heatmap": [
           {
            "colorbar": {
             "outlinewidth": 0,
             "ticks": ""
            },
            "colorscale": [
             [
              0,
              "#0d0887"
             ],
             [
              0.1111111111111111,
              "#46039f"
             ],
             [
              0.2222222222222222,
              "#7201a8"
             ],
             [
              0.3333333333333333,
              "#9c179e"
             ],
             [
              0.4444444444444444,
              "#bd3786"
             ],
             [
              0.5555555555555556,
              "#d8576b"
             ],
             [
              0.6666666666666666,
              "#ed7953"
             ],
             [
              0.7777777777777778,
              "#fb9f3a"
             ],
             [
              0.8888888888888888,
              "#fdca26"
             ],
             [
              1,
              "#f0f921"
             ]
            ],
            "type": "heatmap"
           }
          ],
          "heatmapgl": [
           {
            "colorbar": {
             "outlinewidth": 0,
             "ticks": ""
            },
            "colorscale": [
             [
              0,
              "#0d0887"
             ],
             [
              0.1111111111111111,
              "#46039f"
             ],
             [
              0.2222222222222222,
              "#7201a8"
             ],
             [
              0.3333333333333333,
              "#9c179e"
             ],
             [
              0.4444444444444444,
              "#bd3786"
             ],
             [
              0.5555555555555556,
              "#d8576b"
             ],
             [
              0.6666666666666666,
              "#ed7953"
             ],
             [
              0.7777777777777778,
              "#fb9f3a"
             ],
             [
              0.8888888888888888,
              "#fdca26"
             ],
             [
              1,
              "#f0f921"
             ]
            ],
            "type": "heatmapgl"
           }
          ],
          "histogram": [
           {
            "marker": {
             "pattern": {
              "fillmode": "overlay",
              "size": 10,
              "solidity": 0.2
             }
            },
            "type": "histogram"
           }
          ],
          "histogram2d": [
           {
            "colorbar": {
             "outlinewidth": 0,
             "ticks": ""
            },
            "colorscale": [
             [
              0,
              "#0d0887"
             ],
             [
              0.1111111111111111,
              "#46039f"
             ],
             [
              0.2222222222222222,
              "#7201a8"
             ],
             [
              0.3333333333333333,
              "#9c179e"
             ],
             [
              0.4444444444444444,
              "#bd3786"
             ],
             [
              0.5555555555555556,
              "#d8576b"
             ],
             [
              0.6666666666666666,
              "#ed7953"
             ],
             [
              0.7777777777777778,
              "#fb9f3a"
             ],
             [
              0.8888888888888888,
              "#fdca26"
             ],
             [
              1,
              "#f0f921"
             ]
            ],
            "type": "histogram2d"
           }
          ],
          "histogram2dcontour": [
           {
            "colorbar": {
             "outlinewidth": 0,
             "ticks": ""
            },
            "colorscale": [
             [
              0,
              "#0d0887"
             ],
             [
              0.1111111111111111,
              "#46039f"
             ],
             [
              0.2222222222222222,
              "#7201a8"
             ],
             [
              0.3333333333333333,
              "#9c179e"
             ],
             [
              0.4444444444444444,
              "#bd3786"
             ],
             [
              0.5555555555555556,
              "#d8576b"
             ],
             [
              0.6666666666666666,
              "#ed7953"
             ],
             [
              0.7777777777777778,
              "#fb9f3a"
             ],
             [
              0.8888888888888888,
              "#fdca26"
             ],
             [
              1,
              "#f0f921"
             ]
            ],
            "type": "histogram2dcontour"
           }
          ],
          "mesh3d": [
           {
            "colorbar": {
             "outlinewidth": 0,
             "ticks": ""
            },
            "type": "mesh3d"
           }
          ],
          "parcoords": [
           {
            "line": {
             "colorbar": {
              "outlinewidth": 0,
              "ticks": ""
             }
            },
            "type": "parcoords"
           }
          ],
          "pie": [
           {
            "automargin": true,
            "type": "pie"
           }
          ],
          "scatter": [
           {
            "fillpattern": {
             "fillmode": "overlay",
             "size": 10,
             "solidity": 0.2
            },
            "type": "scatter"
           }
          ],
          "scatter3d": [
           {
            "line": {
             "colorbar": {
              "outlinewidth": 0,
              "ticks": ""
             }
            },
            "marker": {
             "colorbar": {
              "outlinewidth": 0,
              "ticks": ""
             }
            },
            "type": "scatter3d"
           }
          ],
          "scattercarpet": [
           {
            "marker": {
             "colorbar": {
              "outlinewidth": 0,
              "ticks": ""
             }
            },
            "type": "scattercarpet"
           }
          ],
          "scattergeo": [
           {
            "marker": {
             "colorbar": {
              "outlinewidth": 0,
              "ticks": ""
             }
            },
            "type": "scattergeo"
           }
          ],
          "scattergl": [
           {
            "marker": {
             "colorbar": {
              "outlinewidth": 0,
              "ticks": ""
             }
            },
            "type": "scattergl"
           }
          ],
          "scattermapbox": [
           {
            "marker": {
             "colorbar": {
              "outlinewidth": 0,
              "ticks": ""
             }
            },
            "type": "scattermapbox"
           }
          ],
          "scatterpolar": [
           {
            "marker": {
             "colorbar": {
              "outlinewidth": 0,
              "ticks": ""
             }
            },
            "type": "scatterpolar"
           }
          ],
          "scatterpolargl": [
           {
            "marker": {
             "colorbar": {
              "outlinewidth": 0,
              "ticks": ""
             }
            },
            "type": "scatterpolargl"
           }
          ],
          "scatterternary": [
           {
            "marker": {
             "colorbar": {
              "outlinewidth": 0,
              "ticks": ""
             }
            },
            "type": "scatterternary"
           }
          ],
          "surface": [
           {
            "colorbar": {
             "outlinewidth": 0,
             "ticks": ""
            },
            "colorscale": [
             [
              0,
              "#0d0887"
             ],
             [
              0.1111111111111111,
              "#46039f"
             ],
             [
              0.2222222222222222,
              "#7201a8"
             ],
             [
              0.3333333333333333,
              "#9c179e"
             ],
             [
              0.4444444444444444,
              "#bd3786"
             ],
             [
              0.5555555555555556,
              "#d8576b"
             ],
             [
              0.6666666666666666,
              "#ed7953"
             ],
             [
              0.7777777777777778,
              "#fb9f3a"
             ],
             [
              0.8888888888888888,
              "#fdca26"
             ],
             [
              1,
              "#f0f921"
             ]
            ],
            "type": "surface"
           }
          ],
          "table": [
           {
            "cells": {
             "fill": {
              "color": "#EBF0F8"
             },
             "line": {
              "color": "white"
             }
            },
            "header": {
             "fill": {
              "color": "#C8D4E3"
             },
             "line": {
              "color": "white"
             }
            },
            "type": "table"
           }
          ]
         },
         "layout": {
          "annotationdefaults": {
           "arrowcolor": "#2a3f5f",
           "arrowhead": 0,
           "arrowwidth": 1
          },
          "autotypenumbers": "strict",
          "coloraxis": {
           "colorbar": {
            "outlinewidth": 0,
            "ticks": ""
           }
          },
          "colorscale": {
           "diverging": [
            [
             0,
             "#8e0152"
            ],
            [
             0.1,
             "#c51b7d"
            ],
            [
             0.2,
             "#de77ae"
            ],
            [
             0.3,
             "#f1b6da"
            ],
            [
             0.4,
             "#fde0ef"
            ],
            [
             0.5,
             "#f7f7f7"
            ],
            [
             0.6,
             "#e6f5d0"
            ],
            [
             0.7,
             "#b8e186"
            ],
            [
             0.8,
             "#7fbc41"
            ],
            [
             0.9,
             "#4d9221"
            ],
            [
             1,
             "#276419"
            ]
           ],
           "sequential": [
            [
             0,
             "#0d0887"
            ],
            [
             0.1111111111111111,
             "#46039f"
            ],
            [
             0.2222222222222222,
             "#7201a8"
            ],
            [
             0.3333333333333333,
             "#9c179e"
            ],
            [
             0.4444444444444444,
             "#bd3786"
            ],
            [
             0.5555555555555556,
             "#d8576b"
            ],
            [
             0.6666666666666666,
             "#ed7953"
            ],
            [
             0.7777777777777778,
             "#fb9f3a"
            ],
            [
             0.8888888888888888,
             "#fdca26"
            ],
            [
             1,
             "#f0f921"
            ]
           ],
           "sequentialminus": [
            [
             0,
             "#0d0887"
            ],
            [
             0.1111111111111111,
             "#46039f"
            ],
            [
             0.2222222222222222,
             "#7201a8"
            ],
            [
             0.3333333333333333,
             "#9c179e"
            ],
            [
             0.4444444444444444,
             "#bd3786"
            ],
            [
             0.5555555555555556,
             "#d8576b"
            ],
            [
             0.6666666666666666,
             "#ed7953"
            ],
            [
             0.7777777777777778,
             "#fb9f3a"
            ],
            [
             0.8888888888888888,
             "#fdca26"
            ],
            [
             1,
             "#f0f921"
            ]
           ]
          },
          "colorway": [
           "#636efa",
           "#EF553B",
           "#00cc96",
           "#ab63fa",
           "#FFA15A",
           "#19d3f3",
           "#FF6692",
           "#B6E880",
           "#FF97FF",
           "#FECB52"
          ],
          "font": {
           "color": "#2a3f5f"
          },
          "geo": {
           "bgcolor": "white",
           "lakecolor": "white",
           "landcolor": "#E5ECF6",
           "showlakes": true,
           "showland": true,
           "subunitcolor": "white"
          },
          "hoverlabel": {
           "align": "left"
          },
          "hovermode": "closest",
          "mapbox": {
           "style": "light"
          },
          "paper_bgcolor": "white",
          "plot_bgcolor": "#E5ECF6",
          "polar": {
           "angularaxis": {
            "gridcolor": "white",
            "linecolor": "white",
            "ticks": ""
           },
           "bgcolor": "#E5ECF6",
           "radialaxis": {
            "gridcolor": "white",
            "linecolor": "white",
            "ticks": ""
           }
          },
          "scene": {
           "xaxis": {
            "backgroundcolor": "#E5ECF6",
            "gridcolor": "white",
            "gridwidth": 2,
            "linecolor": "white",
            "showbackground": true,
            "ticks": "",
            "zerolinecolor": "white"
           },
           "yaxis": {
            "backgroundcolor": "#E5ECF6",
            "gridcolor": "white",
            "gridwidth": 2,
            "linecolor": "white",
            "showbackground": true,
            "ticks": "",
            "zerolinecolor": "white"
           },
           "zaxis": {
            "backgroundcolor": "#E5ECF6",
            "gridcolor": "white",
            "gridwidth": 2,
            "linecolor": "white",
            "showbackground": true,
            "ticks": "",
            "zerolinecolor": "white"
           }
          },
          "shapedefaults": {
           "line": {
            "color": "#2a3f5f"
           }
          },
          "ternary": {
           "aaxis": {
            "gridcolor": "white",
            "linecolor": "white",
            "ticks": ""
           },
           "baxis": {
            "gridcolor": "white",
            "linecolor": "white",
            "ticks": ""
           },
           "bgcolor": "#E5ECF6",
           "caxis": {
            "gridcolor": "white",
            "linecolor": "white",
            "ticks": ""
           }
          },
          "title": {
           "x": 0.05
          },
          "xaxis": {
           "automargin": true,
           "gridcolor": "white",
           "linecolor": "white",
           "ticks": "",
           "title": {
            "standoff": 15
           },
           "zerolinecolor": "white",
           "zerolinewidth": 2
          },
          "yaxis": {
           "automargin": true,
           "gridcolor": "white",
           "linecolor": "white",
           "ticks": "",
           "title": {
            "standoff": 15
           },
           "zerolinecolor": "white",
           "zerolinewidth": 2
          }
         }
        },
        "xaxis": {
         "anchor": "y",
         "domain": [
          0,
          1
         ],
         "title": {
          "text": "PC1"
         }
        },
        "yaxis": {
         "anchor": "x",
         "domain": [
          0,
          1
         ],
         "title": {
          "text": "PC2"
         }
        }
       }
      }
     },
     "metadata": {},
     "output_type": "display_data"
    }
   ],
   "source": [
    "# Import plotly\n",
    "import plotly.express as px\n",
    "\n",
    "# Create scatterplot\n",
    "fig = px.scatter(data_frame=PC, x=\"PC1\", y=\"PC2\")\n",
    "\n",
    "# Show scatterplot\n",
    "fig.show()"
   ]
  },
  {
   "cell_type": "code",
   "execution_count": 11,
   "metadata": {},
   "outputs": [
    {
     "data": {
      "text/plain": [
       "array([0.72962445, 0.22850762])"
      ]
     },
     "execution_count": 11,
     "metadata": {},
     "output_type": "execute_result"
    }
   ],
   "source": [
    "pca.explained_variance_ratio_"
   ]
  },
  {
   "cell_type": "markdown",
   "metadata": {},
   "source": [
    "We can clearly visualize two clusters thanks to PCA! 🎉"
   ]
  },
  {
   "cell_type": "markdown",
   "metadata": {},
   "source": [
    "# What is the link between PCA and SVD? 🤓🤓\n",
    "\n",
    "At this point, you might be feeling that Scikit Learn is a little too much under the hood to understand fully how PCA works. If that's your case, you can read this section.\n",
    "\n",
    "It is completely optional, it is for you to have a better understanding of the concept but you can definitely stick with sklearn.\n",
    "\n",
    "Let's remind what SVD is: A=UΣV⊺\n",
    "\n",
    "It basically says that we can decompose any matrix into 3 matrices containing eigen−vectors and eigen−values of the covariance matrix.\n",
    "\n",
    "Let's take back our X matrix (which is already normalized)."
   ]
  },
  {
   "cell_type": "code",
   "execution_count": 12,
   "metadata": {},
   "outputs": [
    {
     "data": {
      "text/plain": [
       "array([[-0.90068117,  1.01900435, -1.34022653, -1.3154443 ],\n",
       "       [-1.14301691, -0.13197948, -1.34022653, -1.3154443 ],\n",
       "       [-1.38535265,  0.32841405, -1.39706395, -1.3154443 ],\n",
       "       [-1.50652052,  0.09821729, -1.2833891 , -1.3154443 ],\n",
       "       [-1.02184904,  1.24920112, -1.34022653, -1.3154443 ]])"
      ]
     },
     "execution_count": 12,
     "metadata": {},
     "output_type": "execute_result"
    }
   ],
   "source": [
    "X[:5]"
   ]
  },
  {
   "cell_type": "markdown",
   "metadata": {},
   "source": [
    "We can use numpy to get eigen−values and eigen−vectors. We need first to get the covariance matrix."
   ]
  },
  {
   "cell_type": "code",
   "execution_count": 13,
   "metadata": {},
   "outputs": [
    {
     "data": {
      "text/html": [
       "<div>\n",
       "<style scoped>\n",
       "    .dataframe tbody tr th:only-of-type {\n",
       "        vertical-align: middle;\n",
       "    }\n",
       "\n",
       "    .dataframe tbody tr th {\n",
       "        vertical-align: top;\n",
       "    }\n",
       "\n",
       "    .dataframe thead th {\n",
       "        text-align: right;\n",
       "    }\n",
       "</style>\n",
       "<table border=\"1\" class=\"dataframe\">\n",
       "  <thead>\n",
       "    <tr style=\"text-align: right;\">\n",
       "      <th></th>\n",
       "      <th>0</th>\n",
       "      <th>1</th>\n",
       "      <th>2</th>\n",
       "      <th>3</th>\n",
       "    </tr>\n",
       "  </thead>\n",
       "  <tbody>\n",
       "    <tr>\n",
       "      <th>0</th>\n",
       "      <td>150.000000</td>\n",
       "      <td>-17.635468</td>\n",
       "      <td>130.763066</td>\n",
       "      <td>122.691169</td>\n",
       "    </tr>\n",
       "    <tr>\n",
       "      <th>1</th>\n",
       "      <td>-17.635468</td>\n",
       "      <td>150.000000</td>\n",
       "      <td>-64.266016</td>\n",
       "      <td>-54.918890</td>\n",
       "    </tr>\n",
       "    <tr>\n",
       "      <th>2</th>\n",
       "      <td>130.763066</td>\n",
       "      <td>-64.266016</td>\n",
       "      <td>150.000000</td>\n",
       "      <td>144.429815</td>\n",
       "    </tr>\n",
       "    <tr>\n",
       "      <th>3</th>\n",
       "      <td>122.691169</td>\n",
       "      <td>-54.918890</td>\n",
       "      <td>144.429815</td>\n",
       "      <td>150.000000</td>\n",
       "    </tr>\n",
       "  </tbody>\n",
       "</table>\n",
       "</div>"
      ],
      "text/plain": [
       "            0           1           2           3\n",
       "0  150.000000  -17.635468  130.763066  122.691169\n",
       "1  -17.635468  150.000000  -64.266016  -54.918890\n",
       "2  130.763066  -64.266016  150.000000  144.429815\n",
       "3  122.691169  -54.918890  144.429815  150.000000"
      ]
     },
     "execution_count": 13,
     "metadata": {},
     "output_type": "execute_result"
    }
   ],
   "source": [
    "# Import numpy\n",
    "import numpy as np\n",
    "\n",
    "# Calculate covariance matrix by multiplying Xt by X\n",
    "cov_mat = X.T.dot(X)\n",
    "\n",
    "# Let's use Pandas to visualize our covariance matrix better\n",
    "pd.DataFrame(cov_mat)"
   ]
  },
  {
   "cell_type": "markdown",
   "metadata": {},
   "source": [
    "🚨 Here we multiplied X⊺ by X. The reason why is because initally is X is a matrix with vectors in columns whereas we need a matrix with vectors in rows to make SVD work. In any case it boils down to the same output. 🚨\n",
    "\n",
    "Let's now get the eigen−values and eigen−vectors with numpy"
   ]
  },
  {
   "cell_type": "code",
   "execution_count": 14,
   "metadata": {},
   "outputs": [
    {
     "data": {
      "text/plain": [
       "(array([437.77467248, 137.10457072,  22.01353134,   3.10722546]),\n",
       " array([[ 0.52106591, -0.37741762, -0.71956635,  0.26128628],\n",
       "        [-0.26934744, -0.92329566,  0.24438178, -0.12350962],\n",
       "        [ 0.5804131 , -0.02449161,  0.14212637, -0.80144925],\n",
       "        [ 0.56485654, -0.06694199,  0.63427274,  0.52359713]]))"
      ]
     },
     "execution_count": 14,
     "metadata": {},
     "output_type": "execute_result"
    }
   ],
   "source": [
    "# Use .linealg.eig to get eigen values and eigen vectors\n",
    "eig_val, eig_vec = np.linalg.eig(cov_mat)\n",
    "\n",
    "# Visualize both variables\n",
    "eig_val, eig_vec"
   ]
  },
  {
   "cell_type": "markdown",
   "metadata": {},
   "source": [
    "Let's now compare the eig_vec with pca.components."
   ]
  },
  {
   "cell_type": "code",
   "execution_count": 15,
   "metadata": {},
   "outputs": [
    {
     "name": "stdout",
     "output_type": "stream",
     "text": [
      "Eigen Vectors\n",
      "[[ 0.52106591 -0.26934744  0.5804131   0.56485654]\n",
      " [-0.37741762 -0.92329566 -0.02449161 -0.06694199]]\n",
      "\n",
      "Principal components using sklearn\n",
      "[[ 0.52106591 -0.26934744  0.5804131   0.56485654]\n",
      " [ 0.37741762  0.92329566  0.02449161  0.06694199]]\n"
     ]
    }
   ],
   "source": [
    "# Let's transpose Eigen Vectors and print out the first two rows\n",
    "print(\"Eigen Vectors\")\n",
    "print(eig_vec.T[:2, :])\n",
    "\n",
    "# Add simple space\n",
    "print()\n",
    "\n",
    "# Print out pca components_\n",
    "print(\"Principal components using sklearn\")\n",
    "print(pca.components_)"
   ]
  },
  {
   "cell_type": "markdown",
   "metadata": {},
   "source": [
    "As you can see both are exactly the same!\n",
    "\n",
    "You might say that signs are not exactly equals, well actually signs are symetric so it comes down to the same thing in vector terms.\n",
    "\n",
    "Let's now multiply eig_vec by X and see what we get!"
   ]
  },
  {
   "cell_type": "code",
   "execution_count": 16,
   "metadata": {},
   "outputs": [
    {
     "data": {
      "text/plain": [
       "array([[-2.26470281, -0.4800266 , -0.12770602,  0.0241682 ],\n",
       "       [-2.08096115,  0.67413356, -0.23460885,  0.10300677],\n",
       "       [-2.36422905,  0.34190802,  0.04420148,  0.02837705],\n",
       "       [-2.29938422,  0.59739451,  0.09129011, -0.06595556],\n",
       "       [-2.38984217, -0.64683538,  0.0157382 , -0.03592281]])"
      ]
     },
     "execution_count": 16,
     "metadata": {},
     "output_type": "execute_result"
    }
   ],
   "source": [
    "X.dot(eig_vec)[:5]"
   ]
  },
  {
   "cell_type": "code",
   "execution_count": 17,
   "metadata": {},
   "outputs": [
    {
     "data": {
      "text/plain": [
       "array([[-2.26470281, -0.4800266 , -0.12770602,  0.0241682 ],\n",
       "       [-2.08096115,  0.67413356, -0.23460885,  0.10300677],\n",
       "       [-2.36422905,  0.34190802,  0.04420148,  0.02837705],\n",
       "       [-2.29938422,  0.59739451,  0.09129011, -0.06595556],\n",
       "       [-2.38984217, -0.64683538,  0.0157382 , -0.03592281]])"
      ]
     },
     "execution_count": 17,
     "metadata": {},
     "output_type": "execute_result"
    }
   ],
   "source": [
    "# Multiply X by eigen vectors\n",
    "X_eig_vec = X.dot(eig_vec)\n",
    "X_eig_vec[:5]"
   ]
  },
  {
   "cell_type": "code",
   "execution_count": 18,
   "metadata": {},
   "outputs": [
    {
     "data": {
      "text/html": [
       "<div>\n",
       "<style scoped>\n",
       "    .dataframe tbody tr th:only-of-type {\n",
       "        vertical-align: middle;\n",
       "    }\n",
       "\n",
       "    .dataframe tbody tr th {\n",
       "        vertical-align: top;\n",
       "    }\n",
       "\n",
       "    .dataframe thead th {\n",
       "        text-align: right;\n",
       "    }\n",
       "</style>\n",
       "<table border=\"1\" class=\"dataframe\">\n",
       "  <thead>\n",
       "    <tr style=\"text-align: right;\">\n",
       "      <th></th>\n",
       "      <th>PC1</th>\n",
       "      <th>PC2</th>\n",
       "    </tr>\n",
       "  </thead>\n",
       "  <tbody>\n",
       "    <tr>\n",
       "      <th>0</th>\n",
       "      <td>-2.264703</td>\n",
       "      <td>0.480027</td>\n",
       "    </tr>\n",
       "    <tr>\n",
       "      <th>1</th>\n",
       "      <td>-2.080961</td>\n",
       "      <td>-0.674134</td>\n",
       "    </tr>\n",
       "    <tr>\n",
       "      <th>2</th>\n",
       "      <td>-2.364229</td>\n",
       "      <td>-0.341908</td>\n",
       "    </tr>\n",
       "    <tr>\n",
       "      <th>3</th>\n",
       "      <td>-2.299384</td>\n",
       "      <td>-0.597395</td>\n",
       "    </tr>\n",
       "    <tr>\n",
       "      <th>4</th>\n",
       "      <td>-2.389842</td>\n",
       "      <td>0.646835</td>\n",
       "    </tr>\n",
       "  </tbody>\n",
       "</table>\n",
       "</div>"
      ],
      "text/plain": [
       "        PC1       PC2\n",
       "0 -2.264703  0.480027\n",
       "1 -2.080961 -0.674134\n",
       "2 -2.364229 -0.341908\n",
       "3 -2.299384 -0.597395\n",
       "4 -2.389842  0.646835"
      ]
     },
     "execution_count": 18,
     "metadata": {},
     "output_type": "execute_result"
    }
   ],
   "source": [
    "# Visualize PC\n",
    "PC[:5]"
   ]
  },
  {
   "cell_type": "markdown",
   "metadata": {},
   "source": [
    "As you can see they are both the same! Now why do we have only 2 PCs? Well let's simply get the covariance matrix of X_eig_vec"
   ]
  },
  {
   "cell_type": "code",
   "execution_count": 19,
   "metadata": {},
   "outputs": [
    {
     "data": {
      "text/html": [
       "<div>\n",
       "<style scoped>\n",
       "    .dataframe tbody tr th:only-of-type {\n",
       "        vertical-align: middle;\n",
       "    }\n",
       "\n",
       "    .dataframe tbody tr th {\n",
       "        vertical-align: top;\n",
       "    }\n",
       "\n",
       "    .dataframe thead th {\n",
       "        text-align: right;\n",
       "    }\n",
       "</style>\n",
       "<table border=\"1\" class=\"dataframe\">\n",
       "  <thead>\n",
       "    <tr style=\"text-align: right;\">\n",
       "      <th></th>\n",
       "      <th>0</th>\n",
       "      <th>1</th>\n",
       "      <th>2</th>\n",
       "      <th>3</th>\n",
       "    </tr>\n",
       "  </thead>\n",
       "  <tbody>\n",
       "    <tr>\n",
       "      <th>0</th>\n",
       "      <td>2.938085e+00</td>\n",
       "      <td>-5.007180e-16</td>\n",
       "      <td>4.083236e-16</td>\n",
       "      <td>2.652613e-16</td>\n",
       "    </tr>\n",
       "    <tr>\n",
       "      <th>1</th>\n",
       "      <td>-5.007180e-16</td>\n",
       "      <td>9.201649e-01</td>\n",
       "      <td>2.086325e-17</td>\n",
       "      <td>-8.494324e-17</td>\n",
       "    </tr>\n",
       "    <tr>\n",
       "      <th>2</th>\n",
       "      <td>4.083236e-16</td>\n",
       "      <td>2.086325e-17</td>\n",
       "      <td>1.477418e-01</td>\n",
       "      <td>4.396185e-17</td>\n",
       "    </tr>\n",
       "    <tr>\n",
       "      <th>3</th>\n",
       "      <td>2.652613e-16</td>\n",
       "      <td>-8.494324e-17</td>\n",
       "      <td>4.396185e-17</td>\n",
       "      <td>2.085386e-02</td>\n",
       "    </tr>\n",
       "  </tbody>\n",
       "</table>\n",
       "</div>"
      ],
      "text/plain": [
       "              0             1             2             3\n",
       "0  2.938085e+00 -5.007180e-16  4.083236e-16  2.652613e-16\n",
       "1 -5.007180e-16  9.201649e-01  2.086325e-17 -8.494324e-17\n",
       "2  4.083236e-16  2.086325e-17  1.477418e-01  4.396185e-17\n",
       "3  2.652613e-16 -8.494324e-17  4.396185e-17  2.085386e-02"
      ]
     },
     "execution_count": 19,
     "metadata": {},
     "output_type": "execute_result"
    }
   ],
   "source": [
    "# We can use Numpy of multiply by its transpose\n",
    "cov_mat_with_svd = np.cov(X_eig_vec.T) # <-- This is equal to X_eig_vec.T.dot(X_eig_vec)\n",
    "\n",
    "# Transform into pandas for better visualization\n",
    "cov_mat_with_svd = pd.DataFrame(cov_mat_with_svd)\n",
    "cov_mat_with_svd"
   ]
  },
  {
   "cell_type": "markdown",
   "metadata": {},
   "source": [
    "As you can see all the values on the off-diagonals are very close to zero while the values of the diagonals are ordered and positive. Let's actually calculate the explained_variance_ratio"
   ]
  },
  {
   "cell_type": "code",
   "execution_count": 20,
   "metadata": {},
   "outputs": [
    {
     "data": {
      "text/plain": [
       "[np.float64(0.7296244541329988),\n",
       " np.float64(0.22850761786701754),\n",
       " np.float64(0.0366892188928288),\n",
       " np.float64(0.005178709107154798)]"
      ]
     },
     "execution_count": 20,
     "metadata": {},
     "output_type": "execute_result"
    }
   ],
   "source": [
    "# Calculate explained variance for each pcs\n",
    "# Initialize empty list\n",
    "explained_variance = []\n",
    "for i, _ in enumerate(cov_mat_with_svd.columns):\n",
    "    exp_var = cov_mat_with_svd.iloc[i, i] / cov_mat_with_svd.sum().sum()\n",
    "    explained_variance.append(exp_var)\n",
    "\n",
    "explained_variance"
   ]
  },
  {
   "cell_type": "markdown",
   "metadata": {},
   "source": [
    "As you can see PC1 and PC2 are explaining respectively 73% and 23% of the variance. That is why we can keep them both and remove the others! 🙌"
   ]
  },
  {
   "cell_type": "code",
   "execution_count": null,
   "metadata": {},
   "outputs": [],
   "source": []
  }
 ],
 "metadata": {
  "kernelspec": {
   "display_name": ".venv",
   "language": "python",
   "name": "python3"
  },
  "language_info": {
   "codemirror_mode": {
    "name": "ipython",
    "version": 3
   },
   "file_extension": ".py",
   "mimetype": "text/x-python",
   "name": "python",
   "nbconvert_exporter": "python",
   "pygments_lexer": "ipython3",
   "version": "3.12.7"
  }
 },
 "nbformat": 4,
 "nbformat_minor": 2
}
