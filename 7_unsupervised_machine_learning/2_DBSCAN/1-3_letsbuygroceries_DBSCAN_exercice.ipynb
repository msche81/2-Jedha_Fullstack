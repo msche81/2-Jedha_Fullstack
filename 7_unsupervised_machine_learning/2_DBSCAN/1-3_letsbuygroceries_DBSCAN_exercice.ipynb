{
 "cells": [
  {
   "cell_type": "code",
   "execution_count": 58,
   "metadata": {},
   "outputs": [],
   "source": [
    "import pandas as pd\n",
    "import numpy as np\n",
    "\n",
    "import plotly.express as px\n",
    "import plotly.graph_objects as go\n",
    "import plotly.io as pio\n",
    "\n",
    "import matplotlib.pyplot as plt\n",
    "\n",
    "from sklearn.datasets import make_moons, load_digits\n",
    "from sklearn.preprocessing import StandardScaler\n",
    "from sklearn.cluster import DBSCAN, KMeans"
   ]
  },
  {
   "cell_type": "code",
   "execution_count": 59,
   "metadata": {},
   "outputs": [
    {
     "name": "stdout",
     "output_type": "stream",
     "text": [
      "Dataset loaded successfully\n"
     ]
    }
   ],
   "source": [
    "dataset = pd.read_csv(\"src/customers.csv\")\n",
    "print(\"Dataset loaded successfully\")"
   ]
  },
  {
   "cell_type": "code",
   "execution_count": 60,
   "metadata": {},
   "outputs": [
    {
     "name": "stdout",
     "output_type": "stream",
     "text": [
      "Number of rows: 440\n",
      "Number of columns: 8\n",
      "\n",
      "   Channel  Region  Fresh  Milk  Grocery  Frozen  Detergents_Paper  Delicassen\n",
      "0        2       3  12669  9656     7561     214              2674        1338\n",
      "1        2       3   7057  9810     9568    1762              3293        1776\n",
      "2        2       3   6353  8808     7684    2405              3516        7844\n",
      "3        1       3  13265  1196     4221    6404               507        1788\n",
      "4        2       3  22615  5410     7198    3915              1777        5185\n",
      "\n"
     ]
    }
   ],
   "source": [
    "# Basic statistics and dataset overview\n",
    "print(f\"Number of rows: {dataset.shape[0]}\")\n",
    "print(f\"Number of columns: {dataset.shape[1]}\")\n",
    "print()\n",
    "\n",
    "# Display first few rows of the dataset\n",
    "print(dataset.head())\n",
    "print()"
   ]
  },
  {
   "cell_type": "code",
   "execution_count": 61,
   "metadata": {},
   "outputs": [
    {
     "name": "stdout",
     "output_type": "stream",
     "text": [
      "numeric_features:\n",
      "['Channel', 'Region', 'Fresh', 'Milk', 'Grocery', 'Frozen', 'Detergents_Paper', 'Delicassen']\n",
      "\n",
      "categorical_features:\n",
      "[]\n"
     ]
    }
   ],
   "source": [
    "numeric_features = dataset.select_dtypes(include=[\"int64\", \"float64\"]).columns.tolist()\n",
    "categorical_features = dataset.select_dtypes(exclude=[\"int64\", \"float64\"]).columns.tolist()\n",
    "print(\"numeric_features:\")\n",
    "print(numeric_features)\n",
    "print(\"\\ncategorical_features:\")\n",
    "print(categorical_features)"
   ]
  },
  {
   "cell_type": "markdown",
   "metadata": {},
   "source": [
    "Delete dataset's qualitatives variables"
   ]
  },
  {
   "cell_type": "code",
   "execution_count": 62,
   "metadata": {},
   "outputs": [
    {
     "name": "stdout",
     "output_type": "stream",
     "text": [
      "   Fresh  Milk  Grocery  Frozen  Detergents_Paper  Delicassen\n",
      "0  12669  9656     7561     214              2674        1338\n",
      "1   7057  9810     9568    1762              3293        1776\n",
      "2   6353  8808     7684    2405              3516        7844\n",
      "3  13265  1196     4221    6404               507        1788\n",
      "4  22615  5410     7198    3915              1777        5185\n"
     ]
    }
   ],
   "source": [
    "dataset.drop([\"Channel\", \"Region\"], axis = 1, inplace = True)\n",
    "\n",
    "print(dataset.head())"
   ]
  },
  {
   "cell_type": "markdown",
   "metadata": {},
   "source": [
    "Keep only Grocery and Milk columns"
   ]
  },
  {
   "cell_type": "code",
   "execution_count": 63,
   "metadata": {},
   "outputs": [
    {
     "name": "stdout",
     "output_type": "stream",
     "text": [
      "   Grocery  Milk\n",
      "0     7561  9656\n",
      "1     9568  9810\n",
      "2     7684  8808\n",
      "3     4221  1196\n",
      "4     7198  5410\n"
     ]
    }
   ],
   "source": [
    "dataset_cleaned = dataset[[\"Grocery\", \"Milk\"]]\n",
    "print(dataset_cleaned.head())"
   ]
  },
  {
   "cell_type": "markdown",
   "metadata": {},
   "source": [
    "Visualise datas via scatter plot"
   ]
  },
  {
   "cell_type": "code",
   "execution_count": 64,
   "metadata": {},
   "outputs": [
    {
     "data": {
      "image/png": "[encoded data removed]",
      "text/plain": [
       "<Figure size 640x480 with 1 Axes>"
      ]
     },
     "metadata": {},
     "output_type": "display_data"
    }
   ],
   "source": [
    "X = dataset_cleaned[\"Grocery\"]\n",
    "Y = dataset_cleaned[\"Milk\"]\n",
    "\n",
    "plt.scatter(X, Y)\n",
    "\n",
    "plt.show()"
   ]
  },
  {
   "cell_type": "code",
   "execution_count": 65,
   "metadata": {},
   "outputs": [
    {
     "data": {
      "application/vnd.plotly.v1+json": {
       "config": {
        "plotlyServerURL": "https://plot.ly"
       },
       "data": [
        {
         "hovertemplate": "Dépenses en épicerie=%{x}<br>Dépenses en lait=%{y}<extra></extra>",
         "legendgroup": "",
         "marker": {
          "color": "#636efa",
          "symbol": "circle"
         },
         "mode": "markers",
         "name": "",
         "orientation": "v",
         "showlegend": false,
         "type": "scatter",
         "x": [
          7561,
          9568,
          7684,
          4221,
          7198,
          5126,
          6975,
          9426,
          6192,
          18881,
          12974,
          4523,
          11757,
          14982,
          12091,
          3821,
          12121,
          2933,
          10099,
          9464,
          4602,
          2010,
          4469,
          22019,
          13792,
          7595,
          2861,
          3045,
          25957,
          2609,
          11107,
          3133,
          2886,
          7326,
          2262,
          11091,
          5428,
          12477,
          16709,
          902,
          4757,
          5956,
          14961,
          23998,
          10471,
          21531,
          21955,
          55571,
          10868,
          28921,
          1980,
          6996,
          5876,
          11532,
          1947,
          5005,
          26866,
          10487,
          1648,
          8040,
          7854,
          59598,
          6544,
          15775,
          3250,
          45828,
          7417,
          13462,
          3993,
          1293,
          3202,
          21042,
          2661,
          8713,
          9794,
          3,
          6532,
          28540,
          2067,
          3655,
          3009,
          14403,
          11009,
          1783,
          4814,
          92780,
          32114,
          8117,
          4042,
          5330,
          1638,
          2530,
          32034,
          2062,
          11323,
          6252,
          8118,
          610,
          778,
          1909,
          12144,
          16267,
          7677,
          8906,
          3445,
          3970,
          10704,
          14886,
          6981,
          28986,
          1694,
          17569,
          2469,
          1733,
          2000,
          2988,
          3355,
          5380,
          2362,
          2147,
          3412,
          1498,
          245,
          8814,
          2961,
          7102,
          1658,
          10685,
          3823,
          1510,
          699,
          314,
          2479,
          1235,
          2174,
          2591,
          7030,
          8282,
          5034,
          3343,
          7305,
          5189,
          8253,
          1096,
          1988,
          34792,
          2177,
          2707,
          542,
          1651,
          1765,
          2022,
          3135,
          2368,
          137,
          19460,
          14855,
          2474,
          9618,
          14682,
          12822,
          283,
          3810,
          26870,
          8584,
          19858,
          9170,
          3268,
          803,
          2155,
          13430,
          19816,
          6536,
          19805,
          5241,
          11874,
          6536,
          4533,
          4945,
          2500,
          8887,
          18148,
          10518,
          20170,
          4710,
          1139,
          854,
          9819,
          11687,
          11522,
          1981,
          1381,
          2251,
          20292,
          2974,
          5230,
          4897,
          10391,
          6824,
          2112,
          23127,
          24708,
          9490,
          2216,
          5226,
          23596,
          950,
          6089,
          5838,
          16767,
          1393,
          39694,
          2062,
          6861,
          11364,
          15538,
          36486,
          2046,
          15205,
          1390,
          1382,
          10646,
          2856,
          5265,
          1499,
          4157,
          9212,
          1563,
          572,
          2501,
          5615,
          3828,
          3838,
          3316,
          3833,
          2824,
          3047,
          593,
          585,
          3779,
          7041,
          2475,
          2914,
          5119,
          10817,
          13916,
          1777,
          489,
          2406,
          2070,
          1799,
          33586,
          4740,
          16966,
          4748,
          1495,
          5249,
          1883,
          2124,
          7336,
          2157,
          1094,
          1677,
          6684,
          15445,
          13699,
          22182,
          2576,
          19847,
          1138,
          975,
          1563,
          6869,
          1493,
          1841,
          223,
          6964,
          683,
          2543,
          9694,
          2431,
          6235,
          4252,
          2013,
          12609,
          3600,
          1242,
          2828,
          1296,
          471,
          2642,
          3261,
          4329,
          12469,
          6550,
          5234,
          3643,
          6986,
          9965,
          2060,
          6360,
          20399,
          9785,
          13829,
          24773,
          8852,
          21570,
          2842,
          3007,
          13567,
          2405,
          8280,
          19172,
          2405,
          7647,
          11924,
          2201,
          6114,
          3558,
          17645,
          2280,
          5167,
          3315,
          11593,
          2464,
          13626,
          1431,
          1664,
          3389,
          4583,
          5109,
          26839,
          1447,
          67298,
          2743,
          10790,
          1330,
          2611,
          7021,
          5332,
          9670,
          11238,
          5923,
          26316,
          1763,
          8335,
          15541,
          12311,
          2028,
          20521,
          1997,
          22294,
          1533,
          21203,
          2548,
          2012,
          218,
          22272,
          1660,
          2109,
          2006,
          864,
          2453,
          4438,
          1524,
          8025,
          1664,
          534,
          2406,
          683,
          4955,
          1939,
          1641,
          7398,
          1668,
          1162,
          13586,
          2648,
          1902,
          10391,
          2146,
          1617,
          8469,
          3450,
          15400,
          1614,
          2857,
          1573,
          1172,
          1422,
          1328,
          2313,
          3600,
          3842,
          3204,
          1263,
          9345,
          1428,
          582,
          935,
          1238,
          2128,
          5091,
          4604,
          3444,
          1167,
          5026,
          18683,
          6407,
          6100,
          4563,
          3281,
          12400,
          6633,
          3417,
          8552,
          10908,
          11055,
          18622,
          2223,
          13227,
          9053,
          4172,
          4657,
          12232,
          2593,
          14316,
          5429,
          4910,
          3580,
          16483,
          5160,
          4754,
          1493,
          7994,
          16027,
          764,
          30243,
          2232,
          2510
         ],
         "xaxis": "x",
         "y": [
          9656,
          9810,
          8808,
          1196,
          5410,
          8259,
          3199,
          4956,
          3648,
          11093,
          5403,
          1124,
          12319,
          6208,
          9465,
          1114,
          8816,
          6157,
          6327,
          2495,
          4519,
          871,
          1917,
          36423,
          9776,
          4230,
          961,
          803,
          20484,
          2100,
          3610,
          4339,
          1318,
          4786,
          1979,
          5491,
          4362,
          10556,
          15729,
          555,
          4332,
          3065,
          7555,
          11095,
          7027,
          22044,
          14069,
          54259,
          6152,
          21412,
          1095,
          4051,
          3916,
          10473,
          1449,
          3683,
          29892,
          9933,
          1970,
          5360,
          3045,
          38369,
          6245,
          11601,
          1227,
          20959,
          1534,
          6759,
          7260,
          2820,
          2037,
          1266,
          5139,
          5332,
          6343,
          1137,
          3587,
          12697,
          1175,
          3259,
          829,
          9540,
          9232,
          1563,
          3327,
          46197,
          73498,
          5025,
          542,
          3836,
          596,
          2762,
          27472,
          3090,
          12220,
          2920,
          2616,
          254,
          112,
          2182,
          7779,
          10810,
          6459,
          3504,
          2132,
          1014,
          6337,
          10646,
          8397,
          16729,
          1648,
          11114,
          2770,
          2295,
          1080,
          793,
          2521,
          3880,
          1891,
          2344,
          1200,
          3234,
          201,
          10769,
          1642,
          3473,
          1840,
          7243,
          8847,
          926,
          2428,
          589,
          2032,
          1042,
          1882,
          1289,
          8579,
          8080,
          4257,
          4979,
          4280,
          13252,
          7152,
          1596,
          3677,
          8384,
          1936,
          3373,
          584,
          1433,
          1825,
          3328,
          1371,
          9250,
          55,
          10690,
          5291,
          1366,
          6570,
          7704,
          3651,
          540,
          2024,
          15726,
          7603,
          12653,
          6721,
          3195,
          735,
          717,
          8675,
          25862,
          5479,
          7677,
          1208,
          7845,
          6958,
          7330,
          7075,
          4888,
          6036,
          29627,
          8533,
          43950,
          918,
          6448,
          521,
          8002,
          7639,
          11577,
          6250,
          295,
          1461,
          3485,
          1012,
          5139,
          7209,
          7097,
          2154,
          2280,
          13240,
          14399,
          11487,
          685,
          891,
          11711,
          780,
          4737,
          3748,
          12729,
          1895,
          28326,
          1012,
          6602,
          6551,
          10765,
          16599,
          1475,
          7504,
          367,
          899,
          7503,
          1115,
          2527,
          659,
          3243,
          5921,
          2204,
          577,
          2746,
          5989,
          10678,
          1780,
          4984,
          2703,
          6380,
          820,
          3838,
          475,
          2567,
          3575,
          1801,
          659,
          3576,
          7775,
          6154,
          2428,
          346,
          5279,
          3795,
          1993,
          23133,
          1860,
          7961,
          17972,
          489,
          5008,
          1931,
          4563,
          4959,
          4885,
          1110,
          1372,
          1115,
          9679,
          23527,
          9763,
          1222,
          8053,
          258,
          1032,
          5007,
          8323,
          3045,
          1703,
          1610,
          3749,
          829,
          2317,
          6200,
          2884,
          7108,
          3965,
          3613,
          4411,
          640,
          2247,
          2102,
          594,
          286,
          2160,
          3354,
          3086,
          11103,
          2013,
          1897,
          1304,
          3199,
          4560,
          879,
          6243,
          13316,
          5302,
          3688,
          7460,
          12939,
          12867,
          2374,
          1020,
          20655,
          1492,
          2335,
          3737,
          925,
          1795,
          14982,
          1375,
          3088,
          2713,
          25071,
          3696,
          1897,
          713,
          944,
          3587,
          16784,
          1610,
          899,
          2209,
          1486,
          1786,
          14881,
          3216,
          4980,
          928,
          6817,
          1511,
          1347,
          333,
          1188,
          4025,
          5763,
          5758,
          6964,
          1172,
          2602,
          6939,
          7184,
          2380,
          14641,
          1099,
          10044,
          1106,
          6264,
          7393,
          727,
          134,
          1275,
          18664,
          5878,
          2872,
          607,
          1601,
          997,
          873,
          6128,
          2217,
          894,
          1196,
          337,
          3944,
          1887,
          3801,
          6257,
          2256,
          1450,
          8630,
          3154,
          3294,
          5164,
          944,
          4591,
          7435,
          1364,
          21858,
          922,
          3620,
          1916,
          848,
          1530,
          1181,
          2761,
          4180,
          6730,
          865,
          1316,
          11991,
          1666,
          1032,
          577,
          906,
          2801,
          4753,
          11006,
          4613,
          1046,
          5010,
          12844,
          3880,
          3634,
          2096,
          3289,
          3605,
          4859,
          1990,
          6046,
          10940,
          5499,
          8494,
          3783,
          5266,
          4847,
          1377,
          3686,
          2884,
          2408,
          9347,
          16687,
          5970,
          1750,
          4230,
          5506,
          1162,
          3218,
          3922,
          12051,
          1431,
          15488,
          1981,
          1698
         ],
         "yaxis": "y"
        }
       ],
       "layout": {
        "legend": {
         "tracegroupgap": 0
        },
        "template": {
         "data": {
          "bar": [
           {
            "error_x": {
             "color": "#2a3f5f"
            },
            "error_y": {
             "color": "#2a3f5f"
            },
            "marker": {
             "line": {
              "color": "white",
              "width": 0.5
             },
             "pattern": {
              "fillmode": "overlay",
              "size": 10,
              "solidity": 0.2
             }
            },
            "type": "bar"
           }
          ],
          "barpolar": [
           {
            "marker": {
             "line": {
              "color": "white",
              "width": 0.5
             },
             "pattern": {
              "fillmode": "overlay",
              "size": 10,
              "solidity": 0.2
             }
            },
            "type": "barpolar"
           }
          ],
          "carpet": [
           {
            "aaxis": {
             "endlinecolor": "#2a3f5f",
             "gridcolor": "#C8D4E3",
             "linecolor": "#C8D4E3",
             "minorgridcolor": "#C8D4E3",
             "startlinecolor": "#2a3f5f"
            },
            "baxis": {
             "endlinecolor": "#2a3f5f",
             "gridcolor": "#C8D4E3",
             "linecolor": "#C8D4E3",
             "minorgridcolor": "#C8D4E3",
             "startlinecolor": "#2a3f5f"
            },
            "type": "carpet"
           }
          ],
          "choropleth": [
           {
            "colorbar": {
             "outlinewidth": 0,
             "ticks": ""
            },
            "type": "choropleth"
           }
          ],
          "contour": [
           {
            "colorbar": {
             "outlinewidth": 0,
             "ticks": ""
            },
            "colorscale": [
             [
              0,
              "#0d0887"
             ],
             [
              0.1111111111111111,
              "#46039f"
             ],
             [
              0.2222222222222222,
              "#7201a8"
             ],
             [
              0.3333333333333333,
              "#9c179e"
             ],
             [
              0.4444444444444444,
              "#bd3786"
             ],
             [
              0.5555555555555556,
              "#d8576b"
             ],
             [
              0.6666666666666666,
              "#ed7953"
             ],
             [
              0.7777777777777778,
              "#fb9f3a"
             ],
             [
              0.8888888888888888,
              "#fdca26"
             ],
             [
              1,
              "#f0f921"
             ]
            ],
            "type": "contour"
           }
          ],
          "contourcarpet": [
           {
            "colorbar": {
             "outlinewidth": 0,
             "ticks": ""
            },
            "type": "contourcarpet"
           }
          ],
          "heatmap": [
           {
            "colorbar": {
             "outlinewidth": 0,
             "ticks": ""
            },
            "colorscale": [
             [
              0,
              "#0d0887"
             ],
             [
              0.1111111111111111,
              "#46039f"
             ],
             [
              0.2222222222222222,
              "#7201a8"
             ],
             [
              0.3333333333333333,
              "#9c179e"
             ],
             [
              0.4444444444444444,
              "#bd3786"
             ],
             [
              0.5555555555555556,
              "#d8576b"
             ],
             [
              0.6666666666666666,
              "#ed7953"
             ],
             [
              0.7777777777777778,
              "#fb9f3a"
             ],
             [
              0.8888888888888888,
              "#fdca26"
             ],
             [
              1,
              "#f0f921"
             ]
            ],
            "type": "heatmap"
           }
          ],
          "heatmapgl": [
           {
            "colorbar": {
             "outlinewidth": 0,
             "ticks": ""
            },
            "colorscale": [
             [
              0,
              "#0d0887"
             ],
             [
              0.1111111111111111,
              "#46039f"
             ],
             [
              0.2222222222222222,
              "#7201a8"
             ],
             [
              0.3333333333333333,
              "#9c179e"
             ],
             [
              0.4444444444444444,
              "#bd3786"
             ],
             [
              0.5555555555555556,
              "#d8576b"
             ],
             [
              0.6666666666666666,
              "#ed7953"
             ],
             [
              0.7777777777777778,
              "#fb9f3a"
             ],
             [
              0.8888888888888888,
              "#fdca26"
             ],
             [
              1,
              "#f0f921"
             ]
            ],
            "type": "heatmapgl"
           }
          ],
          "histogram": [
           {
            "marker": {
             "pattern": {
              "fillmode": "overlay",
              "size": 10,
              "solidity": 0.2
             }
            },
            "type": "histogram"
           }
          ],
          "histogram2d": [
           {
            "colorbar": {
             "outlinewidth": 0,
             "ticks": ""
            },
            "colorscale": [
             [
              0,
              "#0d0887"
             ],
             [
              0.1111111111111111,
              "#46039f"
             ],
             [
              0.2222222222222222,
              "#7201a8"
             ],
             [
              0.3333333333333333,
              "#9c179e"
             ],
             [
              0.4444444444444444,
              "#bd3786"
             ],
             [
              0.5555555555555556,
              "#d8576b"
             ],
             [
              0.6666666666666666,
              "#ed7953"
             ],
             [
              0.7777777777777778,
              "#fb9f3a"
             ],
             [
              0.8888888888888888,
              "#fdca26"
             ],
             [
              1,
              "#f0f921"
             ]
            ],
            "type": "histogram2d"
           }
          ],
          "histogram2dcontour": [
           {
            "colorbar": {
             "outlinewidth": 0,
             "ticks": ""
            },
            "colorscale": [
             [
              0,
              "#0d0887"
             ],
             [
              0.1111111111111111,
              "#46039f"
             ],
             [
              0.2222222222222222,
              "#7201a8"
             ],
             [
              0.3333333333333333,
              "#9c179e"
             ],
             [
              0.4444444444444444,
              "#bd3786"
             ],
             [
              0.5555555555555556,
              "#d8576b"
             ],
             [
              0.6666666666666666,
              "#ed7953"
             ],
             [
              0.7777777777777778,
              "#fb9f3a"
             ],
             [
              0.8888888888888888,
              "#fdca26"
             ],
             [
              1,
              "#f0f921"
             ]
            ],
            "type": "histogram2dcontour"
           }
          ],
          "mesh3d": [
           {
            "colorbar": {
             "outlinewidth": 0,
             "ticks": ""
            },
            "type": "mesh3d"
           }
          ],
          "parcoords": [
           {
            "line": {
             "colorbar": {
              "outlinewidth": 0,
              "ticks": ""
             }
            },
            "type": "parcoords"
           }
          ],
          "pie": [
           {
            "automargin": true,
            "type": "pie"
           }
          ],
          "scatter": [
           {
            "fillpattern": {
             "fillmode": "overlay",
             "size": 10,
             "solidity": 0.2
            },
            "type": "scatter"
           }
          ],
          "scatter3d": [
           {
            "line": {
             "colorbar": {
              "outlinewidth": 0,
              "ticks": ""
             }
            },
            "marker": {
             "colorbar": {
              "outlinewidth": 0,
              "ticks": ""
             }
            },
            "type": "scatter3d"
           }
          ],
          "scattercarpet": [
           {
            "marker": {
             "colorbar": {
              "outlinewidth": 0,
              "ticks": ""
             }
            },
            "type": "scattercarpet"
           }
          ],
          "scattergeo": [
           {
            "marker": {
             "colorbar": {
              "outlinewidth": 0,
              "ticks": ""
             }
            },
            "type": "scattergeo"
           }
          ],
          "scattergl": [
           {
            "marker": {
             "colorbar": {
              "outlinewidth": 0,
              "ticks": ""
             }
            },
            "type": "scattergl"
           }
          ],
          "scattermapbox": [
           {
            "marker": {
             "colorbar": {
              "outlinewidth": 0,
              "ticks": ""
             }
            },
            "type": "scattermapbox"
           }
          ],
          "scatterpolar": [
           {
            "marker": {
             "colorbar": {
              "outlinewidth": 0,
              "ticks": ""
             }
            },
            "type": "scatterpolar"
           }
          ],
          "scatterpolargl": [
           {
            "marker": {
             "colorbar": {
              "outlinewidth": 0,
              "ticks": ""
             }
            },
            "type": "scatterpolargl"
           }
          ],
          "scatterternary": [
           {
            "marker": {
             "colorbar": {
              "outlinewidth": 0,
              "ticks": ""
             }
            },
            "type": "scatterternary"
           }
          ],
          "surface": [
           {
            "colorbar": {
             "outlinewidth": 0,
             "ticks": ""
            },
            "colorscale": [
             [
              0,
              "#0d0887"
             ],
             [
              0.1111111111111111,
              "#46039f"
             ],
             [
              0.2222222222222222,
              "#7201a8"
             ],
             [
              0.3333333333333333,
              "#9c179e"
             ],
             [
              0.4444444444444444,
              "#bd3786"
             ],
             [
              0.5555555555555556,
              "#d8576b"
             ],
             [
              0.6666666666666666,
              "#ed7953"
             ],
             [
              0.7777777777777778,
              "#fb9f3a"
             ],
             [
              0.8888888888888888,
              "#fdca26"
             ],
             [
              1,
              "#f0f921"
             ]
            ],
            "type": "surface"
           }
          ],
          "table": [
           {
            "cells": {
             "fill": {
              "color": "#EBF0F8"
             },
             "line": {
              "color": "white"
             }
            },
            "header": {
             "fill": {
              "color": "#C8D4E3"
             },
             "line": {
              "color": "white"
             }
            },
            "type": "table"
           }
          ]
         },
         "layout": {
          "annotationdefaults": {
           "arrowcolor": "#2a3f5f",
           "arrowhead": 0,
           "arrowwidth": 1
          },
          "autotypenumbers": "strict",
          "coloraxis": {
           "colorbar": {
            "outlinewidth": 0,
            "ticks": ""
           }
          },
          "colorscale": {
           "diverging": [
            [
             0,
             "#8e0152"
            ],
            [
             0.1,
             "#c51b7d"
            ],
            [
             0.2,
             "#de77ae"
            ],
            [
             0.3,
             "#f1b6da"
            ],
            [
             0.4,
             "#fde0ef"
            ],
            [
             0.5,
             "#f7f7f7"
            ],
            [
             0.6,
             "#e6f5d0"
            ],
            [
             0.7,
             "#b8e186"
            ],
            [
             0.8,
             "#7fbc41"
            ],
            [
             0.9,
             "#4d9221"
            ],
            [
             1,
             "#276419"
            ]
           ],
           "sequential": [
            [
             0,
             "#0d0887"
            ],
            [
             0.1111111111111111,
             "#46039f"
            ],
            [
             0.2222222222222222,
             "#7201a8"
            ],
            [
             0.3333333333333333,
             "#9c179e"
            ],
            [
             0.4444444444444444,
             "#bd3786"
            ],
            [
             0.5555555555555556,
             "#d8576b"
            ],
            [
             0.6666666666666666,
             "#ed7953"
            ],
            [
             0.7777777777777778,
             "#fb9f3a"
            ],
            [
             0.8888888888888888,
             "#fdca26"
            ],
            [
             1,
             "#f0f921"
            ]
           ],
           "sequentialminus": [
            [
             0,
             "#0d0887"
            ],
            [
             0.1111111111111111,
             "#46039f"
            ],
            [
             0.2222222222222222,
             "#7201a8"
            ],
            [
             0.3333333333333333,
             "#9c179e"
            ],
            [
             0.4444444444444444,
             "#bd3786"
            ],
            [
             0.5555555555555556,
             "#d8576b"
            ],
            [
             0.6666666666666666,
             "#ed7953"
            ],
            [
             0.7777777777777778,
             "#fb9f3a"
            ],
            [
             0.8888888888888888,
             "#fdca26"
            ],
            [
             1,
             "#f0f921"
            ]
           ]
          },
          "colorway": [
           "#636efa",
           "#EF553B",
           "#00cc96",
           "#ab63fa",
           "#FFA15A",
           "#19d3f3",
           "#FF6692",
           "#B6E880",
           "#FF97FF",
           "#FECB52"
          ],
          "font": {
           "color": "#2a3f5f"
          },
          "geo": {
           "bgcolor": "white",
           "lakecolor": "white",
           "landcolor": "white",
           "showlakes": true,
           "showland": true,
           "subunitcolor": "#C8D4E3"
          },
          "hoverlabel": {
           "align": "left"
          },
          "hovermode": "closest",
          "mapbox": {
           "style": "light"
          },
          "paper_bgcolor": "white",
          "plot_bgcolor": "white",
          "polar": {
           "angularaxis": {
            "gridcolor": "#EBF0F8",
            "linecolor": "#EBF0F8",
            "ticks": ""
           },
           "bgcolor": "white",
           "radialaxis": {
            "gridcolor": "#EBF0F8",
            "linecolor": "#EBF0F8",
            "ticks": ""
           }
          },
          "scene": {
           "xaxis": {
            "backgroundcolor": "white",
            "gridcolor": "#DFE8F3",
            "gridwidth": 2,
            "linecolor": "#EBF0F8",
            "showbackground": true,
            "ticks": "",
            "zerolinecolor": "#EBF0F8"
           },
           "yaxis": {
            "backgroundcolor": "white",
            "gridcolor": "#DFE8F3",
            "gridwidth": 2,
            "linecolor": "#EBF0F8",
            "showbackground": true,
            "ticks": "",
            "zerolinecolor": "#EBF0F8"
           },
           "zaxis": {
            "backgroundcolor": "white",
            "gridcolor": "#DFE8F3",
            "gridwidth": 2,
            "linecolor": "#EBF0F8",
            "showbackground": true,
            "ticks": "",
            "zerolinecolor": "#EBF0F8"
           }
          },
          "shapedefaults": {
           "line": {
            "color": "#2a3f5f"
           }
          },
          "ternary": {
           "aaxis": {
            "gridcolor": "#DFE8F3",
            "linecolor": "#A2B1C6",
            "ticks": ""
           },
           "baxis": {
            "gridcolor": "#DFE8F3",
            "linecolor": "#A2B1C6",
            "ticks": ""
           },
           "bgcolor": "white",
           "caxis": {
            "gridcolor": "#DFE8F3",
            "linecolor": "#A2B1C6",
            "ticks": ""
           }
          },
          "title": {
           "x": 0.05
          },
          "xaxis": {
           "automargin": true,
           "gridcolor": "#EBF0F8",
           "linecolor": "#EBF0F8",
           "ticks": "",
           "title": {
            "standoff": 15
           },
           "zerolinecolor": "#EBF0F8",
           "zerolinewidth": 2
          },
          "yaxis": {
           "automargin": true,
           "gridcolor": "#EBF0F8",
           "linecolor": "#EBF0F8",
           "ticks": "",
           "title": {
            "standoff": 15
           },
           "zerolinecolor": "#EBF0F8",
           "zerolinewidth": 2
          }
         }
        },
        "title": {
         "text": "Relation entre Grocery et Milk"
        },
        "xaxis": {
         "anchor": "y",
         "domain": [
          0,
          1
         ],
         "title": {
          "text": "Dépenses en épicerie"
         }
        },
        "yaxis": {
         "anchor": "x",
         "domain": [
          0,
          1
         ],
         "title": {
          "text": "Dépenses en lait"
         }
        }
       }
      }
     },
     "metadata": {},
     "output_type": "display_data"
    }
   ],
   "source": [
    "# Création du graphique de dispersion\n",
    "fig = px.scatter(\n",
    "    dataset_cleaned,\n",
    "    x='Grocery',\n",
    "    y='Milk',\n",
    "    title=\"Relation entre Grocery et Milk\",\n",
    "    labels={'Grocery': 'Dépenses en épicerie', 'Milk': 'Dépenses en lait'},\n",
    "    template=\"plotly_white\"\n",
    ")\n",
    "\n",
    "# Affichage du graphique\n",
    "fig.show()"
   ]
  },
  {
   "cell_type": "code",
   "execution_count": 66,
   "metadata": {},
   "outputs": [
    {
     "data": {
      "application/vnd.plotly.v1+json": {
       "config": {
        "plotlyServerURL": "https://plot.ly"
       },
       "data": [
        {
         "hovertemplate": "Grocery=%{x}<br>Milk=%{y}<extra></extra>",
         "legendgroup": "",
         "marker": {
          "color": "#636efa",
          "symbol": "circle"
         },
         "mode": "markers",
         "name": "",
         "orientation": "v",
         "showlegend": false,
         "type": "scatter",
         "x": [
          7561,
          9568,
          7684,
          4221,
          7198,
          5126,
          6975,
          9426,
          6192,
          18881,
          12974,
          4523,
          11757,
          14982,
          12091,
          3821,
          12121,
          2933,
          10099,
          9464,
          4602,
          2010,
          4469,
          22019,
          13792,
          7595,
          2861,
          3045,
          25957,
          2609,
          11107,
          3133,
          2886,
          7326,
          2262,
          11091,
          5428,
          12477,
          16709,
          902,
          4757,
          5956,
          14961,
          23998,
          10471,
          21531,
          21955,
          55571,
          10868,
          28921,
          1980,
          6996,
          5876,
          11532,
          1947,
          5005,
          26866,
          10487,
          1648,
          8040,
          7854,
          59598,
          6544,
          15775,
          3250,
          45828,
          7417,
          13462,
          3993,
          1293,
          3202,
          21042,
          2661,
          8713,
          9794,
          3,
          6532,
          28540,
          2067,
          3655,
          3009,
          14403,
          11009,
          1783,
          4814,
          92780,
          32114,
          8117,
          4042,
          5330,
          1638,
          2530,
          32034,
          2062,
          11323,
          6252,
          8118,
          610,
          778,
          1909,
          12144,
          16267,
          7677,
          8906,
          3445,
          3970,
          10704,
          14886,
          6981,
          28986,
          1694,
          17569,
          2469,
          1733,
          2000,
          2988,
          3355,
          5380,
          2362,
          2147,
          3412,
          1498,
          245,
          8814,
          2961,
          7102,
          1658,
          10685,
          3823,
          1510,
          699,
          314,
          2479,
          1235,
          2174,
          2591,
          7030,
          8282,
          5034,
          3343,
          7305,
          5189,
          8253,
          1096,
          1988,
          34792,
          2177,
          2707,
          542,
          1651,
          1765,
          2022,
          3135,
          2368,
          137,
          19460,
          14855,
          2474,
          9618,
          14682,
          12822,
          283,
          3810,
          26870,
          8584,
          19858,
          9170,
          3268,
          803,
          2155,
          13430,
          19816,
          6536,
          19805,
          5241,
          11874,
          6536,
          4533,
          4945,
          2500,
          8887,
          18148,
          10518,
          20170,
          4710,
          1139,
          854,
          9819,
          11687,
          11522,
          1981,
          1381,
          2251,
          20292,
          2974,
          5230,
          4897,
          10391,
          6824,
          2112,
          23127,
          24708,
          9490,
          2216,
          5226,
          23596,
          950,
          6089,
          5838,
          16767,
          1393,
          39694,
          2062,
          6861,
          11364,
          15538,
          36486,
          2046,
          15205,
          1390,
          1382,
          10646,
          2856,
          5265,
          1499,
          4157,
          9212,
          1563,
          572,
          2501,
          5615,
          3828,
          3838,
          3316,
          3833,
          2824,
          3047,
          593,
          585,
          3779,
          7041,
          2475,
          2914,
          5119,
          10817,
          13916,
          1777,
          489,
          2406,
          2070,
          1799,
          33586,
          4740,
          16966,
          4748,
          1495,
          5249,
          1883,
          2124,
          7336,
          2157,
          1094,
          1677,
          6684,
          15445,
          13699,
          22182,
          2576,
          19847,
          1138,
          975,
          1563,
          6869,
          1493,
          1841,
          223,
          6964,
          683,
          2543,
          9694,
          2431,
          6235,
          4252,
          2013,
          12609,
          3600,
          1242,
          2828,
          1296,
          471,
          2642,
          3261,
          4329,
          12469,
          6550,
          5234,
          3643,
          6986,
          9965,
          2060,
          6360,
          20399,
          9785,
          13829,
          24773,
          8852,
          21570,
          2842,
          3007,
          13567,
          2405,
          8280,
          19172,
          2405,
          7647,
          11924,
          2201,
          6114,
          3558,
          17645,
          2280,
          5167,
          3315,
          11593,
          2464,
          13626,
          1431,
          1664,
          3389,
          4583,
          5109,
          26839,
          1447,
          67298,
          2743,
          10790,
          1330,
          2611,
          7021,
          5332,
          9670,
          11238,
          5923,
          26316,
          1763,
          8335,
          15541,
          12311,
          2028,
          20521,
          1997,
          22294,
          1533,
          21203,
          2548,
          2012,
          218,
          22272,
          1660,
          2109,
          2006,
          864,
          2453,
          4438,
          1524,
          8025,
          1664,
          534,
          2406,
          683,
          4955,
          1939,
          1641,
          7398,
          1668,
          1162,
          13586,
          2648,
          1902,
          10391,
          2146,
          1617,
          8469,
          3450,
          15400,
          1614,
          2857,
          1573,
          1172,
          1422,
          1328,
          2313,
          3600,
          3842,
          3204,
          1263,
          9345,
          1428,
          582,
          935,
          1238,
          2128,
          5091,
          4604,
          3444,
          1167,
          5026,
          18683,
          6407,
          6100,
          4563,
          3281,
          12400,
          6633,
          3417,
          8552,
          10908,
          11055,
          18622,
          2223,
          13227,
          9053,
          4172,
          4657,
          12232,
          2593,
          14316,
          5429,
          4910,
          3580,
          16483,
          5160,
          4754,
          1493,
          7994,
          16027,
          764,
          30243,
          2232,
          2510
         ],
         "xaxis": "x",
         "y": [
          9656,
          9810,
          8808,
          1196,
          5410,
          8259,
          3199,
          4956,
          3648,
          11093,
          5403,
          1124,
          12319,
          6208,
          9465,
          1114,
          8816,
          6157,
          6327,
          2495,
          4519,
          871,
          1917,
          36423,
          9776,
          4230,
          961,
          803,
          20484,
          2100,
          3610,
          4339,
          1318,
          4786,
          1979,
          5491,
          4362,
          10556,
          15729,
          555,
          4332,
          3065,
          7555,
          11095,
          7027,
          22044,
          14069,
          54259,
          6152,
          21412,
          1095,
          4051,
          3916,
          10473,
          1449,
          3683,
          29892,
          9933,
          1970,
          5360,
          3045,
          38369,
          6245,
          11601,
          1227,
          20959,
          1534,
          6759,
          7260,
          2820,
          2037,
          1266,
          5139,
          5332,
          6343,
          1137,
          3587,
          12697,
          1175,
          3259,
          829,
          9540,
          9232,
          1563,
          3327,
          46197,
          73498,
          5025,
          542,
          3836,
          596,
          2762,
          27472,
          3090,
          12220,
          2920,
          2616,
          254,
          112,
          2182,
          7779,
          10810,
          6459,
          3504,
          2132,
          1014,
          6337,
          10646,
          8397,
          16729,
          1648,
          11114,
          2770,
          2295,
          1080,
          793,
          2521,
          3880,
          1891,
          2344,
          1200,
          3234,
          201,
          10769,
          1642,
          3473,
          1840,
          7243,
          8847,
          926,
          2428,
          589,
          2032,
          1042,
          1882,
          1289,
          8579,
          8080,
          4257,
          4979,
          4280,
          13252,
          7152,
          1596,
          3677,
          8384,
          1936,
          3373,
          584,
          1433,
          1825,
          3328,
          1371,
          9250,
          55,
          10690,
          5291,
          1366,
          6570,
          7704,
          3651,
          540,
          2024,
          15726,
          7603,
          12653,
          6721,
          3195,
          735,
          717,
          8675,
          25862,
          5479,
          7677,
          1208,
          7845,
          6958,
          7330,
          7075,
          4888,
          6036,
          29627,
          8533,
          43950,
          918,
          6448,
          521,
          8002,
          7639,
          11577,
          6250,
          295,
          1461,
          3485,
          1012,
          5139,
          7209,
          7097,
          2154,
          2280,
          13240,
          14399,
          11487,
          685,
          891,
          11711,
          780,
          4737,
          3748,
          12729,
          1895,
          28326,
          1012,
          6602,
          6551,
          10765,
          16599,
          1475,
          7504,
          367,
          899,
          7503,
          1115,
          2527,
          659,
          3243,
          5921,
          2204,
          577,
          2746,
          5989,
          10678,
          1780,
          4984,
          2703,
          6380,
          820,
          3838,
          475,
          2567,
          3575,
          1801,
          659,
          3576,
          7775,
          6154,
          2428,
          346,
          5279,
          3795,
          1993,
          23133,
          1860,
          7961,
          17972,
          489,
          5008,
          1931,
          4563,
          4959,
          4885,
          1110,
          1372,
          1115,
          9679,
          23527,
          9763,
          1222,
          8053,
          258,
          1032,
          5007,
          8323,
          3045,
          1703,
          1610,
          3749,
          829,
          2317,
          6200,
          2884,
          7108,
          3965,
          3613,
          4411,
          640,
          2247,
          2102,
          594,
          286,
          2160,
          3354,
          3086,
          11103,
          2013,
          1897,
          1304,
          3199,
          4560,
          879,
          6243,
          13316,
          5302,
          3688,
          7460,
          12939,
          12867,
          2374,
          1020,
          20655,
          1492,
          2335,
          3737,
          925,
          1795,
          14982,
          1375,
          3088,
          2713,
          25071,
          3696,
          1897,
          713,
          944,
          3587,
          16784,
          1610,
          899,
          2209,
          1486,
          1786,
          14881,
          3216,
          4980,
          928,
          6817,
          1511,
          1347,
          333,
          1188,
          4025,
          5763,
          5758,
          6964,
          1172,
          2602,
          6939,
          7184,
          2380,
          14641,
          1099,
          10044,
          1106,
          6264,
          7393,
          727,
          134,
          1275,
          18664,
          5878,
          2872,
          607,
          1601,
          997,
          873,
          6128,
          2217,
          894,
          1196,
          337,
          3944,
          1887,
          3801,
          6257,
          2256,
          1450,
          8630,
          3154,
          3294,
          5164,
          944,
          4591,
          7435,
          1364,
          21858,
          922,
          3620,
          1916,
          848,
          1530,
          1181,
          2761,
          4180,
          6730,
          865,
          1316,
          11991,
          1666,
          1032,
          577,
          906,
          2801,
          4753,
          11006,
          4613,
          1046,
          5010,
          12844,
          3880,
          3634,
          2096,
          3289,
          3605,
          4859,
          1990,
          6046,
          10940,
          5499,
          8494,
          3783,
          5266,
          4847,
          1377,
          3686,
          2884,
          2408,
          9347,
          16687,
          5970,
          1750,
          4230,
          5506,
          1162,
          3218,
          3922,
          12051,
          1431,
          15488,
          1981,
          1698
         ],
         "yaxis": "y"
        }
       ],
       "layout": {
        "legend": {
         "tracegroupgap": 0
        },
        "margin": {
         "t": 60
        },
        "template": {
         "data": {
          "bar": [
           {
            "error_x": {
             "color": "#2a3f5f"
            },
            "error_y": {
             "color": "#2a3f5f"
            },
            "marker": {
             "line": {
              "color": "#E5ECF6",
              "width": 0.5
             },
             "pattern": {
              "fillmode": "overlay",
              "size": 10,
              "solidity": 0.2
             }
            },
            "type": "bar"
           }
          ],
          "barpolar": [
           {
            "marker": {
             "line": {
              "color": "#E5ECF6",
              "width": 0.5
             },
             "pattern": {
              "fillmode": "overlay",
              "size": 10,
              "solidity": 0.2
             }
            },
            "type": "barpolar"
           }
          ],
          "carpet": [
           {
            "aaxis": {
             "endlinecolor": "#2a3f5f",
             "gridcolor": "white",
             "linecolor": "white",
             "minorgridcolor": "white",
             "startlinecolor": "#2a3f5f"
            },
            "baxis": {
             "endlinecolor": "#2a3f5f",
             "gridcolor": "white",
             "linecolor": "white",
             "minorgridcolor": "white",
             "startlinecolor": "#2a3f5f"
            },
            "type": "carpet"
           }
          ],
          "choropleth": [
           {
            "colorbar": {
             "outlinewidth": 0,
             "ticks": ""
            },
            "type": "choropleth"
           }
          ],
          "contour": [
           {
            "colorbar": {
             "outlinewidth": 0,
             "ticks": ""
            },
            "colorscale": [
             [
              0,
              "#0d0887"
             ],
             [
              0.1111111111111111,
              "#46039f"
             ],
             [
              0.2222222222222222,
              "#7201a8"
             ],
             [
              0.3333333333333333,
              "#9c179e"
             ],
             [
              0.4444444444444444,
              "#bd3786"
             ],
             [
              0.5555555555555556,
              "#d8576b"
             ],
             [
              0.6666666666666666,
              "#ed7953"
             ],
             [
              0.7777777777777778,
              "#fb9f3a"
             ],
             [
              0.8888888888888888,
              "#fdca26"
             ],
             [
              1,
              "#f0f921"
             ]
            ],
            "type": "contour"
           }
          ],
          "contourcarpet": [
           {
            "colorbar": {
             "outlinewidth": 0,
             "ticks": ""
            },
            "type": "contourcarpet"
           }
          ],
          "heatmap": [
           {
            "colorbar": {
             "outlinewidth": 0,
             "ticks": ""
            },
            "colorscale": [
             [
              0,
              "#0d0887"
             ],
             [
              0.1111111111111111,
              "#46039f"
             ],
             [
              0.2222222222222222,
              "#7201a8"
             ],
             [
              0.3333333333333333,
              "#9c179e"
             ],
             [
              0.4444444444444444,
              "#bd3786"
             ],
             [
              0.5555555555555556,
              "#d8576b"
             ],
             [
              0.6666666666666666,
              "#ed7953"
             ],
             [
              0.7777777777777778,
              "#fb9f3a"
             ],
             [
              0.8888888888888888,
              "#fdca26"
             ],
             [
              1,
              "#f0f921"
             ]
            ],
            "type": "heatmap"
           }
          ],
          "heatmapgl": [
           {
            "colorbar": {
             "outlinewidth": 0,
             "ticks": ""
            },
            "colorscale": [
             [
              0,
              "#0d0887"
             ],
             [
              0.1111111111111111,
              "#46039f"
             ],
             [
              0.2222222222222222,
              "#7201a8"
             ],
             [
              0.3333333333333333,
              "#9c179e"
             ],
             [
              0.4444444444444444,
              "#bd3786"
             ],
             [
              0.5555555555555556,
              "#d8576b"
             ],
             [
              0.6666666666666666,
              "#ed7953"
             ],
             [
              0.7777777777777778,
              "#fb9f3a"
             ],
             [
              0.8888888888888888,
              "#fdca26"
             ],
             [
              1,
              "#f0f921"
             ]
            ],
            "type": "heatmapgl"
           }
          ],
          "histogram": [
           {
            "marker": {
             "pattern": {
              "fillmode": "overlay",
              "size": 10,
              "solidity": 0.2
             }
            },
            "type": "histogram"
           }
          ],
          "histogram2d": [
           {
            "colorbar": {
             "outlinewidth": 0,
             "ticks": ""
            },
            "colorscale": [
             [
              0,
              "#0d0887"
             ],
             [
              0.1111111111111111,
              "#46039f"
             ],
             [
              0.2222222222222222,
              "#7201a8"
             ],
             [
              0.3333333333333333,
              "#9c179e"
             ],
             [
              0.4444444444444444,
              "#bd3786"
             ],
             [
              0.5555555555555556,
              "#d8576b"
             ],
             [
              0.6666666666666666,
              "#ed7953"
             ],
             [
              0.7777777777777778,
              "#fb9f3a"
             ],
             [
              0.8888888888888888,
              "#fdca26"
             ],
             [
              1,
              "#f0f921"
             ]
            ],
            "type": "histogram2d"
           }
          ],
          "histogram2dcontour": [
           {
            "colorbar": {
             "outlinewidth": 0,
             "ticks": ""
            },
            "colorscale": [
             [
              0,
              "#0d0887"
             ],
             [
              0.1111111111111111,
              "#46039f"
             ],
             [
              0.2222222222222222,
              "#7201a8"
             ],
             [
              0.3333333333333333,
              "#9c179e"
             ],
             [
              0.4444444444444444,
              "#bd3786"
             ],
             [
              0.5555555555555556,
              "#d8576b"
             ],
             [
              0.6666666666666666,
              "#ed7953"
             ],
             [
              0.7777777777777778,
              "#fb9f3a"
             ],
             [
              0.8888888888888888,
              "#fdca26"
             ],
             [
              1,
              "#f0f921"
             ]
            ],
            "type": "histogram2dcontour"
           }
          ],
          "mesh3d": [
           {
            "colorbar": {
             "outlinewidth": 0,
             "ticks": ""
            },
            "type": "mesh3d"
           }
          ],
          "parcoords": [
           {
            "line": {
             "colorbar": {
              "outlinewidth": 0,
              "ticks": ""
             }
            },
            "type": "parcoords"
           }
          ],
          "pie": [
           {
            "automargin": true,
            "type": "pie"
           }
          ],
          "scatter": [
           {
            "fillpattern": {
             "fillmode": "overlay",
             "size": 10,
             "solidity": 0.2
            },
            "type": "scatter"
           }
          ],
          "scatter3d": [
           {
            "line": {
             "colorbar": {
              "outlinewidth": 0,
              "ticks": ""
             }
            },
            "marker": {
             "colorbar": {
              "outlinewidth": 0,
              "ticks": ""
             }
            },
            "type": "scatter3d"
           }
          ],
          "scattercarpet": [
           {
            "marker": {
             "colorbar": {
              "outlinewidth": 0,
              "ticks": ""
             }
            },
            "type": "scattercarpet"
           }
          ],
          "scattergeo": [
           {
            "marker": {
             "colorbar": {
              "outlinewidth": 0,
              "ticks": ""
             }
            },
            "type": "scattergeo"
           }
          ],
          "scattergl": [
           {
            "marker": {
             "colorbar": {
              "outlinewidth": 0,
              "ticks": ""
             }
            },
            "type": "scattergl"
           }
          ],
          "scattermapbox": [
           {
            "marker": {
             "colorbar": {
              "outlinewidth": 0,
              "ticks": ""
             }
            },
            "type": "scattermapbox"
           }
          ],
          "scatterpolar": [
           {
            "marker": {
             "colorbar": {
              "outlinewidth": 0,
              "ticks": ""
             }
            },
            "type": "scatterpolar"
           }
          ],
          "scatterpolargl": [
           {
            "marker": {
             "colorbar": {
              "outlinewidth": 0,
              "ticks": ""
             }
            },
            "type": "scatterpolargl"
           }
          ],
          "scatterternary": [
           {
            "marker": {
             "colorbar": {
              "outlinewidth": 0,
              "ticks": ""
             }
            },
            "type": "scatterternary"
           }
          ],
          "surface": [
           {
            "colorbar": {
             "outlinewidth": 0,
             "ticks": ""
            },
            "colorscale": [
             [
              0,
              "#0d0887"
             ],
             [
              0.1111111111111111,
              "#46039f"
             ],
             [
              0.2222222222222222,
              "#7201a8"
             ],
             [
              0.3333333333333333,
              "#9c179e"
             ],
             [
              0.4444444444444444,
              "#bd3786"
             ],
             [
              0.5555555555555556,
              "#d8576b"
             ],
             [
              0.6666666666666666,
              "#ed7953"
             ],
             [
              0.7777777777777778,
              "#fb9f3a"
             ],
             [
              0.8888888888888888,
              "#fdca26"
             ],
             [
              1,
              "#f0f921"
             ]
            ],
            "type": "surface"
           }
          ],
          "table": [
           {
            "cells": {
             "fill": {
              "color": "#EBF0F8"
             },
             "line": {
              "color": "white"
             }
            },
            "header": {
             "fill": {
              "color": "#C8D4E3"
             },
             "line": {
              "color": "white"
             }
            },
            "type": "table"
           }
          ]
         },
         "layout": {
          "annotationdefaults": {
           "arrowcolor": "#2a3f5f",
           "arrowhead": 0,
           "arrowwidth": 1
          },
          "autotypenumbers": "strict",
          "coloraxis": {
           "colorbar": {
            "outlinewidth": 0,
            "ticks": ""
           }
          },
          "colorscale": {
           "diverging": [
            [
             0,
             "#8e0152"
            ],
            [
             0.1,
             "#c51b7d"
            ],
            [
             0.2,
             "#de77ae"
            ],
            [
             0.3,
             "#f1b6da"
            ],
            [
             0.4,
             "#fde0ef"
            ],
            [
             0.5,
             "#f7f7f7"
            ],
            [
             0.6,
             "#e6f5d0"
            ],
            [
             0.7,
             "#b8e186"
            ],
            [
             0.8,
             "#7fbc41"
            ],
            [
             0.9,
             "#4d9221"
            ],
            [
             1,
             "#276419"
            ]
           ],
           "sequential": [
            [
             0,
             "#0d0887"
            ],
            [
             0.1111111111111111,
             "#46039f"
            ],
            [
             0.2222222222222222,
             "#7201a8"
            ],
            [
             0.3333333333333333,
             "#9c179e"
            ],
            [
             0.4444444444444444,
             "#bd3786"
            ],
            [
             0.5555555555555556,
             "#d8576b"
            ],
            [
             0.6666666666666666,
             "#ed7953"
            ],
            [
             0.7777777777777778,
             "#fb9f3a"
            ],
            [
             0.8888888888888888,
             "#fdca26"
            ],
            [
             1,
             "#f0f921"
            ]
           ],
           "sequentialminus": [
            [
             0,
             "#0d0887"
            ],
            [
             0.1111111111111111,
             "#46039f"
            ],
            [
             0.2222222222222222,
             "#7201a8"
            ],
            [
             0.3333333333333333,
             "#9c179e"
            ],
            [
             0.4444444444444444,
             "#bd3786"
            ],
            [
             0.5555555555555556,
             "#d8576b"
            ],
            [
             0.6666666666666666,
             "#ed7953"
            ],
            [
             0.7777777777777778,
             "#fb9f3a"
            ],
            [
             0.8888888888888888,
             "#fdca26"
            ],
            [
             1,
             "#f0f921"
            ]
           ]
          },
          "colorway": [
           "#636efa",
           "#EF553B",
           "#00cc96",
           "#ab63fa",
           "#FFA15A",
           "#19d3f3",
           "#FF6692",
           "#B6E880",
           "#FF97FF",
           "#FECB52"
          ],
          "font": {
           "color": "#2a3f5f"
          },
          "geo": {
           "bgcolor": "white",
           "lakecolor": "white",
           "landcolor": "#E5ECF6",
           "showlakes": true,
           "showland": true,
           "subunitcolor": "white"
          },
          "hoverlabel": {
           "align": "left"
          },
          "hovermode": "closest",
          "mapbox": {
           "style": "light"
          },
          "paper_bgcolor": "white",
          "plot_bgcolor": "#E5ECF6",
          "polar": {
           "angularaxis": {
            "gridcolor": "white",
            "linecolor": "white",
            "ticks": ""
           },
           "bgcolor": "#E5ECF6",
           "radialaxis": {
            "gridcolor": "white",
            "linecolor": "white",
            "ticks": ""
           }
          },
          "scene": {
           "xaxis": {
            "backgroundcolor": "#E5ECF6",
            "gridcolor": "white",
            "gridwidth": 2,
            "linecolor": "white",
            "showbackground": true,
            "ticks": "",
            "zerolinecolor": "white"
           },
           "yaxis": {
            "backgroundcolor": "#E5ECF6",
            "gridcolor": "white",
            "gridwidth": 2,
            "linecolor": "white",
            "showbackground": true,
            "ticks": "",
            "zerolinecolor": "white"
           },
           "zaxis": {
            "backgroundcolor": "#E5ECF6",
            "gridcolor": "white",
            "gridwidth": 2,
            "linecolor": "white",
            "showbackground": true,
            "ticks": "",
            "zerolinecolor": "white"
           }
          },
          "shapedefaults": {
           "line": {
            "color": "#2a3f5f"
           }
          },
          "ternary": {
           "aaxis": {
            "gridcolor": "white",
            "linecolor": "white",
            "ticks": ""
           },
           "baxis": {
            "gridcolor": "white",
            "linecolor": "white",
            "ticks": ""
           },
           "bgcolor": "#E5ECF6",
           "caxis": {
            "gridcolor": "white",
            "linecolor": "white",
            "ticks": ""
           }
          },
          "title": {
           "x": 0.05
          },
          "xaxis": {
           "automargin": true,
           "gridcolor": "white",
           "linecolor": "white",
           "ticks": "",
           "title": {
            "standoff": 15
           },
           "zerolinecolor": "white",
           "zerolinewidth": 2
          },
          "yaxis": {
           "automargin": true,
           "gridcolor": "white",
           "linecolor": "white",
           "ticks": "",
           "title": {
            "standoff": 15
           },
           "zerolinecolor": "white",
           "zerolinewidth": 2
          }
         }
        },
        "xaxis": {
         "anchor": "y",
         "domain": [
          0,
          1
         ],
         "title": {
          "text": "Grocery"
         }
        },
        "yaxis": {
         "anchor": "x",
         "domain": [
          0,
          1
         ],
         "title": {
          "text": "Milk"
         }
        }
       }
      }
     },
     "metadata": {},
     "output_type": "display_data"
    }
   ],
   "source": [
    "fig = px.scatter(dataset, 'Grocery', 'Milk')\n",
    "fig.show()"
   ]
  },
  {
   "cell_type": "markdown",
   "metadata": {},
   "source": [
    "Standardize datas"
   ]
  },
  {
   "cell_type": "code",
   "execution_count": 67,
   "metadata": {},
   "outputs": [],
   "source": [
    "# Instanciation du scaler\n",
    "scaler = StandardScaler()\n",
    "\n",
    "# Ajustement et transformation des données\n",
    "dataset_scaled = scaler.fit_transform(dataset_cleaned)\n"
   ]
  },
  {
   "cell_type": "markdown",
   "metadata": {},
   "source": [
    "Define an instance of DBSCAN with the parameters eps = .5, min_samples = 15"
   ]
  },
  {
   "cell_type": "code",
   "execution_count": 68,
   "metadata": {},
   "outputs": [
    {
     "data": {
      "text/html": [
       "<style>#sk-container-id-2 {\n",
       "  /* Definition of color scheme common for light and dark mode */\n",
       "  --sklearn-color-text: black;\n",
       "  --sklearn-color-line: gray;\n",
       "  /* Definition of color scheme for unfitted estimators */\n",
       "  --sklearn-color-unfitted-level-0: #fff5e6;\n",
       "  --sklearn-color-unfitted-level-1: #f6e4d2;\n",
       "  --sklearn-color-unfitted-level-2: #ffe0b3;\n",
       "  --sklearn-color-unfitted-level-3: chocolate;\n",
       "  /* Definition of color scheme for fitted estimators */\n",
       "  --sklearn-color-fitted-level-0: #f0f8ff;\n",
       "  --sklearn-color-fitted-level-1: #d4ebff;\n",
       "  --sklearn-color-fitted-level-2: #b3dbfd;\n",
       "  --sklearn-color-fitted-level-3: cornflowerblue;\n",
       "\n",
       "  /* Specific color for light theme */\n",
       "  --sklearn-color-text-on-default-background: var(--sg-text-color, var(--theme-code-foreground, var(--jp-content-font-color1, black)));\n",
       "  --sklearn-color-background: var(--sg-background-color, var(--theme-background, var(--jp-layout-color0, white)));\n",
       "  --sklearn-color-border-box: var(--sg-text-color, var(--theme-code-foreground, var(--jp-content-font-color1, black)));\n",
       "  --sklearn-color-icon: #696969;\n",
       "\n",
       "  @media (prefers-color-scheme: dark) {\n",
       "    /* Redefinition of color scheme for dark theme */\n",
       "    --sklearn-color-text-on-default-background: var(--sg-text-color, var(--theme-code-foreground, var(--jp-content-font-color1, white)));\n",
       "    --sklearn-color-background: var(--sg-background-color, var(--theme-background, var(--jp-layout-color0, #111)));\n",
       "    --sklearn-color-border-box: var(--sg-text-color, var(--theme-code-foreground, var(--jp-content-font-color1, white)));\n",
       "    --sklearn-color-icon: #878787;\n",
       "  }\n",
       "}\n",
       "\n",
       "#sk-container-id-2 {\n",
       "  color: var(--sklearn-color-text);\n",
       "}\n",
       "\n",
       "#sk-container-id-2 pre {\n",
       "  padding: 0;\n",
       "}\n",
       "\n",
       "#sk-container-id-2 input.sk-hidden--visually {\n",
       "  border: 0;\n",
       "  clip: rect(1px 1px 1px 1px);\n",
       "  clip: rect(1px, 1px, 1px, 1px);\n",
       "  height: 1px;\n",
       "  margin: -1px;\n",
       "  overflow: hidden;\n",
       "  padding: 0;\n",
       "  position: absolute;\n",
       "  width: 1px;\n",
       "}\n",
       "\n",
       "#sk-container-id-2 div.sk-dashed-wrapped {\n",
       "  border: 1px dashed var(--sklearn-color-line);\n",
       "  margin: 0 0.4em 0.5em 0.4em;\n",
       "  box-sizing: border-box;\n",
       "  padding-bottom: 0.4em;\n",
       "  background-color: var(--sklearn-color-background);\n",
       "}\n",
       "\n",
       "#sk-container-id-2 div.sk-container {\n",
       "  /* jupyter's `normalize.less` sets `[hidden] { display: none; }`\n",
       "     but bootstrap.min.css set `[hidden] { display: none !important; }`\n",
       "     so we also need the `!important` here to be able to override the\n",
       "     default hidden behavior on the sphinx rendered scikit-learn.org.\n",
       "     See: https://github.com/scikit-learn/scikit-learn/issues/21755 */\n",
       "  display: inline-block !important;\n",
       "  position: relative;\n",
       "}\n",
       "\n",
       "#sk-container-id-2 div.sk-text-repr-fallback {\n",
       "  display: none;\n",
       "}\n",
       "\n",
       "div.sk-parallel-item,\n",
       "div.sk-serial,\n",
       "div.sk-item {\n",
       "  /* draw centered vertical line to link estimators */\n",
       "  background-image: linear-gradient(var(--sklearn-color-text-on-default-background), var(--sklearn-color-text-on-default-background));\n",
       "  background-size: 2px 100%;\n",
       "  background-repeat: no-repeat;\n",
       "  background-position: center center;\n",
       "}\n",
       "\n",
       "/* Parallel-specific style estimator block */\n",
       "\n",
       "#sk-container-id-2 div.sk-parallel-item::after {\n",
       "  content: \"\";\n",
       "  width: 100%;\n",
       "  border-bottom: 2px solid var(--sklearn-color-text-on-default-background);\n",
       "  flex-grow: 1;\n",
       "}\n",
       "\n",
       "#sk-container-id-2 div.sk-parallel {\n",
       "  display: flex;\n",
       "  align-items: stretch;\n",
       "  justify-content: center;\n",
       "  background-color: var(--sklearn-color-background);\n",
       "  position: relative;\n",
       "}\n",
       "\n",
       "#sk-container-id-2 div.sk-parallel-item {\n",
       "  display: flex;\n",
       "  flex-direction: column;\n",
       "}\n",
       "\n",
       "#sk-container-id-2 div.sk-parallel-item:first-child::after {\n",
       "  align-self: flex-end;\n",
       "  width: 50%;\n",
       "}\n",
       "\n",
       "#sk-container-id-2 div.sk-parallel-item:last-child::after {\n",
       "  align-self: flex-start;\n",
       "  width: 50%;\n",
       "}\n",
       "\n",
       "#sk-container-id-2 div.sk-parallel-item:only-child::after {\n",
       "  width: 0;\n",
       "}\n",
       "\n",
       "/* Serial-specific style estimator block */\n",
       "\n",
       "#sk-container-id-2 div.sk-serial {\n",
       "  display: flex;\n",
       "  flex-direction: column;\n",
       "  align-items: center;\n",
       "  background-color: var(--sklearn-color-background);\n",
       "  padding-right: 1em;\n",
       "  padding-left: 1em;\n",
       "}\n",
       "\n",
       "\n",
       "/* Toggleable style: style used for estimator/Pipeline/ColumnTransformer box that is\n",
       "clickable and can be expanded/collapsed.\n",
       "- Pipeline and ColumnTransformer use this feature and define the default style\n",
       "- Estimators will overwrite some part of the style using the `sk-estimator` class\n",
       "*/\n",
       "\n",
       "/* Pipeline and ColumnTransformer style (default) */\n",
       "\n",
       "#sk-container-id-2 div.sk-toggleable {\n",
       "  /* Default theme specific background. It is overwritten whether we have a\n",
       "  specific estimator or a Pipeline/ColumnTransformer */\n",
       "  background-color: var(--sklearn-color-background);\n",
       "}\n",
       "\n",
       "/* Toggleable label */\n",
       "#sk-container-id-2 label.sk-toggleable__label {\n",
       "  cursor: pointer;\n",
       "  display: block;\n",
       "  width: 100%;\n",
       "  margin-bottom: 0;\n",
       "  padding: 0.5em;\n",
       "  box-sizing: border-box;\n",
       "  text-align: center;\n",
       "}\n",
       "\n",
       "#sk-container-id-2 label.sk-toggleable__label-arrow:before {\n",
       "  /* Arrow on the left of the label */\n",
       "  content: \"▸\";\n",
       "  float: left;\n",
       "  margin-right: 0.25em;\n",
       "  color: var(--sklearn-color-icon);\n",
       "}\n",
       "\n",
       "#sk-container-id-2 label.sk-toggleable__label-arrow:hover:before {\n",
       "  color: var(--sklearn-color-text);\n",
       "}\n",
       "\n",
       "/* Toggleable content - dropdown */\n",
       "\n",
       "#sk-container-id-2 div.sk-toggleable__content {\n",
       "  max-height: 0;\n",
       "  max-width: 0;\n",
       "  overflow: hidden;\n",
       "  text-align: left;\n",
       "  /* unfitted */\n",
       "  background-color: var(--sklearn-color-unfitted-level-0);\n",
       "}\n",
       "\n",
       "#sk-container-id-2 div.sk-toggleable__content.fitted {\n",
       "  /* fitted */\n",
       "  background-color: var(--sklearn-color-fitted-level-0);\n",
       "}\n",
       "\n",
       "#sk-container-id-2 div.sk-toggleable__content pre {\n",
       "  margin: 0.2em;\n",
       "  border-radius: 0.25em;\n",
       "  color: var(--sklearn-color-text);\n",
       "  /* unfitted */\n",
       "  background-color: var(--sklearn-color-unfitted-level-0);\n",
       "}\n",
       "\n",
       "#sk-container-id-2 div.sk-toggleable__content.fitted pre {\n",
       "  /* unfitted */\n",
       "  background-color: var(--sklearn-color-fitted-level-0);\n",
       "}\n",
       "\n",
       "#sk-container-id-2 input.sk-toggleable__control:checked~div.sk-toggleable__content {\n",
       "  /* Expand drop-down */\n",
       "  max-height: 200px;\n",
       "  max-width: 100%;\n",
       "  overflow: auto;\n",
       "}\n",
       "\n",
       "#sk-container-id-2 input.sk-toggleable__control:checked~label.sk-toggleable__label-arrow:before {\n",
       "  content: \"▾\";\n",
       "}\n",
       "\n",
       "/* Pipeline/ColumnTransformer-specific style */\n",
       "\n",
       "#sk-container-id-2 div.sk-label input.sk-toggleable__control:checked~label.sk-toggleable__label {\n",
       "  color: var(--sklearn-color-text);\n",
       "  background-color: var(--sklearn-color-unfitted-level-2);\n",
       "}\n",
       "\n",
       "#sk-container-id-2 div.sk-label.fitted input.sk-toggleable__control:checked~label.sk-toggleable__label {\n",
       "  background-color: var(--sklearn-color-fitted-level-2);\n",
       "}\n",
       "\n",
       "/* Estimator-specific style */\n",
       "\n",
       "/* Colorize estimator box */\n",
       "#sk-container-id-2 div.sk-estimator input.sk-toggleable__control:checked~label.sk-toggleable__label {\n",
       "  /* unfitted */\n",
       "  background-color: var(--sklearn-color-unfitted-level-2);\n",
       "}\n",
       "\n",
       "#sk-container-id-2 div.sk-estimator.fitted input.sk-toggleable__control:checked~label.sk-toggleable__label {\n",
       "  /* fitted */\n",
       "  background-color: var(--sklearn-color-fitted-level-2);\n",
       "}\n",
       "\n",
       "#sk-container-id-2 div.sk-label label.sk-toggleable__label,\n",
       "#sk-container-id-2 div.sk-label label {\n",
       "  /* The background is the default theme color */\n",
       "  color: var(--sklearn-color-text-on-default-background);\n",
       "}\n",
       "\n",
       "/* On hover, darken the color of the background */\n",
       "#sk-container-id-2 div.sk-label:hover label.sk-toggleable__label {\n",
       "  color: var(--sklearn-color-text);\n",
       "  background-color: var(--sklearn-color-unfitted-level-2);\n",
       "}\n",
       "\n",
       "/* Label box, darken color on hover, fitted */\n",
       "#sk-container-id-2 div.sk-label.fitted:hover label.sk-toggleable__label.fitted {\n",
       "  color: var(--sklearn-color-text);\n",
       "  background-color: var(--sklearn-color-fitted-level-2);\n",
       "}\n",
       "\n",
       "/* Estimator label */\n",
       "\n",
       "#sk-container-id-2 div.sk-label label {\n",
       "  font-family: monospace;\n",
       "  font-weight: bold;\n",
       "  display: inline-block;\n",
       "  line-height: 1.2em;\n",
       "}\n",
       "\n",
       "#sk-container-id-2 div.sk-label-container {\n",
       "  text-align: center;\n",
       "}\n",
       "\n",
       "/* Estimator-specific */\n",
       "#sk-container-id-2 div.sk-estimator {\n",
       "  font-family: monospace;\n",
       "  border: 1px dotted var(--sklearn-color-border-box);\n",
       "  border-radius: 0.25em;\n",
       "  box-sizing: border-box;\n",
       "  margin-bottom: 0.5em;\n",
       "  /* unfitted */\n",
       "  background-color: var(--sklearn-color-unfitted-level-0);\n",
       "}\n",
       "\n",
       "#sk-container-id-2 div.sk-estimator.fitted {\n",
       "  /* fitted */\n",
       "  background-color: var(--sklearn-color-fitted-level-0);\n",
       "}\n",
       "\n",
       "/* on hover */\n",
       "#sk-container-id-2 div.sk-estimator:hover {\n",
       "  /* unfitted */\n",
       "  background-color: var(--sklearn-color-unfitted-level-2);\n",
       "}\n",
       "\n",
       "#sk-container-id-2 div.sk-estimator.fitted:hover {\n",
       "  /* fitted */\n",
       "  background-color: var(--sklearn-color-fitted-level-2);\n",
       "}\n",
       "\n",
       "/* Specification for estimator info (e.g. \"i\" and \"?\") */\n",
       "\n",
       "/* Common style for \"i\" and \"?\" */\n",
       "\n",
       ".sk-estimator-doc-link,\n",
       "a:link.sk-estimator-doc-link,\n",
       "a:visited.sk-estimator-doc-link {\n",
       "  float: right;\n",
       "  font-size: smaller;\n",
       "  line-height: 1em;\n",
       "  font-family: monospace;\n",
       "  background-color: var(--sklearn-color-background);\n",
       "  border-radius: 1em;\n",
       "  height: 1em;\n",
       "  width: 1em;\n",
       "  text-decoration: none !important;\n",
       "  margin-left: 1ex;\n",
       "  /* unfitted */\n",
       "  border: var(--sklearn-color-unfitted-level-1) 1pt solid;\n",
       "  color: var(--sklearn-color-unfitted-level-1);\n",
       "}\n",
       "\n",
       ".sk-estimator-doc-link.fitted,\n",
       "a:link.sk-estimator-doc-link.fitted,\n",
       "a:visited.sk-estimator-doc-link.fitted {\n",
       "  /* fitted */\n",
       "  border: var(--sklearn-color-fitted-level-1) 1pt solid;\n",
       "  color: var(--sklearn-color-fitted-level-1);\n",
       "}\n",
       "\n",
       "/* On hover */\n",
       "div.sk-estimator:hover .sk-estimator-doc-link:hover,\n",
       ".sk-estimator-doc-link:hover,\n",
       "div.sk-label-container:hover .sk-estimator-doc-link:hover,\n",
       ".sk-estimator-doc-link:hover {\n",
       "  /* unfitted */\n",
       "  background-color: var(--sklearn-color-unfitted-level-3);\n",
       "  color: var(--sklearn-color-background);\n",
       "  text-decoration: none;\n",
       "}\n",
       "\n",
       "div.sk-estimator.fitted:hover .sk-estimator-doc-link.fitted:hover,\n",
       ".sk-estimator-doc-link.fitted:hover,\n",
       "div.sk-label-container:hover .sk-estimator-doc-link.fitted:hover,\n",
       ".sk-estimator-doc-link.fitted:hover {\n",
       "  /* fitted */\n",
       "  background-color: var(--sklearn-color-fitted-level-3);\n",
       "  color: var(--sklearn-color-background);\n",
       "  text-decoration: none;\n",
       "}\n",
       "\n",
       "/* Span, style for the box shown on hovering the info icon */\n",
       ".sk-estimator-doc-link span {\n",
       "  display: none;\n",
       "  z-index: 9999;\n",
       "  position: relative;\n",
       "  font-weight: normal;\n",
       "  right: .2ex;\n",
       "  padding: .5ex;\n",
       "  margin: .5ex;\n",
       "  width: min-content;\n",
       "  min-width: 20ex;\n",
       "  max-width: 50ex;\n",
       "  color: var(--sklearn-color-text);\n",
       "  box-shadow: 2pt 2pt 4pt #999;\n",
       "  /* unfitted */\n",
       "  background: var(--sklearn-color-unfitted-level-0);\n",
       "  border: .5pt solid var(--sklearn-color-unfitted-level-3);\n",
       "}\n",
       "\n",
       ".sk-estimator-doc-link.fitted span {\n",
       "  /* fitted */\n",
       "  background: var(--sklearn-color-fitted-level-0);\n",
       "  border: var(--sklearn-color-fitted-level-3);\n",
       "}\n",
       "\n",
       ".sk-estimator-doc-link:hover span {\n",
       "  display: block;\n",
       "}\n",
       "\n",
       "/* \"?\"-specific style due to the `<a>` HTML tag */\n",
       "\n",
       "#sk-container-id-2 a.estimator_doc_link {\n",
       "  float: right;\n",
       "  font-size: 1rem;\n",
       "  line-height: 1em;\n",
       "  font-family: monospace;\n",
       "  background-color: var(--sklearn-color-background);\n",
       "  border-radius: 1rem;\n",
       "  height: 1rem;\n",
       "  width: 1rem;\n",
       "  text-decoration: none;\n",
       "  /* unfitted */\n",
       "  color: var(--sklearn-color-unfitted-level-1);\n",
       "  border: var(--sklearn-color-unfitted-level-1) 1pt solid;\n",
       "}\n",
       "\n",
       "#sk-container-id-2 a.estimator_doc_link.fitted {\n",
       "  /* fitted */\n",
       "  border: var(--sklearn-color-fitted-level-1) 1pt solid;\n",
       "  color: var(--sklearn-color-fitted-level-1);\n",
       "}\n",
       "\n",
       "/* On hover */\n",
       "#sk-container-id-2 a.estimator_doc_link:hover {\n",
       "  /* unfitted */\n",
       "  background-color: var(--sklearn-color-unfitted-level-3);\n",
       "  color: var(--sklearn-color-background);\n",
       "  text-decoration: none;\n",
       "}\n",
       "\n",
       "#sk-container-id-2 a.estimator_doc_link.fitted:hover {\n",
       "  /* fitted */\n",
       "  background-color: var(--sklearn-color-fitted-level-3);\n",
       "}\n",
       "</style><div id=\"sk-container-id-2\" class=\"sk-top-container\"><div class=\"sk-text-repr-fallback\"><pre>DBSCAN(eps=5, min_samples=15)</pre><b>In a Jupyter environment, please rerun this cell to show the HTML representation or trust the notebook. <br />On GitHub, the HTML representation is unable to render, please try loading this page with nbviewer.org.</b></div><div class=\"sk-container\" hidden><div class=\"sk-item\"><div class=\"sk-estimator fitted sk-toggleable\"><input class=\"sk-toggleable__control sk-hidden--visually\" id=\"sk-estimator-id-2\" type=\"checkbox\" checked><label for=\"sk-estimator-id-2\" class=\"sk-toggleable__label fitted sk-toggleable__label-arrow fitted\">&nbsp;&nbsp;DBSCAN<a class=\"sk-estimator-doc-link fitted\" rel=\"noreferrer\" target=\"_blank\" href=\"https://scikit-learn.org/1.5/modules/generated/sklearn.cluster.DBSCAN.html\">?<span>Documentation for DBSCAN</span></a><span class=\"sk-estimator-doc-link fitted\">i<span>Fitted</span></span></label><div class=\"sk-toggleable__content fitted\"><pre>DBSCAN(eps=5, min_samples=15)</pre></div> </div></div></div></div>"
      ],
      "text/plain": [
       "DBSCAN(eps=5, min_samples=15)"
      ]
     },
     "execution_count": 68,
     "metadata": {},
     "output_type": "execute_result"
    }
   ],
   "source": [
    "db = DBSCAN(eps=5, min_samples=15)\n",
    "db.fit(dataset_scaled)"
   ]
  },
  {
   "cell_type": "markdown",
   "metadata": {},
   "source": [
    "Create a dbscan_predict object that contains the classes defined by DBSCAN"
   ]
  },
  {
   "cell_type": "code",
   "execution_count": 69,
   "metadata": {},
   "outputs": [],
   "source": [
    "dataset_predict = db.fit_predict(dataset_scaled)"
   ]
  },
  {
   "cell_type": "markdown",
   "metadata": {},
   "source": [
    "Visualize the data by coloring the points according to the class found by DBSCAN"
   ]
  },
  {
   "cell_type": "code",
   "execution_count": 70,
   "metadata": {},
   "outputs": [
    {
     "data": {
      "application/vnd.plotly.v1+json": {
       "config": {
        "plotlyServerURL": "https://plot.ly"
       },
       "data": [
        {
         "hovertemplate": "0=%{x}<br>1=%{y}<br>Cluster=%{marker.color}<extra></extra>",
         "legendgroup": "",
         "marker": {
          "color": [
           0,
           0,
           0,
           0,
           0,
           0,
           0,
           0,
           0,
           0,
           0,
           0,
           0,
           0,
           0,
           0,
           0,
           0,
           0,
           0,
           0,
           0,
           0,
           0,
           0,
           0,
           0,
           0,
           0,
           0,
           0,
           0,
           0,
           0,
           0,
           0,
           0,
           0,
           0,
           0,
           0,
           0,
           0,
           0,
           0,
           0,
           0,
           0,
           0,
           0,
           0,
           0,
           0,
           0,
           0,
           0,
           0,
           0,
           0,
           0,
           0,
           0,
           0,
           0,
           0,
           0,
           0,
           0,
           0,
           0,
           0,
           0,
           0,
           0,
           0,
           0,
           0,
           0,
           0,
           0,
           0,
           0,
           0,
           0,
           0,
           0,
           0,
           0,
           0,
           0,
           0,
           0,
           0,
           0,
           0,
           0,
           0,
           0,
           0,
           0,
           0,
           0,
           0,
           0,
           0,
           0,
           0,
           0,
           0,
           0,
           0,
           0,
           0,
           0,
           0,
           0,
           0,
           0,
           0,
           0,
           0,
           0,
           0,
           0,
           0,
           0,
           0,
           0,
           0,
           0,
           0,
           0,
           0,
           0,
           0,
           0,
           0,
           0,
           0,
           0,
           0,
           0,
           0,
           0,
           0,
           0,
           0,
           0,
           0,
           0,
           0,
           0,
           0,
           0,
           0,
           0,
           0,
           0,
           0,
           0,
           0,
           0,
           0,
           0,
           0,
           0,
           0,
           0,
           0,
           0,
           0,
           0,
           0,
           0,
           0,
           0,
           0,
           0,
           0,
           0,
           0,
           0,
           0,
           0,
           0,
           0,
           0,
           0,
           0,
           0,
           0,
           0,
           0,
           0,
           0,
           0,
           0,
           0,
           0,
           0,
           0,
           0,
           0,
           0,
           0,
           0,
           0,
           0,
           0,
           0,
           0,
           0,
           0,
           0,
           0,
           0,
           0,
           0,
           0,
           0,
           0,
           0,
           0,
           0,
           0,
           0,
           0,
           0,
           0,
           0,
           0,
           0,
           0,
           0,
           0,
           0,
           0,
           0,
           0,
           0,
           0,
           0,
           0,
           0,
           0,
           0,
           0,
           0,
           0,
           0,
           0,
           0,
           0,
           0,
           0,
           0,
           0,
           0,
           0,
           0,
           0,
           0,
           0,
           0,
           0,
           0,
           0,
           0,
           0,
           0,
           0,
           0,
           0,
           0,
           0,
           0,
           0,
           0,
           0,
           0,
           0,
           0,
           0,
           0,
           0,
           0,
           0,
           0,
           0,
           0,
           0,
           0,
           0,
           0,
           0,
           0,
           0,
           0,
           0,
           0,
           0,
           0,
           0,
           0,
           0,
           0,
           0,
           0,
           0,
           0,
           0,
           0,
           0,
           0,
           0,
           0,
           0,
           0,
           0,
           0,
           0,
           0,
           0,
           0,
           0,
           0,
           0,
           0,
           0,
           0,
           0,
           0,
           0,
           0,
           0,
           0,
           0,
           0,
           0,
           0,
           0,
           0,
           0,
           0,
           0,
           0,
           0,
           0,
           0,
           0,
           0,
           0,
           0,
           0,
           0,
           0,
           0,
           0,
           0,
           0,
           0,
           0,
           0,
           0,
           0,
           0,
           0,
           0,
           0,
           0,
           0,
           0,
           0,
           0,
           0,
           0,
           0,
           0,
           0,
           0,
           0,
           0,
           0,
           0,
           0,
           0,
           0,
           0,
           0,
           0,
           0,
           0,
           0,
           0,
           0,
           0,
           0,
           0,
           0,
           0,
           0,
           0,
           0,
           0,
           0,
           0,
           0,
           0,
           0,
           0,
           0,
           0,
           0,
           0,
           0,
           0,
           0,
           0,
           0,
           0,
           0,
           0,
           0,
           0,
           0,
           0,
           0,
           0,
           0,
           0,
           0,
           0,
           0,
           0,
           0,
           0,
           0,
           0,
           0,
           0
          ],
          "coloraxis": "coloraxis",
          "symbol": "circle"
         },
         "mode": "markers",
         "name": "",
         "orientation": "v",
         "showlegend": false,
         "type": "scatter",
         "x": [
          -0.04111489343644868,
          0.1703183538810707,
          -0.02815710099994899,
          -0.3929768994357086,
          -0.07935618331002095,
          -0.2976370445167475,
          -0.10284876634530088,
          0.15535895123080276,
          -0.18533617673375014,
          1.1514234023454744,
          0.5291333216755256,
          -0.3611618318273923,
          0.4009249200883701,
          0.7406719168990328,
          0.4361111206882961,
          -0.4351160618308296,
          0.4392715578679302,
          -0.5286650023479981,
          0.22625809196059377,
          0.15936217165833924,
          -0.35283934725435595,
          -0.6259011195747397,
          -0.36685061875073366,
          1.4820051313351983,
          0.615307908773548,
          -0.037533064632863405,
          -0.5362500515791199,
          -0.5168660368773642,
          1.8968651851151639,
          -0.562797723888046,
          0.33244878119629856,
          -0.5075954211504377,
          -0.5336163539294249,
          -0.06587165134358225,
          -0.5993534472658135,
          0.33076321470049375,
          -0.2658219769084312,
          0.4767754123995878,
          0.9226077505399676,
          -0.7426265994092247,
          -0.3365104218262466,
          -0.2101982825468715,
          0.7384596108732889,
          1.6904886372850592,
          0.26544751298805624,
          1.4305953532131506,
          1.4752628653519788,
          5.016638073037943,
          0.3072706316652138,
          2.20911637846301,
          -0.6290615567543738,
          -0.10063646031955703,
          -0.2186261150258957,
          0.37722164124111457,
          -0.6325380376519713,
          -0.31038414114127155,
          1.9926264316580762,
          0.2671330794838611,
          -0.6640370615423242,
          0.009346753531708657,
          -0.010247956982022586,
          5.440874090450824,
          -0.14825371382604371,
          0.82421280634736,
          -0.49526971614986476,
          3.990233424998785,
          -0.056284991898692224,
          0.5805430997975732,
          -0.41699622200092756,
          -0.701435568167994,
          -0.5003264156372793,
          1.3790802271851152,
          -0.5573196327766804,
          0.08024589426149967,
          0.19412698063431405,
          -0.8373343668922592,
          -0.14951788869789734,
          2.1689788262816574,
          -0.619896288933435,
          -0.4526038142248048,
          -0.5206585614929251,
          0.6796754793320953,
          0.32212468640949393,
          -0.6498150942339709,
          -0.3305055911849418,
          8.936528306938083,
          2.545492242282063,
          0.01745854229276944,
          -0.41183417460752525,
          -0.2761460716952358,
          -0.6650905406022022,
          -0.5711202084610825,
          2.537064409803039,
          -0.6204230284633739,
          0.3552039288896639,
          -0.17901530237448202,
          0.017563890198757245,
          -0.7733881879576631,
          -0.7556897397517123,
          -0.6365412580795078,
          0.44169455970564964,
          0.8760439760933588,
          -0.02889453634186361,
          0.10057804011714552,
          -0.4747268744822433,
          -0.41941922383864705,
          0.2899935750832142,
          0.7305585179242038,
          -0.10221667890937407,
          2.215963992352217,
          -0.6591910578668853,
          1.0132069496894776,
          -0.5775464307263384,
          -0.655082489533361,
          -0.6269545986346178,
          -0.522870867518669,
          -0.4842081860211455,
          -0.2708786763958457,
          -0.5888186566670333,
          -0.6114684564544108,
          -0.47820335537984077,
          -0.6798392474404945,
          -0.8118401736432109,
          0.09088603276626771,
          -0.5257152609803396,
          -0.08946958228484998,
          -0.6629835824824462,
          0.28799196486944595,
          -0.434905366018854,
          -0.6785750725686409,
          -0.7640122243247487,
          -0.8045711681300526,
          -0.5764929516664604,
          -0.7075457467152866,
          -0.6086240629927401,
          -0.5646939861958266,
          -0.09705463151597175,
          0.03484094678075683,
          -0.3073290518676253,
          -0.48547236089299917,
          -0.0680839573693261,
          -0.29100012643951595,
          0.03178585750711056,
          -0.7221891056475911,
          -0.6282187735064714,
          2.8276139345173976,
          -0.6083080192747767,
          -0.5524736291012414,
          -0.7805518455648336,
          -0.6637210178243608,
          -0.6517113565417513,
          -0.6246369447028861,
          -0.507384725338462,
          -0.5881865692311065,
          -0.8232177474898936,
          1.212419839912412,
          0.7272927328385819,
          -0.5770196911963994,
          0.17558574918046083,
          0.7090675451026921,
          0.5131204399653797,
          -0.8078369532156744,
          -0.4362748887966954,
          1.9930478232820275,
          0.06665601438907315,
          1.2543483064955572,
          0.12838988729792536,
          -0.4933734538420843,
          -0.7530560421020172,
          -0.6106256732065084,
          0.5771719668059635,
          1.2499236944440695,
          -0.14909649707394612,
          1.2487648674782037,
          -0.28552203532815024,
          0.413250625088943,
          -0.14909649707394612,
          -0.3601083527675143,
          -0.3167050155005397,
          -0.5742806456407166,
          0.09857642990337728,
          1.0742033872564152,
          0.270398864569483,
          1.2872168531637516,
          -0.34146177340767325,
          -0.7176591456901156,
          -0.7476832988966393,
          0.1967606782840091,
          0.39355056666922394,
          0.37616816218123655,
          -0.628956208848386,
          -0.6921649524410675,
          -0.6005122742316793,
          1.3000692976942634,
          -0.5243457382024982,
          -0.286680862294016,
          -0.32176171498795425,
          0.25701968050903207,
          -0.11875630014945904,
          -0.6151556331639839,
          1.5987306111696833,
          1.7652856505363985,
          0.16210121721402213,
          -0.6041994509412524,
          -0.28710225391796723,
          1.6481387790779625,
          -0.7375698999218102,
          -0.1961870110504938,
          -0.2226293354534322,
          0.92871792908726,
          -0.6909007775692138,
          3.344029369669605,
          -0.6204230284633739,
          -0.11485842762791035,
          0.3595231930351638,
          0.7992453526282509,
          3.006073287260735,
          -0.6221085949591788,
          0.7641644999343128,
          -0.6912168212871772,
          -0.6920596045350796,
          0.28388339653592165,
          -0.5367767911090588,
          -0.28299368558444293,
          -0.6797338995345067,
          -0.399719165418928,
          0.13281449934941306,
          -0.6729916335512873,
          -0.7773914083851995,
          -0.5741752977347288,
          -0.24612191848871212,
          -0.434378626488915,
          -0.43332514742903694,
          -0.4883167543546698,
          -0.433851886958976,
          -0.5401479241006686,
          -0.5166553410653887,
          -0.7751791023594556,
          -0.7760218856073581,
          -0.4395406738823173,
          -0.09589580455010592,
          -0.5769143432904116,
          -0.5306666125617664,
          -0.2983744798586621,
          0.3018978884598359,
          0.6283710491160355,
          -0.6504471816698977,
          -0.7861352845821872,
          -0.5841833488035699,
          -0.6195802452154716,
          -0.648129527738166,
          2.700564359896108,
          -0.3383013362280392,
          0.9496821623788327,
          -0.3374585529801368,
          -0.680155291158458,
          -0.2846792520802478,
          -0.6392803036351906,
          -0.6138914582921302,
          -0.06481817228370422,
          -0.6104149773945328,
          -0.7223998014595667,
          -0.6609819722686779,
          -0.13350500698775136,
          0.7894479973713853,
          0.6055105535166824,
          1.49917684001121,
          -0.5662742047856436,
          1.2531894795296914,
          -0.7177644935961034,
          -0.7349362022721152,
          -0.6729916335512873,
          -0.11401564438000793,
          -0.6803659869704336,
          -0.6437049156866783,
          -0.8141578275749426,
          -0.10400759331116671,
          -0.7656977908205534,
          -0.569750685683241,
          0.18359219003553381,
          -0.5815496511538749,
          -0.18080621677627465,
          -0.38971111435008676,
          -0.6255850758567764,
          0.49068133598997776,
          -0.45839794905413395,
          -0.706808311373372,
          -0.5397265324767173,
          -0.7011195244500307,
          -0.7880315468899676,
          -0.5593212429904486,
          -0.4941108891839989,
          -0.381599325589026,
          0.47593262915168544,
          -0.1476216263901169,
          -0.28625947067006485,
          -0.45386798909665843,
          -0.10168993937943506,
          0.21214147255822824,
          -0.6206337242753496,
          -0.16763772852779935,
          1.3113415236349584,
          0.19317884948042383,
          0.6192057812950966,
          1.7721332644256058,
          0.09488925319380419,
          1.4347039215466748,
          -0.5382516617928881,
          -0.5208692573049007,
          0.5916046299262925,
          -0.5842886967095577,
          0.03463025096878123,
          1.1820796429879248,
          -0.5842886967095577,
          -0.03205497352149768,
          0.41851802038833313,
          -0.6057796695310694,
          -0.19355331340079873,
          -0.46282256110562164,
          1.0212133905445506,
          -0.5974571849580331,
          -0.2933177803712476,
          -0.48842210226065763,
          0.38364786350637053,
          -0.5780731702562775,
          0.5978201563795728,
          -0.6868975571416773,
          -0.6623514950465194,
          -0.48062635721756025,
          -0.35484095746812416,
          -0.2994279589185401,
          1.9897820381964055,
          -0.6852119906458725,
          6.252052966556902,
          -0.5486811044856805,
          0.2990534949981652,
          -0.6975376956464453,
          -0.5625870280760705,
          -0.09800276266986196,
          -0.27593537588326017,
          0.18106384029182654,
          0.3462493568807007,
          -0.21367476344446898,
          1.9346850833647848,
          -0.6519220523537269,
          0.04042438579811036,
          0.7995613963462144,
          0.45928766000561266,
          -0.6240048572669593,
          1.3241939681654702,
          -0.6272706423525811,
          1.5109758054818438,
          -0.6761520707309214,
          1.3960412400491515,
          -0.5692239461533021,
          -0.6256904237627641,
          -0.8146845671048816,
          1.5086581515501123,
          -0.6627728866704705,
          -0.6154716768819473,
          -0.626322511198691,
          -0.7466298198367612,
          -0.5792319972221432,
          -0.3701164038363555,
          -0.6771002018848117,
          0.007766534941891622,
          -0.6623514950465194,
          -0.781394628812736,
          -0.5841833488035699,
          -0.7656977908205534,
          -0.3156515364406617,
          -0.6333808208998737,
          -0.6647744968842388,
          -0.05828660211246047,
          -0.6619301034225681,
          -0.7152361438523961,
          0.5936062401400607,
          -0.5586891555545218,
          -0.6372786934214224,
          0.25701968050903207,
          -0.6115738043603985,
          -0.667302846627946,
          0.05454100520047588,
          -0.4742001349523043,
          0.7847073416019342,
          -0.6676188903459095,
          -0.5366714432030711,
          -0.6719381544914094,
          -0.7141826647925181,
          -0.6878456882955675,
          -0.6977483914584209,
          -0.5939807040604356,
          -0.45839794905413395,
          -0.4329037558050858,
          -0.5001157198253037,
          -0.7045960053476281,
          0.14682577084579077,
          -0.6872136008596407,
          -0.7763379293253215,
          -0.7391501185116273,
          -0.7072297029973231,
          -0.613470066668179,
          -0.3013242212263206,
          -0.3526286514423803,
          -0.4748322223882311,
          -0.7147094043224571,
          -0.3081718351155277,
          1.1305645169598895,
          -0.16268637694637264,
          -0.19502818408462796,
          -0.35694791558788025,
          -0.4920039310642429,
          0.46866362363852704,
          -0.13887775019312928,
          -0.4776766158499018,
          0.06328488139746348,
          0.3114845479047259,
          0.32697069008493285,
          1.1241382946946334,
          -0.6034620155993378,
          0.5557863418904396,
          0.11606418229735248,
          -0.39813894682911094,
          -0.3470452124250268,
          0.45096517543257625,
          -0.5644832903838509,
          0.6705102115111564,
          -0.26571662900244336,
          -0.3203921922101128,
          -0.46050490717389,
          0.8987991237867242,
          -0.29405521571316223,
          -0.33682646554421,
          -0.6803659869704336,
          0.004500749856269749,
          0.8507604786562863,
          -0.7571646104355415,
          2.348386310178885,
          -0.6025138844454476,
          -0.5732271665808385
         ],
         "xaxis": "x",
         "y": [
          0.5235677732188025,
          0.5444576674904322,
          0.40853770606073786,
          -0.6240199250798147,
          -0.05239645455612996,
          0.33406658946901907,
          -0.3523156508845275,
          -0.11398094805820706,
          -0.29140940070295784,
          0.7184949035326458,
          -0.053345995204840395,
          -0.6337866288951222,
          0.8848001657210742,
          0.055851179396860184,
          0.4976588783754177,
          -0.635143115536137,
          0.4096228953735498,
          0.04893309752768413,
          0.07199337042493767,
          -0.44781231041197744,
          -0.1732594142705588,
          -0.6681057409127995,
          -0.5262172382626394,
          4.154475565223423,
          0.5398456129109815,
          -0.21246187819588983,
          -0.6558973611436653,
          -0.6773298500717009,
          1.9923715081097515,
          -0.5013935327320665,
          -0.2965640499388145,
          -0.19767617380882727,
          -0.6074707880594328,
          -0.1370412209554606,
          -0.517807021088347,
          -0.04140891276390916,
          -0.19455625453449296,
          0.6456515709101448,
          1.3473621103071598,
          -0.7109707187688707,
          -0.1986257144575377,
          -0.3704925718741273,
          0.23856992994156911,
          0.7187662008608487,
          0.16694743529598166,
          2.203983424108078,
          1.1221853278986842,
          6.573905138137624,
          0.04825485420717667,
          2.1182534683959355,
          -0.6377204401540654,
          -0.23674298907005678,
          -0.2550555587237581,
          0.634392731789721,
          -0.5897008130621374,
          -0.2866616974594056,
          3.268554139976583,
          0.5611424531749157,
          -0.5190278590652604,
          -0.05917888776120453,
          -0.37320554515615717,
          4.418447865564926,
          0.06087017996861537,
          0.7874044248962033,
          -0.6198148164926686,
          2.05680462355796,
          -0.5781706766135106,
          0.13059359331678194,
          0.19855357403162915,
          -0.40372649457899273,
          -0.5099393985704604,
          -0.6145245185927104,
          -0.08915724252763413,
          -0.06297705035604628,
          0.07416374905056153,
          -0.6320231962618027,
          -0.2996839692131488,
          0.9360753607514379,
          -0.6268685470259461,
          -0.344176731038438,
          -0.6738029848050621,
          0.5078325281830296,
          0.46605273963977023,
          -0.5742368653545674,
          -0.33495262187953656,
          5.480305608151401,
          9.183649786786216,
          -0.10462119023520415,
          -0.7127341514021901,
          -0.2659074518518774,
          -0.7054091235407096,
          -0.4115941170968792,
          2.9402843728509738,
          -0.36710135527159005,
          0.8713709479750266,
          -0.3901616281688436,
          -0.43139882205569696,
          -0.7518009666634197,
          -0.7710630769658314,
          -0.49027034227574423,
          0.2689552307003032,
          0.6801063315919237,
          0.08989899408633453,
          -0.3109428083335726,
          -0.4970527754808188,
          -0.6487079819462862,
          0.07334985706595258,
          0.657859950679279,
          0.3527861051150249,
          1.4830107744086514,
          -0.5627067289059406,
          0.721343525478777,
          -0.4105089277840673,
          -0.4749420432322757,
          -0.6397551701155878,
          -0.6786863367127158,
          -0.44428544514533863,
          -0.25993891063141183,
          -0.5297441035292783,
          -0.4682952586913026,
          -0.6234773304234088,
          -0.34756794764097526,
          -0.7589903458607987,
          0.6745447363637626,
          -0.5635206208905496,
          -0.3151479169207188,
          -0.5366621853984543,
          0.1962475467419038,
          0.413828003960696,
          -0.6606450643872175,
          -0.45690077090677733,
          -0.7063586641894201,
          -0.5106176418909679,
          -0.6449098193514444,
          -0.5309649415061917,
          -0.6114045993183761,
          0.3774741619814963,
          0.3097854785948521,
          -0.20879936426514956,
          -0.11086102878387276,
          -0.20567944499081525,
          1.0113603693277657,
          0.18390351830866808,
          -0.5697604594392182,
          -0.2874755894440146,
          0.3510226724817055,
          -0.5236399136447111,
          -0.32871278333086795,
          -0.7070369075099275,
          -0.5918711916877613,
          -0.5386969153599767,
          -0.3348169732154351,
          -0.6002814088620537,
          0.46849441559359706,
          -0.7787950508196164,
          0.6638284918997447,
          -0.06853864558420744,
          -0.6009596521825612,
          0.10495599580160007,
          0.2587815808926913,
          -0.29100245471065334,
          -0.7130054487303932,
          -0.5117028312037799,
          1.3469551643148554,
          0.24508106581844072,
          0.9301068195309723,
          0.1254389440809253,
          -0.3528582455409334,
          -0.6865539592306023,
          -0.6889956351844292,
          0.3904964337352395,
          2.7218900236475725,
          -0.04303669673312705,
          0.2551190669619511,
          -0.6223921411105968,
          0.27790804253100165,
          0.15758767747297875,
          0.20804898051873355,
          0.17345857117285324,
          -0.12320505721710848,
          0.03251960917140367,
          3.232607243989688,
          0.3712343234328277,
          5.175503059915349,
          -0.6617302537000294,
          0.08840685878121812,
          -0.7155827733483214,
          0.2992048827949358,
          0.2499644177260944,
          0.7841488569577676,
          0.06154842328912283,
          -0.7462393714352585,
          -0.5880730290929196,
          -0.31352013295150094,
          -0.6489792792744892,
          -0.08915724252763413,
          0.1916354921624531,
          0.17644284178308606,
          -0.494068504870586,
          -0.47697677319379805,
          1.0097325853585477,
          1.1669493870521763,
          0.7719404771886333,
          -0.6933363924356769,
          -0.6653927676307696,
          0.8023257779473674,
          -0.6804497693460352,
          -0.14368800549643368,
          -0.2778445342928087,
          0.9404161180026857,
          -0.5292015088728723,
          3.0561283319936474,
          -0.6489792792744892,
          0.1092967530528478,
          0.10237867118367174,
          0.6740021417073565,
          1.4653764480754574,
          -0.5861739477954987,
          0.23165184807239306,
          -0.7364726676199511,
          -0.6643075783179577,
          0.23151619940829157,
          -0.6350074668720356,
          -0.44347155316072967,
          -0.6968632577023156,
          -0.34634710966406185,
          0.016920012799732154,
          -0.4872860716655114,
          -0.707986448158638,
          -0.41376449572250307,
          0.026144121958633568,
          0.6622007079305268,
          -0.5448011052445437,
          -0.1101827854633653,
          -0.4195973882788672,
          0.07918274962231671,
          -0.6750238227819755,
          -0.26563615452367445,
          -0.72182261189699,
          -0.43804560659667,
          -0.3013117531823667,
          -0.5419524832984125,
          -0.6968632577023156,
          -0.3011761045182652,
          0.2684126360438972,
          0.048526151535379654,
          -0.45690077090677733,
          -0.7393212895660825,
          -0.07016642955342534,
          -0.2714690470800386,
          -0.5159079397909261,
          2.3517048193146026,
          -0.5339492121164244,
          0.29364328756677466,
          1.651622063886805,
          -0.7199235305995692,
          -0.10692721752492951,
          -0.5243181569652186,
          -0.1672908730500932,
          -0.11357400206590258,
          -0.12361200320941294,
          -0.635685710192543,
          -0.6001457601979523,
          -0.6350074668720356,
          0.5266876924931368,
          2.40515039297059,
          0.5380821802776622,
          -0.620493059813176,
          0.3061229646641118,
          -0.7512583720070137,
          -0.6462663059924594,
          -0.10706286618903099,
          0.3427481039715145,
          -0.37320554515615717,
          -0.5552460523803586,
          -0.5678613781417973,
          -0.2777088856287072,
          -0.6738029848050621,
          -0.4719577726220429,
          0.054765990084048255,
          -0.39504498007649724,
          0.17793497708820247,
          -0.24840877418278504,
          -0.29615710394651,
          -0.18790946999351987,
          -0.699440582320244,
          -0.4814531791091473,
          -0.5011222354038636,
          -0.7056804208689126,
          -0.747460209412172,
          -0.49325461288597705,
          -0.3312901079487963,
          -0.367643949927996,
          0.7198513901736606,
          -0.5131949665088963,
          -0.5289302115446692,
          -0.6093698693568537,
          -0.3523156508845275,
          -0.16769781904239767,
          -0.6670205515999875,
          0.06059888264041239,
          1.0200418838302612,
          -0.06704651027909103,
          -0.28598345413889814,
          0.22568330685192745,
          0.9689023374639989,
          0.9591356336486915,
          -0.46422579876825787,
          -0.6478940899616773,
          2.0155674296711066,
          -0.5838679205057733,
          -0.46951609666821603,
          -0.2793366695979251,
          -0.6607807130513189,
          -0.5427663752830214,
          1.2460325582233458,
          -0.5997388142056478,
          -0.367372652599793,
          -0.41824090163785227,
          2.614591930343293,
          -0.2848982648260862,
          -0.5289302115446692,
          -0.6895382298408351,
          -0.6582033884333905,
          -0.2996839692131488,
          1.4904714509342334,
          -0.5678613781417973,
          -0.6643075783179577,
          -0.486607828345004,
          -0.5846818124903822,
          -0.5439872132599348,
          1.2323320431490952,
          -0.3500096235948021,
          -0.11072538011977126,
          -0.6603737670590144,
          0.13846121583466844,
          -0.5812905958878449,
          -0.6035369768004896,
          -0.7410847221994018,
          -0.6251051143926267,
          -0.24026985433669557,
          -0.00451247612830349,
          -0.0051907194488109475,
          0.15840156945758768,
          -0.6272754930182506,
          -0.43329790335311785,
          0.1550103528550504,
          0.1882442755599158,
          -0.4634119067836489,
          1.1997763637647372,
          -0.6371778454976594,
          0.5761994548901812,
          -0.636228304848949,
          0.0634475045865437,
          0.2165948463571275,
          -0.6876391485434142,
          -0.7680788063555987,
          -0.613303680615797,
          1.7454909394450373,
          0.011087120243368023,
          -0.39667276404571516,
          -0.7039169882355932,
          -0.5690822161187108,
          -0.6510140092360116,
          -0.6678344435845965,
          0.044999286268740876,
          -0.485522639032192,
          -0.6649858216384652,
          -0.6240199250798147,
          -0.7405421275429959,
          -0.25125739612891634,
          -0.5302866981856842,
          -0.27065515509542964,
          0.062497963937833266,
          -0.48023234113223384,
          -0.589565164398036,
          0.3843922438506724,
          -0.35841984076909456,
          -0.33942902779488576,
          -0.08576602592509684,
          -0.6582033884333905,
          -0.16349271045525143,
          0.22229209024939015,
          -0.6012309495107642,
          2.178752772585201,
          -0.6611876590436234,
          -0.29520756329779957,
          -0.526352886926741,
          -0.6712256601871338,
          -0.5787132712699167,
          -0.6260546550413372,
          -0.4117297657609807,
          -0.2192443114009644,
          0.1266597820578387,
          -0.6689196328974084,
          -0.6077420853876357,
          0.8403074038957851,
          -0.5602650529521138,
          -0.6462663059924594,
          -0.707986448158638,
          -0.6633580376692473,
          -0.40630381919692105,
          -0.14151762687080982,
          0.7066934697558159,
          -0.1605084398450186,
          -0.6443672246950385,
          -0.10665592019672653,
          0.9560157143743572,
          -0.25993891063141183,
          -0.2933084820003787,
          -0.5019361273884725,
          -0.34010727111539324,
          -0.29724229325932194,
          -0.12713886847605171,
          -0.5163148857832306,
          0.03387609581241858,
          0.6977406579251175,
          -0.04032372345109722,
          0.36594402553286953,
          -0.27309683104925647,
          -0.07192986218674473,
          -0.12876665244526964,
          -0.5994675168774448,
          -0.28625475146710117,
          -0.39504498007649724,
          -0.4596137441888072,
          0.48165233601144175,
          1.4773135305163887,
          0.023566797340705232,
          -0.5488705651675885,
          -0.21246187819588983,
          -0.03937418280238678,
          -0.6286319796592654,
          -0.3497383262665991,
          -0.25424166673914916,
          0.8484463237418745,
          -0.5921424890159643,
          1.3146707822587005,
          -0.517535723760144,
          -0.5559242957008661
         ],
         "yaxis": "y"
        }
       ],
       "layout": {
        "coloraxis": {
         "colorbar": {
          "title": {
           "text": "Cluster"
          }
         },
         "colorscale": [
          [
           0,
           "#0d0887"
          ],
          [
           0.1111111111111111,
           "#46039f"
          ],
          [
           0.2222222222222222,
           "#7201a8"
          ],
          [
           0.3333333333333333,
           "#9c179e"
          ],
          [
           0.4444444444444444,
           "#bd3786"
          ],
          [
           0.5555555555555556,
           "#d8576b"
          ],
          [
           0.6666666666666666,
           "#ed7953"
          ],
          [
           0.7777777777777778,
           "#fb9f3a"
          ],
          [
           0.8888888888888888,
           "#fdca26"
          ],
          [
           1,
           "#f0f921"
          ]
         ]
        },
        "legend": {
         "tracegroupgap": 0
        },
        "template": {
         "data": {
          "bar": [
           {
            "error_x": {
             "color": "#2a3f5f"
            },
            "error_y": {
             "color": "#2a3f5f"
            },
            "marker": {
             "line": {
              "color": "white",
              "width": 0.5
             },
             "pattern": {
              "fillmode": "overlay",
              "size": 10,
              "solidity": 0.2
             }
            },
            "type": "bar"
           }
          ],
          "barpolar": [
           {
            "marker": {
             "line": {
              "color": "white",
              "width": 0.5
             },
             "pattern": {
              "fillmode": "overlay",
              "size": 10,
              "solidity": 0.2
             }
            },
            "type": "barpolar"
           }
          ],
          "carpet": [
           {
            "aaxis": {
             "endlinecolor": "#2a3f5f",
             "gridcolor": "#C8D4E3",
             "linecolor": "#C8D4E3",
             "minorgridcolor": "#C8D4E3",
             "startlinecolor": "#2a3f5f"
            },
            "baxis": {
             "endlinecolor": "#2a3f5f",
             "gridcolor": "#C8D4E3",
             "linecolor": "#C8D4E3",
             "minorgridcolor": "#C8D4E3",
             "startlinecolor": "#2a3f5f"
            },
            "type": "carpet"
           }
          ],
          "choropleth": [
           {
            "colorbar": {
             "outlinewidth": 0,
             "ticks": ""
            },
            "type": "choropleth"
           }
          ],
          "contour": [
           {
            "colorbar": {
             "outlinewidth": 0,
             "ticks": ""
            },
            "colorscale": [
             [
              0,
              "#0d0887"
             ],
             [
              0.1111111111111111,
              "#46039f"
             ],
             [
              0.2222222222222222,
              "#7201a8"
             ],
             [
              0.3333333333333333,
              "#9c179e"
             ],
             [
              0.4444444444444444,
              "#bd3786"
             ],
             [
              0.5555555555555556,
              "#d8576b"
             ],
             [
              0.6666666666666666,
              "#ed7953"
             ],
             [
              0.7777777777777778,
              "#fb9f3a"
             ],
             [
              0.8888888888888888,
              "#fdca26"
             ],
             [
              1,
              "#f0f921"
             ]
            ],
            "type": "contour"
           }
          ],
          "contourcarpet": [
           {
            "colorbar": {
             "outlinewidth": 0,
             "ticks": ""
            },
            "type": "contourcarpet"
           }
          ],
          "heatmap": [
           {
            "colorbar": {
             "outlinewidth": 0,
             "ticks": ""
            },
            "colorscale": [
             [
              0,
              "#0d0887"
             ],
             [
              0.1111111111111111,
              "#46039f"
             ],
             [
              0.2222222222222222,
              "#7201a8"
             ],
             [
              0.3333333333333333,
              "#9c179e"
             ],
             [
              0.4444444444444444,
              "#bd3786"
             ],
             [
              0.5555555555555556,
              "#d8576b"
             ],
             [
              0.6666666666666666,
              "#ed7953"
             ],
             [
              0.7777777777777778,
              "#fb9f3a"
             ],
             [
              0.8888888888888888,
              "#fdca26"
             ],
             [
              1,
              "#f0f921"
             ]
            ],
            "type": "heatmap"
           }
          ],
          "heatmapgl": [
           {
            "colorbar": {
             "outlinewidth": 0,
             "ticks": ""
            },
            "colorscale": [
             [
              0,
              "#0d0887"
             ],
             [
              0.1111111111111111,
              "#46039f"
             ],
             [
              0.2222222222222222,
              "#7201a8"
             ],
             [
              0.3333333333333333,
              "#9c179e"
             ],
             [
              0.4444444444444444,
              "#bd3786"
             ],
             [
              0.5555555555555556,
              "#d8576b"
             ],
             [
              0.6666666666666666,
              "#ed7953"
             ],
             [
              0.7777777777777778,
              "#fb9f3a"
             ],
             [
              0.8888888888888888,
              "#fdca26"
             ],
             [
              1,
              "#f0f921"
             ]
            ],
            "type": "heatmapgl"
           }
          ],
          "histogram": [
           {
            "marker": {
             "pattern": {
              "fillmode": "overlay",
              "size": 10,
              "solidity": 0.2
             }
            },
            "type": "histogram"
           }
          ],
          "histogram2d": [
           {
            "colorbar": {
             "outlinewidth": 0,
             "ticks": ""
            },
            "colorscale": [
             [
              0,
              "#0d0887"
             ],
             [
              0.1111111111111111,
              "#46039f"
             ],
             [
              0.2222222222222222,
              "#7201a8"
             ],
             [
              0.3333333333333333,
              "#9c179e"
             ],
             [
              0.4444444444444444,
              "#bd3786"
             ],
             [
              0.5555555555555556,
              "#d8576b"
             ],
             [
              0.6666666666666666,
              "#ed7953"
             ],
             [
              0.7777777777777778,
              "#fb9f3a"
             ],
             [
              0.8888888888888888,
              "#fdca26"
             ],
             [
              1,
              "#f0f921"
             ]
            ],
            "type": "histogram2d"
           }
          ],
          "histogram2dcontour": [
           {
            "colorbar": {
             "outlinewidth": 0,
             "ticks": ""
            },
            "colorscale": [
             [
              0,
              "#0d0887"
             ],
             [
              0.1111111111111111,
              "#46039f"
             ],
             [
              0.2222222222222222,
              "#7201a8"
             ],
             [
              0.3333333333333333,
              "#9c179e"
             ],
             [
              0.4444444444444444,
              "#bd3786"
             ],
             [
              0.5555555555555556,
              "#d8576b"
             ],
             [
              0.6666666666666666,
              "#ed7953"
             ],
             [
              0.7777777777777778,
              "#fb9f3a"
             ],
             [
              0.8888888888888888,
              "#fdca26"
             ],
             [
              1,
              "#f0f921"
             ]
            ],
            "type": "histogram2dcontour"
           }
          ],
          "mesh3d": [
           {
            "colorbar": {
             "outlinewidth": 0,
             "ticks": ""
            },
            "type": "mesh3d"
           }
          ],
          "parcoords": [
           {
            "line": {
             "colorbar": {
              "outlinewidth": 0,
              "ticks": ""
             }
            },
            "type": "parcoords"
           }
          ],
          "pie": [
           {
            "automargin": true,
            "type": "pie"
           }
          ],
          "scatter": [
           {
            "fillpattern": {
             "fillmode": "overlay",
             "size": 10,
             "solidity": 0.2
            },
            "type": "scatter"
           }
          ],
          "scatter3d": [
           {
            "line": {
             "colorbar": {
              "outlinewidth": 0,
              "ticks": ""
             }
            },
            "marker": {
             "colorbar": {
              "outlinewidth": 0,
              "ticks": ""
             }
            },
            "type": "scatter3d"
           }
          ],
          "scattercarpet": [
           {
            "marker": {
             "colorbar": {
              "outlinewidth": 0,
              "ticks": ""
             }
            },
            "type": "scattercarpet"
           }
          ],
          "scattergeo": [
           {
            "marker": {
             "colorbar": {
              "outlinewidth": 0,
              "ticks": ""
             }
            },
            "type": "scattergeo"
           }
          ],
          "scattergl": [
           {
            "marker": {
             "colorbar": {
              "outlinewidth": 0,
              "ticks": ""
             }
            },
            "type": "scattergl"
           }
          ],
          "scattermapbox": [
           {
            "marker": {
             "colorbar": {
              "outlinewidth": 0,
              "ticks": ""
             }
            },
            "type": "scattermapbox"
           }
          ],
          "scatterpolar": [
           {
            "marker": {
             "colorbar": {
              "outlinewidth": 0,
              "ticks": ""
             }
            },
            "type": "scatterpolar"
           }
          ],
          "scatterpolargl": [
           {
            "marker": {
             "colorbar": {
              "outlinewidth": 0,
              "ticks": ""
             }
            },
            "type": "scatterpolargl"
           }
          ],
          "scatterternary": [
           {
            "marker": {
             "colorbar": {
              "outlinewidth": 0,
              "ticks": ""
             }
            },
            "type": "scatterternary"
           }
          ],
          "surface": [
           {
            "colorbar": {
             "outlinewidth": 0,
             "ticks": ""
            },
            "colorscale": [
             [
              0,
              "#0d0887"
             ],
             [
              0.1111111111111111,
              "#46039f"
             ],
             [
              0.2222222222222222,
              "#7201a8"
             ],
             [
              0.3333333333333333,
              "#9c179e"
             ],
             [
              0.4444444444444444,
              "#bd3786"
             ],
             [
              0.5555555555555556,
              "#d8576b"
             ],
             [
              0.6666666666666666,
              "#ed7953"
             ],
             [
              0.7777777777777778,
              "#fb9f3a"
             ],
             [
              0.8888888888888888,
              "#fdca26"
             ],
             [
              1,
              "#f0f921"
             ]
            ],
            "type": "surface"
           }
          ],
          "table": [
           {
            "cells": {
             "fill": {
              "color": "#EBF0F8"
             },
             "line": {
              "color": "white"
             }
            },
            "header": {
             "fill": {
              "color": "#C8D4E3"
             },
             "line": {
              "color": "white"
             }
            },
            "type": "table"
           }
          ]
         },
         "layout": {
          "annotationdefaults": {
           "arrowcolor": "#2a3f5f",
           "arrowhead": 0,
           "arrowwidth": 1
          },
          "autotypenumbers": "strict",
          "coloraxis": {
           "colorbar": {
            "outlinewidth": 0,
            "ticks": ""
           }
          },
          "colorscale": {
           "diverging": [
            [
             0,
             "#8e0152"
            ],
            [
             0.1,
             "#c51b7d"
            ],
            [
             0.2,
             "#de77ae"
            ],
            [
             0.3,
             "#f1b6da"
            ],
            [
             0.4,
             "#fde0ef"
            ],
            [
             0.5,
             "#f7f7f7"
            ],
            [
             0.6,
             "#e6f5d0"
            ],
            [
             0.7,
             "#b8e186"
            ],
            [
             0.8,
             "#7fbc41"
            ],
            [
             0.9,
             "#4d9221"
            ],
            [
             1,
             "#276419"
            ]
           ],
           "sequential": [
            [
             0,
             "#0d0887"
            ],
            [
             0.1111111111111111,
             "#46039f"
            ],
            [
             0.2222222222222222,
             "#7201a8"
            ],
            [
             0.3333333333333333,
             "#9c179e"
            ],
            [
             0.4444444444444444,
             "#bd3786"
            ],
            [
             0.5555555555555556,
             "#d8576b"
            ],
            [
             0.6666666666666666,
             "#ed7953"
            ],
            [
             0.7777777777777778,
             "#fb9f3a"
            ],
            [
             0.8888888888888888,
             "#fdca26"
            ],
            [
             1,
             "#f0f921"
            ]
           ],
           "sequentialminus": [
            [
             0,
             "#0d0887"
            ],
            [
             0.1111111111111111,
             "#46039f"
            ],
            [
             0.2222222222222222,
             "#7201a8"
            ],
            [
             0.3333333333333333,
             "#9c179e"
            ],
            [
             0.4444444444444444,
             "#bd3786"
            ],
            [
             0.5555555555555556,
             "#d8576b"
            ],
            [
             0.6666666666666666,
             "#ed7953"
            ],
            [
             0.7777777777777778,
             "#fb9f3a"
            ],
            [
             0.8888888888888888,
             "#fdca26"
            ],
            [
             1,
             "#f0f921"
            ]
           ]
          },
          "colorway": [
           "#636efa",
           "#EF553B",
           "#00cc96",
           "#ab63fa",
           "#FFA15A",
           "#19d3f3",
           "#FF6692",
           "#B6E880",
           "#FF97FF",
           "#FECB52"
          ],
          "font": {
           "color": "#2a3f5f"
          },
          "geo": {
           "bgcolor": "white",
           "lakecolor": "white",
           "landcolor": "white",
           "showlakes": true,
           "showland": true,
           "subunitcolor": "#C8D4E3"
          },
          "hoverlabel": {
           "align": "left"
          },
          "hovermode": "closest",
          "mapbox": {
           "style": "light"
          },
          "paper_bgcolor": "white",
          "plot_bgcolor": "white",
          "polar": {
           "angularaxis": {
            "gridcolor": "#EBF0F8",
            "linecolor": "#EBF0F8",
            "ticks": ""
           },
           "bgcolor": "white",
           "radialaxis": {
            "gridcolor": "#EBF0F8",
            "linecolor": "#EBF0F8",
            "ticks": ""
           }
          },
          "scene": {
           "xaxis": {
            "backgroundcolor": "white",
            "gridcolor": "#DFE8F3",
            "gridwidth": 2,
            "linecolor": "#EBF0F8",
            "showbackground": true,
            "ticks": "",
            "zerolinecolor": "#EBF0F8"
           },
           "yaxis": {
            "backgroundcolor": "white",
            "gridcolor": "#DFE8F3",
            "gridwidth": 2,
            "linecolor": "#EBF0F8",
            "showbackground": true,
            "ticks": "",
            "zerolinecolor": "#EBF0F8"
           },
           "zaxis": {
            "backgroundcolor": "white",
            "gridcolor": "#DFE8F3",
            "gridwidth": 2,
            "linecolor": "#EBF0F8",
            "showbackground": true,
            "ticks": "",
            "zerolinecolor": "#EBF0F8"
           }
          },
          "shapedefaults": {
           "line": {
            "color": "#2a3f5f"
           }
          },
          "ternary": {
           "aaxis": {
            "gridcolor": "#DFE8F3",
            "linecolor": "#A2B1C6",
            "ticks": ""
           },
           "baxis": {
            "gridcolor": "#DFE8F3",
            "linecolor": "#A2B1C6",
            "ticks": ""
           },
           "bgcolor": "white",
           "caxis": {
            "gridcolor": "#DFE8F3",
            "linecolor": "#A2B1C6",
            "ticks": ""
           }
          },
          "title": {
           "x": 0.05
          },
          "xaxis": {
           "automargin": true,
           "gridcolor": "#EBF0F8",
           "linecolor": "#EBF0F8",
           "ticks": "",
           "title": {
            "standoff": 15
           },
           "zerolinecolor": "#EBF0F8",
           "zerolinewidth": 2
          },
          "yaxis": {
           "automargin": true,
           "gridcolor": "#EBF0F8",
           "linecolor": "#EBF0F8",
           "ticks": "",
           "title": {
            "standoff": 15
           },
           "zerolinecolor": "#EBF0F8",
           "zerolinewidth": 2
          }
         }
        },
        "title": {
         "text": "Résultats de DBSCAN"
        },
        "xaxis": {
         "anchor": "y",
         "domain": [
          0,
          1
         ],
         "title": {
          "text": "0"
         }
        },
        "yaxis": {
         "anchor": "x",
         "domain": [
          0,
          1
         ],
         "title": {
          "text": "1"
         }
        }
       }
      }
     },
     "metadata": {},
     "output_type": "display_data"
    }
   ],
   "source": [
    "# Création du graphique de dispersion\n",
    "fig = px.scatter(\n",
    "    dataset_scaled,\n",
    "    x=0,                           # Colonne ou index pour l'axe X\n",
    "    y=1,                           # Colonne ou index pour l'axe Y\n",
    "    color=dataset_predict,            # Labels des clusters pour la couleur\n",
    "    title=\"Résultats de DBSCAN\",   # Titre du graphique\n",
    "    labels={\"x\": \"Feature 0\", \"y\": \"Feature 1\", \"color\": \"Cluster\"},  # Étiquettes\n",
    "    template=\"plotly_white\"        # Template pour un rendu propre\n",
    ")\n",
    "\n",
    "# Affichage du graphique\n",
    "fig.show()"
   ]
  },
  {
   "cell_type": "code",
   "execution_count": 71,
   "metadata": {},
   "outputs": [
    {
     "data": {
      "application/vnd.plotly.v1+json": {
       "config": {
        "plotlyServerURL": "https://plot.ly"
       },
       "data": [
        {
         "hovertemplate": "0=%{x}<br>1=%{y}<br>color=%{marker.color}<extra></extra>",
         "legendgroup": "",
         "marker": {
          "color": [
           0,
           0,
           0,
           0,
           0,
           0,
           0,
           0,
           0,
           0,
           0,
           0,
           0,
           0,
           0,
           0,
           0,
           0,
           0,
           0,
           0,
           0,
           0,
           0,
           0,
           0,
           0,
           0,
           0,
           0,
           0,
           0,
           0,
           0,
           0,
           0,
           0,
           0,
           0,
           0,
           0,
           0,
           0,
           0,
           0,
           0,
           0,
           0,
           0,
           0,
           0,
           0,
           0,
           0,
           0,
           0,
           0,
           0,
           0,
           0,
           0,
           0,
           0,
           0,
           0,
           0,
           0,
           0,
           0,
           0,
           0,
           0,
           0,
           0,
           0,
           0,
           0,
           0,
           0,
           0,
           0,
           0,
           0,
           0,
           0,
           0,
           0,
           0,
           0,
           0,
           0,
           0,
           0,
           0,
           0,
           0,
           0,
           0,
           0,
           0,
           0,
           0,
           0,
           0,
           0,
           0,
           0,
           0,
           0,
           0,
           0,
           0,
           0,
           0,
           0,
           0,
           0,
           0,
           0,
           0,
           0,
           0,
           0,
           0,
           0,
           0,
           0,
           0,
           0,
           0,
           0,
           0,
           0,
           0,
           0,
           0,
           0,
           0,
           0,
           0,
           0,
           0,
           0,
           0,
           0,
           0,
           0,
           0,
           0,
           0,
           0,
           0,
           0,
           0,
           0,
           0,
           0,
           0,
           0,
           0,
           0,
           0,
           0,
           0,
           0,
           0,
           0,
           0,
           0,
           0,
           0,
           0,
           0,
           0,
           0,
           0,
           0,
           0,
           0,
           0,
           0,
           0,
           0,
           0,
           0,
           0,
           0,
           0,
           0,
           0,
           0,
           0,
           0,
           0,
           0,
           0,
           0,
           0,
           0,
           0,
           0,
           0,
           0,
           0,
           0,
           0,
           0,
           0,
           0,
           0,
           0,
           0,
           0,
           0,
           0,
           0,
           0,
           0,
           0,
           0,
           0,
           0,
           0,
           0,
           0,
           0,
           0,
           0,
           0,
           0,
           0,
           0,
           0,
           0,
           0,
           0,
           0,
           0,
           0,
           0,
           0,
           0,
           0,
           0,
           0,
           0,
           0,
           0,
           0,
           0,
           0,
           0,
           0,
           0,
           0,
           0,
           0,
           0,
           0,
           0,
           0,
           0,
           0,
           0,
           0,
           0,
           0,
           0,
           0,
           0,
           0,
           0,
           0,
           0,
           0,
           0,
           0,
           0,
           0,
           0,
           0,
           0,
           0,
           0,
           0,
           0,
           0,
           0,
           0,
           0,
           0,
           0,
           0,
           0,
           0,
           0,
           0,
           0,
           0,
           0,
           0,
           0,
           0,
           0,
           0,
           0,
           0,
           0,
           0,
           0,
           0,
           0,
           0,
           0,
           0,
           0,
           0,
           0,
           0,
           0,
           0,
           0,
           0,
           0,
           0,
           0,
           0,
           0,
           0,
           0,
           0,
           0,
           0,
           0,
           0,
           0,
           0,
           0,
           0,
           0,
           0,
           0,
           0,
           0,
           0,
           0,
           0,
           0,
           0,
           0,
           0,
           0,
           0,
           0,
           0,
           0,
           0,
           0,
           0,
           0,
           0,
           0,
           0,
           0,
           0,
           0,
           0,
           0,
           0,
           0,
           0,
           0,
           0,
           0,
           0,
           0,
           0,
           0,
           0,
           0,
           0,
           0,
           0,
           0,
           0,
           0,
           0,
           0,
           0,
           0,
           0,
           0,
           0,
           0,
           0,
           0,
           0,
           0,
           0,
           0,
           0,
           0,
           0,
           0,
           0,
           0,
           0,
           0,
           0,
           0,
           0,
           0,
           0,
           0,
           0,
           0,
           0,
           0,
           0,
           0,
           0,
           0,
           0,
           0,
           0,
           0,
           0,
           0,
           0,
           0,
           0,
           0,
           0,
           0,
           0,
           0,
           0,
           0,
           0,
           0
          ],
          "coloraxis": "coloraxis",
          "symbol": "circle"
         },
         "mode": "markers",
         "name": "",
         "orientation": "v",
         "showlegend": false,
         "type": "scatter",
         "x": [
          -0.04111489343644868,
          0.1703183538810707,
          -0.02815710099994899,
          -0.3929768994357086,
          -0.07935618331002095,
          -0.2976370445167475,
          -0.10284876634530088,
          0.15535895123080276,
          -0.18533617673375014,
          1.1514234023454744,
          0.5291333216755256,
          -0.3611618318273923,
          0.4009249200883701,
          0.7406719168990328,
          0.4361111206882961,
          -0.4351160618308296,
          0.4392715578679302,
          -0.5286650023479981,
          0.22625809196059377,
          0.15936217165833924,
          -0.35283934725435595,
          -0.6259011195747397,
          -0.36685061875073366,
          1.4820051313351983,
          0.615307908773548,
          -0.037533064632863405,
          -0.5362500515791199,
          -0.5168660368773642,
          1.8968651851151639,
          -0.562797723888046,
          0.33244878119629856,
          -0.5075954211504377,
          -0.5336163539294249,
          -0.06587165134358225,
          -0.5993534472658135,
          0.33076321470049375,
          -0.2658219769084312,
          0.4767754123995878,
          0.9226077505399676,
          -0.7426265994092247,
          -0.3365104218262466,
          -0.2101982825468715,
          0.7384596108732889,
          1.6904886372850592,
          0.26544751298805624,
          1.4305953532131506,
          1.4752628653519788,
          5.016638073037943,
          0.3072706316652138,
          2.20911637846301,
          -0.6290615567543738,
          -0.10063646031955703,
          -0.2186261150258957,
          0.37722164124111457,
          -0.6325380376519713,
          -0.31038414114127155,
          1.9926264316580762,
          0.2671330794838611,
          -0.6640370615423242,
          0.009346753531708657,
          -0.010247956982022586,
          5.440874090450824,
          -0.14825371382604371,
          0.82421280634736,
          -0.49526971614986476,
          3.990233424998785,
          -0.056284991898692224,
          0.5805430997975732,
          -0.41699622200092756,
          -0.701435568167994,
          -0.5003264156372793,
          1.3790802271851152,
          -0.5573196327766804,
          0.08024589426149967,
          0.19412698063431405,
          -0.8373343668922592,
          -0.14951788869789734,
          2.1689788262816574,
          -0.619896288933435,
          -0.4526038142248048,
          -0.5206585614929251,
          0.6796754793320953,
          0.32212468640949393,
          -0.6498150942339709,
          -0.3305055911849418,
          8.936528306938083,
          2.545492242282063,
          0.01745854229276944,
          -0.41183417460752525,
          -0.2761460716952358,
          -0.6650905406022022,
          -0.5711202084610825,
          2.537064409803039,
          -0.6204230284633739,
          0.3552039288896639,
          -0.17901530237448202,
          0.017563890198757245,
          -0.7733881879576631,
          -0.7556897397517123,
          -0.6365412580795078,
          0.44169455970564964,
          0.8760439760933588,
          -0.02889453634186361,
          0.10057804011714552,
          -0.4747268744822433,
          -0.41941922383864705,
          0.2899935750832142,
          0.7305585179242038,
          -0.10221667890937407,
          2.215963992352217,
          -0.6591910578668853,
          1.0132069496894776,
          -0.5775464307263384,
          -0.655082489533361,
          -0.6269545986346178,
          -0.522870867518669,
          -0.4842081860211455,
          -0.2708786763958457,
          -0.5888186566670333,
          -0.6114684564544108,
          -0.47820335537984077,
          -0.6798392474404945,
          -0.8118401736432109,
          0.09088603276626771,
          -0.5257152609803396,
          -0.08946958228484998,
          -0.6629835824824462,
          0.28799196486944595,
          -0.434905366018854,
          -0.6785750725686409,
          -0.7640122243247487,
          -0.8045711681300526,
          -0.5764929516664604,
          -0.7075457467152866,
          -0.6086240629927401,
          -0.5646939861958266,
          -0.09705463151597175,
          0.03484094678075683,
          -0.3073290518676253,
          -0.48547236089299917,
          -0.0680839573693261,
          -0.29100012643951595,
          0.03178585750711056,
          -0.7221891056475911,
          -0.6282187735064714,
          2.8276139345173976,
          -0.6083080192747767,
          -0.5524736291012414,
          -0.7805518455648336,
          -0.6637210178243608,
          -0.6517113565417513,
          -0.6246369447028861,
          -0.507384725338462,
          -0.5881865692311065,
          -0.8232177474898936,
          1.212419839912412,
          0.7272927328385819,
          -0.5770196911963994,
          0.17558574918046083,
          0.7090675451026921,
          0.5131204399653797,
          -0.8078369532156744,
          -0.4362748887966954,
          1.9930478232820275,
          0.06665601438907315,
          1.2543483064955572,
          0.12838988729792536,
          -0.4933734538420843,
          -0.7530560421020172,
          -0.6106256732065084,
          0.5771719668059635,
          1.2499236944440695,
          -0.14909649707394612,
          1.2487648674782037,
          -0.28552203532815024,
          0.413250625088943,
          -0.14909649707394612,
          -0.3601083527675143,
          -0.3167050155005397,
          -0.5742806456407166,
          0.09857642990337728,
          1.0742033872564152,
          0.270398864569483,
          1.2872168531637516,
          -0.34146177340767325,
          -0.7176591456901156,
          -0.7476832988966393,
          0.1967606782840091,
          0.39355056666922394,
          0.37616816218123655,
          -0.628956208848386,
          -0.6921649524410675,
          -0.6005122742316793,
          1.3000692976942634,
          -0.5243457382024982,
          -0.286680862294016,
          -0.32176171498795425,
          0.25701968050903207,
          -0.11875630014945904,
          -0.6151556331639839,
          1.5987306111696833,
          1.7652856505363985,
          0.16210121721402213,
          -0.6041994509412524,
          -0.28710225391796723,
          1.6481387790779625,
          -0.7375698999218102,
          -0.1961870110504938,
          -0.2226293354534322,
          0.92871792908726,
          -0.6909007775692138,
          3.344029369669605,
          -0.6204230284633739,
          -0.11485842762791035,
          0.3595231930351638,
          0.7992453526282509,
          3.006073287260735,
          -0.6221085949591788,
          0.7641644999343128,
          -0.6912168212871772,
          -0.6920596045350796,
          0.28388339653592165,
          -0.5367767911090588,
          -0.28299368558444293,
          -0.6797338995345067,
          -0.399719165418928,
          0.13281449934941306,
          -0.6729916335512873,
          -0.7773914083851995,
          -0.5741752977347288,
          -0.24612191848871212,
          -0.434378626488915,
          -0.43332514742903694,
          -0.4883167543546698,
          -0.433851886958976,
          -0.5401479241006686,
          -0.5166553410653887,
          -0.7751791023594556,
          -0.7760218856073581,
          -0.4395406738823173,
          -0.09589580455010592,
          -0.5769143432904116,
          -0.5306666125617664,
          -0.2983744798586621,
          0.3018978884598359,
          0.6283710491160355,
          -0.6504471816698977,
          -0.7861352845821872,
          -0.5841833488035699,
          -0.6195802452154716,
          -0.648129527738166,
          2.700564359896108,
          -0.3383013362280392,
          0.9496821623788327,
          -0.3374585529801368,
          -0.680155291158458,
          -0.2846792520802478,
          -0.6392803036351906,
          -0.6138914582921302,
          -0.06481817228370422,
          -0.6104149773945328,
          -0.7223998014595667,
          -0.6609819722686779,
          -0.13350500698775136,
          0.7894479973713853,
          0.6055105535166824,
          1.49917684001121,
          -0.5662742047856436,
          1.2531894795296914,
          -0.7177644935961034,
          -0.7349362022721152,
          -0.6729916335512873,
          -0.11401564438000793,
          -0.6803659869704336,
          -0.6437049156866783,
          -0.8141578275749426,
          -0.10400759331116671,
          -0.7656977908205534,
          -0.569750685683241,
          0.18359219003553381,
          -0.5815496511538749,
          -0.18080621677627465,
          -0.38971111435008676,
          -0.6255850758567764,
          0.49068133598997776,
          -0.45839794905413395,
          -0.706808311373372,
          -0.5397265324767173,
          -0.7011195244500307,
          -0.7880315468899676,
          -0.5593212429904486,
          -0.4941108891839989,
          -0.381599325589026,
          0.47593262915168544,
          -0.1476216263901169,
          -0.28625947067006485,
          -0.45386798909665843,
          -0.10168993937943506,
          0.21214147255822824,
          -0.6206337242753496,
          -0.16763772852779935,
          1.3113415236349584,
          0.19317884948042383,
          0.6192057812950966,
          1.7721332644256058,
          0.09488925319380419,
          1.4347039215466748,
          -0.5382516617928881,
          -0.5208692573049007,
          0.5916046299262925,
          -0.5842886967095577,
          0.03463025096878123,
          1.1820796429879248,
          -0.5842886967095577,
          -0.03205497352149768,
          0.41851802038833313,
          -0.6057796695310694,
          -0.19355331340079873,
          -0.46282256110562164,
          1.0212133905445506,
          -0.5974571849580331,
          -0.2933177803712476,
          -0.48842210226065763,
          0.38364786350637053,
          -0.5780731702562775,
          0.5978201563795728,
          -0.6868975571416773,
          -0.6623514950465194,
          -0.48062635721756025,
          -0.35484095746812416,
          -0.2994279589185401,
          1.9897820381964055,
          -0.6852119906458725,
          6.252052966556902,
          -0.5486811044856805,
          0.2990534949981652,
          -0.6975376956464453,
          -0.5625870280760705,
          -0.09800276266986196,
          -0.27593537588326017,
          0.18106384029182654,
          0.3462493568807007,
          -0.21367476344446898,
          1.9346850833647848,
          -0.6519220523537269,
          0.04042438579811036,
          0.7995613963462144,
          0.45928766000561266,
          -0.6240048572669593,
          1.3241939681654702,
          -0.6272706423525811,
          1.5109758054818438,
          -0.6761520707309214,
          1.3960412400491515,
          -0.5692239461533021,
          -0.6256904237627641,
          -0.8146845671048816,
          1.5086581515501123,
          -0.6627728866704705,
          -0.6154716768819473,
          -0.626322511198691,
          -0.7466298198367612,
          -0.5792319972221432,
          -0.3701164038363555,
          -0.6771002018848117,
          0.007766534941891622,
          -0.6623514950465194,
          -0.781394628812736,
          -0.5841833488035699,
          -0.7656977908205534,
          -0.3156515364406617,
          -0.6333808208998737,
          -0.6647744968842388,
          -0.05828660211246047,
          -0.6619301034225681,
          -0.7152361438523961,
          0.5936062401400607,
          -0.5586891555545218,
          -0.6372786934214224,
          0.25701968050903207,
          -0.6115738043603985,
          -0.667302846627946,
          0.05454100520047588,
          -0.4742001349523043,
          0.7847073416019342,
          -0.6676188903459095,
          -0.5366714432030711,
          -0.6719381544914094,
          -0.7141826647925181,
          -0.6878456882955675,
          -0.6977483914584209,
          -0.5939807040604356,
          -0.45839794905413395,
          -0.4329037558050858,
          -0.5001157198253037,
          -0.7045960053476281,
          0.14682577084579077,
          -0.6872136008596407,
          -0.7763379293253215,
          -0.7391501185116273,
          -0.7072297029973231,
          -0.613470066668179,
          -0.3013242212263206,
          -0.3526286514423803,
          -0.4748322223882311,
          -0.7147094043224571,
          -0.3081718351155277,
          1.1305645169598895,
          -0.16268637694637264,
          -0.19502818408462796,
          -0.35694791558788025,
          -0.4920039310642429,
          0.46866362363852704,
          -0.13887775019312928,
          -0.4776766158499018,
          0.06328488139746348,
          0.3114845479047259,
          0.32697069008493285,
          1.1241382946946334,
          -0.6034620155993378,
          0.5557863418904396,
          0.11606418229735248,
          -0.39813894682911094,
          -0.3470452124250268,
          0.45096517543257625,
          -0.5644832903838509,
          0.6705102115111564,
          -0.26571662900244336,
          -0.3203921922101128,
          -0.46050490717389,
          0.8987991237867242,
          -0.29405521571316223,
          -0.33682646554421,
          -0.6803659869704336,
          0.004500749856269749,
          0.8507604786562863,
          -0.7571646104355415,
          2.348386310178885,
          -0.6025138844454476,
          -0.5732271665808385
         ],
         "xaxis": "x",
         "y": [
          0.5235677732188025,
          0.5444576674904322,
          0.40853770606073786,
          -0.6240199250798147,
          -0.05239645455612996,
          0.33406658946901907,
          -0.3523156508845275,
          -0.11398094805820706,
          -0.29140940070295784,
          0.7184949035326458,
          -0.053345995204840395,
          -0.6337866288951222,
          0.8848001657210742,
          0.055851179396860184,
          0.4976588783754177,
          -0.635143115536137,
          0.4096228953735498,
          0.04893309752768413,
          0.07199337042493767,
          -0.44781231041197744,
          -0.1732594142705588,
          -0.6681057409127995,
          -0.5262172382626394,
          4.154475565223423,
          0.5398456129109815,
          -0.21246187819588983,
          -0.6558973611436653,
          -0.6773298500717009,
          1.9923715081097515,
          -0.5013935327320665,
          -0.2965640499388145,
          -0.19767617380882727,
          -0.6074707880594328,
          -0.1370412209554606,
          -0.517807021088347,
          -0.04140891276390916,
          -0.19455625453449296,
          0.6456515709101448,
          1.3473621103071598,
          -0.7109707187688707,
          -0.1986257144575377,
          -0.3704925718741273,
          0.23856992994156911,
          0.7187662008608487,
          0.16694743529598166,
          2.203983424108078,
          1.1221853278986842,
          6.573905138137624,
          0.04825485420717667,
          2.1182534683959355,
          -0.6377204401540654,
          -0.23674298907005678,
          -0.2550555587237581,
          0.634392731789721,
          -0.5897008130621374,
          -0.2866616974594056,
          3.268554139976583,
          0.5611424531749157,
          -0.5190278590652604,
          -0.05917888776120453,
          -0.37320554515615717,
          4.418447865564926,
          0.06087017996861537,
          0.7874044248962033,
          -0.6198148164926686,
          2.05680462355796,
          -0.5781706766135106,
          0.13059359331678194,
          0.19855357403162915,
          -0.40372649457899273,
          -0.5099393985704604,
          -0.6145245185927104,
          -0.08915724252763413,
          -0.06297705035604628,
          0.07416374905056153,
          -0.6320231962618027,
          -0.2996839692131488,
          0.9360753607514379,
          -0.6268685470259461,
          -0.344176731038438,
          -0.6738029848050621,
          0.5078325281830296,
          0.46605273963977023,
          -0.5742368653545674,
          -0.33495262187953656,
          5.480305608151401,
          9.183649786786216,
          -0.10462119023520415,
          -0.7127341514021901,
          -0.2659074518518774,
          -0.7054091235407096,
          -0.4115941170968792,
          2.9402843728509738,
          -0.36710135527159005,
          0.8713709479750266,
          -0.3901616281688436,
          -0.43139882205569696,
          -0.7518009666634197,
          -0.7710630769658314,
          -0.49027034227574423,
          0.2689552307003032,
          0.6801063315919237,
          0.08989899408633453,
          -0.3109428083335726,
          -0.4970527754808188,
          -0.6487079819462862,
          0.07334985706595258,
          0.657859950679279,
          0.3527861051150249,
          1.4830107744086514,
          -0.5627067289059406,
          0.721343525478777,
          -0.4105089277840673,
          -0.4749420432322757,
          -0.6397551701155878,
          -0.6786863367127158,
          -0.44428544514533863,
          -0.25993891063141183,
          -0.5297441035292783,
          -0.4682952586913026,
          -0.6234773304234088,
          -0.34756794764097526,
          -0.7589903458607987,
          0.6745447363637626,
          -0.5635206208905496,
          -0.3151479169207188,
          -0.5366621853984543,
          0.1962475467419038,
          0.413828003960696,
          -0.6606450643872175,
          -0.45690077090677733,
          -0.7063586641894201,
          -0.5106176418909679,
          -0.6449098193514444,
          -0.5309649415061917,
          -0.6114045993183761,
          0.3774741619814963,
          0.3097854785948521,
          -0.20879936426514956,
          -0.11086102878387276,
          -0.20567944499081525,
          1.0113603693277657,
          0.18390351830866808,
          -0.5697604594392182,
          -0.2874755894440146,
          0.3510226724817055,
          -0.5236399136447111,
          -0.32871278333086795,
          -0.7070369075099275,
          -0.5918711916877613,
          -0.5386969153599767,
          -0.3348169732154351,
          -0.6002814088620537,
          0.46849441559359706,
          -0.7787950508196164,
          0.6638284918997447,
          -0.06853864558420744,
          -0.6009596521825612,
          0.10495599580160007,
          0.2587815808926913,
          -0.29100245471065334,
          -0.7130054487303932,
          -0.5117028312037799,
          1.3469551643148554,
          0.24508106581844072,
          0.9301068195309723,
          0.1254389440809253,
          -0.3528582455409334,
          -0.6865539592306023,
          -0.6889956351844292,
          0.3904964337352395,
          2.7218900236475725,
          -0.04303669673312705,
          0.2551190669619511,
          -0.6223921411105968,
          0.27790804253100165,
          0.15758767747297875,
          0.20804898051873355,
          0.17345857117285324,
          -0.12320505721710848,
          0.03251960917140367,
          3.232607243989688,
          0.3712343234328277,
          5.175503059915349,
          -0.6617302537000294,
          0.08840685878121812,
          -0.7155827733483214,
          0.2992048827949358,
          0.2499644177260944,
          0.7841488569577676,
          0.06154842328912283,
          -0.7462393714352585,
          -0.5880730290929196,
          -0.31352013295150094,
          -0.6489792792744892,
          -0.08915724252763413,
          0.1916354921624531,
          0.17644284178308606,
          -0.494068504870586,
          -0.47697677319379805,
          1.0097325853585477,
          1.1669493870521763,
          0.7719404771886333,
          -0.6933363924356769,
          -0.6653927676307696,
          0.8023257779473674,
          -0.6804497693460352,
          -0.14368800549643368,
          -0.2778445342928087,
          0.9404161180026857,
          -0.5292015088728723,
          3.0561283319936474,
          -0.6489792792744892,
          0.1092967530528478,
          0.10237867118367174,
          0.6740021417073565,
          1.4653764480754574,
          -0.5861739477954987,
          0.23165184807239306,
          -0.7364726676199511,
          -0.6643075783179577,
          0.23151619940829157,
          -0.6350074668720356,
          -0.44347155316072967,
          -0.6968632577023156,
          -0.34634710966406185,
          0.016920012799732154,
          -0.4872860716655114,
          -0.707986448158638,
          -0.41376449572250307,
          0.026144121958633568,
          0.6622007079305268,
          -0.5448011052445437,
          -0.1101827854633653,
          -0.4195973882788672,
          0.07918274962231671,
          -0.6750238227819755,
          -0.26563615452367445,
          -0.72182261189699,
          -0.43804560659667,
          -0.3013117531823667,
          -0.5419524832984125,
          -0.6968632577023156,
          -0.3011761045182652,
          0.2684126360438972,
          0.048526151535379654,
          -0.45690077090677733,
          -0.7393212895660825,
          -0.07016642955342534,
          -0.2714690470800386,
          -0.5159079397909261,
          2.3517048193146026,
          -0.5339492121164244,
          0.29364328756677466,
          1.651622063886805,
          -0.7199235305995692,
          -0.10692721752492951,
          -0.5243181569652186,
          -0.1672908730500932,
          -0.11357400206590258,
          -0.12361200320941294,
          -0.635685710192543,
          -0.6001457601979523,
          -0.6350074668720356,
          0.5266876924931368,
          2.40515039297059,
          0.5380821802776622,
          -0.620493059813176,
          0.3061229646641118,
          -0.7512583720070137,
          -0.6462663059924594,
          -0.10706286618903099,
          0.3427481039715145,
          -0.37320554515615717,
          -0.5552460523803586,
          -0.5678613781417973,
          -0.2777088856287072,
          -0.6738029848050621,
          -0.4719577726220429,
          0.054765990084048255,
          -0.39504498007649724,
          0.17793497708820247,
          -0.24840877418278504,
          -0.29615710394651,
          -0.18790946999351987,
          -0.699440582320244,
          -0.4814531791091473,
          -0.5011222354038636,
          -0.7056804208689126,
          -0.747460209412172,
          -0.49325461288597705,
          -0.3312901079487963,
          -0.367643949927996,
          0.7198513901736606,
          -0.5131949665088963,
          -0.5289302115446692,
          -0.6093698693568537,
          -0.3523156508845275,
          -0.16769781904239767,
          -0.6670205515999875,
          0.06059888264041239,
          1.0200418838302612,
          -0.06704651027909103,
          -0.28598345413889814,
          0.22568330685192745,
          0.9689023374639989,
          0.9591356336486915,
          -0.46422579876825787,
          -0.6478940899616773,
          2.0155674296711066,
          -0.5838679205057733,
          -0.46951609666821603,
          -0.2793366695979251,
          -0.6607807130513189,
          -0.5427663752830214,
          1.2460325582233458,
          -0.5997388142056478,
          -0.367372652599793,
          -0.41824090163785227,
          2.614591930343293,
          -0.2848982648260862,
          -0.5289302115446692,
          -0.6895382298408351,
          -0.6582033884333905,
          -0.2996839692131488,
          1.4904714509342334,
          -0.5678613781417973,
          -0.6643075783179577,
          -0.486607828345004,
          -0.5846818124903822,
          -0.5439872132599348,
          1.2323320431490952,
          -0.3500096235948021,
          -0.11072538011977126,
          -0.6603737670590144,
          0.13846121583466844,
          -0.5812905958878449,
          -0.6035369768004896,
          -0.7410847221994018,
          -0.6251051143926267,
          -0.24026985433669557,
          -0.00451247612830349,
          -0.0051907194488109475,
          0.15840156945758768,
          -0.6272754930182506,
          -0.43329790335311785,
          0.1550103528550504,
          0.1882442755599158,
          -0.4634119067836489,
          1.1997763637647372,
          -0.6371778454976594,
          0.5761994548901812,
          -0.636228304848949,
          0.0634475045865437,
          0.2165948463571275,
          -0.6876391485434142,
          -0.7680788063555987,
          -0.613303680615797,
          1.7454909394450373,
          0.011087120243368023,
          -0.39667276404571516,
          -0.7039169882355932,
          -0.5690822161187108,
          -0.6510140092360116,
          -0.6678344435845965,
          0.044999286268740876,
          -0.485522639032192,
          -0.6649858216384652,
          -0.6240199250798147,
          -0.7405421275429959,
          -0.25125739612891634,
          -0.5302866981856842,
          -0.27065515509542964,
          0.062497963937833266,
          -0.48023234113223384,
          -0.589565164398036,
          0.3843922438506724,
          -0.35841984076909456,
          -0.33942902779488576,
          -0.08576602592509684,
          -0.6582033884333905,
          -0.16349271045525143,
          0.22229209024939015,
          -0.6012309495107642,
          2.178752772585201,
          -0.6611876590436234,
          -0.29520756329779957,
          -0.526352886926741,
          -0.6712256601871338,
          -0.5787132712699167,
          -0.6260546550413372,
          -0.4117297657609807,
          -0.2192443114009644,
          0.1266597820578387,
          -0.6689196328974084,
          -0.6077420853876357,
          0.8403074038957851,
          -0.5602650529521138,
          -0.6462663059924594,
          -0.707986448158638,
          -0.6633580376692473,
          -0.40630381919692105,
          -0.14151762687080982,
          0.7066934697558159,
          -0.1605084398450186,
          -0.6443672246950385,
          -0.10665592019672653,
          0.9560157143743572,
          -0.25993891063141183,
          -0.2933084820003787,
          -0.5019361273884725,
          -0.34010727111539324,
          -0.29724229325932194,
          -0.12713886847605171,
          -0.5163148857832306,
          0.03387609581241858,
          0.6977406579251175,
          -0.04032372345109722,
          0.36594402553286953,
          -0.27309683104925647,
          -0.07192986218674473,
          -0.12876665244526964,
          -0.5994675168774448,
          -0.28625475146710117,
          -0.39504498007649724,
          -0.4596137441888072,
          0.48165233601144175,
          1.4773135305163887,
          0.023566797340705232,
          -0.5488705651675885,
          -0.21246187819588983,
          -0.03937418280238678,
          -0.6286319796592654,
          -0.3497383262665991,
          -0.25424166673914916,
          0.8484463237418745,
          -0.5921424890159643,
          1.3146707822587005,
          -0.517535723760144,
          -0.5559242957008661
         ],
         "yaxis": "y"
        }
       ],
       "layout": {
        "coloraxis": {
         "colorbar": {
          "title": {
           "text": "color"
          }
         },
         "colorscale": [
          [
           0,
           "#0d0887"
          ],
          [
           0.1111111111111111,
           "#46039f"
          ],
          [
           0.2222222222222222,
           "#7201a8"
          ],
          [
           0.3333333333333333,
           "#9c179e"
          ],
          [
           0.4444444444444444,
           "#bd3786"
          ],
          [
           0.5555555555555556,
           "#d8576b"
          ],
          [
           0.6666666666666666,
           "#ed7953"
          ],
          [
           0.7777777777777778,
           "#fb9f3a"
          ],
          [
           0.8888888888888888,
           "#fdca26"
          ],
          [
           1,
           "#f0f921"
          ]
         ]
        },
        "legend": {
         "tracegroupgap": 0
        },
        "margin": {
         "t": 60
        },
        "template": {
         "data": {
          "bar": [
           {
            "error_x": {
             "color": "#2a3f5f"
            },
            "error_y": {
             "color": "#2a3f5f"
            },
            "marker": {
             "line": {
              "color": "#E5ECF6",
              "width": 0.5
             },
             "pattern": {
              "fillmode": "overlay",
              "size": 10,
              "solidity": 0.2
             }
            },
            "type": "bar"
           }
          ],
          "barpolar": [
           {
            "marker": {
             "line": {
              "color": "#E5ECF6",
              "width": 0.5
             },
             "pattern": {
              "fillmode": "overlay",
              "size": 10,
              "solidity": 0.2
             }
            },
            "type": "barpolar"
           }
          ],
          "carpet": [
           {
            "aaxis": {
             "endlinecolor": "#2a3f5f",
             "gridcolor": "white",
             "linecolor": "white",
             "minorgridcolor": "white",
             "startlinecolor": "#2a3f5f"
            },
            "baxis": {
             "endlinecolor": "#2a3f5f",
             "gridcolor": "white",
             "linecolor": "white",
             "minorgridcolor": "white",
             "startlinecolor": "#2a3f5f"
            },
            "type": "carpet"
           }
          ],
          "choropleth": [
           {
            "colorbar": {
             "outlinewidth": 0,
             "ticks": ""
            },
            "type": "choropleth"
           }
          ],
          "contour": [
           {
            "colorbar": {
             "outlinewidth": 0,
             "ticks": ""
            },
            "colorscale": [
             [
              0,
              "#0d0887"
             ],
             [
              0.1111111111111111,
              "#46039f"
             ],
             [
              0.2222222222222222,
              "#7201a8"
             ],
             [
              0.3333333333333333,
              "#9c179e"
             ],
             [
              0.4444444444444444,
              "#bd3786"
             ],
             [
              0.5555555555555556,
              "#d8576b"
             ],
             [
              0.6666666666666666,
              "#ed7953"
             ],
             [
              0.7777777777777778,
              "#fb9f3a"
             ],
             [
              0.8888888888888888,
              "#fdca26"
             ],
             [
              1,
              "#f0f921"
             ]
            ],
            "type": "contour"
           }
          ],
          "contourcarpet": [
           {
            "colorbar": {
             "outlinewidth": 0,
             "ticks": ""
            },
            "type": "contourcarpet"
           }
          ],
          "heatmap": [
           {
            "colorbar": {
             "outlinewidth": 0,
             "ticks": ""
            },
            "colorscale": [
             [
              0,
              "#0d0887"
             ],
             [
              0.1111111111111111,
              "#46039f"
             ],
             [
              0.2222222222222222,
              "#7201a8"
             ],
             [
              0.3333333333333333,
              "#9c179e"
             ],
             [
              0.4444444444444444,
              "#bd3786"
             ],
             [
              0.5555555555555556,
              "#d8576b"
             ],
             [
              0.6666666666666666,
              "#ed7953"
             ],
             [
              0.7777777777777778,
              "#fb9f3a"
             ],
             [
              0.8888888888888888,
              "#fdca26"
             ],
             [
              1,
              "#f0f921"
             ]
            ],
            "type": "heatmap"
           }
          ],
          "heatmapgl": [
           {
            "colorbar": {
             "outlinewidth": 0,
             "ticks": ""
            },
            "colorscale": [
             [
              0,
              "#0d0887"
             ],
             [
              0.1111111111111111,
              "#46039f"
             ],
             [
              0.2222222222222222,
              "#7201a8"
             ],
             [
              0.3333333333333333,
              "#9c179e"
             ],
             [
              0.4444444444444444,
              "#bd3786"
             ],
             [
              0.5555555555555556,
              "#d8576b"
             ],
             [
              0.6666666666666666,
              "#ed7953"
             ],
             [
              0.7777777777777778,
              "#fb9f3a"
             ],
             [
              0.8888888888888888,
              "#fdca26"
             ],
             [
              1,
              "#f0f921"
             ]
            ],
            "type": "heatmapgl"
           }
          ],
          "histogram": [
           {
            "marker": {
             "pattern": {
              "fillmode": "overlay",
              "size": 10,
              "solidity": 0.2
             }
            },
            "type": "histogram"
           }
          ],
          "histogram2d": [
           {
            "colorbar": {
             "outlinewidth": 0,
             "ticks": ""
            },
            "colorscale": [
             [
              0,
              "#0d0887"
             ],
             [
              0.1111111111111111,
              "#46039f"
             ],
             [
              0.2222222222222222,
              "#7201a8"
             ],
             [
              0.3333333333333333,
              "#9c179e"
             ],
             [
              0.4444444444444444,
              "#bd3786"
             ],
             [
              0.5555555555555556,
              "#d8576b"
             ],
             [
              0.6666666666666666,
              "#ed7953"
             ],
             [
              0.7777777777777778,
              "#fb9f3a"
             ],
             [
              0.8888888888888888,
              "#fdca26"
             ],
             [
              1,
              "#f0f921"
             ]
            ],
            "type": "histogram2d"
           }
          ],
          "histogram2dcontour": [
           {
            "colorbar": {
             "outlinewidth": 0,
             "ticks": ""
            },
            "colorscale": [
             [
              0,
              "#0d0887"
             ],
             [
              0.1111111111111111,
              "#46039f"
             ],
             [
              0.2222222222222222,
              "#7201a8"
             ],
             [
              0.3333333333333333,
              "#9c179e"
             ],
             [
              0.4444444444444444,
              "#bd3786"
             ],
             [
              0.5555555555555556,
              "#d8576b"
             ],
             [
              0.6666666666666666,
              "#ed7953"
             ],
             [
              0.7777777777777778,
              "#fb9f3a"
             ],
             [
              0.8888888888888888,
              "#fdca26"
             ],
             [
              1,
              "#f0f921"
             ]
            ],
            "type": "histogram2dcontour"
           }
          ],
          "mesh3d": [
           {
            "colorbar": {
             "outlinewidth": 0,
             "ticks": ""
            },
            "type": "mesh3d"
           }
          ],
          "parcoords": [
           {
            "line": {
             "colorbar": {
              "outlinewidth": 0,
              "ticks": ""
             }
            },
            "type": "parcoords"
           }
          ],
          "pie": [
           {
            "automargin": true,
            "type": "pie"
           }
          ],
          "scatter": [
           {
            "fillpattern": {
             "fillmode": "overlay",
             "size": 10,
             "solidity": 0.2
            },
            "type": "scatter"
           }
          ],
          "scatter3d": [
           {
            "line": {
             "colorbar": {
              "outlinewidth": 0,
              "ticks": ""
             }
            },
            "marker": {
             "colorbar": {
              "outlinewidth": 0,
              "ticks": ""
             }
            },
            "type": "scatter3d"
           }
          ],
          "scattercarpet": [
           {
            "marker": {
             "colorbar": {
              "outlinewidth": 0,
              "ticks": ""
             }
            },
            "type": "scattercarpet"
           }
          ],
          "scattergeo": [
           {
            "marker": {
             "colorbar": {
              "outlinewidth": 0,
              "ticks": ""
             }
            },
            "type": "scattergeo"
           }
          ],
          "scattergl": [
           {
            "marker": {
             "colorbar": {
              "outlinewidth": 0,
              "ticks": ""
             }
            },
            "type": "scattergl"
           }
          ],
          "scattermapbox": [
           {
            "marker": {
             "colorbar": {
              "outlinewidth": 0,
              "ticks": ""
             }
            },
            "type": "scattermapbox"
           }
          ],
          "scatterpolar": [
           {
            "marker": {
             "colorbar": {
              "outlinewidth": 0,
              "ticks": ""
             }
            },
            "type": "scatterpolar"
           }
          ],
          "scatterpolargl": [
           {
            "marker": {
             "colorbar": {
              "outlinewidth": 0,
              "ticks": ""
             }
            },
            "type": "scatterpolargl"
           }
          ],
          "scatterternary": [
           {
            "marker": {
             "colorbar": {
              "outlinewidth": 0,
              "ticks": ""
             }
            },
            "type": "scatterternary"
           }
          ],
          "surface": [
           {
            "colorbar": {
             "outlinewidth": 0,
             "ticks": ""
            },
            "colorscale": [
             [
              0,
              "#0d0887"
             ],
             [
              0.1111111111111111,
              "#46039f"
             ],
             [
              0.2222222222222222,
              "#7201a8"
             ],
             [
              0.3333333333333333,
              "#9c179e"
             ],
             [
              0.4444444444444444,
              "#bd3786"
             ],
             [
              0.5555555555555556,
              "#d8576b"
             ],
             [
              0.6666666666666666,
              "#ed7953"
             ],
             [
              0.7777777777777778,
              "#fb9f3a"
             ],
             [
              0.8888888888888888,
              "#fdca26"
             ],
             [
              1,
              "#f0f921"
             ]
            ],
            "type": "surface"
           }
          ],
          "table": [
           {
            "cells": {
             "fill": {
              "color": "#EBF0F8"
             },
             "line": {
              "color": "white"
             }
            },
            "header": {
             "fill": {
              "color": "#C8D4E3"
             },
             "line": {
              "color": "white"
             }
            },
            "type": "table"
           }
          ]
         },
         "layout": {
          "annotationdefaults": {
           "arrowcolor": "#2a3f5f",
           "arrowhead": 0,
           "arrowwidth": 1
          },
          "autotypenumbers": "strict",
          "coloraxis": {
           "colorbar": {
            "outlinewidth": 0,
            "ticks": ""
           }
          },
          "colorscale": {
           "diverging": [
            [
             0,
             "#8e0152"
            ],
            [
             0.1,
             "#c51b7d"
            ],
            [
             0.2,
             "#de77ae"
            ],
            [
             0.3,
             "#f1b6da"
            ],
            [
             0.4,
             "#fde0ef"
            ],
            [
             0.5,
             "#f7f7f7"
            ],
            [
             0.6,
             "#e6f5d0"
            ],
            [
             0.7,
             "#b8e186"
            ],
            [
             0.8,
             "#7fbc41"
            ],
            [
             0.9,
             "#4d9221"
            ],
            [
             1,
             "#276419"
            ]
           ],
           "sequential": [
            [
             0,
             "#0d0887"
            ],
            [
             0.1111111111111111,
             "#46039f"
            ],
            [
             0.2222222222222222,
             "#7201a8"
            ],
            [
             0.3333333333333333,
             "#9c179e"
            ],
            [
             0.4444444444444444,
             "#bd3786"
            ],
            [
             0.5555555555555556,
             "#d8576b"
            ],
            [
             0.6666666666666666,
             "#ed7953"
            ],
            [
             0.7777777777777778,
             "#fb9f3a"
            ],
            [
             0.8888888888888888,
             "#fdca26"
            ],
            [
             1,
             "#f0f921"
            ]
           ],
           "sequentialminus": [
            [
             0,
             "#0d0887"
            ],
            [
             0.1111111111111111,
             "#46039f"
            ],
            [
             0.2222222222222222,
             "#7201a8"
            ],
            [
             0.3333333333333333,
             "#9c179e"
            ],
            [
             0.4444444444444444,
             "#bd3786"
            ],
            [
             0.5555555555555556,
             "#d8576b"
            ],
            [
             0.6666666666666666,
             "#ed7953"
            ],
            [
             0.7777777777777778,
             "#fb9f3a"
            ],
            [
             0.8888888888888888,
             "#fdca26"
            ],
            [
             1,
             "#f0f921"
            ]
           ]
          },
          "colorway": [
           "#636efa",
           "#EF553B",
           "#00cc96",
           "#ab63fa",
           "#FFA15A",
           "#19d3f3",
           "#FF6692",
           "#B6E880",
           "#FF97FF",
           "#FECB52"
          ],
          "font": {
           "color": "#2a3f5f"
          },
          "geo": {
           "bgcolor": "white",
           "lakecolor": "white",
           "landcolor": "#E5ECF6",
           "showlakes": true,
           "showland": true,
           "subunitcolor": "white"
          },
          "hoverlabel": {
           "align": "left"
          },
          "hovermode": "closest",
          "mapbox": {
           "style": "light"
          },
          "paper_bgcolor": "white",
          "plot_bgcolor": "#E5ECF6",
          "polar": {
           "angularaxis": {
            "gridcolor": "white",
            "linecolor": "white",
            "ticks": ""
           },
           "bgcolor": "#E5ECF6",
           "radialaxis": {
            "gridcolor": "white",
            "linecolor": "white",
            "ticks": ""
           }
          },
          "scene": {
           "xaxis": {
            "backgroundcolor": "#E5ECF6",
            "gridcolor": "white",
            "gridwidth": 2,
            "linecolor": "white",
            "showbackground": true,
            "ticks": "",
            "zerolinecolor": "white"
           },
           "yaxis": {
            "backgroundcolor": "#E5ECF6",
            "gridcolor": "white",
            "gridwidth": 2,
            "linecolor": "white",
            "showbackground": true,
            "ticks": "",
            "zerolinecolor": "white"
           },
           "zaxis": {
            "backgroundcolor": "#E5ECF6",
            "gridcolor": "white",
            "gridwidth": 2,
            "linecolor": "white",
            "showbackground": true,
            "ticks": "",
            "zerolinecolor": "white"
           }
          },
          "shapedefaults": {
           "line": {
            "color": "#2a3f5f"
           }
          },
          "ternary": {
           "aaxis": {
            "gridcolor": "white",
            "linecolor": "white",
            "ticks": ""
           },
           "baxis": {
            "gridcolor": "white",
            "linecolor": "white",
            "ticks": ""
           },
           "bgcolor": "#E5ECF6",
           "caxis": {
            "gridcolor": "white",
            "linecolor": "white",
            "ticks": ""
           }
          },
          "title": {
           "x": 0.05
          },
          "xaxis": {
           "automargin": true,
           "gridcolor": "white",
           "linecolor": "white",
           "ticks": "",
           "title": {
            "standoff": 15
           },
           "zerolinecolor": "white",
           "zerolinewidth": 2
          },
          "yaxis": {
           "automargin": true,
           "gridcolor": "white",
           "linecolor": "white",
           "ticks": "",
           "title": {
            "standoff": 15
           },
           "zerolinecolor": "white",
           "zerolinewidth": 2
          }
         }
        },
        "xaxis": {
         "anchor": "y",
         "domain": [
          0,
          1
         ],
         "title": {
          "text": "0"
         }
        },
        "yaxis": {
         "anchor": "x",
         "domain": [
          0,
          1
         ],
         "title": {
          "text": "1"
         }
        }
       }
      }
     },
     "metadata": {},
     "output_type": "display_data"
    }
   ],
   "source": [
    "fig = px.scatter(dataset_scaled, x = 0, y = 1, color = dataset_predict)\n",
    "fig.show()"
   ]
  },
  {
   "cell_type": "code",
   "execution_count": null,
   "metadata": {},
   "outputs": [],
   "source": []
  },
  {
   "cell_type": "code",
   "execution_count": null,
   "metadata": {},
   "outputs": [],
   "source": []
  }
 ],
 "metadata": {
  "kernelspec": {
   "display_name": ".venv",
   "language": "python",
   "name": "python3"
  },
  "language_info": {
   "codemirror_mode": {
    "name": "ipython",
    "version": 3
   },
   "file_extension": ".py",
   "mimetype": "text/x-python",
   "name": "python",
   "nbconvert_exporter": "python",
   "pygments_lexer": "ipython3",
   "version": "3.12.7"
  }
 },
 "nbformat": 4,
 "nbformat_minor": 2
}
