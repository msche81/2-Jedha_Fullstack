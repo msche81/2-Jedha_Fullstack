{
 "cells": [
  {
   "cell_type": "code",
   "execution_count": 3,
   "metadata": {},
   "outputs": [],
   "source": [
    "import pandas as pd"
   ]
  },
  {
   "cell_type": "code",
   "execution_count": 4,
   "metadata": {},
   "outputs": [
    {
     "data": {
      "text/html": [
       "<div>\n",
       "<style scoped>\n",
       "    .dataframe tbody tr th:only-of-type {\n",
       "        vertical-align: middle;\n",
       "    }\n",
       "\n",
       "    .dataframe tbody tr th {\n",
       "        vertical-align: top;\n",
       "    }\n",
       "\n",
       "    .dataframe thead th {\n",
       "        text-align: right;\n",
       "    }\n",
       "</style>\n",
       "<table border=\"1\" class=\"dataframe\">\n",
       "  <thead>\n",
       "    <tr style=\"text-align: right;\">\n",
       "      <th></th>\n",
       "      <th>Unnamed: 0</th>\n",
       "      <th>dateRep</th>\n",
       "      <th>day</th>\n",
       "      <th>month</th>\n",
       "      <th>year</th>\n",
       "      <th>cases</th>\n",
       "      <th>deaths</th>\n",
       "      <th>countriesAndTerritories</th>\n",
       "      <th>geoId</th>\n",
       "      <th>countryterritoryCode</th>\n",
       "      <th>popData2018</th>\n",
       "      <th>continentExp</th>\n",
       "    </tr>\n",
       "  </thead>\n",
       "  <tbody>\n",
       "    <tr>\n",
       "      <th>0</th>\n",
       "      <td>1257</td>\n",
       "      <td>2020-04-23</td>\n",
       "      <td>23</td>\n",
       "      <td>4</td>\n",
       "      <td>2020</td>\n",
       "      <td>933</td>\n",
       "      <td>264</td>\n",
       "      <td>Belgium</td>\n",
       "      <td>BE</td>\n",
       "      <td>BEL</td>\n",
       "      <td>11422068.0</td>\n",
       "      <td>Europe</td>\n",
       "    </tr>\n",
       "    <tr>\n",
       "      <th>1</th>\n",
       "      <td>1258</td>\n",
       "      <td>2020-04-22</td>\n",
       "      <td>22</td>\n",
       "      <td>4</td>\n",
       "      <td>2020</td>\n",
       "      <td>973</td>\n",
       "      <td>170</td>\n",
       "      <td>Belgium</td>\n",
       "      <td>BE</td>\n",
       "      <td>BEL</td>\n",
       "      <td>11422068.0</td>\n",
       "      <td>Europe</td>\n",
       "    </tr>\n",
       "    <tr>\n",
       "      <th>2</th>\n",
       "      <td>1259</td>\n",
       "      <td>2020-04-21</td>\n",
       "      <td>21</td>\n",
       "      <td>4</td>\n",
       "      <td>2020</td>\n",
       "      <td>1487</td>\n",
       "      <td>145</td>\n",
       "      <td>Belgium</td>\n",
       "      <td>BE</td>\n",
       "      <td>BEL</td>\n",
       "      <td>11422068.0</td>\n",
       "      <td>Europe</td>\n",
       "    </tr>\n",
       "    <tr>\n",
       "      <th>3</th>\n",
       "      <td>1260</td>\n",
       "      <td>2020-04-20</td>\n",
       "      <td>20</td>\n",
       "      <td>4</td>\n",
       "      <td>2020</td>\n",
       "      <td>1313</td>\n",
       "      <td>230</td>\n",
       "      <td>Belgium</td>\n",
       "      <td>BE</td>\n",
       "      <td>BEL</td>\n",
       "      <td>11422068.0</td>\n",
       "      <td>Europe</td>\n",
       "    </tr>\n",
       "    <tr>\n",
       "      <th>4</th>\n",
       "      <td>1261</td>\n",
       "      <td>2020-04-19</td>\n",
       "      <td>19</td>\n",
       "      <td>4</td>\n",
       "      <td>2020</td>\n",
       "      <td>1045</td>\n",
       "      <td>290</td>\n",
       "      <td>Belgium</td>\n",
       "      <td>BE</td>\n",
       "      <td>BEL</td>\n",
       "      <td>11422068.0</td>\n",
       "      <td>Europe</td>\n",
       "    </tr>\n",
       "  </tbody>\n",
       "</table>\n",
       "</div>"
      ],
      "text/plain": [
       "   Unnamed: 0     dateRep  day  month  year  cases  deaths  \\\n",
       "0        1257  2020-04-23   23      4  2020    933     264   \n",
       "1        1258  2020-04-22   22      4  2020    973     170   \n",
       "2        1259  2020-04-21   21      4  2020   1487     145   \n",
       "3        1260  2020-04-20   20      4  2020   1313     230   \n",
       "4        1261  2020-04-19   19      4  2020   1045     290   \n",
       "\n",
       "  countriesAndTerritories geoId countryterritoryCode  popData2018 continentExp  \n",
       "0                 Belgium    BE                  BEL   11422068.0       Europe  \n",
       "1                 Belgium    BE                  BEL   11422068.0       Europe  \n",
       "2                 Belgium    BE                  BEL   11422068.0       Europe  \n",
       "3                 Belgium    BE                  BEL   11422068.0       Europe  \n",
       "4                 Belgium    BE                  BEL   11422068.0       Europe  "
      ]
     },
     "execution_count": 4,
     "metadata": {},
     "output_type": "execute_result"
    }
   ],
   "source": [
    "path_to_file=\"/Users/marie-sophiechenevier/Library/CloudStorage/Dropbox/2024-DataScience/GitHub/2-Jedha_Fullstack/1_intro_to_python/4_pandas\"\n",
    "data = pd.read_csv(path_to_file + \"/covid-19.csv\")\n",
    "data.head()"
   ]
  },
  {
   "cell_type": "code",
   "execution_count": 5,
   "metadata": {},
   "outputs": [
    {
     "data": {
      "text/html": [
       "<div>\n",
       "<style scoped>\n",
       "    .dataframe tbody tr th:only-of-type {\n",
       "        vertical-align: middle;\n",
       "    }\n",
       "\n",
       "    .dataframe tbody tr th {\n",
       "        vertical-align: top;\n",
       "    }\n",
       "\n",
       "    .dataframe thead th {\n",
       "        text-align: right;\n",
       "    }\n",
       "</style>\n",
       "<table border=\"1\" class=\"dataframe\">\n",
       "  <thead>\n",
       "    <tr style=\"text-align: right;\">\n",
       "      <th></th>\n",
       "      <th>Unnamed: 0</th>\n",
       "      <th>day</th>\n",
       "      <th>month</th>\n",
       "      <th>year</th>\n",
       "      <th>cases</th>\n",
       "      <th>deaths</th>\n",
       "      <th>popData2018</th>\n",
       "    </tr>\n",
       "  </thead>\n",
       "  <tbody>\n",
       "    <tr>\n",
       "      <th>count</th>\n",
       "      <td>690.000000</td>\n",
       "      <td>690.000000</td>\n",
       "      <td>690.000000</td>\n",
       "      <td>690.000000</td>\n",
       "      <td>690.000000</td>\n",
       "      <td>690.000000</td>\n",
       "      <td>6.900000e+02</td>\n",
       "    </tr>\n",
       "    <tr>\n",
       "      <th>mean</th>\n",
       "      <td>7785.666667</td>\n",
       "      <td>15.078261</td>\n",
       "      <td>2.486957</td>\n",
       "      <td>2019.991304</td>\n",
       "      <td>2221.565217</td>\n",
       "      <td>201.866667</td>\n",
       "      <td>9.653679e+07</td>\n",
       "    </tr>\n",
       "    <tr>\n",
       "      <th>std</th>\n",
       "      <td>4174.782873</td>\n",
       "      <td>8.616804</td>\n",
       "      <td>1.405144</td>\n",
       "      <td>0.092912</td>\n",
       "      <td>5717.666660</td>\n",
       "      <td>446.431768</td>\n",
       "      <td>1.049538e+08</td>\n",
       "    </tr>\n",
       "    <tr>\n",
       "      <th>min</th>\n",
       "      <td>1257.000000</td>\n",
       "      <td>1.000000</td>\n",
       "      <td>1.000000</td>\n",
       "      <td>2019.000000</td>\n",
       "      <td>0.000000</td>\n",
       "      <td>0.000000</td>\n",
       "      <td>1.142207e+07</td>\n",
       "    </tr>\n",
       "    <tr>\n",
       "      <th>25%</th>\n",
       "      <td>4200.250000</td>\n",
       "      <td>8.000000</td>\n",
       "      <td>1.000000</td>\n",
       "      <td>2020.000000</td>\n",
       "      <td>0.000000</td>\n",
       "      <td>0.000000</td>\n",
       "      <td>4.672375e+07</td>\n",
       "    </tr>\n",
       "    <tr>\n",
       "      <th>50%</th>\n",
       "      <td>8482.500000</td>\n",
       "      <td>15.000000</td>\n",
       "      <td>2.000000</td>\n",
       "      <td>2020.000000</td>\n",
       "      <td>3.000000</td>\n",
       "      <td>0.000000</td>\n",
       "      <td>6.346014e+07</td>\n",
       "    </tr>\n",
       "    <tr>\n",
       "      <th>75%</th>\n",
       "      <td>12040.750000</td>\n",
       "      <td>22.000000</td>\n",
       "      <td>3.000000</td>\n",
       "      <td>2020.000000</td>\n",
       "      <td>1870.000000</td>\n",
       "      <td>202.750000</td>\n",
       "      <td>6.698724e+07</td>\n",
       "    </tr>\n",
       "    <tr>\n",
       "      <th>max</th>\n",
       "      <td>12251.000000</td>\n",
       "      <td>31.000000</td>\n",
       "      <td>12.000000</td>\n",
       "      <td>2020.000000</td>\n",
       "      <td>37289.000000</td>\n",
       "      <td>4928.000000</td>\n",
       "      <td>3.271674e+08</td>\n",
       "    </tr>\n",
       "  </tbody>\n",
       "</table>\n",
       "</div>"
      ],
      "text/plain": [
       "         Unnamed: 0         day       month         year         cases  \\\n",
       "count    690.000000  690.000000  690.000000   690.000000    690.000000   \n",
       "mean    7785.666667   15.078261    2.486957  2019.991304   2221.565217   \n",
       "std     4174.782873    8.616804    1.405144     0.092912   5717.666660   \n",
       "min     1257.000000    1.000000    1.000000  2019.000000      0.000000   \n",
       "25%     4200.250000    8.000000    1.000000  2020.000000      0.000000   \n",
       "50%     8482.500000   15.000000    2.000000  2020.000000      3.000000   \n",
       "75%    12040.750000   22.000000    3.000000  2020.000000   1870.000000   \n",
       "max    12251.000000   31.000000   12.000000  2020.000000  37289.000000   \n",
       "\n",
       "            deaths   popData2018  \n",
       "count   690.000000  6.900000e+02  \n",
       "mean    201.866667  9.653679e+07  \n",
       "std     446.431768  1.049538e+08  \n",
       "min       0.000000  1.142207e+07  \n",
       "25%       0.000000  4.672375e+07  \n",
       "50%       0.000000  6.346014e+07  \n",
       "75%     202.750000  6.698724e+07  \n",
       "max    4928.000000  3.271674e+08  "
      ]
     },
     "execution_count": 5,
     "metadata": {},
     "output_type": "execute_result"
    }
   ],
   "source": [
    "data.describe()"
   ]
  },
  {
   "cell_type": "code",
   "execution_count": 6,
   "metadata": {},
   "outputs": [
    {
     "ename": "TypeError",
     "evalue": "Could not convert ['2020-04-232020-04-222020-04-212020-04-202020-04-192020-04-182020-04-172020-04-162020-04-152020-04-142020-04-132020-04-122020-04-112020-04-102020-04-092020-04-082020-04-072020-04-062020-04-052020-04-042020-04-032020-04-022020-04-012020-03-312020-03-302020-03-292020-03-282020-03-272020-03-262020-03-252020-03-242020-03-232020-03-222020-03-212020-03-202020-03-192020-03-182020-03-172020-03-162020-03-152020-03-142020-03-132020-03-122020-03-112020-03-102020-03-092020-03-082020-03-072020-03-062020-03-052020-03-042020-03-032020-03-022020-03-012020-02-292020-02-282020-02-272020-02-262020-02-252020-02-242020-02-232020-02-222020-02-212020-02-202020-02-192020-02-182020-02-172020-02-162020-02-152020-02-142020-02-132020-02-122020-02-112020-02-102020-02-092020-02-082020-02-072020-02-062020-02-052020-02-042020-02-032020-02-022020-02-012020-01-312020-01-302020-01-292020-01-282020-01-272020-01-262020-01-252020-01-242020-01-232020-01-222020-01-212020-01-202020-01-192020-01-182020-01-172020-01-162020-01-152020-01-142020-01-132020-01-122020-01-112020-01-102020-01-092020-01-082020-01-072020-01-062020-01-052020-01-042020-01-032020-01-022020-01-012019-12-312020-04-232020-04-222020-04-212020-04-202020-04-192020-04-182020-04-172020-04-162020-04-152020-04-142020-04-132020-04-122020-04-112020-04-102020-04-092020-04-082020-04-072020-04-062020-04-052020-04-042020-04-032020-04-022020-04-012020-03-312020-03-302020-03-292020-03-282020-03-272020-03-262020-03-252020-03-242020-03-232020-03-222020-03-212020-03-202020-03-192020-03-182020-03-172020-03-162020-03-152020-03-142020-03-132020-03-122020-03-112020-03-102020-03-092020-03-082020-03-072020-03-062020-03-052020-03-042020-03-032020-03-022020-03-012020-02-292020-02-282020-02-272020-02-262020-02-252020-02-242020-02-232020-02-222020-02-212020-02-202020-02-192020-02-182020-02-172020-02-162020-02-152020-02-142020-02-132020-02-122020-02-112020-02-102020-02-092020-02-082020-02-072020-02-062020-02-052020-02-042020-02-032020-02-022020-02-012020-01-312020-01-302020-01-292020-01-282020-01-272020-01-262020-01-252020-01-242020-01-232020-01-222020-01-212020-01-202020-01-192020-01-182020-01-172020-01-162020-01-152020-01-142020-01-132020-01-122020-01-112020-01-102020-01-092020-01-082020-01-072020-01-062020-01-052020-01-042020-01-032020-01-022020-01-012019-12-312020-04-232020-04-222020-04-212020-04-202020-04-192020-04-182020-04-172020-04-162020-04-152020-04-142020-04-132020-04-122020-04-112020-04-102020-04-092020-04-082020-04-072020-04-062020-04-052020-04-042020-04-032020-04-022020-04-012020-03-312020-03-302020-03-292020-03-282020-03-272020-03-262020-03-252020-03-242020-03-232020-03-222020-03-212020-03-202020-03-192020-03-182020-03-172020-03-162020-03-152020-03-142020-03-132020-03-122020-03-112020-03-102020-03-092020-03-082020-03-072020-03-062020-03-052020-03-042020-03-032020-03-022020-03-012020-02-292020-02-282020-02-272020-02-262020-02-252020-02-242020-02-232020-02-222020-02-212020-02-202020-02-192020-02-182020-02-172020-02-162020-02-152020-02-142020-02-132020-02-122020-02-112020-02-102020-02-092020-02-082020-02-072020-02-062020-02-052020-02-042020-02-032020-02-022020-02-012020-01-312020-01-302020-01-292020-01-282020-01-272020-01-262020-01-252020-01-242020-01-232020-01-222020-01-212020-01-202020-01-192020-01-182020-01-172020-01-162020-01-152020-01-142020-01-132020-01-122020-01-112020-01-102020-01-092020-01-082020-01-072020-01-062020-01-052020-01-042020-01-032020-01-022020-01-012019-12-312020-04-232020-04-222020-04-212020-04-202020-04-192020-04-182020-04-172020-04-162020-04-152020-04-142020-04-132020-04-122020-04-112020-04-102020-04-092020-04-082020-04-072020-04-062020-04-052020-04-042020-04-032020-04-022020-04-012020-03-312020-03-302020-03-292020-03-282020-03-272020-03-262020-03-252020-03-242020-03-232020-03-222020-03-212020-03-202020-03-192020-03-182020-03-172020-03-162020-03-152020-03-142020-03-132020-03-122020-03-112020-03-102020-03-092020-03-082020-03-072020-03-062020-03-052020-03-042020-03-032020-03-022020-03-012020-02-292020-02-282020-02-272020-02-262020-02-252020-02-242020-02-232020-02-222020-02-212020-02-202020-02-192020-02-182020-02-172020-02-162020-02-152020-02-142020-02-132020-02-122020-02-112020-02-102020-02-092020-02-082020-02-072020-02-062020-02-052020-02-042020-02-032020-02-022020-02-012020-01-312020-01-302020-01-292020-01-282020-01-272020-01-262020-01-252020-01-242020-01-232020-01-222020-01-212020-01-202020-01-192020-01-182020-01-172020-01-162020-01-152020-01-142020-01-132020-01-122020-01-112020-01-102020-01-092020-01-082020-01-072020-01-062020-01-052020-01-042020-01-032020-01-022020-01-012019-12-312020-04-232020-04-222020-04-212020-04-202020-04-192020-04-182020-04-172020-04-162020-04-152020-04-142020-04-132020-04-122020-04-112020-04-102020-04-092020-04-082020-04-072020-04-062020-04-052020-04-042020-04-032020-04-022020-04-012020-03-312020-03-302020-03-292020-03-282020-03-272020-03-262020-03-252020-03-242020-03-232020-03-222020-03-212020-03-202020-03-192020-03-182020-03-172020-03-162020-03-152020-03-142020-03-132020-03-122020-03-112020-03-102020-03-092020-03-082020-03-072020-03-062020-03-052020-03-042020-03-032020-03-022020-03-012020-02-292020-02-282020-02-272020-02-262020-02-252020-02-242020-02-232020-02-222020-02-212020-02-202020-02-192020-02-182020-02-172020-02-162020-02-152020-02-142020-02-132020-02-122020-02-112020-02-102020-02-092020-02-082020-02-072020-02-062020-02-052020-02-042020-02-032020-02-022020-02-012020-01-312020-01-302020-01-292020-01-282020-01-272020-01-262020-01-252020-01-242020-01-232020-01-222020-01-212020-01-202020-01-192020-01-182020-01-172020-01-162020-01-152020-01-142020-01-132020-01-122020-01-112020-01-102020-01-092020-01-082020-01-072020-01-062020-01-052020-01-042020-01-032020-01-022020-01-012019-12-312020-04-232020-04-222020-04-212020-04-202020-04-192020-04-182020-04-172020-04-162020-04-152020-04-142020-04-132020-04-122020-04-112020-04-102020-04-092020-04-082020-04-072020-04-062020-04-052020-04-042020-04-032020-04-022020-04-012020-03-312020-03-302020-03-292020-03-282020-03-272020-03-262020-03-252020-03-242020-03-232020-03-222020-03-212020-03-202020-03-192020-03-182020-03-172020-03-162020-03-152020-03-142020-03-132020-03-122020-03-112020-03-102020-03-092020-03-082020-03-072020-03-062020-03-052020-03-042020-03-032020-03-022020-03-012020-02-292020-02-282020-02-272020-02-262020-02-252020-02-242020-02-232020-02-222020-02-212020-02-202020-02-192020-02-182020-02-172020-02-162020-02-152020-02-142020-02-132020-02-122020-02-112020-02-102020-02-092020-02-082020-02-072020-02-062020-02-052020-02-042020-02-032020-02-022020-02-012020-01-312020-01-302020-01-292020-01-282020-01-272020-01-262020-01-252020-01-242020-01-232020-01-222020-01-212020-01-202020-01-192020-01-182020-01-172020-01-162020-01-152020-01-142020-01-132020-01-122020-01-112020-01-102020-01-092020-01-082020-01-072020-01-062020-01-052020-01-042020-01-032020-01-022020-01-012019-12-31'\n 'BelgiumBelgiumBelgiumBelgiumBelgiumBelgiumBelgiumBelgiumBelgiumBelgiumBelgiumBelgiumBelgiumBelgiumBelgiumBelgiumBelgiumBelgiumBelgiumBelgiumBelgiumBelgiumBelgiumBelgiumBelgiumBelgiumBelgiumBelgiumBelgiumBelgiumBelgiumBelgiumBelgiumBelgiumBelgiumBelgiumBelgiumBelgiumBelgiumBelgiumBelgiumBelgiumBelgiumBelgiumBelgiumBelgiumBelgiumBelgiumBelgiumBelgiumBelgiumBelgiumBelgiumBelgiumBelgiumBelgiumBelgiumBelgiumBelgiumBelgiumBelgiumBelgiumBelgiumBelgiumBelgiumBelgiumBelgiumBelgiumBelgiumBelgiumBelgiumBelgiumBelgiumBelgiumBelgiumBelgiumBelgiumBelgiumBelgiumBelgiumBelgiumBelgiumBelgiumBelgiumBelgiumBelgiumBelgiumBelgiumBelgiumBelgiumBelgiumBelgiumBelgiumBelgiumBelgiumBelgiumBelgiumBelgiumBelgiumBelgiumBelgiumBelgiumBelgiumBelgiumBelgiumBelgiumBelgiumBelgiumBelgiumBelgiumBelgiumBelgiumBelgiumBelgiumBelgiumFranceFranceFranceFranceFranceFranceFranceFranceFranceFranceFranceFranceFranceFranceFranceFranceFranceFranceFranceFranceFranceFranceFranceFranceFranceFranceFranceFranceFranceFranceFranceFranceFranceFranceFranceFranceFranceFranceFranceFranceFranceFranceFranceFranceFranceFranceFranceFranceFranceFranceFranceFranceFranceFranceFranceFranceFranceFranceFranceFranceFranceFranceFranceFranceFranceFranceFranceFranceFranceFranceFranceFranceFranceFranceFranceFranceFranceFranceFranceFranceFranceFranceFranceFranceFranceFranceFranceFranceFranceFranceFranceFranceFranceFranceFranceFranceFranceFranceFranceFranceFranceFranceFranceFranceFranceFranceFranceFranceFranceFranceFranceFranceFranceFranceFranceItalyItalyItalyItalyItalyItalyItalyItalyItalyItalyItalyItalyItalyItalyItalyItalyItalyItalyItalyItalyItalyItalyItalyItalyItalyItalyItalyItalyItalyItalyItalyItalyItalyItalyItalyItalyItalyItalyItalyItalyItalyItalyItalyItalyItalyItalyItalyItalyItalyItalyItalyItalyItalyItalyItalyItalyItalyItalyItalyItalyItalyItalyItalyItalyItalyItalyItalyItalyItalyItalyItalyItalyItalyItalyItalyItalyItalyItalyItalyItalyItalyItalyItalyItalyItalyItalyItalyItalyItalyItalyItalyItalyItalyItalyItalyItalyItalyItalyItalyItalyItalyItalyItalyItalyItalyItalyItalyItalyItalyItalyItalyItalyItalyItalyItalySpainSpainSpainSpainSpainSpainSpainSpainSpainSpainSpainSpainSpainSpainSpainSpainSpainSpainSpainSpainSpainSpainSpainSpainSpainSpainSpainSpainSpainSpainSpainSpainSpainSpainSpainSpainSpainSpainSpainSpainSpainSpainSpainSpainSpainSpainSpainSpainSpainSpainSpainSpainSpainSpainSpainSpainSpainSpainSpainSpainSpainSpainSpainSpainSpainSpainSpainSpainSpainSpainSpainSpainSpainSpainSpainSpainSpainSpainSpainSpainSpainSpainSpainSpainSpainSpainSpainSpainSpainSpainSpainSpainSpainSpainSpainSpainSpainSpainSpainSpainSpainSpainSpainSpainSpainSpainSpainSpainSpainSpainSpainSpainSpainSpainSpainUnited_KingdomUnited_KingdomUnited_KingdomUnited_KingdomUnited_KingdomUnited_KingdomUnited_KingdomUnited_KingdomUnited_KingdomUnited_KingdomUnited_KingdomUnited_KingdomUnited_KingdomUnited_KingdomUnited_KingdomUnited_KingdomUnited_KingdomUnited_KingdomUnited_KingdomUnited_KingdomUnited_KingdomUnited_KingdomUnited_KingdomUnited_KingdomUnited_KingdomUnited_KingdomUnited_KingdomUnited_KingdomUnited_KingdomUnited_KingdomUnited_KingdomUnited_KingdomUnited_KingdomUnited_KingdomUnited_KingdomUnited_KingdomUnited_KingdomUnited_KingdomUnited_KingdomUnited_KingdomUnited_KingdomUnited_KingdomUnited_KingdomUnited_KingdomUnited_KingdomUnited_KingdomUnited_KingdomUnited_KingdomUnited_KingdomUnited_KingdomUnited_KingdomUnited_KingdomUnited_KingdomUnited_KingdomUnited_KingdomUnited_KingdomUnited_KingdomUnited_KingdomUnited_KingdomUnited_KingdomUnited_KingdomUnited_KingdomUnited_KingdomUnited_KingdomUnited_KingdomUnited_KingdomUnited_KingdomUnited_KingdomUnited_KingdomUnited_KingdomUnited_KingdomUnited_KingdomUnited_KingdomUnited_KingdomUnited_KingdomUnited_KingdomUnited_KingdomUnited_KingdomUnited_KingdomUnited_KingdomUnited_KingdomUnited_KingdomUnited_KingdomUnited_KingdomUnited_KingdomUnited_KingdomUnited_KingdomUnited_KingdomUnited_KingdomUnited_KingdomUnited_KingdomUnited_KingdomUnited_KingdomUnited_KingdomUnited_KingdomUnited_KingdomUnited_KingdomUnited_KingdomUnited_KingdomUnited_KingdomUnited_KingdomUnited_KingdomUnited_KingdomUnited_KingdomUnited_KingdomUnited_KingdomUnited_KingdomUnited_KingdomUnited_KingdomUnited_KingdomUnited_KingdomUnited_KingdomUnited_KingdomUnited_KingdomUnited_KingdomUnited_States_of_AmericaUnited_States_of_AmericaUnited_States_of_AmericaUnited_States_of_AmericaUnited_States_of_AmericaUnited_States_of_AmericaUnited_States_of_AmericaUnited_States_of_AmericaUnited_States_of_AmericaUnited_States_of_AmericaUnited_States_of_AmericaUnited_States_of_AmericaUnited_States_of_AmericaUnited_States_of_AmericaUnited_States_of_AmericaUnited_States_of_AmericaUnited_States_of_AmericaUnited_States_of_AmericaUnited_States_of_AmericaUnited_States_of_AmericaUnited_States_of_AmericaUnited_States_of_AmericaUnited_States_of_AmericaUnited_States_of_AmericaUnited_States_of_AmericaUnited_States_of_AmericaUnited_States_of_AmericaUnited_States_of_AmericaUnited_States_of_AmericaUnited_States_of_AmericaUnited_States_of_AmericaUnited_States_of_AmericaUnited_States_of_AmericaUnited_States_of_AmericaUnited_States_of_AmericaUnited_States_of_AmericaUnited_States_of_AmericaUnited_States_of_AmericaUnited_States_of_AmericaUnited_States_of_AmericaUnited_States_of_AmericaUnited_States_of_AmericaUnited_States_of_AmericaUnited_States_of_AmericaUnited_States_of_AmericaUnited_States_of_AmericaUnited_States_of_AmericaUnited_States_of_AmericaUnited_States_of_AmericaUnited_States_of_AmericaUnited_States_of_AmericaUnited_States_of_AmericaUnited_States_of_AmericaUnited_States_of_AmericaUnited_States_of_AmericaUnited_States_of_AmericaUnited_States_of_AmericaUnited_States_of_AmericaUnited_States_of_AmericaUnited_States_of_AmericaUnited_States_of_AmericaUnited_States_of_AmericaUnited_States_of_AmericaUnited_States_of_AmericaUnited_States_of_AmericaUnited_States_of_AmericaUnited_States_of_AmericaUnited_States_of_AmericaUnited_States_of_AmericaUnited_States_of_AmericaUnited_States_of_AmericaUnited_States_of_AmericaUnited_States_of_AmericaUnited_States_of_AmericaUnited_States_of_AmericaUnited_States_of_AmericaUnited_States_of_AmericaUnited_States_of_AmericaUnited_States_of_AmericaUnited_States_of_AmericaUnited_States_of_AmericaUnited_States_of_AmericaUnited_States_of_AmericaUnited_States_of_AmericaUnited_States_of_AmericaUnited_States_of_AmericaUnited_States_of_AmericaUnited_States_of_AmericaUnited_States_of_AmericaUnited_States_of_AmericaUnited_States_of_AmericaUnited_States_of_AmericaUnited_States_of_AmericaUnited_States_of_AmericaUnited_States_of_AmericaUnited_States_of_AmericaUnited_States_of_AmericaUnited_States_of_AmericaUnited_States_of_AmericaUnited_States_of_AmericaUnited_States_of_AmericaUnited_States_of_AmericaUnited_States_of_AmericaUnited_States_of_AmericaUnited_States_of_AmericaUnited_States_of_AmericaUnited_States_of_AmericaUnited_States_of_AmericaUnited_States_of_AmericaUnited_States_of_AmericaUnited_States_of_AmericaUnited_States_of_AmericaUnited_States_of_AmericaUnited_States_of_AmericaUnited_States_of_America'\n 'BEBEBEBEBEBEBEBEBEBEBEBEBEBEBEBEBEBEBEBEBEBEBEBEBEBEBEBEBEBEBEBEBEBEBEBEBEBEBEBEBEBEBEBEBEBEBEBEBEBEBEBEBEBEBEBEBEBEBEBEBEBEBEBEBEBEBEBEBEBEBEBEBEBEBEBEBEBEBEBEBEBEBEBEBEBEBEBEBEBEBEBEBEBEBEBEBEBEBEBEBEBEBEBEBEBEBEBEBEBEBEBEBEBEBEFRFRFRFRFRFRFRFRFRFRFRFRFRFRFRFRFRFRFRFRFRFRFRFRFRFRFRFRFRFRFRFRFRFRFRFRFRFRFRFRFRFRFRFRFRFRFRFRFRFRFRFRFRFRFRFRFRFRFRFRFRFRFRFRFRFRFRFRFRFRFRFRFRFRFRFRFRFRFRFRFRFRFRFRFRFRFRFRFRFRFRFRFRFRFRFRFRFRFRFRFRFRFRFRFRFRFRFRFRFRFRFRFRFRFRITITITITITITITITITITITITITITITITITITITITITITITITITITITITITITITITITITITITITITITITITITITITITITITITITITITITITITITITITITITITITITITITITITITITITITITITITITITITITITITITITITITITITITITITITITITITITITITITITITITITITITITITITITITITITITITITITITITESESESESESESESESESESESESESESESESESESESESESESESESESESESESESESESESESESESESESESESESESESESESESESESESESESESESESESESESESESESESESESESESESESESESESESESESESESESESESESESESESESESESESESESESESESESESESESESESESESESESESESESESESESESESESESESESESESESUKUKUKUKUKUKUKUKUKUKUKUKUKUKUKUKUKUKUKUKUKUKUKUKUKUKUKUKUKUKUKUKUKUKUKUKUKUKUKUKUKUKUKUKUKUKUKUKUKUKUKUKUKUKUKUKUKUKUKUKUKUKUKUKUKUKUKUKUKUKUKUKUKUKUKUKUKUKUKUKUKUKUKUKUKUKUKUKUKUKUKUKUKUKUKUKUKUKUKUKUKUKUKUKUKUKUKUKUKUKUKUKUKUKUKUSUSUSUSUSUSUSUSUSUSUSUSUSUSUSUSUSUSUSUSUSUSUSUSUSUSUSUSUSUSUSUSUSUSUSUSUSUSUSUSUSUSUSUSUSUSUSUSUSUSUSUSUSUSUSUSUSUSUSUSUSUSUSUSUSUSUSUSUSUSUSUSUSUSUSUSUSUSUSUSUSUSUSUSUSUSUSUSUSUSUSUSUSUSUSUSUSUSUSUSUSUSUSUSUSUSUSUSUSUSUSUSUSUSUS'\n 'BELBELBELBELBELBELBELBELBELBELBELBELBELBELBELBELBELBELBELBELBELBELBELBELBELBELBELBELBELBELBELBELBELBELBELBELBELBELBELBELBELBELBELBELBELBELBELBELBELBELBELBELBELBELBELBELBELBELBELBELBELBELBELBELBELBELBELBELBELBELBELBELBELBELBELBELBELBELBELBELBELBELBELBELBELBELBELBELBELBELBELBELBELBELBELBELBELBELBELBELBELBELBELBELBELBELBELBELBELBELBELBELBELBELBELFRAFRAFRAFRAFRAFRAFRAFRAFRAFRAFRAFRAFRAFRAFRAFRAFRAFRAFRAFRAFRAFRAFRAFRAFRAFRAFRAFRAFRAFRAFRAFRAFRAFRAFRAFRAFRAFRAFRAFRAFRAFRAFRAFRAFRAFRAFRAFRAFRAFRAFRAFRAFRAFRAFRAFRAFRAFRAFRAFRAFRAFRAFRAFRAFRAFRAFRAFRAFRAFRAFRAFRAFRAFRAFRAFRAFRAFRAFRAFRAFRAFRAFRAFRAFRAFRAFRAFRAFRAFRAFRAFRAFRAFRAFRAFRAFRAFRAFRAFRAFRAFRAFRAFRAFRAFRAFRAFRAFRAFRAFRAFRAFRAFRAFRAITAITAITAITAITAITAITAITAITAITAITAITAITAITAITAITAITAITAITAITAITAITAITAITAITAITAITAITAITAITAITAITAITAITAITAITAITAITAITAITAITAITAITAITAITAITAITAITAITAITAITAITAITAITAITAITAITAITAITAITAITAITAITAITAITAITAITAITAITAITAITAITAITAITAITAITAITAITAITAITAITAITAITAITAITAITAITAITAITAITAITAITAITAITAITAITAITAITAITAITAITAITAITAITAITAITAITAITAITAITAITAITAITAITAITAESPESPESPESPESPESPESPESPESPESPESPESPESPESPESPESPESPESPESPESPESPESPESPESPESPESPESPESPESPESPESPESPESPESPESPESPESPESPESPESPESPESPESPESPESPESPESPESPESPESPESPESPESPESPESPESPESPESPESPESPESPESPESPESPESPESPESPESPESPESPESPESPESPESPESPESPESPESPESPESPESPESPESPESPESPESPESPESPESPESPESPESPESPESPESPESPESPESPESPESPESPESPESPESPESPESPESPESPESPESPESPESPESPESPESPGBRGBRGBRGBRGBRGBRGBRGBRGBRGBRGBRGBRGBRGBRGBRGBRGBRGBRGBRGBRGBRGBRGBRGBRGBRGBRGBRGBRGBRGBRGBRGBRGBRGBRGBRGBRGBRGBRGBRGBRGBRGBRGBRGBRGBRGBRGBRGBRGBRGBRGBRGBRGBRGBRGBRGBRGBRGBRGBRGBRGBRGBRGBRGBRGBRGBRGBRGBRGBRGBRGBRGBRGBRGBRGBRGBRGBRGBRGBRGBRGBRGBRGBRGBRGBRGBRGBRGBRGBRGBRGBRGBRGBRGBRGBRGBRGBRGBRGBRGBRGBRGBRGBRGBRGBRGBRGBRGBRGBRGBRGBRGBRGBRGBRGBRUSAUSAUSAUSAUSAUSAUSAUSAUSAUSAUSAUSAUSAUSAUSAUSAUSAUSAUSAUSAUSAUSAUSAUSAUSAUSAUSAUSAUSAUSAUSAUSAUSAUSAUSAUSAUSAUSAUSAUSAUSAUSAUSAUSAUSAUSAUSAUSAUSAUSAUSAUSAUSAUSAUSAUSAUSAUSAUSAUSAUSAUSAUSAUSAUSAUSAUSAUSAUSAUSAUSAUSAUSAUSAUSAUSAUSAUSAUSAUSAUSAUSAUSAUSAUSAUSAUSAUSAUSAUSAUSAUSAUSAUSAUSAUSAUSAUSAUSAUSAUSAUSAUSAUSAUSAUSAUSAUSAUSAUSAUSAUSAUSAUSAUSA'\n 'EuropeEuropeEuropeEuropeEuropeEuropeEuropeEuropeEuropeEuropeEuropeEuropeEuropeEuropeEuropeEuropeEuropeEuropeEuropeEuropeEuropeEuropeEuropeEuropeEuropeEuropeEuropeEuropeEuropeEuropeEuropeEuropeEuropeEuropeEuropeEuropeEuropeEuropeEuropeEuropeEuropeEuropeEuropeEuropeEuropeEuropeEuropeEuropeEuropeEuropeEuropeEuropeEuropeEuropeEuropeEuropeEuropeEuropeEuropeEuropeEuropeEuropeEuropeEuropeEuropeEuropeEuropeEuropeEuropeEuropeEuropeEuropeEuropeEuropeEuropeEuropeEuropeEuropeEuropeEuropeEuropeEuropeEuropeEuropeEuropeEuropeEuropeEuropeEuropeEuropeEuropeEuropeEuropeEuropeEuropeEuropeEuropeEuropeEuropeEuropeEuropeEuropeEuropeEuropeEuropeEuropeEuropeEuropeEuropeEuropeEuropeEuropeEuropeEuropeEuropeEuropeEuropeEuropeEuropeEuropeEuropeEuropeEuropeEuropeEuropeEuropeEuropeEuropeEuropeEuropeEuropeEuropeEuropeEuropeEuropeEuropeEuropeEuropeEuropeEuropeEuropeEuropeEuropeEuropeEuropeEuropeEuropeEuropeEuropeEuropeEuropeEuropeEuropeEuropeEuropeEuropeEuropeEuropeEuropeEuropeEuropeEuropeEuropeEuropeEuropeEuropeEuropeEuropeEuropeEuropeEuropeEuropeEuropeEuropeEuropeEuropeEuropeEuropeEuropeEuropeEuropeEuropeEuropeEuropeEuropeEuropeEuropeEuropeEuropeEuropeEuropeEuropeEuropeEuropeEuropeEuropeEuropeEuropeEuropeEuropeEuropeEuropeEuropeEuropeEuropeEuropeEuropeEuropeEuropeEuropeEuropeEuropeEuropeEuropeEuropeEuropeEuropeEuropeEuropeEuropeEuropeEuropeEuropeEuropeEuropeEuropeEuropeEuropeEuropeEuropeEuropeEuropeEuropeEuropeEuropeEuropeEuropeEuropeEuropeEuropeEuropeEuropeEuropeEuropeEuropeEuropeEuropeEuropeEuropeEuropeEuropeEuropeEuropeEuropeEuropeEuropeEuropeEuropeEuropeEuropeEuropeEuropeEuropeEuropeEuropeEuropeEuropeEuropeEuropeEuropeEuropeEuropeEuropeEuropeEuropeEuropeEuropeEuropeEuropeEuropeEuropeEuropeEuropeEuropeEuropeEuropeEuropeEuropeEuropeEuropeEuropeEuropeEuropeEuropeEuropeEuropeEuropeEuropeEuropeEuropeEuropeEuropeEuropeEuropeEuropeEuropeEuropeEuropeEuropeEuropeEuropeEuropeEuropeEuropeEuropeEuropeEuropeEuropeEuropeEuropeEuropeEuropeEuropeEuropeEuropeEuropeEuropeEuropeEuropeEuropeEuropeEuropeEuropeEuropeEuropeEuropeEuropeEuropeEuropeEuropeEuropeEuropeEuropeEuropeEuropeEuropeEuropeEuropeEuropeEuropeEuropeEuropeEuropeEuropeEuropeEuropeEuropeEuropeEuropeEuropeEuropeEuropeEuropeEuropeEuropeEuropeEuropeEuropeEuropeEuropeEuropeEuropeEuropeEuropeEuropeEuropeEuropeEuropeEuropeEuropeEuropeEuropeEuropeEuropeEuropeEuropeEuropeEuropeEuropeEuropeEuropeEuropeEuropeEuropeEuropeEuropeEuropeEuropeEuropeEuropeEuropeEuropeEuropeEuropeEuropeEuropeEuropeEuropeEuropeEuropeEuropeEuropeEuropeEuropeEuropeEuropeEuropeEuropeEuropeEuropeEuropeEuropeEuropeEuropeEuropeEuropeEuropeEuropeEuropeEuropeEuropeEuropeEuropeEuropeEuropeEuropeEuropeEuropeEuropeEuropeEuropeEuropeEuropeEuropeEuropeEuropeEuropeEuropeEuropeEuropeEuropeEuropeEuropeEuropeEuropeEuropeEuropeEuropeEuropeEuropeEuropeEuropeEuropeEuropeEuropeEuropeEuropeEuropeEuropeEuropeEuropeEuropeEuropeEuropeEuropeEuropeEuropeEuropeEuropeEuropeEuropeEuropeEuropeEuropeEuropeEuropeEuropeEuropeEuropeEuropeEuropeEuropeEuropeEuropeEuropeEuropeEuropeEuropeEuropeEuropeEuropeEuropeEuropeEuropeEuropeEuropeEuropeEuropeEuropeEuropeEuropeEuropeEuropeEuropeEuropeEuropeEuropeEuropeEuropeEuropeEuropeEuropeEuropeEuropeEuropeEuropeEuropeEuropeEuropeEuropeEuropeEuropeEuropeEuropeEuropeEuropeEuropeEuropeEuropeEuropeEuropeEuropeEuropeEuropeEuropeEuropeEuropeEuropeEuropeEuropeEuropeEuropeEuropeEuropeEuropeEuropeEuropeEuropeEuropeEuropeEuropeEuropeEuropeEuropeEuropeEuropeEuropeEuropeEuropeEuropeEuropeEuropeEuropeEuropeEuropeAmericaAmericaAmericaAmericaAmericaAmericaAmericaAmericaAmericaAmericaAmericaAmericaAmericaAmericaAmericaAmericaAmericaAmericaAmericaAmericaAmericaAmericaAmericaAmericaAmericaAmericaAmericaAmericaAmericaAmericaAmericaAmericaAmericaAmericaAmericaAmericaAmericaAmericaAmericaAmericaAmericaAmericaAmericaAmericaAmericaAmericaAmericaAmericaAmericaAmericaAmericaAmericaAmericaAmericaAmericaAmericaAmericaAmericaAmericaAmericaAmericaAmericaAmericaAmericaAmericaAmericaAmericaAmericaAmericaAmericaAmericaAmericaAmericaAmericaAmericaAmericaAmericaAmericaAmericaAmericaAmericaAmericaAmericaAmericaAmericaAmericaAmericaAmericaAmericaAmericaAmericaAmericaAmericaAmericaAmericaAmericaAmericaAmericaAmericaAmericaAmericaAmericaAmericaAmericaAmericaAmericaAmericaAmericaAmericaAmericaAmericaAmericaAmericaAmericaAmerica'] to numeric",
     "output_type": "error",
     "traceback": [
      "\u001b[0;31m---------------------------------------------------------------------------\u001b[0m",
      "\u001b[0;31mTypeError\u001b[0m                                 Traceback (most recent call last)",
      "Cell \u001b[0;32mIn[6], line 1\u001b[0m\n\u001b[0;32m----> 1\u001b[0m \u001b[43mdata\u001b[49m\u001b[38;5;241;43m.\u001b[39;49m\u001b[43mmean\u001b[49m\u001b[43m(\u001b[49m\u001b[43m)\u001b[49m\n",
      "File \u001b[0;32m~/Library/CloudStorage/Dropbox/2024-DataScience/GitHub/2-Jedha_Fullstack/.venv/lib/python3.12/site-packages/pandas/core/frame.py:11693\u001b[0m, in \u001b[0;36mDataFrame.mean\u001b[0;34m(self, axis, skipna, numeric_only, **kwargs)\u001b[0m\n\u001b[1;32m  11685\u001b[0m \u001b[38;5;129m@doc\u001b[39m(make_doc(\u001b[38;5;124m\"\u001b[39m\u001b[38;5;124mmean\u001b[39m\u001b[38;5;124m\"\u001b[39m, ndim\u001b[38;5;241m=\u001b[39m\u001b[38;5;241m2\u001b[39m))\n\u001b[1;32m  11686\u001b[0m \u001b[38;5;28;01mdef\u001b[39;00m \u001b[38;5;21mmean\u001b[39m(\n\u001b[1;32m  11687\u001b[0m     \u001b[38;5;28mself\u001b[39m,\n\u001b[0;32m   (...)\u001b[0m\n\u001b[1;32m  11691\u001b[0m     \u001b[38;5;241m*\u001b[39m\u001b[38;5;241m*\u001b[39mkwargs,\n\u001b[1;32m  11692\u001b[0m ):\n\u001b[0;32m> 11693\u001b[0m     result \u001b[38;5;241m=\u001b[39m \u001b[38;5;28;43msuper\u001b[39;49m\u001b[43m(\u001b[49m\u001b[43m)\u001b[49m\u001b[38;5;241;43m.\u001b[39;49m\u001b[43mmean\u001b[49m\u001b[43m(\u001b[49m\u001b[43maxis\u001b[49m\u001b[43m,\u001b[49m\u001b[43m \u001b[49m\u001b[43mskipna\u001b[49m\u001b[43m,\u001b[49m\u001b[43m \u001b[49m\u001b[43mnumeric_only\u001b[49m\u001b[43m,\u001b[49m\u001b[43m \u001b[49m\u001b[38;5;241;43m*\u001b[39;49m\u001b[38;5;241;43m*\u001b[39;49m\u001b[43mkwargs\u001b[49m\u001b[43m)\u001b[49m\n\u001b[1;32m  11694\u001b[0m     \u001b[38;5;28;01mif\u001b[39;00m \u001b[38;5;28misinstance\u001b[39m(result, Series):\n\u001b[1;32m  11695\u001b[0m         result \u001b[38;5;241m=\u001b[39m result\u001b[38;5;241m.\u001b[39m__finalize__(\u001b[38;5;28mself\u001b[39m, method\u001b[38;5;241m=\u001b[39m\u001b[38;5;124m\"\u001b[39m\u001b[38;5;124mmean\u001b[39m\u001b[38;5;124m\"\u001b[39m)\n",
      "File \u001b[0;32m~/Library/CloudStorage/Dropbox/2024-DataScience/GitHub/2-Jedha_Fullstack/.venv/lib/python3.12/site-packages/pandas/core/generic.py:12420\u001b[0m, in \u001b[0;36mNDFrame.mean\u001b[0;34m(self, axis, skipna, numeric_only, **kwargs)\u001b[0m\n\u001b[1;32m  12413\u001b[0m \u001b[38;5;28;01mdef\u001b[39;00m \u001b[38;5;21mmean\u001b[39m(\n\u001b[1;32m  12414\u001b[0m     \u001b[38;5;28mself\u001b[39m,\n\u001b[1;32m  12415\u001b[0m     axis: Axis \u001b[38;5;241m|\u001b[39m \u001b[38;5;28;01mNone\u001b[39;00m \u001b[38;5;241m=\u001b[39m \u001b[38;5;241m0\u001b[39m,\n\u001b[0;32m   (...)\u001b[0m\n\u001b[1;32m  12418\u001b[0m     \u001b[38;5;241m*\u001b[39m\u001b[38;5;241m*\u001b[39mkwargs,\n\u001b[1;32m  12419\u001b[0m ) \u001b[38;5;241m-\u001b[39m\u001b[38;5;241m>\u001b[39m Series \u001b[38;5;241m|\u001b[39m \u001b[38;5;28mfloat\u001b[39m:\n\u001b[0;32m> 12420\u001b[0m     \u001b[38;5;28;01mreturn\u001b[39;00m \u001b[38;5;28;43mself\u001b[39;49m\u001b[38;5;241;43m.\u001b[39;49m\u001b[43m_stat_function\u001b[49m\u001b[43m(\u001b[49m\n\u001b[1;32m  12421\u001b[0m \u001b[43m        \u001b[49m\u001b[38;5;124;43m\"\u001b[39;49m\u001b[38;5;124;43mmean\u001b[39;49m\u001b[38;5;124;43m\"\u001b[39;49m\u001b[43m,\u001b[49m\u001b[43m \u001b[49m\u001b[43mnanops\u001b[49m\u001b[38;5;241;43m.\u001b[39;49m\u001b[43mnanmean\u001b[49m\u001b[43m,\u001b[49m\u001b[43m \u001b[49m\u001b[43maxis\u001b[49m\u001b[43m,\u001b[49m\u001b[43m \u001b[49m\u001b[43mskipna\u001b[49m\u001b[43m,\u001b[49m\u001b[43m \u001b[49m\u001b[43mnumeric_only\u001b[49m\u001b[43m,\u001b[49m\u001b[43m \u001b[49m\u001b[38;5;241;43m*\u001b[39;49m\u001b[38;5;241;43m*\u001b[39;49m\u001b[43mkwargs\u001b[49m\n\u001b[1;32m  12422\u001b[0m \u001b[43m    \u001b[49m\u001b[43m)\u001b[49m\n",
      "File \u001b[0;32m~/Library/CloudStorage/Dropbox/2024-DataScience/GitHub/2-Jedha_Fullstack/.venv/lib/python3.12/site-packages/pandas/core/generic.py:12377\u001b[0m, in \u001b[0;36mNDFrame._stat_function\u001b[0;34m(self, name, func, axis, skipna, numeric_only, **kwargs)\u001b[0m\n\u001b[1;32m  12373\u001b[0m nv\u001b[38;5;241m.\u001b[39mvalidate_func(name, (), kwargs)\n\u001b[1;32m  12375\u001b[0m validate_bool_kwarg(skipna, \u001b[38;5;124m\"\u001b[39m\u001b[38;5;124mskipna\u001b[39m\u001b[38;5;124m\"\u001b[39m, none_allowed\u001b[38;5;241m=\u001b[39m\u001b[38;5;28;01mFalse\u001b[39;00m)\n\u001b[0;32m> 12377\u001b[0m \u001b[38;5;28;01mreturn\u001b[39;00m \u001b[38;5;28;43mself\u001b[39;49m\u001b[38;5;241;43m.\u001b[39;49m\u001b[43m_reduce\u001b[49m\u001b[43m(\u001b[49m\n\u001b[1;32m  12378\u001b[0m \u001b[43m    \u001b[49m\u001b[43mfunc\u001b[49m\u001b[43m,\u001b[49m\u001b[43m \u001b[49m\u001b[43mname\u001b[49m\u001b[38;5;241;43m=\u001b[39;49m\u001b[43mname\u001b[49m\u001b[43m,\u001b[49m\u001b[43m \u001b[49m\u001b[43maxis\u001b[49m\u001b[38;5;241;43m=\u001b[39;49m\u001b[43maxis\u001b[49m\u001b[43m,\u001b[49m\u001b[43m \u001b[49m\u001b[43mskipna\u001b[49m\u001b[38;5;241;43m=\u001b[39;49m\u001b[43mskipna\u001b[49m\u001b[43m,\u001b[49m\u001b[43m \u001b[49m\u001b[43mnumeric_only\u001b[49m\u001b[38;5;241;43m=\u001b[39;49m\u001b[43mnumeric_only\u001b[49m\n\u001b[1;32m  12379\u001b[0m \u001b[43m\u001b[49m\u001b[43m)\u001b[49m\n",
      "File \u001b[0;32m~/Library/CloudStorage/Dropbox/2024-DataScience/GitHub/2-Jedha_Fullstack/.venv/lib/python3.12/site-packages/pandas/core/frame.py:11562\u001b[0m, in \u001b[0;36mDataFrame._reduce\u001b[0;34m(self, op, name, axis, skipna, numeric_only, filter_type, **kwds)\u001b[0m\n\u001b[1;32m  11558\u001b[0m     df \u001b[38;5;241m=\u001b[39m df\u001b[38;5;241m.\u001b[39mT\n\u001b[1;32m  11560\u001b[0m \u001b[38;5;66;03m# After possibly _get_data and transposing, we are now in the\u001b[39;00m\n\u001b[1;32m  11561\u001b[0m \u001b[38;5;66;03m#  simple case where we can use BlockManager.reduce\u001b[39;00m\n\u001b[0;32m> 11562\u001b[0m res \u001b[38;5;241m=\u001b[39m \u001b[43mdf\u001b[49m\u001b[38;5;241;43m.\u001b[39;49m\u001b[43m_mgr\u001b[49m\u001b[38;5;241;43m.\u001b[39;49m\u001b[43mreduce\u001b[49m\u001b[43m(\u001b[49m\u001b[43mblk_func\u001b[49m\u001b[43m)\u001b[49m\n\u001b[1;32m  11563\u001b[0m out \u001b[38;5;241m=\u001b[39m df\u001b[38;5;241m.\u001b[39m_constructor_from_mgr(res, axes\u001b[38;5;241m=\u001b[39mres\u001b[38;5;241m.\u001b[39maxes)\u001b[38;5;241m.\u001b[39miloc[\u001b[38;5;241m0\u001b[39m]\n\u001b[1;32m  11564\u001b[0m \u001b[38;5;28;01mif\u001b[39;00m out_dtype \u001b[38;5;129;01mis\u001b[39;00m \u001b[38;5;129;01mnot\u001b[39;00m \u001b[38;5;28;01mNone\u001b[39;00m \u001b[38;5;129;01mand\u001b[39;00m out\u001b[38;5;241m.\u001b[39mdtype \u001b[38;5;241m!=\u001b[39m \u001b[38;5;124m\"\u001b[39m\u001b[38;5;124mboolean\u001b[39m\u001b[38;5;124m\"\u001b[39m:\n",
      "File \u001b[0;32m~/Library/CloudStorage/Dropbox/2024-DataScience/GitHub/2-Jedha_Fullstack/.venv/lib/python3.12/site-packages/pandas/core/internals/managers.py:1500\u001b[0m, in \u001b[0;36mBlockManager.reduce\u001b[0;34m(self, func)\u001b[0m\n\u001b[1;32m   1498\u001b[0m res_blocks: \u001b[38;5;28mlist\u001b[39m[Block] \u001b[38;5;241m=\u001b[39m []\n\u001b[1;32m   1499\u001b[0m \u001b[38;5;28;01mfor\u001b[39;00m blk \u001b[38;5;129;01min\u001b[39;00m \u001b[38;5;28mself\u001b[39m\u001b[38;5;241m.\u001b[39mblocks:\n\u001b[0;32m-> 1500\u001b[0m     nbs \u001b[38;5;241m=\u001b[39m \u001b[43mblk\u001b[49m\u001b[38;5;241;43m.\u001b[39;49m\u001b[43mreduce\u001b[49m\u001b[43m(\u001b[49m\u001b[43mfunc\u001b[49m\u001b[43m)\u001b[49m\n\u001b[1;32m   1501\u001b[0m     res_blocks\u001b[38;5;241m.\u001b[39mextend(nbs)\n\u001b[1;32m   1503\u001b[0m index \u001b[38;5;241m=\u001b[39m Index([\u001b[38;5;28;01mNone\u001b[39;00m])  \u001b[38;5;66;03m# placeholder\u001b[39;00m\n",
      "File \u001b[0;32m~/Library/CloudStorage/Dropbox/2024-DataScience/GitHub/2-Jedha_Fullstack/.venv/lib/python3.12/site-packages/pandas/core/internals/blocks.py:404\u001b[0m, in \u001b[0;36mBlock.reduce\u001b[0;34m(self, func)\u001b[0m\n\u001b[1;32m    398\u001b[0m \u001b[38;5;129m@final\u001b[39m\n\u001b[1;32m    399\u001b[0m \u001b[38;5;28;01mdef\u001b[39;00m \u001b[38;5;21mreduce\u001b[39m(\u001b[38;5;28mself\u001b[39m, func) \u001b[38;5;241m-\u001b[39m\u001b[38;5;241m>\u001b[39m \u001b[38;5;28mlist\u001b[39m[Block]:\n\u001b[1;32m    400\u001b[0m     \u001b[38;5;66;03m# We will apply the function and reshape the result into a single-row\u001b[39;00m\n\u001b[1;32m    401\u001b[0m     \u001b[38;5;66;03m#  Block with the same mgr_locs; squeezing will be done at a higher level\u001b[39;00m\n\u001b[1;32m    402\u001b[0m     \u001b[38;5;28;01massert\u001b[39;00m \u001b[38;5;28mself\u001b[39m\u001b[38;5;241m.\u001b[39mndim \u001b[38;5;241m==\u001b[39m \u001b[38;5;241m2\u001b[39m\n\u001b[0;32m--> 404\u001b[0m     result \u001b[38;5;241m=\u001b[39m \u001b[43mfunc\u001b[49m\u001b[43m(\u001b[49m\u001b[38;5;28;43mself\u001b[39;49m\u001b[38;5;241;43m.\u001b[39;49m\u001b[43mvalues\u001b[49m\u001b[43m)\u001b[49m\n\u001b[1;32m    406\u001b[0m     \u001b[38;5;28;01mif\u001b[39;00m \u001b[38;5;28mself\u001b[39m\u001b[38;5;241m.\u001b[39mvalues\u001b[38;5;241m.\u001b[39mndim \u001b[38;5;241m==\u001b[39m \u001b[38;5;241m1\u001b[39m:\n\u001b[1;32m    407\u001b[0m         res_values \u001b[38;5;241m=\u001b[39m result\n",
      "File \u001b[0;32m~/Library/CloudStorage/Dropbox/2024-DataScience/GitHub/2-Jedha_Fullstack/.venv/lib/python3.12/site-packages/pandas/core/frame.py:11481\u001b[0m, in \u001b[0;36mDataFrame._reduce.<locals>.blk_func\u001b[0;34m(values, axis)\u001b[0m\n\u001b[1;32m  11479\u001b[0m         \u001b[38;5;28;01mreturn\u001b[39;00m np\u001b[38;5;241m.\u001b[39marray([result])\n\u001b[1;32m  11480\u001b[0m \u001b[38;5;28;01melse\u001b[39;00m:\n\u001b[0;32m> 11481\u001b[0m     \u001b[38;5;28;01mreturn\u001b[39;00m \u001b[43mop\u001b[49m\u001b[43m(\u001b[49m\u001b[43mvalues\u001b[49m\u001b[43m,\u001b[49m\u001b[43m \u001b[49m\u001b[43maxis\u001b[49m\u001b[38;5;241;43m=\u001b[39;49m\u001b[43maxis\u001b[49m\u001b[43m,\u001b[49m\u001b[43m \u001b[49m\u001b[43mskipna\u001b[49m\u001b[38;5;241;43m=\u001b[39;49m\u001b[43mskipna\u001b[49m\u001b[43m,\u001b[49m\u001b[43m \u001b[49m\u001b[38;5;241;43m*\u001b[39;49m\u001b[38;5;241;43m*\u001b[39;49m\u001b[43mkwds\u001b[49m\u001b[43m)\u001b[49m\n",
      "File \u001b[0;32m~/Library/CloudStorage/Dropbox/2024-DataScience/GitHub/2-Jedha_Fullstack/.venv/lib/python3.12/site-packages/pandas/core/nanops.py:147\u001b[0m, in \u001b[0;36mbottleneck_switch.__call__.<locals>.f\u001b[0;34m(values, axis, skipna, **kwds)\u001b[0m\n\u001b[1;32m    145\u001b[0m         result \u001b[38;5;241m=\u001b[39m alt(values, axis\u001b[38;5;241m=\u001b[39maxis, skipna\u001b[38;5;241m=\u001b[39mskipna, \u001b[38;5;241m*\u001b[39m\u001b[38;5;241m*\u001b[39mkwds)\n\u001b[1;32m    146\u001b[0m \u001b[38;5;28;01melse\u001b[39;00m:\n\u001b[0;32m--> 147\u001b[0m     result \u001b[38;5;241m=\u001b[39m \u001b[43malt\u001b[49m\u001b[43m(\u001b[49m\u001b[43mvalues\u001b[49m\u001b[43m,\u001b[49m\u001b[43m \u001b[49m\u001b[43maxis\u001b[49m\u001b[38;5;241;43m=\u001b[39;49m\u001b[43maxis\u001b[49m\u001b[43m,\u001b[49m\u001b[43m \u001b[49m\u001b[43mskipna\u001b[49m\u001b[38;5;241;43m=\u001b[39;49m\u001b[43mskipna\u001b[49m\u001b[43m,\u001b[49m\u001b[43m \u001b[49m\u001b[38;5;241;43m*\u001b[39;49m\u001b[38;5;241;43m*\u001b[39;49m\u001b[43mkwds\u001b[49m\u001b[43m)\u001b[49m\n\u001b[1;32m    149\u001b[0m \u001b[38;5;28;01mreturn\u001b[39;00m result\n",
      "File \u001b[0;32m~/Library/CloudStorage/Dropbox/2024-DataScience/GitHub/2-Jedha_Fullstack/.venv/lib/python3.12/site-packages/pandas/core/nanops.py:404\u001b[0m, in \u001b[0;36m_datetimelike_compat.<locals>.new_func\u001b[0;34m(values, axis, skipna, mask, **kwargs)\u001b[0m\n\u001b[1;32m    401\u001b[0m \u001b[38;5;28;01mif\u001b[39;00m datetimelike \u001b[38;5;129;01mand\u001b[39;00m mask \u001b[38;5;129;01mis\u001b[39;00m \u001b[38;5;28;01mNone\u001b[39;00m:\n\u001b[1;32m    402\u001b[0m     mask \u001b[38;5;241m=\u001b[39m isna(values)\n\u001b[0;32m--> 404\u001b[0m result \u001b[38;5;241m=\u001b[39m \u001b[43mfunc\u001b[49m\u001b[43m(\u001b[49m\u001b[43mvalues\u001b[49m\u001b[43m,\u001b[49m\u001b[43m \u001b[49m\u001b[43maxis\u001b[49m\u001b[38;5;241;43m=\u001b[39;49m\u001b[43maxis\u001b[49m\u001b[43m,\u001b[49m\u001b[43m \u001b[49m\u001b[43mskipna\u001b[49m\u001b[38;5;241;43m=\u001b[39;49m\u001b[43mskipna\u001b[49m\u001b[43m,\u001b[49m\u001b[43m \u001b[49m\u001b[43mmask\u001b[49m\u001b[38;5;241;43m=\u001b[39;49m\u001b[43mmask\u001b[49m\u001b[43m,\u001b[49m\u001b[43m \u001b[49m\u001b[38;5;241;43m*\u001b[39;49m\u001b[38;5;241;43m*\u001b[39;49m\u001b[43mkwargs\u001b[49m\u001b[43m)\u001b[49m\n\u001b[1;32m    406\u001b[0m \u001b[38;5;28;01mif\u001b[39;00m datetimelike:\n\u001b[1;32m    407\u001b[0m     result \u001b[38;5;241m=\u001b[39m _wrap_results(result, orig_values\u001b[38;5;241m.\u001b[39mdtype, fill_value\u001b[38;5;241m=\u001b[39miNaT)\n",
      "File \u001b[0;32m~/Library/CloudStorage/Dropbox/2024-DataScience/GitHub/2-Jedha_Fullstack/.venv/lib/python3.12/site-packages/pandas/core/nanops.py:720\u001b[0m, in \u001b[0;36mnanmean\u001b[0;34m(values, axis, skipna, mask)\u001b[0m\n\u001b[1;32m    718\u001b[0m count \u001b[38;5;241m=\u001b[39m _get_counts(values\u001b[38;5;241m.\u001b[39mshape, mask, axis, dtype\u001b[38;5;241m=\u001b[39mdtype_count)\n\u001b[1;32m    719\u001b[0m the_sum \u001b[38;5;241m=\u001b[39m values\u001b[38;5;241m.\u001b[39msum(axis, dtype\u001b[38;5;241m=\u001b[39mdtype_sum)\n\u001b[0;32m--> 720\u001b[0m the_sum \u001b[38;5;241m=\u001b[39m \u001b[43m_ensure_numeric\u001b[49m\u001b[43m(\u001b[49m\u001b[43mthe_sum\u001b[49m\u001b[43m)\u001b[49m\n\u001b[1;32m    722\u001b[0m \u001b[38;5;28;01mif\u001b[39;00m axis \u001b[38;5;129;01mis\u001b[39;00m \u001b[38;5;129;01mnot\u001b[39;00m \u001b[38;5;28;01mNone\u001b[39;00m \u001b[38;5;129;01mand\u001b[39;00m \u001b[38;5;28mgetattr\u001b[39m(the_sum, \u001b[38;5;124m\"\u001b[39m\u001b[38;5;124mndim\u001b[39m\u001b[38;5;124m\"\u001b[39m, \u001b[38;5;28;01mFalse\u001b[39;00m):\n\u001b[1;32m    723\u001b[0m     count \u001b[38;5;241m=\u001b[39m cast(np\u001b[38;5;241m.\u001b[39mndarray, count)\n",
      "File \u001b[0;32m~/Library/CloudStorage/Dropbox/2024-DataScience/GitHub/2-Jedha_Fullstack/.venv/lib/python3.12/site-packages/pandas/core/nanops.py:1686\u001b[0m, in \u001b[0;36m_ensure_numeric\u001b[0;34m(x)\u001b[0m\n\u001b[1;32m   1683\u001b[0m inferred \u001b[38;5;241m=\u001b[39m lib\u001b[38;5;241m.\u001b[39minfer_dtype(x)\n\u001b[1;32m   1684\u001b[0m \u001b[38;5;28;01mif\u001b[39;00m inferred \u001b[38;5;129;01min\u001b[39;00m [\u001b[38;5;124m\"\u001b[39m\u001b[38;5;124mstring\u001b[39m\u001b[38;5;124m\"\u001b[39m, \u001b[38;5;124m\"\u001b[39m\u001b[38;5;124mmixed\u001b[39m\u001b[38;5;124m\"\u001b[39m]:\n\u001b[1;32m   1685\u001b[0m     \u001b[38;5;66;03m# GH#44008, GH#36703 avoid casting e.g. strings to numeric\u001b[39;00m\n\u001b[0;32m-> 1686\u001b[0m     \u001b[38;5;28;01mraise\u001b[39;00m \u001b[38;5;167;01mTypeError\u001b[39;00m(\u001b[38;5;124mf\u001b[39m\u001b[38;5;124m\"\u001b[39m\u001b[38;5;124mCould not convert \u001b[39m\u001b[38;5;132;01m{\u001b[39;00mx\u001b[38;5;132;01m}\u001b[39;00m\u001b[38;5;124m to numeric\u001b[39m\u001b[38;5;124m\"\u001b[39m)\n\u001b[1;32m   1687\u001b[0m \u001b[38;5;28;01mtry\u001b[39;00m:\n\u001b[1;32m   1688\u001b[0m     x \u001b[38;5;241m=\u001b[39m x\u001b[38;5;241m.\u001b[39mastype(np\u001b[38;5;241m.\u001b[39mcomplex128)\n",
      "\u001b[0;31mTypeError\u001b[0m: Could not convert ['2020-04-232020-04-222020-04-212020-04-202020-04-192020-04-182020-04-172020-04-162020-04-152020-04-142020-04-132020-04-122020-04-112020-04-102020-04-092020-04-082020-04-072020-04-062020-04-052020-04-042020-04-032020-04-022020-04-012020-03-312020-03-302020-03-292020-03-282020-03-272020-03-262020-03-252020-03-242020-03-232020-03-222020-03-212020-03-202020-03-192020-03-182020-03-172020-03-162020-03-152020-03-142020-03-132020-03-122020-03-112020-03-102020-03-092020-03-082020-03-072020-03-062020-03-052020-03-042020-03-032020-03-022020-03-012020-02-292020-02-282020-02-272020-02-262020-02-252020-02-242020-02-232020-02-222020-02-212020-02-202020-02-192020-02-182020-02-172020-02-162020-02-152020-02-142020-02-132020-02-122020-02-112020-02-102020-02-092020-02-082020-02-072020-02-062020-02-052020-02-042020-02-032020-02-022020-02-012020-01-312020-01-302020-01-292020-01-282020-01-272020-01-262020-01-252020-01-242020-01-232020-01-222020-01-212020-01-202020-01-192020-01-182020-01-172020-01-162020-01-152020-01-142020-01-132020-01-122020-01-112020-01-102020-01-092020-01-082020-01-072020-01-062020-01-052020-01-042020-01-032020-01-022020-01-012019-12-312020-04-232020-04-222020-04-212020-04-202020-04-192020-04-182020-04-172020-04-162020-04-152020-04-142020-04-132020-04-122020-04-112020-04-102020-04-092020-04-082020-04-072020-04-062020-04-052020-04-042020-04-032020-04-022020-04-012020-03-312020-03-302020-03-292020-03-282020-03-272020-03-262020-03-252020-03-242020-03-232020-03-222020-03-212020-03-202020-03-192020-03-182020-03-172020-03-162020-03-152020-03-142020-03-132020-03-122020-03-112020-03-102020-03-092020-03-082020-03-072020-03-062020-03-052020-03-042020-03-032020-03-022020-03-012020-02-292020-02-282020-02-272020-02-262020-02-252020-02-242020-02-232020-02-222020-02-212020-02-202020-02-192020-02-182020-02-172020-02-162020-02-152020-02-142020-02-132020-02-122020-02-112020-02-102020-02-092020-02-082020-02-072020-02-062020-02-052020-02-042020-02-032020-02-022020-02-012020-01-312020-01-302020-01-292020-01-282020-01-272020-01-262020-01-252020-01-242020-01-232020-01-222020-01-212020-01-202020-01-192020-01-182020-01-172020-01-162020-01-152020-01-142020-01-132020-01-122020-01-112020-01-102020-01-092020-01-082020-01-072020-01-062020-01-052020-01-042020-01-032020-01-022020-01-012019-12-312020-04-232020-04-222020-04-212020-04-202020-04-192020-04-182020-04-172020-04-162020-04-152020-04-142020-04-132020-04-122020-04-112020-04-102020-04-092020-04-082020-04-072020-04-062020-04-052020-04-042020-04-032020-04-022020-04-012020-03-312020-03-302020-03-292020-03-282020-03-272020-03-262020-03-252020-03-242020-03-232020-03-222020-03-212020-03-202020-03-192020-03-182020-03-172020-03-162020-03-152020-03-142020-03-132020-03-122020-03-112020-03-102020-03-092020-03-082020-03-072020-03-062020-03-052020-03-042020-03-032020-03-022020-03-012020-02-292020-02-282020-02-272020-02-262020-02-252020-02-242020-02-232020-02-222020-02-212020-02-202020-02-192020-02-182020-02-172020-02-162020-02-152020-02-142020-02-132020-02-122020-02-112020-02-102020-02-092020-02-082020-02-072020-02-062020-02-052020-02-042020-02-032020-02-022020-02-012020-01-312020-01-302020-01-292020-01-282020-01-272020-01-262020-01-252020-01-242020-01-232020-01-222020-01-212020-01-202020-01-192020-01-182020-01-172020-01-162020-01-152020-01-142020-01-132020-01-122020-01-112020-01-102020-01-092020-01-082020-01-072020-01-062020-01-052020-01-042020-01-032020-01-022020-01-012019-12-312020-04-232020-04-222020-04-212020-04-202020-04-192020-04-182020-04-172020-04-162020-04-152020-04-142020-04-132020-04-122020-04-112020-04-102020-04-092020-04-082020-04-072020-04-062020-04-052020-04-042020-04-032020-04-022020-04-012020-03-312020-03-302020-03-292020-03-282020-03-272020-03-262020-03-252020-03-242020-03-232020-03-222020-03-212020-03-202020-03-192020-03-182020-03-172020-03-162020-03-152020-03-142020-03-132020-03-122020-03-112020-03-102020-03-092020-03-082020-03-072020-03-062020-03-052020-03-042020-03-032020-03-022020-03-012020-02-292020-02-282020-02-272020-02-262020-02-252020-02-242020-02-232020-02-222020-02-212020-02-202020-02-192020-02-182020-02-172020-02-162020-02-152020-02-142020-02-132020-02-122020-02-112020-02-102020-02-092020-02-082020-02-072020-02-062020-02-052020-02-042020-02-032020-02-022020-02-012020-01-312020-01-302020-01-292020-01-282020-01-272020-01-262020-01-252020-01-242020-01-232020-01-222020-01-212020-01-202020-01-192020-01-182020-01-172020-01-162020-01-152020-01-142020-01-132020-01-122020-01-112020-01-102020-01-092020-01-082020-01-072020-01-062020-01-052020-01-042020-01-032020-01-022020-01-012019-12-312020-04-232020-04-222020-04-212020-04-202020-04-192020-04-182020-04-172020-04-162020-04-152020-04-142020-04-132020-04-122020-04-112020-04-102020-04-092020-04-082020-04-072020-04-062020-04-052020-04-042020-04-032020-04-022020-04-012020-03-312020-03-302020-03-292020-03-282020-03-272020-03-262020-03-252020-03-242020-03-232020-03-222020-03-212020-03-202020-03-192020-03-182020-03-172020-03-162020-03-152020-03-142020-03-132020-03-122020-03-112020-03-102020-03-092020-03-082020-03-072020-03-062020-03-052020-03-042020-03-032020-03-022020-03-012020-02-292020-02-282020-02-272020-02-262020-02-252020-02-242020-02-232020-02-222020-02-212020-02-202020-02-192020-02-182020-02-172020-02-162020-02-152020-02-142020-02-132020-02-122020-02-112020-02-102020-02-092020-02-082020-02-072020-02-062020-02-052020-02-042020-02-032020-02-022020-02-012020-01-312020-01-302020-01-292020-01-282020-01-272020-01-262020-01-252020-01-242020-01-232020-01-222020-01-212020-01-202020-01-192020-01-182020-01-172020-01-162020-01-152020-01-142020-01-132020-01-122020-01-112020-01-102020-01-092020-01-082020-01-072020-01-062020-01-052020-01-042020-01-032020-01-022020-01-012019-12-312020-04-232020-04-222020-04-212020-04-202020-04-192020-04-182020-04-172020-04-162020-04-152020-04-142020-04-132020-04-122020-04-112020-04-102020-04-092020-04-082020-04-072020-04-062020-04-052020-04-042020-04-032020-04-022020-04-012020-03-312020-03-302020-03-292020-03-282020-03-272020-03-262020-03-252020-03-242020-03-232020-03-222020-03-212020-03-202020-03-192020-03-182020-03-172020-03-162020-03-152020-03-142020-03-132020-03-122020-03-112020-03-102020-03-092020-03-082020-03-072020-03-062020-03-052020-03-042020-03-032020-03-022020-03-012020-02-292020-02-282020-02-272020-02-262020-02-252020-02-242020-02-232020-02-222020-02-212020-02-202020-02-192020-02-182020-02-172020-02-162020-02-152020-02-142020-02-132020-02-122020-02-112020-02-102020-02-092020-02-082020-02-072020-02-062020-02-052020-02-042020-02-032020-02-022020-02-012020-01-312020-01-302020-01-292020-01-282020-01-272020-01-262020-01-252020-01-242020-01-232020-01-222020-01-212020-01-202020-01-192020-01-182020-01-172020-01-162020-01-152020-01-142020-01-132020-01-122020-01-112020-01-102020-01-092020-01-082020-01-072020-01-062020-01-052020-01-042020-01-032020-01-022020-01-012019-12-31'\n 'BelgiumBelgiumBelgiumBelgiumBelgiumBelgiumBelgiumBelgiumBelgiumBelgiumBelgiumBelgiumBelgiumBelgiumBelgiumBelgiumBelgiumBelgiumBelgiumBelgiumBelgiumBelgiumBelgiumBelgiumBelgiumBelgiumBelgiumBelgiumBelgiumBelgiumBelgiumBelgiumBelgiumBelgiumBelgiumBelgiumBelgiumBelgiumBelgiumBelgiumBelgiumBelgiumBelgiumBelgiumBelgiumBelgiumBelgiumBelgiumBelgiumBelgiumBelgiumBelgiumBelgiumBelgiumBelgiumBelgiumBelgiumBelgiumBelgiumBelgiumBelgiumBelgiumBelgiumBelgiumBelgiumBelgiumBelgiumBelgiumBelgiumBelgiumBelgiumBelgiumBelgiumBelgiumBelgiumBelgiumBelgiumBelgiumBelgiumBelgiumBelgiumBelgiumBelgiumBelgiumBelgiumBelgiumBelgiumBelgiumBelgiumBelgiumBelgiumBelgiumBelgiumBelgiumBelgiumBelgiumBelgiumBelgiumBelgiumBelgiumBelgiumBelgiumBelgiumBelgiumBelgiumBelgiumBelgiumBelgiumBelgiumBelgiumBelgiumBelgiumBelgiumBelgiumBelgiumFranceFranceFranceFranceFranceFranceFranceFranceFranceFranceFranceFranceFranceFranceFranceFranceFranceFranceFranceFranceFranceFranceFranceFranceFranceFranceFranceFranceFranceFranceFranceFranceFranceFranceFranceFranceFranceFranceFranceFranceFranceFranceFranceFranceFranceFranceFranceFranceFranceFranceFranceFranceFranceFranceFranceFranceFranceFranceFranceFranceFranceFranceFranceFranceFranceFranceFranceFranceFranceFranceFranceFranceFranceFranceFranceFranceFranceFranceFranceFranceFranceFranceFranceFranceFranceFranceFranceFranceFranceFranceFranceFranceFranceFranceFranceFranceFranceFranceFranceFranceFranceFranceFranceFranceFranceFranceFranceFranceFranceFranceFranceFranceFranceFranceFranceItalyItalyItalyItalyItalyItalyItalyItalyItalyItalyItalyItalyItalyItalyItalyItalyItalyItalyItalyItalyItalyItalyItalyItalyItalyItalyItalyItalyItalyItalyItalyItalyItalyItalyItalyItalyItalyItalyItalyItalyItalyItalyItalyItalyItalyItalyItalyItalyItalyItalyItalyItalyItalyItalyItalyItalyItalyItalyItalyItalyItalyItalyItalyItalyItalyItalyItalyItalyItalyItalyItalyItalyItalyItalyItalyItalyItalyItalyItalyItalyItalyItalyItalyItalyItalyItalyItalyItalyItalyItalyItalyItalyItalyItalyItalyItalyItalyItalyItalyItalyItalyItalyItalyItalyItalyItalyItalyItalyItalyItalyItalyItalyItalyItalyItalySpainSpainSpainSpainSpainSpainSpainSpainSpainSpainSpainSpainSpainSpainSpainSpainSpainSpainSpainSpainSpainSpainSpainSpainSpainSpainSpainSpainSpainSpainSpainSpainSpainSpainSpainSpainSpainSpainSpainSpainSpainSpainSpainSpainSpainSpainSpainSpainSpainSpainSpainSpainSpainSpainSpainSpainSpainSpainSpainSpainSpainSpainSpainSpainSpainSpainSpainSpainSpainSpainSpainSpainSpainSpainSpainSpainSpainSpainSpainSpainSpainSpainSpainSpainSpainSpainSpainSpainSpainSpainSpainSpainSpainSpainSpainSpainSpainSpainSpainSpainSpainSpainSpainSpainSpainSpainSpainSpainSpainSpainSpainSpainSpainSpainSpainUnited_KingdomUnited_KingdomUnited_KingdomUnited_KingdomUnited_KingdomUnited_KingdomUnited_KingdomUnited_KingdomUnited_KingdomUnited_KingdomUnited_KingdomUnited_KingdomUnited_KingdomUnited_KingdomUnited_KingdomUnited_KingdomUnited_KingdomUnited_KingdomUnited_KingdomUnited_KingdomUnited_KingdomUnited_KingdomUnited_KingdomUnited_KingdomUnited_KingdomUnited_KingdomUnited_KingdomUnited_KingdomUnited_KingdomUnited_KingdomUnited_KingdomUnited_KingdomUnited_KingdomUnited_KingdomUnited_KingdomUnited_KingdomUnited_KingdomUnited_KingdomUnited_KingdomUnited_KingdomUnited_KingdomUnited_KingdomUnited_KingdomUnited_KingdomUnited_KingdomUnited_KingdomUnited_KingdomUnited_KingdomUnited_KingdomUnited_KingdomUnited_KingdomUnited_KingdomUnited_KingdomUnited_KingdomUnited_KingdomUnited_KingdomUnited_KingdomUnited_KingdomUnited_KingdomUnited_KingdomUnited_KingdomUnited_KingdomUnited_KingdomUnited_KingdomUnited_KingdomUnited_KingdomUnited_KingdomUnited_KingdomUnited_KingdomUnited_KingdomUnited_KingdomUnited_KingdomUnited_KingdomUnited_KingdomUnited_KingdomUnited_KingdomUnited_KingdomUnited_KingdomUnited_KingdomUnited_KingdomUnited_KingdomUnited_KingdomUnited_KingdomUnited_KingdomUnited_KingdomUnited_KingdomUnited_KingdomUnited_KingdomUnited_KingdomUnited_KingdomUnited_KingdomUnited_KingdomUnited_KingdomUnited_KingdomUnited_KingdomUnited_KingdomUnited_KingdomUnited_KingdomUnited_KingdomUnited_KingdomUnited_KingdomUnited_KingdomUnited_KingdomUnited_KingdomUnited_KingdomUnited_KingdomUnited_KingdomUnited_KingdomUnited_KingdomUnited_KingdomUnited_KingdomUnited_KingdomUnited_KingdomUnited_KingdomUnited_KingdomUnited_States_of_AmericaUnited_States_of_AmericaUnited_States_of_AmericaUnited_States_of_AmericaUnited_States_of_AmericaUnited_States_of_AmericaUnited_States_of_AmericaUnited_States_of_AmericaUnited_States_of_AmericaUnited_States_of_AmericaUnited_States_of_AmericaUnited_States_of_AmericaUnited_States_of_AmericaUnited_States_of_AmericaUnited_States_of_AmericaUnited_States_of_AmericaUnited_States_of_AmericaUnited_States_of_AmericaUnited_States_of_AmericaUnited_States_of_AmericaUnited_States_of_AmericaUnited_States_of_AmericaUnited_States_of_AmericaUnited_States_of_AmericaUnited_States_of_AmericaUnited_States_of_AmericaUnited_States_of_AmericaUnited_States_of_AmericaUnited_States_of_AmericaUnited_States_of_AmericaUnited_States_of_AmericaUnited_States_of_AmericaUnited_States_of_AmericaUnited_States_of_AmericaUnited_States_of_AmericaUnited_States_of_AmericaUnited_States_of_AmericaUnited_States_of_AmericaUnited_States_of_AmericaUnited_States_of_AmericaUnited_States_of_AmericaUnited_States_of_AmericaUnited_States_of_AmericaUnited_States_of_AmericaUnited_States_of_AmericaUnited_States_of_AmericaUnited_States_of_AmericaUnited_States_of_AmericaUnited_States_of_AmericaUnited_States_of_AmericaUnited_States_of_AmericaUnited_States_of_AmericaUnited_States_of_AmericaUnited_States_of_AmericaUnited_States_of_AmericaUnited_States_of_AmericaUnited_States_of_AmericaUnited_States_of_AmericaUnited_States_of_AmericaUnited_States_of_AmericaUnited_States_of_AmericaUnited_States_of_AmericaUnited_States_of_AmericaUnited_States_of_AmericaUnited_States_of_AmericaUnited_States_of_AmericaUnited_States_of_AmericaUnited_States_of_AmericaUnited_States_of_AmericaUnited_States_of_AmericaUnited_States_of_AmericaUnited_States_of_AmericaUnited_States_of_AmericaUnited_States_of_AmericaUnited_States_of_AmericaUnited_States_of_AmericaUnited_States_of_AmericaUnited_States_of_AmericaUnited_States_of_AmericaUnited_States_of_AmericaUnited_States_of_AmericaUnited_States_of_AmericaUnited_States_of_AmericaUnited_States_of_AmericaUnited_States_of_AmericaUnited_States_of_AmericaUnited_States_of_AmericaUnited_States_of_AmericaUnited_States_of_AmericaUnited_States_of_AmericaUnited_States_of_AmericaUnited_States_of_AmericaUnited_States_of_AmericaUnited_States_of_AmericaUnited_States_of_AmericaUnited_States_of_AmericaUnited_States_of_AmericaUnited_States_of_AmericaUnited_States_of_AmericaUnited_States_of_AmericaUnited_States_of_AmericaUnited_States_of_AmericaUnited_States_of_AmericaUnited_States_of_AmericaUnited_States_of_AmericaUnited_States_of_AmericaUnited_States_of_AmericaUnited_States_of_AmericaUnited_States_of_AmericaUnited_States_of_AmericaUnited_States_of_AmericaUnited_States_of_AmericaUnited_States_of_AmericaUnited_States_of_AmericaUnited_States_of_America'\n 'BEBEBEBEBEBEBEBEBEBEBEBEBEBEBEBEBEBEBEBEBEBEBEBEBEBEBEBEBEBEBEBEBEBEBEBEBEBEBEBEBEBEBEBEBEBEBEBEBEBEBEBEBEBEBEBEBEBEBEBEBEBEBEBEBEBEBEBEBEBEBEBEBEBEBEBEBEBEBEBEBEBEBEBEBEBEBEBEBEBEBEBEBEBEBEBEBEBEBEBEBEBEBEBEBEBEBEBEBEBEBEBEBEBEBEFRFRFRFRFRFRFRFRFRFRFRFRFRFRFRFRFRFRFRFRFRFRFRFRFRFRFRFRFRFRFRFRFRFRFRFRFRFRFRFRFRFRFRFRFRFRFRFRFRFRFRFRFRFRFRFRFRFRFRFRFRFRFRFRFRFRFRFRFRFRFRFRFRFRFRFRFRFRFRFRFRFRFRFRFRFRFRFRFRFRFRFRFRFRFRFRFRFRFRFRFRFRFRFRFRFRFRFRFRFRFRFRFRFRFRITITITITITITITITITITITITITITITITITITITITITITITITITITITITITITITITITITITITITITITITITITITITITITITITITITITITITITITITITITITITITITITITITITITITITITITITITITITITITITITITITITITITITITITITITITITITITITITITITITITITITITITITITITITITITITITITITITITESESESESESESESESESESESESESESESESESESESESESESESESESESESESESESESESESESESESESESESESESESESESESESESESESESESESESESESESESESESESESESESESESESESESESESESESESESESESESESESESESESESESESESESESESESESESESESESESESESESESESESESESESESESESESESESESESESESUKUKUKUKUKUKUKUKUKUKUKUKUKUKUKUKUKUKUKUKUKUKUKUKUKUKUKUKUKUKUKUKUKUKUKUKUKUKUKUKUKUKUKUKUKUKUKUKUKUKUKUKUKUKUKUKUKUKUKUKUKUKUKUKUKUKUKUKUKUKUKUKUKUKUKUKUKUKUKUKUKUKUKUKUKUKUKUKUKUKUKUKUKUKUKUKUKUKUKUKUKUKUKUKUKUKUKUKUKUKUKUKUKUKUKUSUSUSUSUSUSUSUSUSUSUSUSUSUSUSUSUSUSUSUSUSUSUSUSUSUSUSUSUSUSUSUSUSUSUSUSUSUSUSUSUSUSUSUSUSUSUSUSUSUSUSUSUSUSUSUSUSUSUSUSUSUSUSUSUSUSUSUSUSUSUSUSUSUSUSUSUSUSUSUSUSUSUSUSUSUSUSUSUSUSUSUSUSUSUSUSUSUSUSUSUSUSUSUSUSUSUSUSUSUSUSUSUSUSUS'\n 'BELBELBELBELBELBELBELBELBELBELBELBELBELBELBELBELBELBELBELBELBELBELBELBELBELBELBELBELBELBELBELBELBELBELBELBELBELBELBELBELBELBELBELBELBELBELBELBELBELBELBELBELBELBELBELBELBELBELBELBELBELBELBELBELBELBELBELBELBELBELBELBELBELBELBELBELBELBELBELBELBELBELBELBELBELBELBELBELBELBELBELBELBELBELBELBELBELBELBELBELBELBELBELBELBELBELBELBELBELBELBELBELBELBELBELFRAFRAFRAFRAFRAFRAFRAFRAFRAFRAFRAFRAFRAFRAFRAFRAFRAFRAFRAFRAFRAFRAFRAFRAFRAFRAFRAFRAFRAFRAFRAFRAFRAFRAFRAFRAFRAFRAFRAFRAFRAFRAFRAFRAFRAFRAFRAFRAFRAFRAFRAFRAFRAFRAFRAFRAFRAFRAFRAFRAFRAFRAFRAFRAFRAFRAFRAFRAFRAFRAFRAFRAFRAFRAFRAFRAFRAFRAFRAFRAFRAFRAFRAFRAFRAFRAFRAFRAFRAFRAFRAFRAFRAFRAFRAFRAFRAFRAFRAFRAFRAFRAFRAFRAFRAFRAFRAFRAFRAFRAFRAFRAFRAFRAFRAITAITAITAITAITAITAITAITAITAITAITAITAITAITAITAITAITAITAITAITAITAITAITAITAITAITAITAITAITAITAITAITAITAITAITAITAITAITAITAITAITAITAITAITAITAITAITAITAITAITAITAITAITAITAITAITAITAITAITAITAITAITAITAITAITAITAITAITAITAITAITAITAITAITAITAITAITAITAITAITAITAITAITAITAITAITAITAITAITAITAITAITAITAITAITAITAITAITAITAITAITAITAITAITAITAITAITAITAITAITAITAITAITAITAITAESPESPESPESPESPESPESPESPESPESPESPESPESPESPESPESPESPESPESPESPESPESPESPESPESPESPESPESPESPESPESPESPESPESPESPESPESPESPESPESPESPESPESPESPESPESPESPESPESPESPESPESPESPESPESPESPESPESPESPESPESPESPESPESPESPESPESPESPESPESPESPESPESPESPESPESPESPESPESPESPESPESPESPESPESPESPESPESPESPESPESPESPESPESPESPESPESPESPESPESPESPESPESPESPESPESPESPESPESPESPESPESPESPESPESPGBRGBRGBRGBRGBRGBRGBRGBRGBRGBRGBRGBRGBRGBRGBRGBRGBRGBRGBRGBRGBRGBRGBRGBRGBRGBRGBRGBRGBRGBRGBRGBRGBRGBRGBRGBRGBRGBRGBRGBRGBRGBRGBRGBRGBRGBRGBRGBRGBRGBRGBRGBRGBRGBRGBRGBRGBRGBRGBRGBRGBRGBRGBRGBRGBRGBRGBRGBRGBRGBRGBRGBRGBRGBRGBRGBRGBRGBRGBRGBRGBRGBRGBRGBRGBRGBRGBRGBRGBRGBRGBRGBRGBRGBRGBRGBRGBRGBRGBRGBRGBRGBRGBRGBRGBRGBRGBRGBRGBRGBRGBRGBRGBRGBRGBRUSAUSAUSAUSAUSAUSAUSAUSAUSAUSAUSAUSAUSAUSAUSAUSAUSAUSAUSAUSAUSAUSAUSAUSAUSAUSAUSAUSAUSAUSAUSAUSAUSAUSAUSAUSAUSAUSAUSAUSAUSAUSAUSAUSAUSAUSAUSAUSAUSAUSAUSAUSAUSAUSAUSAUSAUSAUSAUSAUSAUSAUSAUSAUSAUSAUSAUSAUSAUSAUSAUSAUSAUSAUSAUSAUSAUSAUSAUSAUSAUSAUSAUSAUSAUSAUSAUSAUSAUSAUSAUSAUSAUSAUSAUSAUSAUSAUSAUSAUSAUSAUSAUSAUSAUSAUSAUSAUSAUSAUSAUSAUSAUSAUSAUSA'\n 'EuropeEuropeEuropeEuropeEuropeEuropeEuropeEuropeEuropeEuropeEuropeEuropeEuropeEuropeEuropeEuropeEuropeEuropeEuropeEuropeEuropeEuropeEuropeEuropeEuropeEuropeEuropeEuropeEuropeEuropeEuropeEuropeEuropeEuropeEuropeEuropeEuropeEuropeEuropeEuropeEuropeEuropeEuropeEuropeEuropeEuropeEuropeEuropeEuropeEuropeEuropeEuropeEuropeEuropeEuropeEuropeEuropeEuropeEuropeEuropeEuropeEuropeEuropeEuropeEuropeEuropeEuropeEuropeEuropeEuropeEuropeEuropeEuropeEuropeEuropeEuropeEuropeEuropeEuropeEuropeEuropeEuropeEuropeEuropeEuropeEuropeEuropeEuropeEuropeEuropeEuropeEuropeEuropeEuropeEuropeEuropeEuropeEuropeEuropeEuropeEuropeEuropeEuropeEuropeEuropeEuropeEuropeEuropeEuropeEuropeEuropeEuropeEuropeEuropeEuropeEuropeEuropeEuropeEuropeEuropeEuropeEuropeEuropeEuropeEuropeEuropeEuropeEuropeEuropeEuropeEuropeEuropeEuropeEuropeEuropeEuropeEuropeEuropeEuropeEuropeEuropeEuropeEuropeEuropeEuropeEuropeEuropeEuropeEuropeEuropeEuropeEuropeEuropeEuropeEuropeEuropeEuropeEuropeEuropeEuropeEuropeEuropeEuropeEuropeEuropeEuropeEuropeEuropeEuropeEuropeEuropeEuropeEuropeEuropeEuropeEuropeEuropeEuropeEuropeEuropeEuropeEuropeEuropeEuropeEuropeEuropeEuropeEuropeEuropeEuropeEuropeEuropeEuropeEuropeEuropeEuropeEuropeEuropeEuropeEuropeEuropeEuropeEuropeEuropeEuropeEuropeEuropeEuropeEuropeEuropeEuropeEuropeEuropeEuropeEuropeEuropeEuropeEuropeEuropeEuropeEuropeEuropeEuropeEuropeEuropeEuropeEuropeEuropeEuropeEuropeEuropeEuropeEuropeEuropeEuropeEuropeEuropeEuropeEuropeEuropeEuropeEuropeEuropeEuropeEuropeEuropeEuropeEuropeEuropeEuropeEuropeEuropeEuropeEuropeEuropeEuropeEuropeEuropeEuropeEuropeEuropeEuropeEuropeEuropeEuropeEuropeEuropeEuropeEuropeEuropeEuropeEuropeEuropeEuropeEuropeEuropeEuropeEuropeEuropeEuropeEuropeEuropeEuropeEuropeEuropeEuropeEuropeEuropeEuropeEuropeEuropeEuropeEuropeEuropeEuropeEuropeEuropeEuropeEuropeEuropeEuropeEuropeEuropeEuropeEuropeEuropeEuropeEuropeEuropeEuropeEuropeEuropeEuropeEuropeEuropeEuropeEuropeEuropeEuropeEuropeEuropeEuropeEuropeEuropeEuropeEuropeEuropeEuropeEuropeEuropeEuropeEuropeEuropeEuropeEuropeEuropeEuropeEuropeEuropeEuropeEuropeEuropeEuropeEuropeEuropeEuropeEuropeEuropeEuropeEuropeEuropeEuropeEuropeEuropeEuropeEuropeEuropeEuropeEuropeEuropeEuropeEuropeEuropeEuropeEuropeEuropeEuropeEuropeEuropeEuropeEuropeEuropeEuropeEuropeEuropeEuropeEuropeEuropeEuropeEuropeEuropeEuropeEuropeEuropeEuropeEuropeEuropeEuropeEuropeEuropeEuropeEuropeEuropeEuropeEuropeEuropeEuropeEuropeEuropeEuropeEuropeEuropeEuropeEuropeEuropeEuropeEuropeEuropeEuropeEuropeEuropeEuropeEuropeEuropeEuropeEuropeEuropeEuropeEuropeEuropeEuropeEuropeEuropeEuropeEuropeEuropeEuropeEuropeEuropeEuropeEuropeEuropeEuropeEuropeEuropeEuropeEuropeEuropeEuropeEuropeEuropeEuropeEuropeEuropeEuropeEuropeEuropeEuropeEuropeEuropeEuropeEuropeEuropeEuropeEuropeEuropeEuropeEuropeEuropeEuropeEuropeEuropeEuropeEuropeEuropeEuropeEuropeEuropeEuropeEuropeEuropeEuropeEuropeEuropeEuropeEuropeEuropeEuropeEuropeEuropeEuropeEuropeEuropeEuropeEuropeEuropeEuropeEuropeEuropeEuropeEuropeEuropeEuropeEuropeEuropeEuropeEuropeEuropeEuropeEuropeEuropeEuropeEuropeEuropeEuropeEuropeEuropeEuropeEuropeEuropeEuropeEuropeEuropeEuropeEuropeEuropeEuropeEuropeEuropeEuropeEuropeEuropeEuropeEuropeEuropeEuropeEuropeEuropeEuropeEuropeEuropeEuropeEuropeEuropeEuropeEuropeEuropeEuropeEuropeEuropeEuropeEuropeEuropeEuropeEuropeEuropeEuropeEuropeEuropeEuropeEuropeEuropeEuropeEuropeEuropeEuropeEuropeEuropeEuropeEuropeEuropeEuropeEuropeEuropeEuropeEuropeEuropeEuropeEuropeEuropeEuropeEuropeEuropeEuropeEuropeAmericaAmericaAmericaAmericaAmericaAmericaAmericaAmericaAmericaAmericaAmericaAmericaAmericaAmericaAmericaAmericaAmericaAmericaAmericaAmericaAmericaAmericaAmericaAmericaAmericaAmericaAmericaAmericaAmericaAmericaAmericaAmericaAmericaAmericaAmericaAmericaAmericaAmericaAmericaAmericaAmericaAmericaAmericaAmericaAmericaAmericaAmericaAmericaAmericaAmericaAmericaAmericaAmericaAmericaAmericaAmericaAmericaAmericaAmericaAmericaAmericaAmericaAmericaAmericaAmericaAmericaAmericaAmericaAmericaAmericaAmericaAmericaAmericaAmericaAmericaAmericaAmericaAmericaAmericaAmericaAmericaAmericaAmericaAmericaAmericaAmericaAmericaAmericaAmericaAmericaAmericaAmericaAmericaAmericaAmericaAmericaAmericaAmericaAmericaAmericaAmericaAmericaAmericaAmericaAmericaAmericaAmericaAmericaAmericaAmericaAmericaAmericaAmericaAmericaAmerica'] to numeric"
     ]
    }
   ],
   "source": [
    "data.mean()"
   ]
  },
  {
   "cell_type": "code",
   "execution_count": null,
   "metadata": {},
   "outputs": [
    {
     "ename": "NameError",
     "evalue": "name 'data' is not defined",
     "output_type": "error",
     "traceback": [
      "\u001b[0;31m---------------------------------------------------------------------------\u001b[0m",
      "\u001b[0;31mNameError\u001b[0m                                 Traceback (most recent call last)",
      "Cell \u001b[0;32mIn[2], line 1\u001b[0m\n\u001b[0;32m----> 1\u001b[0m \u001b[43mdata\u001b[49m\u001b[38;5;241m.\u001b[39mstd()\n",
      "\u001b[0;31mNameError\u001b[0m: name 'data' is not defined"
     ]
    }
   ],
   "source": [
    "data.std()"
   ]
  },
  {
   "cell_type": "code",
   "execution_count": null,
   "metadata": {},
   "outputs": [
    {
     "data": {
      "text/plain": [
       "Unnamed: 0                 690\n",
       "dateRep                    690\n",
       "day                        690\n",
       "month                      690\n",
       "year                       690\n",
       "cases                      690\n",
       "deaths                     690\n",
       "countriesAndTerritories    690\n",
       "geoId                      690\n",
       "countryterritoryCode       690\n",
       "popData2018                690\n",
       "continentExp               690\n",
       "dtype: int64"
      ]
     },
     "execution_count": 13,
     "metadata": {},
     "output_type": "execute_result"
    }
   ],
   "source": [
    "data.count()"
   ]
  },
  {
   "cell_type": "code",
   "execution_count": null,
   "metadata": {},
   "outputs": [
    {
     "data": {
      "text/plain": [
       "Unnamed: 0                                    12251\n",
       "dateRep                                  2020-04-23\n",
       "day                                              31\n",
       "month                                            12\n",
       "year                                           2020\n",
       "cases                                         37289\n",
       "deaths                                         4928\n",
       "countriesAndTerritories    United_States_of_America\n",
       "geoId                                            US\n",
       "countryterritoryCode                            USA\n",
       "popData2018                             327167434.0\n",
       "continentExp                                 Europe\n",
       "dtype: object"
      ]
     },
     "execution_count": 14,
     "metadata": {},
     "output_type": "execute_result"
    }
   ],
   "source": [
    "data.max()"
   ]
  },
  {
   "cell_type": "code",
   "execution_count": null,
   "metadata": {},
   "outputs": [
    {
     "data": {
      "text/plain": [
       "Unnamed: 0                                                           5372110\n",
       "dateRep                    2020-04-232020-04-222020-04-212020-04-202020-0...\n",
       "day                                                                    10404\n",
       "month                                                                   1716\n",
       "year                                                                 1393794\n",
       "cases                                                                1532880\n",
       "deaths                                                                139288\n",
       "countriesAndTerritories    BelgiumBelgiumBelgiumBelgiumBelgiumBelgiumBelg...\n",
       "geoId                      BEBEBEBEBEBEBEBEBEBEBEBEBEBEBEBEBEBEBEBEBEBEBE...\n",
       "countryterritoryCode       BELBELBELBELBELBELBELBELBELBELBELBELBELBELBELB...\n",
       "popData2018                                                    66610388435.0\n",
       "continentExp               EuropeEuropeEuropeEuropeEuropeEuropeEuropeEuro...\n",
       "dtype: object"
      ]
     },
     "execution_count": 15,
     "metadata": {},
     "output_type": "execute_result"
    }
   ],
   "source": [
    "data.sum()"
   ]
  },
  {
   "cell_type": "code",
   "execution_count": null,
   "metadata": {},
   "outputs": [
    {
     "data": {
      "text/plain": [
       "np.int64(1532880)"
      ]
     },
     "execution_count": 16,
     "metadata": {},
     "output_type": "execute_result"
    }
   ],
   "source": [
    "data[\"cases\"].sum()"
   ]
  },
  {
   "cell_type": "code",
   "execution_count": null,
   "metadata": {},
   "outputs": [
    {
     "data": {
      "text/plain": [
       "np.int64(139288)"
      ]
     },
     "execution_count": 17,
     "metadata": {},
     "output_type": "execute_result"
    }
   ],
   "source": [
    "data[\"deaths\"].sum()"
   ]
  },
  {
   "cell_type": "code",
   "execution_count": null,
   "metadata": {},
   "outputs": [
    {
     "data": {
      "text/plain": [
       "pandas.core.frame.DataFrame"
      ]
     },
     "execution_count": 18,
     "metadata": {},
     "output_type": "execute_result"
    }
   ],
   "source": [
    "type(data)"
   ]
  },
  {
   "cell_type": "code",
   "execution_count": null,
   "metadata": {},
   "outputs": [],
   "source": []
  }
 ],
 "metadata": {
  "kernelspec": {
   "display_name": "Python 3",
   "language": "python",
   "name": "python3"
  },
  "language_info": {
   "codemirror_mode": {
    "name": "ipython",
    "version": 3
   },
   "file_extension": ".py",
   "mimetype": "text/x-python",
   "name": "python",
   "nbconvert_exporter": "python",
   "pygments_lexer": "ipython3",
   "version": "3.12.4"
  }
 },
 "nbformat": 4,
 "nbformat_minor": 2
}
