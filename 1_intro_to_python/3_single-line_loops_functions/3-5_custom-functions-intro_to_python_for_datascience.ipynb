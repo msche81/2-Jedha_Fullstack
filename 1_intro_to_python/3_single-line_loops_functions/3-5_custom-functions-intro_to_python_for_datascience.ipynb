{
 "cells": [
  {
   "cell_type": "code",
   "execution_count": 28,
   "metadata": {},
   "outputs": [],
   "source": [
    "def hi():\n",
    "    return\"hello\""
   ]
  },
  {
   "cell_type": "code",
   "execution_count": 29,
   "metadata": {},
   "outputs": [
    {
     "data": {
      "text/plain": [
       "'hello'"
      ]
     },
     "execution_count": 29,
     "metadata": {},
     "output_type": "execute_result"
    }
   ],
   "source": [
    "hi()"
   ]
  },
  {
   "cell_type": "code",
   "execution_count": 30,
   "metadata": {},
   "outputs": [
    {
     "name": "stdout",
     "output_type": "stream",
     "text": [
      "hello\n"
     ]
    }
   ],
   "source": [
    "hello = hi()\n",
    "print(hello)"
   ]
  },
  {
   "cell_type": "code",
   "execution_count": 31,
   "metadata": {},
   "outputs": [
    {
     "name": "stdout",
     "output_type": "stream",
     "text": [
      "hello hello hello\n"
     ]
    }
   ],
   "source": [
    "hello = hi()\n",
    "hey = hi()\n",
    "howdy = hi()\n",
    "\n",
    "print(hello,hey,howdy)"
   ]
  },
  {
   "cell_type": "code",
   "execution_count": 32,
   "metadata": {},
   "outputs": [],
   "source": [
    "def hi(name):\n",
    "    greetings = \"Hello {}\".format(name)\n",
    "    return greetings"
   ]
  },
  {
   "cell_type": "code",
   "execution_count": 33,
   "metadata": {},
   "outputs": [
    {
     "name": "stdout",
     "output_type": "stream",
     "text": [
      "Hello Antoine\n",
      "Hello Julia\n",
      "Hello Thomas\n"
     ]
    }
   ],
   "source": [
    "print(hi(\"Antoine\"))\n",
    "print(hi(\"Julia\"))\n",
    "print(hi(\"Thomas\"))"
   ]
  },
  {
   "cell_type": "code",
   "execution_count": 34,
   "metadata": {},
   "outputs": [],
   "source": [
    "def hi(name=\"\"):\n",
    "    if name == \"\":\n",
    "        greetings = \"Hello Mr Nobody\"\n",
    "    else:\n",
    "        greetings = \"Hello {}\".format(name)\n",
    "    return greetings"
   ]
  },
  {
   "cell_type": "code",
   "execution_count": 35,
   "metadata": {},
   "outputs": [
    {
     "name": "stdout",
     "output_type": "stream",
     "text": [
      "Hello Antoine\n",
      "Hello Julia\n",
      "Hello Mr Nobody\n"
     ]
    }
   ],
   "source": [
    "print(hi(\"Antoine\"))\n",
    "print(hi(\"Julia\"))\n",
    "print(hi())"
   ]
  },
  {
   "cell_type": "code",
   "execution_count": 36,
   "metadata": {},
   "outputs": [],
   "source": [
    "def amount_format_verification(list_of_amounts):\n",
    "    while True:\n",
    "        try:\n",
    "            list_of_amounts = [float(amount) for amount in list_of_amounts]\n",
    "            break\n",
    "        except:\n",
    "            print(\"Please enter numbers of the amounts spent\")\n",
    "            amounts = input(\"How much each of your friends spent? Keep the same order as above and separate by a comma\")\n",
    "            list_of_amounts = amounts.split(\",\")\n",
    "    return list_of_amounts"
   ]
  },
  {
   "cell_type": "code",
   "execution_count": 37,
   "metadata": {},
   "outputs": [
    {
     "name": "stdout",
     "output_type": "stream",
     "text": [
      "Please enter numbers of the amounts spent\n",
      "Antoine needs to give 544.33\n",
      "Andre needs to receive 329.67\n",
      "Jacques needs to receive 214.67\n"
     ]
    }
   ],
   "source": [
    "friends = input(\"What are the names of your friends? Separate their names by a comma\")\n",
    "amounts = input(\"How much each of your friends spent? Keep the same order as above and separate by a comma\")\n",
    "\n",
    "list_of_friends = friends.split(\",\")\n",
    "list_of_amounts = amount_format_verification(amounts.split(\",\"))\n",
    "\n",
    "while len(list_of_friends) != len(list_of_amounts):\n",
    "    print(\"You did not enter the same number of friends than amounts spent!\")\n",
    "\n",
    "    friends = input(\"What are the names of your friends? Separate their names by a comma\")\n",
    "    amounts = input(\"How much each of your friends spent? Keep the same order as above and separate by a comma\")\n",
    "\n",
    "    list_of_friends = friends.split(\",\")\n",
    "    list_of_amounts = amount_format_verification(amounts.split(\",\"))\n",
    "\n",
    "else:\n",
    "    friends = [(friend,amount) for friend, amount in zip(list_of_friends,list_of_amounts)]\n",
    "    total_spent = sum([amount for _, amount in friends])\n",
    "\n",
    "    for friend,amount in zip(list_of_friends,list_of_amounts):\n",
    "        even_share = total_spent / len(friends)\n",
    "        friend_balance = amount - even_share\n",
    "\n",
    "        if friend_balance < 0:\n",
    "            print(\"{} needs to give {:.2f}\".format(friend, -friend_balance))\n",
    "        elif friend_balance > 0:\n",
    "            print(\"{} needs to receive {:.2f}\".format(friend, friend_balance))\n",
    "        else:\n",
    "            print(\"{} doesn't need to receive anything\".format(friend))"
   ]
  },
  {
   "cell_type": "code",
   "execution_count": null,
   "metadata": {},
   "outputs": [],
   "source": []
  }
 ],
 "metadata": {
  "kernelspec": {
   "display_name": "Python 3",
   "language": "python",
   "name": "python3"
  },
  "language_info": {
   "codemirror_mode": {
    "name": "ipython",
    "version": 3
   },
   "file_extension": ".py",
   "mimetype": "text/x-python",
   "name": "python",
   "nbconvert_exporter": "python",
   "pygments_lexer": "ipython3",
   "version": "3.12.4"
  }
 },
 "nbformat": 4,
 "nbformat_minor": 2
}
