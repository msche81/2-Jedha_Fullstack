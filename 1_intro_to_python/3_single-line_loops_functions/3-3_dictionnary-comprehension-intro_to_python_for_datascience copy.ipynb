{
 "cells": [
  {
   "cell_type": "code",
   "execution_count": 1,
   "metadata": {},
   "outputs": [
    {
     "name": "stdout",
     "output_type": "stream",
     "text": [
      "{'APPLE': 274, 'GOOGLE': 1250, 'MICROSOFT': 172, 'AMAZON': 2369}\n"
     ]
    }
   ],
   "source": [
    "stocks = {\"APPLE\": 274, \"GOOGLE\": 1250, \"MICROSOFT\": 172, \"AMAZON\": 2369}\n",
    "print(stocks)"
   ]
  },
  {
   "cell_type": "code",
   "execution_count": 2,
   "metadata": {},
   "outputs": [
    {
     "name": "stdout",
     "output_type": "stream",
     "text": [
      "APPLE 274\n",
      "GOOGLE 1250\n",
      "MICROSOFT 172\n",
      "AMAZON 2369\n"
     ]
    }
   ],
   "source": [
    "for key, value in stocks.items():\n",
    "    print(key,value)"
   ]
  },
  {
   "cell_type": "code",
   "execution_count": 3,
   "metadata": {},
   "outputs": [
    {
     "name": "stdout",
     "output_type": "stream",
     "text": [
      "APPLE\n",
      "GOOGLE\n",
      "MICROSOFT\n",
      "AMAZON\n",
      "274\n",
      "1250\n",
      "172\n",
      "2369\n"
     ]
    }
   ],
   "source": [
    "for key in stocks.keys():\n",
    "    print(key)\n",
    "\n",
    "for value in stocks.values():\n",
    "    print (value)"
   ]
  },
  {
   "cell_type": "code",
   "execution_count": null,
   "metadata": {},
   "outputs": [],
   "source": []
  }
 ],
 "metadata": {
  "kernelspec": {
   "display_name": "Python 3",
   "language": "python",
   "name": "python3"
  },
  "language_info": {
   "codemirror_mode": {
    "name": "ipython",
    "version": 3
   },
   "file_extension": ".py",
   "mimetype": "text/x-python",
   "name": "python",
   "nbconvert_exporter": "python",
   "pygments_lexer": "ipython3",
   "version": "3.12.4"
  }
 },
 "nbformat": 4,
 "nbformat_minor": 2
}
