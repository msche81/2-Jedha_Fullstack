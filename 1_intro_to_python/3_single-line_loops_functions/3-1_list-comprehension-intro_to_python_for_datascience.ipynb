{
 "cells": [
  {
   "cell_type": "code",
   "execution_count": 1,
   "metadata": {},
   "outputs": [
    {
     "name": "stdout",
     "output_type": "stream",
     "text": [
      "[0, 1, 2, 3, 4, 5, 6, 7, 8, 9]\n"
     ]
    }
   ],
   "source": [
    "comp = [i for i in range(10)]\n",
    "print(comp)"
   ]
  },
  {
   "cell_type": "code",
   "execution_count": 3,
   "metadata": {},
   "outputs": [
    {
     "name": "stdout",
     "output_type": "stream",
     "text": [
      "[0, 1, 2, 3, 4, 5, 6, 7, 8, 9]\n"
     ]
    }
   ],
   "source": [
    "comp = []\n",
    "for i in range(10):\n",
    "    comp.append(i)\n",
    "print(comp)"
   ]
  },
  {
   "cell_type": "code",
   "execution_count": 4,
   "metadata": {},
   "outputs": [
    {
     "data": {
      "text/plain": [
       "[10, 11, 12, 13, 14, 15, 16, 17, 18, 19]"
      ]
     },
     "execution_count": 4,
     "metadata": {},
     "output_type": "execute_result"
    }
   ],
   "source": [
    "[i + 10 for i in range(10)]"
   ]
  },
  {
   "cell_type": "code",
   "execution_count": 5,
   "metadata": {},
   "outputs": [
    {
     "data": {
      "text/plain": [
       "[(10, 'Hello'), (11, 'World'), (12, 'From'), (13, 'Jedha')]"
      ]
     },
     "execution_count": 5,
     "metadata": {},
     "output_type": "execute_result"
    }
   ],
   "source": [
    "greetings = [\"Hello\",\"World\",\"From\",\"Jedha\"]\n",
    "[(i + 10, hello) for i, hello in enumerate(greetings)]"
   ]
  },
  {
   "cell_type": "code",
   "execution_count": 9,
   "metadata": {},
   "outputs": [
    {
     "name": "stdout",
     "output_type": "stream",
     "text": [
      "[(10, 'Hello'), (11, 'World'), (12, 'From'), (13, 'Jedha')]\n"
     ]
    }
   ],
   "source": [
    "greetings = [\"Hello\",\"World\",\"From\",\"Jedha\"]\n",
    "comp = []\n",
    "for i, hello in enumerate(greetings):\n",
    "    comp.append((i + 10,hello))\n",
    "\n",
    "print(comp)"
   ]
  },
  {
   "cell_type": "code",
   "execution_count": 11,
   "metadata": {},
   "outputs": [
    {
     "name": "stdout",
     "output_type": "stream",
     "text": [
      "Please enter numbers of the amounts spent\n",
      "Please enter numbers of the amounts spent\n",
      "JUlia needs to give 10.00\n",
      "Lulu doesn't need to receive anything\n",
      "io needs to receive 10.00\n"
     ]
    }
   ],
   "source": [
    "friends = input(\"What are the names of your friends? Separate their names by a comma\")\n",
    "amounts = input(\"How much each of your friends spent? Keep the same order as above and separate by a comma\")\n",
    "\n",
    "list_of_friends = friends.split(\",\")\n",
    "list_of_amounts = amounts.split(\",\")\n",
    "\n",
    "while True:\n",
    "    try:\n",
    "        list_of_amounts = [float(amount) for amount in list_of_amounts]\n",
    "        break\n",
    "    except:\n",
    "        print(\"Please enter numbers of the amounts spent\")\n",
    "        amounts = input(\"How much each of your friends spent? Keep the same order as above and separate by a comma\")\n",
    "        list_of_amounts = amounts.split(\",\")\n",
    "\n",
    "while len(list_of_friends) != len(list_of_amounts):\n",
    "    print(\"You did not enter the same number of friends than amounts spent!\")\n",
    "\n",
    "    friends = input(\"What are the names of your friends? Separate their names by a comma\")\n",
    "    amounts = input(\"How much each of your friends spent? Keep the same order as above and separate by a comma\")\n",
    "\n",
    "    list_of_friends = friends.split(\",\")\n",
    "    list_of_amounts = amounts.split(\",\")\n",
    "    \n",
    "    while True:\n",
    "        try:\n",
    "            list_of_amounts = [float(amount) for amount in list_of_amounts]\n",
    "            break\n",
    "        except:\n",
    "            print(\"Please enter numbers of the amounts spent\")\n",
    "            amounts = input(\"How much each of your friends spent? Keep the same order as above and separate by a comma\")\n",
    "            list_of_amounts = amounts.split(\",\")\n",
    "\n",
    "else:\n",
    "    friends = [(friend,amount) for friend, amount in zip(list_of_friends,list_of_amounts)]\n",
    "    total_spent = sum([amount for _, amount in friends])\n",
    "\n",
    "    for friend,amount in zip(list_of_friends,list_of_amounts):\n",
    "        even_share = total_spent / len(friends)\n",
    "        friend_balance = amount - even_share\n",
    "\n",
    "        if friend_balance < 0:\n",
    "            print(\"{} needs to give {:.2f}\".format(friend, -friend_balance))\n",
    "        elif friend_balance > 0:\n",
    "            print(\"{} needs to receive {:.2f}\".format(friend, friend_balance))\n",
    "        else:\n",
    "            print(\"{} doesn't need to receive anything\".format(friend))"
   ]
  },
  {
   "cell_type": "code",
   "execution_count": null,
   "metadata": {},
   "outputs": [],
   "source": []
  }
 ],
 "metadata": {
  "kernelspec": {
   "display_name": "Python 3",
   "language": "python",
   "name": "python3"
  },
  "language_info": {
   "codemirror_mode": {
    "name": "ipython",
    "version": 3
   },
   "file_extension": ".py",
   "mimetype": "text/x-python",
   "name": "python",
   "nbconvert_exporter": "python",
   "pygments_lexer": "ipython3",
   "version": "3.12.4"
  }
 },
 "nbformat": 4,
 "nbformat_minor": 2
}
