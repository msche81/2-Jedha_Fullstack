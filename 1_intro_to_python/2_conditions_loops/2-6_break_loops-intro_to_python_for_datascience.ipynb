{
 "cells": [
  {
   "cell_type": "code",
   "execution_count": 1,
   "metadata": {},
   "outputs": [
    {
     "name": "stdout",
     "output_type": "stream",
     "text": [
      "Julia\n",
      "Antoine\n",
      "Patrick\n",
      "Patrick is at index 2\n"
     ]
    }
   ],
   "source": [
    "names = [\"Julia\",\"Antoine\",\"Patrick\",\"Alex\",\"Thomas\"]\n",
    "\n",
    "for i, name in enumerate(names):\n",
    "    search_name=\"Patrick\"\n",
    "    print(name)\n",
    "    if name == search_name:\n",
    "        print(\"{} is at index {}\".format(search_name,i))\n",
    "        break"
   ]
  },
  {
   "cell_type": "code",
   "execution_count": 2,
   "metadata": {},
   "outputs": [
    {
     "name": "stdout",
     "output_type": "stream",
     "text": [
      "Julia\n",
      "Antoine\n",
      "Patrick\n",
      "Thomas\n"
     ]
    }
   ],
   "source": [
    "for i, name in enumerate(names):\n",
    "    search_name=\"Alex\"\n",
    "\n",
    "    if name == search_name:\n",
    "        continue\n",
    "    print(name)"
   ]
  },
  {
   "cell_type": "code",
   "execution_count": null,
   "metadata": {},
   "outputs": [],
   "source": []
  }
 ],
 "metadata": {
  "kernelspec": {
   "display_name": "Python 3",
   "language": "python",
   "name": "python3"
  },
  "language_info": {
   "codemirror_mode": {
    "name": "ipython",
    "version": 3
   },
   "file_extension": ".py",
   "mimetype": "text/x-python",
   "name": "python",
   "nbconvert_exporter": "python",
   "pygments_lexer": "ipython3",
   "version": "3.12.4"
  }
 },
 "nbformat": 4,
 "nbformat_minor": 2
}
