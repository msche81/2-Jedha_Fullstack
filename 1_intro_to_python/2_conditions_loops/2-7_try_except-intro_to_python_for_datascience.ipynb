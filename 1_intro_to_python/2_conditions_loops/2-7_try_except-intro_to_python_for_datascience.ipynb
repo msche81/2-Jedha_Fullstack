{
 "cells": [
  {
   "cell_type": "code",
   "execution_count": 6,
   "metadata": {},
   "outputs": [
    {
     "name": "stdout",
     "output_type": "stream",
     "text": [
      "Can't add these two objects\n"
     ]
    }
   ],
   "source": [
    "a = 10\n",
    "b = \"12\"\n",
    "\n",
    "try:\n",
    "    print(a+b)\n",
    "except:\n",
    "    print(\"Can't add these two objects\")"
   ]
  },
  {
   "cell_type": "code",
   "execution_count": 7,
   "metadata": {},
   "outputs": [
    {
     "name": "stdout",
     "output_type": "stream",
     "text": [
      "Can't add these two objects\n",
      "unsupported operand type(s) for +: 'int' and 'str'\n"
     ]
    }
   ],
   "source": [
    "a = 10\n",
    "b = \"12\"\n",
    "\n",
    "try:\n",
    "    print(a+b)\n",
    "except TypeError as error:\n",
    "    print(\"Can't add these two objects\")\n",
    "    print(error)"
   ]
  },
  {
   "cell_type": "code",
   "execution_count": 8,
   "metadata": {},
   "outputs": [
    {
     "ename": "ZeroDivisionError",
     "evalue": "division by zero",
     "output_type": "error",
     "traceback": [
      "\u001b[0;31m---------------------------------------------------------------------------\u001b[0m",
      "\u001b[0;31mZeroDivisionError\u001b[0m                         Traceback (most recent call last)",
      "Cell \u001b[0;32mIn[8], line 1\u001b[0m\n\u001b[0;32m----> 1\u001b[0m \u001b[38;5;241;43m10\u001b[39;49m\u001b[38;5;241;43m/\u001b[39;49m\u001b[38;5;241;43m0\u001b[39;49m\n",
      "\u001b[0;31mZeroDivisionError\u001b[0m: division by zero"
     ]
    }
   ],
   "source": [
    "10/0"
   ]
  },
  {
   "cell_type": "code",
   "execution_count": 3,
   "metadata": {},
   "outputs": [
    {
     "name": "stdout",
     "output_type": "stream",
     "text": [
      "Please enter numbers of the amounts spent\n",
      "Please enter numbers of the amounts spent\n",
      "[('piere', 67.0), ('lucas', 90.0), ('goeorge', 89.0)]\n",
      "Total amount spent during the trip is: 246\n"
     ]
    }
   ],
   "source": [
    "friends = input(\"What are the names of your friends? Separate their names by a comma\")\n",
    "amounts = input(\"How much each of your friends spent? Keep the same order as above and separate by a comma\")\n",
    "\n",
    "list_of_friends = friends.split(\",\")\n",
    "list_of_amounts = amounts.split(\",\")\n",
    "\n",
    "while True:\n",
    "    try:\n",
    "        for i, amount in enumerate(list_of_amounts):\n",
    "            list_of_amounts[i] = float(amount)\n",
    "        break\n",
    "    except:\n",
    "        print(\"Please enter numbers of the amounts spent\")\n",
    "        amounts = input(\"How much each of your friends spent? Keep the same order as above and separate by a comma\")\n",
    "        list_of_amounts = amounts.split(\",\")\n",
    "\n",
    "while len(list_of_friends) != len(list_of_amounts):\n",
    "    print(\"You did not enter the same number of friends than amounts spent!\")\n",
    "\n",
    "    friends = input(\"What are the names of your friends? Separate their names by a comma\")\n",
    "    amounts = input(\"How much each of your friends spent? Keep the same order as above and separate by a comma\")\n",
    "\n",
    "    list_of_friends = friends.split(\",\")\n",
    "    list_of_amounts = amounts.split(\",\")\n",
    "    \n",
    "    while True:\n",
    "        try:\n",
    "            for i, amount in enumerate(list_of_amounts):\n",
    "                list_of_amounts[i] = float(amount)\n",
    "            break\n",
    "        except:\n",
    "            print(\"Please enter numbers of the amounts spent\")\n",
    "            amounts = input(\"How much each of your friends spent? Keep the same order as above and separate by a comma\")\n",
    "            list_of_amounts = amounts.split(\",\")\n",
    "\n",
    "else:\n",
    "    friends = []\n",
    "    total_spent = 0\n",
    "    for friend, amount in zip(list_of_friends, list_of_amounts):\n",
    "        friends.append((friend,amount))\n",
    "        total_spent += int(amount)\n",
    "    print(friends)\n",
    "    print (\"Total amount spent during the trip is: {}\".format(total_spent))"
   ]
  },
  {
   "cell_type": "code",
   "execution_count": null,
   "metadata": {},
   "outputs": [],
   "source": []
  }
 ],
 "metadata": {
  "kernelspec": {
   "display_name": "Python 3",
   "language": "python",
   "name": "python3"
  },
  "language_info": {
   "codemirror_mode": {
    "name": "ipython",
    "version": 3
   },
   "file_extension": ".py",
   "mimetype": "text/x-python",
   "name": "python",
   "nbconvert_exporter": "python",
   "pygments_lexer": "ipython3",
   "version": "3.12.4"
  }
 },
 "nbformat": 4,
 "nbformat_minor": 2
}
