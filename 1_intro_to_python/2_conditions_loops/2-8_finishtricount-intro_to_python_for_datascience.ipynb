{
 "cells": [
  {
   "cell_type": "code",
   "execution_count": 6,
   "metadata": {},
   "outputs": [
    {
     "name": "stdout",
     "output_type": "stream",
     "text": [
      "Barbara needs to give 50.0\n",
      "Rochard needs to receive 50.0\n",
      "Antoine doesn't need to receive anything\n"
     ]
    }
   ],
   "source": [
    "friends = input(\"What are the names of your friends? Separate their names by a comma\")\n",
    "amounts = input(\"How much each of your friends spent? Keep the same order as above and separate by a comma\")\n",
    "\n",
    "list_of_friends = friends.split(\",\")\n",
    "list_of_amounts = amounts.split(\",\")\n",
    "\n",
    "while True:\n",
    "    try:\n",
    "        for i, amount in enumerate(list_of_amounts):\n",
    "            list_of_amounts[i] = float(amount)\n",
    "        break\n",
    "    except:\n",
    "        print(\"Please enter numbers of the amounts spent\")\n",
    "        amounts = input(\"How much each of your friends spent? Keep the same order as above and separate by a comma\")\n",
    "        list_of_amounts = amounts.split(\",\")\n",
    "\n",
    "while len(list_of_friends) != len(list_of_amounts):\n",
    "    print(\"You did not enter the same number of friends than amounts spent!\")\n",
    "\n",
    "    friends = input(\"What are the names of your friends? Separate their names by a comma\")\n",
    "    amounts = input(\"How much each of your friends spent? Keep the same order as above and separate by a comma\")\n",
    "\n",
    "    list_of_friends = friends.split(\",\")\n",
    "    list_of_amounts = amounts.split(\",\")\n",
    "    \n",
    "    while True:\n",
    "        try:\n",
    "            for i, amount in enumerate(list_of_amounts):\n",
    "                list_of_amounts[i] = float(amount)\n",
    "            break\n",
    "        except:\n",
    "            print(\"Please enter numbers of the amounts spent\")\n",
    "            amounts = input(\"How much each of your friends spent? Keep the same order as above and separate by a comma\")\n",
    "            list_of_amounts = amounts.split(\",\")\n",
    "\n",
    "else:\n",
    "    friends = []\n",
    "    total_spent = 0\n",
    "    for friend, amount in zip(list_of_friends, list_of_amounts):\n",
    "        friends.append((friend,amount))\n",
    "        total_spent += float(amount)\n",
    "\n",
    "    for friend,amount in zip(list_of_friends,list_of_amounts):\n",
    "        even_share = total_spent / len(friends)\n",
    "        friend_balance = float(amount) - even_share\n",
    "\n",
    "        if friend_balance < 0:\n",
    "            print(\"{} needs to give {:.2f}\".format(friend, -friend_balance))\n",
    "        elif friend_balance > 0:\n",
    "            print(\"{} needs to receive {:.2f}\".format(friend, friend_balance))\n",
    "        else:\n",
    "            print(\"{} doesn't need to receive anything\".format(friend))"
   ]
  },
  {
   "cell_type": "code",
   "execution_count": null,
   "metadata": {},
   "outputs": [],
   "source": []
  }
 ],
 "metadata": {
  "kernelspec": {
   "display_name": "Python 3",
   "language": "python",
   "name": "python3"
  },
  "language_info": {
   "codemirror_mode": {
    "name": "ipython",
    "version": 3
   },
   "file_extension": ".py",
   "mimetype": "text/x-python",
   "name": "python",
   "nbconvert_exporter": "python",
   "pygments_lexer": "ipython3",
   "version": "3.12.4"
  }
 },
 "nbformat": 4,
 "nbformat_minor": 2
}
