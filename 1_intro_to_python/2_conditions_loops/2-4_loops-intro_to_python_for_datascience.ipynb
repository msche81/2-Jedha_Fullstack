{
 "cells": [
  {
   "cell_type": "code",
   "execution_count": 5,
   "metadata": {},
   "outputs": [
    {
     "name": "stdout",
     "output_type": "stream",
     "text": [
      "['Hello', 'World', 'From', 'Jedha']\n"
     ]
    }
   ],
   "source": [
    "items = [\"Hello\", \"World\", \"From\", \"Jedha\"]\n",
    "print (items)"
   ]
  },
  {
   "cell_type": "code",
   "execution_count": 6,
   "metadata": {},
   "outputs": [
    {
     "name": "stdout",
     "output_type": "stream",
     "text": [
      "Hello\n",
      "World\n",
      "From\n",
      "Jedha\n"
     ]
    }
   ],
   "source": [
    "print(items[0])\n",
    "print(items[1])\n",
    "print(items[2])\n",
    "print(items[3])"
   ]
  },
  {
   "cell_type": "code",
   "execution_count": 7,
   "metadata": {},
   "outputs": [
    {
     "name": "stdout",
     "output_type": "stream",
     "text": [
      "Hello\n",
      "World\n",
      "From\n",
      "Jedha\n"
     ]
    }
   ],
   "source": [
    "for item in items:\n",
    "    print(item)"
   ]
  },
  {
   "cell_type": "code",
   "execution_count": 9,
   "metadata": {},
   "outputs": [
    {
     "name": "stdout",
     "output_type": "stream",
     "text": [
      "Hello\n",
      "World\n",
      "From\n",
      "Jedha\n"
     ]
    }
   ],
   "source": [
    "length = len(items)\n",
    "for i in range(length):\n",
    "    print(items[i])"
   ]
  },
  {
   "cell_type": "code",
   "execution_count": 10,
   "metadata": {},
   "outputs": [
    {
     "name": "stdout",
     "output_type": "stream",
     "text": [
      "0\n",
      "1\n",
      "2\n",
      "3\n",
      "4\n",
      "5\n",
      "6\n",
      "7\n",
      "8\n",
      "9\n"
     ]
    }
   ],
   "source": [
    "for i in range(10):\n",
    "    print(i)"
   ]
  },
  {
   "cell_type": "code",
   "execution_count": 11,
   "metadata": {},
   "outputs": [
    {
     "name": "stdout",
     "output_type": "stream",
     "text": [
      "(0, 'Hello')\n",
      "(1, 'World')\n",
      "(2, 'From')\n",
      "(3, 'Jedha')\n"
     ]
    }
   ],
   "source": [
    "for item in enumerate(items):\n",
    "    print(item)"
   ]
  },
  {
   "cell_type": "code",
   "execution_count": 13,
   "metadata": {},
   "outputs": [
    {
     "name": "stdout",
     "output_type": "stream",
     "text": [
      "Item Hello has index0\n",
      "Item World has index1\n",
      "Item From has index2\n",
      "Item Jedha has index3\n"
     ]
    }
   ],
   "source": [
    "for i, item in enumerate(items):\n",
    "    print(\"Item {} has index{}\".format(item,i))"
   ]
  },
  {
   "cell_type": "code",
   "execution_count": 16,
   "metadata": {},
   "outputs": [
    {
     "name": "stdout",
     "output_type": "stream",
     "text": [
      "[('Antoine', '34'), (' Lissy', ' 56'), (' George', ' 890')]\n"
     ]
    }
   ],
   "source": [
    "friends = input(\"What are the names of your friends? Separate their names by a comma\")\n",
    "amounts = input(\"How much each of your friends spent? Keep the same order as above and separate by a comma\")\n",
    "\n",
    "list_of_friends = friends.split(\",\")\n",
    "list_of_amounts = amounts.split(\",\")\n",
    "\n",
    "if len(list_of_friends) == len(list_of_amounts):\n",
    "    friends = []\n",
    "    for i, _ in enumerate(list_of_friends):\n",
    "\n",
    "        friends.append((list_of_friends[i], list_of_amounts[i]))\n",
    "    print(friends)\n",
    "\n",
    "elif len(list_of_friends) > len(list_of_amounts):\n",
    "    print(\"You entered more friends than amounts!\")\n",
    "\n",
    "else:\n",
    "    print(\"You entered more amounts than friends!\")"
   ]
  },
  {
   "cell_type": "code",
   "execution_count": 17,
   "metadata": {},
   "outputs": [
    {
     "name": "stdout",
     "output_type": "stream",
     "text": [
      "[('George', '450'), (' Antoine', ' 34'), (' Lili', ' 12'), (' Lala', ' 900')]\n"
     ]
    }
   ],
   "source": [
    "friends = input(\"What are the names of your friends? Separate their names by a comma\")\n",
    "amounts = input(\"How much each of your friends spent? Keep the same order as above and separate by a comma\")\n",
    "\n",
    "list_of_friends = friends.split(\",\")\n",
    "list_of_amounts = amounts.split(\",\")\n",
    "\n",
    "if len(list_of_friends) == len(list_of_amounts):\n",
    "    friends = []\n",
    "    for friend, amount in zip(list_of_friends, list_of_amounts):\n",
    "        friends.append((friend,amount))\n",
    "    print(friends)\n",
    "\n",
    "elif len(list_of_friends) > len(list_of_amounts):\n",
    "    print(\"You entered more friends than amounts!\")\n",
    "\n",
    "else:\n",
    "    print(\"You entered more amounts than friends!\")"
   ]
  },
  {
   "cell_type": "code",
   "execution_count": 18,
   "metadata": {},
   "outputs": [
    {
     "name": "stdout",
     "output_type": "stream",
     "text": [
      "('George', '450')\n",
      "(' Antoine', ' 34')\n",
      "(' Lili', ' 12')\n",
      "(' Lala', ' 900')\n"
     ]
    }
   ],
   "source": [
    "for items in zip(list_of_friends, list_of_amounts):\n",
    "    print(items)"
   ]
  },
  {
   "cell_type": "code",
   "execution_count": null,
   "metadata": {},
   "outputs": [],
   "source": []
  }
 ],
 "metadata": {
  "kernelspec": {
   "display_name": "Python 3",
   "language": "python",
   "name": "python3"
  },
  "language_info": {
   "codemirror_mode": {
    "name": "ipython",
    "version": 3
   },
   "file_extension": ".py",
   "mimetype": "text/x-python",
   "name": "python",
   "nbconvert_exporter": "python",
   "pygments_lexer": "ipython3",
   "version": "3.12.4"
  }
 },
 "nbformat": 4,
 "nbformat_minor": 2
}
