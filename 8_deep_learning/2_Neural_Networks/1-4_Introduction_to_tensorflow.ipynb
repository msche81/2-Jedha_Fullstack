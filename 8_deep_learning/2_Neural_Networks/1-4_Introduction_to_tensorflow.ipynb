{
 "cells": [
  {
   "cell_type": "code",
   "execution_count": 4,
   "metadata": {},
   "outputs": [],
   "source": [
    "color_chart = [\"#4B9AC7\", \"#4BE8E0\", \"#9DD4F3\", \"#97FBF6\", \"#2A7FAF\", \"#23B1AB\", \"#0E3449\", \"#015955\"]\n",
    "import tensorflow as tf\n",
    "from tensorflow.keras.layers import Dense # all the layers are in tf.keras.layers"
   ]
  },
  {
   "cell_type": "code",
   "execution_count": 5,
   "metadata": {},
   "outputs": [],
   "source": [
    "dense = Dense(units=2, activation=\"relu\", input_shape=[3,])\n",
    "# units: the number of neurons on the layer\n",
    "# activation: the choice of activation function, the most common activation\n",
    "#    functions can be named with strings, but you can use keras functions\n",
    "#    or custom functions instead!\n",
    "# input_shape: is optional, it can be either a list or tuple indicating the shape\n",
    "#    of what will be entering the layer, we'll learn more about this later in the \n",
    "#    lecture"
   ]
  },
  {
   "cell_type": "code",
   "execution_count": 6,
   "metadata": {},
   "outputs": [],
   "source": [
    "from tensorflow.keras.layers import BatchNormalization\n",
    "bn = BatchNormalization()\n",
    "# That's it you usually will not need anything else in order to instanciate\n",
    "# a batch normalization layer, but feel free to check the documentation\n",
    "# for additional information!"
   ]
  },
  {
   "cell_type": "code",
   "execution_count": 7,
   "metadata": {},
   "outputs": [],
   "source": [
    "from tensorflow.keras.layers import Dropout\n",
    "do = Dropout(rate=0.2)\n",
    "# The important parameter when instanciating the DropOut layer is rate, it \n",
    "# indicates the proportion of outputs from the previous that will randomly\n",
    "# be set to zero at each batch passing forward.\n",
    "# The closer to one, the higher proportion of outputs set to zero and harder\n",
    "# it will be for the model to overfit, but also to train\n",
    "# The closer to zero, the lower proportion of outputs set to zero and the easier\n",
    "# it will be for the model to train, but also overfit"
   ]
  },
  {
   "cell_type": "code",
   "execution_count": null,
   "metadata": {},
   "outputs": [],
   "source": []
  },
  {
   "cell_type": "code",
   "execution_count": null,
   "metadata": {},
   "outputs": [],
   "source": []
  },
  {
   "cell_type": "code",
   "execution_count": null,
   "metadata": {},
   "outputs": [],
   "source": []
  }
 ],
 "metadata": {
  "kernelspec": {
   "display_name": ".venv",
   "language": "python",
   "name": "python3"
  },
  "language_info": {
   "codemirror_mode": {
    "name": "ipython",
    "version": 3
   },
   "file_extension": ".py",
   "mimetype": "text/x-python",
   "name": "python",
   "nbconvert_exporter": "python",
   "pygments_lexer": "ipython3",
   "version": "3.12.7"
  }
 },
 "nbformat": 4,
 "nbformat_minor": 2
}
