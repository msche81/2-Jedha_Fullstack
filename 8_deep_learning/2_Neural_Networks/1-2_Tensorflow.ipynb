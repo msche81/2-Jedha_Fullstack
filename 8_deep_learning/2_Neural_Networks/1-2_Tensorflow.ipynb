{
 "cells": [
  {
   "cell_type": "code",
   "execution_count": 1,
   "metadata": {},
   "outputs": [
    {
     "name": "stdout",
     "output_type": "stream",
     "text": [
      "TensorFlow version: 2.18.0\n"
     ]
    }
   ],
   "source": [
    "import tensorflow as tf\n",
    "print(\"TensorFlow version:\", tf.__version__)"
   ]
  },
  {
   "cell_type": "markdown",
   "metadata": {},
   "source": [
    "# Tensor operations"
   ]
  },
  {
   "cell_type": "code",
   "execution_count": 3,
   "metadata": {},
   "outputs": [
    {
     "name": "stdout",
     "output_type": "stream",
     "text": [
      "tf.Tensor(\n",
      "[[1 2]\n",
      " [3 4]], shape=(2, 2), dtype=int32)\n"
     ]
    }
   ],
   "source": [
    "# let's create our first tensor\n",
    "# this is a constant tensor, meaning it is immutable, the values inside it\n",
    "# may not be changed in place\n",
    "tensor = tf.constant([[1,2],[3,4]])\n",
    "print(tensor)"
   ]
  },
  {
   "cell_type": "code",
   "execution_count": 4,
   "metadata": {},
   "outputs": [
    {
     "name": "stdout",
     "output_type": "stream",
     "text": [
      "tf.Tensor(\n",
      "[[6 7]\n",
      " [8 9]], shape=(2, 2), dtype=int32)\n",
      "tf.Tensor(\n",
      "[[6 7]\n",
      " [8 9]], shape=(2, 2), dtype=int32)\n"
     ]
    }
   ],
   "source": [
    "# Ajouter un scalaire à un tensor\n",
    "print(tensor + 5)\n",
    "\n",
    "# Ajout d'une matrice explicitement\n",
    "print(tensor + tf.constant([[5, 5], [5, 5]]))"
   ]
  },
  {
   "cell_type": "code",
   "execution_count": 5,
   "metadata": {},
   "outputs": [
    {
     "name": "stdout",
     "output_type": "stream",
     "text": [
      "tf.Tensor(\n",
      "[[ 6  8]\n",
      " [10 12]], shape=(2, 2), dtype=int32)\n"
     ]
    }
   ],
   "source": [
    "# Définir un second tensor\n",
    "tensor2 = tf.constant([[5, 6], [7, 8]])\n",
    "\n",
    "# Ajouter les deux tensors\n",
    "print(tensor + tensor2)"
   ]
  },
  {
   "cell_type": "code",
   "execution_count": 6,
   "metadata": {},
   "outputs": [
    {
     "name": "stdout",
     "output_type": "stream",
     "text": [
      "tf.Tensor(\n",
      "[[2 4]\n",
      " [4 6]], shape=(2, 2), dtype=int32)\n",
      "tf.Tensor(\n",
      "[[2 4]\n",
      " [4 6]], shape=(2, 2), dtype=int32)\n"
     ]
    }
   ],
   "source": [
    "# Définir un tensor de forme différente\n",
    "tensor3 = tf.constant([1, 2])\n",
    "\n",
    "# Ajouter les deux tensors\n",
    "print(tensor + tensor3)\n",
    "\n",
    "# Équivalent explicite avec broadcasting\n",
    "print(tensor + tf.constant([[1, 2], [1, 2]]))"
   ]
  },
  {
   "cell_type": "code",
   "execution_count": 7,
   "metadata": {},
   "outputs": [
    {
     "name": "stdout",
     "output_type": "stream",
     "text": [
      "tf.Tensor(\n",
      "[[2 3]\n",
      " [5 6]], shape=(2, 2), dtype=int32)\n",
      "tf.Tensor(\n",
      "[[2 3]\n",
      " [5 6]], shape=(2, 2), dtype=int32)\n"
     ]
    }
   ],
   "source": [
    "# Définir un tensor de forme différente\n",
    "tensor4 = tf.constant([[1], [2]])\n",
    "\n",
    "# Ajouter les deux tensors\n",
    "print(tensor + tensor4)\n",
    "\n",
    "# Équivalent explicite avec broadcasting\n",
    "print(tensor + tf.constant([[1, 1], [2, 2]]))"
   ]
  },
  {
   "cell_type": "code",
   "execution_count": 8,
   "metadata": {},
   "outputs": [
    {
     "name": "stdout",
     "output_type": "stream",
     "text": [
      "tf.Tensor(\n",
      "[[ 4  8]\n",
      " [12 16]], shape=(2, 2), dtype=int32)\n"
     ]
    }
   ],
   "source": [
    "# Multiplication by a scalar\n",
    "print(tensor * 4)"
   ]
  },
  {
   "cell_type": "code",
   "execution_count": 9,
   "metadata": {},
   "outputs": [
    {
     "name": "stdout",
     "output_type": "stream",
     "text": [
      "tf.Tensor(\n",
      "[[ 5 12]\n",
      " [21 32]], shape=(2, 2), dtype=int32)\n"
     ]
    }
   ],
   "source": [
    "# Pointwise multiplication by a tensor of same shape\n",
    "print(tensor * tensor2)"
   ]
  },
  {
   "cell_type": "code",
   "execution_count": 10,
   "metadata": {},
   "outputs": [
    {
     "name": "stdout",
     "output_type": "stream",
     "text": [
      "tf.Tensor(\n",
      "[[1 4]\n",
      " [3 8]], shape=(2, 2), dtype=int32)\n",
      "tf.Tensor(\n",
      "[[1 2]\n",
      " [6 8]], shape=(2, 2), dtype=int32)\n"
     ]
    }
   ],
   "source": [
    "# Pointwise multiplication of tensors of different shapes\n",
    "print(tensor * tensor3)\n",
    "print(tensor * tensor4)"
   ]
  },
  {
   "cell_type": "code",
   "execution_count": 11,
   "metadata": {},
   "outputs": [
    {
     "name": "stdout",
     "output_type": "stream",
     "text": [
      "tf.Tensor(\n",
      "[[19 22]\n",
      " [43 50]], shape=(2, 2), dtype=int32)\n",
      "tf.Tensor(\n",
      "[[ 5]\n",
      " [11]], shape=(2, 1), dtype=int32)\n"
     ]
    }
   ],
   "source": [
    "# Matrix multiplication of tensors\n",
    "print(tf.matmul(tensor, tensor2))\n",
    "print(tf.matmul(tensor, tensor4))"
   ]
  },
  {
   "cell_type": "code",
   "execution_count": 12,
   "metadata": {},
   "outputs": [
    {
     "name": "stdout",
     "output_type": "stream",
     "text": [
      "<tf.Variable 'Variable:0' shape=(2, 2) dtype=int32, numpy=\n",
      "array([[2, 3],\n",
      "       [4, 5]], dtype=int32)>\n",
      "<tf.Variable 'Variable:0' shape=(2, 2) dtype=int32, numpy=\n",
      "array([[0, 1],\n",
      "       [2, 3]], dtype=int32)>\n",
      "<tf.Variable 'Variable:0' shape=(2, 2) dtype=int32, numpy=\n",
      "array([[1, 2],\n",
      "       [3, 4]], dtype=int32)>\n"
     ]
    }
   ],
   "source": [
    "# Définir une variable tensor\n",
    "variable_tensor = tf.Variable([[1, 2], [3, 4]])\n",
    "\n",
    "# Ajouter une matrice à la variable\n",
    "variable_tensor.assign_add([[1, 1], [1, 1]])\n",
    "print(variable_tensor)\n",
    "\n",
    "# Soustraire une matrice à la variable\n",
    "variable_tensor.assign_sub([[2, 2], [2, 2]])\n",
    "print(variable_tensor)\n",
    "\n",
    "# Réassigner complètement la valeur de la variable\n",
    "variable_tensor.assign([[1, 2], [3, 4]])\n",
    "print(variable_tensor)"
   ]
  },
  {
   "cell_type": "code",
   "execution_count": 13,
   "metadata": {},
   "outputs": [
    {
     "data": {
      "text/plain": [
       "array([[1, 2],\n",
       "       [3, 4]], dtype=int32)"
      ]
     },
     "execution_count": 13,
     "metadata": {},
     "output_type": "execute_result"
    }
   ],
   "source": [
    "tensor.numpy()"
   ]
  },
  {
   "cell_type": "code",
   "execution_count": 14,
   "metadata": {},
   "outputs": [
    {
     "data": {
      "text/plain": [
       "TensorShape([2, 2])"
      ]
     },
     "execution_count": 14,
     "metadata": {},
     "output_type": "execute_result"
    }
   ],
   "source": [
    "tensor.shape # gives the shape of the tensor"
   ]
  },
  {
   "cell_type": "code",
   "execution_count": 15,
   "metadata": {},
   "outputs": [
    {
     "data": {
      "text/plain": [
       "<tf.Tensor: shape=(4, 1), dtype=int32, numpy=\n",
       "array([[1],\n",
       "       [2],\n",
       "       [3],\n",
       "       [4]], dtype=int32)>"
      ]
     },
     "execution_count": 15,
     "metadata": {},
     "output_type": "execute_result"
    }
   ],
   "source": [
    "tf.reshape(tensor, [-1,1]) # reshapes the tensor"
   ]
  },
  {
   "cell_type": "code",
   "execution_count": 16,
   "metadata": {},
   "outputs": [],
   "source": [
    "from sklearn.datasets import load_iris \n",
    "iris = load_iris() # loding the iris dataset\n",
    "data = iris.data # storing data in a separate object\n",
    "target = iris.target # storin the target in a separate object"
   ]
  },
  {
   "cell_type": "code",
   "execution_count": 17,
   "metadata": {},
   "outputs": [
    {
     "name": "stdout",
     "output_type": "stream",
     "text": [
      "x: tf.Tensor([6.5 3.  5.8 2.2], shape=(4,), dtype=float64)\n",
      "y: tf.Tensor(2, shape=(), dtype=int64)\n",
      "x: tf.Tensor([6.5 3.  5.8 2.2], shape=(4,), dtype=float64)\n",
      "y: tf.Tensor(2, shape=(), dtype=int64)\n"
     ]
    },
    {
     "name": "stderr",
     "output_type": "stream",
     "text": [
      "2024-12-15 18:21:30.020023: I tensorflow/core/framework/local_rendezvous.cc:405] Local rendezvous is aborting with status: OUT_OF_RANGE: End of sequence\n"
     ]
    }
   ],
   "source": [
    "# To train deep learning models, we will use batch gradient descent\n",
    "# Therefore we are going to form batch datasets with tensorflow\n",
    "\n",
    "from sklearn.model_selection import train_test_split\n",
    "X_train, X_test, y_train, y_test = train_test_split(data,target)\n",
    "\n",
    "# to form a tensor dataset we will use a function call from_tensor_slices\n",
    "# that converts tuples of arrays into tensor datasets\n",
    "train = tf.data.Dataset.from_tensor_slices((X_train,y_train))\n",
    "test = tf.data.Dataset.from_tensor_slices((X_test,y_test))\n",
    "\n",
    "# to extract a tensor from these objects we can use two different techniques :\n",
    "x, y = next(iter(train)) # iter turns train into an iterator and next picks the next element of train\n",
    "print('x:',x)\n",
    "print('y:',y)\n",
    "\n",
    "for x, y in train.take(1): #take will give you the first n tensors in the dataset\n",
    "  print('x:',x)\n",
    "  print('y:',y)"
   ]
  },
  {
   "cell_type": "code",
   "execution_count": 18,
   "metadata": {},
   "outputs": [
    {
     "data": {
      "text/plain": [
       "<_TensorSliceDataset element_spec=(TensorSpec(shape=(4,), dtype=tf.float64, name=None), TensorSpec(shape=(), dtype=tf.int64, name=None))>"
      ]
     },
     "execution_count": 18,
     "metadata": {},
     "output_type": "execute_result"
    }
   ],
   "source": [
    "# let's see the type of object obtained for train\n",
    "train\n",
    "# it's a TensorSliceDataset that contains tuples of tensors of respective shapes\n",
    "# (4,) (meaning 4 columns) and () (meaning it's a scalar)"
   ]
  },
  {
   "cell_type": "code",
   "execution_count": 21,
   "metadata": {},
   "outputs": [
    {
     "name": "stdout",
     "output_type": "stream",
     "text": [
      "x: tf.Tensor([5.5 4.2 1.4 0.2], shape=(4,), dtype=float64)\n",
      "y: tf.Tensor(0, shape=(), dtype=int64)\n",
      "x: tf.Tensor([5.5 2.4 3.7 1. ], shape=(4,), dtype=float64)\n",
      "y: tf.Tensor(1, shape=(), dtype=int64)\n",
      "x: tf.Tensor([4.8 3.1 1.6 0.2], shape=(4,), dtype=float64)\n",
      "y: tf.Tensor(0, shape=(), dtype=int64)\n",
      "x: tf.Tensor([6.3 2.8 5.1 1.5], shape=(4,), dtype=float64)\n",
      "y: tf.Tensor(2, shape=(), dtype=int64)\n"
     ]
    }
   ],
   "source": [
    "# Before creating our batches we need to add a property to our tensor dataset\n",
    "# the ability to shuffle th observations every time we use this object\n",
    "# the argument inside shuffle \"buffer_size\" gives you the amount of samples we wish to select\n",
    "# after each shuffle, if buffer_size is greater than the number of elements inside\n",
    "# the dataset it will simply take them all (it does not oversample)\n",
    "train_shuffle = train.shuffle(buffer_size=len(X_train))\n",
    "test_shuffle = test.shuffle(buffer_size=len(X_test))\n",
    "# the shuffle method will give this property to the tensor dataset\n",
    "for x, y in train_shuffle.take(1): \n",
    "  print('x:',x)\n",
    "  print('y:',y)\n",
    "for x, y in test_shuffle.take(1): \n",
    "  print('x:',x)\n",
    "  print('y:',y)\n",
    "# and now every time I use .take I get a different tensor\n",
    "# same thing goes for next(iter())\n",
    "x, y = next(iter(train_shuffle)) \n",
    "print('x:',x)\n",
    "print('y:',y)\n",
    "x, y = next(iter(test_shuffle)) \n",
    "print('x:',x)\n",
    "print('y:',y)"
   ]
  },
  {
   "cell_type": "code",
   "execution_count": 22,
   "metadata": {},
   "outputs": [
    {
     "name": "stdout",
     "output_type": "stream",
     "text": [
      "x: tf.Tensor(\n",
      "[[5.1 3.5 1.4 0.3]\n",
      " [5.2 3.4 1.4 0.2]\n",
      " [6.  2.2 5.  1.5]\n",
      " [6.1 2.9 4.7 1.4]\n",
      " [5.8 4.  1.2 0.2]\n",
      " [6.5 2.8 4.6 1.5]\n",
      " [7.4 2.8 6.1 1.9]\n",
      " [6.5 3.  5.2 2. ]], shape=(8, 4), dtype=float64)\n",
      "y: tf.Tensor([0 0 2 1 0 1 2 2], shape=(8,), dtype=int64)\n"
     ]
    },
    {
     "name": "stderr",
     "output_type": "stream",
     "text": [
      "2024-12-15 18:26:03.273320: I tensorflow/core/framework/local_rendezvous.cc:405] Local rendezvous is aborting with status: OUT_OF_RANGE: End of sequence\n"
     ]
    }
   ],
   "source": [
    "# Now we are ready to form our batches, let's use the .batch method\n",
    "train_batch = train_shuffle.batch(batch_size=8)\n",
    "test_batch = test_shuffle.batch(batch_size=8)\n",
    "\n",
    "# When extracting data from these objects we now get batches!\n",
    "for x, y in train_batch.take(1): \n",
    "  print('x:',x)\n",
    "  print('y:',y)\n",
    "# This gives us a batch of 8 observations from the training data of \n",
    "# shape (8,4) (batch_size, ncol) and (8,) for the target associated with each\n",
    "# observation in the batch"
   ]
  },
  {
   "cell_type": "code",
   "execution_count": null,
   "metadata": {},
   "outputs": [],
   "source": []
  }
 ],
 "metadata": {
  "kernelspec": {
   "display_name": ".venv",
   "language": "python",
   "name": "python3"
  },
  "language_info": {
   "codemirror_mode": {
    "name": "ipython",
    "version": 3
   },
   "file_extension": ".py",
   "mimetype": "text/x-python",
   "name": "python",
   "nbconvert_exporter": "python",
   "pygments_lexer": "ipython3",
   "version": "3.12.7"
  }
 },
 "nbformat": 4,
 "nbformat_minor": 2
}
