{
 "cells": [
  {
   "cell_type": "code",
   "execution_count": null,
   "metadata": {},
   "outputs": [],
   "source": [
    "# In data science, it's common for there to be missing values in a dataset. Let's see how we can create a class that will allow us to replace this missing value by the average of the values in the list\n",
    "\n",
    "# Create a class that we will call Imputer.\n",
    "# To simplify the exercise, we will only deal with lists for the moment.\n",
    "# Our class will take an attribute that we will call list.\n",
    "# Create an avg() function that will first remove the missing value and then replace it with the average of the list."
   ]
  },
  {
   "cell_type": "code",
   "execution_count": 1,
   "metadata": {},
   "outputs": [
    {
     "name": "stdout",
     "output_type": "stream",
     "text": [
      "Here is my initial list [None, 2, 4, 6, None]\n",
      "Here is my list after imputer : [4.0, 2, 4, 6, 4.0]\n"
     ]
    }
   ],
   "source": [
    "class Imputer:\n",
    "    \n",
    "    def __init__(self, numbers_list):\n",
    "        self.nb_list = numbers_list\n",
    "\n",
    "    def avg(self):\n",
    "        sum_of_elements = 0 \n",
    "        positions_of_none = []\n",
    "        \n",
    "        for i in range(len(self.nb_list)):\n",
    "            if self.nb_list[i] is None:\n",
    "                positions_of_none.append(i)\n",
    "            else:\n",
    "                sum_of_elements += self.nb_list[i]\n",
    "\n",
    "        for i in positions_of_none:\n",
    "            self.nb_list[i] = sum_of_elements/(len(self.nb_list) - len(positions_of_none)) # sum divided by number of non-null elements\n",
    "            \n",
    "        return self.nb_list\n",
    "\n",
    "\n",
    "\n",
    "test_list = [None, 2, 4, 6, None]\n",
    "\n",
    "print(\"Here is my initial list {}\".format(test_list))\n",
    "\n",
    "\n",
    "instance = Imputer(test_list)\n",
    "print(\"Here is my list after imputer : {}\".format(instance.avg()))"
   ]
  },
  {
   "cell_type": "code",
   "execution_count": 2,
   "metadata": {},
   "outputs": [
    {
     "name": "stdout",
     "output_type": "stream",
     "text": [
      "Here is a list : [None, 2, 3, 12, 5, 6, None]\n",
      "Here is the list with the empty values replaced by the average value : [5.6, 2, 3, 12, 5, 6, 5.6]\n",
      "Here is a list : [None, 2, 3, 12, 5, 6, None]\n",
      "Here is the list with the empty values replaced by the median : [5, 2, 3, 12, 5, 6, 5]\n"
     ]
    }
   ],
   "source": [
    "class Imputer:\n",
    "    \n",
    "    def __init__(self, numbers_list):\n",
    "        self.nb_list = numbers_list\n",
    "        \n",
    "    def avg(self):\n",
    "        sum_of_elements = 0 \n",
    "        positions_of_none = []\n",
    "        \n",
    "        for i in range(len(self.nb_list)):\n",
    "            if self.nb_list[i] is None:\n",
    "                positions_of_none.append(i)\n",
    "            else:\n",
    "                sum_of_elements += self.nb_list[i]\n",
    "\n",
    "        for i in positions_of_none:\n",
    "            self.nb_list[i] = sum_of_elements/(len(self.nb_list) - len(positions_of_none)) # sum divided by number of non-null elements\n",
    "            \n",
    "        return self.nb_list\n",
    "    \n",
    "    def median(self):\n",
    "        positions_of_none = []\n",
    "\n",
    "        for i in range(len(self.nb_list)):\n",
    "            if self.nb_list[i] is None:\n",
    "                positions_of_none.append(i)\n",
    "\n",
    "        new_list = [i for i in self.nb_list if i is not None]\n",
    "        new_list.sort()\n",
    "\n",
    "        if len(new_list) % 2 == 0:\n",
    "            median = (new_list[len(new_list)//2] + new_list[len(new_list)//2 - 1])/2 # average of 2 elements at the middle\n",
    "        else:\n",
    "            median = new_list[len(new_list)//2]\n",
    "\n",
    "        self.nb_list = [median if x == None else x for x in self.nb_list ] # middle of the list\n",
    "\n",
    "        return self.nb_list\n",
    "\n",
    "\n",
    "test_list1 = [None,2,3,12,5,6,None]\n",
    "print(\"Here is a list : {}\".format(test_list1))\n",
    "instance1 = Imputer(test_list1)\n",
    "print(\"Here is the list with the empty values replaced by the average value : {}\".format(instance1.avg()))\n",
    "\n",
    "test_list2 = [None,2,3,12,5,6,None]\n",
    "print(\"Here is a list : {}\".format(test_list2))\n",
    "instance2 = Imputer(test_list2)\n",
    "print(\"Here is the list with the empty values replaced by the median : {}\".format(instance2.median()))"
   ]
  },
  {
   "cell_type": "code",
   "execution_count": null,
   "metadata": {},
   "outputs": [],
   "source": []
  }
 ],
 "metadata": {
  "kernelspec": {
   "display_name": "Python 3",
   "language": "python",
   "name": "python3"
  },
  "language_info": {
   "codemirror_mode": {
    "name": "ipython",
    "version": 3
   },
   "file_extension": ".py",
   "mimetype": "text/x-python",
   "name": "python",
   "nbconvert_exporter": "python",
   "pygments_lexer": "ipython3",
   "version": "3.12.4"
  }
 },
 "nbformat": 4,
 "nbformat_minor": 2
}
