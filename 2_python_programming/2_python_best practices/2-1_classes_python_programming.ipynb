{
 "cells": [
  {
   "cell_type": "code",
   "execution_count": 34,
   "metadata": {},
   "outputs": [],
   "source": [
    "# Définir une classe\n",
    "class Name_of_the_class():\n",
    "    def __init__(self, arguments_init): # special method for initializing internal attributes (optional if no internal attributes)\n",
    "        self.name_attribute1 = ...\n",
    "        self.name_attribute2 = ...\n",
    "        \n",
    "    def methode1(self, arguments_methode1): # fonctions que je vais vouloir prévoir qui s'appliqueront aux objets de la classe, self est obligatoirement le premier argument\n",
    "        instructions\n",
    "        return ... # optional, seulement si je veux que cette méthode renvoit qqch en output\n",
    "    \n",
    "    def methode2(self, arguments_methode2):\n",
    "        instructions\n",
    "        return ... # optional, seulement si je veux que cette méthode renvoit qqch en output"
   ]
  },
  {
   "cell_type": "code",
   "execution_count": 35,
   "metadata": {},
   "outputs": [
    {
     "ename": "SyntaxError",
     "evalue": "invalid syntax (2870681672.py, line 7)",
     "output_type": "error",
     "traceback": [
      "\u001b[0;36m  Cell \u001b[0;32mIn[35], line 7\u001b[0;36m\u001b[0m\n\u001b[0;31m    def __init__(self, ....)\u001b[0m\n\u001b[0m                       ^\u001b[0m\n\u001b[0;31mSyntaxError\u001b[0m\u001b[0;31m:\u001b[0m invalid syntax\n"
     ]
    }
   ],
   "source": [
    "# Ici on crée la classe rectangle qui a pour objet de permettre de dessiner un rectangle\n",
    "# on sait qu on aura un def draw qui permet de dessiner\n",
    "# on ajoute la def __init__ qui definira par exemple une longueur et une largeur spécifique\n",
    "# il faut tjs ajouter self en premier argument et les \"__\" autour de init. pas de logique particulière c comme ca qu'a été construit le code mais sans ca, ca ne fonctionne pas.\n",
    "\n",
    "class Rectangle():\n",
    "    def __init__(self, ....)\n",
    "        self.lenght = ...\n",
    "        self.width = ...\n",
    "    \n",
    "    def draw(self, ....)"
   ]
  },
  {
   "cell_type": "code",
   "execution_count": null,
   "metadata": {},
   "outputs": [],
   "source": [
    "# Déclarer la variable ou l'objet de rect1 qui est une instance de Rectangle\n",
    "rect1 = Rectangle()\n",
    "# une fois que l'instance est créée, je peux accéder aux attributs de l'instance en faisant ceci\n",
    "print(rect1.lenght)\n",
    "# si je veux utiliser la méthode de la classe rectangle\n",
    "rect1.draw()"
   ]
  },
  {
   "cell_type": "code",
   "execution_count": null,
   "metadata": {},
   "outputs": [],
   "source": [
    "# coder un logiciel pour les concessionnaires auto pour gérer l'ensemble des garages qui lui appartiennent en france\n",
    "# la première class \"Garage\" permet de définir comment les attributs et les objets se comportent et s'appliquent à l'ensemble des garages\n",
    "# on commence par déterminer le nb d envoyés par concession\n",
    "class Garage():\n",
    "    def __init__(self):\n",
    "        self.employees = 0\n",
    "\n",
    "    # définir les méthodes pour l'évolution des employés selon le recrutement, on ajoute \"number_employees\" qui est un argument et considéré comme variable dynamique\n",
    "    def recrut_employees(self, number_employees):\n",
    "        self.employees += number_employees\n",
    "\n",
    "    # définir les méthodes pour l'évolution des employés selon les licenciements\n",
    "    def dismissed_employees(self, number_employees):\n",
    "        self.employees -= number_employees\n",
    "\n",
    "    # récupérer l'information du nb actuel des employés\n",
    "    def display_information(self):\n",
    "        print(\"Employees number: \", self.employees)"
   ]
  },
  {
   "cell_type": "code",
   "execution_count": null,
   "metadata": {},
   "outputs": [],
   "source": [
    "# déclarer une instance de cette classe\n",
    "# appeler le constructeur de la classe Garage\n",
    "garage1 = Garage()\n",
    "garage1.display_information()"
   ]
  },
  {
   "cell_type": "code",
   "execution_count": null,
   "metadata": {},
   "outputs": [],
   "source": [
    "# ajoutons des employés\n",
    "garage1.recrut_employees(3)\n",
    "garage1.display_information()"
   ]
  },
  {
   "cell_type": "code",
   "execution_count": null,
   "metadata": {},
   "outputs": [],
   "source": [
    "garage1.dismissed_employees(1)\n",
    "garage1.display_information()"
   ]
  },
  {
   "cell_type": "code",
   "execution_count": null,
   "metadata": {},
   "outputs": [],
   "source": [
    "# déclarer 2 instances de class Garage, exemple avec deux concessionnaires\n",
    "garage1 = Garage()\n",
    "garage2 = Garage()\n",
    "\n",
    "print('--- Garage 1 ---')\n",
    "garage1.display_information()\n",
    "print('--- Garage 2 ---')\n",
    "garage2.display_information()"
   ]
  },
  {
   "cell_type": "code",
   "execution_count": null,
   "metadata": {},
   "outputs": [],
   "source": [
    "# on recrute 3 employés dans Garage 1 et 2 dans Garage 2\n",
    "garage1.recrut_employees(3)\n",
    "garage2.recrut_employees(2)\n",
    "\n",
    "print('--- Garage 1 ---')\n",
    "garage1.display_information()\n",
    "print('--- Garage 2 ---')\n",
    "garage2.display_information()"
   ]
  },
  {
   "cell_type": "code",
   "execution_count": null,
   "metadata": {},
   "outputs": [],
   "source": [
    "# réfléchir aux erreurs possibles: on va utiliser la méthode raise pour lever ma propre exception: pour ne pas avoir de nombre en négatif, on va s'assurer que l'argument number_employees soit = ou supérieur à dismissed_employees\n",
    "# il faut modifier la class:\n",
    "\n",
    "class Garage():\n",
    "    def __init__(self):\n",
    "        self.employees = 0\n",
    "\n",
    "    \n",
    "    def recrut_employees(self, number_employees):\n",
    "        self.employees += number_employees\n",
    "\n",
    "    # on change cette méthode\n",
    "    def dismissed_employees(self, number_employees):\n",
    "        if number_employees > self.employees:\n",
    "            raise ValueError(\"There are currently {} employees in the garage, you can't fire more\"\n",
    "                             .format(self.employees))\n",
    "        else:\n",
    "            self.employees -= number_employees\n",
    "\n",
    "    def display_information(self):\n",
    "        print(\"Employees number: \", self.employees)"
   ]
  },
  {
   "cell_type": "code",
   "execution_count": null,
   "metadata": {},
   "outputs": [],
   "source": [
    "garage_3 = Garage()\n",
    "garage_4 = Garage()\n",
    "\n",
    "print('--- Garage 3 ---')\n",
    "garage_3.display_information()\n",
    "print('--- Garage 4 ---')\n",
    "garage_4.display_information()"
   ]
  },
  {
   "cell_type": "code",
   "execution_count": null,
   "metadata": {},
   "outputs": [],
   "source": [
    "garage_3.recrut_employees(3)\n",
    "garage_4.recrut_employees(2)\n",
    "\n",
    "print('--- Garage 3 ---')\n",
    "garage_3.display_information()\n",
    "print('--- Garage 4 ---')\n",
    "garage_4.display_information()"
   ]
  },
  {
   "cell_type": "code",
   "execution_count": null,
   "metadata": {},
   "outputs": [],
   "source": [
    "garage_3.dismissed_employees(2)\n",
    "garage_4.dismissed_employees(4)\n",
    "\n",
    "print('--- Garage 3 ---')\n",
    "garage_3.display_information()\n",
    "print('--- Garage 4 ---')\n",
    "garage_4.display_information()"
   ]
  },
  {
   "cell_type": "code",
   "execution_count": 40,
   "metadata": {},
   "outputs": [],
   "source": [
    "# créer un nouvel attribut = enrichir sa class en ajoutant le nb de clients, le nb de voitures à réparées et le nb de voitures à réparer\n",
    "\n",
    "class Garage():\n",
    "    def __init__(self):\n",
    "        self.employees = 0\n",
    "        self.clients = 0\n",
    "        self.cars_to_repair = 0\n",
    "        self.cars_repaired = 0\n",
    "\n",
    "    def recrut_employees(self, number_employees):\n",
    "        self.employees += number_employees\n",
    "\n",
    "    def dismissed_employees(self, number_employees):\n",
    "        if number_employees > self.employees:\n",
    "            raise ValueError(\"There are currently {} employees in the garage, you can't fire more\"\n",
    "                             .format(self.employees))\n",
    "        else:\n",
    "            self.employees -= number_employees\n",
    "\n",
    "    def client_bring_cars(self, number_cars, new_client): # new_client est une variable boléene, qui ne peut prendre comme réponse que TRUE(1) ou FALSE(0), on l'appelle aussi indicateur\n",
    "        if new_client:\n",
    "            self.clients += 1\n",
    "        self.cars_to_repair += number_cars\n",
    "\n",
    "    def repare_cars(self, nb_cars):\n",
    "        if nb_cars > self.cars_to_repair:\n",
    "            raise ValueError(\"There are currently {} cars in the garage, you can't repare more\"\n",
    "                             .format(self.cars_to_repair))\n",
    "        else:\n",
    "            self.cars_repaired += nb_cars\n",
    "            self.cars_to_repair -= nb_cars\n",
    "\n",
    "    def display_information(self):\n",
    "        print(\"Employees number: \", self.employees)\n",
    "        print(\"Clients: \", self.clients)\n",
    "        print(\"Cars to repare: \", self.cars_to_repair)\n",
    "        print(\"Cars repaired: \", self.cars_repaired)"
   ]
  },
  {
   "cell_type": "code",
   "execution_count": 41,
   "metadata": {},
   "outputs": [],
   "source": [
    "garage1 = Garage()"
   ]
  },
  {
   "cell_type": "code",
   "execution_count": 42,
   "metadata": {},
   "outputs": [
    {
     "name": "stdout",
     "output_type": "stream",
     "text": [
      "Employees number:  3\n",
      "Clients:  2\n",
      "Cars to repare:  4\n",
      "Cars repaired:  0\n"
     ]
    }
   ],
   "source": [
    "garage1.recrut_employees(3)\n",
    "garage1.client_bring_cars(1, True)\n",
    "garage1.client_bring_cars(1, False)\n",
    "garage1.client_bring_cars(2, True)\n",
    "garage1.display_information()"
   ]
  },
  {
   "cell_type": "code",
   "execution_count": 43,
   "metadata": {},
   "outputs": [
    {
     "name": "stdout",
     "output_type": "stream",
     "text": [
      "Employees number:  3\n",
      "Clients:  2\n",
      "Cars to repare:  1\n",
      "Cars repaired:  3\n"
     ]
    }
   ],
   "source": [
    "garage1.repare_cars(3)\n",
    "garage1.display_information()"
   ]
  },
  {
   "cell_type": "code",
   "execution_count": null,
   "metadata": {},
   "outputs": [],
   "source": [
    "# étendre la classe => initialisation des attributs par défaut\n",
    "\n",
    "class Garage():\n",
    "    def __init__(self, employees = 0, clients = 0, cars_to_repair = 0, cars_repaired = 0):\n",
    "        self.employees = employees\n",
    "        self.clients = clients\n",
    "        self.cars_to_repair = cars_to_repair\n",
    "        self.cars_repaired = cars_repaired"
   ]
  }
 ],
 "metadata": {
  "kernelspec": {
   "display_name": "Python 3",
   "language": "python",
   "name": "python3"
  },
  "language_info": {
   "codemirror_mode": {
    "name": "ipython",
    "version": 3
   },
   "file_extension": ".py",
   "mimetype": "text/x-python",
   "name": "python",
   "nbconvert_exporter": "python",
   "pygments_lexer": "ipython3",
   "version": "3.12.4"
  }
 },
 "nbformat": 4,
 "nbformat_minor": 2
}
