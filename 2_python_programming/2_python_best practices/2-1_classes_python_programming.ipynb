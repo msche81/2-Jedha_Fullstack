{
 "cells": [
  {
   "cell_type": "code",
   "execution_count": 22,
   "metadata": {},
   "outputs": [],
   "source": [
    "# Définir une classe\n",
    "class Name_of_the_class():\n",
    "    def __init__(self, arguments_init): # special method for initializing internal attributes (optional if no internal attributes)\n",
    "        self.name_attribute1 = ...\n",
    "        self.name_attribute2 = ...\n",
    "        \n",
    "    def methode1(self, arguments_methode1): # fonctions que je vais vouloir prévoir qui s'appliqueront aux objets de la classe, self est obligatoirement le premier argument\n",
    "        instructions\n",
    "        return ... # optional, seulement si je veux que cette méthode renvoit qqch en output\n",
    "    \n",
    "    def methode2(self, arguments_methode2):\n",
    "        instructions\n",
    "        return ... # optional, seulement si je veux que cette méthode renvoit qqch en output"
   ]
  },
  {
   "cell_type": "code",
   "execution_count": null,
   "metadata": {},
   "outputs": [],
   "source": [
    "# Ici on crée la classe rectangle qui a pour objet de permettre de dessiner un rectangle\n",
    "# on sait qu on aura un def draw qui permet de dessiner\n",
    "# on ajoute la def __init__ qui definira par exemple une longueur et une largeur spécifique\n",
    "# il faut tjs ajouter self en premier argument et les \"__\" autour de init. pas de logique particulière c comme ca qu'a été construit le code mais sans ca, ca ne fonctionne pas.\n",
    "\n",
    "class Rectangle():\n",
    "    def __init__(self, ....)\n",
    "        self.lenght = ...\n",
    "        self.width = ...\n",
    "    \n",
    "    def draw(self, ....)"
   ]
  },
  {
   "cell_type": "code",
   "execution_count": null,
   "metadata": {},
   "outputs": [],
   "source": [
    "# Déclarer la variable ou l'objet de rect1 qui est une instance de Rectangle\n",
    "rect1 = Rectangle()\n",
    "# une fois que l'instance est créée, je peux accéder aux attributs de l'instance en faisant ceci\n",
    "print(rect1.lenght)\n",
    "# si je veux utiliser la méthode de la classe rectangle\n",
    "rect1.draw()"
   ]
  },
  {
   "cell_type": "code",
   "execution_count": 24,
   "metadata": {},
   "outputs": [],
   "source": [
    "# coder un logiciel pour les concessionnaires auto pour gérer l'ensemble des garages qui lui appartiennent en france\n",
    "# la première class \"Garage\" permet de définir comment les attributs et les objets se comportent et s'appliquent à l'ensemble des garages\n",
    "# on commence par déterminer le nb d envoyés par concession\n",
    "class Garage():\n",
    "    def __init__(self):\n",
    "        self.employees = 0\n",
    "\n",
    "    # définir les méthodes pour l'évolution des employés selon le recrutement, on ajoute \"number_employees\" qui est un argument et considéré comme variable dynamique\n",
    "    def recrut_employees(self, number_employees):\n",
    "        self.employees += number_employees\n",
    "\n",
    "    # définir les méthodes pour l'évolution des employés selon les licenciements\n",
    "    def dismissed_employees(self, number_employees):\n",
    "        self.employees -= number_employees\n",
    "\n",
    "    # récupérer l'information du nb actuel des employés\n",
    "    def display_information(self):\n",
    "        print(\"Employees number: \", self.employees)"
   ]
  },
  {
   "cell_type": "code",
   "execution_count": 25,
   "metadata": {},
   "outputs": [
    {
     "name": "stdout",
     "output_type": "stream",
     "text": [
      "Employees number:  0\n"
     ]
    }
   ],
   "source": [
    "# déclarer une instance de cette classe\n",
    "# appeler le constructeur de la classe Garage\n",
    "garage1 = Garage()\n",
    "garage1.display_information()"
   ]
  },
  {
   "cell_type": "code",
   "execution_count": 26,
   "metadata": {},
   "outputs": [
    {
     "name": "stdout",
     "output_type": "stream",
     "text": [
      "Employees number:  3\n"
     ]
    }
   ],
   "source": [
    "# ajoutons des employés\n",
    "garage1.recrut_employees(3)\n",
    "garage1.display_information()"
   ]
  },
  {
   "cell_type": "code",
   "execution_count": 27,
   "metadata": {},
   "outputs": [
    {
     "name": "stdout",
     "output_type": "stream",
     "text": [
      "Employees number:  2\n"
     ]
    }
   ],
   "source": [
    "garage1.dismissed_employees(1)\n",
    "garage1.display_information()"
   ]
  },
  {
   "cell_type": "code",
   "execution_count": 29,
   "metadata": {},
   "outputs": [
    {
     "name": "stdout",
     "output_type": "stream",
     "text": [
      "--- Garage 1 ---\n",
      "Employees number:  0\n",
      "--- Garage 2 ---\n",
      "Employees number:  0\n"
     ]
    }
   ],
   "source": [
    "# déclarer 2 instances de class Garage, exemple avec deux concessionnaires\n",
    "garage1 = Garage()\n",
    "garage2 = Garage()\n",
    "\n",
    "print('--- Garage 1 ---')\n",
    "garage1.display_information()\n",
    "print('--- Garage 2 ---')\n",
    "garage2.display_information()"
   ]
  },
  {
   "cell_type": "code",
   "execution_count": null,
   "metadata": {},
   "outputs": [],
   "source": [
    "# on recrute 3 employés dans Garage 1 et 2 dans Garage 2\n",
    "garage1.recrut_employees(3)\n",
    "garage2.recrut_employees(2)\n",
    "\n",
    "print('--- Garage 1 ---')\n",
    "garage1.display_information()\n",
    "print('--- Garage 2 ---')\n",
    "garage2.display_information()"
   ]
  }
 ],
 "metadata": {
  "kernelspec": {
   "display_name": "Python 3",
   "language": "python",
   "name": "python3"
  },
  "language_info": {
   "codemirror_mode": {
    "name": "ipython",
    "version": 3
   },
   "file_extension": ".py",
   "mimetype": "text/x-python",
   "name": "python",
   "nbconvert_exporter": "python",
   "pygments_lexer": "ipython3",
   "version": "3.12.4"
  }
 },
 "nbformat": 4,
 "nbformat_minor": 2
}
