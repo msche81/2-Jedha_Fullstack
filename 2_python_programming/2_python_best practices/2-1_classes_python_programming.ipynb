{
 "cells": [
  {
   "cell_type": "code",
   "execution_count": 1,
   "metadata": {},
   "outputs": [],
   "source": [
    "# Définir une classe\n",
    "class Name_of_the_class():\n",
    "    def __init__(self, arguments_init): # special method for initializing internal attributes (optional if no internal attributes)\n",
    "        self.name_attribute1 = ...\n",
    "        self.name_attribute2 = ...\n",
    "        \n",
    "    def methode1(self, arguments_methode1): # fonctions que je vais vouloir prévoir qui s'appliqueront aux objets de la classe, self est obligatoirement le premier argument\n",
    "        instructions\n",
    "        return ... # optional, seulement si je veux que cette méthode renvoit qqch en output\n",
    "    \n",
    "    def methode2(self, arguments_methode2):\n",
    "        instructions\n",
    "        return ... # optional, seulement si je veux que cette méthode renvoit qqch en output"
   ]
  },
  {
   "cell_type": "code",
   "execution_count": null,
   "metadata": {},
   "outputs": [],
   "source": [
    "# Ici on crée la classe rectangle qui a pour objet de permettre de dessiner un rectangle\n",
    "# on sait qu on aura un def draw qui permet de dessiner\n",
    "# on ajoute la def __init__ qui definira par exemple un longueur et une largeur spécifique\n",
    "# il faut tjs ajouter self en premier argument et les \"__\" autour de init. pas de logique particulière c comme ca qu'a été construit le code mais sans ca, ca ne fonctionne pas.\n",
    "\n",
    "class Rectangle():\n",
    "    def __init__(self, ....)\n",
    "        self.lenght = ...\n",
    "        self.width = ...\n",
    "    \n",
    "    def draw(self, ....)"
   ]
  },
  {
   "cell_type": "code",
   "execution_count": null,
   "metadata": {},
   "outputs": [],
   "source": []
  }
 ],
 "metadata": {
  "kernelspec": {
   "display_name": "Python 3",
   "language": "python",
   "name": "python3"
  },
  "language_info": {
   "codemirror_mode": {
    "name": "ipython",
    "version": 3
   },
   "file_extension": ".py",
   "mimetype": "text/x-python",
   "name": "python",
   "nbconvert_exporter": "python",
   "pygments_lexer": "ipython3",
   "version": "3.12.4"
  }
 },
 "nbformat": 4,
 "nbformat_minor": 2
}
