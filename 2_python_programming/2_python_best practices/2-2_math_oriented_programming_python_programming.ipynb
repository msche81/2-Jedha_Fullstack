{
 "cells": [
  {
   "cell_type": "code",
   "execution_count": 22,
   "metadata": {},
   "outputs": [],
   "source": [
    "# Définir une classe\n",
    "class Name_of_the_class():\n",
    "    def __init__(self, arguments_init): # special method for initializing internal attributes (optional if no internal attributes)\n",
    "        self.name_attribute1 = ...\n",
    "        self.name_attribute2 = ...\n",
    "        \n",
    "    def methode1(self, arguments_methode1): # fonctions que je vais vouloir prévoir qui s'appliqueront aux objets de la classe, self est obligatoirement le premier argument\n",
    "        instructions\n",
    "        return ... # optional, seulement si je veux que cette méthode renvoit qqch en output\n",
    "    \n",
    "    def methode2(self, arguments_methode2):\n",
    "        instructions\n",
    "        return ... # optional, seulement si je veux que cette méthode renvoit qqch en output"
   ]
  },
  {
   "cell_type": "code",
   "execution_count": null,
   "metadata": {},
   "outputs": [],
   "source": [
    "# Ici on crée la classe rectangle qui a pour objet de permettre de dessiner un rectangle\n",
    "# on sait qu on aura un def draw qui permet de dessiner\n",
    "# on ajoute la def __init__ qui definira par exemple une longueur et une largeur spécifique\n",
    "# il faut tjs ajouter self en premier argument et les \"__\" autour de init. pas de logique particulière c comme ca qu'a été construit le code mais sans ca, ca ne fonctionne pas.\n",
    "\n",
    "class Rectangle():\n",
    "    def __init__(self, ....)\n",
    "        self.lenght = ...\n",
    "        self.width = ...\n",
    "    \n",
    "    def draw(self, ....)"
   ]
  },
  {
   "cell_type": "code",
   "execution_count": null,
   "metadata": {},
   "outputs": [],
   "source": [
    "# Déclarer la variable ou l'objet de rect1 qui est une instance de Rectangle\n",
    "rect1 = Rectangle()\n",
    "# une fois que l'instance est créée, je peux accéder aux attributs de l'instance en faisant ceci\n",
    "print(rect1.lenght)\n",
    "# si je veux utiliser la méthode de la classe rectangle\n",
    "rect1.draw()"
   ]
  },
  {
   "cell_type": "code",
   "execution_count": 24,
   "metadata": {},
   "outputs": [],
   "source": [
    "# coder un logiciel pour les concessionnaires auto pour gérer l'ensemble des garages qui lui appartiennent en france\n",
    "# la première class \"Garage\" permet de définir comment les attributs et les objets se comportent et s'appliquent à l'ensemble des garages\n",
    "# on commence par déterminer le nb d envoyés par concession\n",
    "class Garage():\n",
    "    def __init__(self):\n",
    "        self.employees = 0\n",
    "\n",
    "    # définir les méthodes pour l'évolution des employés selon le recrutement, on ajoute \"number_employees\" qui est un argument et considéré comme variable dynamique\n",
    "    def recrut_employees(self, number_employees):\n",
    "        self.employees += number_employees\n",
    "\n",
    "    # définir les méthodes pour l'évolution des employés selon les licenciements\n",
    "    def dismissed_employees(self, number_employees):\n",
    "        self.employees -= number_employees\n",
    "\n",
    "    # récupérer l'information du nb actuel des employés\n",
    "    def display_information(self):\n",
    "        print(\"Employees number: \", self.employees)"
   ]
  },
  {
   "cell_type": "code",
   "execution_count": 25,
   "metadata": {},
   "outputs": [
    {
     "name": "stdout",
     "output_type": "stream",
     "text": [
      "Employees number:  0\n"
     ]
    }
   ],
   "source": [
    "# déclarer une instance de cette classe\n",
    "# appeler le constructeur de la classe Garage\n",
    "garage1 = Garage()\n",
    "garage1.display_information()"
   ]
  },
  {
   "cell_type": "code",
   "execution_count": 26,
   "metadata": {},
   "outputs": [
    {
     "name": "stdout",
     "output_type": "stream",
     "text": [
      "Employees number:  3\n"
     ]
    }
   ],
   "source": [
    "# ajoutons des employés\n",
    "garage1.recrut_employees(3)\n",
    "garage1.display_information()"
   ]
  },
  {
   "cell_type": "code",
   "execution_count": 27,
   "metadata": {},
   "outputs": [
    {
     "name": "stdout",
     "output_type": "stream",
     "text": [
      "Employees number:  2\n"
     ]
    }
   ],
   "source": [
    "garage1.dismissed_employees(1)\n",
    "garage1.display_information()"
   ]
  },
  {
   "cell_type": "code",
   "execution_count": 29,
   "metadata": {},
   "outputs": [
    {
     "name": "stdout",
     "output_type": "stream",
     "text": [
      "--- Garage 1 ---\n",
      "Employees number:  0\n",
      "--- Garage 2 ---\n",
      "Employees number:  0\n"
     ]
    }
   ],
   "source": [
    "# déclarer 2 instances de class Garage, exemple avec deux concessionnaires\n",
    "garage1 = Garage()\n",
    "garage2 = Garage()\n",
    "\n",
    "print('--- Garage 1 ---')\n",
    "garage1.display_information()\n",
    "print('--- Garage 2 ---')\n",
    "garage2.display_information()"
   ]
  },
  {
   "cell_type": "code",
   "execution_count": 30,
   "metadata": {},
   "outputs": [
    {
     "name": "stdout",
     "output_type": "stream",
     "text": [
      "--- Garage 1 ---\n",
      "Employees number:  3\n",
      "--- Garage 2 ---\n",
      "Employees number:  2\n"
     ]
    }
   ],
   "source": [
    "# on recrute 3 employés dans Garage 1 et 2 dans Garage 2\n",
    "garage1.recrut_employees(3)\n",
    "garage2.recrut_employees(2)\n",
    "\n",
    "print('--- Garage 1 ---')\n",
    "garage1.display_information()\n",
    "print('--- Garage 2 ---')\n",
    "garage2.display_information()"
   ]
  },
  {
   "cell_type": "code",
   "execution_count": 37,
   "metadata": {},
   "outputs": [],
   "source": [
    "# réfléchir aux erreurs possibles: on va utiliser la méthode raise pour lever ma propre exception: pour ne pas avoir de nombre en négatif, on va s'assurer que l'argument number_employees soit = ou supérieur à dismissed_employees\n",
    "# il faut modifier la class:\n",
    "\n",
    "class Garage():\n",
    "    def __init__(self):\n",
    "        self.employees = 0\n",
    "\n",
    "    \n",
    "    def recrut_employees(self, number_employees):\n",
    "        self.employees += number_employees\n",
    "\n",
    "    # on change cette méthode\n",
    "    def dismissed_employees(self, number_employees):\n",
    "        if number_employees > self.employees:\n",
    "            raise ValueError(\"There are currently {} employees in the garage, you can't fire more\"\n",
    "                             .format(self.employees))\n",
    "        else:\n",
    "            self.employees -= number_employees\n",
    "\n",
    "    def display_information(self):\n",
    "        print(\"Employees number: \", self.employees)"
   ]
  },
  {
   "cell_type": "code",
   "execution_count": 38,
   "metadata": {},
   "outputs": [
    {
     "name": "stdout",
     "output_type": "stream",
     "text": [
      "--- Garage 3 ---\n",
      "Employees number:  0\n",
      "--- Garage 4 ---\n",
      "Employees number:  0\n"
     ]
    }
   ],
   "source": [
    "garage_3 = Garage()\n",
    "garage_4 = Garage()\n",
    "\n",
    "print('--- Garage 3 ---')\n",
    "garage_3.display_information()\n",
    "print('--- Garage 4 ---')\n",
    "garage_4.display_information()"
   ]
  },
  {
   "cell_type": "code",
   "execution_count": 39,
   "metadata": {},
   "outputs": [
    {
     "name": "stdout",
     "output_type": "stream",
     "text": [
      "--- Garage 3 ---\n",
      "Employees number:  3\n",
      "--- Garage 4 ---\n",
      "Employees number:  2\n"
     ]
    }
   ],
   "source": [
    "garage_3.recrut_employees(3)\n",
    "garage_4.recrut_employees(2)\n",
    "\n",
    "print('--- Garage 3 ---')\n",
    "garage_3.display_information()\n",
    "print('--- Garage 4 ---')\n",
    "garage_4.display_information()"
   ]
  },
  {
   "cell_type": "code",
   "execution_count": 36,
   "metadata": {},
   "outputs": [
    {
     "ename": "ValueError",
     "evalue": "There are currently 2 employees in the garage, you can't fire more",
     "output_type": "error",
     "traceback": [
      "\u001b[0;31m---------------------------------------------------------------------------\u001b[0m",
      "\u001b[0;31mValueError\u001b[0m                                Traceback (most recent call last)",
      "Cell \u001b[0;32mIn[36], line 2\u001b[0m\n\u001b[1;32m      1\u001b[0m garage_3\u001b[38;5;241m.\u001b[39mdismissed_employees(\u001b[38;5;241m2\u001b[39m)\n\u001b[0;32m----> 2\u001b[0m \u001b[43mgarage_4\u001b[49m\u001b[38;5;241;43m.\u001b[39;49m\u001b[43mdismissed_employees\u001b[49m\u001b[43m(\u001b[49m\u001b[38;5;241;43m4\u001b[39;49m\u001b[43m)\u001b[49m\n\u001b[1;32m      4\u001b[0m \u001b[38;5;28mprint\u001b[39m(\u001b[38;5;124m'\u001b[39m\u001b[38;5;124m--- Garage 3 ---\u001b[39m\u001b[38;5;124m'\u001b[39m)\n\u001b[1;32m      5\u001b[0m garage_3\u001b[38;5;241m.\u001b[39mdisplay_information()\n",
      "Cell \u001b[0;32mIn[32], line 15\u001b[0m, in \u001b[0;36mGarage.dismissed_employees\u001b[0;34m(self, number_employees)\u001b[0m\n\u001b[1;32m     13\u001b[0m \u001b[38;5;28;01mdef\u001b[39;00m \u001b[38;5;21mdismissed_employees\u001b[39m(\u001b[38;5;28mself\u001b[39m, number_employees):\n\u001b[1;32m     14\u001b[0m     \u001b[38;5;28;01mif\u001b[39;00m number_employees \u001b[38;5;241m>\u001b[39m \u001b[38;5;28mself\u001b[39m\u001b[38;5;241m.\u001b[39memployees:\n\u001b[0;32m---> 15\u001b[0m         \u001b[38;5;28;01mraise\u001b[39;00m \u001b[38;5;167;01mValueError\u001b[39;00m(\u001b[38;5;124m\"\u001b[39m\u001b[38;5;124mThere are currently \u001b[39m\u001b[38;5;132;01m{}\u001b[39;00m\u001b[38;5;124m employees in the garage, you can\u001b[39m\u001b[38;5;124m'\u001b[39m\u001b[38;5;124mt fire more\u001b[39m\u001b[38;5;124m\"\u001b[39m\n\u001b[1;32m     16\u001b[0m                          \u001b[38;5;241m.\u001b[39mformat(\u001b[38;5;28mself\u001b[39m\u001b[38;5;241m.\u001b[39memployees, number_employees))\n\u001b[1;32m     17\u001b[0m     \u001b[38;5;28;01melse\u001b[39;00m:\n\u001b[1;32m     18\u001b[0m         \u001b[38;5;28mself\u001b[39m\u001b[38;5;241m.\u001b[39memployees \u001b[38;5;241m-\u001b[39m\u001b[38;5;241m=\u001b[39m number_employees\n",
      "\u001b[0;31mValueError\u001b[0m: There are currently 2 employees in the garage, you can't fire more"
     ]
    }
   ],
   "source": [
    "garage_3.dismissed_employees(2)\n",
    "garage_4.dismissed_employees(4)\n",
    "\n",
    "print('--- Garage 3 ---')\n",
    "garage_3.display_information()\n",
    "print('--- Garage 4 ---')\n",
    "garage_4.display_information()"
   ]
  },
  {
   "cell_type": "code",
   "execution_count": null,
   "metadata": {},
   "outputs": [],
   "source": []
  }
 ],
 "metadata": {
  "kernelspec": {
   "display_name": "Python 3",
   "language": "python",
   "name": "python3"
  },
  "language_info": {
   "codemirror_mode": {
    "name": "ipython",
    "version": 3
   },
   "file_extension": ".py",
   "mimetype": "text/x-python",
   "name": "python",
   "nbconvert_exporter": "python",
   "pygments_lexer": "ipython3",
   "version": "3.12.4"
  }
 },
 "nbformat": 4,
 "nbformat_minor": 2
}
