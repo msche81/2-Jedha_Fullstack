{
 "cells": [
  {
   "cell_type": "code",
   "execution_count": null,
   "metadata": {},
   "outputs": [],
   "source": [
    "# Mathematics, in general, we don't like to do it. Especially when it involves repeating operations, over and over again. Let's be real lazy and create a class that will do the operations we want for us.\n",
    "\n",
    "# Create a class to be called \"math.\"\n",
    "# This class will have no internal attributes, so you don't need to define an init() _\n",
    "# Create a method that will compute the square root of any number.\n",
    "# Create a method that will calculate the average of any list of numbers.\n",
    "# Create a method to find out if a number is even or odd.\n",
    "# Finally, create a method that will give the total sum of a list of numbers."
   ]
  },
  {
   "cell_type": "code",
   "execution_count": 8,
   "metadata": {},
   "outputs": [],
   "source": [
    "class Math():\n",
    "    \n",
    "    def square_root(self, number):\n",
    "        self.number = number ** 2\n",
    "\n",
    "    def list_average(self, list):\n",
    "        self.list = list.mean()\n",
    "\n",
    "    def even_or_odd(self, num):\n",
    "        if (num % 2) == 0:\n",
    "            print(\"{0} is Even\".format(num))\n",
    "        else:\n",
    "            print(\"{0} is Odd\".format(num))\n",
    "    \n",
    "    def total_sum(self):\n",
    "        sum = number.sum()\n",
    "\n",
    "    def display_information(self):\n",
    "        print(\"The square root of {} is : \", self.number)\n",
    "        print(\"The average of {} is : \", self.list)\n",
    "        print(\"{} is : \", self.even_or_odd)\n",
    "        print(\"The sum of {} is : \", self.total_sum)"
   ]
  },
  {
   "cell_type": "code",
   "execution_count": 9,
   "metadata": {},
   "outputs": [],
   "source": [
    "math1 = Math()"
   ]
  },
  {
   "cell_type": "code",
   "execution_count": 10,
   "metadata": {},
   "outputs": [
    {
     "name": "stdout",
     "output_type": "stream",
     "text": [
      "11 is Odd\n",
      "The square root of {} is :  9\n"
     ]
    },
    {
     "ename": "AttributeError",
     "evalue": "'Math' object has no attribute 'list'",
     "output_type": "error",
     "traceback": [
      "\u001b[0;31m---------------------------------------------------------------------------\u001b[0m",
      "\u001b[0;31mAttributeError\u001b[0m                            Traceback (most recent call last)",
      "Cell \u001b[0;32mIn[10], line 3\u001b[0m\n\u001b[1;32m      1\u001b[0m math1\u001b[38;5;241m.\u001b[39msquare_root(\u001b[38;5;241m3\u001b[39m)\n\u001b[1;32m      2\u001b[0m math1\u001b[38;5;241m.\u001b[39meven_or_odd(\u001b[38;5;241m11\u001b[39m)\n\u001b[0;32m----> 3\u001b[0m \u001b[43mmath1\u001b[49m\u001b[38;5;241;43m.\u001b[39;49m\u001b[43mdisplay_information\u001b[49m\u001b[43m(\u001b[49m\u001b[43m)\u001b[49m\n",
      "Cell \u001b[0;32mIn[8], line 20\u001b[0m, in \u001b[0;36mMath.display_information\u001b[0;34m(self)\u001b[0m\n\u001b[1;32m     18\u001b[0m \u001b[38;5;28;01mdef\u001b[39;00m \u001b[38;5;21mdisplay_information\u001b[39m(\u001b[38;5;28mself\u001b[39m):\n\u001b[1;32m     19\u001b[0m     \u001b[38;5;28mprint\u001b[39m(\u001b[38;5;124m\"\u001b[39m\u001b[38;5;124mThe square root of \u001b[39m\u001b[38;5;132;01m{}\u001b[39;00m\u001b[38;5;124m is : \u001b[39m\u001b[38;5;124m\"\u001b[39m, \u001b[38;5;28mself\u001b[39m\u001b[38;5;241m.\u001b[39mnumber)\n\u001b[0;32m---> 20\u001b[0m     \u001b[38;5;28mprint\u001b[39m(\u001b[38;5;124m\"\u001b[39m\u001b[38;5;124mThe average of \u001b[39m\u001b[38;5;132;01m{}\u001b[39;00m\u001b[38;5;124m is : \u001b[39m\u001b[38;5;124m\"\u001b[39m, \u001b[38;5;28;43mself\u001b[39;49m\u001b[38;5;241;43m.\u001b[39;49m\u001b[43mlist\u001b[49m)\n\u001b[1;32m     21\u001b[0m     \u001b[38;5;28mprint\u001b[39m(\u001b[38;5;124m\"\u001b[39m\u001b[38;5;132;01m{}\u001b[39;00m\u001b[38;5;124m is : \u001b[39m\u001b[38;5;124m\"\u001b[39m, \u001b[38;5;28mself\u001b[39m\u001b[38;5;241m.\u001b[39meven_or_odd)\n\u001b[1;32m     22\u001b[0m     \u001b[38;5;28mprint\u001b[39m(\u001b[38;5;124m\"\u001b[39m\u001b[38;5;124mThe sum of \u001b[39m\u001b[38;5;132;01m{}\u001b[39;00m\u001b[38;5;124m is : \u001b[39m\u001b[38;5;124m\"\u001b[39m, \u001b[38;5;28mself\u001b[39m\u001b[38;5;241m.\u001b[39mtotal_sum)\n",
      "\u001b[0;31mAttributeError\u001b[0m: 'Math' object has no attribute 'list'"
     ]
    }
   ],
   "source": [
    "math1.square_root(3)\n",
    "math1.even_or_odd(11)\n",
    "math1.display_information()"
   ]
  },
  {
   "cell_type": "code",
   "execution_count": 11,
   "metadata": {},
   "outputs": [
    {
     "name": "stdout",
     "output_type": "stream",
     "text": [
      "The square root of 9 is 3.0\n",
      "\n",
      "The average of 10, 30, 20 and 10 is 17.5\n",
      "\n",
      "4 is even\n",
      "\n",
      "11 is odd\n",
      "\n",
      "The sum of 10, 30, 10, 40 and 20 is 110\n"
     ]
    }
   ],
   "source": [
    "# correction\n",
    "\n",
    "class Math:\n",
    "    def sqrt(self,number):\n",
    "        number = number ** (1/2) # ** means square\n",
    "        return number\n",
    "\n",
    "    def average(self, numbers): # will be a list of numbers\n",
    "        res = 0\n",
    "        nb_of_numbers = 0\n",
    "        for number in numbers:\n",
    "            res += number # addition all list numbers\n",
    "            nb_of_numbers += 1 # count the list len\n",
    "\n",
    "        average = res/nb_of_numbers # addition / number of element in the list\n",
    "        return average\n",
    "\n",
    "    def parity(self,number):\n",
    "        if (number % 2) == 0: # modulo\n",
    "            print(\"{} is even\".format(number))\n",
    "        else:\n",
    "            print(\"{} is odd\".format(number))\n",
    "\n",
    "    def compute_sum(self, numbers): # will be a list of numbers\n",
    "        result = 0\n",
    "        for number in numbers:\n",
    "            result += number\n",
    "        return result\n",
    "\n",
    "\n",
    "math = Math() # instance the class to use insides function\n",
    "print(\"The square root of 9 is {}\".format(math.sqrt(9)))\n",
    "print()\n",
    "print(\"The average of 10, 30, 20 and 10 is {}\".format(math.average([10,30,20,10])))\n",
    "print()\n",
    "math.parity(4)\n",
    "print()\n",
    "math.parity(11)\n",
    "print()\n",
    "print(\"The sum of 10, 30, 10, 40 and 20 is {}\".format(math.compute_sum([10,30,10,40,20])))"
   ]
  },
  {
   "cell_type": "code",
   "execution_count": null,
   "metadata": {},
   "outputs": [],
   "source": []
  }
 ],
 "metadata": {
  "kernelspec": {
   "display_name": "Python 3",
   "language": "python",
   "name": "python3"
  },
  "language_info": {
   "codemirror_mode": {
    "name": "ipython",
    "version": 3
   },
   "file_extension": ".py",
   "mimetype": "text/x-python",
   "name": "python",
   "nbconvert_exporter": "python",
   "pygments_lexer": "ipython3",
   "version": "3.12.4"
  }
 },
 "nbformat": 4,
 "nbformat_minor": 2
}
