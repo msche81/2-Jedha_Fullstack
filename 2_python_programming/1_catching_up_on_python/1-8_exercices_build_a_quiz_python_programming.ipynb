{
 "cells": [
  {
   "cell_type": "markdown",
   "metadata": {},
   "source": [
    "Let's tackle our first project together. Find a partner and start coding a quiz together! Your program should:\n",
    "\n",
    "Ask a question to a user via the console\n",
    "Verify whether the answer is correct or not\n",
    "If the answer is correct, you should print out: Good job! This is the right answer\n",
    "Else, it should print out : Too bad! that is not the correct answer\n",
    "Ask three questions following this model."
   ]
  },
  {
   "cell_type": "code",
   "execution_count": 12,
   "metadata": {},
   "outputs": [
    {
     "name": "stdout",
     "output_type": "stream",
     "text": [
      "Your answer : Elon Musk\n",
      "Good job! This is the right answer.\n",
      "Your answer : Steve Jobby\n",
      "Too bad! This is not the correct answer.\n",
      "Your answer : Bill Gates\n",
      "Good job! This is the right answer.\n"
     ]
    }
   ],
   "source": [
    "# tentative 1 basée sur la solution jedha de l'exercice précédent\n",
    "def quiz():\n",
    "    try:\n",
    "        question_1 = str(input(\"Which tech mogul, known for his work in aerospace and electric vehicles, has faced criticism for transphobic comments despite having a transgender daughter?\\n\"))\n",
    "        print('Your answer : {}'.format(question_1))\n",
    "        if question_1 == \"Elon Musk\":\n",
    "            print(\"Good job! This is the right answer.\")\n",
    "        else:\n",
    "            print(\"Too bad! This is not the correct answer.\")\n",
    "        \n",
    "        question_2 = str(input(\"Which tech visionary, known for co-founding Apple and revolutionizing the personal computer industry, has been criticized for his harsh management style and controversial workplace practices?\\n\"))\n",
    "        print('Your answer : {}'.format(question_2))\n",
    "        if question_2 == \"Steve Jobs\":\n",
    "            print(\"Good job! This is the right answer.\")\n",
    "        else:\n",
    "            print(\"Too bad! This is not the correct answer.\")\n",
    "        \n",
    "        question_3 = str(input(\"Which software pioneer, co-founder of Microsoft and a major philanthropist, has faced scrutiny over his business tactics and monopolistic practices during the growth of his company?\\n\"))\n",
    "        print('Your answer : {}'.format(question_3))\n",
    "        if question_3 == \"Bill Gates\":\n",
    "            print(\"Good job! This is the right answer.\")\n",
    "        else:\n",
    "            print(\"Too bad! This is not the correct answer.\")\n",
    "            \n",
    "    except ValueError:\n",
    "        raise ValueError(\"Please enter only string data!\")\n",
    "\n",
    "quiz()"
   ]
  },
  {
   "cell_type": "code",
   "execution_count": 13,
   "metadata": {},
   "outputs": [
    {
     "name": "stdout",
     "output_type": "stream",
     "text": [
      "Good job! This is the right answer.\n",
      "Too bad! This is not the correct answer.\n",
      "Good job! This is the right answer.\n"
     ]
    }
   ],
   "source": [
    "# solution de Chatgpt pour éviter la répétition\n",
    "def ask_question(prompt, correct_answer):\n",
    "    user_answer = input(prompt + \"\\n\")\n",
    "    if user_answer == correct_answer:\n",
    "        print(\"Good job! This is the right answer.\")\n",
    "    else:\n",
    "        print(\"Too bad! This is not the correct answer.\")\n",
    "\n",
    "def quiz():\n",
    "    try:\n",
    "        ask_question(\n",
    "            \"Which tech mogul, known for his work in aerospace and electric vehicles, has faced criticism for transphobic comments despite having a transgender daughter?\",\n",
    "            \"Elon Musk\"\n",
    "        )\n",
    "        ask_question(\n",
    "            \"Which tech visionary, known for co-founding Apple and revolutionizing the personal computer industry, has been criticized for his harsh management style and controversial workplace practices?\",\n",
    "            \"Steve Jobs\"\n",
    "        )\n",
    "        ask_question(\n",
    "            \"Which software pioneer, co-founder of Microsoft and a major philanthropist, has faced scrutiny over his business tactics and monopolistic practices during the growth of his company?\",\n",
    "            \"Bill Gates\"\n",
    "        )\n",
    "    except ValueError:\n",
    "        raise ValueError(\"Please enter only string data!\")\n",
    "\n",
    "quiz()"
   ]
  },
  {
   "cell_type": "code",
   "execution_count": 14,
   "metadata": {},
   "outputs": [
    {
     "name": "stdout",
     "output_type": "stream",
     "text": [
      "Your answer: Elon Musk\n",
      "Good job! This is the right answer.\n",
      "Your answer: Steve Jobby\n",
      "Too bad! This is not the correct answer.\n",
      "Your answer: Bill Gates\n",
      "Good job! This is the right answer.\n"
     ]
    }
   ],
   "source": [
    "# en lui demandant d'ajouter les print des inputs\n",
    "def ask_question(prompt, correct_answer):\n",
    "    user_answer = input(prompt + \"\\n\")\n",
    "    print(f\"Your answer: {user_answer}\")\n",
    "    if user_answer == correct_answer:\n",
    "        print(\"Good job! This is the right answer.\")\n",
    "    else:\n",
    "        print(\"Too bad! This is not the correct answer.\")\n",
    "\n",
    "def quiz():\n",
    "    try:\n",
    "        ask_question(\n",
    "            \"Which tech mogul, known for his work in aerospace and electric vehicles, has faced criticism for transphobic comments despite having a transgender daughter?\",\n",
    "            \"Elon Musk\"\n",
    "        )\n",
    "        ask_question(\n",
    "            \"Which tech visionary, known for co-founding Apple and revolutionizing the personal computer industry, has been criticized for his harsh management style and controversial workplace practices?\",\n",
    "            \"Steve Jobs\"\n",
    "        )\n",
    "        ask_question(\n",
    "            \"Which software pioneer, co-founder of Microsoft and a major philanthropist, has faced scrutiny over his business tactics and monopolistic practices during the growth of his company?\",\n",
    "            \"Bill Gates\"\n",
    "        )\n",
    "    except ValueError:\n",
    "        raise ValueError(\"Please enter only string data!\")\n",
    "\n",
    "quiz()\n"
   ]
  },
  {
   "cell_type": "markdown",
   "metadata": {},
   "source": [
    "There's a problem with our quizz : if the user has not given the right answer, the program goes to next question. We would rather like to ask again the same question if the answer was wrong.\n",
    "\n",
    "Using a while loop, make sure that the same question will be asked again when the answer was wrong\n",
    "\n",
    "Rewrite your code such that this behaviour is applied to all questions."
   ]
  },
  {
   "cell_type": "code",
   "execution_count": 7,
   "metadata": {},
   "outputs": [
    {
     "name": "stdout",
     "output_type": "stream",
     "text": [
      "Which tech mogul, known for his work in aerospace and electric vehicles, has faced criticism for transphobic comments despite having a transgender daughter?\n",
      "Your answer: Elon Musk\n",
      "Good job! This is the right answer.\n",
      "\n",
      "Which tech visionary, known for co-founding Apple and revolutionizing the personal computer industry, has been criticized for his harsh management style and controversial workplace practices?\n",
      "Your answer: 123\n",
      "Please enter only string data!\n",
      "Your answer: Elon Musk\n",
      "Too bad! This is not the correct answer, try again.\n",
      "Your answer: Steve Jobs\n",
      "Good job! This is the right answer.\n",
      "\n",
      "Which software pioneer, co-founder of Microsoft and a major philanthropist, has faced scrutiny over his business tactics and monopolistic practices during the growth of his company?\n",
      "Your answer: Bill Gates\n",
      "Good job! This is the right answer.\n",
      "\n",
      "Well done! You are the quiz winner!\n"
     ]
    }
   ],
   "source": [
    "def ask_question(prompt, correct_answer):\n",
    "    print(prompt)\n",
    "    while True:\n",
    "        user_answer = input(prompt + \"\\n\")\n",
    "        \n",
    "        # Vérification si la réponse est bien une chaîne de caractères alphabétiques (lettres et espaces)\n",
    "        if not user_answer.replace(\" \", \"\").isalpha():\n",
    "            print(f\"Your answer: {user_answer}\")\n",
    "            print(\"Please enter only string data!\")\n",
    "            continue\n",
    "        \n",
    "        print(f\"Your answer: {user_answer}\")\n",
    "        \n",
    "        if user_answer == correct_answer:\n",
    "            print(\"Good job! This is the right answer.\\n\")\n",
    "            break\n",
    "        else:\n",
    "            print(\"Too bad! This is not the correct answer, try again.\")\n",
    "\n",
    "def quiz():\n",
    "    try:\n",
    "        ask_question(\n",
    "            \"Which tech mogul, known for his work in aerospace and electric vehicles, has faced criticism for transphobic comments despite having a transgender daughter?\",\n",
    "            \"Elon Musk\"\n",
    "        )\n",
    "        ask_question(\n",
    "            \"Which tech visionary, known for co-founding Apple and revolutionizing the personal computer industry, has been criticized for his harsh management style and controversial workplace practices?\",\n",
    "            \"Steve Jobs\"\n",
    "        )\n",
    "        ask_question(\n",
    "            \"Which software pioneer, co-founder of Microsoft and a major philanthropist, has faced scrutiny over his business tactics and monopolistic practices during the growth of his company?\",\n",
    "            \"Bill Gates\"\n",
    "        )\n",
    "        print(\"Well done! You are the quiz winner!\")\n",
    "    except ValueError:\n",
    "        print(\"Please enter only string data!\")\n",
    "\n",
    "quiz()"
   ]
  },
  {
   "cell_type": "markdown",
   "metadata": {},
   "source": [
    "Now, we would like to tackle a last problem : we want to allow only 3 wrong answers (among all questions).\n",
    "\n",
    "Improve your code : if the user makes 3 wrong answers, the program should stop and print (\"Too bad, you lost the game !\")"
   ]
  },
  {
   "cell_type": "code",
   "execution_count": 13,
   "metadata": {},
   "outputs": [
    {
     "name": "stdout",
     "output_type": "stream",
     "text": [
      "Which tech mogul, known for his work in aerospace and electric vehicles, has faced criticism for transphobic comments despite having a transgender daughter?\n",
      "Your answer: Elon Musk\n",
      "Good job! This is the right answer.\n",
      "\n",
      "Which tech visionary, known for co-founding Apple and revolutionizing the personal computer industry, has been criticized for his harsh management style and controversial workplace practices?\n",
      "Your answer: 123\n",
      "Please enter only string data!\n",
      "Your answer: Elon Musk\n",
      "Too bad! This is not the correct answer, 2 attempts left.\n",
      "Your answer: Pipi Langstrumpf\n",
      "Too bad! This is not the correct answer, 1 attempt left.\n",
      "Your answer: Je ne veux pas gagner\n",
      "Too bad! This is not the correct answer.\n",
      "\n",
      "You lost the game!\n"
     ]
    }
   ],
   "source": [
    "def ask_question(prompt, correct_answer, incorrect_count):\n",
    "    print(prompt)\n",
    "    while incorrect_count < 3:\n",
    "        user_answer = input(prompt + \"\\n\")\n",
    "        \n",
    "        # Vérification si la réponse est bien une chaîne de caractères alphabétiques (lettres et espaces)\n",
    "        if not user_answer.replace(\" \", \"\").isalpha():\n",
    "            print(f\"Your answer: {user_answer}\")\n",
    "            print(\"Please enter only string data!\")\n",
    "            continue\n",
    "        \n",
    "        print(f\"Your answer: {user_answer}\")\n",
    "        \n",
    "        if user_answer == correct_answer:\n",
    "            print(\"Good job! This is the right answer.\\n\")\n",
    "            return incorrect_count\n",
    "        else:\n",
    "            incorrect_count += 1\n",
    "            if incorrect_count == 1:\n",
    "                print(\"Too bad! This is not the correct answer, 2 attempts left.\")\n",
    "            elif incorrect_count == 2:\n",
    "                print(\"Too bad! This is not the correct answer, 1 attempt left.\")\n",
    "            elif incorrect_count >= 3:\n",
    "                print(\"Too bad! This is not the correct answer.\\n\")\n",
    "                print(\"You lost the game!\")\n",
    "                break\n",
    "    return incorrect_count\n",
    "\n",
    "def quiz():\n",
    "    incorrect_count = 0\n",
    "    \n",
    "    try:\n",
    "        incorrect_count = ask_question(\n",
    "            \"Which tech mogul, known for his work in aerospace and electric vehicles, has faced criticism for transphobic comments despite having a transgender daughter?\",\n",
    "            \"Elon Musk\",\n",
    "            incorrect_count\n",
    "        )\n",
    "        if incorrect_count >= 3:\n",
    "            return\n",
    "\n",
    "        incorrect_count = ask_question(\n",
    "            \"Which tech visionary, known for co-founding Apple and revolutionizing the personal computer industry, has been criticized for his harsh management style and controversial workplace practices?\",\n",
    "            \"Steve Jobs\",\n",
    "            incorrect_count\n",
    "        )\n",
    "        if incorrect_count >= 3:\n",
    "            return\n",
    "\n",
    "        incorrect_count = ask_question(\n",
    "            \"Which software pioneer, co-founder of Microsoft and a major philanthropist, has faced scrutiny over his business tactics and monopolistic practices during the growth of his company?\",\n",
    "            \"Bill Gates\",\n",
    "            incorrect_count\n",
    "        )\n",
    "        if incorrect_count < 3:\n",
    "            print(\"Well done! You are the quiz winner!\")\n",
    "        \n",
    "    except ValueError:\n",
    "        print(\"Please enter only string data!\")\n",
    "\n",
    "quiz()"
   ]
  },
  {
   "cell_type": "code",
   "execution_count": null,
   "metadata": {},
   "outputs": [],
   "source": []
  }
 ],
 "metadata": {
  "kernelspec": {
   "display_name": "Python 3",
   "language": "python",
   "name": "python3"
  },
  "language_info": {
   "codemirror_mode": {
    "name": "ipython",
    "version": 3
   },
   "file_extension": ".py",
   "mimetype": "text/x-python",
   "name": "python",
   "nbconvert_exporter": "python",
   "pygments_lexer": "ipython3",
   "version": "3.12.4"
  }
 },
 "nbformat": 4,
 "nbformat_minor": 2
}
