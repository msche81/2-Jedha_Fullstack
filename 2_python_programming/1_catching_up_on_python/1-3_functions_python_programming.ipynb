{
 "cells": [
  {
   "cell_type": "code",
   "execution_count": 31,
   "metadata": {},
   "outputs": [],
   "source": [
    "a = [1, 2, 3]"
   ]
  },
  {
   "cell_type": "code",
   "execution_count": 32,
   "metadata": {},
   "outputs": [
    {
     "name": "stdout",
     "output_type": "stream",
     "text": [
      "3\n"
     ]
    }
   ],
   "source": [
    "a = [1, 2, 3]\n",
    "print(a[2])"
   ]
  },
  {
   "cell_type": "code",
   "execution_count": 33,
   "metadata": {},
   "outputs": [
    {
     "name": "stdout",
     "output_type": "stream",
     "text": [
      "[1, 4, 3]\n"
     ]
    }
   ],
   "source": [
    "# changer un élément de la liste\n",
    "a[1] = 4\n",
    "print(a)"
   ]
  },
  {
   "cell_type": "code",
   "execution_count": 34,
   "metadata": {},
   "outputs": [
    {
     "name": "stdout",
     "output_type": "stream",
     "text": [
      "[1, 2, 3, 4, 5, 'hello']\n"
     ]
    }
   ],
   "source": [
    "# ajouter un élément à la liste - opérateur +\n",
    "list_1 = [1 ,2, 3, 4, 5]\n",
    "add_1 = [\"hello\"]\n",
    "list_1 = list_1 + add_1\n",
    "print(list_1)"
   ]
  },
  {
   "cell_type": "code",
   "execution_count": 35,
   "metadata": {},
   "outputs": [
    {
     "name": "stdout",
     "output_type": "stream",
     "text": [
      "[1, 2, 3, 4, 5, 'hello']\n"
     ]
    }
   ],
   "source": [
    "# ajouter un élément à la liste - avec la méthode append\n",
    "list_1 = [1 ,2, 3, 4, 5]\n",
    "add_2 = \"hello\"\n",
    "list_1.append(add_2)\n",
    "print(list_1)"
   ]
  },
  {
   "cell_type": "code",
   "execution_count": 36,
   "metadata": {},
   "outputs": [
    {
     "name": "stdout",
     "output_type": "stream",
     "text": [
      "[1, 2, 3, 4, 5, ['test1', 'test2', 'test3']]\n"
     ]
    }
   ],
   "source": [
    "# avec cet exemple ci-dessous, avec les [], on fait une liste de liste\n",
    "# append ne prend qu'un seul élément de la liste et l'ajoute en tant que tel, il prend la liste et l'ajoute en tant qu'un seul élément\n",
    "list_1 = [1, 2, 3, 4, 5]\n",
    "add_3 = [\"test1\", \"test2\", \"test3\"]\n",
    "list_1.append(add_3)\n",
    "print(list_1)"
   ]
  },
  {
   "cell_type": "code",
   "execution_count": 37,
   "metadata": {},
   "outputs": [
    {
     "name": "stdout",
     "output_type": "stream",
     "text": [
      "[1, 2, 3, 4, 5, 'test1', 'test2', 'test3']\n"
     ]
    }
   ],
   "source": [
    "# pour ajouter les éléments de manière individuelle, il faut concaténer les éléments et utiliser la méthode extend\n",
    "list_1 = [1, 2, 3, 4, 5]\n",
    "add_4 = [\"test1\", \"test2\", \"test3\"]\n",
    "list_1.extend(add_4)\n",
    "print(list_1)"
   ]
  },
  {
   "cell_type": "code",
   "execution_count": 38,
   "metadata": {},
   "outputs": [
    {
     "name": "stdout",
     "output_type": "stream",
     "text": [
      "[1, 3, 4]\n"
     ]
    }
   ],
   "source": [
    "# pour retirer des éléments\n",
    "# operation in place: la suppression se fait directement dans la collection de données et non en redéfinissant une variable\n",
    "list_1 = [1, 2, 3, 4]\n",
    "del(list_1[1])\n",
    "print(list_1)"
   ]
  },
  {
   "cell_type": "code",
   "execution_count": 39,
   "metadata": {},
   "outputs": [
    {
     "name": "stdout",
     "output_type": "stream",
     "text": [
      "[2, 3, 4]\n"
     ]
    }
   ],
   "source": [
    "# autre méthode = remove\n",
    "# va chercher le premier élément de la list_1 et le retire de la liste\n",
    "# != d'une indexation donc on commence par 1\n",
    "list_1 = [1, 2, 3, 4]\n",
    "list_1.remove(1)\n",
    "print(list_1)"
   ]
  },
  {
   "cell_type": "code",
   "execution_count": 40,
   "metadata": {},
   "outputs": [
    {
     "name": "stdout",
     "output_type": "stream",
     "text": [
      "[1, 2, 3, 'to_remove', 4, 'to_remove']\n"
     ]
    }
   ],
   "source": [
    "# enlever les éléments redondants dans une liste\n",
    "# exemple ici avec remove = il s arrete bien à la première itération\n",
    "list_1 = [1, 2, 'to_remove', 3, 'to_remove', 4, 'to_remove']\n",
    "list_1.remove('to_remove')\n",
    "print(list_1)"
   ]
  },
  {
   "cell_type": "code",
   "execution_count": 41,
   "metadata": {},
   "outputs": [
    {
     "name": "stdout",
     "output_type": "stream",
     "text": [
      "[1, 2, 3, 4]\n"
     ]
    }
   ],
   "source": [
    "# inclure une condition pour faire perdurer le code\n",
    "list_1 = [1, 2, 'to_remove', 3, 'to_remove', 4, 'to_remove']\n",
    "while 'to_remove' in list_1:\n",
    "    list_1.remove('to_remove')\n",
    "print(list_1)"
   ]
  },
  {
   "cell_type": "code",
   "execution_count": 42,
   "metadata": {},
   "outputs": [
    {
     "name": "stdout",
     "output_type": "stream",
     "text": [
      "3\n",
      "[1, 2, 4]\n"
     ]
    }
   ],
   "source": [
    "# pop method: fonctionne par index\n",
    "list_1 = [1, 2, 3, 4]\n",
    "elem = list_1.pop(2)\n",
    "print(elem)\n",
    "print(list_1)\n"
   ]
  },
  {
   "cell_type": "code",
   "execution_count": 43,
   "metadata": {},
   "outputs": [
    {
     "name": "stdout",
     "output_type": "stream",
     "text": [
      "[2, 4, 6, 8, 10, 12, 14, 16, 18, 20]\n"
     ]
    }
   ],
   "source": [
    "# première liste\n",
    "list_1 = [1, 2, 3, 4, 5, 6, 7, 8, 9, 10]\n",
    "# deuxième liste se définit par rapport à la précédente, on veut automatiquement multiplier par 2 chaque élément de la liste 1\n",
    "list_2 = [2*x for x in list_1]\n",
    "# la list_2 est la list comprehension\n",
    "print(list_2)"
   ]
  },
  {
   "cell_type": "code",
   "execution_count": 44,
   "metadata": {},
   "outputs": [
    {
     "name": "stdout",
     "output_type": "stream",
     "text": [
      "[2, 4, 6, 8, 10, 12, 14, 16, 18, 20]\n"
     ]
    }
   ],
   "source": [
    "list_2 = []\n",
    "for i in list_1:\n",
    "    list_2.append(2*i)\n",
    "print(list_2)"
   ]
  },
  {
   "cell_type": "code",
   "execution_count": 45,
   "metadata": {},
   "outputs": [
    {
     "name": "stdout",
     "output_type": "stream",
     "text": [
      "[3, 4, 5, 6, 7, 8, 9, 10]\n"
     ]
    }
   ],
   "source": [
    "# première liste\n",
    "list_1 = [1, 2, 3, 4, 5, 6, 7, 8, 9, 10]\n",
    "# on demande à la nouvelle liste de récupérer les éléments de la list_1 seulement si la valeur est supérieure à 2\n",
    "list_3 = [x for x in list_1 if x > 2]\n",
    "print(list_3)"
   ]
  },
  {
   "cell_type": "code",
   "execution_count": 48,
   "metadata": {},
   "outputs": [
    {
     "name": "stdout",
     "output_type": "stream",
     "text": [
      "[3, 4, 5, 6, 7, 8, 9, 10]\n"
     ]
    }
   ],
   "source": [
    "# alternative\n",
    "list_3 = []\n",
    "for i in list_1:\n",
    "    if i > 2:\n",
    "        list_3.append(i)\n",
    "print(list_3)"
   ]
  },
  {
   "cell_type": "code",
   "execution_count": 49,
   "metadata": {},
   "outputs": [
    {
     "name": "stdout",
     "output_type": "stream",
     "text": [
      "[2, 3, 4, 5, 6, 7, 8]\n"
     ]
    }
   ],
   "source": [
    "# première liste\n",
    "list_1 = [1, 2, 3, 4, 5, 6, 7, 8, 9, 10]\n",
    "# on demande à la nouvelle liste de récupérer les éléments de la list_1 en dessous de ou = à 7 et d'y ajouter 1\n",
    "list_4 = [x + 1 for x in list_1 if x <=7]\n",
    "print(list_4)"
   ]
  },
  {
   "cell_type": "code",
   "execution_count": 51,
   "metadata": {},
   "outputs": [
    {
     "name": "stdout",
     "output_type": "stream",
     "text": [
      "[2, 3, 4, 5, 6, 7, 8]\n"
     ]
    }
   ],
   "source": [
    "# alternative\n",
    "list_4 = []\n",
    "for i in list_1:\n",
    "    if i <= 7:\n",
    "        list_4.append(i+1)\n",
    "print(list_4)"
   ]
  },
  {
   "cell_type": "code",
   "execution_count": 4,
   "metadata": {},
   "outputs": [
    {
     "name": "stdout",
     "output_type": "stream",
     "text": [
      "[8, 9, 10]\n"
     ]
    }
   ],
   "source": [
    "# slices = fonctionne comme les index en mettant l index de début et celui de fin WARNING: le dernier index doit être le dernier + 1 ; est exclu\n",
    "# accéder à un sous élément de la liste comme les 3 derniers éléments de la liste par exemple\n",
    "# slice [x:y] = range. si je vais à la fin pas besoin d'écrire le dernier index, idem pour le début\n",
    "list_1 = [1, 2, 3, 4, 5, 6, 7, 8, 9, 10]\n",
    "three_last_items = list_1[7:10]\n",
    "print(three_last_items)"
   ]
  },
  {
   "cell_type": "code",
   "execution_count": 5,
   "metadata": {},
   "outputs": [
    {
     "data": {
      "text/plain": [
       "[1, 2, 3, 4]"
      ]
     },
     "execution_count": 5,
     "metadata": {},
     "output_type": "execute_result"
    }
   ],
   "source": [
    "list_1[:4]"
   ]
  },
  {
   "cell_type": "code",
   "execution_count": 6,
   "metadata": {},
   "outputs": [
    {
     "data": {
      "text/plain": [
       "[8, 9, 10]"
      ]
     },
     "execution_count": 6,
     "metadata": {},
     "output_type": "execute_result"
    }
   ],
   "source": [
    "list_1[7:]"
   ]
  },
  {
   "cell_type": "code",
   "execution_count": 7,
   "metadata": {},
   "outputs": [
    {
     "data": {
      "text/plain": [
       "[8, 9, 10]"
      ]
     },
     "execution_count": 7,
     "metadata": {},
     "output_type": "execute_result"
    }
   ],
   "source": [
    "# index négatif = on lit de droite à gauche\n",
    "list_1[-3:]"
   ]
  },
  {
   "cell_type": "code",
   "execution_count": 9,
   "metadata": {},
   "outputs": [
    {
     "data": {
      "text/plain": [
       "[1, 2, 3, 4, 5, 6, 7]"
      ]
     },
     "execution_count": 9,
     "metadata": {},
     "output_type": "execute_result"
    }
   ],
   "source": [
    "list_1[:-3]"
   ]
  },
  {
   "cell_type": "code",
   "execution_count": 22,
   "metadata": {},
   "outputs": [],
   "source": [
    "# dictionnaries: beaucoup utilisé en python, format de données en python qui ressemble à un format utilisé pour transférer des données par des protocoles sur internet qui s'appelle json\n",
    "# dictionnaire: aussi une collection de données. on perd cette fois la notion d'ordre, pas de notion d'index mais on range les données par notion de keys\n",
    "# key: clé dans laquelle je vais ranger une valeur\n",
    "# on utilise des accolades pour que python sache qu'on utilise un dictionnaire \n",
    "\n",
    "dict1 = {\n",
    "    'first_name': ['Antoine', 'Alice'],\n",
    "    'age': [14, 16],\n",
    "    'name': ['Bulgadof', 'Waouf']\n",
    "}"
   ]
  },
  {
   "cell_type": "code",
   "execution_count": 23,
   "metadata": {},
   "outputs": [
    {
     "data": {
      "text/plain": [
       "[14, 16]"
      ]
     },
     "execution_count": 23,
     "metadata": {},
     "output_type": "execute_result"
    }
   ],
   "source": [
    "# accéder aux éléments\n",
    "# l'équivalent de l'index est la clé\n",
    "dict1['age']"
   ]
  },
  {
   "cell_type": "code",
   "execution_count": 28,
   "metadata": {},
   "outputs": [
    {
     "data": {
      "text/plain": [
       "16"
      ]
     },
     "execution_count": 28,
     "metadata": {},
     "output_type": "execute_result"
    }
   ],
   "source": [
    "# accéder à un élément d'une clé => là il faut mentionner l'index à l intérieur de la clé\n",
    "dict1['age'][1]"
   ]
  },
  {
   "cell_type": "code",
   "execution_count": 30,
   "metadata": {},
   "outputs": [
    {
     "name": "stdout",
     "output_type": "stream",
     "text": [
      "{'first_name': ['Antoine', 'Alice'], 'age': [14, 48], 'name': ['Bulgadof', 'Waouf']}\n"
     ]
    }
   ],
   "source": [
    "# modifier un élément\n",
    "dict1['age'][1] = 48\n",
    "print(dict1)"
   ]
  },
  {
   "cell_type": "code",
   "execution_count": 31,
   "metadata": {},
   "outputs": [
    {
     "name": "stdout",
     "output_type": "stream",
     "text": [
      "{'first_name': ['Antoine', 'Alice'], 'age': [14, 48], 'name': ['Bulgadof', 'Waouf'], 'address': 'rue des adreses de la ville'}\n"
     ]
    }
   ],
   "source": [
    "# ajouter une clé avec une valeur à l'intérieur\n",
    "dict1['address'] = 'rue des adreses de la ville'\n",
    "print(dict1)"
   ]
  },
  {
   "cell_type": "code",
   "execution_count": 32,
   "metadata": {},
   "outputs": [
    {
     "name": "stdout",
     "output_type": "stream",
     "text": [
      "{'first_name': ['Antoine', 'Alice'], 'name': ['Bulgadof', 'Waouf'], 'address': 'rue des adreses de la ville'}\n"
     ]
    }
   ],
   "source": [
    "# supprimer une clé\n",
    "del((dict1)['age'])\n",
    "print(dict1)"
   ]
  },
  {
   "cell_type": "code",
   "execution_count": 34,
   "metadata": {},
   "outputs": [
    {
     "name": "stdout",
     "output_type": "stream",
     "text": [
      "{'first_name': ['Antoine', 'Alice'], 'name': ['Bulgadof', 'Waouf'], 'address': 'rue des adreses de la ville', 'age': [12, 24]}\n"
     ]
    }
   ],
   "source": [
    "# ajouter une key avec plusieurs valeurs\n",
    "dict1['age'] = [12, 24]\n",
    "print(dict1)"
   ]
  },
  {
   "cell_type": "code",
   "execution_count": 35,
   "metadata": {},
   "outputs": [
    {
     "name": "stdout",
     "output_type": "stream",
     "text": [
      "{'first_name': ['Antoine', 'Alice'], 'name': ['Bulgadof', 'Waouf'], 'address': 'rue des adreses de la ville', 'age': [12]}\n"
     ]
    }
   ],
   "source": [
    "# supprimer une valeur dans une clé\n",
    "del((dict1)['age'][1])\n",
    "print(dict1)"
   ]
  },
  {
   "cell_type": "code",
   "execution_count": 36,
   "metadata": {},
   "outputs": [
    {
     "name": "stdout",
     "output_type": "stream",
     "text": [
      "first_name\n",
      "name\n",
      "address\n",
      "age\n"
     ]
    }
   ],
   "source": [
    "# boucler sur les clés dans un dictionnaire\n",
    "for k in dict1.keys():\n",
    "    print(k)"
   ]
  },
  {
   "cell_type": "code",
   "execution_count": 37,
   "metadata": {},
   "outputs": [
    {
     "name": "stdout",
     "output_type": "stream",
     "text": [
      "['Antoine', 'Alice']\n",
      "['Bulgadof', 'Waouf']\n",
      "rue des adreses de la ville\n",
      "[12]\n"
     ]
    }
   ],
   "source": [
    "# boucler sur les valeurs des clés dans un dictionnaire\n",
    "for v in dict1.values():\n",
    "    print(v)"
   ]
  },
  {
   "cell_type": "code",
   "execution_count": 38,
   "metadata": {},
   "outputs": [
    {
     "name": "stdout",
     "output_type": "stream",
     "text": [
      "('first_name', ['Antoine', 'Alice'])\n",
      "('name', ['Bulgadof', 'Waouf'])\n",
      "('address', 'rue des adreses de la ville')\n",
      "('age', [12])\n"
     ]
    }
   ],
   "source": [
    "# récupérer le couple clé / valeur\n",
    "for item in dict1.items():\n",
    "    print(item)"
   ]
  },
  {
   "cell_type": "code",
   "execution_count": 41,
   "metadata": {},
   "outputs": [
    {
     "name": "stdout",
     "output_type": "stream",
     "text": [
      "3\n"
     ]
    }
   ],
   "source": [
    "# tuples = comme un dictionnaire mais immuable, je ne peux modifier la valeur de cette collection de données\n",
    "tuple_1 = (1, 2, 3)\n",
    "print(tuple_1[2])"
   ]
  }
 ],
 "metadata": {
  "kernelspec": {
   "display_name": "Python 3",
   "language": "python",
   "name": "python3"
  },
  "language_info": {
   "codemirror_mode": {
    "name": "ipython",
    "version": 3
   },
   "file_extension": ".py",
   "mimetype": "text/x-python",
   "name": "python",
   "nbconvert_exporter": "python",
   "pygments_lexer": "ipython3",
   "version": "3.12.4"
  }
 },
 "nbformat": 4,
 "nbformat_minor": 2
}
