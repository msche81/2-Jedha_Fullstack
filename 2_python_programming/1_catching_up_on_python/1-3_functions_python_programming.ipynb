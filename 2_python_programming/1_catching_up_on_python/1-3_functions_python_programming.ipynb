{
 "cells": [
  {
   "cell_type": "code",
   "execution_count": 20,
   "metadata": {},
   "outputs": [],
   "source": [
    "# DRY: don't repeat yourself\n",
    "# encapsuler des instructions dans une fonction pour la rappeler si besoin de répéter la manipulation plutot que de recoder\n",
    "\n",
    "\n",
    "def name_of_the_function(x, y):\n",
    "    res = x + y\n",
    "    return res"
   ]
  },
  {
   "cell_type": "code",
   "execution_count": 21,
   "metadata": {},
   "outputs": [],
   "source": [
    "# ici on va définir une fonction qui fait la somme de x et y\n",
    "def compute_sum(x, y):\n",
    "    rev = x + y\n",
    "    return rev"
   ]
  },
  {
   "cell_type": "code",
   "execution_count": 22,
   "metadata": {},
   "outputs": [
    {
     "name": "stdout",
     "output_type": "stream",
     "text": [
      "Le résultat est 5\n"
     ]
    }
   ],
   "source": [
    "# application de la fonction\n",
    "resultat = compute_sum(2, 3)\n",
    "print('Le résultat est', resultat)"
   ]
  },
  {
   "cell_type": "code",
   "execution_count": 26,
   "metadata": {},
   "outputs": [
    {
     "name": "stdout",
     "output_type": "stream",
     "text": [
      "['Antoine', 'Marcel', 'Résus']\n"
     ]
    }
   ],
   "source": [
    "# exemple avec un dictionnaire\n",
    "dic1 = {\n",
    "    'name': ['Antoine', 'Marcel', 'Résus'],\n",
    "    'age' : ['34', '45', '10']\n",
    "}\n",
    "\n",
    "def print_name(d):\n",
    "    print(d['name'])\n",
    "\n",
    "print_name(dic1)"
   ]
  },
  {
   "cell_type": "code",
   "execution_count": 27,
   "metadata": {},
   "outputs": [
    {
     "name": "stdout",
     "output_type": "stream",
     "text": [
      "The square of 3 is 9\n",
      "The square of 4 is 16\n",
      "The square of 5 is 25\n"
     ]
    }
   ],
   "source": [
    "# fonction pour calculer la racine carré d'un chiffre = SANS RETURN\n",
    "def square_number(number):\n",
    "    result = number**2\n",
    "    print('The square of', number, 'is', result)\n",
    "\n",
    "square_number(3)\n",
    "square_number(4)\n",
    "square_number(5)"
   ]
  },
  {
   "cell_type": "code",
   "execution_count": 28,
   "metadata": {},
   "outputs": [
    {
     "name": "stdout",
     "output_type": "stream",
     "text": [
      "The square of 4 is 16\n",
      "I can reuse of the calculation outside the function, for example by adding 1 :  17\n"
     ]
    }
   ],
   "source": [
    "# fonction pour calculer la racine carré d'un chiffre = AVEC RETURN\n",
    "def square_number(number):\n",
    "    result = number**2\n",
    "    print('The square of', number, 'is', result)\n",
    "    return result\n",
    "\n",
    "res = square_number(4)\n",
    "print('I can reuse of the calculation outside the function, for example by adding 1 : ', res+1)"
   ]
  },
  {
   "cell_type": "code",
   "execution_count": 1,
   "metadata": {},
   "outputs": [],
   "source": [
    "# Multi-argument function\n",
    "# ici y devient un argument optionnel, j'ai le droit ici d'appeler qu un seul argument = x, si je ne spécifie pas y alors il est définit par défaut par 1 dans ce cas\n",
    "def compute_sum(x, y = 1):\n",
    "    res = x + y\n",
    "    return res"
   ]
  },
  {
   "cell_type": "code",
   "execution_count": 4,
   "metadata": {},
   "outputs": [
    {
     "data": {
      "text/plain": [
       "5"
      ]
     },
     "execution_count": 4,
     "metadata": {},
     "output_type": "execute_result"
    }
   ],
   "source": [
    "compute_sum(4)"
   ]
  },
  {
   "cell_type": "code",
   "execution_count": 6,
   "metadata": {},
   "outputs": [
    {
     "data": {
      "text/plain": [
       "18"
      ]
     },
     "execution_count": 6,
     "metadata": {},
     "output_type": "execute_result"
    }
   ],
   "source": [
    "# appel à une fonction avec des arguments par position ou par nom\n",
    "# préciser les arguments par position:\n",
    "# compute_sum(4, 2)\n",
    "# préciser les arguments par nom d'arguments explicitement:\n",
    "compute_sum(y = 3, x = 15)\n",
    "\n",
    "# je peux alors intervertir les positions puisque je les nomme explicitement"
   ]
  },
  {
   "cell_type": "code",
   "execution_count": null,
   "metadata": {},
   "outputs": [],
   "source": []
  },
  {
   "cell_type": "code",
   "execution_count": null,
   "metadata": {},
   "outputs": [],
   "source": []
  },
  {
   "cell_type": "code",
   "execution_count": null,
   "metadata": {},
   "outputs": [],
   "source": []
  }
 ],
 "metadata": {
  "kernelspec": {
   "display_name": "Python 3",
   "language": "python",
   "name": "python3"
  },
  "language_info": {
   "codemirror_mode": {
    "name": "ipython",
    "version": 3
   },
   "file_extension": ".py",
   "mimetype": "text/x-python",
   "name": "python",
   "nbconvert_exporter": "python",
   "pygments_lexer": "ipython3",
   "version": "3.12.4"
  }
 },
 "nbformat": 4,
 "nbformat_minor": 2
}
