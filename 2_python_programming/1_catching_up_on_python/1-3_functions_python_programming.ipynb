{
 "cells": [
  {
   "cell_type": "code",
   "execution_count": 20,
   "metadata": {},
   "outputs": [],
   "source": [
    "# DRY: don't repeat yourself\n",
    "# encapsuler des instructions dans une fonction pour la rappeler si besoin de répéter la manipulation plutot que de recoder\n",
    "\n",
    "\n",
    "def name_of_the_function(x, y):\n",
    "    res = x + y\n",
    "    return res"
   ]
  },
  {
   "cell_type": "code",
   "execution_count": 21,
   "metadata": {},
   "outputs": [],
   "source": [
    "# ici on va définir une fonction qui fait la somme de x et y\n",
    "def compute_sum(x, y):\n",
    "    rev = x + y\n",
    "    return rev"
   ]
  },
  {
   "cell_type": "code",
   "execution_count": 22,
   "metadata": {},
   "outputs": [
    {
     "name": "stdout",
     "output_type": "stream",
     "text": [
      "Le résultat est 5\n"
     ]
    }
   ],
   "source": [
    "# application de la fonction\n",
    "resultat = compute_sum(2, 3)\n",
    "print('Le résultat est', resultat)"
   ]
  },
  {
   "cell_type": "code",
   "execution_count": 26,
   "metadata": {},
   "outputs": [
    {
     "name": "stdout",
     "output_type": "stream",
     "text": [
      "['Antoine', 'Marcel', 'Résus']\n"
     ]
    }
   ],
   "source": [
    "# exemple avec un dictionnaire\n",
    "dic1 = {\n",
    "    'name': ['Antoine', 'Marcel', 'Résus'],\n",
    "    'age' : ['34', '45', '10']\n",
    "}\n",
    "\n",
    "def print_name(d):\n",
    "    print(d['name'])\n",
    "\n",
    "print_name(dic1)"
   ]
  },
  {
   "cell_type": "code",
   "execution_count": 27,
   "metadata": {},
   "outputs": [
    {
     "name": "stdout",
     "output_type": "stream",
     "text": [
      "The square of 3 is 9\n",
      "The square of 4 is 16\n",
      "The square of 5 is 25\n"
     ]
    }
   ],
   "source": [
    "# fonction pour calculer la racine carré d'un chiffre = SANS RETURN\n",
    "def square_number(number):\n",
    "    result = number**2\n",
    "    print('The square of', number, 'is', result)\n",
    "\n",
    "square_number(3)\n",
    "square_number(4)\n",
    "square_number(5)"
   ]
  },
  {
   "cell_type": "code",
   "execution_count": 28,
   "metadata": {},
   "outputs": [
    {
     "name": "stdout",
     "output_type": "stream",
     "text": [
      "The square of 4 is 16\n",
      "I can reuse of the calculation outside the function, for example by adding 1 :  17\n"
     ]
    }
   ],
   "source": [
    "# fonction pour calculer la racine carré d'un chiffre = AVEC RETURN\n",
    "def square_number(number):\n",
    "    result = number**2\n",
    "    print('The square of', number, 'is', result)\n",
    "    return result\n",
    "\n",
    "res = square_number(4)\n",
    "print('I can reuse of the calculation outside the function, for example by adding 1 : ', res+1)"
   ]
  },
  {
   "cell_type": "code",
   "execution_count": 1,
   "metadata": {},
   "outputs": [],
   "source": [
    "# Multi-argument function\n",
    "# ici y devient un argument optionnel, j'ai le droit ici d'appeler qu un seul argument = x, si je ne spécifie pas y alors il est définit par défaut par 1 dans ce cas\n",
    "def compute_sum(x, y = 1):\n",
    "    res = x + y\n",
    "    return res"
   ]
  },
  {
   "cell_type": "code",
   "execution_count": 4,
   "metadata": {},
   "outputs": [
    {
     "data": {
      "text/plain": [
       "5"
      ]
     },
     "execution_count": 4,
     "metadata": {},
     "output_type": "execute_result"
    }
   ],
   "source": [
    "compute_sum(4)"
   ]
  },
  {
   "cell_type": "code",
   "execution_count": 6,
   "metadata": {},
   "outputs": [
    {
     "data": {
      "text/plain": [
       "18"
      ]
     },
     "execution_count": 6,
     "metadata": {},
     "output_type": "execute_result"
    }
   ],
   "source": [
    "# appel à une fonction avec des arguments par position ou par nom\n",
    "# préciser les arguments par position:\n",
    "# compute_sum(4, 2)\n",
    "# préciser les arguments par nom d'arguments explicitement:\n",
    "compute_sum(y = 3, x = 15)\n",
    "\n",
    "# je peux alors intervertir les positions puisque je les nomme explicitement"
   ]
  },
  {
   "cell_type": "code",
   "execution_count": 7,
   "metadata": {},
   "outputs": [
    {
     "ename": "TypeError",
     "evalue": "unsupported operand type(s) for ** or pow(): 'str' and 'int'",
     "output_type": "error",
     "traceback": [
      "\u001b[0;31m---------------------------------------------------------------------------\u001b[0m",
      "\u001b[0;31mTypeError\u001b[0m                                 Traceback (most recent call last)",
      "Cell \u001b[0;32mIn[7], line 6\u001b[0m\n\u001b[1;32m      3\u001b[0m     result \u001b[38;5;241m=\u001b[39m number \u001b[38;5;241m*\u001b[39m\u001b[38;5;241m*\u001b[39m\u001b[38;5;241m2\u001b[39m\n\u001b[1;32m      4\u001b[0m     \u001b[38;5;28;01mreturn\u001b[39;00m result\n\u001b[0;32m----> 6\u001b[0m \u001b[43msquare_number\u001b[49m\u001b[43m(\u001b[49m\u001b[38;5;124;43m\"\u001b[39;49m\u001b[38;5;124;43mHello\u001b[39;49m\u001b[38;5;124;43m\"\u001b[39;49m\u001b[43m)\u001b[49m\n",
      "Cell \u001b[0;32mIn[7], line 3\u001b[0m, in \u001b[0;36msquare_number\u001b[0;34m(number)\u001b[0m\n\u001b[1;32m      2\u001b[0m \u001b[38;5;28;01mdef\u001b[39;00m \u001b[38;5;21msquare_number\u001b[39m(number):\n\u001b[0;32m----> 3\u001b[0m     result \u001b[38;5;241m=\u001b[39m \u001b[43mnumber\u001b[49m\u001b[43m \u001b[49m\u001b[38;5;241;43m*\u001b[39;49m\u001b[38;5;241;43m*\u001b[39;49m\u001b[38;5;241;43m2\u001b[39;49m\n\u001b[1;32m      4\u001b[0m     \u001b[38;5;28;01mreturn\u001b[39;00m result\n",
      "\u001b[0;31mTypeError\u001b[0m: unsupported operand type(s) for ** or pow(): 'str' and 'int'"
     ]
    }
   ],
   "source": [
    "# Manage exceptions\n",
    "# ici python attend des nombres et non pas du texte. ci dessous voici comment anticiper les éventuelles erreurs\n",
    "def square_number(number):\n",
    "    result = number **2\n",
    "    return result\n",
    "\n",
    "square_number(\"Hello\")"
   ]
  },
  {
   "cell_type": "code",
   "execution_count": null,
   "metadata": {},
   "outputs": [],
   "source": [
    "try:\n",
    "    error-prone instructions\n",
    "except:\n",
    "    instructions to execute if error (instead of bugging)\n",
    "else:\n",
    "    instructions to be executed if no error"
   ]
  },
  {
   "cell_type": "code",
   "execution_count": 9,
   "metadata": {},
   "outputs": [
    {
     "name": "stdout",
     "output_type": "stream",
     "text": [
      "This value is not valid. Please enter a number\n",
      "We handled the exception, so python doesn't bug anymore and this sentence will be displayed\n"
     ]
    }
   ],
   "source": [
    "def square_number(number):\n",
    "    try:\n",
    "        result = number**2\n",
    "    except:\n",
    "        print(\"This value is not valid. Please enter a number\")\n",
    "    else:\n",
    "        print('The square of ', number, 'is', result)\n",
    "        return result\n",
    "square_number('Hello')\n",
    "print (\"We handled the exception, so python doesn't bug anymore and this sentence will be displayed\")"
   ]
  },
  {
   "cell_type": "code",
   "execution_count": 11,
   "metadata": {},
   "outputs": [],
   "source": [
    "def share_addition():\n",
    "    try:\n",
    "        total_addition = float(input(\"What is the total amount of the bill?\"))\n",
    "        total_persons = int(input(\"What is the total number of guests?\"))\n",
    "        amount_per_person = total_addition/total_persons\n",
    "    except ValueError:\n",
    "        print('Please recall the function and only give positive numbers.')\n",
    "    except ZeroDivisionError:\n",
    "        print('Please call back the function and give a number of guests > 0')\n",
    "    else:\n",
    "        print(\"the amount per person is {:4.2f}\".format(amount_per_person))"
   ]
  },
  {
   "cell_type": "code",
   "execution_count": 12,
   "metadata": {},
   "outputs": [
    {
     "name": "stdout",
     "output_type": "stream",
     "text": [
      "the amount per person is 112.50\n"
     ]
    }
   ],
   "source": [
    "share_addition()"
   ]
  },
  {
   "cell_type": "code",
   "execution_count": 13,
   "metadata": {},
   "outputs": [
    {
     "name": "stdout",
     "output_type": "stream",
     "text": [
      "Please recall the function and only give positive numbers.\n"
     ]
    }
   ],
   "source": [
    "share_addition()"
   ]
  },
  {
   "cell_type": "code",
   "execution_count": 14,
   "metadata": {},
   "outputs": [
    {
     "name": "stdout",
     "output_type": "stream",
     "text": [
      "Please call back the function and give a number of guests > 0\n"
     ]
    }
   ],
   "source": [
    "share_addition()"
   ]
  },
  {
   "cell_type": "code",
   "execution_count": 15,
   "metadata": {},
   "outputs": [],
   "source": [
    "def share_addition():\n",
    "    try:\n",
    "        total_addition = float(input(\"What ist the total amount of the bill?\"))\n",
    "        total_persons = int(input(\"what is the total number of guests?\"))\n",
    "        amount_per_person = total_addition/total_persons\n",
    "    except ValueError as e:\n",
    "        print(e)\n",
    "    except ZeroDivisionError as e:\n",
    "        print(e)\n",
    "    else:\n",
    "        print(\"the amount per person is {:4.2f}\".format(amount_per_person))"
   ]
  },
  {
   "cell_type": "code",
   "execution_count": 17,
   "metadata": {},
   "outputs": [
    {
     "name": "stdout",
     "output_type": "stream",
     "text": [
      "the amount per person is 94.65\n"
     ]
    }
   ],
   "source": [
    "share_addition()"
   ]
  },
  {
   "cell_type": "code",
   "execution_count": 18,
   "metadata": {},
   "outputs": [
    {
     "name": "stdout",
     "output_type": "stream",
     "text": [
      "invalid literal for int() with base 10: 'andre'\n"
     ]
    }
   ],
   "source": [
    "share_addition()"
   ]
  },
  {
   "cell_type": "code",
   "execution_count": 19,
   "metadata": {},
   "outputs": [],
   "source": [
    "def share_addition():\n",
    "    try:\n",
    "        total_addition = float(input(\"What ist the total amount of the bill?\"))\n",
    "        total_persons = int(input(\"what is the total number og guests?\"))\n",
    "\n",
    "        if (total_addition < 0) or (total_persons < 0):\n",
    "            raise ValueError()\n",
    "        amount_per_person = total_addition/total_persons\n",
    "    except ValueError:\n",
    "        print('Please recall the function and only give positive numbers.')\n",
    "    except ZeroDivisionError:\n",
    "        print('Please call back the function and give a number of guests > 0')\n",
    "    else:\n",
    "        print(\"the amount per person is {:4.2f}\".format(amount_per_person))"
   ]
  },
  {
   "cell_type": "code",
   "execution_count": 20,
   "metadata": {},
   "outputs": [
    {
     "name": "stdout",
     "output_type": "stream",
     "text": [
      "Please call back the function and give a number of guests > 0\n"
     ]
    }
   ],
   "source": [
    "share_addition()"
   ]
  },
  {
   "cell_type": "code",
   "execution_count": 1,
   "metadata": {},
   "outputs": [
    {
     "ename": "NameError",
     "evalue": "name 'share_addition' is not defined",
     "output_type": "error",
     "traceback": [
      "\u001b[0;31m---------------------------------------------------------------------------\u001b[0m",
      "\u001b[0;31mNameError\u001b[0m                                 Traceback (most recent call last)",
      "Cell \u001b[0;32mIn[1], line 1\u001b[0m\n\u001b[0;32m----> 1\u001b[0m \u001b[43mshare_addition\u001b[49m()\n",
      "\u001b[0;31mNameError\u001b[0m: name 'share_addition' is not defined"
     ]
    }
   ],
   "source": [
    "share_addition()"
   ]
  },
  {
   "cell_type": "code",
   "execution_count": null,
   "metadata": {},
   "outputs": [],
   "source": []
  }
 ],
 "metadata": {
  "kernelspec": {
   "display_name": "Python 3",
   "language": "python",
   "name": "python3"
  },
  "language_info": {
   "codemirror_mode": {
    "name": "ipython",
    "version": 3
   },
   "file_extension": ".py",
   "mimetype": "text/x-python",
   "name": "python",
   "nbconvert_exporter": "python",
   "pygments_lexer": "ipython3",
   "version": "3.12.4"
  }
 },
 "nbformat": 4,
 "nbformat_minor": 2
}
