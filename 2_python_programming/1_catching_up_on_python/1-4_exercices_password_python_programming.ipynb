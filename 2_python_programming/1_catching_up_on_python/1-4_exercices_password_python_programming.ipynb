{
 "cells": [
  {
   "cell_type": "markdown",
   "metadata": {},
   "source": [
    "Create a password\n",
    "We would like to create a password for JEDHA\n",
    "Using a WHILE loop, find a way to create a very simple authentication script"
   ]
  },
  {
   "cell_type": "code",
   "execution_count": 7,
   "metadata": {},
   "outputs": [
    {
     "name": "stdout",
     "output_type": "stream",
     "text": [
      "You have the right password!\n"
     ]
    }
   ],
   "source": [
    "password = input(\"What is the password?\") # asking to the user, will attribute value to                                             variable\n",
    "while password != 'jedha':\n",
    "    password = input(\"What is the password?\")\n",
    "\n",
    "print(\"You have the right password!\")"
   ]
  },
  {
   "cell_type": "code",
   "execution_count": 5,
   "metadata": {},
   "outputs": [
    {
     "name": "stdout",
     "output_type": "stream",
     "text": [
      "ça va pas\n",
      "Your password has been correctly set\n"
     ]
    }
   ],
   "source": [
    "# import re est une instruction en Python qui importe le module re.\n",
    "# ce module fournit des outils pour travailler avec des expressions régulières, qui sont des motifs utilisés pour correspondre à des séquences de caractères dans des chaînes de texte\n",
    "import re\n",
    "\n",
    "def check_password(password):\n",
    "    # Vérifier les critères\n",
    "    if (len(re.findall(r'[A-Z]', password)) >= 1 and #[A-Z] : Correspond à toute lettre majuscule\n",
    "        len(re.findall(r'[a-z]', password)) >= 1 and #[a-z] : Correspond à toute lettre minuscule\n",
    "        len(re.findall(r'\\d', password)) >= 2 and #\\d : Correspond à tout chiffre (0-9).\n",
    "        len(re.findall(r'[!@#$%^&*(),.?\":{}|<>]', password)) >= 1): #[!@#$%^&*(),.?\":{}|<>] : Correspond à tout caractère spécial spécifié dans les crochets.\n",
    "        return True\n",
    "    else:\n",
    "        return False\n",
    "\n",
    "while True:\n",
    "    # Demander à l'utilisateur de saisir une chaîne de caractères\n",
    "    user_input = input(\"Please enter a password\")\n",
    "\n",
    "    # Vérifier si la chaîne répond aux critères\n",
    "    if check_password(user_input):\n",
    "        print(\"Your password has been correctly set\")\n",
    "        break  # Sortir de la boucle si les critères sont respectés\n",
    "    else:\n",
    "        print(\"ça va pas\")"
   ]
  },
  {
   "cell_type": "code",
   "execution_count": 6,
   "metadata": {},
   "outputs": [
    {
     "name": "stdout",
     "output_type": "stream",
     "text": [
      "Your password has been correctly set\n"
     ]
    }
   ],
   "source": [
    "import re\n",
    "\n",
    "def check_password(password):\n",
    "    # Initialiser une liste d'erreurs\n",
    "    errors = []\n",
    "\n",
    "    # Vérifier les critères\n",
    "    if len(re.findall(r'[A-Z]', password)) < 1:\n",
    "        errors.append(\"At least one uppercase letter is missing\")\n",
    "    if len(re.findall(r'[a-z]', password)) < 1:\n",
    "        errors.append(\"At least one lowercase letter is missing\")\n",
    "    if len(re.findall(r'\\d', password)) < 2:\n",
    "        errors.append(\"At least two numbers are missing\")\n",
    "    if len(re.findall(r'[!@#$%^&*(),.?\":{}|<>]', password)) < 1:\n",
    "        errors.append(\"At least one special character is missing\")\n",
    "\n",
    "    # Si la liste des erreurs est vide, retourner True\n",
    "    if not errors:\n",
    "        return True, errors\n",
    "    else:\n",
    "        return False, errors\n",
    "\n",
    "while True:\n",
    "    # Demander à l'utilisateur de saisir une chaîne de caractères\n",
    "    user_input = input(\"Please enter a password\")\n",
    "\n",
    "    # Vérifier si la chaîne répond aux critères et récupérer les erreurs\n",
    "    is_valid, errors = check_password(user_input)\n",
    "\n",
    "    if is_valid:\n",
    "        print(\"Your password has been correctly set\")\n",
    "        break  # Sortir de la boucle si les critères sont respectés\n",
    "    else:\n",
    "        # Afficher les erreurs trouvées\n",
    "        print(\"Erreurs de saisie :\")\n",
    "        for error in errors:\n",
    "            print(f\"- {error}\")"
   ]
  }
 ],
 "metadata": {
  "kernelspec": {
   "display_name": "Python 3",
   "language": "python",
   "name": "python3"
  },
  "language_info": {
   "codemirror_mode": {
    "name": "ipython",
    "version": 3
   },
   "file_extension": ".py",
   "mimetype": "text/x-python",
   "name": "python",
   "nbconvert_exporter": "python",
   "pygments_lexer": "ipython3",
   "version": "3.12.4"
  }
 },
 "nbformat": 4,
 "nbformat_minor": 2
}
