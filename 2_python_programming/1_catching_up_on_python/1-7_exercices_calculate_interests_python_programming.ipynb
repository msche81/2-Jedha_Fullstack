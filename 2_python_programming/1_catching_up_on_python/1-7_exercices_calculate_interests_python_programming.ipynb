{
 "cells": [
  {
   "cell_type": "markdown",
   "metadata": {},
   "source": [
    "Let's start with a simple function:\n",
    "\n",
    "Declare a function that returns the square root of a number. We'll call it sqrt().\n",
    "Execute the function to compute the square root of 25 and print the result"
   ]
  },
  {
   "cell_type": "code",
   "execution_count": 4,
   "metadata": {},
   "outputs": [
    {
     "name": "stdout",
     "output_type": "stream",
     "text": [
      "The square of 25 is 625\n"
     ]
    }
   ],
   "source": [
    "# fonction pour calculer la racine carré d'un chiffre = AVEC RETURN\n",
    "def sqrt(number):\n",
    "    result = number**2\n",
    "    print('The square of', number, 'is', result)\n",
    "    return result\n",
    "\n",
    "res = sqrt(25)"
   ]
  },
  {
   "cell_type": "code",
   "execution_count": 5,
   "metadata": {},
   "outputs": [
    {
     "name": "stdout",
     "output_type": "stream",
     "text": [
      "The result is : 5.0\n"
     ]
    }
   ],
   "source": [
    "# Definition of the function\n",
    "def sqrt(number): # number is a parameter, will take value\n",
    "    number = number ** (1/2)\n",
    "    return number\n",
    "\n",
    "# Call the function and store the result in a variable.\n",
    "result = sqrt(number = 25) # here number will take 25\n",
    "\n",
    "# The result is displayed\n",
    "print(\"The result is : {}\".format(result))"
   ]
  },
  {
   "cell_type": "code",
   "execution_count": null,
   "metadata": {},
   "outputs": [],
   "source": []
  }
 ],
 "metadata": {
  "kernelspec": {
   "display_name": "Python 3",
   "language": "python",
   "name": "python3"
  },
  "language_info": {
   "codemirror_mode": {
    "name": "ipython",
    "version": 3
   },
   "file_extension": ".py",
   "mimetype": "text/x-python",
   "name": "python",
   "nbconvert_exporter": "python",
   "pygments_lexer": "ipython3",
   "version": "3.12.4"
  }
 },
 "nbformat": 4,
 "nbformat_minor": 2
}
