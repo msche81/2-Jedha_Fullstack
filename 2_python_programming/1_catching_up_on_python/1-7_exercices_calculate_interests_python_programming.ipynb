{
 "cells": [
  {
   "cell_type": "markdown",
   "metadata": {},
   "source": [
    "OPTIONAL Calculate interests\n",
    "\n",
    "So let's create a function that will allow us to know how much money a user will have in total after a certain number of years.\n",
    "\n",
    "The user should be able to call the function which will then ask for :\n",
    "\n",
    "The total amount he wishes to place\n",
    "The number of years he wants to invest his money for\n",
    "The rate of interest to which he is entitled\n",
    "Pay attention to the errors that the user may enter.\n",
    "\n",
    "If he enters a string of characters rather than a number, an error should be displayed.\n",
    "If the user enters negative numbers, an error should also be output.\n",
    "Finally, it is very likely that the user will write the interest rate as a percentage (e.g. 10%). Raise an error if this is the case, to prevent him from inputting a percentage.\n",
    "Finally, the program should only show one number with a maximum of two digits after the decimal point."
   ]
  },
  {
   "cell_type": "code",
   "execution_count": 9,
   "metadata": {},
   "outputs": [
    {
     "name": "stdout",
     "output_type": "stream",
     "text": [
      "10000\n",
      "10\n",
      "3.5%\n",
      "The total amount of money you will have after your deposit of 10000 euros at the end of 10 years will be 14105.99 euros\n"
     ]
    }
   ],
   "source": [
    "# ma solution en m'aidant de chatgpt sans optimiser le code mais en essayant d'avoir une logique\n",
    "import re\n",
    "\n",
    "def total_amount(t_amount):\n",
    "    if re.fullmatch(r'[0-9]+(\\.[0-9]{1,2})?', t_amount):\n",
    "        return True\n",
    "    else:\n",
    "        return False\n",
    "while True:\n",
    "    amount = input(\"What is the total amount you wish to place?\")\n",
    "    if total_amount(amount):\n",
    "        break\n",
    "    else:\n",
    "        print(\"Attention: only a whole number or a number with up to 2 decimal places is accepted.\")  \n",
    "print(amount)\n",
    "\n",
    "def number_of_years(n_years):\n",
    "    if re.fullmatch(r'[0-9]+', n_years):\n",
    "        return True\n",
    "    else:\n",
    "        return False\n",
    "while True:\n",
    "    years = input(\"For how many years do you want to invest your money?\")\n",
    "    if number_of_years(years):\n",
    "        break\n",
    "    else:\n",
    "        print(\"Attention: only whole numbers are accepted.\")\n",
    "print(years)\n",
    "\n",
    "def rate_of_interest(r_interest):\n",
    "    if re.fullmatch(r'[0-9]+(\\.[0-9]{1,2})?%', r_interest):\n",
    "        return True\n",
    "    else:\n",
    "        return False \n",
    "while True:\n",
    "    interests = input(\"What is the rate of interest to which you are entitled?\")\n",
    "    if rate_of_interest(interests):\n",
    "        break\n",
    "    else:\n",
    "        print(\"Attention: please enter the rate of interest as a percentage (e.g., 5%).\")\n",
    "print(interests)\n",
    "\n",
    "montant_total = float(amount) * ((1 + float(interests.strip('%')) / 100) ** int(years))\n",
    "\n",
    "print(\"The total amount of money you will have after your deposit of {} euros at the end of {} years will be {:.2f} euros\".format(amount, years, montant_total))\n"
   ]
  },
  {
   "cell_type": "code",
   "execution_count": 11,
   "metadata": {},
   "outputs": [
    {
     "name": "stdout",
     "output_type": "stream",
     "text": [
      "The total amount of money you will have after your deposit of 10000.0 euros at the end of 10 years will be 14105.99 euros\n"
     ]
    }
   ],
   "source": [
    "# la solution de chatgpt\n",
    "import re\n",
    "\n",
    "def get_valid_input(prompt, validation_func, error_message):\n",
    "    while True:\n",
    "        value = input(prompt)\n",
    "        if validation_func(value):\n",
    "            return value\n",
    "        else:\n",
    "            print(error_message)\n",
    "\n",
    "def total_amount(t_amount):\n",
    "    return re.fullmatch(r'[0-9]+(\\.[0-9]{1,2})?', t_amount)\n",
    "\n",
    "def number_of_years(n_years):\n",
    "    return re.fullmatch(r'[0-9]+', n_years)\n",
    "\n",
    "def rate_of_interest(r_interest):\n",
    "    return re.fullmatch(r'[0-9]+(\\.[0-9]{1,2})?%', r_interest)\n",
    "\n",
    "# Get valid inputs\n",
    "amount = get_valid_input(\n",
    "    \"What is the total amount you wish to place? \",\n",
    "    total_amount,\n",
    "    \"Attention: only a whole number or a number with up to 2 decimal places is accepted.\"\n",
    ")\n",
    "\n",
    "years = get_valid_input(\n",
    "    \"For how many years do you want to invest your money? \",\n",
    "    number_of_years,\n",
    "    \"Attention: only whole numbers are accepted.\"\n",
    ")\n",
    "\n",
    "interests = get_valid_input(\n",
    "    \"What is the rate of interest to which you are entitled? \",\n",
    "    rate_of_interest,\n",
    "    \"Attention: please enter the rate of interest as a percentage (e.g., 5%).\"\n",
    ")\n",
    "\n",
    "# Convert inputs to appropriate types\n",
    "amount = float(amount)\n",
    "years = int(years)\n",
    "interest_rate = float(interests.strip('%')) / 100\n",
    "\n",
    "# Calculate total amount using compound interest formula\n",
    "montant_total = amount * (1 + interest_rate) ** years\n",
    "\n",
    "# Print the result\n",
    "print(\"The total amount of money you will have after your deposit of {} euros at the end of {} years will be {:.2f} euros\".format(amount, years, montant_total))"
   ]
  },
  {
   "cell_type": "code",
   "execution_count": 15,
   "metadata": {},
   "outputs": [
    {
     "name": "stdout",
     "output_type": "stream",
     "text": [
      "10000.0\n",
      "10.0\n",
      "0.035\n",
      "The total amount of money you will have after you deposit 10000.00 at the end of 10.0 years will be 14105.99 €\n"
     ]
    }
   ],
   "source": [
    "# solution jedha\n",
    "def savings():\n",
    "    try:\n",
    "        initial_amount = float(input(\"Give us the total amount you wish to invest : \\n\"))\n",
    "        print(initial_amount)\n",
    "        duration = float(input(\"How many years are you going to invest that money ? \\n\"))\n",
    "        print(duration)\n",
    "        interest_rate = float(input(\"At what rate would you like to see interest ?\\n \\\n",
    "              WARNING: You will have to put a decimal value \\n Ex: 10% --> 0.10 \\n\"))\n",
    "        print(interest_rate)\n",
    "    except ValueError:\n",
    "        # We enter this except only if the user types something other than numbers.\n",
    "        raise ValueError(\"Please enter only numbers !\") # makes it possible to explain the error\n",
    "    else:\n",
    "        # We enter this else if the user has typed numbers correctly.\n",
    "        # We're going to run successive tests to create the other errors\n",
    "        \n",
    "        if (initial_amount < 0) or (duration < 0) or (interest_rate < 0):\n",
    "            raise ValueError(\"You have entered one or more negative values. \\n \\\n",
    "            Please type only positive values !\")\n",
    "        \n",
    "        if interest_rate > 1:\n",
    "            raise ValueError(\"You have entered an interest rate greater than 1%. \\n \\\n",
    "            Please enter an interest rate as a decimal value !\")\n",
    "        \n",
    "        # The following code will be executed if no errors occurred upstream\n",
    "        total = initial_amount*(1+interest_rate)**(duration)\n",
    "        print(\"The total amount of money you will have after you deposit {:.2f} at the end of {} years will be {:.2f} €\"\n",
    "              .format(initial_amount, duration, total))\n",
    "        \n",
    "savings()"
   ]
  }
 ],
 "metadata": {
  "kernelspec": {
   "display_name": "Python 3",
   "language": "python",
   "name": "python3"
  },
  "language_info": {
   "codemirror_mode": {
    "name": "ipython",
    "version": 3
   },
   "file_extension": ".py",
   "mimetype": "text/x-python",
   "name": "python",
   "nbconvert_exporter": "python",
   "pygments_lexer": "ipython3",
   "version": "3.12.4"
  }
 },
 "nbformat": 4,
 "nbformat_minor": 2
}
