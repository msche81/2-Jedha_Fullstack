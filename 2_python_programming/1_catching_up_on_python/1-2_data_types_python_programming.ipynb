{
 "cells": [
  {
   "cell_type": "code",
   "execution_count": 31,
   "metadata": {},
   "outputs": [],
   "source": [
    "a = [1, 2, 3]"
   ]
  },
  {
   "cell_type": "code",
   "execution_count": 32,
   "metadata": {},
   "outputs": [
    {
     "name": "stdout",
     "output_type": "stream",
     "text": [
      "3\n"
     ]
    }
   ],
   "source": [
    "a = [1, 2, 3]\n",
    "print(a[2])"
   ]
  },
  {
   "cell_type": "code",
   "execution_count": 33,
   "metadata": {},
   "outputs": [
    {
     "name": "stdout",
     "output_type": "stream",
     "text": [
      "[1, 4, 3]\n"
     ]
    }
   ],
   "source": [
    "# changer un élément de la liste\n",
    "a[1] = 4\n",
    "print(a)"
   ]
  },
  {
   "cell_type": "code",
   "execution_count": 34,
   "metadata": {},
   "outputs": [
    {
     "name": "stdout",
     "output_type": "stream",
     "text": [
      "[1, 2, 3, 4, 5, 'hello']\n"
     ]
    }
   ],
   "source": [
    "# ajouter un élément à la liste - opérateur +\n",
    "list_1 = [1 ,2, 3, 4, 5]\n",
    "add_1 = [\"hello\"]\n",
    "list_1 = list_1 + add_1\n",
    "print(list_1)"
   ]
  },
  {
   "cell_type": "code",
   "execution_count": 35,
   "metadata": {},
   "outputs": [
    {
     "name": "stdout",
     "output_type": "stream",
     "text": [
      "[1, 2, 3, 4, 5, 'hello']\n"
     ]
    }
   ],
   "source": [
    "# ajouter un élément à la liste - avec la méthode append\n",
    "list_1 = [1 ,2, 3, 4, 5]\n",
    "add_2 = \"hello\"\n",
    "list_1.append(add_2)\n",
    "print(list_1)"
   ]
  },
  {
   "cell_type": "code",
   "execution_count": 36,
   "metadata": {},
   "outputs": [
    {
     "name": "stdout",
     "output_type": "stream",
     "text": [
      "[1, 2, 3, 4, 5, ['test1', 'test2', 'test3']]\n"
     ]
    }
   ],
   "source": [
    "# avec cet exemple ci-dessous, avec les [], on fait une liste de liste\n",
    "# append ne prend qu'un seul élément de la liste et l'ajoute en tant que tel, il prend la liste et l'ajoute en tant qu'un seul élément\n",
    "list_1 = [1, 2, 3, 4, 5]\n",
    "add_3 = [\"test1\", \"test2\", \"test3\"]\n",
    "list_1.append(add_3)\n",
    "print(list_1)"
   ]
  },
  {
   "cell_type": "code",
   "execution_count": 37,
   "metadata": {},
   "outputs": [
    {
     "name": "stdout",
     "output_type": "stream",
     "text": [
      "[1, 2, 3, 4, 5, 'test1', 'test2', 'test3']\n"
     ]
    }
   ],
   "source": [
    "# pour ajouter les éléments de manière individuelle, il faut concaténer les éléments et utiliser la méthode extend\n",
    "list_1 = [1, 2, 3, 4, 5]\n",
    "add_4 = [\"test1\", \"test2\", \"test3\"]\n",
    "list_1.extend(add_4)\n",
    "print(list_1)"
   ]
  },
  {
   "cell_type": "code",
   "execution_count": 38,
   "metadata": {},
   "outputs": [
    {
     "name": "stdout",
     "output_type": "stream",
     "text": [
      "[1, 3, 4]\n"
     ]
    }
   ],
   "source": [
    "# pour retirer des éléments\n",
    "# operation in place: la suppression se fait directement dans la collection de données et non en redéfinissant une variable\n",
    "list_1 = [1, 2, 3, 4]\n",
    "del(list_1[1])\n",
    "print(list_1)"
   ]
  },
  {
   "cell_type": "code",
   "execution_count": 39,
   "metadata": {},
   "outputs": [
    {
     "name": "stdout",
     "output_type": "stream",
     "text": [
      "[2, 3, 4]\n"
     ]
    }
   ],
   "source": [
    "# autre méthode = remove\n",
    "# va chercher le premier élément de la list_1 et le retire de la liste\n",
    "# != d'une indexation donc on commence par 1\n",
    "list_1 = [1, 2, 3, 4]\n",
    "list_1.remove(1)\n",
    "print(list_1)"
   ]
  },
  {
   "cell_type": "code",
   "execution_count": 40,
   "metadata": {},
   "outputs": [
    {
     "name": "stdout",
     "output_type": "stream",
     "text": [
      "[1, 2, 3, 'to_remove', 4, 'to_remove']\n"
     ]
    }
   ],
   "source": [
    "# enlever les éléments redondants dans une liste\n",
    "# exemple ici avec remove = il s arrete bien à la première itération\n",
    "list_1 = [1, 2, 'to_remove', 3, 'to_remove', 4, 'to_remove']\n",
    "list_1.remove('to_remove')\n",
    "print(list_1)"
   ]
  },
  {
   "cell_type": "code",
   "execution_count": 41,
   "metadata": {},
   "outputs": [
    {
     "name": "stdout",
     "output_type": "stream",
     "text": [
      "[1, 2, 3, 4]\n"
     ]
    }
   ],
   "source": [
    "# inclure une condition pour faire perdurer le code\n",
    "list_1 = [1, 2, 'to_remove', 3, 'to_remove', 4, 'to_remove']\n",
    "while 'to_remove' in list_1:\n",
    "    list_1.remove('to_remove')\n",
    "print(list_1)"
   ]
  },
  {
   "cell_type": "code",
   "execution_count": 42,
   "metadata": {},
   "outputs": [
    {
     "name": "stdout",
     "output_type": "stream",
     "text": [
      "3\n",
      "[1, 2, 4]\n"
     ]
    }
   ],
   "source": [
    "# pop method: fonctionne par index\n",
    "list_1 = [1, 2, 3, 4]\n",
    "elem = list_1.pop(2)\n",
    "print(elem)\n",
    "print(list_1)\n"
   ]
  },
  {
   "cell_type": "code",
   "execution_count": 43,
   "metadata": {},
   "outputs": [
    {
     "name": "stdout",
     "output_type": "stream",
     "text": [
      "[2, 4, 6, 8, 10, 12, 14, 16, 18, 20]\n"
     ]
    }
   ],
   "source": [
    "# première liste\n",
    "list_1 = [1, 2, 3, 4, 5, 6, 7, 8, 9, 10]\n",
    "# deuxième liste se définit par rapport à la précédente, on veut automatiquement multiplier par 2 chaque élément de la liste 1\n",
    "list_2 = [2*x for x in list_1]\n",
    "# la list_2 est la list comprehension\n",
    "print(list_2)"
   ]
  },
  {
   "cell_type": "code",
   "execution_count": 44,
   "metadata": {},
   "outputs": [
    {
     "name": "stdout",
     "output_type": "stream",
     "text": [
      "[2, 4, 6, 8, 10, 12, 14, 16, 18, 20]\n"
     ]
    }
   ],
   "source": [
    "list_2 = []\n",
    "for i in list_1:\n",
    "    list_2.append(2*i)\n",
    "print(list_2)"
   ]
  },
  {
   "cell_type": "code",
   "execution_count": 45,
   "metadata": {},
   "outputs": [
    {
     "name": "stdout",
     "output_type": "stream",
     "text": [
      "[3, 4, 5, 6, 7, 8, 9, 10]\n"
     ]
    }
   ],
   "source": [
    "# première liste\n",
    "list_1 = [1, 2, 3, 4, 5, 6, 7, 8, 9, 10]\n",
    "# on demande à la nouvelle liste de récupérer les éléments de la list_1 seulement si la valeur est supérieure à 2\n",
    "list_3 = [x for x in list_1 if x > 2]\n",
    "print(list_3)"
   ]
  },
  {
   "cell_type": "code",
   "execution_count": 48,
   "metadata": {},
   "outputs": [
    {
     "name": "stdout",
     "output_type": "stream",
     "text": [
      "[3, 4, 5, 6, 7, 8, 9, 10]\n"
     ]
    }
   ],
   "source": [
    "# alternative\n",
    "list_3 = []\n",
    "for i in list_1:\n",
    "    if i > 2:\n",
    "        list_3.append(i)\n",
    "print(list_3)"
   ]
  },
  {
   "cell_type": "code",
   "execution_count": 49,
   "metadata": {},
   "outputs": [
    {
     "name": "stdout",
     "output_type": "stream",
     "text": [
      "[2, 3, 4, 5, 6, 7, 8]\n"
     ]
    }
   ],
   "source": [
    "# première liste\n",
    "list_1 = [1, 2, 3, 4, 5, 6, 7, 8, 9, 10]\n",
    "# on demande à la nouvelle liste de récupérer les éléments de la list_1 en dessous de ou = à 7 et d'y ajouter 1\n",
    "list_4 = [x + 1 for x in list_1 if x <=7]\n",
    "print(list_4)"
   ]
  },
  {
   "cell_type": "code",
   "execution_count": 51,
   "metadata": {},
   "outputs": [
    {
     "name": "stdout",
     "output_type": "stream",
     "text": [
      "[2, 3, 4, 5, 6, 7, 8]\n"
     ]
    }
   ],
   "source": [
    "# alternative\n",
    "list_4 = []\n",
    "for i in list_1:\n",
    "    if i <= 7:\n",
    "        list_4.append(i+1)\n",
    "print(list_4)"
   ]
  },
  {
   "cell_type": "code",
   "execution_count": null,
   "metadata": {},
   "outputs": [],
   "source": []
  }
 ],
 "metadata": {
  "kernelspec": {
   "display_name": "Python 3",
   "language": "python",
   "name": "python3"
  },
  "language_info": {
   "codemirror_mode": {
    "name": "ipython",
    "version": 3
   },
   "file_extension": ".py",
   "mimetype": "text/x-python",
   "name": "python",
   "nbconvert_exporter": "python",
   "pygments_lexer": "ipython3",
   "version": "3.12.4"
  }
 },
 "nbformat": 4,
 "nbformat_minor": 2
}
