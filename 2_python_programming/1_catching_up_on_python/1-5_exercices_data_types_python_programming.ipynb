{
 "cells": [
  {
   "cell_type": "markdown",
   "metadata": {},
   "source": [
    "Manipulate data types\n",
    "Here is a list [\"Hello\", \"I\", \"Michel\", \"am\"]\n",
    "\n",
    "Store this list in a variable we'll call michel\n",
    "Make a loop so that the console returns each of the items in the list"
   ]
  },
  {
   "cell_type": "code",
   "execution_count": 23,
   "metadata": {},
   "outputs": [
    {
     "name": "stdout",
     "output_type": "stream",
     "text": [
      "Hello\n",
      "I\n",
      "Michel\n",
      "am\n"
     ]
    }
   ],
   "source": [
    "my_list = [\"Hello\", \"I\", \"Michel\", \"am\"]\n",
    "for word in my_list:\n",
    "     print(word)"
   ]
  },
  {
   "cell_type": "markdown",
   "metadata": {},
   "source": [
    "We have a problem with this sentence, two words are reversed. Find a way to invert the last item with the next-to-last item..."
   ]
  },
  {
   "cell_type": "code",
   "execution_count": 24,
   "metadata": {},
   "outputs": [
    {
     "name": "stdout",
     "output_type": "stream",
     "text": [
      "Hello\n",
      "I\n",
      "am\n",
      "Michel\n"
     ]
    }
   ],
   "source": [
    "first_name = my_list.pop(2) # pop is used to remove one item from a list\n",
    "                            # assign the removed value to first_name\n",
    "my_list.append(first_name) # append first_name to the end of the list\n",
    "for word in my_list:\n",
    "    print(word)"
   ]
  },
  {
   "cell_type": "markdown",
   "metadata": {},
   "source": [
    "Here's a list of ages: [12, 16, 34, 58, 9].\n",
    "\n",
    "Store this age list in a variable that we'll call: age"
   ]
  },
  {
   "cell_type": "markdown",
   "metadata": {},
   "source": [
    "We would like this list to be arranged in ascending order, how do we do that?"
   ]
  },
  {
   "cell_type": "code",
   "execution_count": 25,
   "metadata": {},
   "outputs": [
    {
     "name": "stdout",
     "output_type": "stream",
     "text": [
      "Liste triée (ordre croissant) : [9, 12, 16, 34, 58]\n"
     ]
    }
   ],
   "source": [
    "age = [12, 16, 34, 58, 9]\n",
    "# Trier la liste en ordre croissant\n",
    "age.sort()\n",
    "\n",
    "# Afficher la liste triée\n",
    "print(\"Liste triée (ordre croissant) :\", age)"
   ]
  },
  {
   "cell_type": "code",
   "execution_count": 26,
   "metadata": {},
   "outputs": [
    {
     "name": "stdout",
     "output_type": "stream",
     "text": [
      "[9, 12, 16, 34, 58]\n"
     ]
    }
   ],
   "source": [
    "age = [12,16,34,58,9]\n",
    "order = age.pop(4)\n",
    "age.insert(0,order) # list in ascending order from 0 to ...\n",
    "print(age)"
   ]
  },
  {
   "cell_type": "markdown",
   "metadata": {},
   "source": [
    "Dictionaries\n",
    "We told you that dictionaries are very useful with APIs, so let's try to use the Star Wars API.\n",
    "\n",
    "In your text editor, write:"
   ]
  },
  {
   "cell_type": "code",
   "execution_count": 27,
   "metadata": {},
   "outputs": [],
   "source": [
    "import requests\n",
    "request = requests.get(\"https://swapi.dev/api/people/1/\")\n",
    "dic = request.json()"
   ]
  },
  {
   "cell_type": "markdown",
   "metadata": {},
   "source": [
    "This will make it possible to call the Star Wars API to store it on a dictionary format in a variable called dic.\n",
    "\n",
    "See what's in the dictionary via a loop\n",
    "\n",
    "We'd like to make a nice phrase to describe the character like this:\n",
    "\n",
    "“{{name}} is {{height}} cm tall and weighs {{mass}} kg. He was born in {{birth_year}}”"
   ]
  },
  {
   "cell_type": "code",
   "execution_count": 28,
   "metadata": {},
   "outputs": [
    {
     "name": "stdout",
     "output_type": "stream",
     "text": [
      "Luke Skywalker is 172 cm tall and weighs 77 kg. He was born in 19BBY\n"
     ]
    }
   ],
   "source": [
    "print(\"{} is {} cm tall and weighs {} kg. He was born in {}\".format(dic[\"name\"], dic[\"height\"], dic[\"mass\"], dic[\"birth_year\"])) # {} is used for beig remplaced by values"
   ]
  },
  {
   "cell_type": "code",
   "execution_count": 29,
   "metadata": {},
   "outputs": [
    {
     "data": {
      "text/plain": [
       "{'name': 'Luke Skywalker',\n",
       " 'height': '172',\n",
       " 'mass': '77',\n",
       " 'hair_color': 'blond',\n",
       " 'skin_color': 'fair',\n",
       " 'eye_color': 'blue',\n",
       " 'birth_year': '19BBY',\n",
       " 'gender': 'male',\n",
       " 'homeworld': 'https://swapi.dev/api/planets/1/',\n",
       " 'films': ['https://swapi.dev/api/films/1/',\n",
       "  'https://swapi.dev/api/films/2/',\n",
       "  'https://swapi.dev/api/films/3/',\n",
       "  'https://swapi.dev/api/films/6/'],\n",
       " 'species': [],\n",
       " 'vehicles': ['https://swapi.dev/api/vehicles/14/',\n",
       "  'https://swapi.dev/api/vehicles/30/'],\n",
       " 'starships': ['https://swapi.dev/api/starships/12/',\n",
       "  'https://swapi.dev/api/starships/22/'],\n",
       " 'created': '2014-12-09T13:50:51.644000Z',\n",
       " 'edited': '2014-12-20T21:17:56.891000Z',\n",
       " 'url': 'https://swapi.dev/api/people/1/'}"
      ]
     },
     "execution_count": 29,
     "metadata": {},
     "output_type": "execute_result"
    }
   ],
   "source": [
    "dic"
   ]
  },
  {
   "cell_type": "markdown",
   "metadata": {},
   "source": [
    "Import a new character by changing:"
   ]
  },
  {
   "cell_type": "code",
   "execution_count": 30,
   "metadata": {},
   "outputs": [
    {
     "name": "stdout",
     "output_type": "stream",
     "text": [
      "Luke Skywalker is 172 cm tall and weighs 77 kg. He was born in 19BBY\n"
     ]
    }
   ],
   "source": [
    "import requests\n",
    "request = requests.get(\"https://swapi.dev/api/people/1/\")\n",
    "dic = request.json()\n",
    "\n",
    "print(\"{} is {} cm tall and weighs {} kg. He was born in {}\".format(dic[\"name\"], dic[\"height\"], dic[\"mass\"], dic[\"birth_year\"])) "
   ]
  },
  {
   "cell_type": "code",
   "execution_count": 31,
   "metadata": {},
   "outputs": [
    {
     "name": "stdout",
     "output_type": "stream",
     "text": [
      "Leia Organa is 150 cm tall and weighs 49 kg. He was born in 19BBY\n"
     ]
    }
   ],
   "source": [
    "import requests\n",
    "request = requests.get(\"https://swapi.dev/api/people/5/\")\n",
    "dic = request.json()\n",
    "\n",
    "print(\"{} is {} cm tall and weighs {} kg. He was born in {}\".format(dic[\"name\"], dic[\"height\"], dic[\"mass\"], dic[\"birth_year\"])) "
   ]
  },
  {
   "cell_type": "code",
   "execution_count": 32,
   "metadata": {},
   "outputs": [
    {
     "name": "stdout",
     "output_type": "stream",
     "text": [
      "Leia Organa is 150 cm tall and weighs 49 kg. She was born in 19BBY\n"
     ]
    }
   ],
   "source": [
    "import requests\n",
    "number = 5\n",
    "request = requests.get(\"https://swapi.dev/api/people/{}/\".format(number))\n",
    "dic = request.json()\n",
    "\n",
    "if dic['gender'] == 'male':\n",
    "  print(\"{} is {} cm tall and weighs {} kg. He was born in {}\".format(dic[\"name\"], dic[\"height\"], dic[\"mass\"], dic[\"birth_year\"]))\n",
    "else :\n",
    "  print(\"{} is {} cm tall and weighs {} kg. She was born in {}\".format(dic[\"name\"], dic[\"height\"], dic[\"mass\"], dic[\"birth_year\"]))"
   ]
  },
  {
   "cell_type": "markdown",
   "metadata": {},
   "source": [
    "Slices\n",
    "We have the following dataset: kilometres_travelled = [50, 10, 100, 25, 1000, 21, 12,30].\n",
    "\n",
    "This variable represents a list of kilometres travelled every morning by 8 users to work.\n",
    "Using a loop, calculate the total average of all the users' trips\n",
    "Is this average representative of what all individuals really go through? Why do you think so?"
   ]
  },
  {
   "cell_type": "code",
   "execution_count": 34,
   "metadata": {},
   "outputs": [
    {
     "name": "stdout",
     "output_type": "stream",
     "text": [
      "On average, users travelled 156.0 km to get to work.\n"
     ]
    }
   ],
   "source": [
    "kilometres_travelled = [50, 10, 100, 25, 1000, 21, 12,30]\n",
    "total_km = 0\n",
    "total_users = 0\n",
    "\n",
    "for km in kilometres_travelled:\n",
    "    total_km += km # additionning all items and put into a variable\n",
    "    total_users += 1 # same\n",
    "\n",
    "average_km = total_km/total_users \n",
    "print(\"On average, users travelled {} km to get to work.\".format(average_km))"
   ]
  },
  {
   "cell_type": "markdown",
   "metadata": {},
   "source": [
    "This average is not really representative because it is higher than most of the values in the list. Indeed, the distances are all \n",
    "<\n",
    "=\n",
    "<= 100kms, except one which is worth 1000kms. This value is what is called an outlier (\"outlier\"), which probably corresponds to an erroneous entry (it seems unlikely that someone would travel 1000km every morning to work). To get a more representative average of the sample, this outlier could be removed from the list before calculating the average.\n",
    "\n",
    "Change the variable kilometers_travelled to have a more representative average"
   ]
  },
  {
   "cell_type": "code",
   "execution_count": 35,
   "metadata": {},
   "outputs": [
    {
     "name": "stdout",
     "output_type": "stream",
     "text": [
      "[50, 10, 100, 25, 100, 21, 12, 30]\n"
     ]
    }
   ],
   "source": [
    "kilometres_travelled [4]= 100\n",
    "print(kilometres_travelled)"
   ]
  },
  {
   "cell_type": "code",
   "execution_count": 36,
   "metadata": {},
   "outputs": [
    {
     "name": "stdout",
     "output_type": "stream",
     "text": [
      "[50, 10, 100, 25, 21, 12, 30]\n"
     ]
    }
   ],
   "source": [
    "kilometres_travelled.pop(4)\n",
    "print(kilometres_travelled)"
   ]
  },
  {
   "cell_type": "code",
   "execution_count": 37,
   "metadata": {},
   "outputs": [
    {
     "name": "stdout",
     "output_type": "stream",
     "text": [
      "On average, users travelled 35.42857142857143 km to get to work.\n"
     ]
    }
   ],
   "source": [
    "total_km = 0\n",
    "total_users = 0\n",
    "\n",
    "for km in kilometres_travelled:\n",
    "    total_km += km\n",
    "    total_users += 1\n",
    "\n",
    "average_km = total_km/total_users \n",
    "print(\"On average, users travelled {} km to get to work.\".format(average_km))"
   ]
  },
  {
   "cell_type": "code",
   "execution_count": null,
   "metadata": {},
   "outputs": [],
   "source": []
  }
 ],
 "metadata": {
  "kernelspec": {
   "display_name": "Python 3",
   "language": "python",
   "name": "python3"
  },
  "language_info": {
   "codemirror_mode": {
    "name": "ipython",
    "version": 3
   },
   "file_extension": ".py",
   "mimetype": "text/x-python",
   "name": "python",
   "nbconvert_exporter": "python",
   "pygments_lexer": "ipython3",
   "version": "3.12.4"
  }
 },
 "nbformat": 4,
 "nbformat_minor": 2
}
