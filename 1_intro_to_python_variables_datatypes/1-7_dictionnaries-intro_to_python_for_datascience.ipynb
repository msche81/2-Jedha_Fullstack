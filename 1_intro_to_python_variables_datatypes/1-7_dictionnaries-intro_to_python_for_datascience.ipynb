{
 "cells": [
  {
   "cell_type": "code",
   "execution_count": 1,
   "metadata": {},
   "outputs": [
    {
     "name": "stdout",
     "output_type": "stream",
     "text": [
      "{'Name': 'Antoine', 'Amount': 112}\n"
     ]
    }
   ],
   "source": [
    "friend = {\"Name\": \"Antoine\", \"Amount\": 112}\n",
    "print(friend)"
   ]
  },
  {
   "cell_type": "code",
   "execution_count": 2,
   "metadata": {},
   "outputs": [
    {
     "data": {
      "text/plain": [
       "'Antoine'"
      ]
     },
     "execution_count": 2,
     "metadata": {},
     "output_type": "execute_result"
    }
   ],
   "source": [
    "friend [\"Name\"]"
   ]
  },
  {
   "cell_type": "code",
   "execution_count": 3,
   "metadata": {},
   "outputs": [
    {
     "name": "stdout",
     "output_type": "stream",
     "text": [
      "{'Name': 'Antoine', 'Amount': 49}\n"
     ]
    }
   ],
   "source": [
    "friend [\"Amount\"] = 49\n",
    "print(friend)"
   ]
  },
  {
   "cell_type": "code",
   "execution_count": 4,
   "metadata": {},
   "outputs": [
    {
     "name": "stdout",
     "output_type": "stream",
     "text": [
      "{'Name': 'Antoine', 'Amount': 49, 'Last_Name': 'Krajnc'}\n"
     ]
    }
   ],
   "source": [
    "friend[\"Last_Name\"] = \"Krajnc\"\n",
    "print(friend)"
   ]
  },
  {
   "cell_type": "code",
   "execution_count": 5,
   "metadata": {},
   "outputs": [
    {
     "name": "stdout",
     "output_type": "stream",
     "text": [
      "{'Name': 'Antoine', 'Amount': 49}\n",
      "Krajnc\n"
     ]
    }
   ],
   "source": [
    "last_name = friend.pop(\"Last_Name\")\n",
    "print(friend)\n",
    "print(last_name)"
   ]
  },
  {
   "cell_type": "code",
   "execution_count": 6,
   "metadata": {},
   "outputs": [],
   "source": [
    "friends = input(\"What are the names of your friends? (Separate their names by a comma)\")\n",
    "amounts = input(\"How much each of your friends spent? (Keep the same order as above and separate by a comma)\")"
   ]
  },
  {
   "cell_type": "code",
   "execution_count": 7,
   "metadata": {},
   "outputs": [],
   "source": [
    "list_of_friends = friends.split(\",\")\n",
    "list_of_amounts = amounts.split(\",\")"
   ]
  },
  {
   "cell_type": "code",
   "execution_count": 8,
   "metadata": {},
   "outputs": [
    {
     "name": "stdout",
     "output_type": "stream",
     "text": [
      "[{'Name': 'Emma', 'Amount': '456'}, {'Name': ' Hector', 'Amount': ' 560'}, {'Name': ' Henry', 'Amount': ' 23'}, {'Name': ' Lila', 'Amount': ' 19'}]\n"
     ]
    }
   ],
   "source": [
    "friends = [\n",
    "    {\"Name\": list_of_friends[0], \"Amount\": list_of_amounts[0]},\n",
    "    {\"Name\": list_of_friends[1], \"Amount\": list_of_amounts[1]},\n",
    "    {\"Name\": list_of_friends[2], \"Amount\": list_of_amounts[2]},\n",
    "    {\"Name\": list_of_friends[3], \"Amount\": list_of_amounts[3]}\n",
    "]\n",
    "\n",
    "print(friends)"
   ]
  }
 ],
 "metadata": {
  "kernelspec": {
   "display_name": "Python 3",
   "language": "python",
   "name": "python3"
  },
  "language_info": {
   "codemirror_mode": {
    "name": "ipython",
    "version": 3
   },
   "file_extension": ".py",
   "mimetype": "text/x-python",
   "name": "python",
   "nbconvert_exporter": "python",
   "pygments_lexer": "ipython3",
   "version": "3.12.4"
  }
 },
 "nbformat": 4,
 "nbformat_minor": 2
}
