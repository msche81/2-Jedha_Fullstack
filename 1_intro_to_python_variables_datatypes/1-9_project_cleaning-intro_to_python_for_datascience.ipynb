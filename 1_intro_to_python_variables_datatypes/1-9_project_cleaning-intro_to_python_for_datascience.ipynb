{
 "cells": [
  {
   "cell_type": "code",
   "execution_count": null,
   "metadata": {},
   "outputs": [],
   "source": [
    "friends = input(\"What are the names of your friends? Separate their names by a comma\")\n",
    "amounts = input(\"How much each of your friends spent? Keep the same order as above and separate by a comma\")\n",
    "\n",
    "list_of_friends = friends.split(\",\")\n",
    "list_of_amounts = amounts.split(\",\")"
   ]
  }
 ],
 "metadata": {
  "kernelspec": {
   "display_name": "Python 3",
   "language": "python",
   "name": "python3"
  },
  "language_info": {
   "codemirror_mode": {
    "name": "ipython",
    "version": 3
   },
   "file_extension": ".py",
   "mimetype": "text/x-python",
   "name": "python",
   "nbconvert_exporter": "python",
   "pygments_lexer": "ipython3",
   "version": "3.12.4"
  }
 },
 "nbformat": 4,
 "nbformat_minor": 2
}
