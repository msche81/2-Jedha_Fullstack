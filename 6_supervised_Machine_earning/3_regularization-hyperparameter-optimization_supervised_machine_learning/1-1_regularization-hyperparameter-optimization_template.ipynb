{
 "cells": [
  {
   "cell_type": "code",
   "execution_count": 1,
   "metadata": {},
   "outputs": [],
   "source": [
    "import pandas as pd\n",
    "import numpy as np\n",
    "\n",
    "from sklearn.model_selection import train_test_split\n",
    "from sklearn.pipeline import Pipeline\n",
    "from sklearn.impute import SimpleImputer\n",
    "from sklearn.preprocessing import  OneHotEncoder, StandardScaler\n",
    "from sklearn.compose import ColumnTransformer\n",
    "from sklearn.linear_model import Ridge\n",
    "from sklearn.model_selection import cross_val_score, GridSearchCV\n",
    "from sklearn.metrics import r2_score"
   ]
  },
  {
   "cell_type": "code",
   "execution_count": 6,
   "metadata": {},
   "outputs": [
    {
     "name": "stdout",
     "output_type": "stream",
     "text": [
      "Loading dataset...\n",
      "Dataset loaded successfully. Here are the first few rows:\n"
     ]
    },
    {
     "data": {
      "text/html": [
       "<div>\n",
       "<style scoped>\n",
       "    .dataframe tbody tr th:only-of-type {\n",
       "        vertical-align: middle;\n",
       "    }\n",
       "\n",
       "    .dataframe tbody tr th {\n",
       "        vertical-align: top;\n",
       "    }\n",
       "\n",
       "    .dataframe thead th {\n",
       "        text-align: right;\n",
       "    }\n",
       "</style>\n",
       "<table border=\"1\" class=\"dataframe\">\n",
       "  <thead>\n",
       "    <tr style=\"text-align: right;\">\n",
       "      <th></th>\n",
       "      <th>Country</th>\n",
       "      <th>Age</th>\n",
       "      <th>Salary</th>\n",
       "      <th>Purchased</th>\n",
       "    </tr>\n",
       "  </thead>\n",
       "  <tbody>\n",
       "    <tr>\n",
       "      <th>0</th>\n",
       "      <td>France</td>\n",
       "      <td>44.0</td>\n",
       "      <td>72000</td>\n",
       "      <td>No</td>\n",
       "    </tr>\n",
       "    <tr>\n",
       "      <th>1</th>\n",
       "      <td>Spain</td>\n",
       "      <td>27.0</td>\n",
       "      <td>48000</td>\n",
       "      <td>Yes</td>\n",
       "    </tr>\n",
       "    <tr>\n",
       "      <th>2</th>\n",
       "      <td>Germany</td>\n",
       "      <td>30.0</td>\n",
       "      <td>54000</td>\n",
       "      <td>No</td>\n",
       "    </tr>\n",
       "    <tr>\n",
       "      <th>3</th>\n",
       "      <td>Spain</td>\n",
       "      <td>38.0</td>\n",
       "      <td>61000</td>\n",
       "      <td>No</td>\n",
       "    </tr>\n",
       "    <tr>\n",
       "      <th>4</th>\n",
       "      <td>Germany</td>\n",
       "      <td>40.0</td>\n",
       "      <td>69000</td>\n",
       "      <td>Yes</td>\n",
       "    </tr>\n",
       "  </tbody>\n",
       "</table>\n",
       "</div>"
      ],
      "text/plain": [
       "   Country   Age  Salary Purchased\n",
       "0   France  44.0   72000        No\n",
       "1    Spain  27.0   48000       Yes\n",
       "2  Germany  30.0   54000        No\n",
       "3    Spain  38.0   61000        No\n",
       "4  Germany  40.0   69000       Yes"
      ]
     },
     "metadata": {},
     "output_type": "display_data"
    }
   ],
   "source": [
    "print(\"Loading dataset...\")\n",
    "dataset = pd.read_csv(\"src/Data.csv\")\n",
    "print(\"Dataset loaded successfully. Here are the first few rows:\")\n",
    "display(dataset.head())"
   ]
  },
  {
   "cell_type": "code",
   "execution_count": 7,
   "metadata": {},
   "outputs": [
    {
     "name": "stdout",
     "output_type": "stream",
     "text": [
      "Separating labels from features...\n",
      "...Done.\n",
      "\n",
      "Y (Target Variable):\n",
      "0    72000\n",
      "1    48000\n",
      "2    54000\n",
      "3    61000\n",
      "4    69000\n",
      "Name: Salary, dtype: int64 \n",
      "\n",
      "X (Features):\n",
      "   Country   Age Purchased\n",
      "0   France  44.0        No\n",
      "1    Spain  27.0       Yes\n",
      "2  Germany  30.0        No\n",
      "3    Spain  38.0        No\n",
      "4  Germany  40.0       Yes\n"
     ]
    }
   ],
   "source": [
    "# Séparation de la variable cible et des caractéristiques\n",
    "print(\"Separating labels from features...\")\n",
    "target_variable = \"Salary\"\n",
    "\n",
    "# Vérification de l'existence de la variable cible dans le jeu de données\n",
    "if target_variable in dataset.columns:\n",
    "    X = dataset.drop(columns=[target_variable])\n",
    "    Y = dataset[target_variable]\n",
    "    print(\"...Done.\\n\")\n",
    "\n",
    "    print(\"Y (Target Variable):\")\n",
    "    print(Y.head(), \"\\n\")\n",
    "    \n",
    "    print(\"X (Features):\")\n",
    "    print(X.head())\n",
    "else:\n",
    "    print(f\"Error: The target variable '{target_variable}' does not exist in the dataset.\")"
   ]
  },
  {
   "cell_type": "code",
   "execution_count": 8,
   "metadata": {},
   "outputs": [
    {
     "name": "stdout",
     "output_type": "stream",
     "text": [
      "Found numeric features: ['Age']\n",
      "Found categorical features: ['Country', 'Purchased']\n"
     ]
    }
   ],
   "source": [
    "# Détection automatique des colonnes numériques et catégorielles\n",
    "numeric_features = [col for col in X.columns if X[col].dtype in ['float64', 'int64']]\n",
    "categorical_features = [col for col in X.columns if X[col].dtype == 'object']\n",
    "\n",
    "print(\"Found numeric features:\", numeric_features)\n",
    "print(\"Found categorical features:\", categorical_features)"
   ]
  },
  {
   "cell_type": "code",
   "execution_count": 9,
   "metadata": {},
   "outputs": [
    {
     "name": "stdout",
     "output_type": "stream",
     "text": [
      "Dividing dataset into train and test sets...\n",
      "Train set: 8 samples, Test set: 2 samples\n",
      "...Done.\n",
      "\n"
     ]
    }
   ],
   "source": [
    "# Division du dataset en ensembles d'entraînement et de test\n",
    "print(\"Dividing dataset into train and test sets...\")\n",
    "X_train, X_test, Y_train, Y_test = train_test_split(X, Y, test_size=0.2, random_state=0)\n",
    "print(f\"Train set: {X_train.shape[0]} samples, Test set: {X_test.shape[0]} samples\")\n",
    "print(\"...Done.\\n\")"
   ]
  },
  {
   "cell_type": "markdown",
   "metadata": {},
   "source": [
    "# Preprocessing"
   ]
  },
  {
   "cell_type": "code",
   "execution_count": 10,
   "metadata": {},
   "outputs": [
    {
     "name": "stdout",
     "output_type": "stream",
     "text": [
      "Numeric feature transformer pipeline created.\n"
     ]
    }
   ],
   "source": [
    "# Pipeline de transformation pour les caractéristiques numériques\n",
    "numeric_transformer = Pipeline(steps=[\n",
    "    ('imputer', SimpleImputer(strategy='mean')),  # Remplace les valeurs manquantes par la moyenne des colonnes\n",
    "    ('scaler', StandardScaler())  # Met à l'échelle les données en les centrant et les réduisant\n",
    "])\n",
    "\n",
    "print(\"Numeric feature transformer pipeline created.\")"
   ]
  },
  {
   "cell_type": "code",
   "execution_count": 11,
   "metadata": {},
   "outputs": [
    {
     "name": "stdout",
     "output_type": "stream",
     "text": [
      "Categorical feature transformer pipeline created.\n"
     ]
    }
   ],
   "source": [
    "# Pipeline de transformation pour les caractéristiques catégorielles\n",
    "categorical_transformer = Pipeline(steps=[\n",
    "    ('encoder', OneHotEncoder(drop='first'))  # Applique un encodage One-Hot en supprimant la première catégorie pour éviter les corrélations\n",
    "])\n",
    "\n",
    "print(\"Categorical feature transformer pipeline created.\")"
   ]
  },
  {
   "cell_type": "code",
   "execution_count": 12,
   "metadata": {},
   "outputs": [
    {
     "name": "stdout",
     "output_type": "stream",
     "text": [
      "Preprocessor object created with transformations for numeric and categorical features.\n"
     ]
    }
   ],
   "source": [
    "# Création de l'objet de prétraitement qui applique les transformations aux colonnes numériques et catégorielles\n",
    "preprocessor = ColumnTransformer(\n",
    "    transformers=[\n",
    "        ('num', numeric_transformer, numeric_features),     # Applique le pipeline numérique aux caractéristiques numériques\n",
    "        ('cat', categorical_transformer, categorical_features)  # Applique le pipeline catégoriel aux caractéristiques catégorielles\n",
    "    ]\n",
    ")\n",
    "\n",
    "print(\"Preprocessor object created with transformations for numeric and categorical features.\")"
   ]
  },
  {
   "cell_type": "code",
   "execution_count": 13,
   "metadata": {},
   "outputs": [
    {
     "name": "stdout",
     "output_type": "stream",
     "text": [
      "Performing preprocessing on train set...\n",
      "   Country   Age Purchased\n",
      "4  Germany  40.0       Yes\n",
      "9   France  37.0       Yes\n",
      "1    Spain  27.0       Yes\n",
      "6    Spain   NaN        No\n",
      "7   France  48.0       Yes\n",
      "...Done.\n",
      "   num__Age  cat__Country_Germany  cat__Country_Spain  cat__Purchased_Yes\n",
      "0  0.270637                   1.0                 0.0                 1.0\n",
      "1 -0.246034                   0.0                 0.0                 1.0\n",
      "2 -1.968271                   0.0                 1.0                 1.0\n",
      "3  0.000000                   0.0                 1.0                 0.0\n",
      "4  1.648427                   0.0                 0.0                 1.0\n",
      "\n",
      "Performing preprocessing on test set...\n",
      "   Country   Age Purchased\n",
      "2  Germany  30.0        No\n",
      "8  Germany  50.0        No\n",
      "...Done.\n",
      "   num__Age  cat__Country_Germany  cat__Country_Spain  cat__Purchased_Yes\n",
      "0 -1.451600                   1.0                 0.0                 0.0\n",
      "1  1.992875                   1.0                 0.0                 0.0\n",
      "\n"
     ]
    }
   ],
   "source": [
    "# Prétraitement sur l'ensemble d'entraînement\n",
    "print(\"Performing preprocessing on train set...\")\n",
    "print(X_train.head())\n",
    "X_train = preprocessor.fit_transform(X_train)\n",
    "print(\"...Done.\")\n",
    "\n",
    "# Convertit en DataFrame pour garder les noms de colonnes après transformation\n",
    "X_train = pd.DataFrame(X_train, columns=preprocessor.get_feature_names_out())\n",
    "print(X_train.head())\n",
    "\n",
    "print()\n",
    "\n",
    "# Prétraitement sur l'ensemble de test\n",
    "print(\"Performing preprocessing on test set...\")\n",
    "print(X_test.head())\n",
    "X_test = preprocessor.transform(X_test)  # Ne pas refit ici\n",
    "print(\"...Done.\")\n",
    "\n",
    "# Convertit en DataFrame pour garder les noms de colonnes après transformation\n",
    "X_test = pd.DataFrame(X_test, columns=preprocessor.get_feature_names_out())\n",
    "print(X_test.head())\n",
    "print()"
   ]
  },
  {
   "cell_type": "markdown",
   "metadata": {},
   "source": [
    "# Cross-validated score for a Ridge model (with default value of λ)"
   ]
  },
  {
   "cell_type": "code",
   "execution_count": 14,
   "metadata": {},
   "outputs": [
    {
     "name": "stdout",
     "output_type": "stream",
     "text": [
      "Performing 3-fold cross-validation with Ridge regression...\n",
      "The mean cross-validated R2-score is: 0.7149\n",
      "The standard deviation of R2-scores is: 0.0927\n"
     ]
    }
   ],
   "source": [
    "# 3-fold cross-validation avec modèle Ridge pour évaluer le score R2\n",
    "print(\"Performing 3-fold cross-validation with Ridge regression...\")\n",
    "regressor = Ridge()\n",
    "scores = cross_val_score(regressor, X_train, Y_train, cv=3, scoring='r2')\n",
    "\n",
    "print(f'The mean cross-validated R2-score is: {scores.mean():.4f}')\n",
    "print(f'The standard deviation of R2-scores is: {scores.std():.4f}')"
   ]
  },
  {
   "cell_type": "markdown",
   "metadata": {},
   "source": [
    "# Grid search : tune λ"
   ]
  },
  {
   "cell_type": "code",
   "execution_count": 15,
   "metadata": {},
   "outputs": [
    {
     "name": "stdout",
     "output_type": "stream",
     "text": [
      "Performing grid search with cross-validation for Ridge regression...\n",
      "Fitting 3 folds for each of 4 candidates, totalling 12 fits\n",
      "...Done.\n",
      "Best hyperparameters: {'alpha': 1.0}\n",
      "Best cross-validated R2 score: 0.7149\n"
     ]
    }
   ],
   "source": [
    "# Recherche par grille (Grid Search) pour la régression Ridge\n",
    "print(\"Performing grid search with cross-validation for Ridge regression...\")\n",
    "\n",
    "# Grille des valeurs de l'hyperparamètre alpha à tester\n",
    "params = {\n",
    "    'alpha': [0.0, 0.1, 0.5, 1.0]  # 0 correspond à l'absence de régularisation\n",
    "}\n",
    "\n",
    "# Configuration de la recherche par grille avec validation croisée\n",
    "gridsearch = GridSearchCV(estimator=regressor, param_grid=params, cv=3, scoring='r2', n_jobs=-1, verbose=1)\n",
    "gridsearch.fit(X_train, Y_train)\n",
    "\n",
    "print(\"...Done.\")\n",
    "print(\"Best hyperparameters:\", gridsearch.best_params_)\n",
    "print(f\"Best cross-validated R2 score: {gridsearch.best_score_:.4f}\")"
   ]
  },
  {
   "cell_type": "markdown",
   "metadata": {},
   "source": [
    "# Performance assessment"
   ]
  },
  {
   "cell_type": "code",
   "execution_count": 16,
   "metadata": {},
   "outputs": [
    {
     "name": "stdout",
     "output_type": "stream",
     "text": [
      "R2 score on training set :  0.8859961574542502\n",
      "R2 score on test set :  0.931688781048901\n"
     ]
    }
   ],
   "source": [
    "# Print R^2 scores\n",
    "print(\"R2 score on training set : \", gridsearch.score(X_train, Y_train))\n",
    "print(\"R2 score on test set : \", gridsearch.score(X_test, Y_test))"
   ]
  },
  {
   "cell_type": "markdown",
   "metadata": {},
   "source": [
    "# Final remarks\n",
    "Here, we can see that the model's generalized performance was improved by using a Ridge regression and tuning the value of the regularization strength. Indeed, without regularization, the R2 typically varies between 0.6 and 0.8, whereas with a regularized model we achieve a test score greater than 0.9 🥳🥳"
   ]
  },
  {
   "cell_type": "markdown",
   "metadata": {},
   "source": []
  }
 ],
 "metadata": {
  "kernelspec": {
   "display_name": ".venv",
   "language": "python",
   "name": "python3"
  },
  "language_info": {
   "codemirror_mode": {
    "name": "ipython",
    "version": 3
   },
   "file_extension": ".py",
   "mimetype": "text/x-python",
   "name": "python",
   "nbconvert_exporter": "python",
   "pygments_lexer": "ipython3",
   "version": "3.12.7"
  }
 },
 "nbformat": 4,
 "nbformat_minor": 2
}
