{
 "cells": [
  {
   "cell_type": "code",
   "execution_count": 21,
   "metadata": {},
   "outputs": [],
   "source": [
    "import boto3"
   ]
  },
  {
   "cell_type": "code",
   "execution_count": 22,
   "metadata": {},
   "outputs": [],
   "source": [
    "# Initialiser la ressource S3\n",
    "s3 = boto3.resource(\"s3\")"
   ]
  },
  {
   "cell_type": "code",
   "execution_count": 23,
   "metadata": {},
   "outputs": [],
   "source": [
    "# Créer le bucket\n",
    "bucket = s3.create_bucket(\n",
    "    Bucket=\"fullstack-data-sc-eng-boto3\", \n",
    "    CreateBucketConfiguration={'LocationConstraint': 'eu-central-1'}\n",
    ")"
   ]
  },
  {
   "cell_type": "code",
   "execution_count": 28,
   "metadata": {},
   "outputs": [
    {
     "data": {
      "text/plain": [
       "{'ResponseMetadata': {'RequestId': 'YY5W5YZRDX4EV0EM',\n",
       "  'HostId': 'IBnm9v+HA2MLUve1Z2udLtOriqcLRBvUAKC7irjjN8MvPNJXYPcCK8lcHHQGVgx6nVTm28pBxXaAXfcJ5pMuhg==',\n",
       "  'HTTPStatusCode': 200,\n",
       "  'HTTPHeaders': {'x-amz-id-2': 'IBnm9v+HA2MLUve1Z2udLtOriqcLRBvUAKC7irjjN8MvPNJXYPcCK8lcHHQGVgx6nVTm28pBxXaAXfcJ5pMuhg==',\n",
       "   'x-amz-request-id': 'YY5W5YZRDX4EV0EM',\n",
       "   'date': 'Mon, 16 Sep 2024 15:18:54 GMT',\n",
       "   'server': 'AmazonS3',\n",
       "   'content-length': '0'},\n",
       "  'RetryAttempts': 0}}"
      ]
     },
     "execution_count": 28,
     "metadata": {},
     "output_type": "execute_result"
    }
   ],
   "source": [
    "# Définir l'ACL en 'private' via l'objet Bucket\n",
    "bucket.Acl().put(ACL='private')"
   ]
  },
  {
   "cell_type": "code",
   "execution_count": 29,
   "metadata": {},
   "outputs": [
    {
     "data": {
      "text/plain": [
       "s3.Object(bucket_name='fullstack-data-sc-eng-boto3', key='test.csv')"
      ]
     },
     "execution_count": 29,
     "metadata": {},
     "output_type": "execute_result"
    }
   ],
   "source": [
    "# Téléchargez un objet\n",
    "bucket.put_object(\n",
    "    Key='test.csv',\n",
    "    Body='col1,col2,col3\\n5,6,7\\n1,2,3',\n",
    "    ContentType='text/csv'  # Optionnel, pour définir le type de contenu\n",
    ")"
   ]
  },
  {
   "cell_type": "code",
   "execution_count": 32,
   "metadata": {},
   "outputs": [
    {
     "name": "stdout",
     "output_type": "stream",
     "text": [
      "L'objet est accessible\n",
      "Contenu : col1,col2,col3\n",
      "5,6,7\n",
      "1,2,3\n"
     ]
    }
   ],
   "source": [
    "import requests\n",
    "\n",
    "url = \"https://fullstack-data-sc-eng-boto3.s3.eu-central-1.amazonaws.com/test.csv\"\n",
    "response = requests.get(url)\n",
    "\n",
    "if response.status_code == 200:\n",
    "    print(\"L'objet est accessible\")\n",
    "    print(\"Contenu :\", response.text)\n",
    "else:\n",
    "    print(\"Erreur :\", response.status_code)"
   ]
  },
  {
   "cell_type": "code",
   "execution_count": 34,
   "metadata": {},
   "outputs": [],
   "source": [
    "# Télécharger le fichier\n",
    "bucket.download_file('test.csv', 'test.csv')"
   ]
  },
  {
   "cell_type": "code",
   "execution_count": 36,
   "metadata": {},
   "outputs": [],
   "source": [
    "# Spécifier le bucket et le fichier\n",
    "bucket_name = 'fullstack-data-sc-eng-boto3'\n",
    "object_key = 'test.csv'\n",
    "local_file_path = '/Users/marie-sophiechenevier/Dropbox/8-Jedha/GitHub/2-Jedha_Fullstack/test.csv'\n",
    "\n",
    "# Télécharger le fichier depuis S3\n",
    "bucket = s3.Bucket(bucket_name)\n",
    "bucket.download_file(object_key, local_file_path)"
   ]
  },
  {
   "cell_type": "code",
   "execution_count": 37,
   "metadata": {},
   "outputs": [],
   "source": [
    "# Spécifier le bucket et le fichier\n",
    "bucket_name = 'fullstack-data-sc-eng-boto3'\n",
    "local_file_path1 = '/Users/marie-sophiechenevier/Dropbox/8-Jedha/GitHub/2-Jedha_Fullstack/Autres_tuto/scraping-browser.py'\n",
    "object_key = 'test_upload'\n",
    "\n",
    "# Télécharger le fichier vers S3 avec ACL public\n",
    "bucket = s3.Bucket(bucket_name)\n",
    "bucket.upload_file(local_file_path1, object_key, ExtraArgs={'ACL': 'public-read'})"
   ]
  },
  {
   "cell_type": "code",
   "execution_count": 38,
   "metadata": {},
   "outputs": [
    {
     "data": {
      "text/plain": [
       "{'ResponseMetadata': {'RequestId': '3PF00QV518RV9Z7Z',\n",
       "  'HostId': 'wvvpYsDyeA5nv1gsrE5o5/VyjwWfrYqdBdkibGrOQ+S5ZYUmiUyqhZgsAsKke8nm14uafr6HbOE=',\n",
       "  'HTTPStatusCode': 204,\n",
       "  'HTTPHeaders': {'x-amz-id-2': 'wvvpYsDyeA5nv1gsrE5o5/VyjwWfrYqdBdkibGrOQ+S5ZYUmiUyqhZgsAsKke8nm14uafr6HbOE=',\n",
       "   'x-amz-request-id': '3PF00QV518RV9Z7Z',\n",
       "   'date': 'Mon, 16 Sep 2024 16:16:05 GMT',\n",
       "   'server': 'AmazonS3'},\n",
       "  'RetryAttempts': 0}}"
      ]
     },
     "execution_count": 38,
     "metadata": {},
     "output_type": "execute_result"
    }
   ],
   "source": [
    "# bucket = s3.Bucket(\"fullstack-data-sc-eng-boto3\")\n",
    "bucket.objects.all().delete()\n",
    "bucket.delete()"
   ]
  },
  {
   "cell_type": "code",
   "execution_count": null,
   "metadata": {},
   "outputs": [],
   "source": []
  }
 ],
 "metadata": {
  "kernelspec": {
   "display_name": "Python 3",
   "language": "python",
   "name": "python3"
  },
  "language_info": {
   "codemirror_mode": {
    "name": "ipython",
    "version": 3
   },
   "file_extension": ".py",
   "mimetype": "text/x-python",
   "name": "python",
   "nbconvert_exporter": "python",
   "pygments_lexer": "ipython3",
   "version": "3.12.6"
  }
 },
 "nbformat": 4,
 "nbformat_minor": 2
}
