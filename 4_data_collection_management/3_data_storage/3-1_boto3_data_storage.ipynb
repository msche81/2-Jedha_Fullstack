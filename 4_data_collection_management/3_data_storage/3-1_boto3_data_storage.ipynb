{
 "cells": [
  {
   "cell_type": "code",
   "execution_count": 21,
   "metadata": {},
   "outputs": [],
   "source": [
    "import boto3"
   ]
  },
  {
   "cell_type": "code",
   "execution_count": 22,
   "metadata": {},
   "outputs": [],
   "source": [
    "# Initialiser la ressource S3\n",
    "s3 = boto3.resource(\"s3\")"
   ]
  },
  {
   "cell_type": "code",
   "execution_count": 23,
   "metadata": {},
   "outputs": [],
   "source": [
    "# Créer le bucket\n",
    "bucket = s3.create_bucket(\n",
    "    Bucket=\"fullstack-data-sc-eng-boto3\", \n",
    "    CreateBucketConfiguration={'LocationConstraint': 'eu-central-1'}\n",
    ")"
   ]
  },
  {
   "cell_type": "code",
   "execution_count": 28,
   "metadata": {},
   "outputs": [
    {
     "data": {
      "text/plain": [
       "{'ResponseMetadata': {'RequestId': 'YY5W5YZRDX4EV0EM',\n",
       "  'HostId': 'IBnm9v+HA2MLUve1Z2udLtOriqcLRBvUAKC7irjjN8MvPNJXYPcCK8lcHHQGVgx6nVTm28pBxXaAXfcJ5pMuhg==',\n",
       "  'HTTPStatusCode': 200,\n",
       "  'HTTPHeaders': {'x-amz-id-2': 'IBnm9v+HA2MLUve1Z2udLtOriqcLRBvUAKC7irjjN8MvPNJXYPcCK8lcHHQGVgx6nVTm28pBxXaAXfcJ5pMuhg==',\n",
       "   'x-amz-request-id': 'YY5W5YZRDX4EV0EM',\n",
       "   'date': 'Mon, 16 Sep 2024 15:18:54 GMT',\n",
       "   'server': 'AmazonS3',\n",
       "   'content-length': '0'},\n",
       "  'RetryAttempts': 0}}"
      ]
     },
     "execution_count": 28,
     "metadata": {},
     "output_type": "execute_result"
    }
   ],
   "source": [
    "# Définir l'ACL en 'private' via l'objet Bucket\n",
    "bucket.Acl().put(ACL='private')"
   ]
  },
  {
   "cell_type": "code",
   "execution_count": null,
   "metadata": {},
   "outputs": [],
   "source": []
  }
 ],
 "metadata": {
  "kernelspec": {
   "display_name": "Python 3",
   "language": "python",
   "name": "python3"
  },
  "language_info": {
   "codemirror_mode": {
    "name": "ipython",
    "version": 3
   },
   "file_extension": ".py",
   "mimetype": "text/x-python",
   "name": "python",
   "nbconvert_exporter": "python",
   "pygments_lexer": "ipython3",
   "version": "3.12.4"
  }
 },
 "nbformat": 4,
 "nbformat_minor": 2
}
