{
 "cells": [
  {
   "cell_type": "code",
   "execution_count": 1,
   "metadata": {},
   "outputs": [],
   "source": [
    "# import os => library used to easily manipulate operating systems\n",
    "## more info => http://docs.python.org/3/library/os.html\n",
    "import os\n",
    "\n",
    "# import logging => library used for logs manipulation\n",
    "## more info => https://docs.python.org/3/library/logging.html\n",
    "import logging\n",
    "\n",
    "# import scrapy and scrapy.crawler\n",
    "import scrapy\n",
    "from scrapy.crawler import CrawlerProcess"
   ]
  },
  {
   "cell_type": "code",
   "execution_count": null,
   "metadata": {},
   "outputs": [],
   "source": [
    "class RandomQuoteSpider(scrapy.Spider): #classe héritière de scrapy.spider\n",
    "    # Name of your Spider\n",
    "    name = \"randomquote\""
   ]
  }
 ],
 "metadata": {
  "kernelspec": {
   "display_name": "Python 3",
   "language": "python",
   "name": "python3"
  },
  "language_info": {
   "codemirror_mode": {
    "name": "ipython",
    "version": 3
   },
   "file_extension": ".py",
   "mimetype": "text/x-python",
   "name": "python",
   "nbconvert_exporter": "python",
   "pygments_lexer": "ipython3",
   "version": "3.12.4"
  }
 },
 "nbformat": 4,
 "nbformat_minor": 2
}
