{
 "cells": [
  {
   "cell_type": "code",
   "execution_count": 1,
   "metadata": {},
   "outputs": [],
   "source": [
    "# import os => library used to easily manipulate operating systems\n",
    "## more info => http://docs.python.org/3/library/os.html\n",
    "import os\n",
    "\n",
    "# import logging => library used for logs manipulation\n",
    "## more info => https://docs.python.org/3/library/logging.html\n",
    "import logging\n",
    "\n",
    "# import scrapy and scrapy.crawler\n",
    "import scrapy\n",
    "from scrapy.crawler import CrawlerProcess # lancer les spiders sur le web"
   ]
  },
  {
   "cell_type": "code",
   "execution_count": 2,
   "metadata": {},
   "outputs": [],
   "source": [
    "class RandomQuoteSpider(scrapy.Spider): #classe héritière de scrapy.spider\n",
    "    # Name of your Spider\n",
    "    name = \"randomquote\"\n",
    "\n",
    "    # Url to start your spider from\n",
    "    start_urls = [\n",
    "\t    'http://quotes.toscrape.com/random',\n",
    "\t    ]\n",
    "    \n",
    "    # callback function that will be called when starting your spider\n",
    "    # It will get text, author and tags of the first <div> with class=\"quote\"\n",
    "    def parse(self, response):\n",
    "        quote = response.css('div.quote')\n",
    "        return {\n",
    "            'text': quote.css('span.text::text').get(),\n",
    "            'author' :quote.css('span small.author::text').get(),\n",
    "            'tags' :quote.css('div.tags a.tag::text').getall(),\n",
    "        }"
   ]
  },
  {
   "cell_type": "code",
   "execution_count": 6,
   "metadata": {},
   "outputs": [
    {
     "ename": "FileNotFoundError",
     "evalue": "[Errno 2] No such file or directory: '1_HTTP_APIs/'",
     "output_type": "error",
     "traceback": [
      "\u001b[0;31m---------------------------------------------------------------------------\u001b[0m",
      "\u001b[0;31mFileNotFoundError\u001b[0m                         Traceback (most recent call last)",
      "Cell \u001b[0;32mIn[6], line 6\u001b[0m\n\u001b[1;32m      2\u001b[0m filename \u001b[38;5;241m=\u001b[39m \u001b[38;5;124m\"\u001b[39m\u001b[38;5;124m1_randomquote.json\u001b[39m\u001b[38;5;124m\"\u001b[39m\n\u001b[1;32m      4\u001b[0m \u001b[38;5;66;03m# If file already exists, delete it before crawling (because Scrapy will\u001b[39;00m\n\u001b[1;32m      5\u001b[0m \u001b[38;5;66;03m# concatenate the last and new results otherwise)\u001b[39;00m\n\u001b[0;32m----> 6\u001b[0m \u001b[38;5;28;01mif\u001b[39;00m filename \u001b[38;5;129;01min\u001b[39;00m \u001b[43mos\u001b[49m\u001b[38;5;241;43m.\u001b[39;49m\u001b[43mlistdir\u001b[49m\u001b[43m(\u001b[49m\u001b[38;5;124;43m'\u001b[39;49m\u001b[38;5;124;43m1_HTTP_APIs/\u001b[39;49m\u001b[38;5;124;43m'\u001b[39;49m\u001b[43m)\u001b[49m:\n\u001b[1;32m      7\u001b[0m         os\u001b[38;5;241m.\u001b[39mremove(\u001b[38;5;124m'\u001b[39m\u001b[38;5;124m1_HTTP_APIs/\u001b[39m\u001b[38;5;124m'\u001b[39m \u001b[38;5;241m+\u001b[39m filename)\n\u001b[1;32m      9\u001b[0m \u001b[38;5;66;03m# Declare a new CrawlerProcess with some settings\u001b[39;00m\n\u001b[1;32m     10\u001b[0m \u001b[38;5;66;03m## USER AGENT => Simulates a browser on an OS\u001b[39;00m\n\u001b[1;32m     11\u001b[0m \u001b[38;5;66;03m## LOG_LEVEL => Minimal Level of Log\u001b[39;00m\n\u001b[1;32m     12\u001b[0m \u001b[38;5;66;03m## FEEDS => Where the file will be stored\u001b[39;00m\n\u001b[1;32m     13\u001b[0m \u001b[38;5;66;03m## More info on built-in settings => https://docs.scrapy.org/en/latest/topics/settings.html#topics-settings-ref\u001b[39;00m\n",
      "\u001b[0;31mFileNotFoundError\u001b[0m: [Errno 2] No such file or directory: '1_HTTP_APIs/'"
     ]
    }
   ],
   "source": [
    "# Name of the file where the results will be saved\n",
    "filename = \"1_randomquote.json\"\n",
    "\n",
    "# If file already exists, delete it before crawling (because Scrapy will\n",
    "# concatenate the last and new results otherwise)\n",
    "if filename in os.listdir('src/'):\n",
    "        os.remove('src/' + filename)\n",
    "\n",
    "# Declare a new CrawlerProcess with some settings\n",
    "## USER AGENT => Simulates a browser on an OS\n",
    "## LOG_LEVEL => Minimal Level of Log\n",
    "## FEEDS => Where the file will be stored\n",
    "## More info on built-in settings => https://docs.scrapy.org/en/latest/topics/settings.html#topics-settings-ref\n",
    "process = CrawlerProcess(settings={\n",
    "        'USER_AGENT': 'Mozilla/4.0 (compatible; MSIE 7.0; Windows NT 5.1)',\n",
    "        'LOG_LEVEL': logging.INFO,\n",
    "        \"FEEDS\":{\n",
    "                'src/' + filename : {\"format\":\"json\"},\n",
    "        }\n",
    "})\n",
    "\n",
    "# Start the crawling using the spider you defined above\n",
    "process.crawl(RandomQuoteSpider)\n",
    "process.start()"
   ]
  },
  {
   "cell_type": "code",
   "execution_count": null,
   "metadata": {},
   "outputs": [],
   "source": []
  }
 ],
 "metadata": {
  "kernelspec": {
   "display_name": "Python 3",
   "language": "python",
   "name": "python3"
  },
  "language_info": {
   "codemirror_mode": {
    "name": "ipython",
    "version": 3
   },
   "file_extension": ".py",
   "mimetype": "text/x-python",
   "name": "python",
   "nbconvert_exporter": "python",
   "pygments_lexer": "ipython3",
   "version": "3.12.4"
  }
 },
 "nbformat": 4,
 "nbformat_minor": 2
}
