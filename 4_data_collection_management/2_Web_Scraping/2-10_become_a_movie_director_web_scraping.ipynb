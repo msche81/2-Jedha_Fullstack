{
 "cells": [
  {
   "cell_type": "code",
   "execution_count": 1,
   "metadata": {},
   "outputs": [],
   "source": [
    "import os\n",
    "import logging\n",
    "import scrapy\n",
    "from scrapy.crawler import CrawlerProcess"
   ]
  },
  {
   "cell_type": "code",
   "execution_count": 2,
   "metadata": {},
   "outputs": [],
   "source": [
    "!mkdir \"01-Become_a_movie_director\""
   ]
  },
  {
   "cell_type": "code",
   "execution_count": null,
   "metadata": {},
   "outputs": [],
   "source": [
    "class imdb_spider(scrapy.Spider):\n",
    "    name = \"imdb\"\n",
    "    start_urls = [\n",
    "        'https://www.imdb.com/chart/boxoffice',\n",
    "    ]\n",
    "    def parse(self, response):\n",
    "        return {\n",
    "            \"ranking\": response.xpath('/html/body/div[2]/main/div/div[3]/section/div/div[2]/div/ul/li[1]/div[2]/div/div/div/a/h3/text()').get().split(\".\")[0]\n",
    "            ,\n",
    "            \"title\": response.xpath('/html/body/div[2]/main/div/div[3]/section/div/div[2]/div/ul/li[1]/div[2]/div/div/div/a/h3/text()').get().split(\".\")[1].strip(\" \")\n",
    "            , \n",
    "            \"url\": response.xpath('/html/body/div[2]/main/div/div[3]/section/div/div[2]/div/ul/li[1]/div[2]/div/div/div/a').attrib[\"href\"]\n",
    "            ,\n",
    "            \"total_earnings\": response.xpath('/html/body/div[2]/main/div/div[3]/section/div/div[2]/div/ul/li[1]/div[2]/div/div/ul/li[2]/span[2]/text()').get()\n",
    "            ,\n",
    "            \"rating\": response.xpath('/html/body/div[2]/main/div/div[3]/section/div/div[2]/div/ul/li[1]/div[2]/div/div/span/div/span/text()').get()\n",
    "            ,\n",
    "            \"nb_voters\": response.xpath('/html/body/div[2]/main/div/div[3]/section/div/div[2]/div/ul/li[1]/div[2]/div/div/span/div/span/span/text()').getall()[1]            \n",
    "        }\n",
    "\n",
    "filename = \"imdb1.json\"\n",
    "\n",
    "if filename in os.listdir('01-Become_a_movie_director/'):\n",
    "        os.remove('01-Become_a_movie_director/' + filename)\n",
    "\n",
    "process = CrawlerProcess(settings={\n",
    "        'USER_AGENT': 'Mozilla/4.0 (compatible; MSIE 7.0; Windows NT 5.1)',\n",
    "        'LOG_LEVEL': logging.INFO,\n",
    "        \"FEEDS\":{\n",
    "                '01-Become_a_movie_director/' + filename : {\"format\":\"json\"},\n",
    "        }\n",
    "})\n"
   ]
  }
 ],
 "metadata": {
  "kernelspec": {
   "display_name": "Python 3",
   "language": "python",
   "name": "python3"
  },
  "language_info": {
   "codemirror_mode": {
    "name": "ipython",
    "version": 3
   },
   "file_extension": ".py",
   "mimetype": "text/x-python",
   "name": "python",
   "nbconvert_exporter": "python",
   "pygments_lexer": "ipython3",
   "version": "3.12.4"
  }
 },
 "nbformat": 4,
 "nbformat_minor": 2
}
