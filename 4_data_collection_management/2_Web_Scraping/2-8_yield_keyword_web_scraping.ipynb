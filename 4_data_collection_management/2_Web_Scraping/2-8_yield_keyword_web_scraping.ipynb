{
 "cells": [
  {
   "cell_type": "code",
   "execution_count": 3,
   "metadata": {},
   "outputs": [],
   "source": [
    "# Simple function with return keyword\n",
    "def return_list(a_list):\n",
    "\tfor i in range(len(a_list)):\n",
    "\t\ta_list[i] *=2\n",
    "\treturn a_list"
   ]
  },
  {
   "cell_type": "code",
   "execution_count": 5,
   "metadata": {},
   "outputs": [],
   "source": [
    "# Function with yield keyword\n",
    "def return_with_yield(a_list):\n",
    "\tfor i in range(len(a_list)):\n",
    "\t\tyield a_list[i] *2"
   ]
  },
  {
   "cell_type": "code",
   "execution_count": 6,
   "metadata": {},
   "outputs": [
    {
     "data": {
      "text/plain": [
       "[0, 2, 4, 6, 8, 10, 12, 14, 16, 18]"
      ]
     },
     "execution_count": 6,
     "metadata": {},
     "output_type": "execute_result"
    }
   ],
   "source": [
    "# Create a list of numbers from 0 to 9\n",
    "random_list = [x for x in range(10)]\n",
    "# returns a list\n",
    "return_list(random_list)"
   ]
  },
  {
   "cell_type": "code",
   "execution_count": null,
   "metadata": {},
   "outputs": [],
   "source": [
    "# Create a list of numbers from 0 to 9\n",
    "random_list = [x for x in range(10)]\n",
    "# function with yield\n",
    "return_with_yield(random_list)"
   ]
  }
 ],
 "metadata": {
  "kernelspec": {
   "display_name": "Python 3",
   "language": "python",
   "name": "python3"
  },
  "language_info": {
   "codemirror_mode": {
    "name": "ipython",
    "version": 3
   },
   "file_extension": ".py",
   "mimetype": "text/x-python",
   "name": "python",
   "nbconvert_exporter": "python",
   "pygments_lexer": "ipython3",
   "version": "3.12.4"
  }
 },
 "nbformat": 4,
 "nbformat_minor": 2
}
