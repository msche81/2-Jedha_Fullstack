{
 "cells": [
  {
   "cell_type": "code",
   "execution_count": 1,
   "metadata": {},
   "outputs": [],
   "source": [
    "# import Requests Library\n",
    "import requests"
   ]
  },
  {
   "cell_type": "code",
   "execution_count": 2,
   "metadata": {},
   "outputs": [
    {
     "data": {
      "text/plain": [
       "<Response [200]>"
      ]
     },
     "execution_count": 2,
     "metadata": {},
     "output_type": "execute_result"
    }
   ],
   "source": [
    "r = requests.get(\"https://api.github.com/zen\")\n",
    "\n",
    "# now let's look at what's in this variable\n",
    "r"
   ]
  },
  {
   "cell_type": "code",
   "execution_count": 3,
   "metadata": {},
   "outputs": [
    {
     "data": {
      "text/plain": [
       "b'Responsive is better than fast.'"
      ]
     },
     "execution_count": 3,
     "metadata": {},
     "output_type": "execute_result"
    }
   ],
   "source": [
    "r.content"
   ]
  },
  {
   "cell_type": "code",
   "execution_count": 4,
   "metadata": {},
   "outputs": [
    {
     "data": {
      "text/plain": [
       "{'Date': 'Sun, 18 Aug 2024 09:45:36 GMT', 'Content-Type': 'text/plain;charset=utf-8', 'x-github-api-version-selected': '2022-11-28', 'Access-Control-Expose-Headers': 'ETag, Link, Location, Retry-After, X-GitHub-OTP, X-RateLimit-Limit, X-RateLimit-Remaining, X-RateLimit-Used, X-RateLimit-Resource, X-RateLimit-Reset, X-OAuth-Scopes, X-Accepted-OAuth-Scopes, X-Poll-Interval, X-GitHub-Media-Type, X-GitHub-SSO, X-GitHub-Request-Id, Deprecation, Sunset', 'Access-Control-Allow-Origin': '*', 'Strict-Transport-Security': 'max-age=31536000; includeSubdomains; preload', 'X-Frame-Options': 'deny', 'X-Content-Type-Options': 'nosniff', 'X-XSS-Protection': '0', 'Referrer-Policy': 'origin-when-cross-origin, strict-origin-when-cross-origin', 'Content-Security-Policy': \"default-src 'none'\", 'Vary': 'Accept-Encoding, Accept, X-Requested-With', 'Content-Encoding': 'gzip', 'Server': 'github.com', 'X-RateLimit-Limit': '60', 'X-RateLimit-Remaining': '59', 'X-RateLimit-Reset': '1723977936', 'X-RateLimit-Resource': 'core', 'X-RateLimit-Used': '1', 'Accept-Ranges': 'bytes', 'Content-Length': '51', 'X-GitHub-Request-Id': '45E9:3C803B:700D9D5:719469E:66C1C2C0'}"
      ]
     },
     "execution_count": 4,
     "metadata": {},
     "output_type": "execute_result"
    }
   ],
   "source": [
    "r.headers # describes all the metadata associated with the request and the server response"
   ]
  },
  {
   "cell_type": "code",
   "execution_count": 5,
   "metadata": {},
   "outputs": [
    {
     "data": {
      "text/plain": [
       "'Responsive is better than fast.'"
      ]
     },
     "execution_count": 5,
     "metadata": {},
     "output_type": "execute_result"
    }
   ],
   "source": [
    "r.text # will output the data contained in the response and convert it to text format"
   ]
  },
  {
   "cell_type": "code",
   "execution_count": 6,
   "metadata": {},
   "outputs": [
    {
     "data": {
      "text/plain": [
       "<Response [200]>"
      ]
     },
     "execution_count": 6,
     "metadata": {},
     "output_type": "execute_result"
    }
   ],
   "source": [
    "# Creating data that is usually called payload\n",
    "payload = {'key1': 'value1', 'key2': 'value2'}\n",
    "\n",
    "# Getting data that includes payload as parameters\n",
    "r = requests.get('https://httpbin.org/get', params=payload)\n",
    "r"
   ]
  },
  {
   "cell_type": "code",
   "execution_count": 14,
   "metadata": {},
   "outputs": [
    {
     "data": {
      "text/plain": [
       "<Response [200]>"
      ]
     },
     "execution_count": 14,
     "metadata": {},
     "output_type": "execute_result"
    }
   ],
   "source": [
    "# Here we send data using the data parameter that currently has a dictionary {\"hey\": \"value\"} \n",
    "r = requests.post('https://httpbin.org/post', data = {'key':'value'})\n",
    "r"
   ]
  },
  {
   "cell_type": "code",
   "execution_count": 15,
   "metadata": {},
   "outputs": [
    {
     "data": {
      "text/plain": [
       "b'{\\n  \"args\": {}, \\n  \"data\": \"\", \\n  \"files\": {}, \\n  \"form\": {\\n    \"key\": \"value\"\\n  }, \\n  \"headers\": {\\n    \"Accept\": \"*/*\", \\n    \"Accept-Encoding\": \"gzip, deflate\", \\n    \"Content-Length\": \"9\", \\n    \"Content-Type\": \"application/x-www-form-urlencoded\", \\n    \"Host\": \"httpbin.org\", \\n    \"User-Agent\": \"python-requests/2.32.3\", \\n    \"X-Amzn-Trace-Id\": \"Root=1-66c1c8fc-4260a1da5c189ceb5344eee6\"\\n  }, \\n  \"json\": null, \\n  \"origin\": \"178.238.166.174\", \\n  \"url\": \"https://httpbin.org/post\"\\n}\\n'"
      ]
     },
     "execution_count": 15,
     "metadata": {},
     "output_type": "execute_result"
    }
   ],
   "source": [
    "r.content # looks like the data is organised in a strange way, it's not just text"
   ]
  },
  {
   "cell_type": "code",
   "execution_count": 8,
   "metadata": {},
   "outputs": [
    {
     "data": {
      "text/plain": [
       "{'Date': 'Sun, 18 Aug 2024 09:51:00 GMT', 'Content-Type': 'application/json', 'Content-Length': '380', 'Connection': 'keep-alive', 'Server': 'gunicorn/19.9.0', 'Access-Control-Allow-Origin': '*', 'Access-Control-Allow-Credentials': 'true'}"
      ]
     },
     "execution_count": 8,
     "metadata": {},
     "output_type": "execute_result"
    }
   ],
   "source": [
    "r.headers # In the header, the 'Content-Type' shows us that the data contained in the response is in JSON format"
   ]
  },
  {
   "cell_type": "code",
   "execution_count": 9,
   "metadata": {},
   "outputs": [
    {
     "data": {
      "text/plain": [
       "{'args': {'key1': 'value1', 'key2': 'value2'},\n",
       " 'headers': {'Accept': '*/*',\n",
       "  'Accept-Encoding': 'gzip, deflate',\n",
       "  'Host': 'httpbin.org',\n",
       "  'User-Agent': 'python-requests/2.32.3',\n",
       "  'X-Amzn-Trace-Id': 'Root=1-66c1c404-09e5dad3368048305e39028a'},\n",
       " 'origin': '178.238.166.174',\n",
       " 'url': 'https://httpbin.org/get?key1=value1&key2=value2'}"
      ]
     },
     "execution_count": 9,
     "metadata": {},
     "output_type": "execute_result"
    }
   ],
   "source": [
    "r.json() # in order to interpret the data as a json file we can use this method"
   ]
  },
  {
   "cell_type": "code",
   "execution_count": 10,
   "metadata": {},
   "outputs": [
    {
     "data": {
      "text/plain": [
       "<Response [200]>"
      ]
     },
     "execution_count": 10,
     "metadata": {},
     "output_type": "execute_result"
    }
   ],
   "source": [
    "# Let's import pandas to create a dataframe and write it on a file\n",
    "import pandas as pd\n",
    "\n",
    "# Creating a dummy dataframe\n",
    "df = pd.DataFrame({\n",
    "    \"A\":[1,2,3,4]\n",
    "})\n",
    "\n",
    "# Writing a dummy file\n",
    "df.to_csv(\"file.csv\")\n",
    "\n",
    "# Opening the file\n",
    "f = {'file': open('file.csv', 'rb')}\n",
    "\n",
    "# Posting the content of this file to https://httpbin.org/post\n",
    "r = requests.post('https://httpbin.org/post', files=f)\n",
    "r"
   ]
  },
  {
   "cell_type": "code",
   "execution_count": 11,
   "metadata": {},
   "outputs": [
    {
     "data": {
      "text/plain": [
       "'Anything added dilutes everything else.'"
      ]
     },
     "execution_count": 11,
     "metadata": {},
     "output_type": "execute_result"
    }
   ],
   "source": [
    "r = requests.get('https://api.github.com/zen')\n",
    "r.text[:200]  # Display first 200 characters"
   ]
  },
  {
   "cell_type": "code",
   "execution_count": 12,
   "metadata": {},
   "outputs": [
    {
     "data": {
      "text/plain": [
       "{'login': 'JedhaBootcamp',\n",
       " 'id': 39502362,\n",
       " 'node_id': 'MDEyOk9yZ2FuaXphdGlvbjM5NTAyMzYy',\n",
       " 'avatar_url': 'https://avatars.githubusercontent.com/u/39502362?v=4',\n",
       " 'gravatar_id': '',\n",
       " 'url': 'https://api.github.com/users/JedhaBootcamp',\n",
       " 'html_url': 'https://github.com/JedhaBootcamp',\n",
       " 'followers_url': 'https://api.github.com/users/JedhaBootcamp/followers',\n",
       " 'following_url': 'https://api.github.com/users/JedhaBootcamp/following{/other_user}',\n",
       " 'gists_url': 'https://api.github.com/users/JedhaBootcamp/gists{/gist_id}',\n",
       " 'starred_url': 'https://api.github.com/users/JedhaBootcamp/starred{/owner}{/repo}',\n",
       " 'subscriptions_url': 'https://api.github.com/users/JedhaBootcamp/subscriptions',\n",
       " 'organizations_url': 'https://api.github.com/users/JedhaBootcamp/orgs',\n",
       " 'repos_url': 'https://api.github.com/users/JedhaBootcamp/repos',\n",
       " 'events_url': 'https://api.github.com/users/JedhaBootcamp/events{/privacy}',\n",
       " 'received_events_url': 'https://api.github.com/users/JedhaBootcamp/received_events',\n",
       " 'type': 'Organization',\n",
       " 'site_admin': False,\n",
       " 'name': 'JedhaBootcamp',\n",
       " 'company': None,\n",
       " 'blog': 'https://jedha.co',\n",
       " 'location': 'Paris',\n",
       " 'email': 'admissions@jedha.co',\n",
       " 'hireable': None,\n",
       " 'bio': 'Data Science & Cybersecurity School ',\n",
       " 'twitter_username': None,\n",
       " 'public_repos': 42,\n",
       " 'public_gists': 0,\n",
       " 'followers': 37,\n",
       " 'following': 0,\n",
       " 'created_at': '2018-05-21T21:14:43Z',\n",
       " 'updated_at': '2023-05-01T07:30:56Z'}"
      ]
     },
     "execution_count": 12,
     "metadata": {},
     "output_type": "execute_result"
    }
   ],
   "source": [
    "r = requests.get('https://api.github.com/users/JedhaBootcamp')\n",
    "r.json()  # Display first JSON/dict"
   ]
  },
  {
   "cell_type": "code",
   "execution_count": 13,
   "metadata": {},
   "outputs": [
    {
     "data": {
      "image/jpeg": "[encoded data removed]",
      "image/png": "[encoded data removed]",
      "text/plain": [
       "<PIL.PngImagePlugin.PngImageFile image mode=RGB size=460x460>"
      ]
     },
     "execution_count": 13,
     "metadata": {},
     "output_type": "execute_result"
    }
   ],
   "source": [
    "# Request avatar from Github\n",
    "r = requests.get(\"https://avatars0.githubusercontent.com/u/39502362?v=4\")\n",
    "\n",
    "# Import PIL and Io to read bytes and translate http file as an image\n",
    "from PIL import Image\n",
    "from io import BytesIO\n",
    "\n",
    "# Use .open() method to read bytes from content\n",
    "i = Image.open(BytesIO(r.content))\n",
    "i"
   ]
  },
  {
   "cell_type": "code",
   "execution_count": null,
   "metadata": {},
   "outputs": [],
   "source": []
  }
 ],
 "metadata": {
  "kernelspec": {
   "display_name": "Python 3",
   "language": "python",
   "name": "python3"
  },
  "language_info": {
   "codemirror_mode": {
    "name": "ipython",
    "version": 3
   },
   "file_extension": ".py",
   "mimetype": "text/x-python",
   "name": "python",
   "nbconvert_exporter": "python",
   "pygments_lexer": "ipython3",
   "version": "3.12.4"
  }
 },
 "nbformat": 4,
 "nbformat_minor": 2
}
