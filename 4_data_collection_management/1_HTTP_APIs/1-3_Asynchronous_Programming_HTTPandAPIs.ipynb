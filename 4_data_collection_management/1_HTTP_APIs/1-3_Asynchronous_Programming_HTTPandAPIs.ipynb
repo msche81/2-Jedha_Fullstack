{
 "cells": [
  {
   "cell_type": "code",
   "execution_count": 1,
   "metadata": {},
   "outputs": [
    {
     "name": "stdout",
     "output_type": "stream",
     "text": [
      "Hello!\n",
      "Goodbye!\n"
     ]
    }
   ],
   "source": [
    "!python src/async1.py # this will execute the python file async1.py in the src folder!"
   ]
  },
  {
   "cell_type": "code",
   "execution_count": 2,
   "metadata": {},
   "outputs": [
    {
     "name": "stdout",
     "output_type": "stream",
     "text": [
      "/Users/marie-sophiechenevier/Library/CloudStorage/Dropbox/2024-DataScience/GitHub/2-Jedha_Fullstack/4_data_collection_management/1_HTTP_APIs/src/async2.py:6: RuntimeWarning: coroutine 'main' was never awaited\n",
      "  main()\n",
      "RuntimeWarning: Enable tracemalloc to get the object allocation traceback\n",
      "Goodbye!\n"
     ]
    }
   ],
   "source": [
    "!python src/async2.py"
   ]
  },
  {
   "cell_type": "code",
   "execution_count": 3,
   "metadata": {},
   "outputs": [
    {
     "name": "stdout",
     "output_type": "stream",
     "text": [
      "Hello!\n",
      "Goodbye!\n"
     ]
    }
   ],
   "source": [
    "!python src/async3.py"
   ]
  },
  {
   "cell_type": "code",
   "execution_count": 6,
   "metadata": {},
   "outputs": [
    {
     "name": "stdout",
     "output_type": "stream",
     "text": [
      "OK\n",
      "Goodbye!\n",
      "Hello!\n"
     ]
    }
   ],
   "source": [
    "!python src/async4.py"
   ]
  },
  {
   "cell_type": "code",
   "execution_count": null,
   "metadata": {},
   "outputs": [],
   "source": []
  }
 ],
 "metadata": {
  "kernelspec": {
   "display_name": "Python 3",
   "language": "python",
   "name": "python3"
  },
  "language_info": {
   "codemirror_mode": {
    "name": "ipython",
    "version": 3
   },
   "file_extension": ".py",
   "mimetype": "text/x-python",
   "name": "python",
   "nbconvert_exporter": "python",
   "pygments_lexer": "ipython3",
   "version": "3.12.4"
  }
 },
 "nbformat": 4,
 "nbformat_minor": 2
}
