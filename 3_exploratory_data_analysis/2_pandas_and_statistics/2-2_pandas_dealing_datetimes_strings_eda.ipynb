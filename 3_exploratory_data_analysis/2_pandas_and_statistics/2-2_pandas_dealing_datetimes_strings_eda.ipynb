{
 "cells": [
  {
   "cell_type": "code",
   "execution_count": 2,
   "metadata": {},
   "outputs": [],
   "source": [
    "# import the library\n",
    "import pandas as pd"
   ]
  },
  {
   "cell_type": "code",
   "execution_count": 3,
   "metadata": {},
   "outputs": [
    {
     "data": {
      "text/html": [
       "<div>\n",
       "<style scoped>\n",
       "    .dataframe tbody tr th:only-of-type {\n",
       "        vertical-align: middle;\n",
       "    }\n",
       "\n",
       "    .dataframe tbody tr th {\n",
       "        vertical-align: top;\n",
       "    }\n",
       "\n",
       "    .dataframe thead th {\n",
       "        text-align: right;\n",
       "    }\n",
       "</style>\n",
       "<table border=\"1\" class=\"dataframe\">\n",
       "  <thead>\n",
       "    <tr style=\"text-align: right;\">\n",
       "      <th></th>\n",
       "      <th>dt</th>\n",
       "      <th>values</th>\n",
       "    </tr>\n",
       "  </thead>\n",
       "  <tbody>\n",
       "    <tr>\n",
       "      <th>0</th>\n",
       "      <td>2022-01-01 00:00:00</td>\n",
       "      <td>100.867870</td>\n",
       "    </tr>\n",
       "    <tr>\n",
       "      <th>1</th>\n",
       "      <td>2022-01-01 01:00:00</td>\n",
       "      <td>100.950371</td>\n",
       "    </tr>\n",
       "    <tr>\n",
       "      <th>2</th>\n",
       "      <td>2022-01-01 02:00:00</td>\n",
       "      <td>100.015876</td>\n",
       "    </tr>\n",
       "    <tr>\n",
       "      <th>3</th>\n",
       "      <td>2022-01-01 03:00:00</td>\n",
       "      <td>97.719805</td>\n",
       "    </tr>\n",
       "    <tr>\n",
       "      <th>4</th>\n",
       "      <td>2022-01-01 04:00:00</td>\n",
       "      <td>98.952580</td>\n",
       "    </tr>\n",
       "  </tbody>\n",
       "</table>\n",
       "</div>"
      ],
      "text/plain": [
       "                    dt      values\n",
       "0  2022-01-01 00:00:00  100.867870\n",
       "1  2022-01-01 01:00:00  100.950371\n",
       "2  2022-01-01 02:00:00  100.015876\n",
       "3  2022-01-01 03:00:00   97.719805\n",
       "4  2022-01-01 04:00:00   98.952580"
      ]
     },
     "execution_count": 3,
     "metadata": {},
     "output_type": "execute_result"
    }
   ],
   "source": [
    "df = pd.read_csv(\"src/datetime_df.csv\")\n",
    "df.head()"
   ]
  },
  {
   "cell_type": "code",
   "execution_count": 4,
   "metadata": {},
   "outputs": [
    {
     "data": {
      "text/plain": [
       "dt         object\n",
       "values    float64\n",
       "dtype: object"
      ]
     },
     "execution_count": 4,
     "metadata": {},
     "output_type": "execute_result"
    }
   ],
   "source": [
    "df.dtypes"
   ]
  },
  {
   "cell_type": "code",
   "execution_count": 5,
   "metadata": {},
   "outputs": [
    {
     "data": {
      "text/plain": [
       "dt        datetime64[ns]\n",
       "values           float64\n",
       "dtype: object"
      ]
     },
     "execution_count": 5,
     "metadata": {},
     "output_type": "execute_result"
    }
   ],
   "source": [
    "df['dt'] = pd.to_datetime(df[\"dt\"])\n",
    "df.dtypes"
   ]
  },
  {
   "cell_type": "code",
   "execution_count": 6,
   "metadata": {},
   "outputs": [
    {
     "data": {
      "text/plain": [
       "0      2022-01-01 00:00:00\n",
       "1      2022-01-01 01:00:00\n",
       "2      2022-01-01 02:00:00\n",
       "3      2022-01-01 03:00:00\n",
       "4      2022-01-01 04:00:00\n",
       "               ...        \n",
       "8732   2022-12-30 20:00:00\n",
       "8733   2022-12-30 21:00:00\n",
       "8734   2022-12-30 22:00:00\n",
       "8735   2022-12-30 23:00:00\n",
       "8736   2022-12-31 00:00:00\n",
       "Name: dt, Length: 8737, dtype: datetime64[ns]"
      ]
     },
     "execution_count": 6,
     "metadata": {},
     "output_type": "execute_result"
    }
   ],
   "source": [
    "pd.to_datetime(df[\"dt\"], format = \"%Y-%m-%d %H:%M:%S\")"
   ]
  },
  {
   "cell_type": "code",
   "execution_count": 7,
   "metadata": {},
   "outputs": [
    {
     "data": {
      "text/plain": [
       "0       01/01/2022 00:00:00\n",
       "1       01/01/2022 01:00:00\n",
       "2       01/01/2022 02:00:00\n",
       "3       01/01/2022 03:00:00\n",
       "4       01/01/2022 04:00:00\n",
       "               ...         \n",
       "8732    30/12/2022 20:00:00\n",
       "8733    30/12/2022 21:00:00\n",
       "8734    30/12/2022 22:00:00\n",
       "8735    30/12/2022 23:00:00\n",
       "8736    31/12/2022 00:00:00\n",
       "Name: dt, Length: 8737, dtype: object"
      ]
     },
     "execution_count": 7,
     "metadata": {},
     "output_type": "execute_result"
    }
   ],
   "source": [
    "df['dt'].dt.strftime(\"%d/%m/%Y %H:%M:%S\")"
   ]
  },
  {
   "cell_type": "code",
   "execution_count": 8,
   "metadata": {},
   "outputs": [],
   "source": [
    "df['year'] = df['dt'].dt.year\n",
    "df['month'] = df['dt'].dt.month\n",
    "df['day'] = df['dt'].dt.day\n",
    "df['weekday'] = df['dt'].dt.dayofweek\n",
    "df['hour'] = df['dt'].dt.hour\n",
    "df['minute'] = df['dt'].dt.minute\n",
    "df['second'] = df['dt'].dt.second"
   ]
  },
  {
   "cell_type": "code",
   "execution_count": 9,
   "metadata": {},
   "outputs": [
    {
     "data": {
      "text/html": [
       "<div>\n",
       "<style scoped>\n",
       "    .dataframe tbody tr th:only-of-type {\n",
       "        vertical-align: middle;\n",
       "    }\n",
       "\n",
       "    .dataframe tbody tr th {\n",
       "        vertical-align: top;\n",
       "    }\n",
       "\n",
       "    .dataframe thead th {\n",
       "        text-align: right;\n",
       "    }\n",
       "</style>\n",
       "<table border=\"1\" class=\"dataframe\">\n",
       "  <thead>\n",
       "    <tr style=\"text-align: right;\">\n",
       "      <th></th>\n",
       "      <th>dt</th>\n",
       "      <th>values</th>\n",
       "      <th>year</th>\n",
       "      <th>month</th>\n",
       "      <th>day</th>\n",
       "      <th>weekday</th>\n",
       "      <th>hour</th>\n",
       "      <th>minute</th>\n",
       "      <th>second</th>\n",
       "    </tr>\n",
       "  </thead>\n",
       "  <tbody>\n",
       "    <tr>\n",
       "      <th>0</th>\n",
       "      <td>2022-01-01 00:00:00</td>\n",
       "      <td>100.867870</td>\n",
       "      <td>2022</td>\n",
       "      <td>1</td>\n",
       "      <td>1</td>\n",
       "      <td>5</td>\n",
       "      <td>0</td>\n",
       "      <td>0</td>\n",
       "      <td>0</td>\n",
       "    </tr>\n",
       "    <tr>\n",
       "      <th>1</th>\n",
       "      <td>2022-01-01 01:00:00</td>\n",
       "      <td>100.950371</td>\n",
       "      <td>2022</td>\n",
       "      <td>1</td>\n",
       "      <td>1</td>\n",
       "      <td>5</td>\n",
       "      <td>1</td>\n",
       "      <td>0</td>\n",
       "      <td>0</td>\n",
       "    </tr>\n",
       "    <tr>\n",
       "      <th>2</th>\n",
       "      <td>2022-01-01 02:00:00</td>\n",
       "      <td>100.015876</td>\n",
       "      <td>2022</td>\n",
       "      <td>1</td>\n",
       "      <td>1</td>\n",
       "      <td>5</td>\n",
       "      <td>2</td>\n",
       "      <td>0</td>\n",
       "      <td>0</td>\n",
       "    </tr>\n",
       "    <tr>\n",
       "      <th>3</th>\n",
       "      <td>2022-01-01 03:00:00</td>\n",
       "      <td>97.719805</td>\n",
       "      <td>2022</td>\n",
       "      <td>1</td>\n",
       "      <td>1</td>\n",
       "      <td>5</td>\n",
       "      <td>3</td>\n",
       "      <td>0</td>\n",
       "      <td>0</td>\n",
       "    </tr>\n",
       "    <tr>\n",
       "      <th>4</th>\n",
       "      <td>2022-01-01 04:00:00</td>\n",
       "      <td>98.952580</td>\n",
       "      <td>2022</td>\n",
       "      <td>1</td>\n",
       "      <td>1</td>\n",
       "      <td>5</td>\n",
       "      <td>4</td>\n",
       "      <td>0</td>\n",
       "      <td>0</td>\n",
       "    </tr>\n",
       "  </tbody>\n",
       "</table>\n",
       "</div>"
      ],
      "text/plain": [
       "                   dt      values  year  month  day  weekday  hour  minute  \\\n",
       "0 2022-01-01 00:00:00  100.867870  2022      1    1        5     0       0   \n",
       "1 2022-01-01 01:00:00  100.950371  2022      1    1        5     1       0   \n",
       "2 2022-01-01 02:00:00  100.015876  2022      1    1        5     2       0   \n",
       "3 2022-01-01 03:00:00   97.719805  2022      1    1        5     3       0   \n",
       "4 2022-01-01 04:00:00   98.952580  2022      1    1        5     4       0   \n",
       "\n",
       "   second  \n",
       "0       0  \n",
       "1       0  \n",
       "2       0  \n",
       "3       0  \n",
       "4       0  "
      ]
     },
     "execution_count": 9,
     "metadata": {},
     "output_type": "execute_result"
    }
   ],
   "source": [
    "df.head()"
   ]
  },
  {
   "cell_type": "code",
   "execution_count": 10,
   "metadata": {},
   "outputs": [
    {
     "data": {
      "text/html": [
       "<div>\n",
       "<style scoped>\n",
       "    .dataframe tbody tr th:only-of-type {\n",
       "        vertical-align: middle;\n",
       "    }\n",
       "\n",
       "    .dataframe tbody tr th {\n",
       "        vertical-align: top;\n",
       "    }\n",
       "\n",
       "    .dataframe thead th {\n",
       "        text-align: right;\n",
       "    }\n",
       "</style>\n",
       "<table border=\"1\" class=\"dataframe\">\n",
       "  <thead>\n",
       "    <tr style=\"text-align: right;\">\n",
       "      <th></th>\n",
       "      <th>dt</th>\n",
       "      <th>values</th>\n",
       "      <th>year</th>\n",
       "      <th>month</th>\n",
       "      <th>day</th>\n",
       "      <th>weekday</th>\n",
       "      <th>hour</th>\n",
       "      <th>minute</th>\n",
       "      <th>second</th>\n",
       "      <th>dt_1d</th>\n",
       "      <th>dt_10h</th>\n",
       "    </tr>\n",
       "  </thead>\n",
       "  <tbody>\n",
       "    <tr>\n",
       "      <th>0</th>\n",
       "      <td>2022-01-01 00:00:00</td>\n",
       "      <td>100.867870</td>\n",
       "      <td>2022</td>\n",
       "      <td>1</td>\n",
       "      <td>1</td>\n",
       "      <td>5</td>\n",
       "      <td>0</td>\n",
       "      <td>0</td>\n",
       "      <td>0</td>\n",
       "      <td>2021-12-31 00:00:00</td>\n",
       "      <td>2022-01-01 10:00:00</td>\n",
       "    </tr>\n",
       "    <tr>\n",
       "      <th>1</th>\n",
       "      <td>2022-01-01 01:00:00</td>\n",
       "      <td>100.950371</td>\n",
       "      <td>2022</td>\n",
       "      <td>1</td>\n",
       "      <td>1</td>\n",
       "      <td>5</td>\n",
       "      <td>1</td>\n",
       "      <td>0</td>\n",
       "      <td>0</td>\n",
       "      <td>2021-12-31 01:00:00</td>\n",
       "      <td>2022-01-01 11:00:00</td>\n",
       "    </tr>\n",
       "    <tr>\n",
       "      <th>2</th>\n",
       "      <td>2022-01-01 02:00:00</td>\n",
       "      <td>100.015876</td>\n",
       "      <td>2022</td>\n",
       "      <td>1</td>\n",
       "      <td>1</td>\n",
       "      <td>5</td>\n",
       "      <td>2</td>\n",
       "      <td>0</td>\n",
       "      <td>0</td>\n",
       "      <td>2021-12-31 02:00:00</td>\n",
       "      <td>2022-01-01 12:00:00</td>\n",
       "    </tr>\n",
       "    <tr>\n",
       "      <th>3</th>\n",
       "      <td>2022-01-01 03:00:00</td>\n",
       "      <td>97.719805</td>\n",
       "      <td>2022</td>\n",
       "      <td>1</td>\n",
       "      <td>1</td>\n",
       "      <td>5</td>\n",
       "      <td>3</td>\n",
       "      <td>0</td>\n",
       "      <td>0</td>\n",
       "      <td>2021-12-31 03:00:00</td>\n",
       "      <td>2022-01-01 13:00:00</td>\n",
       "    </tr>\n",
       "    <tr>\n",
       "      <th>4</th>\n",
       "      <td>2022-01-01 04:00:00</td>\n",
       "      <td>98.952580</td>\n",
       "      <td>2022</td>\n",
       "      <td>1</td>\n",
       "      <td>1</td>\n",
       "      <td>5</td>\n",
       "      <td>4</td>\n",
       "      <td>0</td>\n",
       "      <td>0</td>\n",
       "      <td>2021-12-31 04:00:00</td>\n",
       "      <td>2022-01-01 14:00:00</td>\n",
       "    </tr>\n",
       "  </tbody>\n",
       "</table>\n",
       "</div>"
      ],
      "text/plain": [
       "                   dt      values  year  month  day  weekday  hour  minute  \\\n",
       "0 2022-01-01 00:00:00  100.867870  2022      1    1        5     0       0   \n",
       "1 2022-01-01 01:00:00  100.950371  2022      1    1        5     1       0   \n",
       "2 2022-01-01 02:00:00  100.015876  2022      1    1        5     2       0   \n",
       "3 2022-01-01 03:00:00   97.719805  2022      1    1        5     3       0   \n",
       "4 2022-01-01 04:00:00   98.952580  2022      1    1        5     4       0   \n",
       "\n",
       "   second               dt_1d              dt_10h  \n",
       "0       0 2021-12-31 00:00:00 2022-01-01 10:00:00  \n",
       "1       0 2021-12-31 01:00:00 2022-01-01 11:00:00  \n",
       "2       0 2021-12-31 02:00:00 2022-01-01 12:00:00  \n",
       "3       0 2021-12-31 03:00:00 2022-01-01 13:00:00  \n",
       "4       0 2021-12-31 04:00:00 2022-01-01 14:00:00  "
      ]
     },
     "execution_count": 10,
     "metadata": {},
     "output_type": "execute_result"
    }
   ],
   "source": [
    "# Create an object representing a timedelta of 1 day\n",
    "days_1 = pd.to_timedelta(1, unit = 'd')\n",
    "# Use the timedelta object to apply a systematic shift of - 1 day to all datetimes:\n",
    "df[\"dt_1d\"] = df[\"dt\"] - days_1\n",
    "\n",
    "# Create an object representing a timedelta of 10 hours\n",
    "hours_10 = pd.to_timedelta(10, unit = 'h')\n",
    "# Use the timedelta object to apply a systematic shift of + 10 hours to all datetimes:\n",
    "df[\"dt_10h\"] = df[\"dt\"] + hours_10\n",
    "\n",
    "df.head()"
   ]
  },
  {
   "cell_type": "code",
   "execution_count": 11,
   "metadata": {},
   "outputs": [
    {
     "name": "stdout",
     "output_type": "stream",
     "text": [
      "Elapsed time between dt and dt_10h:\n",
      "0      0 days 10:00:00\n",
      "1      0 days 10:00:00\n",
      "2      0 days 10:00:00\n",
      "3      0 days 10:00:00\n",
      "4      0 days 10:00:00\n",
      "             ...      \n",
      "8732   0 days 10:00:00\n",
      "8733   0 days 10:00:00\n",
      "8734   0 days 10:00:00\n",
      "8735   0 days 10:00:00\n",
      "8736   0 days 10:00:00\n",
      "Length: 8737, dtype: timedelta64[ns]\n",
      "\n",
      "Elapsed time in days:\n",
      "0       0\n",
      "1       0\n",
      "2       0\n",
      "3       0\n",
      "4       0\n",
      "       ..\n",
      "8732    0\n",
      "8733    0\n",
      "8734    0\n",
      "8735    0\n",
      "8736    0\n",
      "Length: 8737, dtype: int64\n",
      "\n",
      "Elapsed time in seconds:\n",
      "0       36000\n",
      "1       36000\n",
      "2       36000\n",
      "3       36000\n",
      "4       36000\n",
      "        ...  \n",
      "8732    36000\n",
      "8733    36000\n",
      "8734    36000\n",
      "8735    36000\n",
      "8736    36000\n",
      "Length: 8737, dtype: int32\n"
     ]
    }
   ],
   "source": [
    "# It's possible to use the operator \"-\"\" between two datetime Series\n",
    "# it will compute the time elapsed between the two Series and return it as a Timedelta\n",
    "elapsed_time = df[\"dt_10h\"] - df[\"dt\"]\n",
    "print(\"Elapsed time between dt and dt_10h:\")\n",
    "print(elapsed_time)\n",
    "print()\n",
    "\n",
    "# It's possible to convert this information into a duration in days or seconds:\n",
    "print(\"Elapsed time in days:\")\n",
    "print(elapsed_time.dt.days)\n",
    "print()\n",
    "print(\"Elapsed time in seconds:\")\n",
    "print(elapsed_time.dt.seconds)"
   ]
  },
  {
   "cell_type": "code",
   "execution_count": 12,
   "metadata": {},
   "outputs": [
    {
     "data": {
      "text/html": [
       "<div>\n",
       "<style scoped>\n",
       "    .dataframe tbody tr th:only-of-type {\n",
       "        vertical-align: middle;\n",
       "    }\n",
       "\n",
       "    .dataframe tbody tr th {\n",
       "        vertical-align: top;\n",
       "    }\n",
       "\n",
       "    .dataframe thead th {\n",
       "        text-align: right;\n",
       "    }\n",
       "</style>\n",
       "<table border=\"1\" class=\"dataframe\">\n",
       "  <thead>\n",
       "    <tr style=\"text-align: right;\">\n",
       "      <th></th>\n",
       "      <th>description</th>\n",
       "    </tr>\n",
       "  </thead>\n",
       "  <tbody>\n",
       "    <tr>\n",
       "      <th>0</th>\n",
       "      <td>Scents of smoke and aged honey entice on the n...</td>\n",
       "    </tr>\n",
       "    <tr>\n",
       "      <th>1</th>\n",
       "      <td>This bottling, which is Randall Grahm's hommag...</td>\n",
       "    </tr>\n",
       "    <tr>\n",
       "      <th>2</th>\n",
       "      <td>For an easy and aromatic Sauvignon, Ermacora d...</td>\n",
       "    </tr>\n",
       "    <tr>\n",
       "      <th>3</th>\n",
       "      <td>A 65-35 blend of Sangiovese and Cabernet Sauvi...</td>\n",
       "    </tr>\n",
       "    <tr>\n",
       "      <th>4</th>\n",
       "      <td>Like all of Beringer's 2001 gold letter single...</td>\n",
       "    </tr>\n",
       "  </tbody>\n",
       "</table>\n",
       "</div>"
      ],
      "text/plain": [
       "                                         description\n",
       "0  Scents of smoke and aged honey entice on the n...\n",
       "1  This bottling, which is Randall Grahm's hommag...\n",
       "2  For an easy and aromatic Sauvignon, Ermacora d...\n",
       "3  A 65-35 blend of Sangiovese and Cabernet Sauvi...\n",
       "4  Like all of Beringer's 2001 gold letter single..."
      ]
     },
     "execution_count": 12,
     "metadata": {},
     "output_type": "execute_result"
    }
   ],
   "source": [
    "df = pd.read_csv(\"src/string_df.csv\")\n",
    "df.head()"
   ]
  },
  {
   "cell_type": "code",
   "execution_count": 13,
   "metadata": {},
   "outputs": [
    {
     "data": {
      "text/plain": [
       "0     scents of smoke and aged honey entice on the n...\n",
       "1     this bottling, which is randall grahm's hommag...\n",
       "2     for an easy and aromatic sauvignon, ermacora d...\n",
       "3     a 65-35 blend of sangiovese and cabernet sauvi...\n",
       "4     like all of beringer's 2001 gold letter single...\n",
       "                            ...                        \n",
       "95    a very nice wine, lush and drinkable, that dem...\n",
       "96    leather, smashed berries and juniper reveal th...\n",
       "97    a simple wine that straddles the balance betwe...\n",
       "98    one of australia's most expensive and sought-a...\n",
       "99    thick and luscious with deep oak tones and big...\n",
       "Name: description, Length: 100, dtype: object"
      ]
     },
     "execution_count": 13,
     "metadata": {},
     "output_type": "execute_result"
    }
   ],
   "source": [
    "# Lowercase\n",
    "df[\"description\"].str.lower()"
   ]
  },
  {
   "cell_type": "code",
   "execution_count": 14,
   "metadata": {},
   "outputs": [
    {
     "data": {
      "text/plain": [
       "0     Scents of smoke&aged honey entice on the nose ...\n",
       "1     This bottling, which is Randall Grahm's hommag...\n",
       "2     For an easy&aromatic Sauvignon, Ermacora deliv...\n",
       "3     A 65-35 blend of Sangiovese&Cabernet Sauvignon...\n",
       "4     Like all of Beringer's 2001 gold letter single...\n",
       "                            ...                        \n",
       "95    A very nice wine, lush&drinkable, that demonst...\n",
       "96    Leather, smashed berries&juniper reveal the ag...\n",
       "97    A simple wine that straddles the balance betwe...\n",
       "98    One of Australia's most expensive&sought-after...\n",
       "99    Thick&luscious with deep oak tones&big cherry ...\n",
       "Name: description, Length: 100, dtype: object"
      ]
     },
     "execution_count": 14,
     "metadata": {},
     "output_type": "execute_result"
    }
   ],
   "source": [
    "# Replace each occurrence of a pattern\n",
    "df[\"description\"].str.replace(\" and \", \"&\") # pattern matching is case-sensitive and takes whitespaces into account"
   ]
  },
  {
   "cell_type": "code",
   "execution_count": 15,
   "metadata": {},
   "outputs": [
    {
     "name": "stdout",
     "output_type": "stream",
     "text": [
      "0     nts of smoke and aged honey entice on the nose...\n",
      "1     s bottling, which is Randall Grahm's hommage t...\n",
      "2      an easy and aromatic Sauvignon, Ermacora deli...\n",
      "3     5-35 blend of Sangiovese and Cabernet Sauvigno...\n",
      "4     e all of Beringer's 2001 gold letter single-vi...\n",
      "                            ...                        \n",
      "95    ery nice wine, lush and drinkable, that demons...\n",
      "96    ther, smashed berries and juniper reveal the a...\n",
      "97    imple wine that straddles the balance between ...\n",
      "98     of Australia's most expensive and sought-afte...\n",
      "99    ck and luscious with deep oak tones and big ch...\n",
      "Name: description, Length: 100, dtype: object\n",
      "\n",
      "0     Scents of \n",
      "1     This bottl\n",
      "2     For an eas\n",
      "3     A 65-35 bl\n",
      "4     Like all o\n",
      "         ...    \n",
      "95    A very nic\n",
      "96    Leather, s\n",
      "97    A simple w\n",
      "98    One of Aus\n",
      "99    Thick and \n",
      "Name: description, Length: 100, dtype: object\n"
     ]
    }
   ],
   "source": [
    "# Slicing\n",
    "print(df[\"description\"].str.slice(start=3)) # remove 3 first characters\n",
    "print()\n",
    "print(df[\"description\"].str.slice(start=0, stop=10)) # Keep only 10 first characters"
   ]
  },
  {
   "cell_type": "code",
   "execution_count": 16,
   "metadata": {},
   "outputs": [
    {
     "data": {
      "text/html": [
       "<div>\n",
       "<style scoped>\n",
       "    .dataframe tbody tr th:only-of-type {\n",
       "        vertical-align: middle;\n",
       "    }\n",
       "\n",
       "    .dataframe tbody tr th {\n",
       "        vertical-align: top;\n",
       "    }\n",
       "\n",
       "    .dataframe thead th {\n",
       "        text-align: right;\n",
       "    }\n",
       "</style>\n",
       "<table border=\"1\" class=\"dataframe\">\n",
       "  <thead>\n",
       "    <tr style=\"text-align: right;\">\n",
       "      <th></th>\n",
       "      <th>description</th>\n",
       "      <th>desc_len</th>\n",
       "      <th>desc_starts_with_This</th>\n",
       "      <th>desc_contains_This</th>\n",
       "      <th>desc_count_This</th>\n",
       "      <th>desc_split</th>\n",
       "      <th>desc_wordcount</th>\n",
       "    </tr>\n",
       "  </thead>\n",
       "  <tbody>\n",
       "    <tr>\n",
       "      <th>0</th>\n",
       "      <td>Scents of smoke and aged honey entice on the n...</td>\n",
       "      <td>199</td>\n",
       "      <td>False</td>\n",
       "      <td>False</td>\n",
       "      <td>0</td>\n",
       "      <td>[Scents of smoke and aged honey entice on the ...</td>\n",
       "      <td>35</td>\n",
       "    </tr>\n",
       "    <tr>\n",
       "      <th>1</th>\n",
       "      <td>This bottling, which is Randall Grahm's hommag...</td>\n",
       "      <td>522</td>\n",
       "      <td>True</td>\n",
       "      <td>True</td>\n",
       "      <td>1</td>\n",
       "      <td>[This bottling,  which is Randall Grahm's homm...</td>\n",
       "      <td>84</td>\n",
       "    </tr>\n",
       "    <tr>\n",
       "      <th>2</th>\n",
       "      <td>For an easy and aromatic Sauvignon, Ermacora d...</td>\n",
       "      <td>223</td>\n",
       "      <td>False</td>\n",
       "      <td>False</td>\n",
       "      <td>0</td>\n",
       "      <td>[For an easy and aromatic Sauvignon,  Ermacora...</td>\n",
       "      <td>38</td>\n",
       "    </tr>\n",
       "    <tr>\n",
       "      <th>3</th>\n",
       "      <td>A 65-35 blend of Sangiovese and Cabernet Sauvi...</td>\n",
       "      <td>203</td>\n",
       "      <td>False</td>\n",
       "      <td>True</td>\n",
       "      <td>1</td>\n",
       "      <td>[A 65-35 blend of Sangiovese and Cabernet Sauv...</td>\n",
       "      <td>32</td>\n",
       "    </tr>\n",
       "    <tr>\n",
       "      <th>4</th>\n",
       "      <td>Like all of Beringer's 2001 gold letter single...</td>\n",
       "      <td>383</td>\n",
       "      <td>False</td>\n",
       "      <td>False</td>\n",
       "      <td>0</td>\n",
       "      <td>[Like all of Beringer's 2001 gold letter singl...</td>\n",
       "      <td>64</td>\n",
       "    </tr>\n",
       "  </tbody>\n",
       "</table>\n",
       "</div>"
      ],
      "text/plain": [
       "                                         description  desc_len  \\\n",
       "0  Scents of smoke and aged honey entice on the n...       199   \n",
       "1  This bottling, which is Randall Grahm's hommag...       522   \n",
       "2  For an easy and aromatic Sauvignon, Ermacora d...       223   \n",
       "3  A 65-35 blend of Sangiovese and Cabernet Sauvi...       203   \n",
       "4  Like all of Beringer's 2001 gold letter single...       383   \n",
       "\n",
       "   desc_starts_with_This  desc_contains_This  desc_count_This  \\\n",
       "0                  False               False                0   \n",
       "1                   True                True                1   \n",
       "2                  False               False                0   \n",
       "3                  False                True                1   \n",
       "4                  False               False                0   \n",
       "\n",
       "                                          desc_split  desc_wordcount  \n",
       "0  [Scents of smoke and aged honey entice on the ...              35  \n",
       "1  [This bottling,  which is Randall Grahm's homm...              84  \n",
       "2  [For an easy and aromatic Sauvignon,  Ermacora...              38  \n",
       "3  [A 65-35 blend of Sangiovese and Cabernet Sauv...              32  \n",
       "4  [Like all of Beringer's 2001 gold letter singl...              64  "
      ]
     },
     "execution_count": 16,
     "metadata": {},
     "output_type": "execute_result"
    }
   ],
   "source": [
    "# Extract string length\n",
    "df[\"desc_len\"] = df[\"description\"].str.len()\n",
    "\n",
    "# Test if string starts with a given pattern\n",
    "df[\"desc_starts_with_This\"] = df[\"description\"].str.startswith(\"This\")\n",
    "\n",
    "# Test if string contains in a given pattern\n",
    "df[\"desc_contains_This\"] = df[\"description\"].str.contains(\"This\")\n",
    "\n",
    "# Count the occurrences of a pattern\n",
    "df[\"desc_count_This\"] = df[\"description\"].str.count(\"This\")\n",
    "\n",
    "# Split string into a list of strings, by using a given separator\n",
    "df[\"desc_split\"] = df[\"description\"].str.split(\",\")\n",
    "\n",
    "# For the braves: how to count words\n",
    "df[\"desc_wordcount\"] = df['description'].str.split(\" \").apply(lambda x: len(x))\n",
    "\n",
    "df.head()"
   ]
  },
  {
   "cell_type": "code",
   "execution_count": null,
   "metadata": {},
   "outputs": [],
   "source": []
  }
 ],
 "metadata": {
  "kernelspec": {
   "display_name": "Python 3",
   "language": "python",
   "name": "python3"
  },
  "language_info": {
   "codemirror_mode": {
    "name": "ipython",
    "version": 3
   },
   "file_extension": ".py",
   "mimetype": "text/x-python",
   "name": "python",
   "nbconvert_exporter": "python",
   "pygments_lexer": "ipython3",
   "version": "3.12.4"
  }
 },
 "nbformat": 4,
 "nbformat_minor": 2
}
