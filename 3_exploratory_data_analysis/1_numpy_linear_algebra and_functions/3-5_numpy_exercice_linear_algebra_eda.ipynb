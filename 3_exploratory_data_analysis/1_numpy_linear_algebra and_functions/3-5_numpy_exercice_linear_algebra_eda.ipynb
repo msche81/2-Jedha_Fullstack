{
 "cells": [
  {
   "cell_type": "markdown",
   "metadata": {},
   "source": [
    "1 - Import numpy"
   ]
  },
  {
   "cell_type": "code",
   "execution_count": 1,
   "metadata": {},
   "outputs": [],
   "source": [
    "import numpy as np"
   ]
  },
  {
   "cell_type": "code",
   "execution_count": 4,
   "metadata": {},
   "outputs": [
    {
     "name": "stdout",
     "output_type": "stream",
     "text": [
      "vector u: (3,)\n",
      "[ 2  9 -1]\n",
      "vector v: (3,)\n",
      "[1 5 3]\n"
     ]
    },
    {
     "data": {
      "text/plain": [
       "array([ 3, 14,  2])"
      ]
     },
     "execution_count": 4,
     "metadata": {},
     "output_type": "execute_result"
    }
   ],
   "source": [
    "u_vec = np.array([2, 9, -1])\n",
    "v_vec = np.array([1, 5, 3])\n",
    "print(\"vector u:\", u_vec.shape)\n",
    "print(u_vec)\n",
    "print(\"vector v:\", v_vec.shape)\n",
    "print (v_vec)\n",
    "\n",
    "u_vec + v_vec"
   ]
  },
  {
   "cell_type": "code",
   "execution_count": 6,
   "metadata": {},
   "outputs": [
    {
     "data": {
      "text/plain": [
       "array([ 6, -5, -1])"
      ]
     },
     "execution_count": 6,
     "metadata": {},
     "output_type": "execute_result"
    }
   ],
   "source": [
    "u_vec = np.array([10, -2, 1])\n",
    "v_vec = np.array([4, 3, 2])\n",
    "u_vec - v_vec"
   ]
  },
  {
   "cell_type": "code",
   "execution_count": 8,
   "metadata": {},
   "outputs": [
    {
     "data": {
      "text/plain": [
       "array([12, -4,  8])"
      ]
     },
     "execution_count": 8,
     "metadata": {},
     "output_type": "execute_result"
    }
   ],
   "source": [
    "u_vec = np.array([1, -2, 2])\n",
    "v_vec = np.array([2, 1, 0])\n",
    "4*(u_vec + v_vec)"
   ]
  },
  {
   "cell_type": "code",
   "execution_count": 9,
   "metadata": {},
   "outputs": [
    {
     "name": "stdout",
     "output_type": "stream",
     "text": [
      "Norm of u:\n",
      "5.477225575051661\n",
      "Norm of v:\n",
      "5.477225575051661\n"
     ]
    }
   ],
   "source": [
    "u_vec = np.array([1, 2, 3, 4])\n",
    "v_vec = np.array([-1, 2, -3, 4])\n",
    "print(\"Norm of u:\")\n",
    "print(np.linalg.norm(u_vec))\n",
    "print(\"Norm of v:\")\n",
    "print(np.linalg.norm(v_vec))"
   ]
  },
  {
   "cell_type": "code",
   "execution_count": 10,
   "metadata": {},
   "outputs": [
    {
     "data": {
      "text/plain": [
       "array([[3, 5, 7],\n",
       "       [5, 3, 9],\n",
       "       [7, 9, 3]])"
      ]
     },
     "execution_count": 10,
     "metadata": {},
     "output_type": "execute_result"
    }
   ],
   "source": [
    "A_mat = np.array([[1, 2, 3],\n",
    "                  [2, 1, 4],\n",
    "                  [3, 4, 1]])\n",
    "\n",
    "B_mat = np.array([[2, 3, 4],\n",
    "                  [3, 2, 5],\n",
    "                  [4, 5, 2]])\n",
    "A_mat + B_mat"
   ]
  },
  {
   "cell_type": "code",
   "execution_count": 13,
   "metadata": {},
   "outputs": [
    {
     "data": {
      "text/plain": [
       "array([[0, 1, 2],\n",
       "       [1, 0, 3],\n",
       "       [2, 3, 0]])"
      ]
     },
     "execution_count": 13,
     "metadata": {},
     "output_type": "execute_result"
    }
   ],
   "source": [
    "2*A_mat-B_mat"
   ]
  },
  {
   "cell_type": "code",
   "execution_count": 14,
   "metadata": {},
   "outputs": [
    {
     "name": "stdout",
     "output_type": "stream",
     "text": [
      "AB: \n",
      "[[2 2 4]\n",
      " [5 2 0]\n",
      " [4 5 2]]\n",
      "\n",
      "BA: \n",
      "[[2 0 4]\n",
      " [5 2 2]\n",
      " [4 5 2]]\n"
     ]
    }
   ],
   "source": [
    "A_mat = np.array([[1, 0, 2],\n",
    "                  [2, 1, 0],\n",
    "                  [1, 2, 1]])\n",
    "\n",
    "B_mat = np.array([[2, 0, 0],\n",
    "                  [1, 2, 0],\n",
    "                  [0, 1, 2]])\n",
    "\n",
    "print(\"AB: \")\n",
    "print(A_mat.dot(B_mat))\n",
    "print()\n",
    "print(\"BA: \")\n",
    "print(B_mat.dot(A_mat))\n"
   ]
  },
  {
   "cell_type": "code",
   "execution_count": 17,
   "metadata": {},
   "outputs": [
    {
     "name": "stdout",
     "output_type": "stream",
     "text": [
      "AB: \n",
      "[[2 0 0]\n",
      " [5 2 0]\n",
      " [4 4 0]]\n",
      "\n",
      "BA: \n",
      "[[2 0]\n",
      " [5 2]]\n"
     ]
    }
   ],
   "source": [
    "A_mat = np.array([[1, 0],\n",
    "                  [2, 1],\n",
    "                  [1, 2]])\n",
    "\n",
    "B_mat = np.array([[2, 0, 0],\n",
    "                  [1, 2, 0]])\n",
    "\n",
    "print(\"AB: \")\n",
    "print(A_mat.dot(B_mat))\n",
    "print()\n",
    "print(\"BA: \")\n",
    "print(B_mat.dot(A_mat))"
   ]
  },
  {
   "cell_type": "code",
   "execution_count": 20,
   "metadata": {},
   "outputs": [
    {
     "data": {
      "text/plain": [
       "array([ 3, -1,  3])"
      ]
     },
     "execution_count": 20,
     "metadata": {},
     "output_type": "execute_result"
    }
   ],
   "source": [
    "A_mat = np.array([[1, 0, 2],\n",
    "                  [2, 1, 0],\n",
    "                  [1, 2, 1]])\n",
    "\n",
    "B_mat = np.array([-1, 1, 2])\n",
    "\n",
    "y_vec = A_mat @ B_mat\n",
    "y_vec"
   ]
  },
  {
   "cell_type": "code",
   "execution_count": 24,
   "metadata": {},
   "outputs": [
    {
     "name": "stdout",
     "output_type": "stream",
     "text": [
      "dot product: 0\n"
     ]
    }
   ],
   "source": [
    "A_mat = np.array([2, -3, -1])\n",
    "B_mat = np.array([3, 1, 3])\n",
    "print(\"dot product:\", B_mat.dot(A_mat))"
   ]
  },
  {
   "cell_type": "code",
   "execution_count": 32,
   "metadata": {},
   "outputs": [
    {
     "name": "stdout",
     "output_type": "stream",
     "text": [
      "Element-wise division:  [-4.  4. -4.]\n"
     ]
    }
   ],
   "source": [
    "A_mat = np.array([4, -2, -1])\n",
    "B_vec = np.array([-1, -1/2, 1/4])\n",
    "\n",
    "print(\"Element-wise division: \", A_mat/B_vec)"
   ]
  },
  {
   "cell_type": "code",
   "execution_count": 33,
   "metadata": {},
   "outputs": [
    {
     "name": "stdout",
     "output_type": "stream",
     "text": [
      "[1 2]\n",
      "C_vec - B_vec [1 2]\n"
     ]
    }
   ],
   "source": [
    "A_mat = np.array([1, 2])\n",
    "B_vec = np.array([-2, 1])\n",
    "C_vec = np.array([-1, 3])\n",
    "\n",
    "print(A_mat)\n",
    "print(\"C_vec - B_vec\", C_vec - B_vec)"
   ]
  },
  {
   "cell_type": "code",
   "execution_count": 34,
   "metadata": {},
   "outputs": [],
   "source": [
    "A = np.array([[2, 1, 0],\n",
    "              [1, 2, 1],\n",
    "              [0, 1, 2]])\n",
    "\n",
    "c = np.array([2, 0,1])"
   ]
  },
  {
   "cell_type": "code",
   "execution_count": 35,
   "metadata": {},
   "outputs": [
    {
     "name": "stdout",
     "output_type": "stream",
     "text": [
      "Solution: x =  [ 1.75 -1.5   1.25]\n"
     ]
    }
   ],
   "source": [
    "x = np.linalg.solve(A, c)\n",
    "print(\"Solution: x = \", x)"
   ]
  },
  {
   "cell_type": "code",
   "execution_count": 36,
   "metadata": {},
   "outputs": [
    {
     "name": "stdout",
     "output_type": "stream",
     "text": [
      "Inverse of A: \n",
      "[[ 0.75 -0.5   0.25]\n",
      " [-0.5   1.   -0.5 ]\n",
      " [ 0.25 -0.5   0.75]]\n",
      "\n",
      "Solution: x =  [ 1.75 -1.5   1.25]\n"
     ]
    }
   ],
   "source": [
    "A_inv = np.linalg.inv(A)\n",
    "print(\"Inverse of A: \")\n",
    "print(A_inv)\n",
    "print()\n",
    "\n",
    "print(\"Solution: x = \", A_inv @ c)"
   ]
  },
  {
   "cell_type": "code",
   "execution_count": 37,
   "metadata": {},
   "outputs": [
    {
     "name": "stdout",
     "output_type": "stream",
     "text": [
      "Au:  [2 2]\n",
      "Av:  [1 2]\n"
     ]
    }
   ],
   "source": [
    "A = np.array([[3, -1],\n",
    "              [2, 0]])\n",
    "\n",
    "u = np.array([1, 1])\n",
    "v = np.array([1, 2])\n",
    "\n",
    "print(\"Au: \", A @ u)\n",
    "print(\"Av: \", A @ v)"
   ]
  },
  {
   "cell_type": "code",
   "execution_count": 38,
   "metadata": {},
   "outputs": [
    {
     "name": "stdout",
     "output_type": "stream",
     "text": [
      "eigenvectors of A:\n",
      "[[0.70710678 0.4472136 ]\n",
      " [0.70710678 0.89442719]]\n",
      "eigenvalues of A:\n",
      "[2. 1.]\n"
     ]
    }
   ],
   "source": [
    "eigenvals, eigenvecs = np.linalg.eig(A)\n",
    "print(\"eigenvectors of A:\")\n",
    "print(eigenvecs)\n",
    "print(\"eigenvalues of A:\")\n",
    "print(eigenvals)"
   ]
  },
  {
   "cell_type": "code",
   "execution_count": null,
   "metadata": {},
   "outputs": [],
   "source": []
  }
 ],
 "metadata": {
  "kernelspec": {
   "display_name": "Python 3",
   "language": "python",
   "name": "python3"
  },
  "language_info": {
   "codemirror_mode": {
    "name": "ipython",
    "version": 3
   },
   "file_extension": ".py",
   "mimetype": "text/x-python",
   "name": "python",
   "nbconvert_exporter": "python",
   "pygments_lexer": "ipython3",
   "version": "3.12.4"
  }
 },
 "nbformat": 4,
 "nbformat_minor": 2
}
