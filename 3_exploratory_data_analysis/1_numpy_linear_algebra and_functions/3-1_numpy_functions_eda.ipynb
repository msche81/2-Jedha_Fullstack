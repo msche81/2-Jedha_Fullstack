{
 "cells": [
  {
   "cell_type": "code",
   "execution_count": 6,
   "metadata": {},
   "outputs": [],
   "source": [
    "import numpy as np\n",
    "import math"
   ]
  },
  {
   "cell_type": "code",
   "execution_count": 9,
   "metadata": {},
   "outputs": [
    {
     "name": "stdout",
     "output_type": "stream",
     "text": [
      "4 squared:  16.0\n",
      "2 power 5:  32.0\n",
      "Square root of 25:  5.0\n",
      "Cube root of 64:  4.0\n"
     ]
    }
   ],
   "source": [
    "# Example with numpy: pow and sqrt\n",
    "print(\"4 squared: \", math.pow(4, 2))\n",
    "print(\"2 power 5: \", math.pow(2, 5)) #“2 à la puissance 5” signifie que le nombre 2 est multiplié par lui-même 5 fois.\n",
    "print(\"Square root of 25: \", np.sqrt(25)) # sqrt is not in the math module !\n",
    "print(\"Cube root of 64: \", np.cbrt(64)) # neither is cbrt ! La racine cubique de 64 signifie trouver un nombre qui, lorsqu’il est multiplié par lui-même trois fois, donne 64"
   ]
  },
  {
   "cell_type": "code",
   "execution_count": 11,
   "metadata": {},
   "outputs": [
    {
     "name": "stdout",
     "output_type": "stream",
     "text": [
      "Exponential of 1:  2.718281828459045\n",
      "Exponential of 0:  1.0\n",
      "Natural logarithm of 10:  2.302585092994046\n",
      "Base 10 logarithm of 10:  1.0\n"
     ]
    }
   ],
   "source": [
    "# Exponential and logarithm\n",
    "# Example with numpy\n",
    "print(\"Exponential of 1: \", np.exp(1))\n",
    "print(\"Exponential of 0: \", np.exp(0))\n",
    "print(\"Natural logarithm of 10: \", np.log(10)) # \"log\" refers to the natural logarithm\n",
    "print(\"Base 10 logarithm of 10: \", np.log10(10)) # \"log10\" refers to the logarithm of base 10"
   ]
  },
  {
   "cell_type": "code",
   "execution_count": 12,
   "metadata": {},
   "outputs": [
    {
     "name": "stdout",
     "output_type": "stream",
     "text": [
      "Cosinus of 0:  1.0\n",
      "Cosinus of pi:  -1.0\n",
      "Cosinus of pi/2:  0.0\n",
      "\n",
      "Sinus of 0:  0.0\n",
      "Sinus of pi:  0.0\n",
      "Sinus of pi/2:  1.0\n",
      "\n",
      "Tan of 0:  0.0\n",
      "Tan of pi:  -0.0\n",
      "Tan of pi/2:  1.633123935319537e+16\n",
      "\n"
     ]
    }
   ],
   "source": [
    "# trigonometrics functions\n",
    "# Examples with numpy\n",
    "print(\"Cosinus of 0: \", np.cos(0))\n",
    "print(\"Cosinus of pi: \", np.cos(np.pi))\n",
    "print(\"Cosinus of pi/2: \", np.cos(np.pi/2).round(2))\n",
    "print()\n",
    "print(\"Sinus of 0: \", np.sin(0))\n",
    "print(\"Sinus of pi: \", np.sin(np.pi).round(2))\n",
    "print(\"Sinus of pi/2: \", np.sin(np.pi/2))\n",
    "print()\n",
    "print(\"Tan of 0: \", np.tan(0))\n",
    "print(\"Tan of pi: \", np.tan(np.pi).round(2))\n",
    "print(\"Tan of pi/2: \", np.tan(np.pi/2)) # this will diverge !\n",
    "print()"
   ]
  },
  {
   "cell_type": "code",
   "execution_count": null,
   "metadata": {},
   "outputs": [],
   "source": [
    "# random numbers\n",
    "print(\"Sample of 30 random values drawn from a discrete uniform distribution on [0, 10]: \")\n",
    "print(np.random.randint(0, 10, 30))\n",
    "print()\n",
    "print(\"Sample of 20 random values drawn from a discrete uniform distribution on [-2, 2]: \")\n",
    "print(np.random.randint(-2, 2, 20))\n",
    "print()\n"
   ]
  }
 ],
 "metadata": {
  "kernelspec": {
   "display_name": "Python 3",
   "language": "python",
   "name": "python3"
  },
  "language_info": {
   "codemirror_mode": {
    "name": "ipython",
    "version": 3
   },
   "file_extension": ".py",
   "mimetype": "text/x-python",
   "name": "python",
   "nbconvert_exporter": "python",
   "pygments_lexer": "ipython3",
   "version": "3.12.4"
  }
 },
 "nbformat": 4,
 "nbformat_minor": 2
}
