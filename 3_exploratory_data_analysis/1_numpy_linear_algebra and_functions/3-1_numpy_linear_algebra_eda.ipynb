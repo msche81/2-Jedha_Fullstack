{
 "cells": [
  {
   "cell_type": "code",
   "execution_count": 1,
   "metadata": {},
   "outputs": [],
   "source": [
    "# import the library\n",
    "import numpy as np"
   ]
  },
  {
   "cell_type": "code",
   "execution_count": 2,
   "metadata": {},
   "outputs": [
    {
     "name": "stdout",
     "output_type": "stream",
     "text": [
      "[1 2 3 4 5]\n"
     ]
    }
   ],
   "source": [
    "# initialize a numpy array representing a vector of 5 integer elements\n",
    "A = np.array([1, 2, 3, 4, 5], dtype=int)\n",
    "print(A)"
   ]
  },
  {
   "cell_type": "code",
   "execution_count": 3,
   "metadata": {},
   "outputs": [
    {
     "name": "stdout",
     "output_type": "stream",
     "text": [
      "[1 2 3 4 5]\n",
      "int64\n"
     ]
    }
   ],
   "source": [
    "# if you don't specify the dtype, numpy will deduce it from the values present in the table\n",
    "my_array = np.array([1, 2, 3, 4, 5])\n",
    "print(my_array)\n",
    "print(my_array.dtype)"
   ]
  },
  {
   "cell_type": "code",
   "execution_count": 4,
   "metadata": {},
   "outputs": [
    {
     "ename": "NameError",
     "evalue": "name 'blavla' is not defined",
     "output_type": "error",
     "traceback": [
      "\u001b[0;31m---------------------------------------------------------------------------\u001b[0m",
      "\u001b[0;31mNameError\u001b[0m                                 Traceback (most recent call last)",
      "Cell \u001b[0;32mIn[4], line 1\u001b[0m\n\u001b[0;32m----> 1\u001b[0m my_array \u001b[38;5;241m=\u001b[39m np\u001b[38;5;241m.\u001b[39marray([\u001b[38;5;241m1\u001b[39m, \u001b[43mblavla\u001b[49m, \u001b[38;5;241m3\u001b[39m, \u001b[38;5;241m4\u001b[39m, \u001b[38;5;241m4.56\u001b[39m])\n\u001b[1;32m      2\u001b[0m \u001b[38;5;28mprint\u001b[39m(my_array)\n\u001b[1;32m      3\u001b[0m \u001b[38;5;28mprint\u001b[39m(my_array\u001b[38;5;241m.\u001b[39mdtype)\n",
      "\u001b[0;31mNameError\u001b[0m: name 'blavla' is not defined"
     ]
    }
   ],
   "source": [
    "my_array = np.array([1, blavla, 3, 4, 4.56])\n",
    "print(my_array)\n",
    "print(my_array.dtype)"
   ]
  },
  {
   "cell_type": "code",
   "execution_count": null,
   "metadata": {},
   "outputs": [],
   "source": [
    "# You can use nested lists to initialize a matrix or a tensor of a higer rank:\n",
    "my_matrix = np.array([[1, 2, 3],\n",
    "                      [5, 6, 7]])\n",
    "print(my_matrix)\n",
    "print(\"Shape of the matrix:\", my_matrix.shape)"
   ]
  },
  {
   "cell_type": "code",
   "execution_count": null,
   "metadata": {},
   "outputs": [],
   "source": [
    "my_tensor = np.array([[[1, 2, 3],\n",
    "                       [4, 5, 6]],\n",
    "                       [[7, 8, 9],\n",
    "                       [10, 11, 12]]])\n",
    "print(my_tensor)\n",
    "print(\"Shape of the tensor\", my_tensor.shape)"
   ]
  },
  {
   "cell_type": "code",
   "execution_count": null,
   "metadata": {},
   "outputs": [],
   "source": [
    "# Representation of a vector v in numpy\n",
    "v_vec = np.array([2, 3, 5])\n",
    "print(v_vec)\n",
    "print(\"Shape of v\", v_vec.shape)"
   ]
  },
  {
   "cell_type": "code",
   "execution_count": null,
   "metadata": {},
   "outputs": [],
   "source": [
    "# Representation of A (Matrix)\n",
    "A_mat = np.array([[1, 2],\n",
    "                  [-1, 3],\n",
    "                  [0, 4]])\n",
    "print(A_mat)\n",
    "print(\"Shape of A:\", A_mat.shape)"
   ]
  },
  {
   "cell_type": "code",
   "execution_count": null,
   "metadata": {},
   "outputs": [],
   "source": [
    "# Vector Operations\n",
    "# Example with numpy\n",
    "\n",
    "u_vec = np.array([6, 0, 2])\n",
    "v_vec = np.array([-1, -2, 3])\n",
    "print(\"vector u:\", u_vec.shape)\n",
    "print(u_vec)\n",
    "print(\"vector v:\", v_vec.shape)\n",
    "print (v_vec)\n",
    "print()\n",
    "\n",
    "#T The operators +, - and * work with my numpy arrays!\n",
    "print(\"addition of u and v:\")\n",
    "print(u_vec + v_vec)\n",
    "print()\n",
    "print(\"substraction of u and v:\")\n",
    "print(u_vec - v_vec)\n",
    "print()\n",
    "print(\"scaling of u by a factor 3:\")\n",
    "print(3*u_vec)\n"
   ]
  },
  {
   "cell_type": "code",
   "execution_count": null,
   "metadata": {},
   "outputs": [],
   "source": [
    "# Example with numpy\n",
    "print(\"vector u:\")\n",
    "print(u_vec)\n",
    "print(\"vector v:\")\n",
    "print(v_vec)\n",
    "print()\n",
    " \n",
    "# Norm of vectors\n",
    "print(\"-- norm of u and v --\")\n",
    "print(\"Norm of u:\")\n",
    "print(np.linalg.norm(u_vec)) # use norm function from the linalg module\n",
    "print(\"Norm of v:\")\n",
    "print(np.linalg.norm(v_vec))\n",
    "print()\n",
    "\n",
    "# Dot-product of u and v\n",
    "print(\"-- dot-product of u and v --\")\n",
    "print(u_vec.dot(v_vec))"
   ]
  },
  {
   "cell_type": "code",
   "execution_count": null,
   "metadata": {},
   "outputs": [],
   "source": [
    "# Matrix operations\n",
    "A_mat = np.array([[1, 2, 3],\n",
    "                  [4, 5, 6],\n",
    "                  [7, 8, 9]])\n",
    "\n",
    "B_mat = np.array([[10, 10, 10],\n",
    "                  [20, 20, 20],\n",
    "                  [30, 30, 30]])\n",
    "\n",
    "print(\"matrix A:\")\n",
    "print(A_mat)\n",
    "print(\"matrix B:\")\n",
    "print(B_mat)\n",
    "print()\n",
    "\n",
    "print(\"Addition of A and B:\")\n",
    "print(A_mat + B_mat) # the + operator also works for any rank of numpy array : vectors, matrices ans tensors !\n",
    "print()\n",
    "\n",
    "print(\"Substraction of A and B:\")\n",
    "print(A_mat - B_mat) # same for the - operator\n",
    "print()\n",
    "\n",
    "print(\"Scaling of A by a factor 2:\")\n",
    "print(2*A_mat) # same for the * operator\n"
   ]
  },
  {
   "cell_type": "code",
   "execution_count": null,
   "metadata": {},
   "outputs": [],
   "source": [
    "# Matrix product\n",
    "# Example with numpy\n",
    "print(\"matrix A:\")\n",
    "print(A_mat)\n",
    "print(\"matrix B:\")\n",
    "print(B_mat)\n",
    "print()\n",
    "\n",
    "# The @ operator represents matrix multiplication\n",
    "print(\"-- With @ operator --\")\n",
    "print(\"Matrix product AB: \")\n",
    "print(A_mat @ B_mat)\n",
    "print()\n",
    "print(\"Matrix product BA: \")\n",
    "print(B_mat @ A_mat)\n",
    "print()\n",
    "\n",
    "# Another way of computing matrix multiplication is to use the dot product !\n",
    "print(\"-- With .dot function --\")\n",
    "print(\"Matrix product AB: \")\n",
    "print(A_mat.dot(B_mat))\n",
    "print()\n",
    "print(\"Matrix product BA: \")\n",
    "print(B_mat.dot(A_mat))\n",
    "print()\n"
   ]
  },
  {
   "cell_type": "code",
   "execution_count": null,
   "metadata": {},
   "outputs": [],
   "source": [
    "# Matrix-vector product\n",
    "# Example with numpy\n",
    "C_mat = np.array([[1, 2],\n",
    "                 [3, 4],\n",
    "                  [5, 6]])\n",
    "x_vec = np.array([5, -2])\n",
    "\n",
    "print(\"matrix C of shape \", C_mat.shape)\n",
    "print(C_mat)\n",
    "print()\n",
    "print(\"vector x of shape \", x_vec.shape)\n",
    "print(x_vec)\n",
    "print()\n",
    "\n",
    "# Compute matrix-vector product\n",
    "y_vec = C_mat @ x_vec\n",
    "print(\"The product Cx gives another vector y of shape \", y_vec.shape)\n",
    "print(y_vec)"
   ]
  },
  {
   "cell_type": "code",
   "execution_count": null,
   "metadata": {},
   "outputs": [],
   "source": [
    "# Matrix transpose\n",
    "# Example with numpy\n",
    "print(\"matrix A:\")\n",
    "print(A_mat)\n",
    "print(\"Transpose of A:\")\n",
    "print(A_mat.T) # .T allows to transpose a numpy array\n",
    "print()\n",
    "print(\"matrix B:\")\n",
    "print(B_mat)\n",
    "print(\"Transpose of B:\")\n",
    "print(B_mat.T)\n",
    "print()\n",
    "\n",
    "print(\"Tranpose(AB):\")\n",
    "print((A_mat @ B_mat).T)\n",
    "print()\n",
    "\n",
    "print(\"Tranpose(B) @ Tranpose(A):\")\n",
    "print(B_mat.T @ A_mat.T)"
   ]
  },
  {
   "cell_type": "code",
   "execution_count": null,
   "metadata": {},
   "outputs": [],
   "source": [
    "# Identity matrix\n",
    "# identity matrix in numpy\n",
    "id_mat = np.identity(3, dtype = 'int')\n",
    "print(\"identity matrix I: \")\n",
    "print(id_mat)\n",
    "print(\"matrix A:\")\n",
    "print(A_mat)\n",
    "print()\n",
    "\n",
    "print(\"IA:\")\n",
    "print(id_mat @ A_mat)\n",
    "print(\"AI:\")\n",
    "print(A_mat @ id_mat)"
   ]
  },
  {
   "cell_type": "code",
   "execution_count": 5,
   "metadata": {},
   "outputs": [
    {
     "name": "stdout",
     "output_type": "stream",
     "text": [
      "matrix D:\n",
      "[[ 3  0  2]\n",
      " [ 2  0 -2]\n",
      " [ 0  1  1]]\n",
      "\n",
      "Inverse of D:\n",
      "[[ 0.2  0.2  0. ]\n",
      " [-0.2  0.3  1. ]\n",
      " [ 0.2 -0.3 -0. ]]\n",
      "\n",
      "Let's check the matrix product of D with its inverse:\n",
      "[[ 1.  0. -0.]\n",
      " [ 0.  1.  0.]\n",
      " [ 0.  0.  1.]]\n",
      "\n",
      "[[ 1.  0.  0.]\n",
      " [-0.  1.  0.]\n",
      " [ 0.  0.  1.]]\n"
     ]
    }
   ],
   "source": [
    "# Inverse of a matrix\n",
    "# Example with numpy\n",
    "print(\"matrix D:\")\n",
    "D_mat = np.array([[3, 0, 2],\n",
    "                  [2, 0, -2],\n",
    "                  [0, 1, 1]], dtype = 'int')\n",
    "print(D_mat)\n",
    "print()\n",
    "\n",
    "print(\"Inverse of D:\")\n",
    "D_mat_inv = np.linalg.inv(D_mat)\n",
    "print(D_mat_inv)\n",
    "print()\n",
    "\n",
    "print(\"Let's check the matrix product of D with its inverse:\")\n",
    "print((D_mat_inv @ D_mat).round(2))\n",
    "print()\n",
    "print((D_mat @ D_mat_inv).round(2))"
   ]
  },
  {
   "cell_type": "code",
   "execution_count": 6,
   "metadata": {},
   "outputs": [
    {
     "name": "stdout",
     "output_type": "stream",
     "text": [
      "Matrix U:\n",
      "[[ 0.66666667 -0.66666667  0.33333333]\n",
      " [ 0.33333333  0.66666667  0.66666667]\n",
      " [ 0.66666667  0.33333333 -0.66666667]]\n",
      "\n",
      "Tranpose of matrix U:\n",
      "[[ 0.66666667  0.33333333  0.66666667]\n",
      " [-0.66666667  0.66666667  0.33333333]\n",
      " [ 0.33333333  0.66666667 -0.66666667]]\n",
      "\n",
      "Matrix product of tranpose(U) and U:\n",
      "[[ 1.  0.  0.]\n",
      " [ 0.  1. -0.]\n",
      " [ 0. -0.  1.]]\n"
     ]
    }
   ],
   "source": [
    "# Orthogonality of matrices\n",
    "# Example with numpy\n",
    "U_mat = np.array([[2/3, -2/3, 1/3],\n",
    "                  [1/3, 2/3, 2/3],\n",
    "                  [2/3, 1/3, -2/3]])\n",
    "print(\"Matrix U:\")\n",
    "print(U_mat)\n",
    "print()\n",
    "\n",
    "print(\"Tranpose of matrix U:\")\n",
    "print(U_mat.T)\n",
    "print()\n",
    "\n",
    "print(\"Matrix product of tranpose(U) and U:\")\n",
    "print((U_mat.T @ U_mat).round(2))"
   ]
  },
  {
   "cell_type": "code",
   "execution_count": 7,
   "metadata": {},
   "outputs": [
    {
     "name": "stdout",
     "output_type": "stream",
     "text": [
      "Matrix A:\n",
      "[[1 2]\n",
      " [3 9]]\n",
      "Vector b:\n",
      "[ 5 21]\n",
      "\n",
      "-- Method 1 --\n",
      "Solution of equation Ax = b:\n",
      "x =  [1. 2.]\n",
      "\n",
      "-- Method 2 --\n",
      "Solution of equation Ax = b:\n",
      "x =  [1. 2.]\n"
     ]
    }
   ],
   "source": [
    "# Systems of lineat equations : Matrix representation\n",
    "# Example with numpy\n",
    "A_mat = np.array([[1, 2],\n",
    "                  [3, 9]])\n",
    "b_vec = np.array([5, 21])\n",
    "print(\"Matrix A:\")\n",
    "print(A_mat)\n",
    "print(\"Vector b:\")\n",
    "print(b_vec)\n",
    "print()\n",
    "\n",
    "## Method 1\n",
    "print(\"-- Method 1 --\")\n",
    "# Compute inverse of matrix A\n",
    "A_mat_inv = np.linalg.inv(A_mat)\n",
    "# Solve equation\n",
    "x_vec = A_mat_inv @ b_vec\n",
    "print(\"Solution of equation Ax = b:\")\n",
    "print(\"x = \", x_vec)\n",
    "print()\n",
    "\n",
    "## Method 2 : with np.linalg.solve\n",
    "print(\"-- Method 2 --\")\n",
    "x_vec = np.linalg.solve(A_mat, b_vec)\n",
    "print(\"Solution of equation Ax = b:\")\n",
    "print(\"x = \", x_vec)"
   ]
  },
  {
   "cell_type": "code",
   "execution_count": 8,
   "metadata": {},
   "outputs": [
    {
     "name": "stdout",
     "output_type": "stream",
     "text": [
      "Matrix A:\n",
      "[[ 3  4 -2]\n",
      " [ 1  4 -1]\n",
      " [ 2  6 -1]]\n",
      "\n",
      "Eigenvalues of A:\n",
      "[3. 2. 1.]\n",
      "\n",
      "Eigenvectors of A:\n",
      "[[-0.408  0.     0.707]\n",
      " [-0.408  0.447 -0.   ]\n",
      " [-0.816  0.894  0.707]]\n",
      "\n",
      "Let's check the effect of A on its first eigenvector: \n",
      "[-1.22474487 -1.22474487 -2.44948974]\n",
      "The above is equal to the eigenvector scaled by its eigenvalue (3):\n",
      "[-1.22474487 -1.22474487 -2.44948974]\n"
     ]
    }
   ],
   "source": [
    "# Matrix diagonalization\n",
    "# Example with numpy\n",
    "A_mat = np.array([[3, 4, -2],\n",
    "                  [1, 4, -1],\n",
    "                  [2, 6, -1]])\n",
    "print(\"Matrix A:\")\n",
    "print(A_mat)\n",
    "print()\n",
    "\n",
    "eigenvals, eigenvecs = np.linalg.eig(A_mat)\n",
    "print(\"Eigenvalues of A:\")\n",
    "print(eigenvals)\n",
    "print()\n",
    "print(\"Eigenvectors of A:\")\n",
    "print(eigenvecs.round(3))\n",
    "print()\n",
    "\n",
    "print(\"Let's check the effect of A on its first eigenvector: \")\n",
    "print(A_mat @ eigenvecs[:,0])\n",
    "print(\"The above is equal to the eigenvector scaled by its eigenvalue (3):\")\n",
    "print(3*eigenvecs[:,0])"
   ]
  },
  {
   "cell_type": "code",
   "execution_count": null,
   "metadata": {},
   "outputs": [],
   "source": []
  }
 ],
 "metadata": {
  "kernelspec": {
   "display_name": "Python 3",
   "language": "python",
   "name": "python3"
  },
  "language_info": {
   "codemirror_mode": {
    "name": "ipython",
    "version": 3
   },
   "file_extension": ".py",
   "mimetype": "text/x-python",
   "name": "python",
   "nbconvert_exporter": "python",
   "pygments_lexer": "ipython3",
   "version": "3.12.4"
  }
 },
 "nbformat": 4,
 "nbformat_minor": 2
}
