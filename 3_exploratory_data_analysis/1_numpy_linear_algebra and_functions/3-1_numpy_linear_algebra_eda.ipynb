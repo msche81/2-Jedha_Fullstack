{
 "cells": [
  {
   "cell_type": "code",
   "execution_count": 1,
   "metadata": {},
   "outputs": [],
   "source": [
    "# import the library\n",
    "import numpy as np"
   ]
  },
  {
   "cell_type": "code",
   "execution_count": 2,
   "metadata": {},
   "outputs": [
    {
     "name": "stdout",
     "output_type": "stream",
     "text": [
      "[1 2 3 4 5]\n"
     ]
    }
   ],
   "source": [
    "# initialize a numpy array representing a vector of 5 integer elements\n",
    "A = np.array([1, 2, 3, 4, 5], dtype=int)\n",
    "print(A)"
   ]
  },
  {
   "cell_type": "code",
   "execution_count": 3,
   "metadata": {},
   "outputs": [
    {
     "name": "stdout",
     "output_type": "stream",
     "text": [
      "[1 2 3 4 5]\n",
      "int64\n"
     ]
    }
   ],
   "source": [
    "# if you don't specify the dtype, numpy will deduce it from the values present in the table\n",
    "my_array = np.array([1, 2, 3, 4, 5])\n",
    "print(my_array)\n",
    "print(my_array.dtype)"
   ]
  },
  {
   "cell_type": "code",
   "execution_count": 4,
   "metadata": {},
   "outputs": [
    {
     "ename": "NameError",
     "evalue": "name 'blavla' is not defined",
     "output_type": "error",
     "traceback": [
      "\u001b[0;31m---------------------------------------------------------------------------\u001b[0m",
      "\u001b[0;31mNameError\u001b[0m                                 Traceback (most recent call last)",
      "Cell \u001b[0;32mIn[4], line 1\u001b[0m\n\u001b[0;32m----> 1\u001b[0m my_array \u001b[38;5;241m=\u001b[39m np\u001b[38;5;241m.\u001b[39marray([\u001b[38;5;241m1\u001b[39m, \u001b[43mblavla\u001b[49m, \u001b[38;5;241m3\u001b[39m, \u001b[38;5;241m4\u001b[39m, \u001b[38;5;241m4.56\u001b[39m])\n\u001b[1;32m      2\u001b[0m \u001b[38;5;28mprint\u001b[39m(my_array)\n\u001b[1;32m      3\u001b[0m \u001b[38;5;28mprint\u001b[39m(my_array\u001b[38;5;241m.\u001b[39mdtype)\n",
      "\u001b[0;31mNameError\u001b[0m: name 'blavla' is not defined"
     ]
    }
   ],
   "source": [
    "my_array = np.array([1, blavla, 3, 4, 4.56])\n",
    "print(my_array)\n",
    "print(my_array.dtype)"
   ]
  },
  {
   "cell_type": "code",
   "execution_count": 6,
   "metadata": {},
   "outputs": [
    {
     "name": "stdout",
     "output_type": "stream",
     "text": [
      "[[1 2 3]\n",
      " [5 6 7]]\n",
      "Shape of the matrix: (2, 3)\n"
     ]
    }
   ],
   "source": [
    "# You can use nested lists to initialize a matrix or a tensor of a higer rank:\n",
    "my_matrix = np.array([[1, 2, 3],\n",
    "                      [5, 6, 7]])\n",
    "print(my_matrix)\n",
    "print(\"Shape of the matrix:\", my_matrix.shape)"
   ]
  },
  {
   "cell_type": "code",
   "execution_count": 8,
   "metadata": {},
   "outputs": [
    {
     "name": "stdout",
     "output_type": "stream",
     "text": [
      "[[[ 1  2  3]\n",
      "  [ 4  5  6]]\n",
      "\n",
      " [[ 7  8  9]\n",
      "  [10 11 12]]]\n",
      "Shape of the tensor (2, 2, 3)\n"
     ]
    }
   ],
   "source": [
    "my_tensor = np.array([[[1, 2, 3],\n",
    "                       [4, 5, 6]],\n",
    "                       [[7, 8, 9],\n",
    "                       [10, 11, 12]]])\n",
    "print(my_tensor)\n",
    "print(\"Shape of the tensor\", my_tensor.shape)"
   ]
  },
  {
   "cell_type": "code",
   "execution_count": 9,
   "metadata": {},
   "outputs": [
    {
     "name": "stdout",
     "output_type": "stream",
     "text": [
      "[2 3 5]\n",
      "Shape of v (3,)\n"
     ]
    }
   ],
   "source": [
    "# Representation of a vector v in numpy\n",
    "v_vec = np.array([2, 3, 5])\n",
    "print(v_vec)\n",
    "print(\"Shape of v\", v_vec.shape)"
   ]
  },
  {
   "cell_type": "code",
   "execution_count": 10,
   "metadata": {},
   "outputs": [
    {
     "name": "stdout",
     "output_type": "stream",
     "text": [
      "[[ 1  2]\n",
      " [-1  3]\n",
      " [ 0  4]]\n",
      "Shape of A: (3, 2)\n"
     ]
    }
   ],
   "source": [
    "# Representation of A (Matrix)\n",
    "A_mat = np.array([[1, 2],\n",
    "                  [-1, 3],\n",
    "                  [0, 4]])\n",
    "print(A_mat)\n",
    "print(\"Shape of A:\", A_mat.shape)"
   ]
  },
  {
   "cell_type": "code",
   "execution_count": 14,
   "metadata": {},
   "outputs": [
    {
     "name": "stdout",
     "output_type": "stream",
     "text": [
      "vector u: (3,)\n",
      "[6 0 2]\n",
      "vector v: (3,)\n",
      "[-1 -2  3]\n",
      "\n",
      "addition of u and v:\n",
      "[ 5 -2  5]\n",
      "\n",
      "substraction of u and v:\n",
      "[ 7  2 -1]\n",
      "\n",
      "scaling of u by a factor 3:\n",
      "[18  0  6]\n"
     ]
    }
   ],
   "source": [
    "# Vector Operations\n",
    "# Example with numpy\n",
    "\n",
    "u_vec = np.array([6, 0, 2])\n",
    "v_vec = np.array([-1, -2, 3])\n",
    "print(\"vector u:\", u_vec.shape)\n",
    "print(u_vec)\n",
    "print(\"vector v:\", v_vec.shape)\n",
    "print (v_vec)\n",
    "print()\n",
    "\n",
    "#T The operators +, - and * work with my numpy arrays!\n",
    "print(\"addition of u and v:\")\n",
    "print(u_vec + v_vec)\n",
    "print()\n",
    "print(\"substraction of u and v:\")\n",
    "print(u_vec - v_vec)\n",
    "print()\n",
    "print(\"scaling of u by a factor 3:\")\n",
    "print(3*u_vec)\n"
   ]
  },
  {
   "cell_type": "code",
   "execution_count": 16,
   "metadata": {},
   "outputs": [
    {
     "name": "stdout",
     "output_type": "stream",
     "text": [
      "vector u:\n",
      "[6 0 2]\n",
      "vector v:\n",
      "[-1 -2  3]\n",
      "\n",
      "-- norm of u and v --\n",
      "Norm of u:\n",
      "6.324555320336759\n",
      "Norm of v:\n",
      "3.7416573867739413\n",
      "\n",
      "-- dot-product of u and v --\n",
      "0\n"
     ]
    }
   ],
   "source": [
    "# Example with numpy\n",
    "print(\"vector u:\")\n",
    "print(u_vec)\n",
    "print(\"vector v:\")\n",
    "print(v_vec)\n",
    "print()\n",
    " \n",
    "# Norm of vectors\n",
    "print(\"-- norm of u and v --\")\n",
    "print(\"Norm of u:\")\n",
    "print(np.linalg.norm(u_vec)) # use norm function from the linalg module\n",
    "print(\"Norm of v:\")\n",
    "print(np.linalg.norm(v_vec))\n",
    "print()\n",
    "\n",
    "# Dot-product of u and v\n",
    "print(\"-- dot-product of u and v --\")\n",
    "print(u_vec.dot(v_vec))"
   ]
  },
  {
   "cell_type": "code",
   "execution_count": 17,
   "metadata": {},
   "outputs": [
    {
     "name": "stdout",
     "output_type": "stream",
     "text": [
      "matrix A:\n",
      "[[1 2 3]\n",
      " [4 5 6]\n",
      " [7 8 9]]\n",
      "matrix B:\n",
      "[[10 10 10]\n",
      " [20 20 20]\n",
      " [30 30 30]]\n",
      "\n",
      "Addition of A and B:\n",
      "[[11 12 13]\n",
      " [24 25 26]\n",
      " [37 38 39]]\n",
      "\n",
      "Substraction of A and B:\n",
      "[[ -9  -8  -7]\n",
      " [-16 -15 -14]\n",
      " [-23 -22 -21]]\n",
      "\n",
      "Scaling of A by a factor 2:\n",
      "[[ 2  4  6]\n",
      " [ 8 10 12]\n",
      " [14 16 18]]\n"
     ]
    }
   ],
   "source": [
    "# Matrix operations\n",
    "A_mat = np.array([[1, 2, 3],\n",
    "                  [4, 5, 6],\n",
    "                  [7, 8, 9]])\n",
    "\n",
    "B_mat = np.array([[10, 10, 10],\n",
    "                  [20, 20, 20],\n",
    "                  [30, 30, 30]])\n",
    "\n",
    "print(\"matrix A:\")\n",
    "print(A_mat)\n",
    "print(\"matrix B:\")\n",
    "print(B_mat)\n",
    "print()\n",
    "\n",
    "print(\"Addition of A and B:\")\n",
    "print(A_mat + B_mat) # the + operator also works for any rank of numpy array : vectors, matrices ans tensors !\n",
    "print()\n",
    "\n",
    "print(\"Substraction of A and B:\")\n",
    "print(A_mat - B_mat) # same for the - operator\n",
    "print()\n",
    "\n",
    "print(\"Scaling of A by a factor 2:\")\n",
    "print(2*A_mat) # same for the * operator\n"
   ]
  },
  {
   "cell_type": "code",
   "execution_count": 18,
   "metadata": {},
   "outputs": [
    {
     "name": "stdout",
     "output_type": "stream",
     "text": [
      "matrix A:\n",
      "[[1 2 3]\n",
      " [4 5 6]\n",
      " [7 8 9]]\n",
      "matrix B:\n",
      "[[10 10 10]\n",
      " [20 20 20]\n",
      " [30 30 30]]\n",
      "\n",
      "-- With @ operator --\n",
      "Matrix product AB: \n",
      "[[140 140 140]\n",
      " [320 320 320]\n",
      " [500 500 500]]\n",
      "\n",
      "Matrix product BA: \n",
      "[[120 150 180]\n",
      " [240 300 360]\n",
      " [360 450 540]]\n",
      "\n",
      "-- With .dot function --\n",
      "Matrix product AB: \n",
      "[[140 140 140]\n",
      " [320 320 320]\n",
      " [500 500 500]]\n",
      "\n",
      "Matrix product BA: \n",
      "[[120 150 180]\n",
      " [240 300 360]\n",
      " [360 450 540]]\n",
      "\n"
     ]
    }
   ],
   "source": [
    "# Matrix product\n",
    "# Example with numpy\n",
    "print(\"matrix A:\")\n",
    "print(A_mat)\n",
    "print(\"matrix B:\")\n",
    "print(B_mat)\n",
    "print()\n",
    "\n",
    "# The @ operator represents matrix multiplication\n",
    "print(\"-- With @ operator --\")\n",
    "print(\"Matrix product AB: \")\n",
    "print(A_mat @ B_mat)\n",
    "print()\n",
    "print(\"Matrix product BA: \")\n",
    "print(B_mat @ A_mat)\n",
    "print()\n",
    "\n",
    "# Another way of computing matrix multiplication is to use the dot product !\n",
    "print(\"-- With .dot function --\")\n",
    "print(\"Matrix product AB: \")\n",
    "print(A_mat.dot(B_mat))\n",
    "print()\n",
    "print(\"Matrix product BA: \")\n",
    "print(B_mat.dot(A_mat))\n",
    "print()\n"
   ]
  },
  {
   "cell_type": "code",
   "execution_count": null,
   "metadata": {},
   "outputs": [],
   "source": []
  }
 ],
 "metadata": {
  "kernelspec": {
   "display_name": "Python 3",
   "language": "python",
   "name": "python3"
  },
  "language_info": {
   "codemirror_mode": {
    "name": "ipython",
    "version": 3
   },
   "file_extension": ".py",
   "mimetype": "text/x-python",
   "name": "python",
   "nbconvert_exporter": "python",
   "pygments_lexer": "ipython3",
   "version": "3.12.4"
  }
 },
 "nbformat": 4,
 "nbformat_minor": 2
}
