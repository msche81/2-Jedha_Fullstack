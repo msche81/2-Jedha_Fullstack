{
 "cells": [
  {
   "cell_type": "code",
   "execution_count": 0,
   "metadata": {
    "application/vnd.databricks.v1+cell": {
     "cellMetadata": {
      "byteLimit": 2048000,
      "rowLimit": 10000
     },
     "inputWidgets": {},
     "nuid": "73b2d6e6-c6c4-4d2c-ad4b-950af8e3105b",
     "showTitle": false,
     "title": ""
    }
   },
   "outputs": [
    {
     "output_type": "stream",
     "name": "stdout",
     "output_type": "stream",
     "text": [
      "root\n |-- contentDetails_caption: string (nullable = true)\n |-- contentDetails_contentRating_ytRating: string (nullable = true)\n |-- contentDetails_definition: string (nullable = true)\n |-- contentDetails_dimension: string (nullable = true)\n |-- contentDetails_duration: string (nullable = true)\n |-- contentDetails_licensedContent: boolean (nullable = true)\n |-- contentDetails_projection: string (nullable = true)\n |-- etag: string (nullable = true)\n |-- id: string (nullable = true)\n |-- kind: string (nullable = true)\n |-- snippet_categoryId: string (nullable = true)\n |-- snippet_channelId: string (nullable = true)\n |-- snippet_channelTitle: string (nullable = true)\n |-- snippet_defaultAudioLanguage: string (nullable = true)\n |-- snippet_defaultLanguage: string (nullable = true)\n |-- snippet_liveBroadcastContent: string (nullable = true)\n |-- snippet_publishedAt: string (nullable = true)\n |-- snippet_thumbnails_default_height: long (nullable = true)\n |-- snippet_thumbnails_default_url: string (nullable = true)\n |-- snippet_thumbnails_default_width: long (nullable = true)\n |-- snippet_thumbnails_high_height: long (nullable = true)\n |-- snippet_thumbnails_high_url: string (nullable = true)\n |-- snippet_thumbnails_high_width: long (nullable = true)\n |-- snippet_thumbnails_maxres_height: double (nullable = true)\n |-- snippet_thumbnails_maxres_url: string (nullable = true)\n |-- snippet_thumbnails_maxres_width: double (nullable = true)\n |-- snippet_thumbnails_medium_height: long (nullable = true)\n |-- snippet_thumbnails_medium_url: string (nullable = true)\n |-- snippet_thumbnails_medium_width: long (nullable = true)\n |-- snippet_thumbnails_standard_height: double (nullable = true)\n |-- snippet_thumbnails_standard_url: string (nullable = true)\n |-- snippet_thumbnails_standard_width: double (nullable = true)\n |-- snippet_title: string (nullable = true)\n |-- statistics_commentCount: double (nullable = true)\n |-- statistics_dislikeCount: double (nullable = true)\n |-- statistics_favoriteCount: long (nullable = true)\n |-- statistics_likeCount: double (nullable = true)\n |-- statistics_viewCount: long (nullable = true)\n |-- status_embeddable: boolean (nullable = true)\n |-- status_license: string (nullable = true)\n |-- status_madeForKids: boolean (nullable = true)\n |-- status_privacyStatus: string (nullable = true)\n |-- status_publicStatsViewable: boolean (nullable = true)\n |-- status_uploadStatus: string (nullable = true)\n\n"
     ]
    }
   ],
   "source": [
    "INPUT_FILENAME = 's3://full-stack-bigdata-datasets/Big_Data/YOUTUBE/items_clean.parquet'\n",
    "songs_raw = spark.read.parquet(INPUT_FILENAME)\n",
    "songs_raw.printSchema()"
   ]
  },
  {
   "cell_type": "code",
   "execution_count": 0,
   "metadata": {
    "application/vnd.databricks.v1+cell": {
     "cellMetadata": {
      "byteLimit": 2048000,
      "rowLimit": 10000
     },
     "inputWidgets": {},
     "nuid": "09f8c360-d89d-49d1-9373-0529ea0f6260",
     "showTitle": false,
     "title": ""
    }
   },
   "outputs": [
    {
     "output_type": "stream",
     "name": "stdout",
     "output_type": "stream",
     "text": [
      "Out[5]: 44"
     ]
    }
   ],
   "source": [
    "len(songs_raw.columns)"
   ]
  },
  {
   "cell_type": "code",
   "execution_count": 0,
   "metadata": {
    "application/vnd.databricks.v1+cell": {
     "cellMetadata": {
      "byteLimit": 2048000,
      "rowLimit": 10000
     },
     "inputWidgets": {},
     "nuid": "a8611cdd-2f66-489d-ab9e-b9f9e120c91d",
     "showTitle": false,
     "title": ""
    }
   },
   "outputs": [],
   "source": [
    "from pyspark.sql import functions as F\n",
    "from pyspark.sql import DataFrame"
   ]
  },
  {
   "cell_type": "code",
   "execution_count": 0,
   "metadata": {
    "application/vnd.databricks.v1+cell": {
     "cellMetadata": {
      "byteLimit": 2048000,
      "rowLimit": 10000
     },
     "inputWidgets": {},
     "nuid": "d2a0ab80-2302-4029-90b7-eebacda7e3aa",
     "showTitle": false,
     "title": ""
    }
   },
   "outputs": [],
   "source": [
    "def value_counts(songs_raw, col_name):\n",
    "  return songs_raw.select(col_name) \\\n",
    "           .groupBy(col_name) \\\n",
    "           .count() \\\n",
    "           .orderBy(F.desc('count'))"
   ]
  },
  {
   "cell_type": "code",
   "execution_count": 0,
   "metadata": {
    "application/vnd.databricks.v1+cell": {
     "cellMetadata": {
      "byteLimit": 2048000,
      "rowLimit": 10000
     },
     "inputWidgets": {},
     "nuid": "36bb5284-4119-4376-8714-e0217f155479",
     "showTitle": false,
     "title": ""
    }
   },
   "outputs": [
    {
     "output_type": "stream",
     "name": "stdout",
     "output_type": "stream",
     "text": [
      "+----------------------+-----+\n|contentDetails_caption|count|\n+----------------------+-----+\n|                 false| 3844|\n|                  true|   63|\n+----------------------+-----+\n\n+-------------------------------------+-----+\n|contentDetails_contentRating_ytRating|count|\n+-------------------------------------+-----+\n|                                 null| 3880|\n|                      ytAgeRestricted|   27|\n+-------------------------------------+-----+\n\n+-------------------------+-----+\n|contentDetails_definition|count|\n+-------------------------+-----+\n|                       hd| 1991|\n|                       sd| 1916|\n+-------------------------+-----+\n\n+------------------------+-----+\n|contentDetails_dimension|count|\n+------------------------+-----+\n|                      2d| 3907|\n+------------------------+-----+\n\n+-----------------------+-----+\n|contentDetails_duration|count|\n+-----------------------+-----+\n|                PT3M31S|   38|\n|                 PT4M1S|   34|\n|                PT3M59S|   33|\n|                PT3M37S|   33|\n|                PT3M55S|   32|\n|                PT3M56S|   31|\n|                PT3M42S|   30|\n|                 PT4M9S|   30|\n|                PT3M53S|   29|\n|                PT3M11S|   29|\n|                PT3M52S|   29|\n|                 PT4M3S|   29|\n|                PT3M51S|   28|\n|                PT4M21S|   28|\n|                PT4M20S|   28|\n|                PT3M39S|   28|\n|                PT4M11S|   27|\n|                PT3M33S|   27|\n|                PT4M12S|   27|\n|                PT3M40S|   26|\n+-----------------------+-----+\nonly showing top 20 rows\n\n+------------------------------+-----+\n|contentDetails_licensedContent|count|\n+------------------------------+-----+\n|                         false| 2773|\n|                          true| 1134|\n+------------------------------+-----+\n\n+-------------------------+-----+\n|contentDetails_projection|count|\n+-------------------------+-----+\n|              rectangular| 3907|\n+-------------------------+-----+\n\n+--------------------+-----+\n|                etag|count|\n+--------------------+-----+\n|m06gDBSFKebBBilno...|    1|\n|Hcmf0DSxNwvKX0vST...|    1|\n|_0amdNTf6gd6ZwSBC...|    1|\n|ndt9LIkZ4-dh_p4AG...|    1|\n|jOpRS83gRJ4MzcUkv...|    1|\n|Y5rsvz1oTXeZHm7GH...|    1|\n|A-SmQdhaxkvSyS8Tv...|    1|\n|l-yn-LhEWuqpxMdM6...|    1|\n|bDHZvIbdhZ_WZ3Vgh...|    1|\n|2ZMLyExofE4rsSBU4...|    1|\n|rxd_nT0S3rC3JVQ1l...|    1|\n|eHBSX1kJfL7lpyVxJ...|    1|\n|rYWcSau-pQSebFRvO...|    1|\n|9-uh2MiVp_DMybhKg...|    1|\n|Szld0w6oCPCgUdR9b...|    1|\n|yrOp2W0zVv1gcb4QC...|    1|\n|Gy7jYsnnJJtDW4mmg...|    1|\n|nkvilQUAbgZ6UZqco...|    1|\n|AOrBZDsUQ-pFqMqDL...|    1|\n|4O_uhHjVDS8pCc91l...|    1|\n+--------------------+-----+\nonly showing top 20 rows\n\n+-----------+-----+\n|         id|count|\n+-----------+-----+\n|3vFKqs32lyA|    1|\n|jFS8mVhP0xg|    1|\n|hicCHaC_z5I|    1|\n|yc7TpfKOgwA|    1|\n|_iujjGCoF4g|    1|\n|db7UFcxscoI|    1|\n|0EJ5BDIHXPQ|    1|\n|UR0UkTiKxmc|    1|\n|4_m2uB5NEgI|    1|\n|JhSEcxr5v9o|    1|\n|nk6wVLeIbdM|    1|\n|lM2d28lBM3k|    1|\n|TRIoCdVw900|    1|\n|wpuYnLENtL8|    1|\n|fbkv5xOLvnA|    1|\n|C_qWlPCEnGM|    1|\n|2NHpdjFQlaw|    1|\n|INuD2D7R8bk|    1|\n|H1yuMLUenj8|    1|\n|5HBnrQHmKdM|    1|\n+-----------+-----+\nonly showing top 20 rows\n\n+-------------+-----+\n|         kind|count|\n+-------------+-----+\n|youtube#video| 3907|\n+-------------+-----+\n\n+------------------+-----+\n|snippet_categoryId|count|\n+------------------+-----+\n|                10| 3495|\n|                24|  205|\n|                22|  107|\n|                 1|   38|\n|                20|   16|\n|                23|   11|\n|                 2|    7|\n|                17|    6|\n|                29|    5|\n|                27|    5|\n|                19|    5|\n|                28|    3|\n|                25|    2|\n|                15|    1|\n|                26|    1|\n+------------------+-----+\n\n+--------------------+-----+\n|   snippet_channelId|count|\n+--------------------+-----+\n|UCudKvbd6gvbm5UCY...|   40|\n|UCXIyz409s7bNWVcM...|   35|\n|UC5nc_ZtjKW1htCVZ...|   18|\n|UCpDJl2EmP7Oh90Vy...|   18|\n|UCrlNi8Z5TXfWJf4p...|   17|\n|UCbTlRjKJcUqDMTla...|   17|\n|UCxH0sQJKG6Aq9-vF...|   16|\n|UCR8zOlF04Q6gdZIe...|   12|\n|UC0iwHRFpv2_fpojZ...|   11|\n|UCXAhoI7XO2kafTMj...|   11|\n|UCN4BoFTD9YncU-Np...|   11|\n|UCXKr4vbqJkg4cXmd...|   10|\n|UCpO0OSNAFLRUpGrN...|   10|\n|UCKQCaDW4LqL3l1ai...|   10|\n|UCGBpxWJr9FNOcFYA...|   10|\n|UC45rMFlSuX2tS3YY...|   10|\n|UC65afEgL62PGFWXY...|    9|\n|UCywgIB7Wd2woy5se...|    9|\n|UCtpiIBHg_cbAIm9N...|    9|\n|UC-FQUIVQ-bZiefzB...|    9|\n+--------------------+-----+\nonly showing top 20 rows\n\n+--------------------+-----+\n|snippet_channelTitle|count|\n+--------------------+-----+\n|     TheSoundYouNeed|   40|\n|     Majestic Casual|   35|\n|      MrSuicideSheep|   18|\n|    Spinnin' Records|   18|\n|               FAUVE|   17|\n|  Délicieuse Musique|   17|\n|      The Vibe Guide|   16|\n|   Ed Banger Records|   12|\n|              HHVIBE|   11|\n|              Noisey|   11|\n|               Flume|   11|\n|           Trap City|   11|\n|         ElectroPosé|   10|\n|   MrHotpantsImComin|   10|\n|               20syl|   10|\n|         Boiler Room|   10|\n|    La Belle Musique|   10|\n|         BBC Radio 1|    9|\n|           MrRevillz|    9|\n|          Discograph|    9|\n+--------------------+-----+\nonly showing top 20 rows\n\n+----------------------------+-----+\n|snippet_defaultAudioLanguage|count|\n+----------------------------+-----+\n|                        null| 3631|\n|                       en-US|  202|\n|                          en|   40|\n|                       en-GB|   22|\n|                          fr|    5|\n|                          ar|    3|\n|                          tr|    1|\n|                       fr-FR|    1|\n|                          hi|    1|\n|                          da|    1|\n+----------------------------+-----+\n\n+-----------------------+-----+\n|snippet_defaultLanguage|count|\n+-----------------------+-----+\n|                   null| 3897|\n|                     en|    9|\n|                     iw|    1|\n+-----------------------+-----+\n\n+----------------------------+-----+\n|snippet_liveBroadcastContent|count|\n+----------------------------+-----+\n|                        none| 3907|\n+----------------------------+-----+\n\n+--------------------+-----+\n| snippet_publishedAt|count|\n+--------------------+-----+\n|2014-02-02T23:03:20Z|    5|\n|2014-02-11T05:58:24Z|    4|\n|2013-10-25T10:25:43Z|    3|\n|2013-06-11T17:02:09Z|    2|\n|2013-03-26T21:43:23Z|    2|\n|2013-10-11T12:09:41Z|    2|\n|2013-12-03T16:47:29Z|    1|\n|2012-04-26T07:00:08Z|    1|\n|2007-07-20T09:07:55Z|    1|\n|2013-04-12T22:06:48Z|    1|\n|2011-05-18T01:23:18Z|    1|\n|2012-10-09T09:50:05Z|    1|\n|2013-08-27T15:40:53Z|    1|\n|2012-05-09T13:55:47Z|    1|\n|2010-05-09T20:34:49Z|    1|\n|2011-05-23T09:49:12Z|    1|\n|2009-08-06T09:58:56Z|    1|\n|2009-11-15T18:57:41Z|    1|\n|2012-03-07T14:54:59Z|    1|\n|2012-10-03T17:51:50Z|    1|\n+--------------------+-----+\nonly showing top 20 rows\n\n+---------------------------------+-----+\n|snippet_thumbnails_default_height|count|\n+---------------------------------+-----+\n|                               90| 3907|\n+---------------------------------+-----+\n\n+------------------------------+-----+\n|snippet_thumbnails_default_url|count|\n+------------------------------+-----+\n|          https://i.ytimg.c...|    1|\n|          https://i.ytimg.c...|    1|\n|          https://i.ytimg.c...|    1|\n|          https://i.ytimg.c...|    1|\n|          https://i.ytimg.c...|    1|\n|          https://i.ytimg.c...|    1|\n|          https://i.ytimg.c...|    1|\n|          https://i.ytimg.c...|    1|\n|          https://i.ytimg.c...|    1|\n|          https://i.ytimg.c...|    1|\n|          https://i.ytimg.c...|    1|\n|          https://i.ytimg.c...|    1|\n|          https://i.ytimg.c...|    1|\n|          https://i.ytimg.c...|    1|\n|          https://i.ytimg.c...|    1|\n|          https://i.ytimg.c...|    1|\n|          https://i.ytimg.c...|    1|\n|          https://i.ytimg.c...|    1|\n|          https://i.ytimg.c...|    1|\n|          https://i.ytimg.c...|    1|\n+------------------------------+-----+\nonly showing top 20 rows\n\n+--------------------------------+-----+\n|snippet_thumbnails_default_width|count|\n+--------------------------------+-----+\n|                             120| 3907|\n+--------------------------------+-----+\n\n+------------------------------+-----+\n|snippet_thumbnails_high_height|count|\n+------------------------------+-----+\n|                           360| 3907|\n+------------------------------+-----+\n\n+---------------------------+-----+\n|snippet_thumbnails_high_url|count|\n+---------------------------+-----+\n|       https://i.ytimg.c...|    1|\n|       https://i.ytimg.c...|    1|\n|       https://i.ytimg.c...|    1|\n|       https://i.ytimg.c...|    1|\n|       https://i.ytimg.c...|    1|\n|       https://i.ytimg.c...|    1|\n|       https://i.ytimg.c...|    1|\n|       https://i.ytimg.c...|    1|\n|       https://i.ytimg.c...|    1|\n|       https://i.ytimg.c...|    1|\n|       https://i.ytimg.c...|    1|\n|       https://i.ytimg.c...|    1|\n|       https://i.ytimg.c...|    1|\n|       https://i.ytimg.c...|    1|\n|       https://i.ytimg.c...|    1|\n|       https://i.ytimg.c...|    1|\n|       https://i.ytimg.c...|    1|\n|       https://i.ytimg.c...|    1|\n|       https://i.ytimg.c...|    1|\n|       https://i.ytimg.c...|    1|\n+---------------------------+-----+\nonly showing top 20 rows\n\n+-----------------------------+-----+\n|snippet_thumbnails_high_width|count|\n+-----------------------------+-----+\n|                          480| 3907|\n+-----------------------------+-----+\n\n+--------------------------------+-----+\n|snippet_thumbnails_maxres_height|count|\n+--------------------------------+-----+\n|                           720.0| 1963|\n|                            null| 1944|\n+--------------------------------+-----+\n\n+-----------------------------+-----+\n|snippet_thumbnails_maxres_url|count|\n+-----------------------------+-----+\n|                         null| 1944|\n|         https://i.ytimg.c...|    1|\n|         https://i.ytimg.c...|    1|\n|         https://i.ytimg.c...|    1|\n|         https://i.ytimg.c...|    1|\n|         https://i.ytimg.c...|    1|\n|         https://i.ytimg.c...|    1|\n|         https://i.ytimg.c...|    1|\n|         https://i.ytimg.c...|    1|\n|         https://i.ytimg.c...|    1|\n|         https://i.ytimg.c...|    1|\n|         https://i.ytimg.c...|    1|\n|         https://i.ytimg.c...|    1|\n|         https://i.ytimg.c...|    1|\n|         https://i.ytimg.c...|    1|\n|         https://i.ytimg.c...|    1|\n|         https://i.ytimg.c...|    1|\n|         https://i.ytimg.c...|    1|\n|         https://i.ytimg.c...|    1|\n|         https://i.ytimg.c...|    1|\n+-----------------------------+-----+\nonly showing top 20 rows\n\n+-------------------------------+-----+\n|snippet_thumbnails_maxres_width|count|\n+-------------------------------+-----+\n|                         1280.0| 1963|\n|                           null| 1944|\n+-------------------------------+-----+\n\n+--------------------------------+-----+\n|snippet_thumbnails_medium_height|count|\n+--------------------------------+-----+\n|                             180| 3907|\n+--------------------------------+-----+\n\n+-----------------------------+-----+\n|snippet_thumbnails_medium_url|count|\n+-----------------------------+-----+\n|         https://i.ytimg.c...|    1|\n|         https://i.ytimg.c...|    1|\n|         https://i.ytimg.c...|    1|\n|         https://i.ytimg.c...|    1|\n|         https://i.ytimg.c...|    1|\n|         https://i.ytimg.c...|    1|\n|         https://i.ytimg.c...|    1|\n|         https://i.ytimg.c...|    1|\n|         https://i.ytimg.c...|    1|\n|         https://i.ytimg.c...|    1|\n|         https://i.ytimg.c...|    1|\n|         https://i.ytimg.c...|    1|\n|         https://i.ytimg.c...|    1|\n|         https://i.ytimg.c...|    1|\n|         https://i.ytimg.c...|    1|\n|         https://i.ytimg.c...|    1|\n|         https://i.ytimg.c...|    1|\n|         https://i.ytimg.c...|    1|\n|         https://i.ytimg.c...|    1|\n|         https://i.ytimg.c...|    1|\n+-----------------------------+-----+\nonly showing top 20 rows\n\n+-------------------------------+-----+\n|snippet_thumbnails_medium_width|count|\n+-------------------------------+-----+\n|                            320| 3907|\n+-------------------------------+-----+\n\n+----------------------------------+-----+\n|snippet_thumbnails_standard_height|count|\n+----------------------------------+-----+\n|                             480.0| 2730|\n|                              null| 1177|\n+----------------------------------+-----+\n\n+-------------------------------+-----+\n|snippet_thumbnails_standard_url|count|\n+-------------------------------+-----+\n|                           null| 1177|\n|           https://i.ytimg.c...|    1|\n|           https://i.ytimg.c...|    1|\n|           https://i.ytimg.c...|    1|\n|           https://i.ytimg.c...|    1|\n|           https://i.ytimg.c...|    1|\n|           https://i.ytimg.c...|    1|\n|           https://i.ytimg.c...|    1|\n|           https://i.ytimg.c...|    1|\n|           https://i.ytimg.c...|    1|\n|           https://i.ytimg.c...|    1|\n|           https://i.ytimg.c...|    1|\n|           https://i.ytimg.c...|    1|\n|           https://i.ytimg.c...|    1|\n|           https://i.ytimg.c...|    1|\n|           https://i.ytimg.c...|    1|\n|           https://i.ytimg.c...|    1|\n|           https://i.ytimg.c...|    1|\n|           https://i.ytimg.c...|    1|\n|           https://i.ytimg.c...|    1|\n+-------------------------------+-----+\nonly showing top 20 rows\n\n+---------------------------------+-----+\n|snippet_thumbnails_standard_width|count|\n+---------------------------------+-----+\n|                            640.0| 2730|\n|                             null| 1177|\n+---------------------------------+-----+\n\n+--------------------+-----+\n|       snippet_title|count|\n+--------------------+-----+\n|Cashmere Cat - Ki...|    2|\n|Banks - Warm Wate...|    2|\n|Gramatik - Bring ...|    2|\n|Tracy Chapman - G...|    2|\n|LION BABE - Treat...|    2|\n|Chet Faker - No D...|    2|\n|Laid Back - Baker...|    2|\n|Tom Odell - Anoth...|    2|\n|         Rhye - Open|    2|\n|  N'to - Scar Tissue|    2|\n|Parra for Cuva ft...|    2|\n|Benjamin Damage -...|    2|\n| Poldoore - But I Do|    2|\n|Max Manie - Sunda...|    2|\n|ODESZA - Sun Mode...|    2|\n|Disclosure - You ...|    2|\n|Henry Krinkle - Stay|    2|\n|Ed Sheeran & Pass...|    2|\n|DJ Cam Quartet - ...|    2|\n|Dillon - Hey Beau...|    2|\n+--------------------+-----+\nonly showing top 20 rows\n\n+-----------------------+-----+\n|statistics_commentCount|count|\n+-----------------------+-----+\n|                    1.0|   89|\n|                    0.0|   82|\n|                    2.0|   74|\n|                    4.0|   61|\n|                    5.0|   51|\n|                    3.0|   50|\n|                    6.0|   50|\n|                    7.0|   45|\n|                   10.0|   45|\n|                    9.0|   39|\n|                    8.0|   38|\n|                   12.0|   34|\n|                   13.0|   34|\n|                   11.0|   32|\n|                   14.0|   30|\n|                   null|   27|\n|                   21.0|   27|\n|                   16.0|   26|\n|                   15.0|   26|\n|                   34.0|   25|\n+-----------------------+-----+\nonly showing top 20 rows\n\n+-----------------------+-----+\n|statistics_dislikeCount|count|\n+-----------------------+-----+\n|                    0.0|  228|\n|                    1.0|  147|\n|                    3.0|  107|\n|                    2.0|  106|\n|                    4.0|   79|\n|                    5.0|   66|\n|                    7.0|   65|\n|                    6.0|   63|\n|                    8.0|   56|\n|                    9.0|   49|\n|                   10.0|   40|\n|                   11.0|   40|\n|                   12.0|   40|\n|                   16.0|   37|\n|                   13.0|   35|\n|                   15.0|   34|\n|                   14.0|   30|\n|                   20.0|   29|\n|                   23.0|   27|\n|                   29.0|   27|\n+-----------------------+-----+\nonly showing top 20 rows\n\n+------------------------+-----+\n|statistics_favoriteCount|count|\n+------------------------+-----+\n|                       0| 3907|\n+------------------------+-----+\n\n+--------------------+-----+\n|statistics_likeCount|count|\n+--------------------+-----+\n|                null|   14|\n|                 4.0|   10|\n|                24.0|    9|\n|                34.0|    8|\n|               134.0|    8|\n|                10.0|    8|\n|                12.0|    8|\n|                50.0|    7|\n|               155.0|    7|\n|                21.0|    7|\n|                63.0|    7|\n|                22.0|    7|\n|                 3.0|    7|\n|                49.0|    7|\n|                52.0|    7|\n|                 9.0|    7|\n|                11.0|    6|\n|                29.0|    6|\n|                88.0|    6|\n|                17.0|    6|\n+--------------------+-----+\nonly showing top 20 rows\n\n+--------------------+-----+\n|statistics_viewCount|count|\n+--------------------+-----+\n|               42061|    2|\n|              276692|    2|\n|               16373|    2|\n|                6455|    2|\n|               13813|    2|\n|               83235|    2|\n|              107593|    2|\n|               17869|    2|\n|                 865|    2|\n|               12714|    2|\n|                6619|    2|\n|                6210|    2|\n|               24673|    2|\n|                4824|    2|\n|                1752|    2|\n|                2233|    2|\n|              322368|    2|\n|               14777|    2|\n|               62171|    2|\n|             8492267|    1|\n+--------------------+-----+\nonly showing top 20 rows\n\n+-----------------+-----+\n|status_embeddable|count|\n+-----------------+-----+\n|             true| 3893|\n|            false|   14|\n+-----------------+-----+\n\n+--------------+-----+\n|status_license|count|\n+--------------+-----+\n|       youtube| 3902|\n|creativeCommon|    5|\n+--------------+-----+\n\n+------------------+-----+\n|status_madeForKids|count|\n+------------------+-----+\n|             false| 3901|\n|              true|    6|\n+------------------+-----+\n\n+--------------------+-----+\n|status_privacyStatus|count|\n+--------------------+-----+\n|              public| 3860|\n|            unlisted|   47|\n+--------------------+-----+\n\n+--------------------------+-----+\n|status_publicStatsViewable|count|\n+--------------------------+-----+\n|                      true| 3380|\n|                     false|  527|\n+--------------------------+-----+\n\n+-------------------+-----+\n|status_uploadStatus|count|\n+-------------------+-----+\n|          processed| 3907|\n+-------------------+-----+\n\n"
     ]
    }
   ],
   "source": [
    "for col_name in songs_raw.columns:\n",
    "  value_counts(songs_raw, col_name).show()"
   ]
  },
  {
   "cell_type": "code",
   "execution_count": 0,
   "metadata": {
    "application/vnd.databricks.v1+cell": {
     "cellMetadata": {
      "byteLimit": 2048000,
      "rowLimit": 10000
     },
     "inputWidgets": {},
     "nuid": "e61379c0-72ae-4a5b-a085-f186862dcc2e",
     "showTitle": false,
     "title": ""
    }
   },
   "outputs": [],
   "source": [
    "from enum import Enum\n",
    "\n",
    "class Status(Enum):\n",
    "  NOT_SELECTED = 'not selected'\n",
    "  SELECTED = 'selected'\n",
    "  LATER = 'later'\n",
    "  MAYBE = 'maybe'"
   ]
  },
  {
   "cell_type": "code",
   "execution_count": 0,
   "metadata": {
    "application/vnd.databricks.v1+cell": {
     "cellMetadata": {
      "byteLimit": 2048000,
      "rowLimit": 10000
     },
     "inputWidgets": {},
     "nuid": "3f99e7aa-5e86-479f-bbc5-f1dfe7e5116a",
     "showTitle": false,
     "title": ""
    }
   },
   "outputs": [
    {
     "output_type": "display_data",
     "data": {
      "application/vnd.databricks.v1+bamboolib_hint": "{\"pd.DataFrames\": [], \"version\": \"0.0.1\"}",
      "text/plain": []
     },
     "metadata": {},
     "output_type": "display_data"
    },
    {
     "output_type": "display_data",
     "data": {
      "text/html": [
       "<div>\n",
       "<style scoped>\n",
       "    .dataframe tbody tr th:only-of-type {\n",
       "        vertical-align: middle;\n",
       "    }\n",
       "\n",
       "    .dataframe tbody tr th {\n",
       "        vertical-align: top;\n",
       "    }\n",
       "\n",
       "    .dataframe thead th {\n",
       "        text-align: right;\n",
       "    }\n",
       "</style>\n",
       "<table border=\"1\" class=\"dataframe\">\n",
       "  <thead>\n",
       "    <tr style=\"text-align: right;\">\n",
       "      <th></th>\n",
       "      <th>status</th>\n",
       "    </tr>\n",
       "  </thead>\n",
       "  <tbody>\n",
       "    <tr>\n",
       "      <th>contentDetails_caption</th>\n",
       "      <td>not selected</td>\n",
       "    </tr>\n",
       "    <tr>\n",
       "      <th>contentDetails_contentRating_ytRating</th>\n",
       "      <td>not selected</td>\n",
       "    </tr>\n",
       "    <tr>\n",
       "      <th>contentDetails_definition</th>\n",
       "      <td>maybe</td>\n",
       "    </tr>\n",
       "    <tr>\n",
       "      <th>contentDetails_dimension</th>\n",
       "      <td>not selected</td>\n",
       "    </tr>\n",
       "    <tr>\n",
       "      <th>contentDetails_duration</th>\n",
       "      <td>selected</td>\n",
       "    </tr>\n",
       "    <tr>\n",
       "      <th>contentDetails_licensedContent</th>\n",
       "      <td>maybe</td>\n",
       "    </tr>\n",
       "    <tr>\n",
       "      <th>contentDetails_projection</th>\n",
       "      <td>not selected</td>\n",
       "    </tr>\n",
       "    <tr>\n",
       "      <th>etag</th>\n",
       "      <td>not selected</td>\n",
       "    </tr>\n",
       "    <tr>\n",
       "      <th>id</th>\n",
       "      <td>selected</td>\n",
       "    </tr>\n",
       "    <tr>\n",
       "      <th>kind</th>\n",
       "      <td>not selected</td>\n",
       "    </tr>\n",
       "    <tr>\n",
       "      <th>snippet_categoryId</th>\n",
       "      <td>maybe</td>\n",
       "    </tr>\n",
       "    <tr>\n",
       "      <th>snippet_channelId</th>\n",
       "      <td>selected</td>\n",
       "    </tr>\n",
       "    <tr>\n",
       "      <th>snippet_channelTitle</th>\n",
       "      <td>selected</td>\n",
       "    </tr>\n",
       "    <tr>\n",
       "      <th>snippet_defaultAudioLanguage</th>\n",
       "      <td>later</td>\n",
       "    </tr>\n",
       "    <tr>\n",
       "      <th>snippet_defaultLanguage</th>\n",
       "      <td>later</td>\n",
       "    </tr>\n",
       "    <tr>\n",
       "      <th>snippet_description</th>\n",
       "      <td>later</td>\n",
       "    </tr>\n",
       "    <tr>\n",
       "      <th>snippet_liveBroadcastContent</th>\n",
       "      <td>not selected</td>\n",
       "    </tr>\n",
       "    <tr>\n",
       "      <th>snippet_localized_description</th>\n",
       "      <td>not selected</td>\n",
       "    </tr>\n",
       "    <tr>\n",
       "      <th>snippet_localized_title</th>\n",
       "      <td>later</td>\n",
       "    </tr>\n",
       "    <tr>\n",
       "      <th>snippet_publishedAt</th>\n",
       "      <td>selected</td>\n",
       "    </tr>\n",
       "    <tr>\n",
       "      <th>snippet_thumbnails_default_height</th>\n",
       "      <td>not selected</td>\n",
       "    </tr>\n",
       "    <tr>\n",
       "      <th>snippet_thumbnails_default_url</th>\n",
       "      <td>not selected</td>\n",
       "    </tr>\n",
       "    <tr>\n",
       "      <th>snippet_thumbnails_default_width</th>\n",
       "      <td>not selected</td>\n",
       "    </tr>\n",
       "    <tr>\n",
       "      <th>snippet_thumbnails_high_height</th>\n",
       "      <td>not selected</td>\n",
       "    </tr>\n",
       "    <tr>\n",
       "      <th>snippet_thumbnails_high_url</th>\n",
       "      <td>not selected</td>\n",
       "    </tr>\n",
       "    <tr>\n",
       "      <th>snippet_thumbnails_high_width</th>\n",
       "      <td>not selected</td>\n",
       "    </tr>\n",
       "    <tr>\n",
       "      <th>snippet_thumbnails_maxres_height</th>\n",
       "      <td>not selected</td>\n",
       "    </tr>\n",
       "    <tr>\n",
       "      <th>snippet_thumbnails_maxres_url</th>\n",
       "      <td>not selected</td>\n",
       "    </tr>\n",
       "    <tr>\n",
       "      <th>snippet_thumbnails_maxres_width</th>\n",
       "      <td>not selected</td>\n",
       "    </tr>\n",
       "    <tr>\n",
       "      <th>snippet_thumbnails_medium_height</th>\n",
       "      <td>not selected</td>\n",
       "    </tr>\n",
       "    <tr>\n",
       "      <th>snippet_thumbnails_medium_url</th>\n",
       "      <td>not selected</td>\n",
       "    </tr>\n",
       "    <tr>\n",
       "      <th>snippet_thumbnails_medium_width</th>\n",
       "      <td>not selected</td>\n",
       "    </tr>\n",
       "    <tr>\n",
       "      <th>snippet_thumbnails_standard_height</th>\n",
       "      <td>not selected</td>\n",
       "    </tr>\n",
       "    <tr>\n",
       "      <th>snippet_thumbnails_standard_url</th>\n",
       "      <td>not selected</td>\n",
       "    </tr>\n",
       "    <tr>\n",
       "      <th>snippet_thumbnails_standard_width</th>\n",
       "      <td>not selected</td>\n",
       "    </tr>\n",
       "    <tr>\n",
       "      <th>snippet_title</th>\n",
       "      <td>selected</td>\n",
       "    </tr>\n",
       "    <tr>\n",
       "      <th>statistics_commentCount</th>\n",
       "      <td>selected</td>\n",
       "    </tr>\n",
       "    <tr>\n",
       "      <th>statistics_dislikeCount</th>\n",
       "      <td>selected</td>\n",
       "    </tr>\n",
       "    <tr>\n",
       "      <th>statistics_favoriteCount</th>\n",
       "      <td>not selected</td>\n",
       "    </tr>\n",
       "    <tr>\n",
       "      <th>statistics_viewCount</th>\n",
       "      <td>selected</td>\n",
       "    </tr>\n",
       "    <tr>\n",
       "      <th>status_embeddable</th>\n",
       "      <td>later</td>\n",
       "    </tr>\n",
       "    <tr>\n",
       "      <th>status_license</th>\n",
       "      <td>later</td>\n",
       "    </tr>\n",
       "    <tr>\n",
       "      <th>status_privacyStatus</th>\n",
       "      <td>later</td>\n",
       "    </tr>\n",
       "    <tr>\n",
       "      <th>status_publicStatsViewable</th>\n",
       "      <td>later</td>\n",
       "    </tr>\n",
       "    <tr>\n",
       "      <th>status_uploadStatus</th>\n",
       "      <td>not selected</td>\n",
       "    </tr>\n",
       "  </tbody>\n",
       "</table>\n",
       "</div>"
      ]
     },
     "metadata": {
      "application/vnd.databricks.v1+output": {
       "addedWidgets": {},
       "arguments": {},
       "data": "<div>\n<style scoped>\n    .dataframe tbody tr th:only-of-type {\n        vertical-align: middle;\n    }\n\n    .dataframe tbody tr th {\n        vertical-align: top;\n    }\n\n    .dataframe thead th {\n        text-align: right;\n    }\n</style>\n<table border=\"1\" class=\"dataframe\">\n  <thead>\n    <tr style=\"text-align: right;\">\n      <th></th>\n      <th>status</th>\n    </tr>\n  </thead>\n  <tbody>\n    <tr>\n      <th>contentDetails_caption</th>\n      <td>not selected</td>\n    </tr>\n    <tr>\n      <th>contentDetails_contentRating_ytRating</th>\n      <td>not selected</td>\n    </tr>\n    <tr>\n      <th>contentDetails_definition</th>\n      <td>maybe</td>\n    </tr>\n    <tr>\n      <th>contentDetails_dimension</th>\n      <td>not selected</td>\n    </tr>\n    <tr>\n      <th>contentDetails_duration</th>\n      <td>selected</td>\n    </tr>\n    <tr>\n      <th>contentDetails_licensedContent</th>\n      <td>maybe</td>\n    </tr>\n    <tr>\n      <th>contentDetails_projection</th>\n      <td>not selected</td>\n    </tr>\n    <tr>\n      <th>etag</th>\n      <td>not selected</td>\n    </tr>\n    <tr>\n      <th>id</th>\n      <td>selected</td>\n    </tr>\n    <tr>\n      <th>kind</th>\n      <td>not selected</td>\n    </tr>\n    <tr>\n      <th>snippet_categoryId</th>\n      <td>maybe</td>\n    </tr>\n    <tr>\n      <th>snippet_channelId</th>\n      <td>selected</td>\n    </tr>\n    <tr>\n      <th>snippet_channelTitle</th>\n      <td>selected</td>\n    </tr>\n    <tr>\n      <th>snippet_defaultAudioLanguage</th>\n      <td>later</td>\n    </tr>\n    <tr>\n      <th>snippet_defaultLanguage</th>\n      <td>later</td>\n    </tr>\n    <tr>\n      <th>snippet_description</th>\n      <td>later</td>\n    </tr>\n    <tr>\n      <th>snippet_liveBroadcastContent</th>\n      <td>not selected</td>\n    </tr>\n    <tr>\n      <th>snippet_localized_description</th>\n      <td>not selected</td>\n    </tr>\n    <tr>\n      <th>snippet_localized_title</th>\n      <td>later</td>\n    </tr>\n    <tr>\n      <th>snippet_publishedAt</th>\n      <td>selected</td>\n    </tr>\n    <tr>\n      <th>snippet_thumbnails_default_height</th>\n      <td>not selected</td>\n    </tr>\n    <tr>\n      <th>snippet_thumbnails_default_url</th>\n      <td>not selected</td>\n    </tr>\n    <tr>\n      <th>snippet_thumbnails_default_width</th>\n      <td>not selected</td>\n    </tr>\n    <tr>\n      <th>snippet_thumbnails_high_height</th>\n      <td>not selected</td>\n    </tr>\n    <tr>\n      <th>snippet_thumbnails_high_url</th>\n      <td>not selected</td>\n    </tr>\n    <tr>\n      <th>snippet_thumbnails_high_width</th>\n      <td>not selected</td>\n    </tr>\n    <tr>\n      <th>snippet_thumbnails_maxres_height</th>\n      <td>not selected</td>\n    </tr>\n    <tr>\n      <th>snippet_thumbnails_maxres_url</th>\n      <td>not selected</td>\n    </tr>\n    <tr>\n      <th>snippet_thumbnails_maxres_width</th>\n      <td>not selected</td>\n    </tr>\n    <tr>\n      <th>snippet_thumbnails_medium_height</th>\n      <td>not selected</td>\n    </tr>\n    <tr>\n      <th>snippet_thumbnails_medium_url</th>\n      <td>not selected</td>\n    </tr>\n    <tr>\n      <th>snippet_thumbnails_medium_width</th>\n      <td>not selected</td>\n    </tr>\n    <tr>\n      <th>snippet_thumbnails_standard_height</th>\n      <td>not selected</td>\n    </tr>\n    <tr>\n      <th>snippet_thumbnails_standard_url</th>\n      <td>not selected</td>\n    </tr>\n    <tr>\n      <th>snippet_thumbnails_standard_width</th>\n      <td>not selected</td>\n    </tr>\n    <tr>\n      <th>snippet_title</th>\n      <td>selected</td>\n    </tr>\n    <tr>\n      <th>statistics_commentCount</th>\n      <td>selected</td>\n    </tr>\n    <tr>\n      <th>statistics_dislikeCount</th>\n      <td>selected</td>\n    </tr>\n    <tr>\n      <th>statistics_favoriteCount</th>\n      <td>not selected</td>\n    </tr>\n    <tr>\n      <th>statistics_viewCount</th>\n      <td>selected</td>\n    </tr>\n    <tr>\n      <th>status_embeddable</th>\n      <td>later</td>\n    </tr>\n    <tr>\n      <th>status_license</th>\n      <td>later</td>\n    </tr>\n    <tr>\n      <th>status_privacyStatus</th>\n      <td>later</td>\n    </tr>\n    <tr>\n      <th>status_publicStatsViewable</th>\n      <td>later</td>\n    </tr>\n    <tr>\n      <th>status_uploadStatus</th>\n      <td>not selected</td>\n    </tr>\n  </tbody>\n</table>\n</div>",
       "datasetInfos": [],
       "metadata": {},
       "removedWidgets": [],
       "textData": null,
       "type": "htmlSandbox"
      }
     },
     "output_type": "display_data"
    }
   ],
   "source": [
    "selection_dict = {\n",
    "  'contentDetails_caption': Status.NOT_SELECTED,\n",
    "  'contentDetails_contentRating_ytRating': Status.NOT_SELECTED,\n",
    "  'contentDetails_definition': Status.MAYBE,\n",
    "  'contentDetails_dimension': Status.NOT_SELECTED,\n",
    "  'contentDetails_duration': Status.SELECTED,\n",
    "  'contentDetails_licensedContent': Status.MAYBE,\n",
    "  'contentDetails_projection': Status.NOT_SELECTED,\n",
    "  'etag': Status.NOT_SELECTED,\n",
    "  'id': Status.SELECTED,\n",
    "  'kind': Status.NOT_SELECTED,\n",
    "  'snippet_categoryId': Status.MAYBE,\n",
    "  'snippet_channelId': Status.SELECTED,\n",
    "  'snippet_channelTitle': Status.SELECTED,\n",
    "  'snippet_defaultAudioLanguage': Status.LATER,\n",
    "  'snippet_defaultLanguage': Status.LATER,\n",
    "  'snippet_description': Status.LATER,\n",
    "  'snippet_liveBroadcastContent': Status.NOT_SELECTED,\n",
    "  'snippet_localized_description': Status.NOT_SELECTED,\n",
    "  'snippet_localized_title': Status.LATER,\n",
    "  'snippet_publishedAt': Status.SELECTED,\n",
    "  'snippet_thumbnails_default_height': Status.NOT_SELECTED,\n",
    "  'snippet_thumbnails_default_url': Status.NOT_SELECTED,\n",
    "  'snippet_thumbnails_default_width': Status.NOT_SELECTED,\n",
    "  'snippet_thumbnails_high_height': Status.NOT_SELECTED,\n",
    "  'snippet_thumbnails_high_url': Status.NOT_SELECTED,\n",
    "  'snippet_thumbnails_high_width': Status.NOT_SELECTED,\n",
    "  'snippet_thumbnails_maxres_height': Status.NOT_SELECTED,\n",
    "  'snippet_thumbnails_maxres_url': Status.NOT_SELECTED,\n",
    "  'snippet_thumbnails_maxres_width': Status.NOT_SELECTED,\n",
    "  'snippet_thumbnails_medium_height': Status.NOT_SELECTED,\n",
    "  'snippet_thumbnails_medium_url': Status.NOT_SELECTED,\n",
    "  'snippet_thumbnails_medium_width': Status.NOT_SELECTED,\n",
    "  'snippet_thumbnails_standard_height': Status.NOT_SELECTED,\n",
    "  'snippet_thumbnails_standard_url': Status.NOT_SELECTED,\n",
    "  'snippet_thumbnails_standard_width': Status.NOT_SELECTED,\n",
    "  'snippet_title': Status.SELECTED,\n",
    "  'statistics_commentCount': Status.SELECTED,\n",
    "  'statistics_dislikeCount': Status.SELECTED,\n",
    "  'statistics_favoriteCount': Status.NOT_SELECTED,\n",
    "  'statistics_viewCount': Status.SELECTED,\n",
    "  'status_embeddable': Status.LATER,\n",
    "  'status_license': Status.LATER,\n",
    "  'status_privacyStatus': Status.LATER,\n",
    "  'status_publicStatsViewable': Status.LATER,\n",
    "  'status_uploadStatus': Status.NOT_SELECTED\n",
    "}\n",
    "\n",
    "import pandas as pd\n",
    "\n",
    "selection_df = pd.DataFrame.from_dict({k: v.value for k, v in selection_dict.items()},\n",
    "                                      orient='index', columns=['status'])\n",
    "selection_df"
   ]
  },
  {
   "cell_type": "code",
   "execution_count": 0,
   "metadata": {
    "application/vnd.databricks.v1+cell": {
     "cellMetadata": {
      "byteLimit": 2048000,
      "rowLimit": 10000
     },
     "inputWidgets": {},
     "nuid": "2be01293-0766-47e2-8814-41a5908dccea",
     "showTitle": false,
     "title": ""
    }
   },
   "outputs": [
    {
     "output_type": "display_data",
     "data": {
      "text/html": [
       "<div>\n",
       "<style scoped>\n",
       "    .dataframe tbody tr th:only-of-type {\n",
       "        vertical-align: middle;\n",
       "    }\n",
       "\n",
       "    .dataframe tbody tr th {\n",
       "        vertical-align: top;\n",
       "    }\n",
       "\n",
       "    .dataframe thead th {\n",
       "        text-align: right;\n",
       "    }\n",
       "</style>\n",
       "<table border=\"1\" class=\"dataframe\">\n",
       "  <thead>\n",
       "    <tr style=\"text-align: right;\">\n",
       "      <th></th>\n",
       "      <th>count</th>\n",
       "    </tr>\n",
       "    <tr>\n",
       "      <th>status</th>\n",
       "      <th></th>\n",
       "    </tr>\n",
       "  </thead>\n",
       "  <tbody>\n",
       "    <tr>\n",
       "      <th>later</th>\n",
       "      <td>8</td>\n",
       "    </tr>\n",
       "    <tr>\n",
       "      <th>maybe</th>\n",
       "      <td>3</td>\n",
       "    </tr>\n",
       "    <tr>\n",
       "      <th>not selected</th>\n",
       "      <td>25</td>\n",
       "    </tr>\n",
       "    <tr>\n",
       "      <th>selected</th>\n",
       "      <td>9</td>\n",
       "    </tr>\n",
       "  </tbody>\n",
       "</table>\n",
       "</div>"
      ]
     },
     "metadata": {
      "application/vnd.databricks.v1+output": {
       "addedWidgets": {},
       "arguments": {},
       "data": "<div>\n<style scoped>\n    .dataframe tbody tr th:only-of-type {\n        vertical-align: middle;\n    }\n\n    .dataframe tbody tr th {\n        vertical-align: top;\n    }\n\n    .dataframe thead th {\n        text-align: right;\n    }\n</style>\n<table border=\"1\" class=\"dataframe\">\n  <thead>\n    <tr style=\"text-align: right;\">\n      <th></th>\n      <th>count</th>\n    </tr>\n    <tr>\n      <th>status</th>\n      <th></th>\n    </tr>\n  </thead>\n  <tbody>\n    <tr>\n      <th>later</th>\n      <td>8</td>\n    </tr>\n    <tr>\n      <th>maybe</th>\n      <td>3</td>\n    </tr>\n    <tr>\n      <th>not selected</th>\n      <td>25</td>\n    </tr>\n    <tr>\n      <th>selected</th>\n      <td>9</td>\n    </tr>\n  </tbody>\n</table>\n</div>",
       "datasetInfos": [],
       "metadata": {},
       "removedWidgets": [],
       "textData": null,
       "type": "htmlSandbox"
      }
     },
     "output_type": "display_data"
    }
   ],
   "source": [
    "selection_df \\\n",
    "  .groupby('status') \\\n",
    "  .agg({'status': 'count'}) \\\n",
    "  .rename(columns={'status': 'count'})"
   ]
  },
  {
   "cell_type": "code",
   "execution_count": 0,
   "metadata": {
    "application/vnd.databricks.v1+cell": {
     "cellMetadata": {
      "byteLimit": 2048000,
      "rowLimit": 10000
     },
     "inputWidgets": {},
     "nuid": "6f1fd97e-22b5-4111-9a4c-a4bb47943aaf",
     "showTitle": false,
     "title": ""
    }
   },
   "outputs": [
    {
     "output_type": "stream",
     "name": "stdout",
     "output_type": "stream",
     "text": [
      "Out[12]: ['contentDetails_duration',\n 'id',\n 'snippet_channelId',\n 'snippet_channelTitle',\n 'snippet_publishedAt',\n 'snippet_title',\n 'statistics_commentCount',\n 'statistics_dislikeCount',\n 'statistics_viewCount']"
     ]
    }
   ],
   "source": [
    "selected_columns = list(selection_df.loc[selection_df['status'] == \"selected\"].index)\n",
    "selected_columns"
   ]
  },
  {
   "cell_type": "code",
   "execution_count": 0,
   "metadata": {
    "application/vnd.databricks.v1+cell": {
     "cellMetadata": {
      "byteLimit": 2048000,
      "rowLimit": 10000
     },
     "inputWidgets": {},
     "nuid": "9aea5f6a-7140-40ff-b6e9-869664497e91",
     "showTitle": false,
     "title": ""
    }
   },
   "outputs": [
    {
     "output_type": "stream",
     "name": "stdout",
     "output_type": "stream",
     "text": [
      "root\n |-- contentDetails_duration: string (nullable = true)\n |-- id: string (nullable = true)\n |-- snippet_channelId: string (nullable = true)\n |-- snippet_channelTitle: string (nullable = true)\n |-- snippet_publishedAt: string (nullable = true)\n |-- snippet_title: string (nullable = true)\n |-- statistics_commentCount: double (nullable = true)\n |-- statistics_dislikeCount: double (nullable = true)\n |-- statistics_viewCount: long (nullable = true)\n\nShape:  (3907, 9)\n"
     ]
    }
   ],
   "source": [
    "songs = songs_raw.select(selected_columns)\n",
    "songs.printSchema()\n",
    "print(\"Shape: \", (songs.count(), len(songs.columns)))"
   ]
  },
  {
   "cell_type": "code",
   "execution_count": 0,
   "metadata": {
    "application/vnd.databricks.v1+cell": {
     "cellMetadata": {
      "byteLimit": 2048000,
      "rowLimit": 10000
     },
     "inputWidgets": {},
     "nuid": "64c2ef73-51ca-4dfd-ac70-ed3221b59746",
     "showTitle": false,
     "title": ""
    }
   },
   "outputs": [
    {
     "output_type": "display_data",
     "data": {
      "text/plain": [
       "\u001B[0;31m---------------------------------------------------------------------------\u001B[0m\n",
       "\u001B[0;31mPy4JJavaError\u001B[0m                             Traceback (most recent call last)\n",
       "File \u001B[0;32m<command-4417087527232138>:1\u001B[0m\n",
       "\u001B[0;32m----> 1\u001B[0m \u001B[43msongs\u001B[49m\u001B[38;5;241;43m.\u001B[39;49m\u001B[43mwrite\u001B[49m\u001B[43m \u001B[49m\u001B[43m\\\u001B[49m\n",
       "\u001B[1;32m      2\u001B[0m \u001B[43m  \u001B[49m\u001B[38;5;241;43m.\u001B[39;49m\u001B[43mparquet\u001B[49m\u001B[43m(\u001B[49m\u001B[38;5;124;43m\"\u001B[39;49m\u001B[38;5;124;43ms3://full-stack-bigdata-datasets/Big_Data/YOUTUBE/items_selected.parquet\u001B[39;49m\u001B[38;5;124;43m\"\u001B[39;49m\u001B[43m,\u001B[49m\u001B[43m \u001B[49m\u001B[43mmode\u001B[49m\u001B[38;5;241;43m=\u001B[39;49m\u001B[38;5;124;43m'\u001B[39;49m\u001B[38;5;124;43moverwrite\u001B[39;49m\u001B[38;5;124;43m'\u001B[39;49m\u001B[43m)\u001B[49m\n",
       "\n",
       "File \u001B[0;32m/databricks/spark/python/pyspark/instrumentation_utils.py:48\u001B[0m, in \u001B[0;36m_wrap_function.<locals>.wrapper\u001B[0;34m(*args, **kwargs)\u001B[0m\n",
       "\u001B[1;32m     46\u001B[0m start \u001B[38;5;241m=\u001B[39m time\u001B[38;5;241m.\u001B[39mperf_counter()\n",
       "\u001B[1;32m     47\u001B[0m \u001B[38;5;28;01mtry\u001B[39;00m:\n",
       "\u001B[0;32m---> 48\u001B[0m     res \u001B[38;5;241m=\u001B[39m \u001B[43mfunc\u001B[49m\u001B[43m(\u001B[49m\u001B[38;5;241;43m*\u001B[39;49m\u001B[43margs\u001B[49m\u001B[43m,\u001B[49m\u001B[43m \u001B[49m\u001B[38;5;241;43m*\u001B[39;49m\u001B[38;5;241;43m*\u001B[39;49m\u001B[43mkwargs\u001B[49m\u001B[43m)\u001B[49m\n",
       "\u001B[1;32m     49\u001B[0m     logger\u001B[38;5;241m.\u001B[39mlog_success(\n",
       "\u001B[1;32m     50\u001B[0m         module_name, class_name, function_name, time\u001B[38;5;241m.\u001B[39mperf_counter() \u001B[38;5;241m-\u001B[39m start, signature\n",
       "\u001B[1;32m     51\u001B[0m     )\n",
       "\u001B[1;32m     52\u001B[0m     \u001B[38;5;28;01mreturn\u001B[39;00m res\n",
       "\n",
       "File \u001B[0;32m/databricks/spark/python/pyspark/sql/readwriter.py:1655\u001B[0m, in \u001B[0;36mDataFrameWriter.parquet\u001B[0;34m(self, path, mode, partitionBy, compression)\u001B[0m\n",
       "\u001B[1;32m   1653\u001B[0m     \u001B[38;5;28mself\u001B[39m\u001B[38;5;241m.\u001B[39mpartitionBy(partitionBy)\n",
       "\u001B[1;32m   1654\u001B[0m \u001B[38;5;28mself\u001B[39m\u001B[38;5;241m.\u001B[39m_set_opts(compression\u001B[38;5;241m=\u001B[39mcompression)\n",
       "\u001B[0;32m-> 1655\u001B[0m \u001B[38;5;28;43mself\u001B[39;49m\u001B[38;5;241;43m.\u001B[39;49m\u001B[43m_jwrite\u001B[49m\u001B[38;5;241;43m.\u001B[39;49m\u001B[43mparquet\u001B[49m\u001B[43m(\u001B[49m\u001B[43mpath\u001B[49m\u001B[43m)\u001B[49m\n",
       "\n",
       "File \u001B[0;32m/databricks/spark/python/lib/py4j-0.10.9.5-src.zip/py4j/java_gateway.py:1321\u001B[0m, in \u001B[0;36mJavaMember.__call__\u001B[0;34m(self, *args)\u001B[0m\n",
       "\u001B[1;32m   1315\u001B[0m command \u001B[38;5;241m=\u001B[39m proto\u001B[38;5;241m.\u001B[39mCALL_COMMAND_NAME \u001B[38;5;241m+\u001B[39m\\\n",
       "\u001B[1;32m   1316\u001B[0m     \u001B[38;5;28mself\u001B[39m\u001B[38;5;241m.\u001B[39mcommand_header \u001B[38;5;241m+\u001B[39m\\\n",
       "\u001B[1;32m   1317\u001B[0m     args_command \u001B[38;5;241m+\u001B[39m\\\n",
       "\u001B[1;32m   1318\u001B[0m     proto\u001B[38;5;241m.\u001B[39mEND_COMMAND_PART\n",
       "\u001B[1;32m   1320\u001B[0m answer \u001B[38;5;241m=\u001B[39m \u001B[38;5;28mself\u001B[39m\u001B[38;5;241m.\u001B[39mgateway_client\u001B[38;5;241m.\u001B[39msend_command(command)\n",
       "\u001B[0;32m-> 1321\u001B[0m return_value \u001B[38;5;241m=\u001B[39m \u001B[43mget_return_value\u001B[49m\u001B[43m(\u001B[49m\n",
       "\u001B[1;32m   1322\u001B[0m \u001B[43m    \u001B[49m\u001B[43manswer\u001B[49m\u001B[43m,\u001B[49m\u001B[43m \u001B[49m\u001B[38;5;28;43mself\u001B[39;49m\u001B[38;5;241;43m.\u001B[39;49m\u001B[43mgateway_client\u001B[49m\u001B[43m,\u001B[49m\u001B[43m \u001B[49m\u001B[38;5;28;43mself\u001B[39;49m\u001B[38;5;241;43m.\u001B[39;49m\u001B[43mtarget_id\u001B[49m\u001B[43m,\u001B[49m\u001B[43m \u001B[49m\u001B[38;5;28;43mself\u001B[39;49m\u001B[38;5;241;43m.\u001B[39;49m\u001B[43mname\u001B[49m\u001B[43m)\u001B[49m\n",
       "\u001B[1;32m   1324\u001B[0m \u001B[38;5;28;01mfor\u001B[39;00m temp_arg \u001B[38;5;129;01min\u001B[39;00m temp_args:\n",
       "\u001B[1;32m   1325\u001B[0m     temp_arg\u001B[38;5;241m.\u001B[39m_detach()\n",
       "\n",
       "File \u001B[0;32m/databricks/spark/python/pyspark/errors/exceptions.py:228\u001B[0m, in \u001B[0;36mcapture_sql_exception.<locals>.deco\u001B[0;34m(*a, **kw)\u001B[0m\n",
       "\u001B[1;32m    226\u001B[0m \u001B[38;5;28;01mdef\u001B[39;00m \u001B[38;5;21mdeco\u001B[39m(\u001B[38;5;241m*\u001B[39ma: Any, \u001B[38;5;241m*\u001B[39m\u001B[38;5;241m*\u001B[39mkw: Any) \u001B[38;5;241m-\u001B[39m\u001B[38;5;241m>\u001B[39m Any:\n",
       "\u001B[1;32m    227\u001B[0m     \u001B[38;5;28;01mtry\u001B[39;00m:\n",
       "\u001B[0;32m--> 228\u001B[0m         \u001B[38;5;28;01mreturn\u001B[39;00m \u001B[43mf\u001B[49m\u001B[43m(\u001B[49m\u001B[38;5;241;43m*\u001B[39;49m\u001B[43ma\u001B[49m\u001B[43m,\u001B[49m\u001B[43m \u001B[49m\u001B[38;5;241;43m*\u001B[39;49m\u001B[38;5;241;43m*\u001B[39;49m\u001B[43mkw\u001B[49m\u001B[43m)\u001B[49m\n",
       "\u001B[1;32m    229\u001B[0m     \u001B[38;5;28;01mexcept\u001B[39;00m Py4JJavaError \u001B[38;5;28;01mas\u001B[39;00m e:\n",
       "\u001B[1;32m    230\u001B[0m         converted \u001B[38;5;241m=\u001B[39m convert_exception(e\u001B[38;5;241m.\u001B[39mjava_exception)\n",
       "\n",
       "File \u001B[0;32m/databricks/spark/python/lib/py4j-0.10.9.5-src.zip/py4j/protocol.py:326\u001B[0m, in \u001B[0;36mget_return_value\u001B[0;34m(answer, gateway_client, target_id, name)\u001B[0m\n",
       "\u001B[1;32m    324\u001B[0m value \u001B[38;5;241m=\u001B[39m OUTPUT_CONVERTER[\u001B[38;5;28mtype\u001B[39m](answer[\u001B[38;5;241m2\u001B[39m:], gateway_client)\n",
       "\u001B[1;32m    325\u001B[0m \u001B[38;5;28;01mif\u001B[39;00m answer[\u001B[38;5;241m1\u001B[39m] \u001B[38;5;241m==\u001B[39m REFERENCE_TYPE:\n",
       "\u001B[0;32m--> 326\u001B[0m     \u001B[38;5;28;01mraise\u001B[39;00m Py4JJavaError(\n",
       "\u001B[1;32m    327\u001B[0m         \u001B[38;5;124m\"\u001B[39m\u001B[38;5;124mAn error occurred while calling \u001B[39m\u001B[38;5;132;01m{0}\u001B[39;00m\u001B[38;5;132;01m{1}\u001B[39;00m\u001B[38;5;132;01m{2}\u001B[39;00m\u001B[38;5;124m.\u001B[39m\u001B[38;5;130;01m\\n\u001B[39;00m\u001B[38;5;124m\"\u001B[39m\u001B[38;5;241m.\u001B[39m\n",
       "\u001B[1;32m    328\u001B[0m         \u001B[38;5;28mformat\u001B[39m(target_id, \u001B[38;5;124m\"\u001B[39m\u001B[38;5;124m.\u001B[39m\u001B[38;5;124m\"\u001B[39m, name), value)\n",
       "\u001B[1;32m    329\u001B[0m \u001B[38;5;28;01melse\u001B[39;00m:\n",
       "\u001B[1;32m    330\u001B[0m     \u001B[38;5;28;01mraise\u001B[39;00m Py4JError(\n",
       "\u001B[1;32m    331\u001B[0m         \u001B[38;5;124m\"\u001B[39m\u001B[38;5;124mAn error occurred while calling \u001B[39m\u001B[38;5;132;01m{0}\u001B[39;00m\u001B[38;5;132;01m{1}\u001B[39;00m\u001B[38;5;132;01m{2}\u001B[39;00m\u001B[38;5;124m. Trace:\u001B[39m\u001B[38;5;130;01m\\n\u001B[39;00m\u001B[38;5;132;01m{3}\u001B[39;00m\u001B[38;5;130;01m\\n\u001B[39;00m\u001B[38;5;124m\"\u001B[39m\u001B[38;5;241m.\u001B[39m\n",
       "\u001B[1;32m    332\u001B[0m         \u001B[38;5;28mformat\u001B[39m(target_id, \u001B[38;5;124m\"\u001B[39m\u001B[38;5;124m.\u001B[39m\u001B[38;5;124m\"\u001B[39m, name, value))\n",
       "\n",
       "\u001B[0;31mPy4JJavaError\u001B[0m: An error occurred while calling o1297.parquet.\n",
       ": java.nio.file.AccessDeniedException: Big_Data/YOUTUBE/items_selected.parquet: delete on Big_Data/YOUTUBE/items_selected.parquet: com.amazonaws.services.s3.model.AmazonS3Exception: Access Denied; request: DELETE https://full-stack-bigdata-datasets.s3.eu-west-3.amazonaws.com Big_Data/YOUTUBE/items_selected.parquet {} Hadoop 3.3.4, aws-sdk-java/1.12.189 Linux/5.15.0-1069-aws OpenJDK_64-Bit_Server_VM/25.382-b05 java/1.8.0_382 scala/2.12.14 kotlin/1.6.0 vendor/Azul_Systems,_Inc. cfg/retry-mode/legacy com.amazonaws.services.s3.model.DeleteObjectRequest; Request ID: MMKDJGZN8641G9ZS, Extended Request ID: lZ6+kMGUZXw5Zk1DTKET1YUV/OjVDUHm5Da54x5m51TZc4SFbpUZ8rXLtrLWDYjbiaQnrtfiVOs=, Cloud Provider: AWS, Instance ID: i-08271058e9750d65f credentials-provider: com.amazonaws.auth.AnonymousAWSCredentials credential-header: no-credential-header signature-present: false (Service: Amazon S3; Status Code: 403; Error Code: AccessDenied; Request ID: MMKDJGZN8641G9ZS; S3 Extended Request ID: lZ6+kMGUZXw5Zk1DTKET1YUV/OjVDUHm5Da54x5m51TZc4SFbpUZ8rXLtrLWDYjbiaQnrtfiVOs=; Proxy: null), S3 Extended Request ID: lZ6+kMGUZXw5Zk1DTKET1YUV/OjVDUHm5Da54x5m51TZc4SFbpUZ8rXLtrLWDYjbiaQnrtfiVOs=:AccessDenied\n",
       "\tat shaded.databricks.org.apache.hadoop.fs.s3a.S3AUtils.translateException(S3AUtils.java:296)\n",
       "\tat shaded.databricks.org.apache.hadoop.fs.s3a.Invoker.once(Invoker.java:121)\n",
       "\tat shaded.databricks.org.apache.hadoop.fs.s3a.Invoker.once(Invoker.java:113)\n",
       "\tat shaded.databricks.org.apache.hadoop.fs.s3a.Invoker.onceVoid(Invoker.java:135)\n",
       "\tat shaded.databricks.org.apache.hadoop.fs.s3a.S3AFileSystem$OperationCallbacksImpl.deleteObjectAtPath(S3AFileSystem.java:1952)\n",
       "\tat shaded.databricks.org.apache.hadoop.fs.s3a.impl.DeleteOperation.deleteObjectAtPath(DeleteOperation.java:478)\n",
       "\tat shaded.databricks.org.apache.hadoop.fs.s3a.impl.DeleteOperation.execute(DeleteOperation.java:285)\n",
       "\tat shaded.databricks.org.apache.hadoop.fs.s3a.S3AFileSystem.deleteWithInstrumentation(S3AFileSystem.java:3065)\n",
       "\tat shaded.databricks.org.apache.hadoop.fs.s3a.S3AFileSystem.delete(S3AFileSystem.java:3044)\n",
       "\tat com.databricks.common.filesystem.LokiFileSystem.delete(LokiFileSystem.scala:131)\n",
       "\tat org.apache.spark.internal.io.FileCommitProtocol.deleteWithJob(FileCommitProtocol.scala:192)\n",
       "\tat com.databricks.sql.transaction.directory.DirectoryAtomicCommitProtocol.deleteWithJob(DirectoryAtomicCommitProtocol.scala:173)\n",
       "\tat org.apache.spark.sql.execution.datasources.InsertIntoHadoopFsRelationCommand.deleteMatchingPartitions(InsertIntoHadoopFsRelationCommand.scala:255)\n",
       "\tat org.apache.spark.sql.execution.datasources.InsertIntoHadoopFsRelationCommand.run(InsertIntoHadoopFsRelationCommand.scala:149)\n",
       "\tat org.apache.spark.sql.execution.command.DataWritingCommandExec.$anonfun$sideEffectResult$3(commands.scala:132)\n",
       "\tat com.databricks.spark.util.FrameProfiler$.record(FrameProfiler.scala:80)\n",
       "\tat org.apache.spark.sql.execution.command.DataWritingCommandExec.sideEffectResult$lzycompute(commands.scala:130)\n",
       "\tat org.apache.spark.sql.execution.command.DataWritingCommandExec.sideEffectResult(commands.scala:129)\n",
       "\tat org.apache.spark.sql.execution.command.DataWritingCommandExec.executeCollect(commands.scala:144)\n",
       "\tat org.apache.spark.sql.execution.QueryExecution$$anonfun$$nestedInanonfun$eagerlyExecuteCommands$1$1.$anonfun$applyOrElse$3(QueryExecution.scala:256)\n",
       "\tat org.apache.spark.sql.catalyst.QueryPlanningTracker$.withTracker(QueryPlanningTracker.scala:165)\n",
       "\tat org.apache.spark.sql.execution.QueryExecution$$anonfun$$nestedInanonfun$eagerlyExecuteCommands$1$1.$anonfun$applyOrElse$2(QueryExecution.scala:256)\n",
       "\tat org.apache.spark.sql.execution.SQLExecution$.$anonfun$withCustomExecutionEnv$9(SQLExecution.scala:258)\n",
       "\tat org.apache.spark.sql.execution.SQLExecution$.withSQLConfPropagated(SQLExecution.scala:448)\n",
       "\tat org.apache.spark.sql.execution.SQLExecution$.$anonfun$withCustomExecutionEnv$1(SQLExecution.scala:203)\n",
       "\tat org.apache.spark.sql.SparkSession.withActive(SparkSession.scala:1073)\n",
       "\tat org.apache.spark.sql.execution.SQLExecution$.withCustomExecutionEnv(SQLExecution.scala:131)\n",
       "\tat org.apache.spark.sql.execution.SQLExecution$.withNewExecutionId(SQLExecution.scala:398)\n",
       "\tat org.apache.spark.sql.execution.QueryExecution$$anonfun$$nestedInanonfun$eagerlyExecuteCommands$1$1.$anonfun$applyOrElse$1(QueryExecution.scala:255)\n",
       "\tat org.apache.spark.sql.execution.QueryExecution.org$apache$spark$sql$execution$QueryExecution$$withMVTagsIfNecessary(QueryExecution.scala:238)\n",
       "\tat org.apache.spark.sql.execution.QueryExecution$$anonfun$$nestedInanonfun$eagerlyExecuteCommands$1$1.applyOrElse(QueryExecution.scala:251)\n",
       "\tat org.apache.spark.sql.execution.QueryExecution$$anonfun$$nestedInanonfun$eagerlyExecuteCommands$1$1.applyOrElse(QueryExecution.scala:244)\n",
       "\tat org.apache.spark.sql.catalyst.trees.TreeNode.$anonfun$transformDownWithPruning$1(TreeNode.scala:519)\n",
       "\tat org.apache.spark.sql.catalyst.trees.CurrentOrigin$.withOrigin(TreeNode.scala:106)\n",
       "\tat org.apache.spark.sql.catalyst.trees.TreeNode.transformDownWithPruning(TreeNode.scala:519)\n",
       "\tat org.apache.spark.sql.catalyst.plans.logical.LogicalPlan.org$apache$spark$sql$catalyst$plans$logical$AnalysisHelper$$super$transformDownWithPruning(LogicalPlan.scala:32)\n",
       "\tat org.apache.spark.sql.catalyst.plans.logical.AnalysisHelper.transformDownWithPruning(AnalysisHelper.scala:339)\n",
       "\tat org.apache.spark.sql.catalyst.plans.logical.AnalysisHelper.transformDownWithPruning$(AnalysisHelper.scala:335)\n",
       "\tat org.apache.spark.sql.catalyst.plans.logical.LogicalPlan.transformDownWithPruning(LogicalPlan.scala:32)\n",
       "\tat org.apache.spark.sql.catalyst.plans.logical.LogicalPlan.transformDownWithPruning(LogicalPlan.scala:32)\n",
       "\tat org.apache.spark.sql.catalyst.trees.TreeNode.transformDown(TreeNode.scala:495)\n",
       "\tat org.apache.spark.sql.execution.QueryExecution.$anonfun$eagerlyExecuteCommands$1(QueryExecution.scala:244)\n",
       "\tat org.apache.spark.sql.catalyst.plans.logical.AnalysisHelper$.allowInvokingTransformsInAnalyzer(AnalysisHelper.scala:395)\n",
       "\tat org.apache.spark.sql.execution.QueryExecution.eagerlyExecuteCommands(QueryExecution.scala:244)\n",
       "\tat org.apache.spark.sql.execution.QueryExecution.commandExecuted$lzycompute(QueryExecution.scala:198)\n",
       "\tat org.apache.spark.sql.execution.QueryExecution.commandExecuted(QueryExecution.scala:189)\n",
       "\tat org.apache.spark.sql.execution.QueryExecution.assertCommandExecuted(QueryExecution.scala:305)\n",
       "\tat org.apache.spark.sql.DataFrameWriter.runCommand(DataFrameWriter.scala:964)\n",
       "\tat org.apache.spark.sql.DataFrameWriter.saveToV1Source(DataFrameWriter.scala:429)\n",
       "\tat org.apache.spark.sql.DataFrameWriter.saveInternal(DataFrameWriter.scala:396)\n",
       "\tat org.apache.spark.sql.DataFrameWriter.save(DataFrameWriter.scala:250)\n",
       "\tat org.apache.spark.sql.DataFrameWriter.parquet(DataFrameWriter.scala:897)\n",
       "\tat sun.reflect.NativeMethodAccessorImpl.invoke0(Native Method)\n",
       "\tat sun.reflect.NativeMethodAccessorImpl.invoke(NativeMethodAccessorImpl.java:62)\n",
       "\tat sun.reflect.DelegatingMethodAccessorImpl.invoke(DelegatingMethodAccessorImpl.java:43)\n",
       "\tat java.lang.reflect.Method.invoke(Method.java:498)\n",
       "\tat py4j.reflection.MethodInvoker.invoke(MethodInvoker.java:244)\n",
       "\tat py4j.reflection.ReflectionEngine.invoke(ReflectionEngine.java:380)\n",
       "\tat py4j.Gateway.invoke(Gateway.java:306)\n",
       "\tat py4j.commands.AbstractCommand.invokeMethod(AbstractCommand.java:132)\n",
       "\tat py4j.commands.CallCommand.execute(CallCommand.java:79)\n",
       "\tat py4j.ClientServerConnection.waitForCommands(ClientServerConnection.java:195)\n",
       "\tat py4j.ClientServerConnection.run(ClientServerConnection.java:115)\n",
       "\tat java.lang.Thread.run(Thread.java:750)\n",
       "Caused by: com.amazonaws.services.s3.model.AmazonS3Exception: Access Denied; request: DELETE https://full-stack-bigdata-datasets.s3.eu-west-3.amazonaws.com Big_Data/YOUTUBE/items_selected.parquet {} Hadoop 3.3.4, aws-sdk-java/1.12.189 Linux/5.15.0-1069-aws OpenJDK_64-Bit_Server_VM/25.382-b05 java/1.8.0_382 scala/2.12.14 kotlin/1.6.0 vendor/Azul_Systems,_Inc. cfg/retry-mode/legacy com.amazonaws.services.s3.model.DeleteObjectRequest; Request ID: MMKDJGZN8641G9ZS, Extended Request ID: lZ6+kMGUZXw5Zk1DTKET1YUV/OjVDUHm5Da54x5m51TZc4SFbpUZ8rXLtrLWDYjbiaQnrtfiVOs=, Cloud Provider: AWS, Instance ID: i-08271058e9750d65f credentials-provider: com.amazonaws.auth.AnonymousAWSCredentials credential-header: no-credential-header signature-present: false (Service: Amazon S3; Status Code: 403; Error Code: AccessDenied; Request ID: MMKDJGZN8641G9ZS; S3 Extended Request ID: lZ6+kMGUZXw5Zk1DTKET1YUV/OjVDUHm5Da54x5m51TZc4SFbpUZ8rXLtrLWDYjbiaQnrtfiVOs=; Proxy: null), S3 Extended Request ID: lZ6+kMGUZXw5Zk1DTKET1YUV/OjVDUHm5Da54x5m51TZc4SFbpUZ8rXLtrLWDYjbiaQnrtfiVOs=\n",
       "\tat com.amazonaws.http.AmazonHttpClient$RequestExecutor.handleErrorResponse(AmazonHttpClient.java:1862)\n",
       "\tat com.amazonaws.http.AmazonHttpClient$RequestExecutor.handleServiceErrorResponse(AmazonHttpClient.java:1415)\n",
       "\tat com.amazonaws.http.AmazonHttpClient$RequestExecutor.executeOneRequest(AmazonHttpClient.java:1384)\n",
       "\tat com.amazonaws.http.AmazonHttpClient$RequestExecutor.executeHelper(AmazonHttpClient.java:1154)\n",
       "\tat com.amazonaws.http.AmazonHttpClient$RequestExecutor.doExecute(AmazonHttpClient.java:811)\n",
       "\tat com.amazonaws.http.AmazonHttpClient$RequestExecutor.executeWithTimer(AmazonHttpClient.java:779)\n",
       "\tat com.amazonaws.http.AmazonHttpClient$RequestExecutor.execute(AmazonHttpClient.java:753)\n",
       "\tat com.amazonaws.http.AmazonHttpClient$RequestExecutor.access$500(AmazonHttpClient.java:713)\n",
       "\tat com.amazonaws.http.AmazonHttpClient$RequestExecutionBuilderImpl.execute(AmazonHttpClient.java:695)\n",
       "\tat com.amazonaws.http.AmazonHttpClient.execute(AmazonHttpClient.java:559)\n",
       "\tat com.amazonaws.http.AmazonHttpClient.execute(AmazonHttpClient.java:539)\n",
       "\tat com.amazonaws.services.s3.AmazonS3Client.invoke(AmazonS3Client.java:5453)\n",
       "\tat com.amazonaws.services.s3.AmazonS3Client.invoke(AmazonS3Client.java:5400)\n",
       "\tat com.amazonaws.services.s3.AmazonS3Client.deleteObject(AmazonS3Client.java:2299)\n",
       "\tat shaded.databricks.org.apache.hadoop.fs.s3a.EnforcingDatabricksS3Client.deleteObject(EnforcingDatabricksS3Client.scala:95)\n",
       "\tat shaded.databricks.org.apache.hadoop.fs.s3a.S3AFileSystem.lambda$deleteObject$9(S3AFileSystem.java:2420)\n",
       "\tat shaded.databricks.org.apache.hadoop.fs.s3a.Invoker.retryUntranslated(Invoker.java:418)\n",
       "\tat shaded.databricks.org.apache.hadoop.fs.s3a.Invoker.retryUntranslated(Invoker.java:379)\n",
       "\tat shaded.databricks.org.apache.hadoop.fs.s3a.S3AFileSystem.deleteObject(S3AFileSystem.java:2416)\n",
       "\tat shaded.databricks.org.apache.hadoop.fs.s3a.S3AFileSystem.deleteObjectAtPath(S3AFileSystem.java:2448)\n",
       "\tat shaded.databricks.org.apache.hadoop.fs.s3a.S3AFileSystem$OperationCallbacksImpl.lambda$deleteObjectAtPath$0(S3AFileSystem.java:1953)\n",
       "\tat shaded.databricks.org.apache.hadoop.fs.s3a.Invoker.lambda$onceVoid$0(Invoker.java:137)\n",
       "\tat shaded.databricks.org.apache.hadoop.fs.s3a.Invoker.once(Invoker.java:119)\n",
       "\t... 62 more\n"
      ]
     },
     "metadata": {
      "application/vnd.databricks.v1+output": {
       "arguments": {},
       "data": "\u001B[0;31m---------------------------------------------------------------------------\u001B[0m\n\u001B[0;31mPy4JJavaError\u001B[0m                             Traceback (most recent call last)\nFile \u001B[0;32m<command-4417087527232138>:1\u001B[0m\n\u001B[0;32m----> 1\u001B[0m \u001B[43msongs\u001B[49m\u001B[38;5;241;43m.\u001B[39;49m\u001B[43mwrite\u001B[49m\u001B[43m \u001B[49m\u001B[43m\\\u001B[49m\n\u001B[1;32m      2\u001B[0m \u001B[43m  \u001B[49m\u001B[38;5;241;43m.\u001B[39;49m\u001B[43mparquet\u001B[49m\u001B[43m(\u001B[49m\u001B[38;5;124;43m\"\u001B[39;49m\u001B[38;5;124;43ms3://full-stack-bigdata-datasets/Big_Data/YOUTUBE/items_selected.parquet\u001B[39;49m\u001B[38;5;124;43m\"\u001B[39;49m\u001B[43m,\u001B[49m\u001B[43m \u001B[49m\u001B[43mmode\u001B[49m\u001B[38;5;241;43m=\u001B[39;49m\u001B[38;5;124;43m'\u001B[39;49m\u001B[38;5;124;43moverwrite\u001B[39;49m\u001B[38;5;124;43m'\u001B[39;49m\u001B[43m)\u001B[49m\n\nFile \u001B[0;32m/databricks/spark/python/pyspark/instrumentation_utils.py:48\u001B[0m, in \u001B[0;36m_wrap_function.<locals>.wrapper\u001B[0;34m(*args, **kwargs)\u001B[0m\n\u001B[1;32m     46\u001B[0m start \u001B[38;5;241m=\u001B[39m time\u001B[38;5;241m.\u001B[39mperf_counter()\n\u001B[1;32m     47\u001B[0m \u001B[38;5;28;01mtry\u001B[39;00m:\n\u001B[0;32m---> 48\u001B[0m     res \u001B[38;5;241m=\u001B[39m \u001B[43mfunc\u001B[49m\u001B[43m(\u001B[49m\u001B[38;5;241;43m*\u001B[39;49m\u001B[43margs\u001B[49m\u001B[43m,\u001B[49m\u001B[43m \u001B[49m\u001B[38;5;241;43m*\u001B[39;49m\u001B[38;5;241;43m*\u001B[39;49m\u001B[43mkwargs\u001B[49m\u001B[43m)\u001B[49m\n\u001B[1;32m     49\u001B[0m     logger\u001B[38;5;241m.\u001B[39mlog_success(\n\u001B[1;32m     50\u001B[0m         module_name, class_name, function_name, time\u001B[38;5;241m.\u001B[39mperf_counter() \u001B[38;5;241m-\u001B[39m start, signature\n\u001B[1;32m     51\u001B[0m     )\n\u001B[1;32m     52\u001B[0m     \u001B[38;5;28;01mreturn\u001B[39;00m res\n\nFile \u001B[0;32m/databricks/spark/python/pyspark/sql/readwriter.py:1655\u001B[0m, in \u001B[0;36mDataFrameWriter.parquet\u001B[0;34m(self, path, mode, partitionBy, compression)\u001B[0m\n\u001B[1;32m   1653\u001B[0m     \u001B[38;5;28mself\u001B[39m\u001B[38;5;241m.\u001B[39mpartitionBy(partitionBy)\n\u001B[1;32m   1654\u001B[0m \u001B[38;5;28mself\u001B[39m\u001B[38;5;241m.\u001B[39m_set_opts(compression\u001B[38;5;241m=\u001B[39mcompression)\n\u001B[0;32m-> 1655\u001B[0m \u001B[38;5;28;43mself\u001B[39;49m\u001B[38;5;241;43m.\u001B[39;49m\u001B[43m_jwrite\u001B[49m\u001B[38;5;241;43m.\u001B[39;49m\u001B[43mparquet\u001B[49m\u001B[43m(\u001B[49m\u001B[43mpath\u001B[49m\u001B[43m)\u001B[49m\n\nFile \u001B[0;32m/databricks/spark/python/lib/py4j-0.10.9.5-src.zip/py4j/java_gateway.py:1321\u001B[0m, in \u001B[0;36mJavaMember.__call__\u001B[0;34m(self, *args)\u001B[0m\n\u001B[1;32m   1315\u001B[0m command \u001B[38;5;241m=\u001B[39m proto\u001B[38;5;241m.\u001B[39mCALL_COMMAND_NAME \u001B[38;5;241m+\u001B[39m\\\n\u001B[1;32m   1316\u001B[0m     \u001B[38;5;28mself\u001B[39m\u001B[38;5;241m.\u001B[39mcommand_header \u001B[38;5;241m+\u001B[39m\\\n\u001B[1;32m   1317\u001B[0m     args_command \u001B[38;5;241m+\u001B[39m\\\n\u001B[1;32m   1318\u001B[0m     proto\u001B[38;5;241m.\u001B[39mEND_COMMAND_PART\n\u001B[1;32m   1320\u001B[0m answer \u001B[38;5;241m=\u001B[39m \u001B[38;5;28mself\u001B[39m\u001B[38;5;241m.\u001B[39mgateway_client\u001B[38;5;241m.\u001B[39msend_command(command)\n\u001B[0;32m-> 1321\u001B[0m return_value \u001B[38;5;241m=\u001B[39m \u001B[43mget_return_value\u001B[49m\u001B[43m(\u001B[49m\n\u001B[1;32m   1322\u001B[0m \u001B[43m    \u001B[49m\u001B[43manswer\u001B[49m\u001B[43m,\u001B[49m\u001B[43m \u001B[49m\u001B[38;5;28;43mself\u001B[39;49m\u001B[38;5;241;43m.\u001B[39;49m\u001B[43mgateway_client\u001B[49m\u001B[43m,\u001B[49m\u001B[43m \u001B[49m\u001B[38;5;28;43mself\u001B[39;49m\u001B[38;5;241;43m.\u001B[39;49m\u001B[43mtarget_id\u001B[49m\u001B[43m,\u001B[49m\u001B[43m \u001B[49m\u001B[38;5;28;43mself\u001B[39;49m\u001B[38;5;241;43m.\u001B[39;49m\u001B[43mname\u001B[49m\u001B[43m)\u001B[49m\n\u001B[1;32m   1324\u001B[0m \u001B[38;5;28;01mfor\u001B[39;00m temp_arg \u001B[38;5;129;01min\u001B[39;00m temp_args:\n\u001B[1;32m   1325\u001B[0m     temp_arg\u001B[38;5;241m.\u001B[39m_detach()\n\nFile \u001B[0;32m/databricks/spark/python/pyspark/errors/exceptions.py:228\u001B[0m, in \u001B[0;36mcapture_sql_exception.<locals>.deco\u001B[0;34m(*a, **kw)\u001B[0m\n\u001B[1;32m    226\u001B[0m \u001B[38;5;28;01mdef\u001B[39;00m \u001B[38;5;21mdeco\u001B[39m(\u001B[38;5;241m*\u001B[39ma: Any, \u001B[38;5;241m*\u001B[39m\u001B[38;5;241m*\u001B[39mkw: Any) \u001B[38;5;241m-\u001B[39m\u001B[38;5;241m>\u001B[39m Any:\n\u001B[1;32m    227\u001B[0m     \u001B[38;5;28;01mtry\u001B[39;00m:\n\u001B[0;32m--> 228\u001B[0m         \u001B[38;5;28;01mreturn\u001B[39;00m \u001B[43mf\u001B[49m\u001B[43m(\u001B[49m\u001B[38;5;241;43m*\u001B[39;49m\u001B[43ma\u001B[49m\u001B[43m,\u001B[49m\u001B[43m \u001B[49m\u001B[38;5;241;43m*\u001B[39;49m\u001B[38;5;241;43m*\u001B[39;49m\u001B[43mkw\u001B[49m\u001B[43m)\u001B[49m\n\u001B[1;32m    229\u001B[0m     \u001B[38;5;28;01mexcept\u001B[39;00m Py4JJavaError \u001B[38;5;28;01mas\u001B[39;00m e:\n\u001B[1;32m    230\u001B[0m         converted \u001B[38;5;241m=\u001B[39m convert_exception(e\u001B[38;5;241m.\u001B[39mjava_exception)\n\nFile \u001B[0;32m/databricks/spark/python/lib/py4j-0.10.9.5-src.zip/py4j/protocol.py:326\u001B[0m, in \u001B[0;36mget_return_value\u001B[0;34m(answer, gateway_client, target_id, name)\u001B[0m\n\u001B[1;32m    324\u001B[0m value \u001B[38;5;241m=\u001B[39m OUTPUT_CONVERTER[\u001B[38;5;28mtype\u001B[39m](answer[\u001B[38;5;241m2\u001B[39m:], gateway_client)\n\u001B[1;32m    325\u001B[0m \u001B[38;5;28;01mif\u001B[39;00m answer[\u001B[38;5;241m1\u001B[39m] \u001B[38;5;241m==\u001B[39m REFERENCE_TYPE:\n\u001B[0;32m--> 326\u001B[0m     \u001B[38;5;28;01mraise\u001B[39;00m Py4JJavaError(\n\u001B[1;32m    327\u001B[0m         \u001B[38;5;124m\"\u001B[39m\u001B[38;5;124mAn error occurred while calling \u001B[39m\u001B[38;5;132;01m{0}\u001B[39;00m\u001B[38;5;132;01m{1}\u001B[39;00m\u001B[38;5;132;01m{2}\u001B[39;00m\u001B[38;5;124m.\u001B[39m\u001B[38;5;130;01m\\n\u001B[39;00m\u001B[38;5;124m\"\u001B[39m\u001B[38;5;241m.\u001B[39m\n\u001B[1;32m    328\u001B[0m         \u001B[38;5;28mformat\u001B[39m(target_id, \u001B[38;5;124m\"\u001B[39m\u001B[38;5;124m.\u001B[39m\u001B[38;5;124m\"\u001B[39m, name), value)\n\u001B[1;32m    329\u001B[0m \u001B[38;5;28;01melse\u001B[39;00m:\n\u001B[1;32m    330\u001B[0m     \u001B[38;5;28;01mraise\u001B[39;00m Py4JError(\n\u001B[1;32m    331\u001B[0m         \u001B[38;5;124m\"\u001B[39m\u001B[38;5;124mAn error occurred while calling \u001B[39m\u001B[38;5;132;01m{0}\u001B[39;00m\u001B[38;5;132;01m{1}\u001B[39;00m\u001B[38;5;132;01m{2}\u001B[39;00m\u001B[38;5;124m. Trace:\u001B[39m\u001B[38;5;130;01m\\n\u001B[39;00m\u001B[38;5;132;01m{3}\u001B[39;00m\u001B[38;5;130;01m\\n\u001B[39;00m\u001B[38;5;124m\"\u001B[39m\u001B[38;5;241m.\u001B[39m\n\u001B[1;32m    332\u001B[0m         \u001B[38;5;28mformat\u001B[39m(target_id, \u001B[38;5;124m\"\u001B[39m\u001B[38;5;124m.\u001B[39m\u001B[38;5;124m\"\u001B[39m, name, value))\n\n\u001B[0;31mPy4JJavaError\u001B[0m: An error occurred while calling o1297.parquet.\n: java.nio.file.AccessDeniedException: Big_Data/YOUTUBE/items_selected.parquet: delete on Big_Data/YOUTUBE/items_selected.parquet: com.amazonaws.services.s3.model.AmazonS3Exception: Access Denied; request: DELETE https://full-stack-bigdata-datasets.s3.eu-west-3.amazonaws.com Big_Data/YOUTUBE/items_selected.parquet {} Hadoop 3.3.4, aws-sdk-java/1.12.189 Linux/5.15.0-1069-aws OpenJDK_64-Bit_Server_VM/25.382-b05 java/1.8.0_382 scala/2.12.14 kotlin/1.6.0 vendor/Azul_Systems,_Inc. cfg/retry-mode/legacy com.amazonaws.services.s3.model.DeleteObjectRequest; Request ID: MMKDJGZN8641G9ZS, Extended Request ID: lZ6+kMGUZXw5Zk1DTKET1YUV/OjVDUHm5Da54x5m51TZc4SFbpUZ8rXLtrLWDYjbiaQnrtfiVOs=, Cloud Provider: AWS, Instance ID: i-08271058e9750d65f credentials-provider: com.amazonaws.auth.AnonymousAWSCredentials credential-header: no-credential-header signature-present: false (Service: Amazon S3; Status Code: 403; Error Code: AccessDenied; Request ID: MMKDJGZN8641G9ZS; S3 Extended Request ID: lZ6+kMGUZXw5Zk1DTKET1YUV/OjVDUHm5Da54x5m51TZc4SFbpUZ8rXLtrLWDYjbiaQnrtfiVOs=; Proxy: null), S3 Extended Request ID: lZ6+kMGUZXw5Zk1DTKET1YUV/OjVDUHm5Da54x5m51TZc4SFbpUZ8rXLtrLWDYjbiaQnrtfiVOs=:AccessDenied\n\tat shaded.databricks.org.apache.hadoop.fs.s3a.S3AUtils.translateException(S3AUtils.java:296)\n\tat shaded.databricks.org.apache.hadoop.fs.s3a.Invoker.once(Invoker.java:121)\n\tat shaded.databricks.org.apache.hadoop.fs.s3a.Invoker.once(Invoker.java:113)\n\tat shaded.databricks.org.apache.hadoop.fs.s3a.Invoker.onceVoid(Invoker.java:135)\n\tat shaded.databricks.org.apache.hadoop.fs.s3a.S3AFileSystem$OperationCallbacksImpl.deleteObjectAtPath(S3AFileSystem.java:1952)\n\tat shaded.databricks.org.apache.hadoop.fs.s3a.impl.DeleteOperation.deleteObjectAtPath(DeleteOperation.java:478)\n\tat shaded.databricks.org.apache.hadoop.fs.s3a.impl.DeleteOperation.execute(DeleteOperation.java:285)\n\tat shaded.databricks.org.apache.hadoop.fs.s3a.S3AFileSystem.deleteWithInstrumentation(S3AFileSystem.java:3065)\n\tat shaded.databricks.org.apache.hadoop.fs.s3a.S3AFileSystem.delete(S3AFileSystem.java:3044)\n\tat com.databricks.common.filesystem.LokiFileSystem.delete(LokiFileSystem.scala:131)\n\tat org.apache.spark.internal.io.FileCommitProtocol.deleteWithJob(FileCommitProtocol.scala:192)\n\tat com.databricks.sql.transaction.directory.DirectoryAtomicCommitProtocol.deleteWithJob(DirectoryAtomicCommitProtocol.scala:173)\n\tat org.apache.spark.sql.execution.datasources.InsertIntoHadoopFsRelationCommand.deleteMatchingPartitions(InsertIntoHadoopFsRelationCommand.scala:255)\n\tat org.apache.spark.sql.execution.datasources.InsertIntoHadoopFsRelationCommand.run(InsertIntoHadoopFsRelationCommand.scala:149)\n\tat org.apache.spark.sql.execution.command.DataWritingCommandExec.$anonfun$sideEffectResult$3(commands.scala:132)\n\tat com.databricks.spark.util.FrameProfiler$.record(FrameProfiler.scala:80)\n\tat org.apache.spark.sql.execution.command.DataWritingCommandExec.sideEffectResult$lzycompute(commands.scala:130)\n\tat org.apache.spark.sql.execution.command.DataWritingCommandExec.sideEffectResult(commands.scala:129)\n\tat org.apache.spark.sql.execution.command.DataWritingCommandExec.executeCollect(commands.scala:144)\n\tat org.apache.spark.sql.execution.QueryExecution$$anonfun$$nestedInanonfun$eagerlyExecuteCommands$1$1.$anonfun$applyOrElse$3(QueryExecution.scala:256)\n\tat org.apache.spark.sql.catalyst.QueryPlanningTracker$.withTracker(QueryPlanningTracker.scala:165)\n\tat org.apache.spark.sql.execution.QueryExecution$$anonfun$$nestedInanonfun$eagerlyExecuteCommands$1$1.$anonfun$applyOrElse$2(QueryExecution.scala:256)\n\tat org.apache.spark.sql.execution.SQLExecution$.$anonfun$withCustomExecutionEnv$9(SQLExecution.scala:258)\n\tat org.apache.spark.sql.execution.SQLExecution$.withSQLConfPropagated(SQLExecution.scala:448)\n\tat org.apache.spark.sql.execution.SQLExecution$.$anonfun$withCustomExecutionEnv$1(SQLExecution.scala:203)\n\tat org.apache.spark.sql.SparkSession.withActive(SparkSession.scala:1073)\n\tat org.apache.spark.sql.execution.SQLExecution$.withCustomExecutionEnv(SQLExecution.scala:131)\n\tat org.apache.spark.sql.execution.SQLExecution$.withNewExecutionId(SQLExecution.scala:398)\n\tat org.apache.spark.sql.execution.QueryExecution$$anonfun$$nestedInanonfun$eagerlyExecuteCommands$1$1.$anonfun$applyOrElse$1(QueryExecution.scala:255)\n\tat org.apache.spark.sql.execution.QueryExecution.org$apache$spark$sql$execution$QueryExecution$$withMVTagsIfNecessary(QueryExecution.scala:238)\n\tat org.apache.spark.sql.execution.QueryExecution$$anonfun$$nestedInanonfun$eagerlyExecuteCommands$1$1.applyOrElse(QueryExecution.scala:251)\n\tat org.apache.spark.sql.execution.QueryExecution$$anonfun$$nestedInanonfun$eagerlyExecuteCommands$1$1.applyOrElse(QueryExecution.scala:244)\n\tat org.apache.spark.sql.catalyst.trees.TreeNode.$anonfun$transformDownWithPruning$1(TreeNode.scala:519)\n\tat org.apache.spark.sql.catalyst.trees.CurrentOrigin$.withOrigin(TreeNode.scala:106)\n\tat org.apache.spark.sql.catalyst.trees.TreeNode.transformDownWithPruning(TreeNode.scala:519)\n\tat org.apache.spark.sql.catalyst.plans.logical.LogicalPlan.org$apache$spark$sql$catalyst$plans$logical$AnalysisHelper$$super$transformDownWithPruning(LogicalPlan.scala:32)\n\tat org.apache.spark.sql.catalyst.plans.logical.AnalysisHelper.transformDownWithPruning(AnalysisHelper.scala:339)\n\tat org.apache.spark.sql.catalyst.plans.logical.AnalysisHelper.transformDownWithPruning$(AnalysisHelper.scala:335)\n\tat org.apache.spark.sql.catalyst.plans.logical.LogicalPlan.transformDownWithPruning(LogicalPlan.scala:32)\n\tat org.apache.spark.sql.catalyst.plans.logical.LogicalPlan.transformDownWithPruning(LogicalPlan.scala:32)\n\tat org.apache.spark.sql.catalyst.trees.TreeNode.transformDown(TreeNode.scala:495)\n\tat org.apache.spark.sql.execution.QueryExecution.$anonfun$eagerlyExecuteCommands$1(QueryExecution.scala:244)\n\tat org.apache.spark.sql.catalyst.plans.logical.AnalysisHelper$.allowInvokingTransformsInAnalyzer(AnalysisHelper.scala:395)\n\tat org.apache.spark.sql.execution.QueryExecution.eagerlyExecuteCommands(QueryExecution.scala:244)\n\tat org.apache.spark.sql.execution.QueryExecution.commandExecuted$lzycompute(QueryExecution.scala:198)\n\tat org.apache.spark.sql.execution.QueryExecution.commandExecuted(QueryExecution.scala:189)\n\tat org.apache.spark.sql.execution.QueryExecution.assertCommandExecuted(QueryExecution.scala:305)\n\tat org.apache.spark.sql.DataFrameWriter.runCommand(DataFrameWriter.scala:964)\n\tat org.apache.spark.sql.DataFrameWriter.saveToV1Source(DataFrameWriter.scala:429)\n\tat org.apache.spark.sql.DataFrameWriter.saveInternal(DataFrameWriter.scala:396)\n\tat org.apache.spark.sql.DataFrameWriter.save(DataFrameWriter.scala:250)\n\tat org.apache.spark.sql.DataFrameWriter.parquet(DataFrameWriter.scala:897)\n\tat sun.reflect.NativeMethodAccessorImpl.invoke0(Native Method)\n\tat sun.reflect.NativeMethodAccessorImpl.invoke(NativeMethodAccessorImpl.java:62)\n\tat sun.reflect.DelegatingMethodAccessorImpl.invoke(DelegatingMethodAccessorImpl.java:43)\n\tat java.lang.reflect.Method.invoke(Method.java:498)\n\tat py4j.reflection.MethodInvoker.invoke(MethodInvoker.java:244)\n\tat py4j.reflection.ReflectionEngine.invoke(ReflectionEngine.java:380)\n\tat py4j.Gateway.invoke(Gateway.java:306)\n\tat py4j.commands.AbstractCommand.invokeMethod(AbstractCommand.java:132)\n\tat py4j.commands.CallCommand.execute(CallCommand.java:79)\n\tat py4j.ClientServerConnection.waitForCommands(ClientServerConnection.java:195)\n\tat py4j.ClientServerConnection.run(ClientServerConnection.java:115)\n\tat java.lang.Thread.run(Thread.java:750)\nCaused by: com.amazonaws.services.s3.model.AmazonS3Exception: Access Denied; request: DELETE https://full-stack-bigdata-datasets.s3.eu-west-3.amazonaws.com Big_Data/YOUTUBE/items_selected.parquet {} Hadoop 3.3.4, aws-sdk-java/1.12.189 Linux/5.15.0-1069-aws OpenJDK_64-Bit_Server_VM/25.382-b05 java/1.8.0_382 scala/2.12.14 kotlin/1.6.0 vendor/Azul_Systems,_Inc. cfg/retry-mode/legacy com.amazonaws.services.s3.model.DeleteObjectRequest; Request ID: MMKDJGZN8641G9ZS, Extended Request ID: lZ6+kMGUZXw5Zk1DTKET1YUV/OjVDUHm5Da54x5m51TZc4SFbpUZ8rXLtrLWDYjbiaQnrtfiVOs=, Cloud Provider: AWS, Instance ID: i-08271058e9750d65f credentials-provider: com.amazonaws.auth.AnonymousAWSCredentials credential-header: no-credential-header signature-present: false (Service: Amazon S3; Status Code: 403; Error Code: AccessDenied; Request ID: MMKDJGZN8641G9ZS; S3 Extended Request ID: lZ6+kMGUZXw5Zk1DTKET1YUV/OjVDUHm5Da54x5m51TZc4SFbpUZ8rXLtrLWDYjbiaQnrtfiVOs=; Proxy: null), S3 Extended Request ID: lZ6+kMGUZXw5Zk1DTKET1YUV/OjVDUHm5Da54x5m51TZc4SFbpUZ8rXLtrLWDYjbiaQnrtfiVOs=\n\tat com.amazonaws.http.AmazonHttpClient$RequestExecutor.handleErrorResponse(AmazonHttpClient.java:1862)\n\tat com.amazonaws.http.AmazonHttpClient$RequestExecutor.handleServiceErrorResponse(AmazonHttpClient.java:1415)\n\tat com.amazonaws.http.AmazonHttpClient$RequestExecutor.executeOneRequest(AmazonHttpClient.java:1384)\n\tat com.amazonaws.http.AmazonHttpClient$RequestExecutor.executeHelper(AmazonHttpClient.java:1154)\n\tat com.amazonaws.http.AmazonHttpClient$RequestExecutor.doExecute(AmazonHttpClient.java:811)\n\tat com.amazonaws.http.AmazonHttpClient$RequestExecutor.executeWithTimer(AmazonHttpClient.java:779)\n\tat com.amazonaws.http.AmazonHttpClient$RequestExecutor.execute(AmazonHttpClient.java:753)\n\tat com.amazonaws.http.AmazonHttpClient$RequestExecutor.access$500(AmazonHttpClient.java:713)\n\tat com.amazonaws.http.AmazonHttpClient$RequestExecutionBuilderImpl.execute(AmazonHttpClient.java:695)\n\tat com.amazonaws.http.AmazonHttpClient.execute(AmazonHttpClient.java:559)\n\tat com.amazonaws.http.AmazonHttpClient.execute(AmazonHttpClient.java:539)\n\tat com.amazonaws.services.s3.AmazonS3Client.invoke(AmazonS3Client.java:5453)\n\tat com.amazonaws.services.s3.AmazonS3Client.invoke(AmazonS3Client.java:5400)\n\tat com.amazonaws.services.s3.AmazonS3Client.deleteObject(AmazonS3Client.java:2299)\n\tat shaded.databricks.org.apache.hadoop.fs.s3a.EnforcingDatabricksS3Client.deleteObject(EnforcingDatabricksS3Client.scala:95)\n\tat shaded.databricks.org.apache.hadoop.fs.s3a.S3AFileSystem.lambda$deleteObject$9(S3AFileSystem.java:2420)\n\tat shaded.databricks.org.apache.hadoop.fs.s3a.Invoker.retryUntranslated(Invoker.java:418)\n\tat shaded.databricks.org.apache.hadoop.fs.s3a.Invoker.retryUntranslated(Invoker.java:379)\n\tat shaded.databricks.org.apache.hadoop.fs.s3a.S3AFileSystem.deleteObject(S3AFileSystem.java:2416)\n\tat shaded.databricks.org.apache.hadoop.fs.s3a.S3AFileSystem.deleteObjectAtPath(S3AFileSystem.java:2448)\n\tat shaded.databricks.org.apache.hadoop.fs.s3a.S3AFileSystem$OperationCallbacksImpl.lambda$deleteObjectAtPath$0(S3AFileSystem.java:1953)\n\tat shaded.databricks.org.apache.hadoop.fs.s3a.Invoker.lambda$onceVoid$0(Invoker.java:137)\n\tat shaded.databricks.org.apache.hadoop.fs.s3a.Invoker.once(Invoker.java:119)\n\t... 62 more\n",
       "errorSummary": "java.nio.file.AccessDeniedException: Big_Data/YOUTUBE/items_selected.parquet: delete on Big_Data/YOUTUBE/items_selected.parquet: com.amazonaws.services.s3.model.AmazonS3Exception: Access Denied; request: DELETE https://full-stack-bigdata-datasets.s3.eu-west-3.amazonaws.com Big_Data/YOUTUBE/items_selected.parquet {} Hadoop 3.3.4, aws-sdk-java/1.12.189 Linux/5.15.0-1069-aws OpenJDK_64-Bit_Server_VM/25.382-b05 java/1.8.0_382 scala/2.12.14 kotlin/1.6.0 vendor/Azul_Systems,_Inc. cfg/retry-mode/legacy com.amazonaws.services.s3.model.DeleteObjectRequest; Request ID: MMKDJGZN8641G9ZS, Extended Request ID: lZ6+kMGUZXw5Zk1DTKET1YUV/OjVDUHm5Da54x5m51TZc4SFbpUZ8rXLtrLWDYjbiaQnrtfiVOs=, Cloud Provider: AWS, Instance ID: i-08271058e9750d65f credentials-provider: com.amazonaws.auth.AnonymousAWSCredentials credential-header: no-credential-header signature-present: false (Service: Amazon S3; Status Code: 403; Error Code: AccessDenied; Request ID: MMKDJGZN8641G9ZS; S3 Extended Request ID: lZ6+kMGUZXw5Zk1DTKET1YUV/OjVDUHm5Da54x5m51TZc4SFbpUZ8rXLtrLWDYjbiaQnrtfiVOs=; Proxy: null), S3 Extended Request ID: lZ6+kMGUZXw5Zk1DTKET1YUV/OjVDUHm5Da54x5m51TZc4SFbpUZ8rXLtrLWDYjbiaQnrtfiVOs=:AccessDenied",
       "errorTraceType": "ansi",
       "metadata": {},
       "type": "ipynbError"
      }
     },
     "output_type": "display_data"
    }
   ],
   "source": [
    "songs.write \\\n",
    "  .parquet(\"s3://full-stack-bigdata-datasets/Big_Data/YOUTUBE/items_selected.parquet\", mode='overwrite')"
   ]
  },
  {
   "cell_type": "code",
   "execution_count": 0,
   "metadata": {
    "application/vnd.databricks.v1+cell": {
     "cellMetadata": {},
     "inputWidgets": {},
     "nuid": "12d664a2-0d1e-4313-b38c-a09a43250a2e",
     "showTitle": false,
     "title": ""
    }
   },
   "outputs": [],
   "source": []
  }
 ],
 "metadata": {
  "application/vnd.databricks.v1+notebook": {
   "dashboards": [],
   "environmentMetadata": null,
   "language": "python",
   "notebookMetadata": {
    "pythonIndentUnit": 4
   },
   "notebookName": "4-3-Data-selection-exercice-Introduction-to-Spark-SQL.ipynb",
   "widgets": {}
  }
 },
 "nbformat": 4,
 "nbformat_minor": 0
}
