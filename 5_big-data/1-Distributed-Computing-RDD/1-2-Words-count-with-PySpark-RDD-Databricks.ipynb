{
 "cells": [
  {
   "cell_type": "code",
   "execution_count": 0,
   "metadata": {
    "application/vnd.databricks.v1+cell": {
     "cellMetadata": {
      "byteLimit": 2048000,
      "rowLimit": 10000
     },
     "inputWidgets": {},
     "nuid": "aa377277-29c2-456c-a885-1d84e89e8a4a",
     "showTitle": false,
     "title": ""
    }
   },
   "outputs": [],
   "source": [
    "# We start by defining the spark context to play with RDDs\n",
    "sc = spark.sparkContext"
   ]
  },
  {
   "cell_type": "code",
   "execution_count": 0,
   "metadata": {
    "application/vnd.databricks.v1+cell": {
     "cellMetadata": {
      "byteLimit": 2048000,
      "rowLimit": 10000
     },
     "inputWidgets": {},
     "nuid": "29bb26d8-ed5e-4c92-af60-90069473d1bd",
     "showTitle": false,
     "title": ""
    }
   },
   "outputs": [],
   "source": [
    "# We need a S3 filepath\n",
    "\n",
    "FILENAME = 's3://full-stack-bigdata-datasets/Big_Data/purple_rain.txt'"
   ]
  },
  {
   "cell_type": "code",
   "execution_count": 0,
   "metadata": {
    "application/vnd.databricks.v1+cell": {
     "cellMetadata": {
      "byteLimit": 2048000,
      "rowLimit": 10000
     },
     "inputWidgets": {},
     "nuid": "09ee5a3c-5059-492f-96a2-cb342307d155",
     "showTitle": false,
     "title": ""
    }
   },
   "outputs": [],
   "source": [
    "text_file = sc.textFile(FILENAME)"
   ]
  },
  {
   "cell_type": "code",
   "execution_count": 0,
   "metadata": {
    "application/vnd.databricks.v1+cell": {
     "cellMetadata": {
      "byteLimit": 2048000,
      "rowLimit": 10000
     },
     "inputWidgets": {},
     "nuid": "b04aa712-3deb-4b69-b864-09d0e301e32a",
     "showTitle": false,
     "title": ""
    }
   },
   "outputs": [
    {
     "output_type": "stream",
     "name": "stdout",
     "output_type": "stream",
     "text": [
      "Out[4]: s3://full-stack-bigdata-datasets/Big_Data/purple_rain.txt MapPartitionsRDD[18] at textFile at NativeMethodAccessorImpl.java:0"
     ]
    }
   ],
   "source": [
    "text_file"
   ]
  },
  {
   "cell_type": "code",
   "execution_count": 0,
   "metadata": {
    "application/vnd.databricks.v1+cell": {
     "cellMetadata": {
      "byteLimit": 2048000,
      "rowLimit": 10000
     },
     "inputWidgets": {},
     "nuid": "6c1c3105-7ce7-4f5c-8b39-ac628486b3e4",
     "showTitle": false,
     "title": ""
    }
   },
   "outputs": [
    {
     "output_type": "stream",
     "name": "stdout",
     "output_type": "stream",
     "text": [
      "Out[5]: ['I never meant to cause you any sorrow',\n 'I never meant to cause you any pain',\n 'I only wanted one time to see you laughing']"
     ]
    }
   ],
   "source": [
    "text_file.take(3)"
   ]
  },
  {
   "cell_type": "code",
   "execution_count": 0,
   "metadata": {
    "application/vnd.databricks.v1+cell": {
     "cellMetadata": {
      "byteLimit": 2048000,
      "rowLimit": 10000
     },
     "inputWidgets": {},
     "nuid": "1ed7bf48-9005-4f63-a66e-9d3937fb9ca6",
     "showTitle": false,
     "title": ""
    }
   },
   "outputs": [
    {
     "output_type": "stream",
     "name": "stdout",
     "output_type": "stream",
     "text": [
      "Out[6]: [['I', 'never', 'meant', 'to', 'cause', 'you', 'any', 'sorrow'],\n ['I', 'never', 'meant', 'to', 'cause', 'you', 'any', 'pain'],\n ['I', 'only', 'wanted', 'one', 'time', 'to', 'see', 'you', 'laughing']]"
     ]
    }
   ],
   "source": [
    "tokenized_text = text_file.map(lambda line: line.split(' '))\n",
    "tokenized_text.take(3)"
   ]
  },
  {
   "cell_type": "code",
   "execution_count": 0,
   "metadata": {
    "application/vnd.databricks.v1+cell": {
     "cellMetadata": {
      "byteLimit": 2048000,
      "rowLimit": 10000
     },
     "inputWidgets": {},
     "nuid": "d5fb7050-005c-49de-9b98-f08ebe506fc8",
     "showTitle": false,
     "title": ""
    }
   },
   "outputs": [
    {
     "output_type": "stream",
     "name": "stdout",
     "output_type": "stream",
     "text": [
      "Out[7]: ['I', 'never', 'meant', 'to', 'cause', 'you', 'any', 'sorrow', 'I', 'never']"
     ]
    }
   ],
   "source": [
    "tokens = text_file.flatMap(lambda line: line.split(' '))\n",
    "tokens.take(10)"
   ]
  },
  {
   "cell_type": "code",
   "execution_count": 0,
   "metadata": {
    "application/vnd.databricks.v1+cell": {
     "cellMetadata": {
      "byteLimit": 2048000,
      "rowLimit": 10000
     },
     "inputWidgets": {},
     "nuid": "7858a7fa-7348-4063-bf48-7669d11cb12b",
     "showTitle": false,
     "title": ""
    }
   },
   "outputs": [],
   "source": [
    "def token_to_tuple(token):\n",
    "    return (token, 1)"
   ]
  },
  {
   "cell_type": "code",
   "execution_count": 0,
   "metadata": {
    "application/vnd.databricks.v1+cell": {
     "cellMetadata": {
      "byteLimit": 2048000,
      "rowLimit": 10000
     },
     "inputWidgets": {},
     "nuid": "aa7bfbe1-d24a-4463-b7e4-4bcad84e69be",
     "showTitle": false,
     "title": ""
    }
   },
   "outputs": [
    {
     "output_type": "stream",
     "name": "stdout",
     "output_type": "stream",
     "text": [
      "Out[9]: PythonRDD[22] at RDD at PythonRDD.scala:58"
     ]
    }
   ],
   "source": [
    "partial_count = tokens.map(token_to_tuple)\n",
    "partial_count"
   ]
  },
  {
   "cell_type": "code",
   "execution_count": 0,
   "metadata": {
    "application/vnd.databricks.v1+cell": {
     "cellMetadata": {
      "byteLimit": 2048000,
      "rowLimit": 10000
     },
     "inputWidgets": {},
     "nuid": "419d106e-2bcb-4968-a88d-c90e73d8f99e",
     "showTitle": false,
     "title": ""
    }
   },
   "outputs": [
    {
     "output_type": "stream",
     "name": "stdout",
     "output_type": "stream",
     "text": [
      "Out[10]: [('I', 1),\n ('never', 1),\n ('meant', 1),\n ('to', 1),\n ('cause', 1),\n ('you', 1),\n ('any', 1),\n ('sorrow', 1),\n ('I', 1),\n ('never', 1)]"
     ]
    }
   ],
   "source": [
    "partial_count.take(10)"
   ]
  },
  {
   "cell_type": "code",
   "execution_count": 0,
   "metadata": {
    "application/vnd.databricks.v1+cell": {
     "cellMetadata": {
      "byteLimit": 2048000,
      "rowLimit": 10000
     },
     "inputWidgets": {},
     "nuid": "a7ffc127-ca10-432f-8fcb-3906ca365019",
     "showTitle": false,
     "title": ""
    }
   },
   "outputs": [],
   "source": [
    "grouped_by_key = partial_count.groupByKey()"
   ]
  },
  {
   "cell_type": "code",
   "execution_count": 0,
   "metadata": {
    "application/vnd.databricks.v1+cell": {
     "cellMetadata": {
      "byteLimit": 2048000,
      "rowLimit": 10000
     },
     "inputWidgets": {},
     "nuid": "4517f059-d27a-4636-9cfb-36311eb060cb",
     "showTitle": false,
     "title": ""
    }
   },
   "outputs": [
    {
     "output_type": "stream",
     "name": "stdout",
     "output_type": "stream",
     "text": [
      "Out[12]: [('never', <pyspark.resultiterable.ResultIterable at 0x7f6575c46670>),\n ('cause', <pyspark.resultiterable.ResultIterable at 0x7f6575c46880>),\n ('pain', <pyspark.resultiterable.ResultIterable at 0x7f6575c46910>)]"
     ]
    }
   ],
   "source": [
    "grouped_by_key.take(3)"
   ]
  },
  {
   "cell_type": "code",
   "execution_count": 0,
   "metadata": {
    "application/vnd.databricks.v1+cell": {
     "cellMetadata": {
      "byteLimit": 2048000,
      "rowLimit": 10000
     },
     "inputWidgets": {},
     "nuid": "fd979905-c6db-4197-ad75-96f7846f92dd",
     "showTitle": false,
     "title": ""
    }
   },
   "outputs": [
    {
     "output_type": "stream",
     "name": "stdout",
     "output_type": "stream",
     "text": [
      "Out[13]: ('never', <pyspark.resultiterable.ResultIterable at 0x7f6575a85e80>)"
     ]
    }
   ],
   "source": [
    "first_item = grouped_by_key.take(1)[0]\n",
    "first_item"
   ]
  },
  {
   "cell_type": "code",
   "execution_count": 0,
   "metadata": {
    "application/vnd.databricks.v1+cell": {
     "cellMetadata": {
      "byteLimit": 2048000,
      "rowLimit": 10000
     },
     "inputWidgets": {},
     "nuid": "6eeb0a73-25b6-4f85-9b9e-8b976c93fcc9",
     "showTitle": false,
     "title": ""
    }
   },
   "outputs": [],
   "source": [
    "def print_item(item_as_tuple):\n",
    "    token_name, occurences = item_as_tuple\n",
    "    occurences_as_list = list(occurences)\n",
    "    print(f\"{token_name}: {occurences_as_list}\")"
   ]
  },
  {
   "cell_type": "code",
   "execution_count": 0,
   "metadata": {
    "application/vnd.databricks.v1+cell": {
     "cellMetadata": {
      "byteLimit": 2048000,
      "rowLimit": 10000
     },
     "inputWidgets": {},
     "nuid": "ec9b2730-c05a-4483-b81e-ca0727d26013",
     "showTitle": false,
     "title": ""
    }
   },
   "outputs": [
    {
     "output_type": "stream",
     "name": "stdout",
     "output_type": "stream",
     "text": [
      "never: [1, 1, 1, 1]\ncause: [1, 1]\npain: [1]\nonly: [1, 1, 1, 1, 1, 1, 1]\nin: [1, 1]\nrain: [1, 1, 1, 1, 1, 1, 1, 1, 1, 1, 1, 1, 1, 1]\n: [1, 1, 1, 1, 1, 1, 1, 1, 1, 1]\nPurple: [1, 1, 1, 1, 1, 1, 1, 1, 1]\nrain,: [1, 1, 1, 1, 1, 1, 1, 1, 1]\nbathing: [1]\n"
     ]
    }
   ],
   "source": [
    "for item in grouped_by_key.take(10):\n",
    "    print_item(item)"
   ]
  },
  {
   "cell_type": "code",
   "execution_count": 0,
   "metadata": {
    "application/vnd.databricks.v1+cell": {
     "cellMetadata": {
      "byteLimit": 2048000,
      "rowLimit": 10000
     },
     "inputWidgets": {},
     "nuid": "2d5846f0-f4f1-4723-baed-b601bf5a1ef5",
     "showTitle": false,
     "title": ""
    }
   },
   "outputs": [
    {
     "output_type": "stream",
     "name": "stdout",
     "output_type": "stream",
     "text": [
      "Out[16]: [('never', 4),\n ('cause', 2),\n ('pain', 1),\n ('only', 7),\n ('in', 2),\n ('rain', 14),\n ('', 10),\n ('Purple', 9),\n ('rain,', 9),\n ('bathing', 1)]"
     ]
    }
   ],
   "source": [
    "[(token, sum(list(occurences))) for token, occurences in grouped_by_key.take(10)]"
   ]
  },
  {
   "cell_type": "code",
   "execution_count": 0,
   "metadata": {
    "application/vnd.databricks.v1+cell": {
     "cellMetadata": {
      "byteLimit": 2048000,
      "rowLimit": 10000
     },
     "inputWidgets": {},
     "nuid": "d10be5b0-9082-41b6-8304-012cef1aaed6",
     "showTitle": false,
     "title": ""
    }
   },
   "outputs": [],
   "source": [
    "def reduce_function(a, b):\n",
    "    return a + b"
   ]
  },
  {
   "cell_type": "code",
   "execution_count": 0,
   "metadata": {
    "application/vnd.databricks.v1+cell": {
     "cellMetadata": {
      "byteLimit": 2048000,
      "rowLimit": 10000
     },
     "inputWidgets": {},
     "nuid": "75709825-a7de-4cfb-b4db-605f27f6ead5",
     "showTitle": false,
     "title": ""
    }
   },
   "outputs": [],
   "source": [
    "reduced = partial_count.reduceByKey(reduce_function)"
   ]
  },
  {
   "cell_type": "code",
   "execution_count": 0,
   "metadata": {
    "application/vnd.databricks.v1+cell": {
     "cellMetadata": {
      "byteLimit": 2048000,
      "rowLimit": 10000
     },
     "inputWidgets": {},
     "nuid": "48e9ba2d-ffcd-4ff5-9f60-e58d7f60505f",
     "showTitle": false,
     "title": ""
    }
   },
   "outputs": [
    {
     "output_type": "stream",
     "name": "stdout",
     "output_type": "stream",
     "text": [
      "Out[19]: [('never', 4),\n ('cause', 2),\n ('pain', 1),\n ('only', 7),\n ('in', 2),\n ('rain', 14),\n ('', 10),\n ('Purple', 9),\n ('rain,', 9),\n ('bathing', 1)]"
     ]
    }
   ],
   "source": [
    "reduced.take(10)"
   ]
  },
  {
   "cell_type": "code",
   "execution_count": 0,
   "metadata": {
    "application/vnd.databricks.v1+cell": {
     "cellMetadata": {
      "byteLimit": 2048000,
      "rowLimit": 10000
     },
     "inputWidgets": {},
     "nuid": "6f7ba92e-bc2d-4598-bf33-cd72cee5fb87",
     "showTitle": false,
     "title": ""
    }
   },
   "outputs": [
    {
     "output_type": "stream",
     "name": "stdout",
     "output_type": "stream",
     "text": [
      "Out[20]: [('banana', 3), ('orange', 5), ('pineapple', 2)]"
     ]
    }
   ],
   "source": [
    "fruits = [('banana', 3), ('orange', 5), ('pineapple', 2)]\n",
    "fruits"
   ]
  },
  {
   "cell_type": "code",
   "execution_count": 0,
   "metadata": {
    "application/vnd.databricks.v1+cell": {
     "cellMetadata": {
      "byteLimit": 2048000,
      "rowLimit": 10000
     },
     "inputWidgets": {},
     "nuid": "c4d31de8-6ddc-46f8-a87a-029e093aafe5",
     "showTitle": false,
     "title": ""
    }
   },
   "outputs": [
    {
     "output_type": "stream",
     "name": "stdout",
     "output_type": "stream",
     "text": [
      "Out[21]: [('banana', 3), ('orange', 5), ('pineapple', 2)]"
     ]
    }
   ],
   "source": [
    "sorted(fruits)"
   ]
  },
  {
   "cell_type": "code",
   "execution_count": 0,
   "metadata": {
    "application/vnd.databricks.v1+cell": {
     "cellMetadata": {
      "byteLimit": 2048000,
      "rowLimit": 10000
     },
     "inputWidgets": {},
     "nuid": "240670e4-7c4b-4879-9e19-e708f6928e76",
     "showTitle": false,
     "title": ""
    }
   },
   "outputs": [
    {
     "output_type": "stream",
     "name": "stdout",
     "output_type": "stream",
     "text": [
      "Out[22]: [('pineapple', 2), ('banana', 3), ('orange', 5)]"
     ]
    }
   ],
   "source": [
    "sorted(fruits, key=lambda x: x[1])"
   ]
  },
  {
   "cell_type": "code",
   "execution_count": 0,
   "metadata": {
    "application/vnd.databricks.v1+cell": {
     "cellMetadata": {
      "byteLimit": 2048000,
      "rowLimit": 10000
     },
     "inputWidgets": {},
     "nuid": "eb4d0b82-a200-4765-b738-d5574945a085",
     "showTitle": false,
     "title": ""
    }
   },
   "outputs": [],
   "source": [
    "sorted_counts = reduced.sortBy(lambda t: t[1])"
   ]
  },
  {
   "cell_type": "code",
   "execution_count": 0,
   "metadata": {
    "application/vnd.databricks.v1+cell": {
     "cellMetadata": {
      "byteLimit": 2048000,
      "rowLimit": 10000
     },
     "inputWidgets": {},
     "nuid": "c1ee25a3-52b9-4062-ac0c-14b54f92ac33",
     "showTitle": false,
     "title": ""
    }
   },
   "outputs": [
    {
     "output_type": "stream",
     "name": "stdout",
     "output_type": "stream",
     "text": [
      "Out[24]: [('pain', 1),\n ('bathing', 1),\n ('kind', 1),\n ('of', 1),\n ('steal', 1),\n ('end', 1),\n ('underneath', 1),\n ('are', 1),\n ('we', 1),\n ('out', 1)]"
     ]
    }
   ],
   "source": [
    "sorted_counts.take(10)"
   ]
  },
  {
   "cell_type": "code",
   "execution_count": 0,
   "metadata": {
    "application/vnd.databricks.v1+cell": {
     "cellMetadata": {
      "byteLimit": 2048000,
      "rowLimit": 10000
     },
     "inputWidgets": {},
     "nuid": "8980049b-16ea-4fec-80d3-b49146c7ca06",
     "showTitle": false,
     "title": ""
    }
   },
   "outputs": [
    {
     "output_type": "stream",
     "name": "stdout",
     "output_type": "stream",
     "text": [
      "Out[25]: [('orange', 5), ('banana', 3), ('pineapple', 2)]"
     ]
    }
   ],
   "source": [
    "sorted(fruits, key=lambda x: x[1], reverse=True)"
   ]
  },
  {
   "cell_type": "code",
   "execution_count": 0,
   "metadata": {
    "application/vnd.databricks.v1+cell": {
     "cellMetadata": {
      "byteLimit": 2048000,
      "rowLimit": 10000
     },
     "inputWidgets": {},
     "nuid": "aa204e1c-b5ae-4529-89b1-64866f67107d",
     "showTitle": false,
     "title": ""
    }
   },
   "outputs": [],
   "source": [
    "desc_sorted_counts = reduced.sortBy(lambda t: -t[1])"
   ]
  },
  {
   "cell_type": "code",
   "execution_count": 0,
   "metadata": {
    "application/vnd.databricks.v1+cell": {
     "cellMetadata": {
      "byteLimit": 2048000,
      "rowLimit": 10000
     },
     "inputWidgets": {},
     "nuid": "2957020a-586c-4606-be94-e230c492fadf",
     "showTitle": false,
     "title": ""
    }
   },
   "outputs": [
    {
     "output_type": "stream",
     "name": "stdout",
     "output_type": "stream",
     "text": [
      "Out[28]: [('rain', 14),\n ('I', 14),\n ('you', 14),\n ('purple', 14),\n ('to', 13),\n ('', 10),\n ('Purple', 9),\n ('rain,', 9),\n ('only', 7),\n ('see', 6)]"
     ]
    }
   ],
   "source": [
    "desc_sorted_counts.take(10)"
   ]
  },
  {
   "cell_type": "code",
   "execution_count": 0,
   "metadata": {
    "application/vnd.databricks.v1+cell": {
     "cellMetadata": {
      "byteLimit": 2048000,
      "rowLimit": 10000
     },
     "inputWidgets": {},
     "nuid": "cf8fbbf6-a4bc-4a11-8f8e-77dc163f777f",
     "showTitle": false,
     "title": ""
    }
   },
   "outputs": [],
   "source": [
    "def count_words(filepath):\n",
    "    # TODO: implement the content of the function\n",
    "    # \n",
    "    # NOTE: you can remove `pass`\n",
    "    # it's just here to avoid the cell crashing while the\n",
    "    # content of the function is empty\n",
    "    pass\n",
    "    ### BEGIN STRIP ###\n",
    "    return sc.textFile(filepath)\\\n",
    "    .flatMap(lambda line: line.split(' '))\\\n",
    "    .map(lambda word: (word, 1)) \\\n",
    "    .reduceByKey(lambda a, b: a + b) \\\n",
    "    .sortBy(lambda t: -t[1])\n",
    "    ### END STRIP ###"
   ]
  },
  {
   "cell_type": "code",
   "execution_count": 0,
   "metadata": {
    "application/vnd.databricks.v1+cell": {
     "cellMetadata": {
      "byteLimit": 2048000,
      "rowLimit": 10000
     },
     "inputWidgets": {},
     "nuid": "6469cc88-e8c9-4bd2-bf87-82243835f3f0",
     "showTitle": false,
     "title": ""
    }
   },
   "outputs": [
    {
     "output_type": "stream",
     "name": "stdout",
     "output_type": "stream",
     "text": [
      "Out[30]: pyspark.rdd.PipelinedRDD"
     ]
    }
   ],
   "source": [
    "rdd = count_words(FILENAME)\n",
    "type(rdd)"
   ]
  },
  {
   "cell_type": "code",
   "execution_count": 0,
   "metadata": {
    "application/vnd.databricks.v1+cell": {
     "cellMetadata": {
      "byteLimit": 2048000,
      "rowLimit": 10000
     },
     "inputWidgets": {},
     "nuid": "30960928-742b-4972-876b-f7c03d1dd630",
     "showTitle": false,
     "title": ""
    }
   },
   "outputs": [
    {
     "output_type": "stream",
     "name": "stdout",
     "output_type": "stream",
     "text": [
      "Out[31]: [('rain', 14),\n ('I', 14),\n ('you', 14),\n ('purple', 14),\n ('to', 13),\n ('', 10),\n ('Purple', 9),\n ('rain,', 9),\n ('only', 7),\n ('see', 6)]"
     ]
    }
   ],
   "source": [
    "rdd.take(10)"
   ]
  },
  {
   "cell_type": "code",
   "execution_count": 0,
   "metadata": {
    "application/vnd.databricks.v1+cell": {
     "cellMetadata": {},
     "inputWidgets": {},
     "nuid": "f79adf77-ecc8-46d9-9417-7da7bbad3358",
     "showTitle": false,
     "title": ""
    }
   },
   "outputs": [],
   "source": []
  }
 ],
 "metadata": {
  "application/vnd.databricks.v1+notebook": {
   "dashboards": [],
   "environmentMetadata": null,
   "language": "python",
   "notebookMetadata": {
    "pythonIndentUnit": 4
   },
   "notebookName": "Words-count-with-PySpark-RDD-Databricks",
   "widgets": {}
  }
 },
 "nbformat": 4,
 "nbformat_minor": 0
}
