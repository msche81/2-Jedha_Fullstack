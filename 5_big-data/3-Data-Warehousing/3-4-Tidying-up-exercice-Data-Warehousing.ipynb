{
 "cells": [
  {
   "cell_type": "code",
   "execution_count": 0,
   "metadata": {
    "application/vnd.databricks.v1+cell": {
     "cellMetadata": {
      "byteLimit": 2048000,
      "rowLimit": 10000
     },
     "inputWidgets": {},
     "nuid": "1defd596-f4c5-46cf-9d5e-7f86b592e5a4",
     "showTitle": false,
     "title": ""
    }
   },
   "outputs": [],
   "source": [
    "filepath = \"s3://full-stack-bigdata-datasets/Big_Data/YOUTUBE/songs.json\""
   ]
  },
  {
   "cell_type": "code",
   "execution_count": 0,
   "metadata": {
    "application/vnd.databricks.v1+cell": {
     "cellMetadata": {
      "byteLimit": 2048000,
      "rowLimit": 10000
     },
     "inputWidgets": {},
     "nuid": "d2ec0059-4e38-4613-981c-6949e7c716dc",
     "showTitle": false,
     "title": ""
    }
   },
   "outputs": [],
   "source": [
    "df = spark.read.format('json').load(filepath, multiline=True)"
   ]
  },
  {
   "cell_type": "code",
   "execution_count": 0,
   "metadata": {
    "application/vnd.databricks.v1+cell": {
     "cellMetadata": {
      "byteLimit": 2048000,
      "rowLimit": 10000
     },
     "inputWidgets": {},
     "nuid": "9635ab06-59c1-4177-9226-a5d34bcae1ee",
     "showTitle": false,
     "title": ""
    }
   },
   "outputs": [
    {
     "output_type": "stream",
     "name": "stdout",
     "output_type": "stream",
     "text": [
      "root\n |-- etag: string (nullable = true)\n |-- items: array (nullable = true)\n |    |-- element: struct (containsNull = true)\n |    |    |-- contentDetails: struct (nullable = true)\n |    |    |    |-- caption: string (nullable = true)\n |    |    |    |-- contentRating: struct (nullable = true)\n |    |    |    |    |-- ytRating: string (nullable = true)\n |    |    |    |-- definition: string (nullable = true)\n |    |    |    |-- dimension: string (nullable = true)\n |    |    |    |-- duration: string (nullable = true)\n |    |    |    |-- licensedContent: boolean (nullable = true)\n |    |    |    |-- projection: string (nullable = true)\n |    |    |    |-- regionRestriction: struct (nullable = true)\n |    |    |    |    |-- allowed: array (nullable = true)\n |    |    |    |    |    |-- element: string (containsNull = true)\n |    |    |    |    |-- blocked: array (nullable = true)\n |    |    |    |    |    |-- element: string (containsNull = true)\n |    |    |-- etag: string (nullable = true)\n |    |    |-- id: string (nullable = true)\n |    |    |-- kind: string (nullable = true)\n |    |    |-- snippet: struct (nullable = true)\n |    |    |    |-- categoryId: string (nullable = true)\n |    |    |    |-- channelId: string (nullable = true)\n |    |    |    |-- channelTitle: string (nullable = true)\n |    |    |    |-- defaultAudioLanguage: string (nullable = true)\n |    |    |    |-- defaultLanguage: string (nullable = true)\n |    |    |    |-- description: string (nullable = true)\n |    |    |    |-- liveBroadcastContent: string (nullable = true)\n |    |    |    |-- localized: struct (nullable = true)\n |    |    |    |    |-- description: string (nullable = true)\n |    |    |    |    |-- title: string (nullable = true)\n |    |    |    |-- publishedAt: string (nullable = true)\n |    |    |    |-- tags: array (nullable = true)\n |    |    |    |    |-- element: string (containsNull = true)\n |    |    |    |-- thumbnails: struct (nullable = true)\n |    |    |    |    |-- default: struct (nullable = true)\n |    |    |    |    |    |-- height: long (nullable = true)\n |    |    |    |    |    |-- url: string (nullable = true)\n |    |    |    |    |    |-- width: long (nullable = true)\n |    |    |    |    |-- high: struct (nullable = true)\n |    |    |    |    |    |-- height: long (nullable = true)\n |    |    |    |    |    |-- url: string (nullable = true)\n |    |    |    |    |    |-- width: long (nullable = true)\n |    |    |    |    |-- maxres: struct (nullable = true)\n |    |    |    |    |    |-- height: long (nullable = true)\n |    |    |    |    |    |-- url: string (nullable = true)\n |    |    |    |    |    |-- width: long (nullable = true)\n |    |    |    |    |-- medium: struct (nullable = true)\n |    |    |    |    |    |-- height: long (nullable = true)\n |    |    |    |    |    |-- url: string (nullable = true)\n |    |    |    |    |    |-- width: long (nullable = true)\n |    |    |    |    |-- standard: struct (nullable = true)\n |    |    |    |    |    |-- height: long (nullable = true)\n |    |    |    |    |    |-- url: string (nullable = true)\n |    |    |    |    |    |-- width: long (nullable = true)\n |    |    |    |-- title: string (nullable = true)\n |    |    |-- statistics: struct (nullable = true)\n |    |    |    |-- commentCount: string (nullable = true)\n |    |    |    |-- dislikeCount: string (nullable = true)\n |    |    |    |-- favoriteCount: string (nullable = true)\n |    |    |    |-- likeCount: string (nullable = true)\n |    |    |    |-- viewCount: string (nullable = true)\n |    |    |-- status: struct (nullable = true)\n |    |    |    |-- embeddable: boolean (nullable = true)\n |    |    |    |-- license: string (nullable = true)\n |    |    |    |-- madeForKids: boolean (nullable = true)\n |    |    |    |-- privacyStatus: string (nullable = true)\n |    |    |    |-- publicStatsViewable: boolean (nullable = true)\n |    |    |    |-- uploadStatus: string (nullable = true)\n |    |    |-- topicDetails: struct (nullable = true)\n |    |    |    |-- relevantTopicIds: array (nullable = true)\n |    |    |    |    |-- element: string (containsNull = true)\n |    |    |    |-- topicCategories: array (nullable = true)\n |    |    |    |    |-- element: string (containsNull = true)\n |-- kind: string (nullable = true)\n |-- pageInfo: struct (nullable = true)\n |    |-- resultsPerPage: long (nullable = true)\n |    |-- totalResults: long (nullable = true)\n\n"
     ]
    }
   ],
   "source": [
    "df.printSchema()"
   ]
  },
  {
   "cell_type": "code",
   "execution_count": 0,
   "metadata": {
    "application/vnd.databricks.v1+cell": {
     "cellMetadata": {
      "byteLimit": 2048000,
      "rowLimit": 10000
     },
     "inputWidgets": {},
     "nuid": "942f1aa1-b96a-478a-a557-19e959043fa5",
     "showTitle": false,
     "title": ""
    }
   },
   "outputs": [],
   "source": [
    "from pyspark.sql import functions as F"
   ]
  },
  {
   "cell_type": "code",
   "execution_count": 0,
   "metadata": {
    "application/vnd.databricks.v1+cell": {
     "cellMetadata": {
      "byteLimit": 2048000,
      "rowLimit": 10000
     },
     "inputWidgets": {},
     "nuid": "d998c46b-e9bc-4fa8-b190-6f34ac4a3c2a",
     "showTitle": false,
     "title": ""
    }
   },
   "outputs": [
    {
     "output_type": "stream",
     "name": "stdout",
     "output_type": "stream",
     "text": [
      "Out[5]: 3907"
     ]
    }
   ],
   "source": [
    "df.select(F.explode('items')).count()"
   ]
  },
  {
   "cell_type": "code",
   "execution_count": 0,
   "metadata": {
    "application/vnd.databricks.v1+cell": {
     "cellMetadata": {
      "byteLimit": 2048000,
      "rowLimit": 10000
     },
     "inputWidgets": {},
     "nuid": "a312d96e-b467-4b22-b50c-1e0384538fc5",
     "showTitle": false,
     "title": ""
    }
   },
   "outputs": [
    {
     "output_type": "stream",
     "name": "stdout",
     "output_type": "stream",
     "text": [
      "Out[6]: 3907"
     ]
    }
   ],
   "source": [
    "items_df = df.select(F.explode('items').alias('items'))\n",
    "items_df.count()"
   ]
  },
  {
   "cell_type": "code",
   "execution_count": 0,
   "metadata": {
    "application/vnd.databricks.v1+cell": {
     "cellMetadata": {
      "byteLimit": 2048000,
      "rowLimit": 10000
     },
     "inputWidgets": {},
     "nuid": "44fed98c-4198-4dc2-88c5-c11cebb65c66",
     "showTitle": false,
     "title": ""
    }
   },
   "outputs": [
    {
     "output_type": "stream",
     "name": "stdout",
     "output_type": "stream",
     "text": [
      "+--------------------+\n|               items|\n+--------------------+\n|{{false, {null}, ...|\n|{{false, {null}, ...|\n|{{false, {null}, ...|\n|{{false, {null}, ...|\n|{{false, {null}, ...|\n+--------------------+\nonly showing top 5 rows\n\n"
     ]
    }
   ],
   "source": [
    "items_df.show(5)"
   ]
  },
  {
   "cell_type": "code",
   "execution_count": 0,
   "metadata": {
    "application/vnd.databricks.v1+cell": {
     "cellMetadata": {
      "byteLimit": 2048000,
      "rowLimit": 10000
     },
     "inputWidgets": {},
     "nuid": "794db0d8-53ea-4537-8e91-b987c7095715",
     "showTitle": false,
     "title": ""
    }
   },
   "outputs": [
    {
     "output_type": "stream",
     "name": "stderr",
     "output_type": "stream",
     "text": [
      "/databricks/spark/python/pyspark/sql/pandas/conversion.py:122: UserWarning: toPandas attempted Arrow optimization because 'spark.sql.execution.arrow.pyspark.enabled' is set to true; however, failed by the reason below:\n  Unable to convert the field items. If this column is not necessary, you may consider dropping it or converting to primitive type before the conversion.\nDirect cause: Nested StructType not supported in conversion to Arrow\nAttempting non-optimization as 'spark.sql.execution.arrow.pyspark.fallback.enabled' is set to true.\n  warn(msg)\n"
     ]
    },
    {
     "output_type": "display_data",
     "data": {
      "text/html": [
       "<div>\n",
       "<style scoped>\n",
       "    .dataframe tbody tr th:only-of-type {\n",
       "        vertical-align: middle;\n",
       "    }\n",
       "\n",
       "    .dataframe tbody tr th {\n",
       "        vertical-align: top;\n",
       "    }\n",
       "\n",
       "    .dataframe thead th {\n",
       "        text-align: right;\n",
       "    }\n",
       "</style>\n",
       "<table border=\"1\" class=\"dataframe\">\n",
       "  <thead>\n",
       "    <tr style=\"text-align: right;\">\n",
       "      <th></th>\n",
       "      <th>items</th>\n",
       "    </tr>\n",
       "  </thead>\n",
       "  <tbody>\n",
       "    <tr>\n",
       "      <th>0</th>\n",
       "      <td>((false, (None,), sd, 2d, PT3M33S, True, recta...</td>\n",
       "    </tr>\n",
       "    <tr>\n",
       "      <th>1</th>\n",
       "      <td>((false, (None,), hd, 2d, PT7M46S, False, rect...</td>\n",
       "    </tr>\n",
       "    <tr>\n",
       "      <th>2</th>\n",
       "      <td>((false, (None,), sd, 2d, PT3M7S, False, recta...</td>\n",
       "    </tr>\n",
       "    <tr>\n",
       "      <th>3</th>\n",
       "      <td>((false, (None,), hd, 2d, PT3M43S, False, rect...</td>\n",
       "    </tr>\n",
       "    <tr>\n",
       "      <th>4</th>\n",
       "      <td>((false, (None,), hd, 2d, PT5M, False, rectang...</td>\n",
       "    </tr>\n",
       "  </tbody>\n",
       "</table>\n",
       "</div>"
      ]
     },
     "metadata": {
      "application/vnd.databricks.v1+output": {
       "addedWidgets": {},
       "arguments": {},
       "data": "<div>\n<style scoped>\n    .dataframe tbody tr th:only-of-type {\n        vertical-align: middle;\n    }\n\n    .dataframe tbody tr th {\n        vertical-align: top;\n    }\n\n    .dataframe thead th {\n        text-align: right;\n    }\n</style>\n<table border=\"1\" class=\"dataframe\">\n  <thead>\n    <tr style=\"text-align: right;\">\n      <th></th>\n      <th>items</th>\n    </tr>\n  </thead>\n  <tbody>\n    <tr>\n      <th>0</th>\n      <td>((false, (None,), sd, 2d, PT3M33S, True, recta...</td>\n    </tr>\n    <tr>\n      <th>1</th>\n      <td>((false, (None,), hd, 2d, PT7M46S, False, rect...</td>\n    </tr>\n    <tr>\n      <th>2</th>\n      <td>((false, (None,), sd, 2d, PT3M7S, False, recta...</td>\n    </tr>\n    <tr>\n      <th>3</th>\n      <td>((false, (None,), hd, 2d, PT3M43S, False, rect...</td>\n    </tr>\n    <tr>\n      <th>4</th>\n      <td>((false, (None,), hd, 2d, PT5M, False, rectang...</td>\n    </tr>\n  </tbody>\n</table>\n</div>",
       "datasetInfos": [],
       "metadata": {},
       "removedWidgets": [],
       "textData": null,
       "type": "htmlSandbox"
      }
     },
     "output_type": "display_data"
    }
   ],
   "source": [
    "items_df.limit(5).toPandas()"
   ]
  },
  {
   "cell_type": "code",
   "execution_count": 0,
   "metadata": {
    "application/vnd.databricks.v1+cell": {
     "cellMetadata": {},
     "inputWidgets": {},
     "nuid": "7a30b971-6509-4579-a38c-9d5afe047220",
     "showTitle": false,
     "title": ""
    }
   },
   "outputs": [],
   "source": []
  }
 ],
 "metadata": {
  "application/vnd.databricks.v1+notebook": {
   "dashboards": [],
   "environmentMetadata": null,
   "language": "python",
   "notebookMetadata": {
    "pythonIndentUnit": 4
   },
   "notebookName": "3-4-Tidying-up-exercice-Data-Warehousing.ipynb",
   "widgets": {}
  }
 },
 "nbformat": 4,
 "nbformat_minor": 0
}
