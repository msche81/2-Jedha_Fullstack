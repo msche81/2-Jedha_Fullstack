{
 "cells": [
  {
   "cell_type": "code",
   "execution_count": 3,
   "metadata": {},
   "outputs": [],
   "source": [
    "import numpy as np\n",
    "from sklearn.linear_model import LinearRegression"
   ]
  },
  {
   "cell_type": "code",
   "execution_count": 4,
   "metadata": {},
   "outputs": [
    {
     "name": "stdout",
     "output_type": "stream",
     "text": [
      "Sum of Square Total 9.74\n",
      "Sum of Square Explained 9.612353658536586\n",
      "Sum of Square Residual 0.12764634146341436\n",
      "\n",
      "\n",
      "R square 0.9868946261331196\n",
      "R square 0.9868946261331196\n",
      "R square adjusted 0.9737892522662392\n"
     ]
    }
   ],
   "source": [
    "## cours JEDHA\n",
    "# SST, SSE and SSR have to be calculated manually\n",
    "# generate some example data\n",
    "X = np.array([\n",
    "    [1,3,5,6,7],\n",
    "    [4.6, 3.7, 3.4, 3.0, 3.1]\n",
    "]).transpose()\n",
    "Y = np.array([2.1, 3.5, 4.4, 5.6, 5.9])\n",
    "\n",
    "from sklearn.linear_model import LinearRegression\n",
    "model = LinearRegression() # create and instanceof the model\n",
    "\n",
    "model.fit(X,Y) # fit the model\n",
    "\n",
    "# calculate evaluation metrics\n",
    "SST = np.sum(np.square(Y - np.mean(Y)))\n",
    "print(\"Sum of Square Total {}\".format(SST))\n",
    "\n",
    "SSE = np.sum(np.square(model.predict(X) - np.mean(Y)))\n",
    "print(\"Sum of Square Explained {}\".format(SSE))\n",
    "\n",
    "SSR = np.sum(np.square(Y - model.predict(X)))\n",
    "print(\"Sum of Square Residual {}\".format(SSR))\n",
    "print(\"\\n\")\n",
    "\n",
    "# calculate R square and adjusted R-square\n",
    "R_2 = 1 - SSR/SST\n",
    "print(\"R square {}\".format(R_2))\n",
    "R_2_alt = model.score(X,Y) # alternative method to calculate R square\n",
    "print(\"R square {}\".format(R_2_alt))\n",
    "n = X.shape[0]\n",
    "p = X.shape[1]\n",
    "R_2_adj = 1 - (n-1)/(n-p-1)*(1-R_2)\n",
    "print(\"R square adjusted {}\".format(R_2_adj))"
   ]
  },
  {
   "cell_type": "code",
   "execution_count": 5,
   "metadata": {},
   "outputs": [
    {
     "name": "stdout",
     "output_type": "stream",
     "text": [
      "Sum of Squares Total (SST): 9.74\n",
      "Sum of Squares Explained (SSE): 9.612353658536586\n",
      "Sum of Squares Residual (SSR): 0.12764634146341436\n",
      "\n",
      "R square (manually calculated): 0.9868946261331196\n",
      "R square (from sklearn): 0.9868946261331196\n",
      "Adjusted R square: 0.9737892522662392\n"
     ]
    }
   ],
   "source": [
    "# code chatgpt\n",
    "import numpy as np\n",
    "from sklearn.linear_model import LinearRegression\n",
    "\n",
    "# Génération des données exemple\n",
    "X = np.array([\n",
    "    [1, 3, 5, 6, 7],\n",
    "    [4.6, 3.7, 3.4, 3.0, 3.1]\n",
    "]).transpose()\n",
    "Y = np.array([2.1, 3.5, 4.4, 5.6, 5.9])\n",
    "\n",
    "# Création et ajustement du modèle\n",
    "model = LinearRegression()\n",
    "model.fit(X, Y)\n",
    "\n",
    "# Calcul des SST, SSE, SSR manuellement\n",
    "SST = np.sum(np.square(Y - np.mean(Y)))\n",
    "SSE = np.sum(np.square(model.predict(X) - np.mean(Y)))\n",
    "SSR = np.sum(np.square(Y - model.predict(X)))\n",
    "\n",
    "# Affichage des résultats avec f-strings\n",
    "print(f\"Sum of Squares Total (SST): {SST}\")\n",
    "print(f\"Sum of Squares Explained (SSE): {SSE}\")\n",
    "print(f\"Sum of Squares Residual (SSR): {SSR}\\n\")\n",
    "\n",
    "# Calcul de R carré et de R carré ajusté\n",
    "R_2 = 1 - SSR / SST\n",
    "R_2_alt = model.score(X, Y)  # Méthode alternative pour R^2 avec scikit-learn\n",
    "n = X.shape[0]  # Nombre d'observations\n",
    "p = X.shape[1]  # Nombre de prédicteurs\n",
    "\n",
    "R_2_adj = 1 - (n - 1) / (n - p - 1) * (1 - R_2)\n",
    "\n",
    "print(f\"R square (manually calculated): {R_2}\")\n",
    "print(f\"R square (from sklearn): {R_2_alt}\")\n",
    "print(f\"Adjusted R square: {R_2_adj}\")"
   ]
  },
  {
   "cell_type": "code",
   "execution_count": 6,
   "metadata": {},
   "outputs": [
    {
     "name": "stdout",
     "output_type": "stream",
     "text": [
      "\n",
      "\n",
      "-----------------------------------------------------------------------------------------\n",
      "------------------------Results from statsmodels-----------------------------------------\n",
      "-----------------------------------------------------------------------------------------\n",
      "\n",
      "\n",
      "                            OLS Regression Results                            \n",
      "==============================================================================\n",
      "Dep. Variable:                      y   R-squared:                       0.987\n",
      "Model:                            OLS   Adj. R-squared:                  0.974\n",
      "Method:                 Least Squares   F-statistic:                     75.30\n",
      "Date:                Mon, 21 Oct 2024   Prob (F-statistic):             0.0131\n",
      "Time:                        10:34:55   Log-Likelihood:                 2.0751\n",
      "No. Observations:                   5   AIC:                             1.850\n",
      "Df Residuals:                       2   BIC:                            0.6781\n",
      "Df Model:                           2                                         \n",
      "Covariance Type:            nonrobust                                         \n",
      "==============================================================================\n",
      "                 coef    std err          t      P>|t|      [0.025      0.975]\n",
      "------------------------------------------------------------------------------\n",
      "const          4.0554      3.157      1.285      0.328      -9.527      17.638\n",
      "x1             0.5016      0.179      2.798      0.108      -0.270       1.273\n",
      "x2            -0.5512      0.672     -0.820      0.498      -3.442       2.340\n",
      "==============================================================================\n",
      "Omnibus:                          nan   Durbin-Watson:                   2.600\n",
      "Prob(Omnibus):                    nan   Jarque-Bera (JB):                0.614\n",
      "Skew:                          -0.828   Prob(JB):                        0.736\n",
      "Kurtosis:                       2.548   Cond. No.                         169.\n",
      "==============================================================================\n",
      "\n",
      "Notes:\n",
      "[1] Standard Errors assume that the covariance matrix of the errors is correctly specified.\n"
     ]
    },
    {
     "name": "stderr",
     "output_type": "stream",
     "text": [
      "/Users/marie-sophiechenevier/Library/CloudStorage/Dropbox/8-Jedha/GitHub/2-Jedha_Fullstack/.venv/lib/python3.12/site-packages/statsmodels/stats/stattools.py:74: ValueWarning: omni_normtest is not valid with less than 8 observations; 5 samples were given.\n",
      "  warn(\"omni_normtest is not valid with less than 8 observations; %i \"\n"
     ]
    }
   ],
   "source": [
    "## cours JEDHA\n",
    "# # alternative solution with library statsmodels (useful mainly for linear models)\n",
    "import statsmodels.api as sm\n",
    "\n",
    "X2 = sm.add_constant(X) # the coefficient beta_0 also called intercept is not automatically included, so we need to manually add a constant variable equal to one.\n",
    "est = sm.OLS(Y, X2)\n",
    "est2 = est.fit()\n",
    "print(\"\\n\")\n",
    "print(\"-----------------------------------------------------------------------------------------\")\n",
    "print(\"------------------------Results from statsmodels-----------------------------------------\")\n",
    "print(\"-----------------------------------------------------------------------------------------\")\n",
    "print(\"\\n\")\n",
    "print(est2.summary())"
   ]
  },
  {
   "cell_type": "code",
   "execution_count": 7,
   "metadata": {},
   "outputs": [
    {
     "name": "stdout",
     "output_type": "stream",
     "text": [
      "\n",
      "------------------------------------------------------------------------------------------\n",
      "Résultats du modèle de régression linéaire (statsmodels)\n",
      "\n",
      "                            OLS Regression Results                            \n",
      "==============================================================================\n",
      "Dep. Variable:                      y   R-squared:                       0.987\n",
      "Model:                            OLS   Adj. R-squared:                  0.974\n",
      "Method:                 Least Squares   F-statistic:                     75.30\n",
      "Date:                Mon, 21 Oct 2024   Prob (F-statistic):             0.0131\n",
      "Time:                        10:41:33   Log-Likelihood:                 2.0751\n",
      "No. Observations:                   5   AIC:                             1.850\n",
      "Df Residuals:                       2   BIC:                            0.6781\n",
      "Df Model:                           2                                         \n",
      "Covariance Type:            nonrobust                                         \n",
      "==============================================================================\n",
      "                 coef    std err          t      P>|t|      [0.025      0.975]\n",
      "------------------------------------------------------------------------------\n",
      "const          4.0554      3.157      1.285      0.328      -9.527      17.638\n",
      "x1             0.5016      0.179      2.798      0.108      -0.270       1.273\n",
      "x2            -0.5512      0.672     -0.820      0.498      -3.442       2.340\n",
      "==============================================================================\n",
      "Omnibus:                          nan   Durbin-Watson:                   2.600\n",
      "Prob(Omnibus):                    nan   Jarque-Bera (JB):                0.614\n",
      "Skew:                          -0.828   Prob(JB):                        0.736\n",
      "Kurtosis:                       2.548   Cond. No.                         169.\n",
      "==============================================================================\n",
      "\n",
      "Notes:\n",
      "[1] Standard Errors assume that the covariance matrix of the errors is correctly specified.\n",
      "------------------------------------------------------------------------------------------\n",
      "\n"
     ]
    },
    {
     "name": "stderr",
     "output_type": "stream",
     "text": [
      "/Users/marie-sophiechenevier/Library/CloudStorage/Dropbox/8-Jedha/GitHub/2-Jedha_Fullstack/.venv/lib/python3.12/site-packages/statsmodels/stats/stattools.py:74: ValueWarning: omni_normtest is not valid with less than 8 observations; 5 samples were given.\n",
      "  warn(\"omni_normtest is not valid with less than 8 observations; %i \"\n"
     ]
    }
   ],
   "source": [
    "import statsmodels.api as sm\n",
    "\n",
    "def fit_and_summarize_ols(X, Y):\n",
    "    \"\"\"Ajoute une constante, ajuste un modèle OLS, et affiche un résumé.\"\"\"\n",
    "    X_with_intercept = sm.add_constant(X)  # Ajout de l'intercept (constante)\n",
    "    \n",
    "    model = sm.OLS(Y, X_with_intercept)    # Création du modèle OLS\n",
    "    results = model.fit()                  # Ajustement du modèle\n",
    "    \n",
    "    # Affichage structuré des résultats\n",
    "    print(\"\\n\" + \"-\"*90)\n",
    "    print(\"Résultats du modèle de régression linéaire (statsmodels)\\n\")\n",
    "    print(results.summary())\n",
    "    print(\"-\"*90 + \"\\n\")\n",
    "\n",
    "# Exemple d'utilisation avec tes données\n",
    "X = np.array([\n",
    "    [1, 3, 5, 6, 7],\n",
    "    [4.6, 3.7, 3.4, 3.0, 3.1]\n",
    "]).transpose()\n",
    "Y = np.array([2.1, 3.5, 4.4, 5.6, 5.9])\n",
    "\n",
    "fit_and_summarize_ols(X, Y)"
   ]
  },
  {
   "cell_type": "code",
   "execution_count": null,
   "metadata": {},
   "outputs": [],
   "source": []
  }
 ],
 "metadata": {
  "kernelspec": {
   "display_name": ".venv",
   "language": "python",
   "name": "python3"
  },
  "language_info": {
   "codemirror_mode": {
    "name": "ipython",
    "version": 3
   },
   "file_extension": ".py",
   "mimetype": "text/x-python",
   "name": "python",
   "nbconvert_exporter": "python",
   "pygments_lexer": "ipython3",
   "version": "3.12.7"
  }
 },
 "nbformat": 4,
 "nbformat_minor": 2
}
